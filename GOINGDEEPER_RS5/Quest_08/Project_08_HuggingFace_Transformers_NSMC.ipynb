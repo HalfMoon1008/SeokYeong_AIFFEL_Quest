{
  "nbformat": 4,
  "nbformat_minor": 0,
  "metadata": {
    "colab": {
      "provenance": [],
      "machine_shape": "hm",
      "gpuType": "A100"
    },
    "kernelspec": {
      "name": "python3",
      "display_name": "Python 3"
    },
    "language_info": {
      "name": "python"
    },
    "accelerator": "GPU"
  },
  "cells": [
    {
      "cell_type": "markdown",
      "source": [
        "# **24. HuggingFace 커스텀 프로젝트 만들기 [프로젝트]**\n",
        "<br>"
      ],
      "metadata": {
        "id": "WqFmTLa6zz1-"
      }
    },
    {
      "cell_type": "markdown",
      "source": [
        "# **24-1. 프로젝트 : 커스텀 프로젝트 직접 만들기**\n",
        "<br>"
      ],
      "metadata": {
        "id": "JCq5HuGs0b9C"
      }
    },
    {
      "cell_type": "markdown",
      "source": [
        "### **라이브러리 버전 확인**\n",
        "<br>"
      ],
      "metadata": {
        "id": "j6jiKqF40gmq"
      }
    },
    {
      "cell_type": "code",
      "source": [
        "!pip uninstall transformers -y\n",
        "!pip install transformers"
      ],
      "metadata": {
        "colab": {
          "base_uri": "https://localhost:8080/",
          "height": 561
        },
        "id": "54qbf1CO0ty6",
        "outputId": "1a70d81f-6164-413c-ba9c-57cf6a160736"
      },
      "execution_count": 103,
      "outputs": [
        {
          "output_type": "stream",
          "name": "stdout",
          "text": [
            "Found existing installation: transformers 4.33.1\n",
            "Uninstalling transformers-4.33.1:\n",
            "  Successfully uninstalled transformers-4.33.1\n",
            "Collecting transformers\n",
            "  Using cached transformers-4.33.1-py3-none-any.whl (7.6 MB)\n",
            "Requirement already satisfied: filelock in /usr/local/lib/python3.10/dist-packages (from transformers) (3.12.2)\n",
            "Requirement already satisfied: huggingface-hub<1.0,>=0.15.1 in /usr/local/lib/python3.10/dist-packages (from transformers) (0.17.1)\n",
            "Requirement already satisfied: numpy>=1.17 in /usr/local/lib/python3.10/dist-packages (from transformers) (1.23.5)\n",
            "Requirement already satisfied: packaging>=20.0 in /usr/local/lib/python3.10/dist-packages (from transformers) (23.1)\n",
            "Requirement already satisfied: pyyaml>=5.1 in /usr/local/lib/python3.10/dist-packages (from transformers) (6.0.1)\n",
            "Requirement already satisfied: regex!=2019.12.17 in /usr/local/lib/python3.10/dist-packages (from transformers) (2023.6.3)\n",
            "Requirement already satisfied: requests in /usr/local/lib/python3.10/dist-packages (from transformers) (2.31.0)\n",
            "Requirement already satisfied: tokenizers!=0.11.3,<0.14,>=0.11.1 in /usr/local/lib/python3.10/dist-packages (from transformers) (0.13.3)\n",
            "Requirement already satisfied: safetensors>=0.3.1 in /usr/local/lib/python3.10/dist-packages (from transformers) (0.3.3)\n",
            "Requirement already satisfied: tqdm>=4.27 in /usr/local/lib/python3.10/dist-packages (from transformers) (4.66.1)\n",
            "Requirement already satisfied: fsspec in /usr/local/lib/python3.10/dist-packages (from huggingface-hub<1.0,>=0.15.1->transformers) (2023.6.0)\n",
            "Requirement already satisfied: typing-extensions>=3.7.4.3 in /usr/local/lib/python3.10/dist-packages (from huggingface-hub<1.0,>=0.15.1->transformers) (4.5.0)\n",
            "Requirement already satisfied: charset-normalizer<4,>=2 in /usr/local/lib/python3.10/dist-packages (from requests->transformers) (3.2.0)\n",
            "Requirement already satisfied: idna<4,>=2.5 in /usr/local/lib/python3.10/dist-packages (from requests->transformers) (3.4)\n",
            "Requirement already satisfied: urllib3<3,>=1.21.1 in /usr/local/lib/python3.10/dist-packages (from requests->transformers) (2.0.4)\n",
            "Requirement already satisfied: certifi>=2017.4.17 in /usr/local/lib/python3.10/dist-packages (from requests->transformers) (2023.7.22)\n",
            "Installing collected packages: transformers\n",
            "Successfully installed transformers-4.33.1\n"
          ]
        },
        {
          "output_type": "display_data",
          "data": {
            "application/vnd.colab-display-data+json": {
              "pip_warning": {
                "packages": [
                  "transformers"
                ]
              }
            }
          },
          "metadata": {}
        }
      ]
    },
    {
      "cell_type": "code",
      "source": [
        "!pip install datasets"
      ],
      "metadata": {
        "colab": {
          "base_uri": "https://localhost:8080/"
        },
        "id": "lJaFrwOM0__T",
        "outputId": "a4ce0f7e-e171-4112-de5e-b78fba74f6eb"
      },
      "execution_count": 104,
      "outputs": [
        {
          "output_type": "stream",
          "name": "stdout",
          "text": [
            "Requirement already satisfied: datasets in /usr/local/lib/python3.10/dist-packages (2.14.5)\n",
            "Requirement already satisfied: numpy>=1.17 in /usr/local/lib/python3.10/dist-packages (from datasets) (1.23.5)\n",
            "Requirement already satisfied: pyarrow>=8.0.0 in /usr/local/lib/python3.10/dist-packages (from datasets) (9.0.0)\n",
            "Requirement already satisfied: dill<0.3.8,>=0.3.0 in /usr/local/lib/python3.10/dist-packages (from datasets) (0.3.7)\n",
            "Requirement already satisfied: pandas in /usr/local/lib/python3.10/dist-packages (from datasets) (1.5.3)\n",
            "Requirement already satisfied: requests>=2.19.0 in /usr/local/lib/python3.10/dist-packages (from datasets) (2.31.0)\n",
            "Requirement already satisfied: tqdm>=4.62.1 in /usr/local/lib/python3.10/dist-packages (from datasets) (4.66.1)\n",
            "Requirement already satisfied: xxhash in /usr/local/lib/python3.10/dist-packages (from datasets) (3.3.0)\n",
            "Requirement already satisfied: multiprocess in /usr/local/lib/python3.10/dist-packages (from datasets) (0.70.15)\n",
            "Requirement already satisfied: fsspec[http]<2023.9.0,>=2023.1.0 in /usr/local/lib/python3.10/dist-packages (from datasets) (2023.6.0)\n",
            "Requirement already satisfied: aiohttp in /usr/local/lib/python3.10/dist-packages (from datasets) (3.8.5)\n",
            "Requirement already satisfied: huggingface-hub<1.0.0,>=0.14.0 in /usr/local/lib/python3.10/dist-packages (from datasets) (0.17.1)\n",
            "Requirement already satisfied: packaging in /usr/local/lib/python3.10/dist-packages (from datasets) (23.1)\n",
            "Requirement already satisfied: pyyaml>=5.1 in /usr/local/lib/python3.10/dist-packages (from datasets) (6.0.1)\n",
            "Requirement already satisfied: attrs>=17.3.0 in /usr/local/lib/python3.10/dist-packages (from aiohttp->datasets) (23.1.0)\n",
            "Requirement already satisfied: charset-normalizer<4.0,>=2.0 in /usr/local/lib/python3.10/dist-packages (from aiohttp->datasets) (3.2.0)\n",
            "Requirement already satisfied: multidict<7.0,>=4.5 in /usr/local/lib/python3.10/dist-packages (from aiohttp->datasets) (6.0.4)\n",
            "Requirement already satisfied: async-timeout<5.0,>=4.0.0a3 in /usr/local/lib/python3.10/dist-packages (from aiohttp->datasets) (4.0.3)\n",
            "Requirement already satisfied: yarl<2.0,>=1.0 in /usr/local/lib/python3.10/dist-packages (from aiohttp->datasets) (1.9.2)\n",
            "Requirement already satisfied: frozenlist>=1.1.1 in /usr/local/lib/python3.10/dist-packages (from aiohttp->datasets) (1.4.0)\n",
            "Requirement already satisfied: aiosignal>=1.1.2 in /usr/local/lib/python3.10/dist-packages (from aiohttp->datasets) (1.3.1)\n",
            "Requirement already satisfied: filelock in /usr/local/lib/python3.10/dist-packages (from huggingface-hub<1.0.0,>=0.14.0->datasets) (3.12.2)\n",
            "Requirement already satisfied: typing-extensions>=3.7.4.3 in /usr/local/lib/python3.10/dist-packages (from huggingface-hub<1.0.0,>=0.14.0->datasets) (4.5.0)\n",
            "Requirement already satisfied: idna<4,>=2.5 in /usr/local/lib/python3.10/dist-packages (from requests>=2.19.0->datasets) (3.4)\n",
            "Requirement already satisfied: urllib3<3,>=1.21.1 in /usr/local/lib/python3.10/dist-packages (from requests>=2.19.0->datasets) (2.0.4)\n",
            "Requirement already satisfied: certifi>=2017.4.17 in /usr/local/lib/python3.10/dist-packages (from requests>=2.19.0->datasets) (2023.7.22)\n",
            "Requirement already satisfied: python-dateutil>=2.8.1 in /usr/local/lib/python3.10/dist-packages (from pandas->datasets) (2.8.2)\n",
            "Requirement already satisfied: pytz>=2020.1 in /usr/local/lib/python3.10/dist-packages (from pandas->datasets) (2023.3.post1)\n",
            "Requirement already satisfied: six>=1.5 in /usr/local/lib/python3.10/dist-packages (from python-dateutil>=2.8.1->pandas->datasets) (1.16.0)\n"
          ]
        }
      ]
    },
    {
      "cell_type": "code",
      "execution_count": 105,
      "metadata": {
        "id": "yIAIFoLUzzQI"
      },
      "outputs": [],
      "source": [
        "import tensorflow as tf\n",
        "import numpy as np\n",
        "import transformers\n",
        "import datasets"
      ]
    },
    {
      "cell_type": "code",
      "source": [
        "print(tf.__version__)\n",
        "print(np.__version__)\n",
        "print(transformers.__version__)\n",
        "print(datasets.__version__)"
      ],
      "metadata": {
        "colab": {
          "base_uri": "https://localhost:8080/"
        },
        "id": "srqi8vOM0otD",
        "outputId": "fa4cfba1-ba30-4d49-ec4e-7cc0b34b34fc"
      },
      "execution_count": 106,
      "outputs": [
        {
          "output_type": "stream",
          "name": "stdout",
          "text": [
            "2.13.0\n",
            "1.23.5\n",
            "4.33.1\n",
            "2.14.5\n"
          ]
        }
      ]
    },
    {
      "cell_type": "markdown",
      "source": [
        "<br><br>"
      ],
      "metadata": {
        "id": "4ynwMk6-1LgC"
      }
    },
    {
      "cell_type": "markdown",
      "source": [
        "### **STEP 1. NSMC 데이터 분석 및 Huggingface dataset 구성**\n",
        "<br>"
      ],
      "metadata": {
        "id": "UUMQTj0B1LmE"
      }
    },
    {
      "cell_type": "code",
      "source": [
        "# NSMC 데이터셋 불러오기"
      ],
      "metadata": {
        "id": "xDgPvXMy5uRP"
      },
      "execution_count": 107,
      "outputs": []
    },
    {
      "cell_type": "code",
      "source": [
        "from datasets import load_dataset"
      ],
      "metadata": {
        "id": "D4TGfw-H0ptK"
      },
      "execution_count": 108,
      "outputs": []
    },
    {
      "cell_type": "code",
      "source": [
        "nsmc_dataset = load_dataset(\"nsmc\")"
      ],
      "metadata": {
        "id": "Mqk_ZR0P1rv7"
      },
      "execution_count": 537,
      "outputs": []
    },
    {
      "cell_type": "markdown",
      "source": [
        "<br>"
      ],
      "metadata": {
        "id": "mTDCUJcq5rug"
      }
    },
    {
      "cell_type": "code",
      "source": [
        "# NSMC 데이터 확인 및 분석"
      ],
      "metadata": {
        "id": "uGzRtVHX5x8w"
      },
      "execution_count": 110,
      "outputs": []
    },
    {
      "cell_type": "code",
      "source": [
        "nsmc_dataset"
      ],
      "metadata": {
        "colab": {
          "base_uri": "https://localhost:8080/"
        },
        "id": "d6FygmZT3LeF",
        "outputId": "970e637a-0932-49f8-f857-3450167a0c4f"
      },
      "execution_count": 538,
      "outputs": [
        {
          "output_type": "execute_result",
          "data": {
            "text/plain": [
              "DatasetDict({\n",
              "    train: Dataset({\n",
              "        features: ['id', 'document', 'label'],\n",
              "        num_rows: 150000\n",
              "    })\n",
              "    test: Dataset({\n",
              "        features: ['id', 'document', 'label'],\n",
              "        num_rows: 50000\n",
              "    })\n",
              "})"
            ]
          },
          "metadata": {},
          "execution_count": 538
        }
      ]
    },
    {
      "cell_type": "code",
      "source": [
        "# Train 데이터셋에서 각 특성의 값을 2개 샘플 출력\n",
        "for i in range(2):\n",
        "    print(f\"Sample {i+1}:\")\n",
        "    print(\"ID:\", nsmc_dataset['train']['id'][i])\n",
        "    print(\"Document:\", nsmc_dataset['train']['document'][i])\n",
        "    print(\"Label:\", nsmc_dataset['train']['label'][i])\n",
        "    print(\"-\" * 50)"
      ],
      "metadata": {
        "colab": {
          "base_uri": "https://localhost:8080/"
        },
        "id": "LdEiWpAl5mpi",
        "outputId": "34c44dc0-0bc3-488b-e968-7b5af11df6b5"
      },
      "execution_count": 539,
      "outputs": [
        {
          "output_type": "stream",
          "name": "stdout",
          "text": [
            "Sample 1:\n",
            "ID: 9976970\n",
            "Document: 아 더빙.. 진짜 짜증나네요 목소리\n",
            "Label: 0\n",
            "--------------------------------------------------\n",
            "Sample 2:\n",
            "ID: 3819312\n",
            "Document: 흠...포스터보고 초딩영화줄....오버연기조차 가볍지 않구나\n",
            "Label: 1\n",
            "--------------------------------------------------\n"
          ]
        }
      ]
    },
    {
      "cell_type": "markdown",
      "source": [
        "<br>"
      ],
      "metadata": {
        "id": "41rgdCDF3jHC"
      }
    },
    {
      "cell_type": "code",
      "source": [
        "# train set에서 text와 label만 추출하여 가공하기"
      ],
      "metadata": {
        "id": "j1BEqpiG6R6B"
      },
      "execution_count": 113,
      "outputs": []
    },
    {
      "cell_type": "code",
      "source": [
        "# 데이터 처리 함수\n",
        "def process_data(batch):\n",
        "    return {\"text\": batch[\"document\"], \"label\": batch[\"label\"]}"
      ],
      "metadata": {
        "id": "R9D4KrEV67FY"
      },
      "execution_count": 540,
      "outputs": []
    },
    {
      "cell_type": "code",
      "source": [
        "# Train dataset 가공\n",
        "processed_train_dataset = nsmc_dataset[\"train\"].map(process_data, remove_columns=[\"id\", \"document\"])"
      ],
      "metadata": {
        "id": "IW8N0RNl6R9P"
      },
      "execution_count": 541,
      "outputs": []
    },
    {
      "cell_type": "code",
      "source": [
        "# Test dataset 가공\n",
        "processed_test_dataset = nsmc_dataset[\"test\"].map(process_data, remove_columns=[\"id\", \"document\"])"
      ],
      "metadata": {
        "id": "qQ6Kj8-w6SAY"
      },
      "execution_count": 542,
      "outputs": []
    },
    {
      "cell_type": "markdown",
      "source": [
        "<br>"
      ],
      "metadata": {
        "id": "efkr8NjE7EzA"
      }
    },
    {
      "cell_type": "code",
      "source": [
        "# 결과 확인\n",
        "print(\"Train Set Sample:\")\n",
        "print(processed_train_dataset[0])\n",
        "print(\"-\" * 50)\n",
        "\n",
        "print(\"Test Set Sample:\")\n",
        "print(processed_test_dataset[0])"
      ],
      "metadata": {
        "colab": {
          "base_uri": "https://localhost:8080/"
        },
        "id": "5AG62Tji3oDY",
        "outputId": "db7cec76-4238-4747-9b9e-ed2c7690da7d"
      },
      "execution_count": 543,
      "outputs": [
        {
          "output_type": "stream",
          "name": "stdout",
          "text": [
            "Train Set Sample:\n",
            "{'label': 0, 'text': '아 더빙.. 진짜 짜증나네요 목소리'}\n",
            "--------------------------------------------------\n",
            "Test Set Sample:\n",
            "{'label': 1, 'text': '굳 ㅋ'}\n"
          ]
        }
      ]
    },
    {
      "cell_type": "markdown",
      "source": [
        "<br><br>"
      ],
      "metadata": {
        "id": "3AY4lKa984Nf"
      }
    },
    {
      "cell_type": "markdown",
      "source": [
        "### **STEP 2. klue/bert-base model 및 tokenizer 불러오기**\n",
        "<br>"
      ],
      "metadata": {
        "id": "wWNwjjYe84P4"
      }
    },
    {
      "cell_type": "code",
      "source": [
        "from transformers import AutoTokenizer, AutoModelForSequenceClassification"
      ],
      "metadata": {
        "id": "FroeJlqL7JGV"
      },
      "execution_count": 544,
      "outputs": []
    },
    {
      "cell_type": "code",
      "source": [
        "# klue/bert-base 토크나이저\n",
        "klue_tokenizer = AutoTokenizer.from_pretrained('klue/bert-base')"
      ],
      "metadata": {
        "id": "UEH7Wcf98_lm"
      },
      "execution_count": 545,
      "outputs": []
    },
    {
      "cell_type": "code",
      "source": [
        "# klue/bert-base 모델\n",
        "klue_model = AutoModelForSequenceClassification.from_pretrained('klue/bert-base', num_labels=2)"
      ],
      "metadata": {
        "colab": {
          "base_uri": "https://localhost:8080/"
        },
        "id": "4wAmkIhv8_n_",
        "outputId": "9fea9011-289e-4c13-da94-dd0defab9b90"
      },
      "execution_count": 546,
      "outputs": [
        {
          "output_type": "stream",
          "name": "stderr",
          "text": [
            "Some weights of BertForSequenceClassification were not initialized from the model checkpoint at klue/bert-base and are newly initialized: ['classifier.weight', 'classifier.bias']\n",
            "You should probably TRAIN this model on a down-stream task to be able to use it for predictions and inference.\n"
          ]
        }
      ]
    },
    {
      "cell_type": "markdown",
      "source": [
        "<br><br>"
      ],
      "metadata": {
        "id": "kjsSWRHS9NFv"
      }
    },
    {
      "cell_type": "markdown",
      "source": [
        "### **STEP 3. 위에서 불러온 tokenizer로 데이터셋을 전처리하고, model 학습 진행해 보기**\n",
        "<br>"
      ],
      "metadata": {
        "id": "v4Oi_76t9NJX"
      }
    },
    {
      "cell_type": "markdown",
      "source": [
        "##### **klue_tokenizer로 데이터셋 전처리하기**\n",
        "<br>"
      ],
      "metadata": {
        "id": "1vBWnrF8I_y7"
      }
    },
    {
      "cell_type": "code",
      "source": [
        "# max_length 적정성 확인 (문장 길이 분포 확인할 수 있는 히스토그램 출력)"
      ],
      "metadata": {
        "id": "arN6kuyvH8UU"
      },
      "execution_count": 547,
      "outputs": []
    },
    {
      "cell_type": "code",
      "source": [
        "import matplotlib.pyplot as plt\n",
        "\n",
        "# truncation 없이 토큰화하기\n",
        "lengths = processed_train_dataset.map(lambda x: {'length': len(klue_tokenizer.tokenize(x['text']))})\n",
        "\n",
        "# length feature를 list에 추가하기\n",
        "lengths_list = [item['length'] for item in lengths]\n",
        "\n",
        "# 그래프 그리기\n",
        "plt.hist(lengths_list, bins=50)\n",
        "plt.xlabel('Sequence Length')\n",
        "plt.ylabel('Frequency')\n",
        "plt.title('Sequence Length Distribution')\n",
        "plt.show()\n",
        "\n",
        "# 백분위수 확인\n",
        "for percentile in [90, 95, 99]:\n",
        "    value = int(np.percentile(lengths_list, percentile))\n",
        "    print(f\"{percentile}th percentile: {value}\")"
      ],
      "metadata": {
        "colab": {
          "base_uri": "https://localhost:8080/",
          "height": 527
        },
        "id": "W6O8Pc2QHs1k",
        "outputId": "2c34cfa5-c455-44df-93af-4d20c945deb6"
      },
      "execution_count": 548,
      "outputs": [
        {
          "output_type": "display_data",
          "data": {
            "text/plain": [
              "<Figure size 640x480 with 1 Axes>"
            ],
            "image/png": "[encoded data removed]"
          },
          "metadata": {}
        },
        {
          "output_type": "stream",
          "name": "stdout",
          "text": [
            "90th percentile: 42\n",
            "95th percentile: 60\n",
            "99th percentile: 79\n"
          ]
        }
      ]
    },
    {
      "cell_type": "markdown",
      "source": [
        "<br>"
      ],
      "metadata": {
        "id": "CdHEUotYInIa"
      }
    },
    {
      "cell_type": "code",
      "source": [
        "# transform 함수 만들기"
      ],
      "metadata": {
        "id": "WQym3HYF8_qB"
      },
      "execution_count": 549,
      "outputs": []
    },
    {
      "cell_type": "code",
      "source": [
        "def klue_transform(batch):\n",
        "    return klue_tokenizer(\n",
        "        batch['text'],\n",
        "        truncation=True,\n",
        "        padding='max_length',\n",
        "        max_length=100,\n",
        "        return_token_type_ids=False\n",
        "    )"
      ],
      "metadata": {
        "id": "uSpMKPav-pCz"
      },
      "execution_count": 550,
      "outputs": []
    },
    {
      "cell_type": "code",
      "source": [
        "# 데이터셋에 transformation 적용하기"
      ],
      "metadata": {
        "id": "YjHEa88m-uJq"
      },
      "execution_count": 551,
      "outputs": []
    },
    {
      "cell_type": "code",
      "source": [
        "transformed_train_dataset = processed_train_dataset.map(klue_transform, batched=True)\n",
        "transformed_test_dataset = processed_test_dataset.map(klue_transform, batched=True)"
      ],
      "metadata": {
        "id": "zoQrOgPx-88b"
      },
      "execution_count": 552,
      "outputs": []
    },
    {
      "cell_type": "markdown",
      "source": [
        "<br>"
      ],
      "metadata": {
        "id": "cWodfleoE5Nt"
      }
    },
    {
      "cell_type": "code",
      "source": [
        "# original dataset 확인\n",
        "print(\"Before Transformation:\")\n",
        "print(\"Features:\", processed_train_dataset.features)\n",
        "print(\"-\" * 50)\n",
        "print(\"Sample Entry:\")\n",
        "print(processed_train_dataset[0])\n",
        "print(\"\\n\\n\")"
      ],
      "metadata": {
        "colab": {
          "base_uri": "https://localhost:8080/"
        },
        "id": "yUZQDFxFEwrN",
        "outputId": "7990ec94-8669-42de-db33-259daed44c0b"
      },
      "execution_count": 553,
      "outputs": [
        {
          "output_type": "stream",
          "name": "stdout",
          "text": [
            "Before Transformation:\n",
            "Features: {'label': ClassLabel(names=['negative', 'positive'], id=None), 'text': Value(dtype='string', id=None)}\n",
            "--------------------------------------------------\n",
            "Sample Entry:\n",
            "{'label': 0, 'text': '아 더빙.. 진짜 짜증나네요 목소리'}\n",
            "\n",
            "\n",
            "\n"
          ]
        }
      ]
    },
    {
      "cell_type": "code",
      "source": [
        "# transformed dataset 확인\n",
        "print(\"After Transformation:\")\n",
        "print(\"Features:\", transformed_train_dataset.features)\n",
        "print(\"-\" * 50)\n",
        "print(\"Sample Entry:\")\n",
        "\n",
        "sample_entry = transformed_train_dataset[0]\n",
        "for key, value in sample_entry.items():\n",
        "    print(f\"{key}:\\n{value}\\n\")\n",
        "print(\"\\n\\n\")"
      ],
      "metadata": {
        "colab": {
          "base_uri": "https://localhost:8080/"
        },
        "id": "fp2qaKZKFuYV",
        "outputId": "127b5058-e163-42fb-c48b-53d57e76fe5f"
      },
      "execution_count": 554,
      "outputs": [
        {
          "output_type": "stream",
          "name": "stdout",
          "text": [
            "After Transformation:\n",
            "Features: {'label': ClassLabel(names=['negative', 'positive'], id=None), 'text': Value(dtype='string', id=None), 'input_ids': Sequence(feature=Value(dtype='int32', id=None), length=-1, id=None), 'attention_mask': Sequence(feature=Value(dtype='int8', id=None), length=-1, id=None)}\n",
            "--------------------------------------------------\n",
            "Sample Entry:\n",
            "label:\n",
            "0\n",
            "\n",
            "text:\n",
            "아 더빙.. 진짜 짜증나네요 목소리\n",
            "\n",
            "input_ids:\n",
            "[2, 1376, 831, 2604, 18, 18, 4229, 9801, 2075, 2203, 2182, 4243, 3, 0, 0, 0, 0, 0, 0, 0, 0, 0, 0, 0, 0, 0, 0, 0, 0, 0, 0, 0, 0, 0, 0, 0, 0, 0, 0, 0, 0, 0, 0, 0, 0, 0, 0, 0, 0, 0, 0, 0, 0, 0, 0, 0, 0, 0, 0, 0, 0, 0, 0, 0, 0, 0, 0, 0, 0, 0, 0, 0, 0, 0, 0, 0, 0, 0, 0, 0, 0, 0, 0, 0, 0, 0, 0, 0, 0, 0, 0, 0, 0, 0, 0, 0, 0, 0, 0, 0]\n",
            "\n",
            "attention_mask:\n",
            "[1, 1, 1, 1, 1, 1, 1, 1, 1, 1, 1, 1, 1, 0, 0, 0, 0, 0, 0, 0, 0, 0, 0, 0, 0, 0, 0, 0, 0, 0, 0, 0, 0, 0, 0, 0, 0, 0, 0, 0, 0, 0, 0, 0, 0, 0, 0, 0, 0, 0, 0, 0, 0, 0, 0, 0, 0, 0, 0, 0, 0, 0, 0, 0, 0, 0, 0, 0, 0, 0, 0, 0, 0, 0, 0, 0, 0, 0, 0, 0, 0, 0, 0, 0, 0, 0, 0, 0, 0, 0, 0, 0, 0, 0, 0, 0, 0, 0, 0, 0]\n",
            "\n",
            "\n",
            "\n",
            "\n"
          ]
        }
      ]
    },
    {
      "cell_type": "markdown",
      "source": [
        "<br><br>"
      ],
      "metadata": {
        "id": "sRTDIvEh_Pdu"
      }
    },
    {
      "cell_type": "markdown",
      "source": [
        "##### **TrainingArguments로 학습 관련 설정하기**\n",
        "<br>"
      ],
      "metadata": {
        "id": "tPPeSS0LJqX6"
      }
    },
    {
      "cell_type": "code",
      "source": [
        "from transformers import Trainer, TrainingArguments"
      ],
      "metadata": {
        "id": "NvZNro2TI563"
      },
      "execution_count": 129,
      "outputs": []
    },
    {
      "cell_type": "code",
      "source": [
        "from google.colab import drive\n",
        "drive.mount('/content/drive')"
      ],
      "metadata": {
        "colab": {
          "base_uri": "https://localhost:8080/"
        },
        "id": "XX8z9gbxJjeQ",
        "outputId": "bc6dd27e-7923-44ee-cb0a-d7812242482c"
      },
      "execution_count": 130,
      "outputs": [
        {
          "output_type": "stream",
          "name": "stdout",
          "text": [
            "Drive already mounted at /content/drive; to attempt to forcibly remount, call drive.mount(\"/content/drive\", force_remount=True).\n"
          ]
        }
      ]
    },
    {
      "cell_type": "code",
      "source": [
        "!ls /content/drive/MyDrive/Colab/05_Colab_AIFFEL_2023/09_GOINGDEEPER/01_GD_NLP/Quest_08/transformers"
      ],
      "metadata": {
        "colab": {
          "base_uri": "https://localhost:8080/"
        },
        "id": "fU_QTfE1J4wj",
        "outputId": "962de3c6-672f-4a93-9096-8cd58d1e335d"
      },
      "execution_count": 131,
      "outputs": [
        {
          "output_type": "stream",
          "name": "stdout",
          "text": [
            "checkpoint-500\truns\n"
          ]
        }
      ]
    },
    {
      "cell_type": "code",
      "source": [
        "output_dir = '/content/drive/MyDrive/Colab/05_Colab_AIFFEL_2023/09_GOINGDEEPER/01_GD_NLP/Quest_08/transformers'"
      ],
      "metadata": {
        "id": "kHBmAM5HJ-Zy"
      },
      "execution_count": 132,
      "outputs": []
    },
    {
      "cell_type": "code",
      "source": [
        "# !pip install accelerate -U\n",
        "# !pip install transformers[torch]"
      ],
      "metadata": {
        "id": "zUNuLyBmKJoT"
      },
      "execution_count": 133,
      "outputs": []
    },
    {
      "cell_type": "code",
      "source": [
        "'''\n",
        "training_arguments = TrainingArguments(\n",
        "    output_dir,                         # output이 저장될 경로\n",
        "    evaluation_strategy=\"epoch\",        # evaluation하는 빈도\n",
        "    learning_rate = 2e-5,               # learning_rate\n",
        "    per_device_train_batch_size = 16,   # 각 device 당 batch size\n",
        "    per_device_eval_batch_size = 16,    # evaluation 시에 batch size\n",
        "    num_train_epochs = 3,               # train 시킬 총 epochs\n",
        "    weight_decay = 0.01,                # weight decay\n",
        ")\n",
        "'''"
      ],
      "metadata": {
        "colab": {
          "base_uri": "https://localhost:8080/",
          "height": 109
        },
        "id": "-ZTiAkW5J-dB",
        "outputId": "5e052905-abf8-4339-e49e-7a2eef2d2a15"
      },
      "execution_count": 134,
      "outputs": [
        {
          "output_type": "execute_result",
          "data": {
            "text/plain": [
              "'\\ntraining_arguments = TrainingArguments(\\n    output_dir,                         # output이 저장될 경로\\n    evaluation_strategy=\"epoch\",        # evaluation하는 빈도\\n    learning_rate = 2e-5,               # learning_rate\\n    per_device_train_batch_size = 16,   # 각 device 당 batch size\\n    per_device_eval_batch_size = 16,    # evaluation 시에 batch size\\n    num_train_epochs = 3,               # train 시킬 총 epochs\\n    weight_decay = 0.01,                # weight decay\\n)\\n'"
            ],
            "application/vnd.google.colaboratory.intrinsic+json": {
              "type": "string"
            }
          },
          "metadata": {},
          "execution_count": 134
        }
      ]
    },
    {
      "cell_type": "markdown",
      "source": [
        "<br>"
      ],
      "metadata": {
        "id": "eSv3s3ozShgP"
      }
    },
    {
      "cell_type": "code",
      "source": [
        "total_dataset_size = len(transformed_train_dataset)\n",
        "total_dataset_size"
      ],
      "metadata": {
        "colab": {
          "base_uri": "https://localhost:8080/"
        },
        "id": "1WBQStl3SV5X",
        "outputId": "5d4f01bb-f4cd-4120-c283-6802e4f269b6"
      },
      "execution_count": 135,
      "outputs": [
        {
          "output_type": "execute_result",
          "data": {
            "text/plain": [
              "150000"
            ]
          },
          "metadata": {},
          "execution_count": 135
        }
      ]
    },
    {
      "cell_type": "code",
      "source": [
        "required_batch_size = total_dataset_size // 1000\n",
        "required_batch_size"
      ],
      "metadata": {
        "colab": {
          "base_uri": "https://localhost:8080/"
        },
        "id": "CdyKL8bvSV8B",
        "outputId": "d487cb21-5838-461d-9eab-47c4f76dc7e3"
      },
      "execution_count": 136,
      "outputs": [
        {
          "output_type": "execute_result",
          "data": {
            "text/plain": [
              "150"
            ]
          },
          "metadata": {},
          "execution_count": 136
        }
      ]
    },
    {
      "cell_type": "code",
      "source": [
        "training_arguments = TrainingArguments(\n",
        "    output_dir='./results',\n",
        "    num_train_epochs=1,\n",
        "    per_device_train_batch_size=required_batch_size,\n",
        "    per_device_eval_batch_size=64,\n",
        "    warmup_steps=500,\n",
        "    weight_decay=0.01,\n",
        "    logging_dir='./logs',\n",
        "    logging_steps=10,\n",
        "    evaluation_strategy=\"steps\",  # 로깅 스텝마다 평가 및 저장\n",
        "    save_steps=10,\n",
        "    save_total_limit=2,           # 마지막 2 모델만 저장 (보다 오래된 게 삭제됨.)\n",
        "    load_best_model_at_end=True   # 평가된 것 중 제일 성능 좋은 모델을 로드함.\n",
        ")"
      ],
      "metadata": {
        "id": "Zc8fDebgSneR"
      },
      "execution_count": 138,
      "outputs": []
    },
    {
      "cell_type": "code",
      "source": [
        "print(f\"Updated per_device_train_batch_size: {required_batch_size}\")"
      ],
      "metadata": {
        "colab": {
          "base_uri": "https://localhost:8080/"
        },
        "id": "3FUSp6ErSqqn",
        "outputId": "dc7c7c35-c6fd-45dd-ca4a-7a4ed35387cb"
      },
      "execution_count": 139,
      "outputs": [
        {
          "output_type": "stream",
          "name": "stdout",
          "text": [
            "Updated per_device_train_batch_size: 150\n"
          ]
        }
      ]
    },
    {
      "cell_type": "markdown",
      "source": [
        "<br>"
      ],
      "metadata": {
        "id": "t5WWN8qVLQeU"
      }
    },
    {
      "cell_type": "markdown",
      "source": [
        "##### **Metric 설정 (NSMC는 sentiment analysis를 위한 binary classification 문제)**\n",
        "<br>"
      ],
      "metadata": {
        "id": "JZmmF-sDMXs5"
      }
    },
    {
      "cell_type": "code",
      "source": [
        "from datasets import load_metric\n",
        "metric = load_metric('accuracy')"
      ],
      "metadata": {
        "id": "YXLvIJNzJ-fy"
      },
      "execution_count": 140,
      "outputs": []
    },
    {
      "cell_type": "code",
      "source": [
        "def compute_metrics(eval_pred):\n",
        "    predictions, labels = eval_pred\n",
        "    predictions = np.argmax(predictions, axis=1)\n",
        "    return metric.compute(predictions=predictions, references=labels)"
      ],
      "metadata": {
        "id": "Js9A2YU1MvXR"
      },
      "execution_count": 141,
      "outputs": []
    },
    {
      "cell_type": "markdown",
      "source": [
        "<br>"
      ],
      "metadata": {
        "id": "03cL-84AMzIZ"
      }
    },
    {
      "cell_type": "markdown",
      "source": [
        "##### **model 학습 진행 (Trainer 활용)**\n",
        "<br>"
      ],
      "metadata": {
        "id": "nbAI_4MlI6xJ"
      }
    },
    {
      "cell_type": "code",
      "source": [
        "# 데이터셋 분할(train/validation)"
      ],
      "metadata": {
        "id": "C9pdMxnJ0lX6"
      },
      "execution_count": 555,
      "outputs": []
    },
    {
      "cell_type": "code",
      "source": [
        "from datasets import concatenate_datasets\n",
        "\n",
        "def split_dataset(dataset, train_ratio=0.9):\n",
        "    n = len(dataset)\n",
        "    train_size = int(train_ratio * n)\n",
        "\n",
        "    train_datasets = [dataset.shard(num_shards=10, index=i) for i in range(int(10*train_ratio))]\n",
        "    val_datasets = [dataset.shard(num_shards=10, index=i) for i in range(int(10*train_ratio), 10)]\n",
        "\n",
        "    train_dataset = concatenate_datasets(train_datasets)\n",
        "    val_dataset = concatenate_datasets(val_datasets)\n",
        "\n",
        "    return train_dataset, val_dataset"
      ],
      "metadata": {
        "id": "KCjjczgd0laR"
      },
      "execution_count": 556,
      "outputs": []
    },
    {
      "cell_type": "code",
      "source": [
        "train_dataset, val_dataset = split_dataset(transformed_train_dataset, train_ratio=0.9)"
      ],
      "metadata": {
        "id": "CpfGhNAi0lcy"
      },
      "execution_count": 557,
      "outputs": []
    },
    {
      "cell_type": "code",
      "source": [
        "train_dataset"
      ],
      "metadata": {
        "colab": {
          "base_uri": "https://localhost:8080/"
        },
        "id": "i_5trWwy0le7",
        "outputId": "e85966e4-1bfe-4d1c-8fd3-60f845d57d3d"
      },
      "execution_count": 558,
      "outputs": [
        {
          "output_type": "execute_result",
          "data": {
            "text/plain": [
              "Dataset({\n",
              "    features: ['label', 'text', 'input_ids', 'attention_mask'],\n",
              "    num_rows: 135000\n",
              "})"
            ]
          },
          "metadata": {},
          "execution_count": 558
        }
      ]
    },
    {
      "cell_type": "code",
      "source": [
        "val_dataset"
      ],
      "metadata": {
        "colab": {
          "base_uri": "https://localhost:8080/"
        },
        "id": "VlV02RHN0lhX",
        "outputId": "3862a13a-ac12-4e7d-b0ac-5fc38c267f36"
      },
      "execution_count": 559,
      "outputs": [
        {
          "output_type": "execute_result",
          "data": {
            "text/plain": [
              "Dataset({\n",
              "    features: ['label', 'text', 'input_ids', 'attention_mask'],\n",
              "    num_rows: 15000\n",
              "})"
            ]
          },
          "metadata": {},
          "execution_count": 559
        }
      ]
    },
    {
      "cell_type": "markdown",
      "source": [
        "<br>"
      ],
      "metadata": {
        "id": "M4z4qbVs1Mpo"
      }
    },
    {
      "cell_type": "code",
      "source": [
        "# Trainer 생성하기"
      ],
      "metadata": {
        "id": "iOdR9caeM-rg"
      },
      "execution_count": 142,
      "outputs": []
    },
    {
      "cell_type": "code",
      "source": [
        "from transformers import EarlyStoppingCallback"
      ],
      "metadata": {
        "id": "ie-8FJoXU7cZ"
      },
      "execution_count": 560,
      "outputs": []
    },
    {
      "cell_type": "code",
      "source": [
        "trainer = Trainer(\n",
        "    model=klue_model,\n",
        "    args=training_arguments,\n",
        "    train_dataset=train_dataset,\n",
        "    eval_dataset=val_dataset,\n",
        "    compute_metrics=compute_metrics,\n",
        "    callbacks=[EarlyStoppingCallback(early_stopping_threshold=0.001, early_stopping_patience=3)]\n",
        ")"
      ],
      "metadata": {
        "id": "i3cOmPhtM_t9"
      },
      "execution_count": 562,
      "outputs": []
    },
    {
      "cell_type": "markdown",
      "source": [
        "<br>"
      ],
      "metadata": {
        "id": "dAHTZXdQNLGQ"
      }
    },
    {
      "cell_type": "code",
      "source": [
        "# 모델 학습"
      ],
      "metadata": {
        "id": "OhLoceXdNHJl"
      },
      "execution_count": 563,
      "outputs": []
    },
    {
      "cell_type": "code",
      "source": [
        "trainer.train()"
      ],
      "metadata": {
        "colab": {
          "base_uri": "https://localhost:8080/",
          "height": 695
        },
        "id": "OGi3jeLqNM2I",
        "outputId": "957fd307-1a2b-4dea-93df-4f33d51ca379"
      },
      "execution_count": 564,
      "outputs": [
        {
          "output_type": "display_data",
          "data": {
            "text/plain": [
              "<IPython.core.display.HTML object>"
            ],
            "text/html": [
              "\n",
              "    <div>\n",
              "      \n",
              "      <progress value='180' max='900' style='width:300px; height:20px; vertical-align: middle;'></progress>\n",
              "      [180/900 10:33 < 42:42, 0.28 it/s, Epoch 0/1]\n",
              "    </div>\n",
              "    <table border=\"1\" class=\"dataframe\">\n",
              "  <thead>\n",
              " <tr style=\"text-align: left;\">\n",
              "      <th>Step</th>\n",
              "      <th>Training Loss</th>\n",
              "      <th>Validation Loss</th>\n",
              "      <th>Accuracy</th>\n",
              "    </tr>\n",
              "  </thead>\n",
              "  <tbody>\n",
              "    <tr>\n",
              "      <td>10</td>\n",
              "      <td>0.719800</td>\n",
              "      <td>0.709124</td>\n",
              "      <td>0.490867</td>\n",
              "    </tr>\n",
              "    <tr>\n",
              "      <td>20</td>\n",
              "      <td>0.707900</td>\n",
              "      <td>0.687797</td>\n",
              "      <td>0.544333</td>\n",
              "    </tr>\n",
              "    <tr>\n",
              "      <td>30</td>\n",
              "      <td>0.680700</td>\n",
              "      <td>0.652534</td>\n",
              "      <td>0.646400</td>\n",
              "    </tr>\n",
              "    <tr>\n",
              "      <td>40</td>\n",
              "      <td>0.640300</td>\n",
              "      <td>0.604438</td>\n",
              "      <td>0.728667</td>\n",
              "    </tr>\n",
              "    <tr>\n",
              "      <td>50</td>\n",
              "      <td>0.595500</td>\n",
              "      <td>0.546533</td>\n",
              "      <td>0.771667</td>\n",
              "    </tr>\n",
              "    <tr>\n",
              "      <td>60</td>\n",
              "      <td>0.526900</td>\n",
              "      <td>0.472083</td>\n",
              "      <td>0.814267</td>\n",
              "    </tr>\n",
              "    <tr>\n",
              "      <td>70</td>\n",
              "      <td>0.467500</td>\n",
              "      <td>0.411473</td>\n",
              "      <td>0.828400</td>\n",
              "    </tr>\n",
              "    <tr>\n",
              "      <td>80</td>\n",
              "      <td>0.419600</td>\n",
              "      <td>0.384304</td>\n",
              "      <td>0.839267</td>\n",
              "    </tr>\n",
              "    <tr>\n",
              "      <td>90</td>\n",
              "      <td>0.396400</td>\n",
              "      <td>0.365839</td>\n",
              "      <td>0.844133</td>\n",
              "    </tr>\n",
              "    <tr>\n",
              "      <td>100</td>\n",
              "      <td>0.372000</td>\n",
              "      <td>0.358448</td>\n",
              "      <td>0.846733</td>\n",
              "    </tr>\n",
              "    <tr>\n",
              "      <td>110</td>\n",
              "      <td>0.349200</td>\n",
              "      <td>0.342796</td>\n",
              "      <td>0.856067</td>\n",
              "    </tr>\n",
              "    <tr>\n",
              "      <td>120</td>\n",
              "      <td>0.347900</td>\n",
              "      <td>0.331543</td>\n",
              "      <td>0.860667</td>\n",
              "    </tr>\n",
              "    <tr>\n",
              "      <td>130</td>\n",
              "      <td>0.375500</td>\n",
              "      <td>0.327447</td>\n",
              "      <td>0.862400</td>\n",
              "    </tr>\n",
              "    <tr>\n",
              "      <td>140</td>\n",
              "      <td>0.357800</td>\n",
              "      <td>0.316672</td>\n",
              "      <td>0.866933</td>\n",
              "    </tr>\n",
              "    <tr>\n",
              "      <td>150</td>\n",
              "      <td>0.347900</td>\n",
              "      <td>0.312222</td>\n",
              "      <td>0.867800</td>\n",
              "    </tr>\n",
              "    <tr>\n",
              "      <td>160</td>\n",
              "      <td>0.334200</td>\n",
              "      <td>0.314939</td>\n",
              "      <td>0.867200</td>\n",
              "    </tr>\n",
              "    <tr>\n",
              "      <td>170</td>\n",
              "      <td>0.332100</td>\n",
              "      <td>0.312683</td>\n",
              "      <td>0.868733</td>\n",
              "    </tr>\n",
              "    <tr>\n",
              "      <td>180</td>\n",
              "      <td>0.383900</td>\n",
              "      <td>0.317795</td>\n",
              "      <td>0.865933</td>\n",
              "    </tr>\n",
              "  </tbody>\n",
              "</table><p>"
            ]
          },
          "metadata": {}
        },
        {
          "output_type": "execute_result",
          "data": {
            "text/plain": [
              "TrainOutput(global_step=180, training_loss=0.46418420208825006, metrics={'train_runtime': 634.3566, 'train_samples_per_second': 212.814, 'train_steps_per_second': 1.419, 'total_flos': 1387499706000000.0, 'train_loss': 0.46418420208825006, 'epoch': 0.2})"
            ]
          },
          "metadata": {},
          "execution_count": 564
        }
      ]
    },
    {
      "cell_type": "markdown",
      "source": [
        "<br><br>"
      ],
      "metadata": {
        "id": "XF8g4JOTjSho"
      }
    },
    {
      "cell_type": "markdown",
      "source": [
        "### **STEP 4. Fine-tuning을 통하여 모델 성능(accuarcy) 향상시키기**\n",
        "<br>"
      ],
      "metadata": {
        "id": "HQ-Uohs5Y3sK"
      }
    },
    {
      "cell_type": "markdown",
      "source": [
        "+ 데이터 전처리, TrainingArguments 등을 조정하여 모델의 정확도를 90% 이상으로 끌어올려봅시다.\n",
        "\n",
        "<br>"
      ],
      "metadata": {
        "id": "RJ_5Qmc1Y3vE"
      }
    },
    {
      "cell_type": "code",
      "source": [
        "train_dataset, val_dataset = split_dataset(transformed_train_dataset, train_ratio=0.9)"
      ],
      "metadata": {
        "id": "5UEUiCrU7xeu"
      },
      "execution_count": 589,
      "outputs": []
    },
    {
      "cell_type": "code",
      "source": [
        "train_dataset"
      ],
      "metadata": {
        "colab": {
          "base_uri": "https://localhost:8080/"
        },
        "id": "O4lnQLX77xgq",
        "outputId": "8979abe5-7528-471b-af27-57876879de50"
      },
      "execution_count": 590,
      "outputs": [
        {
          "output_type": "execute_result",
          "data": {
            "text/plain": [
              "Dataset({\n",
              "    features: ['label', 'text', 'input_ids', 'attention_mask'],\n",
              "    num_rows: 135000\n",
              "})"
            ]
          },
          "metadata": {},
          "execution_count": 590
        }
      ]
    },
    {
      "cell_type": "code",
      "source": [
        "val_dataset"
      ],
      "metadata": {
        "colab": {
          "base_uri": "https://localhost:8080/"
        },
        "id": "znYp1sCG7xi5",
        "outputId": "8fba828c-6884-4db8-9105-e547ce36a9c3"
      },
      "execution_count": 591,
      "outputs": [
        {
          "output_type": "execute_result",
          "data": {
            "text/plain": [
              "Dataset({\n",
              "    features: ['label', 'text', 'input_ids', 'attention_mask'],\n",
              "    num_rows: 15000\n",
              "})"
            ]
          },
          "metadata": {},
          "execution_count": 591
        }
      ]
    },
    {
      "cell_type": "code",
      "source": [],
      "metadata": {
        "id": "mrkCyuJj7xlD"
      },
      "execution_count": 591,
      "outputs": []
    },
    {
      "cell_type": "code",
      "source": [
        "# 학습률 스케줄러와 배치 크기 설정"
      ],
      "metadata": {
        "id": "qotQfJtf7xm7"
      },
      "execution_count": 592,
      "outputs": []
    },
    {
      "cell_type": "code",
      "source": [
        "from transformers import get_scheduler\n",
        "from transformers import AdamW"
      ],
      "metadata": {
        "id": "xYLaBSkU7xo8"
      },
      "execution_count": 593,
      "outputs": []
    },
    {
      "cell_type": "code",
      "source": [
        "# AdamW 옵티마이저 생성\n",
        "optimizer = AdamW(klue_model.parameters(), lr=5e-5)"
      ],
      "metadata": {
        "colab": {
          "base_uri": "https://localhost:8080/"
        },
        "id": "yBBsa5VZ-TAO",
        "outputId": "71a546e6-f68e-4321-8550-3721aad15b2b"
      },
      "execution_count": 594,
      "outputs": [
        {
          "output_type": "stream",
          "name": "stderr",
          "text": [
            "/usr/local/lib/python3.10/dist-packages/transformers/optimization.py:411: FutureWarning: This implementation of AdamW is deprecated and will be removed in a future version. Use the PyTorch implementation torch.optim.AdamW instead, or set `no_deprecation_warning=True` to disable this warning\n",
            "  warnings.warn(\n"
          ]
        }
      ]
    },
    {
      "cell_type": "code",
      "source": [
        "training_arguments = TrainingArguments(\n",
        "    output_dir='./results',\n",
        "    num_train_epochs=1,\n",
        "    per_device_train_batch_size=required_batch_size,  # 이 부분을 조절하여 배치 크기를 변경\n",
        "    per_device_eval_batch_size=64,  # 이 부분을 조절하여 배치 크기를 변경\n",
        "    warmup_steps=500,\n",
        "    weight_decay=0.01,\n",
        "    logging_dir='./logs',\n",
        "    logging_steps=10,\n",
        "    evaluation_strategy=\"steps\",\n",
        "    save_steps=10,\n",
        "    save_total_limit=2,\n",
        "    load_best_model_at_end=True,\n",
        ")"
      ],
      "metadata": {
        "id": "ORw5kfjr7xrY"
      },
      "execution_count": 595,
      "outputs": []
    },
    {
      "cell_type": "code",
      "source": [],
      "metadata": {
        "id": "cc0ikaGg7xtZ"
      },
      "execution_count": 595,
      "outputs": []
    },
    {
      "cell_type": "code",
      "source": [
        "# 학습률 스케줄러 설정"
      ],
      "metadata": {
        "id": "48NICKj17xvk"
      },
      "execution_count": 596,
      "outputs": []
    },
    {
      "cell_type": "code",
      "source": [
        "num_training_steps = len(train_dataset) // required_batch_size * training_arguments.num_train_epochs"
      ],
      "metadata": {
        "id": "6stijzwq7xxz"
      },
      "execution_count": 597,
      "outputs": []
    },
    {
      "cell_type": "code",
      "source": [
        "trainer = Trainer(\n",
        "    model=klue_model,\n",
        "    args=training_arguments,\n",
        "    train_dataset=train_dataset,\n",
        "    eval_dataset=val_dataset,\n",
        "    compute_metrics=compute_metrics,\n",
        "    callbacks=[EarlyStoppingCallback(early_stopping_threshold=0.001, early_stopping_patience=3)],\n",
        ")"
      ],
      "metadata": {
        "id": "Hw5kipSw7x0s"
      },
      "execution_count": 598,
      "outputs": []
    },
    {
      "cell_type": "code",
      "source": [
        "trainer.train()"
      ],
      "metadata": {
        "colab": {
          "base_uri": "https://localhost:8080/",
          "height": 128
        },
        "id": "Jam7hFFo_FCc",
        "outputId": "c052ee69-5dcf-44f2-d3cb-8f63f7852c43"
      },
      "execution_count": null,
      "outputs": [
        {
          "output_type": "display_data",
          "data": {
            "text/plain": [
              "<IPython.core.display.HTML object>"
            ],
            "text/html": [
              "\n",
              "    <div>\n",
              "      \n",
              "      <progress value='21' max='900' style='width:300px; height:20px; vertical-align: middle;'></progress>\n",
              "      [ 21/900 00:40 < 31:33, 0.46 it/s, Epoch 0.02/1]\n",
              "    </div>\n",
              "    <table border=\"1\" class=\"dataframe\">\n",
              "  <thead>\n",
              " <tr style=\"text-align: left;\">\n",
              "      <th>Step</th>\n",
              "      <th>Training Loss</th>\n",
              "      <th>Validation Loss</th>\n",
              "      <th>Accuracy</th>\n",
              "    </tr>\n",
              "  </thead>\n",
              "  <tbody>\n",
              "    <tr>\n",
              "      <td>10</td>\n",
              "      <td>0.295100</td>\n",
              "      <td>0.298077</td>\n",
              "      <td>0.874133</td>\n",
              "    </tr>\n",
              "  </tbody>\n",
              "</table><p>\n",
              "    <div>\n",
              "      \n",
              "      <progress value='110' max='235' style='width:300px; height:20px; vertical-align: middle;'></progress>\n",
              "      [110/235 00:11 < 00:13, 9.30 it/s]\n",
              "    </div>\n",
              "    "
            ]
          },
          "metadata": {}
        }
      ]
    },
    {
      "cell_type": "markdown",
      "source": [
        "<br><br>"
      ],
      "metadata": {
        "id": "T6LmgnsnZMyX"
      }
    },
    {
      "cell_type": "markdown",
      "source": [
        "### **STEP 5. Bucketing을 적용하여 학습시키고, STEP 4의 결과와의 비교**\n",
        "<br>"
      ],
      "metadata": {
        "id": "HhlXU-0pZMz4"
      }
    },
    {
      "cell_type": "markdown",
      "source": [
        "+ 아래 링크를 바탕으로 bucketing과 dynamic padding이 무엇인지 알아보고, 이들을 적용하여 model을 학습시킵니다."
      ],
      "metadata": {
        "id": "ohm-Ck5iZM11"
      }
    },
    {
      "cell_type": "markdown",
      "source": [
        "+ STEP 4에 학습한 결과와 bucketing을 적용하여 학습시킨 결과를 비교해보고, 모델 성능 향상과 훈련 시간 두 가지 측면에서 각각 어떤 이점이 있는지 비교해봅시다."
      ],
      "metadata": {
        "id": "MxWQq5tYZM32"
      }
    },
    {
      "cell_type": "code",
      "source": [
        "# 1. 데이터셋 준비"
      ],
      "metadata": {
        "id": "zXwN-RfNjwrh"
      },
      "execution_count": 504,
      "outputs": []
    },
    {
      "cell_type": "code",
      "source": [
        "transformed_train_dataset"
      ],
      "metadata": {
        "colab": {
          "base_uri": "https://localhost:8080/"
        },
        "id": "yhJqCuAcjwtb",
        "outputId": "2e18a967-2c97-452c-ccdc-ea94b250f0a5"
      },
      "execution_count": 505,
      "outputs": [
        {
          "output_type": "execute_result",
          "data": {
            "text/plain": [
              "Dataset({\n",
              "    features: ['label', 'text', 'input_ids', 'attention_mask'],\n",
              "    num_rows: 150000\n",
              "})"
            ]
          },
          "metadata": {},
          "execution_count": 505
        }
      ]
    },
    {
      "cell_type": "code",
      "source": [
        "transformed_test_dataset"
      ],
      "metadata": {
        "colab": {
          "base_uri": "https://localhost:8080/"
        },
        "id": "gqD-z2bYjwvp",
        "outputId": "9876dfb8-a81e-4598-98c3-2da26a8a4fd6"
      },
      "execution_count": 506,
      "outputs": [
        {
          "output_type": "execute_result",
          "data": {
            "text/plain": [
              "Dataset({\n",
              "    features: ['label', 'text', 'input_ids', 'attention_mask'],\n",
              "    num_rows: 50000\n",
              "})"
            ]
          },
          "metadata": {},
          "execution_count": 506
        }
      ]
    },
    {
      "cell_type": "markdown",
      "source": [
        "<br>"
      ],
      "metadata": {
        "id": "bxQX9wwBx8wc"
      }
    },
    {
      "cell_type": "code",
      "source": [
        "# 2. 데이터셋 분할"
      ],
      "metadata": {
        "id": "OwliLoEhxVyN"
      },
      "execution_count": 515,
      "outputs": []
    },
    {
      "cell_type": "code",
      "source": [
        "train_dataset, val_dataset = split_dataset(transformed_train_dataset, train_ratio=0.9)"
      ],
      "metadata": {
        "id": "ijsmHxQ2xV0g"
      },
      "execution_count": 520,
      "outputs": []
    },
    {
      "cell_type": "code",
      "source": [
        "train_dataset"
      ],
      "metadata": {
        "colab": {
          "base_uri": "https://localhost:8080/"
        },
        "id": "cvahX-WFx3Uc",
        "outputId": "7a17581f-d5bd-4760-b950-97c1c15e7ad6"
      },
      "execution_count": 521,
      "outputs": [
        {
          "output_type": "execute_result",
          "data": {
            "text/plain": [
              "Dataset({\n",
              "    features: ['label', 'text', 'input_ids', 'attention_mask'],\n",
              "    num_rows: 135000\n",
              "})"
            ]
          },
          "metadata": {},
          "execution_count": 521
        }
      ]
    },
    {
      "cell_type": "code",
      "source": [
        "val_dataset"
      ],
      "metadata": {
        "colab": {
          "base_uri": "https://localhost:8080/"
        },
        "id": "juMLEJPwx3a8",
        "outputId": "68f9df29-bb67-4430-be78-0418fdb3ca9b"
      },
      "execution_count": 522,
      "outputs": [
        {
          "output_type": "execute_result",
          "data": {
            "text/plain": [
              "Dataset({\n",
              "    features: ['label', 'text', 'input_ids', 'attention_mask'],\n",
              "    num_rows: 15000\n",
              "})"
            ]
          },
          "metadata": {},
          "execution_count": 522
        }
      ]
    },
    {
      "cell_type": "markdown",
      "source": [
        "<br>"
      ],
      "metadata": {
        "id": "L_QPfdnTx-pD"
      }
    },
    {
      "cell_type": "code",
      "source": [
        "# 2. 토크나이저와 데이터 collator 준비"
      ],
      "metadata": {
        "id": "TrY6YGekv1Bj"
      },
      "execution_count": 523,
      "outputs": []
    },
    {
      "cell_type": "code",
      "source": [
        "from transformers import DataCollatorWithPadding, TrainingArguments, Trainer"
      ],
      "metadata": {
        "id": "O7qVknZbv__d"
      },
      "execution_count": 524,
      "outputs": []
    },
    {
      "cell_type": "code",
      "source": [
        "tokenizer =klue_tokenizer"
      ],
      "metadata": {
        "id": "UvNJ0Vr8v1EE"
      },
      "execution_count": 525,
      "outputs": []
    },
    {
      "cell_type": "code",
      "source": [
        "data_collator = DataCollatorWithPadding(tokenizer=tokenizer)"
      ],
      "metadata": {
        "id": "ttqy3ePHv1GR"
      },
      "execution_count": 526,
      "outputs": []
    },
    {
      "cell_type": "markdown",
      "source": [
        "<br>"
      ],
      "metadata": {
        "id": "OeNAnDtQwEBk"
      }
    },
    {
      "cell_type": "code",
      "source": [
        "# 3. TrainingArguments 설정"
      ],
      "metadata": {
        "id": "rGcyC_HK4DSg"
      },
      "execution_count": 566,
      "outputs": []
    },
    {
      "cell_type": "code",
      "source": [
        "training_args = TrainingArguments(\n",
        "    output_dir='./results',\n",
        "    num_train_epochs=1,\n",
        "    per_device_train_batch_size=required_batch_size,\n",
        "    per_device_eval_batch_size=64,\n",
        "    warmup_steps=500,\n",
        "    weight_decay=0.01,\n",
        "    logging_dir='./logs_tensorboard',  # TensorBoard 로그가 저장될 디렉터리\n",
        "    logging_steps=10,                  # 얼마나 자주 로그를 저장할 것인지 설정 (예: 10스텝마다)\n",
        "    evaluation_strategy=\"steps\",\n",
        "    save_steps=10,\n",
        "    save_total_limit=2,\n",
        "    load_best_model_at_end=True,\n",
        "    group_by_length=True\n",
        ")"
      ],
      "metadata": {
        "id": "5ZalWZicl5sh"
      },
      "execution_count": 527,
      "outputs": []
    },
    {
      "cell_type": "markdown",
      "source": [
        "<br>"
      ],
      "metadata": {
        "id": "XadIQxr04HJI"
      }
    },
    {
      "cell_type": "code",
      "source": [
        "# 4. Metric 설정은 위와 동일하므로 생략"
      ],
      "metadata": {
        "id": "JPmSIXsvl5uu"
      },
      "execution_count": 565,
      "outputs": []
    },
    {
      "cell_type": "markdown",
      "source": [
        "<br>"
      ],
      "metadata": {
        "id": "s0FRWoBJ3-X3"
      }
    },
    {
      "cell_type": "code",
      "source": [
        "# 5. Trainer 설정"
      ],
      "metadata": {
        "id": "6HtJKiVp4hVh"
      },
      "execution_count": 567,
      "outputs": []
    },
    {
      "cell_type": "code",
      "source": [
        "trainer = Trainer(\n",
        "    model=klue_model,\n",
        "    args=training_args,\n",
        "    train_dataset=train_dataset,\n",
        "    eval_dataset=val_dataset,\n",
        "    data_collator=data_collator,\n",
        "    tokenizer=tokenizer,\n",
        "    compute_metrics=compute_metrics,\n",
        "    callbacks=[EarlyStoppingCallback(early_stopping_threshold=0.001, early_stopping_patience=3)]\n",
        ")"
      ],
      "metadata": {
        "id": "Hnhw23Q6l52T"
      },
      "execution_count": 530,
      "outputs": []
    },
    {
      "cell_type": "markdown",
      "source": [
        "<br>"
      ],
      "metadata": {
        "id": "xvysYlbD4mgC"
      }
    },
    {
      "cell_type": "code",
      "source": [
        "trainer.train()"
      ],
      "metadata": {
        "colab": {
          "base_uri": "https://localhost:8080/",
          "height": 514
        },
        "id": "aNMcr0OQntiX",
        "outputId": "00dc91a4-dffd-4438-ae67-d2d1e016ac5c"
      },
      "execution_count": 531,
      "outputs": [
        {
          "output_type": "stream",
          "name": "stderr",
          "text": [
            "You're using a BertTokenizerFast tokenizer. Please note that with a fast tokenizer, using the `__call__` method is faster than using a method to encode the text followed by a call to the `pad` method to get a padded encoding.\n"
          ]
        },
        {
          "output_type": "display_data",
          "data": {
            "text/plain": [
              "<IPython.core.display.HTML object>"
            ],
            "text/html": [
              "\n",
              "    <div>\n",
              "      \n",
              "      <progress value='110' max='900' style='width:300px; height:20px; vertical-align: middle;'></progress>\n",
              "      [110/900 06:25 < 46:59, 0.28 it/s, Epoch 0/1]\n",
              "    </div>\n",
              "    <table border=\"1\" class=\"dataframe\">\n",
              "  <thead>\n",
              " <tr style=\"text-align: left;\">\n",
              "      <th>Step</th>\n",
              "      <th>Training Loss</th>\n",
              "      <th>Validation Loss</th>\n",
              "      <th>Accuracy</th>\n",
              "    </tr>\n",
              "  </thead>\n",
              "  <tbody>\n",
              "    <tr>\n",
              "      <td>10</td>\n",
              "      <td>0.307800</td>\n",
              "      <td>0.274158</td>\n",
              "      <td>0.887133</td>\n",
              "    </tr>\n",
              "    <tr>\n",
              "      <td>20</td>\n",
              "      <td>0.307100</td>\n",
              "      <td>0.277128</td>\n",
              "      <td>0.886067</td>\n",
              "    </tr>\n",
              "    <tr>\n",
              "      <td>30</td>\n",
              "      <td>0.270200</td>\n",
              "      <td>0.272834</td>\n",
              "      <td>0.888400</td>\n",
              "    </tr>\n",
              "    <tr>\n",
              "      <td>40</td>\n",
              "      <td>0.318700</td>\n",
              "      <td>0.271807</td>\n",
              "      <td>0.889933</td>\n",
              "    </tr>\n",
              "    <tr>\n",
              "      <td>50</td>\n",
              "      <td>0.287900</td>\n",
              "      <td>0.270182</td>\n",
              "      <td>0.888400</td>\n",
              "    </tr>\n",
              "    <tr>\n",
              "      <td>60</td>\n",
              "      <td>0.282300</td>\n",
              "      <td>0.272542</td>\n",
              "      <td>0.889267</td>\n",
              "    </tr>\n",
              "    <tr>\n",
              "      <td>70</td>\n",
              "      <td>0.276800</td>\n",
              "      <td>0.273952</td>\n",
              "      <td>0.888533</td>\n",
              "    </tr>\n",
              "    <tr>\n",
              "      <td>80</td>\n",
              "      <td>0.304100</td>\n",
              "      <td>0.268922</td>\n",
              "      <td>0.889133</td>\n",
              "    </tr>\n",
              "    <tr>\n",
              "      <td>90</td>\n",
              "      <td>0.294900</td>\n",
              "      <td>0.269007</td>\n",
              "      <td>0.890600</td>\n",
              "    </tr>\n",
              "    <tr>\n",
              "      <td>100</td>\n",
              "      <td>0.293400</td>\n",
              "      <td>0.269252</td>\n",
              "      <td>0.886667</td>\n",
              "    </tr>\n",
              "    <tr>\n",
              "      <td>110</td>\n",
              "      <td>0.324900</td>\n",
              "      <td>0.287799</td>\n",
              "      <td>0.877600</td>\n",
              "    </tr>\n",
              "  </tbody>\n",
              "</table><p>"
            ]
          },
          "metadata": {}
        },
        {
          "output_type": "execute_result",
          "data": {
            "text/plain": [
              "TrainOutput(global_step=110, training_loss=0.2971065889705311, metrics={'train_runtime': 386.2394, 'train_samples_per_second': 349.524, 'train_steps_per_second': 2.33, 'total_flos': 847916487000000.0, 'train_loss': 0.2971065889705311, 'epoch': 0.12})"
            ]
          },
          "metadata": {},
          "execution_count": 531
        }
      ]
    },
    {
      "cell_type": "markdown",
      "source": [
        "<br>"
      ],
      "metadata": {
        "id": "SColTOe8z_YM"
      }
    },
    {
      "cell_type": "code",
      "source": [
        "!kill $(ps aux | grep '[t]ensorboard' | awk '{print $2}')"
      ],
      "metadata": {
        "id": "azhAvdpB0KXy"
      },
      "execution_count": 534,
      "outputs": []
    },
    {
      "cell_type": "code",
      "source": [
        "%load_ext tensorboard\n",
        "%tensorboard --logdir ./logs_tensorboard --port 6007"
      ],
      "metadata": {
        "colab": {
          "base_uri": "https://localhost:8080/",
          "height": 857
        },
        "id": "zu14V_0QntmI",
        "outputId": "ce5cfe34-e6a0-44fb-dd08-b366d1901893"
      },
      "execution_count": 535,
      "outputs": [
        {
          "output_type": "stream",
          "name": "stdout",
          "text": [
            "The tensorboard extension is already loaded. To reload it, use:\n",
            "  %reload_ext tensorboard\n"
          ]
        },
        {
          "output_type": "display_data",
          "data": {
            "text/plain": [
              "<IPython.core.display.Javascript object>"
            ],
            "application/javascript": [
              "\n",
              "        (async () => {\n",
              "            const url = new URL(await google.colab.kernel.proxyPort(6007, {'cache': true}));\n",
              "            url.searchParams.set('tensorboardColab', 'true');\n",
              "            const iframe = document.createElement('iframe');\n",
              "            iframe.src = url;\n",
              "            iframe.setAttribute('width', '100%');\n",
              "            iframe.setAttribute('height', '800');\n",
              "            iframe.setAttribute('frameborder', 0);\n",
              "            document.body.appendChild(iframe);\n",
              "        })();\n",
              "    "
            ]
          },
          "metadata": {}
        }
      ]
    },
    {
      "cell_type": "markdown",
      "source": [
        "<br>"
      ],
      "metadata": {
        "id": "0irsvt7L_OUM"
      }
    },
    {
      "cell_type": "markdown",
      "source": [
        "##### **STEP 4에 학습한 결과와 bucketing을 적용하여 학습시킨 결과를 비교**\n",
        "<br>"
      ],
      "metadata": {
        "id": "7CeQDPTd_OY9"
      }
    },
    {
      "cell_type": "markdown",
      "source": [
        "transformers로 학습한 결과와 bucketing을 적용하여 학습시킨 결과를 비교해보면"
      ],
      "metadata": {
        "id": "Ibk_8A3H_OdU"
      }
    },
    {
      "cell_type": "markdown",
      "source": [
        "훈련 시간은 확실히 줄었으며, 성능의 차이가 크게 나진 않았지만, 훈련 속도의 향상이 있었다고 분석할 수 있습니다."
      ],
      "metadata": {
        "id": "-5Lufv7G_OhO"
      }
    },
    {
      "cell_type": "markdown",
      "source": [
        "<br><br>"
      ],
      "metadata": {
        "id": "XObp3u16aEwL"
      }
    },
    {
      "cell_type": "markdown",
      "source": [
        "# **24-2. 프로젝트 제출**\n",
        "<br>"
      ],
      "metadata": {
        "id": "aOHRcYBfaE5b"
      }
    },
    {
      "cell_type": "markdown",
      "source": [
        "### **루브릭**\n",
        "<br>"
      ],
      "metadata": {
        "id": "q75Ia1OzaE8T"
      }
    },
    {
      "cell_type": "markdown",
      "source": [
        "|<big>평가문항</big>|<big>상세기준</big>|\n",
        "|:--|:--|\n",
        "|<br>**1. 모델과 데이터를 정상적으로 불러오고, 작동하는 것을 확인하였다.**<br><br> | <br>klue/bert-base를 NSMC 데이터셋으로 fine-tuning 하여, 모델이 정상적으로 작동하는 것을 확인하였다.<br><br> |\n",
        "|<br>**2. Preprocessing을 개선하고, fine-tuning을 통해 모델의 성능을 개선시켰다.**<br><br> | <br>Validation accuracy를 90% 이상으로 개선하였다.<br><br> |\n",
        "|<br>**3. 모델 학습에 Bucketing을 성공적으로 적용하고, 그 결과를 비교분석하였다.**<br><br> | <br>Bucketing task을 수행하여 fine-tuning 시 연산 속도와 모델 성능 간의 trade-off 관계가 발생하는지 여부를 확인하고, 분석한 결과를 제시하였다.<br><br> |\n"
      ],
      "metadata": {
        "id": "kwz8pRpKaE_t"
      }
    }
  ]
}
