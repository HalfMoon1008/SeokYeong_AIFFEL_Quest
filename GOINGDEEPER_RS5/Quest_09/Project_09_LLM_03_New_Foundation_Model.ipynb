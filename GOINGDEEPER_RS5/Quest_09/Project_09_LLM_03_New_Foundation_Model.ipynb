{
 "cells": [
  {
   "cell_type": "markdown",
   "id": "c7b9663f",
   "metadata": {},
   "source": [
    "# 27. LLM Trend Note 2 [프로젝트_03]\n",
    "<br>"
   ]
  },
  {
   "cell_type": "markdown",
   "id": "dd97bc05",
   "metadata": {},
   "source": [
    "## 27-1. 프로젝트: KoChatGPT 업그레이드 하기\n",
    "<br>"
   ]
  },
  {
   "cell_type": "markdown",
   "id": "12eea688",
   "metadata": {},
   "source": [
    "#### 필수 requirement 설치 여부 확인\n",
    "<br>"
   ]
  },
  {
   "cell_type": "code",
   "execution_count": 1,
   "id": "f488fed8",
   "metadata": {},
   "outputs": [
    {
     "name": "stdout",
     "output_type": "stream",
     "text": [
      "Torch version:1.12.1\n",
      "Cuda version: 11.3\n",
      "transformers                  4.28.0\n"
     ]
    }
   ],
   "source": [
    "import torch\n",
    "\n",
    "print(\"Torch version:{}\".format(torch.__version__)) # Torch version:1.12.1\n",
    "print(\"Cuda version: {}\".format(torch.version.cuda)) # Cuda version: 11.3\n",
    "!pip list | grep transformers # transformers 4.28.0"
   ]
  },
  {
   "cell_type": "markdown",
   "id": "9a95fed6",
   "metadata": {},
   "source": [
    "<br><br>"
   ]
  },
  {
   "cell_type": "markdown",
   "id": "e70e4660",
   "metadata": {},
   "source": [
    "### Base model (Ko-GPT-Trinity 1.2B로 foundation model 교체)\n",
    "<br>"
   ]
  },
  {
   "cell_type": "code",
   "execution_count": 3,
   "id": "afba4bf9",
   "metadata": {},
   "outputs": [],
   "source": [
    "# 허깅페이스의 transformers를 사용해 토크나이저와 모델 불러오기"
   ]
  },
  {
   "cell_type": "code",
   "execution_count": 2,
   "id": "26364403",
   "metadata": {},
   "outputs": [],
   "source": [
    "import torch\n",
    "from transformers import AutoTokenizer, AutoModelForCausalLM\n",
    "import pandas as pd\n",
    "import numpy"
   ]
  },
  {
   "cell_type": "code",
   "execution_count": 3,
   "id": "c11f3a2a",
   "metadata": {},
   "outputs": [],
   "source": [
    "device = \"cuda\" if torch.cuda.is_available() else \"cpu\"\n",
    "model_name = \"skt/ko-gpt-trinity-1.2B-v0.5\""
   ]
  },
  {
   "cell_type": "code",
   "execution_count": 4,
   "id": "d71e0273",
   "metadata": {},
   "outputs": [
    {
     "data": {
      "application/vnd.jupyter.widget-view+json": {
       "model_id": "354620f7fdac40c6843727cba5faf900",
       "version_major": 2,
       "version_minor": 0
      },
      "text/plain": [
       "Downloading (…)okenizer_config.json:   0%|          | 0.00/2.00 [00:00<?, ?B/s]"
      ]
     },
     "metadata": {},
     "output_type": "display_data"
    },
    {
     "data": {
      "application/vnd.jupyter.widget-view+json": {
       "model_id": "02502215a8d44b57885d3f2d83531c19",
       "version_major": 2,
       "version_minor": 0
      },
      "text/plain": [
       "Downloading (…)lve/main/config.json:   0%|          | 0.00/731 [00:00<?, ?B/s]"
      ]
     },
     "metadata": {},
     "output_type": "display_data"
    },
    {
     "data": {
      "application/vnd.jupyter.widget-view+json": {
       "model_id": "fda1f1e762e645f2a4686776dc0b4419",
       "version_major": 2,
       "version_minor": 0
      },
      "text/plain": [
       "Downloading (…)/main/tokenizer.json:   0%|          | 0.00/1.05M [00:00<?, ?B/s]"
      ]
     },
     "metadata": {},
     "output_type": "display_data"
    },
    {
     "data": {
      "application/vnd.jupyter.widget-view+json": {
       "model_id": "53b75b592a8749ceaeaacf1c3a4b61fd",
       "version_major": 2,
       "version_minor": 0
      },
      "text/plain": [
       "Downloading (…)cial_tokens_map.json:   0%|          | 0.00/109 [00:00<?, ?B/s]"
      ]
     },
     "metadata": {},
     "output_type": "display_data"
    },
    {
     "data": {
      "application/vnd.jupyter.widget-view+json": {
       "model_id": "dfe330bdfcb347d0913608b50ac12e21",
       "version_major": 2,
       "version_minor": 0
      },
      "text/plain": [
       "Downloading pytorch_model.bin:   0%|          | 0.00/4.68G [00:00<?, ?B/s]"
      ]
     },
     "metadata": {},
     "output_type": "display_data"
    }
   ],
   "source": [
    "tokenizer = AutoTokenizer.from_pretrained(model_name)\n",
    "model = AutoModelForCausalLM.from_pretrained(model_name).to(device)"
   ]
  },
  {
   "cell_type": "markdown",
   "id": "b382257b",
   "metadata": {},
   "source": [
    "<br>"
   ]
  },
  {
   "cell_type": "code",
   "execution_count": 5,
   "id": "a5bc9795",
   "metadata": {},
   "outputs": [],
   "source": [
    "# ko-gpt-trinity-1.2B 모델의 tokenizer가 입력받아 처리 가능한 최대 토큰 수 확인"
   ]
  },
  {
   "cell_type": "code",
   "execution_count": 6,
   "id": "0bddc6e1",
   "metadata": {},
   "outputs": [
    {
     "data": {
      "text/plain": [
       "{'gpt2': 1024,\n",
       " 'gpt2-medium': 1024,\n",
       " 'gpt2-large': 1024,\n",
       " 'gpt2-xl': 1024,\n",
       " 'distilgpt2': 1024}"
      ]
     },
     "execution_count": 6,
     "metadata": {},
     "output_type": "execute_result"
    }
   ],
   "source": [
    "tokenizer.max_model_input_sizes"
   ]
  },
  {
   "cell_type": "markdown",
   "id": "7a52784b",
   "metadata": {},
   "source": [
    "<br>"
   ]
  },
  {
   "cell_type": "markdown",
   "id": "fefee880",
   "metadata": {},
   "source": [
    "### 단계별( SFT, RM, PPO) 데이터셋 확인 및 EDA\n",
    "<br>"
   ]
  },
  {
   "cell_type": "markdown",
   "id": "c4d275e8",
   "metadata": {},
   "source": [
    "#### 01-1 데이터셋(SFT) 확인\n",
    "<br>"
   ]
  },
  {
   "cell_type": "code",
   "execution_count": 7,
   "id": "247b902b",
   "metadata": {},
   "outputs": [],
   "source": [
    "# 데이터 로드"
   ]
  },
  {
   "cell_type": "code",
   "execution_count": 8,
   "id": "433a96c7",
   "metadata": {},
   "outputs": [],
   "source": [
    "import json \n",
    "data_path_1_SFT = '/aiffel/aiffel/KoChatGPT/data_kochatgpt/kochatgpt_1_SFT.jsonl' \n",
    "with open(data_path_1_SFT, \"r\", encoding='utf-8-sig') as json_file:\n",
    "    list_data_dict = json.load(json_file)"
   ]
  },
  {
   "cell_type": "code",
   "execution_count": 9,
   "id": "ff4eef76",
   "metadata": {},
   "outputs": [
    {
     "name": "stdout",
     "output_type": "stream",
     "text": [
      "12000\n"
     ]
    }
   ],
   "source": [
    "print(len(list_data_dict))"
   ]
  },
  {
   "cell_type": "code",
   "execution_count": 10,
   "id": "3a856baf",
   "metadata": {},
   "outputs": [
    {
     "data": {
      "text/plain": [
       "[{'prompt': '불고기용 고기 한우에요?',\n",
       "  'completion': \"'저는 인공지능 챗봇이며, 직접적으로 식품에 관한 정보를 가지고 있지 않습니다. 하지만 일반적으로 불고기용 고기는 한우, 쇠고기, 돼지고기 등 다양한 종류의 고기를 사용합니다. 하지만 한우는 대표적인 고급 육류로 알려져 있기 때문에, 한우를 사용하는 경우도 많습니다. 알러지나 개별 건강 상태에 따라 다를 수 있으니 충분한 정보 수집 후에 선택해 주시기 바랍니다.\",\n",
       "  'tokens': 193}]"
      ]
     },
     "execution_count": 10,
     "metadata": {},
     "output_type": "execute_result"
    }
   ],
   "source": [
    "list_data_dict[:1]"
   ]
  },
  {
   "cell_type": "markdown",
   "id": "948c5027",
   "metadata": {},
   "source": [
    "<br>"
   ]
  },
  {
   "cell_type": "markdown",
   "id": "21a7a630",
   "metadata": {},
   "source": [
    "#### 01-2 데이터셋(SFT) EDA\n",
    "<br>"
   ]
  },
  {
   "cell_type": "code",
   "execution_count": 11,
   "id": "9b9fb231",
   "metadata": {},
   "outputs": [],
   "source": [
    "# 문체 분석"
   ]
  },
  {
   "cell_type": "code",
   "execution_count": 12,
   "id": "8f52b042",
   "metadata": {},
   "outputs": [],
   "source": [
    "# 문체 분류를 위한 기준\n",
    "def classify_tone(sentence):\n",
    "    if sentence.endswith('?'):\n",
    "        return \"질문형\"\n",
    "    elif sentence.endswith('.'):\n",
    "        return \"서술형\"\n",
    "    elif sentence.endswith('!'):\n",
    "        return \"감탄형\"\n",
    "    else:\n",
    "        return \"기타\""
   ]
  },
  {
   "cell_type": "code",
   "execution_count": 13,
   "id": "ec2ee59a",
   "metadata": {},
   "outputs": [
    {
     "name": "stdout",
     "output_type": "stream",
     "text": [
      "Prompt: 불고기용 고기 한우에요? - Tone: 질문형\n",
      "Completion: '저는 인공지능 챗봇이며, 직접적으로 식품에 관한 정보를 가지고 있지 않습니다. 하지만 일반적으로 불고기용 고기는 한우, 쇠고기, 돼지고기 등 다양한 종류의 고기를 사용합니다. 하지만 한우는 대표적인 고급 육류로 알려져 있기 때문에, 한우를 사용하는 경우도 많습니다. 알러지나 개별 건강 상태에 따라 다를 수 있으니 충분한 정보 수집 후에 선택해 주시기 바랍니다. - Tone: 서술형\n",
      "----\n",
      "Prompt: 쓰던 앱이 유료로 전환됐어 - Tone: 기타\n",
      "Completion: '어떤 앱인지 모르기 때문에 정확한 답변을 드리기 어렵습니다. 하지만, 일반적으로 유료 전환된 앱은 기존 무료 앱에서 추가적인 기능이나 서비스를 제공하는 경우가 많습니다. 이 경우, 유료 전환 이전 가격이 매우 저렴하거나 무료인 경우가 많으므로, 앱을 계속 사용하려면 추가적인 비용을 지불해야 할 수 있습니다. 하지만, 유료 전환 이후에는 기존 사용자 또는 새로운 사용자 모두가 추가 기능과 높은 품질의 서비스를 이용할 수 있게 됩니다. 따라서, 앱 개발자는 유료 모델로 전환함으로써 앱의 수익을 증가시키고 더 나은 서비스를 제공할 수 있습니다. - Tone: 서술형\n",
      "----\n",
      "Prompt: 여친이랑 다툼 - Tone: 기타\n",
      "Completion: '저는 인공지능이기 때문에 여친과의 다툼에 대해서는 조언을 드릴 수는 없습니다. 하지만 다투게 되면 상대방의 말을 경청하는 태도와 서로의 감정을 존중하는 것이 중요합니다. 논리적이고 차분한 대화를 통해 문제를 해결해보세요. 그리고 서로를 이해하고 서로의 의견을 수용하는 것이 중요합니다. - Tone: 서술형\n",
      "----\n"
     ]
    }
   ],
   "source": [
    "# 문체 분석\n",
    "for item in list_data_dict[:3]:\n",
    "    prompt = item['prompt']\n",
    "    completion = item['completion']\n",
    "    \n",
    "    # 문체 분류\n",
    "    prompt_tone = classify_tone(prompt)\n",
    "    completion_tone = classify_tone(completion)\n",
    "    \n",
    "    print(f\"Prompt: {prompt} - Tone: {prompt_tone}\")\n",
    "    print(f\"Completion: {completion} - Tone: {completion_tone}\")\n",
    "    print(\"----\")"
   ]
  },
  {
   "cell_type": "markdown",
   "id": "b204ccdd",
   "metadata": {},
   "source": [
    "<br>"
   ]
  },
  {
   "cell_type": "code",
   "execution_count": 14,
   "id": "ad68dae7",
   "metadata": {},
   "outputs": [],
   "source": [
    "# 문장 완성도 분석 (예시: 마지막에 마침표가 있는지로 판단)"
   ]
  },
  {
   "cell_type": "code",
   "execution_count": 15,
   "id": "a90b7924",
   "metadata": {},
   "outputs": [],
   "source": [
    "# 'prompt'의 완성도 분석\n",
    "complete_prompts = [item['prompt'] for item in list_data_dict if item['prompt'].endswith('.')]\n",
    "incomplete_prompts = [item['prompt'] for item in list_data_dict if not item['prompt'].endswith('.')]\n",
    "\n",
    "# 'completion'의 완성도 분석\n",
    "complete_completions = [item['completion'] for item in list_data_dict if item['completion'].endswith('.')]\n",
    "incomplete_completions = [item['completion'] for item in list_data_dict if not item['completion'].endswith('.')]"
   ]
  },
  {
   "cell_type": "code",
   "execution_count": 16,
   "id": "48d39f39",
   "metadata": {},
   "outputs": [
    {
     "name": "stdout",
     "output_type": "stream",
     "text": [
      "Number of complete prompts: 588\n",
      "Number of incomplete prompts: 11412\n",
      "Number of complete completions: 10635\n",
      "Number of incomplete completions: 1365\n"
     ]
    }
   ],
   "source": [
    "print(f\"Number of complete prompts: {len(complete_prompts)}\")\n",
    "print(f\"Number of incomplete prompts: {len(incomplete_prompts)}\")\n",
    "print(f\"Number of complete completions: {len(complete_completions)}\")\n",
    "print(f\"Number of incomplete completions: {len(incomplete_completions)}\")"
   ]
  },
  {
   "cell_type": "markdown",
   "id": "be4c3ad4",
   "metadata": {},
   "source": [
    "<br>"
   ]
  },
  {
   "cell_type": "code",
   "execution_count": 17,
   "id": "03a60add",
   "metadata": {},
   "outputs": [],
   "source": [
    "# 문장의 길이 분포 분석"
   ]
  },
  {
   "cell_type": "code",
   "execution_count": 18,
   "id": "9b8c8c83",
   "metadata": {},
   "outputs": [],
   "source": [
    "import json \n",
    "import matplotlib.pyplot as plt"
   ]
  },
  {
   "cell_type": "code",
   "execution_count": 19,
   "id": "eadf6255",
   "metadata": {},
   "outputs": [
    {
     "data": {
      "image/png": "[encoded data removed]",
      "text/plain": [
       "<Figure size 864x432 with 1 Axes>"
      ]
     },
     "metadata": {
      "needs_background": "light"
     },
     "output_type": "display_data"
    }
   ],
   "source": [
    "# 'prompt'와 'completion'의 길이를 모두 고려\n",
    "lengths_prompt = [len(item['prompt']) for item in list_data_dict]\n",
    "lengths_completion = [len(item['completion']) for item in list_data_dict]\n",
    "\n",
    "plt.figure(figsize=(12, 6))\n",
    "\n",
    "# 'prompt' 길이 분포\n",
    "plt.hist(lengths_prompt, bins=50, color='blue', alpha=0.5, label='Prompt Lengths')\n",
    "\n",
    "# 'completion' 길이 분포\n",
    "plt.hist(lengths_completion, bins=50, color='red', alpha=0.5, label='Completion Lengths')\n",
    "\n",
    "plt.title('Sentence Length Distribution')\n",
    "plt.xlabel('Length')\n",
    "plt.ylabel('Number of Sentences')\n",
    "plt.legend()\n",
    "plt.show()"
   ]
  },
  {
   "cell_type": "code",
   "execution_count": 20,
   "id": "809b24f6",
   "metadata": {},
   "outputs": [
    {
     "name": "stdout",
     "output_type": "stream",
     "text": [
      "Original data size: 12000\n"
     ]
    }
   ],
   "source": [
    "print(f\"Original data size: {len(list_data_dict)}\")"
   ]
  },
  {
   "cell_type": "markdown",
   "id": "e556d942",
   "metadata": {},
   "source": [
    "<br>"
   ]
  },
  {
   "cell_type": "code",
   "execution_count": 21,
   "id": "028eb849",
   "metadata": {},
   "outputs": [],
   "source": [
    "# 길이 기반 필터링 (지나치게 긴 문장이나 지나치게 짧은 문장을 제거)"
   ]
  },
  {
   "cell_type": "code",
   "execution_count": 22,
   "id": "fe322448",
   "metadata": {},
   "outputs": [],
   "source": [
    "MIN_PROMPT_LENGTH = 5\n",
    "MAX_PROMPT_LENGTH = 50\n",
    "MIN_COMPLETION_LENGTH = 5\n",
    "MAX_COMPLETION_LENGTH = 300"
   ]
  },
  {
   "cell_type": "code",
   "execution_count": 23,
   "id": "46c5d395",
   "metadata": {},
   "outputs": [],
   "source": [
    "filtered_data = [\n",
    "    item for item in list_data_dict \n",
    "    if MIN_PROMPT_LENGTH <= len(item['prompt']) <= MAX_PROMPT_LENGTH\n",
    "    and MIN_COMPLETION_LENGTH <= len(item['completion']) <= MAX_COMPLETION_LENGTH\n",
    "]"
   ]
  },
  {
   "cell_type": "code",
   "execution_count": 24,
   "id": "e116a49e",
   "metadata": {},
   "outputs": [
    {
     "name": "stdout",
     "output_type": "stream",
     "text": [
      "Filtered data size: 10577\n"
     ]
    }
   ],
   "source": [
    "print(f\"Filtered data size: {len(filtered_data)}\")"
   ]
  },
  {
   "cell_type": "markdown",
   "id": "48fc42df",
   "metadata": {},
   "source": [
    "<br>"
   ]
  },
  {
   "cell_type": "code",
   "execution_count": 25,
   "id": "8e8a6f08",
   "metadata": {},
   "outputs": [],
   "source": [
    "# 중복 제거 ('prompt'와 'completion' 모두를 기반으로 중복 판단)"
   ]
  },
  {
   "cell_type": "code",
   "execution_count": 26,
   "id": "f5910f3c",
   "metadata": {},
   "outputs": [],
   "source": [
    "seen = set()\n",
    "unique_data = []\n",
    "for item in filtered_data:\n",
    "    combined_sentence = item['prompt'] + ' ' + item['completion']\n",
    "    if combined_sentence not in seen:\n",
    "        unique_data.append(item)\n",
    "        seen.add(combined_sentence)"
   ]
  },
  {
   "cell_type": "code",
   "execution_count": 27,
   "id": "f0d39366",
   "metadata": {},
   "outputs": [
    {
     "name": "stdout",
     "output_type": "stream",
     "text": [
      "Unique data size after removing duplicates: 10577\n"
     ]
    }
   ],
   "source": [
    "print(f\"Unique data size after removing duplicates: {len(unique_data)}\")"
   ]
  },
  {
   "cell_type": "markdown",
   "id": "f928ce2e",
   "metadata": {},
   "source": [
    "<br>"
   ]
  },
  {
   "cell_type": "markdown",
   "id": "4c0f21ef",
   "metadata": {},
   "source": [
    "#### 01-3 데이터셋(SFT) Augmentation\n",
    "<br>"
   ]
  },
  {
   "cell_type": "code",
   "execution_count": 28,
   "id": "4da0b8ac",
   "metadata": {},
   "outputs": [],
   "source": [
    "# nltk에서 wordnet을 사용하기 위해 필요한 데이터 다운로드"
   ]
  },
  {
   "cell_type": "code",
   "execution_count": 29,
   "id": "c0283b8c",
   "metadata": {},
   "outputs": [],
   "source": [
    "import random\n",
    "import nltk\n",
    "from nltk.corpus import wordnet"
   ]
  },
  {
   "cell_type": "code",
   "execution_count": 30,
   "id": "9931e0f1",
   "metadata": {},
   "outputs": [
    {
     "name": "stderr",
     "output_type": "stream",
     "text": [
      "[nltk_data] Downloading package averaged_perceptron_tagger to\n",
      "[nltk_data]     /aiffel/nltk_data...\n",
      "[nltk_data]   Unzipping taggers/averaged_perceptron_tagger.zip.\n",
      "[nltk_data] Downloading package wordnet to /aiffel/nltk_data...\n"
     ]
    },
    {
     "data": {
      "text/plain": [
       "True"
      ]
     },
     "execution_count": 30,
     "metadata": {},
     "output_type": "execute_result"
    }
   ],
   "source": [
    "nltk.download('averaged_perceptron_tagger')\n",
    "nltk.download('wordnet')"
   ]
  },
  {
   "cell_type": "markdown",
   "id": "85eeec0d",
   "metadata": {},
   "source": [
    "<br>"
   ]
  },
  {
   "cell_type": "code",
   "execution_count": 31,
   "id": "6d5daa76",
   "metadata": {},
   "outputs": [],
   "source": [
    "# Synonym Replacement: 문장 내의 단어를 그 단어의 동의어로 교체"
   ]
  },
  {
   "cell_type": "code",
   "execution_count": 32,
   "id": "14e7042b",
   "metadata": {},
   "outputs": [],
   "source": [
    "def synonym_replacement(words, n=5):\n",
    "    new_words = words.copy()\n",
    "    random_word_list = list(set([word for word in words if word.isalnum()]))\n",
    "    random.shuffle(random_word_list)\n",
    "    num_replaced = 0\n",
    "    for random_word in random_word_list:\n",
    "        synonyms = get_synonyms(random_word)\n",
    "        if len(synonyms) >= 1:\n",
    "            synonym = random.choice(list(synonyms))\n",
    "            new_words = [synonym if word == random_word else word for word in new_words]\n",
    "            num_replaced += 1\n",
    "        if num_replaced >= n: \n",
    "            break\n",
    "    return new_words"
   ]
  },
  {
   "cell_type": "code",
   "execution_count": 33,
   "id": "c2edb972",
   "metadata": {},
   "outputs": [],
   "source": [
    "def get_synonyms(word):\n",
    "    synonyms = set()\n",
    "    for syn in wordnet.synsets(word):\n",
    "        for lemma in syn.lemmas():\n",
    "            synonym = lemma.name().replace(\"_\", \" \").replace(\"-\", \" \").lower()\n",
    "            synonym = \"\".join([char for char in synonym if char in ' qwertyuiopasdfghjklzxcvbnm'])\n",
    "            synonyms.add(synonym)\n",
    "    if word in synonyms:\n",
    "        synonyms.remove(word)\n",
    "    return list(synonyms)"
   ]
  },
  {
   "cell_type": "markdown",
   "id": "5e18a74a",
   "metadata": {},
   "source": [
    "<br>"
   ]
  },
  {
   "cell_type": "code",
   "execution_count": 34,
   "id": "54aaf515",
   "metadata": {},
   "outputs": [],
   "source": [
    "# Random Deletion: 문장 내의 단어를 무작위로 삭제"
   ]
  },
  {
   "cell_type": "code",
   "execution_count": 35,
   "id": "50c0f64d",
   "metadata": {},
   "outputs": [],
   "source": [
    "def random_deletion(words, p=0.5): \n",
    "    if len(words) == 1: \n",
    "        return words\n",
    "    remaining = list(filter(lambda x: random.uniform(0,1) > p,words)) \n",
    "    if len(remaining) == 0: \n",
    "        return [random.choice(words)]\n",
    "    else:\n",
    "        return remaining"
   ]
  },
  {
   "cell_type": "markdown",
   "id": "3a1529ed",
   "metadata": {},
   "source": [
    "<br>"
   ]
  },
  {
   "cell_type": "code",
   "execution_count": 36,
   "id": "677ce1c8",
   "metadata": {},
   "outputs": [],
   "source": [
    "# Random Swap: 문장 내의 두 단어의 위치를 무작위로 바꿈."
   ]
  },
  {
   "cell_type": "code",
   "execution_count": 37,
   "id": "dde3a0d4",
   "metadata": {},
   "outputs": [],
   "source": [
    "def random_swap(sentence, n=5): \n",
    "    length = range(len(sentence))\n",
    "    if len(sentence) < 2:  # Check if the sentence has less than 2 words\n",
    "        return sentence\n",
    "    for _ in range(n):\n",
    "        idx1, idx2 = random.sample(length, 2)\n",
    "        sentence[idx1], sentence[idx2] = sentence[idx2], sentence[idx1]\n",
    "    return sentence"
   ]
  },
  {
   "cell_type": "markdown",
   "id": "c6b672ce",
   "metadata": {},
   "source": [
    "<br>"
   ]
  },
  {
   "cell_type": "code",
   "execution_count": 38,
   "id": "7e493524",
   "metadata": {},
   "outputs": [],
   "source": [
    "def augment_sentence(sentence, num_new_sentences=5):\n",
    "    augmented_sentences = []\n",
    "    words = sentence.split(' ')\n",
    "    for _ in range(num_new_sentences):\n",
    "        if random.uniform(0, 1) < 0.5:\n",
    "            new_sentence_words = synonym_replacement(words)\n",
    "        else:\n",
    "            new_sentence_words = random_swap(words)\n",
    "        augmented_sentences.append(' '.join(new_sentence_words))\n",
    "    return augmented_sentences"
   ]
  },
  {
   "cell_type": "markdown",
   "id": "63057681",
   "metadata": {},
   "source": [
    "<br>"
   ]
  },
  {
   "cell_type": "code",
   "execution_count": 39,
   "id": "3f93b62a",
   "metadata": {},
   "outputs": [],
   "source": [
    "augmented_data = []\n",
    "for item in filtered_data:\n",
    "    augmented_data.append(item)\n",
    "    prompt = item['prompt']\n",
    "    completion = item['completion']\n",
    "    for new_prompt in augment_sentence(prompt):\n",
    "        new_data = item.copy()\n",
    "        new_data['prompt'] = new_prompt\n",
    "        augmented_data.append(new_data)\n",
    "    for new_completion in augment_sentence(completion):\n",
    "        new_data = item.copy()\n",
    "        new_data['completion'] = new_completion\n",
    "        augmented_data.append(new_data)\n",
    "    if len(augmented_data) >= 15000:\n",
    "        break"
   ]
  },
  {
   "cell_type": "code",
   "execution_count": 40,
   "id": "7f6d66a7",
   "metadata": {},
   "outputs": [
    {
     "name": "stdout",
     "output_type": "stream",
     "text": [
      "Augmented data size: 15004\n"
     ]
    }
   ],
   "source": [
    "print(f\"Augmented data size: {len(augmented_data)}\")"
   ]
  },
  {
   "cell_type": "markdown",
   "id": "7d4b4847",
   "metadata": {},
   "source": [
    "<br>"
   ]
  },
  {
   "cell_type": "markdown",
   "id": "87d7ee33",
   "metadata": {},
   "source": [
    "#### 01-4 변경 파일(전처리+증강) 저장\n",
    "<br>"
   ]
  },
  {
   "cell_type": "code",
   "execution_count": 41,
   "id": "61e5245c",
   "metadata": {},
   "outputs": [],
   "source": [
    "# 지정된 경로 및 파일명\n",
    "file_path = '/aiffel/aiffel/AIFFEL/09_GD_NLP/Quest_09/data_kogpt_trinity/kogpt_trinity_1_SFT.jsonl'"
   ]
  },
  {
   "cell_type": "code",
   "execution_count": 42,
   "id": "effcf7f3",
   "metadata": {},
   "outputs": [],
   "source": [
    "# 파일 쓰기 모드로 파일 열기\n",
    "with open(file_path, 'w') as f:\n",
    "    for item in augmented_data:\n",
    "        f.write(json.dumps(item) + '\\n')"
   ]
  },
  {
   "cell_type": "markdown",
   "id": "0394343f",
   "metadata": {},
   "source": [
    "<br>"
   ]
  },
  {
   "cell_type": "markdown",
   "id": "805f2693",
   "metadata": {},
   "source": [
    "#### 02-1 데이터셋(RM) 확인\n",
    "<br>"
   ]
  },
  {
   "cell_type": "code",
   "execution_count": 43,
   "id": "925c3c07",
   "metadata": {},
   "outputs": [],
   "source": [
    "# 데이터 로드"
   ]
  },
  {
   "cell_type": "code",
   "execution_count": 44,
   "id": "11a42613",
   "metadata": {},
   "outputs": [],
   "source": [
    "data_path_2_RM = '/aiffel/aiffel/KoChatGPT/data_kochatgpt/kochatgpt_2_RM.jsonl'\n",
    "with open(data_path_2_RM, \"r\", encoding='utf-8-sig') as json_file:\n",
    "    list_data_dict = json.load(json_file)"
   ]
  },
  {
   "cell_type": "code",
   "execution_count": 45,
   "id": "b0f27a89",
   "metadata": {},
   "outputs": [
    {
     "name": "stdout",
     "output_type": "stream",
     "text": [
      "10220\n"
     ]
    }
   ],
   "source": [
    "print(len(list_data_dict))"
   ]
  },
  {
   "cell_type": "code",
   "execution_count": 46,
   "id": "53756586",
   "metadata": {},
   "outputs": [
    {
     "data": {
      "text/plain": [
       "[{'prompt': '번디는 자신이 탐정잡지, 범죄소설 그리고 성범죄 관련 실제 범죄 다큐멘터리들을 탐독했다고 누구에게 말했나?',\n",
       "  'completion_0': 'Allow me to answer your question. I know that you are curious about me.',\n",
       "  'completion_1': '번디는 다양한 인터뷰자들과 뉴스홍보 담당자들과의 면담 때 밝혔다.',\n",
       "  'completion_2': '라이언에게 말했다.',\n",
       "  'ranking': [2, 1, 0]},\n",
       " {'prompt': '개포주공아파트는 몇 단지로 이루어져 있나?',\n",
       "  'completion_0': '개포주공아파트는 다섯 단지로 이루어져 있습니다.',\n",
       "  'completion_1': '이날 목송에서 구글상위노',\n",
       "  'completion_2': '개포주공아파트는 총 27개 단지로 이루어져 있습니다.',\n",
       "  'ranking': [2, 0, 1]}]"
      ]
     },
     "execution_count": 46,
     "metadata": {},
     "output_type": "execute_result"
    }
   ],
   "source": [
    "list_data_dict[:2]"
   ]
  },
  {
   "cell_type": "markdown",
   "id": "40ef5330",
   "metadata": {},
   "source": [
    "<br>"
   ]
  },
  {
   "cell_type": "markdown",
   "id": "ad6bf73c",
   "metadata": {},
   "source": [
    "#### 02-2 데이터셋(RM) EDA\n",
    "<br>"
   ]
  },
  {
   "cell_type": "code",
   "execution_count": 47,
   "id": "b21b45bb",
   "metadata": {},
   "outputs": [],
   "source": [
    "# 문체 분석"
   ]
  },
  {
   "cell_type": "code",
   "execution_count": 48,
   "id": "90b92c33",
   "metadata": {},
   "outputs": [],
   "source": [
    "# 문체 분류를 위한 기준\n",
    "def classify_tone(sentence):\n",
    "    if sentence.endswith('?'):\n",
    "        return \"질문형\"\n",
    "    elif sentence.endswith('.'):\n",
    "        return \"서술형\"\n",
    "    elif sentence.endswith('!'):\n",
    "        return \"감탄형\"\n",
    "    else:\n",
    "        return \"기타\""
   ]
  },
  {
   "cell_type": "code",
   "execution_count": 49,
   "id": "ac37ce0e",
   "metadata": {},
   "outputs": [
    {
     "name": "stdout",
     "output_type": "stream",
     "text": [
      "Prompt: 번디는 자신이 탐정잡지, 범죄소설 그리고 성범죄 관련 실제 범죄 다큐멘터리들을 탐독했다고 누구에게 말했나? - Tone: 질문형\n",
      "Completion_1: Allow me to answer your question. I know that you are curious about me. - Tone: 서술형\n",
      "Completion_2: 번디는 다양한 인터뷰자들과 뉴스홍보 담당자들과의 면담 때 밝혔다. - Tone: 서술형\n",
      "Completion_3: 라이언에게 말했다. - Tone: 서술형\n",
      "----\n",
      "Prompt: 개포주공아파트는 몇 단지로 이루어져 있나? - Tone: 질문형\n",
      "Completion_1: 개포주공아파트는 다섯 단지로 이루어져 있습니다. - Tone: 서술형\n",
      "Completion_2: 이날 목송에서 구글상위노 - Tone: 기타\n",
      "Completion_3: 개포주공아파트는 총 27개 단지로 이루어져 있습니다. - Tone: 서술형\n",
      "----\n"
     ]
    }
   ],
   "source": [
    "# 문체 분석\n",
    "for item in list_data_dict[:2]:\n",
    "    prompt = item['prompt']\n",
    "    completions = [item['completion_0'], item['completion_1'], item['completion_2']]\n",
    "    \n",
    "    # 문체 분류\n",
    "    prompt_tone = classify_tone(prompt)\n",
    "    print(f\"Prompt: {prompt} - Tone: {prompt_tone}\")\n",
    "    \n",
    "    for idx, completion in enumerate(completions, start=1):\n",
    "        completion_tone = classify_tone(completion)\n",
    "        print(f\"Completion_{idx}: {completion} - Tone: {completion_tone}\")\n",
    "    \n",
    "    print(\"----\")"
   ]
  },
  {
   "cell_type": "markdown",
   "id": "a0624856",
   "metadata": {},
   "source": [
    "<br>"
   ]
  },
  {
   "cell_type": "code",
   "execution_count": 50,
   "id": "10ad81ba",
   "metadata": {},
   "outputs": [],
   "source": [
    "# 문장 완성도 분석 (예시: 마지막에 마침표가 있는지로 판단)"
   ]
  },
  {
   "cell_type": "code",
   "execution_count": 51,
   "id": "b516915e",
   "metadata": {},
   "outputs": [],
   "source": [
    "# 'prompt'의 완성도 분석\n",
    "complete_prompts = [item['prompt'] for item in list_data_dict if item['prompt'].endswith('.')]\n",
    "incomplete_prompts = [item['prompt'] for item in list_data_dict if not item['prompt'].endswith('.')]\n",
    "\n",
    "# 'completion'의 완성도 분석\n",
    "complete_completions_0 = [item['completion_0'] for item in list_data_dict if item['completion_0'].endswith('.')]\n",
    "incomplete_completions_0 = [item['completion_0'] for item in list_data_dict if not item['completion_0'].endswith('.')]\n",
    "\n",
    "complete_completions_1 = [item['completion_1'] for item in list_data_dict if item['completion_1'].endswith('.')]\n",
    "incomplete_completions_1 = [item['completion_1'] for item in list_data_dict if not item['completion_1'].endswith('.')]\n",
    "\n",
    "complete_completions_2 = [item['completion_2'] for item in list_data_dict if item['completion_2'].endswith('.')]\n",
    "incomplete_completions_2 = [item['completion_2'] for item in list_data_dict if not item['completion_2'].endswith('.')]"
   ]
  },
  {
   "cell_type": "code",
   "execution_count": 52,
   "id": "8012a948",
   "metadata": {},
   "outputs": [
    {
     "name": "stdout",
     "output_type": "stream",
     "text": [
      "Number of complete prompts: 495\n",
      "Number of incomplete prompts: 9725\n",
      "Number of complete completions_0: 6404\n",
      "Number of incomplete completions_0: 3816\n",
      "Number of complete completions_1: 6399\n",
      "Number of incomplete completions_1: 3821\n",
      "Number of complete completions_2: 6429\n",
      "Number of incomplete completions_2: 3791\n"
     ]
    }
   ],
   "source": [
    "print(f\"Number of complete prompts: {len(complete_prompts)}\")\n",
    "print(f\"Number of incomplete prompts: {len(incomplete_prompts)}\")\n",
    "print(f\"Number of complete completions_0: {len(complete_completions_0)}\")\n",
    "print(f\"Number of incomplete completions_0: {len(incomplete_completions_0)}\")\n",
    "print(f\"Number of complete completions_1: {len(complete_completions_1)}\")\n",
    "print(f\"Number of incomplete completions_1: {len(incomplete_completions_1)}\")\n",
    "print(f\"Number of complete completions_2: {len(complete_completions_2)}\")\n",
    "print(f\"Number of incomplete completions_2: {len(incomplete_completions_2)}\")"
   ]
  },
  {
   "cell_type": "markdown",
   "id": "a23cd9d5",
   "metadata": {},
   "source": [
    "<br>"
   ]
  },
  {
   "cell_type": "code",
   "execution_count": 53,
   "id": "6857e901",
   "metadata": {},
   "outputs": [],
   "source": [
    "# 문장의 길이 분포 분석"
   ]
  },
  {
   "cell_type": "code",
   "execution_count": 54,
   "id": "a5fd2be2",
   "metadata": {},
   "outputs": [],
   "source": [
    "# 'prompt'의 길이 고려\n",
    "lengths_prompt = [len(item['prompt']) for item in list_data_dict]\n",
    "\n",
    "# 각 'completion'의 길이 고려\n",
    "lengths_completion_0 = [len(item['completion_0']) for item in list_data_dict]\n",
    "lengths_completion_1 = [len(item['completion_1']) for item in list_data_dict]\n",
    "lengths_completion_2 = [len(item['completion_2']) for item in list_data_dict]"
   ]
  },
  {
   "cell_type": "code",
   "execution_count": 55,
   "id": "1341760b",
   "metadata": {},
   "outputs": [
    {
     "data": {
      "image/png": "[encoded data removed]",
      "text/plain": [
       "<Figure size 864x432 with 1 Axes>"
      ]
     },
     "metadata": {
      "needs_background": "light"
     },
     "output_type": "display_data"
    }
   ],
   "source": [
    "plt.figure(figsize=(12, 6))\n",
    "\n",
    "# 'prompt' 길이 분포\n",
    "plt.hist(lengths_prompt, bins=50, color='blue', alpha=0.5, label='Prompt Lengths')\n",
    "\n",
    "plt.title('Sentence Length Distribution')\n",
    "plt.xlabel('Length')\n",
    "plt.ylabel('Number of Sentences')\n",
    "plt.legend()\n",
    "plt.show()"
   ]
  },
  {
   "cell_type": "code",
   "execution_count": 56,
   "id": "8699cb46",
   "metadata": {},
   "outputs": [
    {
     "data": {
      "image/png": "[encoded data removed]",
      "text/plain": [
       "<Figure size 864x432 with 1 Axes>"
      ]
     },
     "metadata": {
      "needs_background": "light"
     },
     "output_type": "display_data"
    }
   ],
   "source": [
    "plt.figure(figsize=(12, 6))\n",
    "\n",
    "# 각 'completion'의 길이 분포\n",
    "plt.hist(lengths_completion_0, bins=50, color='red', alpha=0.5, label='Completion_0 Lengths')\n",
    "plt.hist(lengths_completion_1, bins=50, color='green', alpha=0.5, label='Completion_1 Lengths')\n",
    "plt.hist(lengths_completion_2, bins=50, color='yellow', alpha=0.5, label='Completion_2 Lengths')\n",
    "\n",
    "plt.title('Sentence Length Distribution')\n",
    "plt.xlabel('Length')\n",
    "plt.ylabel('Number of Sentences')\n",
    "plt.legend()\n",
    "plt.show()"
   ]
  },
  {
   "cell_type": "code",
   "execution_count": 57,
   "id": "69ca0f24",
   "metadata": {},
   "outputs": [
    {
     "name": "stdout",
     "output_type": "stream",
     "text": [
      "Original data size: 10220\n"
     ]
    }
   ],
   "source": [
    "print(f\"Original data size: {len(list_data_dict)}\")"
   ]
  },
  {
   "cell_type": "markdown",
   "id": "67439a18",
   "metadata": {},
   "source": [
    "<br>"
   ]
  },
  {
   "cell_type": "code",
   "execution_count": 58,
   "id": "fad9e387",
   "metadata": {},
   "outputs": [],
   "source": [
    "# 길이 기반 필터링 (지나치게 긴 문장이나 지나치게 짧은 문장을 제거)"
   ]
  },
  {
   "cell_type": "code",
   "execution_count": 59,
   "id": "a969833c",
   "metadata": {},
   "outputs": [],
   "source": [
    "MIN_PROMPT_LENGTH = 5\n",
    "MAX_PROMPT_LENGTH = 50\n",
    "MIN_COMPLETION_LENGTH = 5\n",
    "MAX_COMPLETION_LENGTH = 300"
   ]
  },
  {
   "cell_type": "code",
   "execution_count": 60,
   "id": "6c2ddf9f",
   "metadata": {},
   "outputs": [],
   "source": [
    "filtered_data = [\n",
    "    item for item in list_data_dict \n",
    "    if MIN_PROMPT_LENGTH <= len(item['prompt']) <= MAX_PROMPT_LENGTH\n",
    "    and MIN_COMPLETION_LENGTH <= len(item['completion_0']) <= MAX_COMPLETION_LENGTH\n",
    "    and MIN_COMPLETION_LENGTH <= len(item['completion_1']) <= MAX_COMPLETION_LENGTH\n",
    "    and MIN_COMPLETION_LENGTH <= len(item['completion_2']) <= MAX_COMPLETION_LENGTH\n",
    "]"
   ]
  },
  {
   "cell_type": "code",
   "execution_count": 61,
   "id": "96343949",
   "metadata": {},
   "outputs": [
    {
     "name": "stdout",
     "output_type": "stream",
     "text": [
      "Filtered data size: 8148\n"
     ]
    }
   ],
   "source": [
    "print(f\"Filtered data size: {len(filtered_data)}\")"
   ]
  },
  {
   "cell_type": "markdown",
   "id": "19836786",
   "metadata": {},
   "source": [
    "<br>"
   ]
  },
  {
   "cell_type": "code",
   "execution_count": 62,
   "id": "a33def04",
   "metadata": {},
   "outputs": [],
   "source": [
    "# 중복 제거 ('prompt'와 'completion' 모두를 기반으로 중복 판단)"
   ]
  },
  {
   "cell_type": "code",
   "execution_count": 63,
   "id": "5ccb1687",
   "metadata": {},
   "outputs": [],
   "source": [
    "seen = set()\n",
    "unique_data = []\n",
    "for item in filtered_data:\n",
    "    combined_sentence = item['prompt'] + ' ' + item['completion_0'] + ' ' + item['completion_1'] + ' ' + item['completion_2']\n",
    "    if combined_sentence not in seen:\n",
    "        unique_data.append(item)\n",
    "        seen.add(combined_sentence)"
   ]
  },
  {
   "cell_type": "code",
   "execution_count": 64,
   "id": "3259fa90",
   "metadata": {},
   "outputs": [
    {
     "name": "stdout",
     "output_type": "stream",
     "text": [
      "Unique data size after removing duplicates: 8148\n"
     ]
    }
   ],
   "source": [
    "print(f\"Unique data size after removing duplicates: {len(unique_data)}\")"
   ]
  },
  {
   "cell_type": "markdown",
   "id": "0af93b72",
   "metadata": {},
   "source": [
    "<br>"
   ]
  },
  {
   "cell_type": "markdown",
   "id": "55d7abed",
   "metadata": {},
   "source": [
    "#### 02-3 데이터셋(RM) Augmentation\n",
    "<br>"
   ]
  },
  {
   "cell_type": "code",
   "execution_count": 65,
   "id": "980b48ac",
   "metadata": {},
   "outputs": [],
   "source": [
    "augmented_data = []\n",
    "for item in filtered_data:\n",
    "    augmented_data.append(item)\n",
    "    prompt = item['prompt']\n",
    "    completion_0 = item['completion_0']\n",
    "    completion_1 = item['completion_1']\n",
    "    completion_2 = item['completion_2']\n",
    "\n",
    "    # For prompt augmentation\n",
    "    for new_prompt in augment_sentence(prompt):\n",
    "        new_data = item.copy()\n",
    "        new_data['prompt'] = new_prompt\n",
    "        augmented_data.append(new_data)\n",
    "\n",
    "    # For each completion augmentation\n",
    "    for new_completion_0 in augment_sentence(completion_0):\n",
    "        new_data = item.copy()\n",
    "        new_data['completion_0'] = new_completion_0\n",
    "        augmented_data.append(new_data)\n",
    "    \n",
    "    for new_completion_1 in augment_sentence(completion_1):\n",
    "        new_data = item.copy()\n",
    "        new_data['completion_1'] = new_completion_1\n",
    "        augmented_data.append(new_data)\n",
    "        \n",
    "    for new_completion_2 in augment_sentence(completion_2):\n",
    "        new_data = item.copy()\n",
    "        new_data['completion_2'] = new_completion_2\n",
    "        augmented_data.append(new_data)\n",
    "\n",
    "    if len(augmented_data) >= 15000:\n",
    "        break"
   ]
  },
  {
   "cell_type": "code",
   "execution_count": 66,
   "id": "87e87047",
   "metadata": {},
   "outputs": [
    {
     "name": "stdout",
     "output_type": "stream",
     "text": [
      "Augmented data size: 15015\n"
     ]
    }
   ],
   "source": [
    "print(f\"Augmented data size: {len(augmented_data)}\")"
   ]
  },
  {
   "cell_type": "markdown",
   "id": "c3397432",
   "metadata": {},
   "source": [
    "<br>"
   ]
  },
  {
   "cell_type": "markdown",
   "id": "4cf6ce10",
   "metadata": {},
   "source": [
    "#### 02-4 변경 파일(전처리+증강) 저장\n",
    "<br>"
   ]
  },
  {
   "cell_type": "code",
   "execution_count": 67,
   "id": "588a637a",
   "metadata": {},
   "outputs": [],
   "source": [
    "# 지정된 경로 및 파일명\n",
    "file_path = '/aiffel/aiffel/AIFFEL/09_GD_NLP/Quest_09/data_kogpt_trinity/kogpt_trinity_2_RM.jsonl'"
   ]
  },
  {
   "cell_type": "code",
   "execution_count": 68,
   "id": "6fcc5b5f",
   "metadata": {},
   "outputs": [],
   "source": [
    "# 파일 쓰기 모드로 파일 열기\n",
    "with open(file_path, 'w') as f:\n",
    "    for item in augmented_data:\n",
    "        f.write(json.dumps(item) + '\\n')"
   ]
  },
  {
   "cell_type": "markdown",
   "id": "535a94da",
   "metadata": {},
   "source": [
    "<br>"
   ]
  },
  {
   "cell_type": "markdown",
   "id": "8e9f48b3",
   "metadata": {},
   "source": [
    "#### 03-1 데이터셋(POO) 확인\n",
    "<br>"
   ]
  },
  {
   "cell_type": "code",
   "execution_count": 69,
   "id": "128cc8aa",
   "metadata": {},
   "outputs": [],
   "source": [
    "# 데이터 로드"
   ]
  },
  {
   "cell_type": "code",
   "execution_count": 70,
   "id": "a67c2c14",
   "metadata": {},
   "outputs": [],
   "source": [
    "data_path_3_PPO = '/aiffel/aiffel/KoChatGPT/data_kochatgpt/kochatgpt_3_PPO.jsonl'\n",
    "with open(data_path_3_PPO, \"r\", encoding='utf-8-sig') as json_file:\n",
    "    list_data_dict = json.load(json_file)"
   ]
  },
  {
   "cell_type": "code",
   "execution_count": 71,
   "id": "b35e1ef9",
   "metadata": {},
   "outputs": [
    {
     "name": "stdout",
     "output_type": "stream",
     "text": [
      "12000\n"
     ]
    }
   ],
   "source": [
    "print(len(list_data_dict))"
   ]
  },
  {
   "cell_type": "code",
   "execution_count": 72,
   "id": "ada7a941",
   "metadata": {},
   "outputs": [
    {
     "data": {
      "text/plain": [
       "[{'prompt': '번디는 자신이 탐정잡지, 범죄소설 그리고 성범죄 관련 실제 범죄 다큐멘터리들을 탐독했다고 누구에게 말했나?'},\n",
       " {'prompt': '개포주공아파트는 몇 단지로 이루어져 있나?'},\n",
       " {'prompt': '김영삼의 후보 시절 지역표심을 겨냥한 발언을 문제삼은 후보는?'},\n",
       " {'prompt': '페르시아로부터 기원된 아랍요리의 특징이 뭐야'},\n",
       " {'prompt': '중화인민공화국의 기본 법률은 누가 제정 및 개정하는가?'}]"
      ]
     },
     "execution_count": 72,
     "metadata": {},
     "output_type": "execute_result"
    }
   ],
   "source": [
    "list_data_dict[:5]"
   ]
  },
  {
   "cell_type": "markdown",
   "id": "5488b6f0",
   "metadata": {},
   "source": [
    "<br>"
   ]
  },
  {
   "cell_type": "markdown",
   "id": "179bb138",
   "metadata": {},
   "source": [
    "#### 03-2 데이터셋(POO) EDA\n",
    "<br>"
   ]
  },
  {
   "cell_type": "code",
   "execution_count": 73,
   "id": "e3182926",
   "metadata": {},
   "outputs": [],
   "source": [
    "# 문체 분석"
   ]
  },
  {
   "cell_type": "code",
   "execution_count": 74,
   "id": "0f7859d5",
   "metadata": {},
   "outputs": [],
   "source": [
    "# 문체 분류를 위한 기준\n",
    "def classify_tone(sentence):\n",
    "    if sentence.endswith('?'):\n",
    "        return \"질문형\"\n",
    "    elif sentence.endswith('.'):\n",
    "        return \"서술형\"\n",
    "    elif sentence.endswith('!'):\n",
    "        return \"감탄형\"\n",
    "    else:\n",
    "        return \"기타\""
   ]
  },
  {
   "cell_type": "code",
   "execution_count": 75,
   "id": "0fbd5235",
   "metadata": {},
   "outputs": [
    {
     "name": "stdout",
     "output_type": "stream",
     "text": [
      "Prompt: 번디는 자신이 탐정잡지, 범죄소설 그리고 성범죄 관련 실제 범죄 다큐멘터리들을 탐독했다고 누구에게 말했나? - Tone: 질문형\n",
      "----\n",
      "Prompt: 개포주공아파트는 몇 단지로 이루어져 있나? - Tone: 질문형\n",
      "----\n",
      "Prompt: 김영삼의 후보 시절 지역표심을 겨냥한 발언을 문제삼은 후보는? - Tone: 질문형\n",
      "----\n"
     ]
    }
   ],
   "source": [
    "# 문체 분석\n",
    "for item in list_data_dict[:3]:\n",
    "    prompt = item['prompt']\n",
    "    \n",
    "    # 문체 분류\n",
    "    prompt_tone = classify_tone(prompt)\n",
    "    print(f\"Prompt: {prompt} - Tone: {prompt_tone}\")\n",
    "    print(\"----\")"
   ]
  },
  {
   "cell_type": "markdown",
   "id": "ad04343d",
   "metadata": {},
   "source": [
    "<br>"
   ]
  },
  {
   "cell_type": "code",
   "execution_count": 76,
   "id": "fa2a577a",
   "metadata": {},
   "outputs": [],
   "source": [
    "# 문장 완성도 분석 (예시: 마지막에 마침표가 있는지로 판단)"
   ]
  },
  {
   "cell_type": "code",
   "execution_count": 77,
   "id": "ca293e12",
   "metadata": {},
   "outputs": [],
   "source": [
    "# 'prompt'의 완성도 분석\n",
    "complete_prompts = [item['prompt'] for item in list_data_dict if item['prompt'].endswith('.')]\n",
    "incomplete_prompts = [item['prompt'] for item in list_data_dict if not item['prompt'].endswith('.')]"
   ]
  },
  {
   "cell_type": "code",
   "execution_count": 78,
   "id": "2af96c91",
   "metadata": {},
   "outputs": [
    {
     "name": "stdout",
     "output_type": "stream",
     "text": [
      "Number of complete prompts: 588\n",
      "Number of incomplete prompts: 11412\n"
     ]
    }
   ],
   "source": [
    "print(f\"Number of complete prompts: {len(complete_prompts)}\")\n",
    "print(f\"Number of incomplete prompts: {len(incomplete_prompts)}\")"
   ]
  },
  {
   "cell_type": "markdown",
   "id": "f3091601",
   "metadata": {},
   "source": [
    "<br>"
   ]
  },
  {
   "cell_type": "code",
   "execution_count": 79,
   "id": "7fe48637",
   "metadata": {},
   "outputs": [],
   "source": [
    "# 문장의 길이 분포 분석"
   ]
  },
  {
   "cell_type": "code",
   "execution_count": 80,
   "id": "530eb059",
   "metadata": {},
   "outputs": [],
   "source": [
    "lengths_prompt = [len(item['prompt']) for item in list_data_dict]"
   ]
  },
  {
   "cell_type": "code",
   "execution_count": 81,
   "id": "8077da1e",
   "metadata": {},
   "outputs": [
    {
     "data": {
      "image/png": "[encoded data removed]",
      "text/plain": [
       "<Figure size 864x432 with 1 Axes>"
      ]
     },
     "metadata": {
      "needs_background": "light"
     },
     "output_type": "display_data"
    }
   ],
   "source": [
    "plt.figure(figsize=(12, 6))\n",
    "\n",
    "plt.hist(lengths_prompt, bins=50, color='blue', alpha=0.5, label='Prompt Lengths')\n",
    "\n",
    "plt.title('Prompt Length Distribution')\n",
    "plt.xlabel('Length')\n",
    "plt.ylabel('Number of Prompts')\n",
    "plt.legend()\n",
    "plt.show()"
   ]
  },
  {
   "cell_type": "markdown",
   "id": "8bc56e86",
   "metadata": {},
   "source": [
    "<br>"
   ]
  },
  {
   "cell_type": "code",
   "execution_count": 82,
   "id": "14cd6a6b",
   "metadata": {},
   "outputs": [],
   "source": [
    "# 길이 기반 필터링 (지나치게 긴 문장이나 지나치게 짧은 문장을 제거)"
   ]
  },
  {
   "cell_type": "code",
   "execution_count": 83,
   "id": "1d740d40",
   "metadata": {},
   "outputs": [],
   "source": [
    "MIN_PROMPT_LENGTH = 5\n",
    "MAX_PROMPT_LENGTH = 50"
   ]
  },
  {
   "cell_type": "code",
   "execution_count": 84,
   "id": "d68d5614",
   "metadata": {},
   "outputs": [],
   "source": [
    "filtered_data = [\n",
    "    item for item in list_data_dict \n",
    "    if MIN_PROMPT_LENGTH <= len(item['prompt']) <= MAX_PROMPT_LENGTH\n",
    "]"
   ]
  },
  {
   "cell_type": "code",
   "execution_count": 85,
   "id": "a3113a19",
   "metadata": {},
   "outputs": [
    {
     "name": "stdout",
     "output_type": "stream",
     "text": [
      "Filtered data size: 11482\n"
     ]
    }
   ],
   "source": [
    "print(f\"Filtered data size: {len(filtered_data)}\")"
   ]
  },
  {
   "cell_type": "markdown",
   "id": "58c9bbee",
   "metadata": {},
   "source": [
    "<br>"
   ]
  },
  {
   "cell_type": "code",
   "execution_count": 86,
   "id": "9dc429c2",
   "metadata": {},
   "outputs": [],
   "source": [
    "# 중복 제거"
   ]
  },
  {
   "cell_type": "code",
   "execution_count": 87,
   "id": "b88cef02",
   "metadata": {},
   "outputs": [],
   "source": [
    "seen = set()\n",
    "unique_data = []\n",
    "for item in filtered_data:\n",
    "    if item['prompt'] not in seen:\n",
    "        unique_data.append(item)\n",
    "        seen.add(item['prompt'])"
   ]
  },
  {
   "cell_type": "code",
   "execution_count": 88,
   "id": "9a206345",
   "metadata": {},
   "outputs": [
    {
     "name": "stdout",
     "output_type": "stream",
     "text": [
      "Unique data size after removing duplicates: 11432\n"
     ]
    }
   ],
   "source": [
    "print(f\"Unique data size after removing duplicates: {len(unique_data)}\")"
   ]
  },
  {
   "cell_type": "markdown",
   "id": "adc0c7da",
   "metadata": {},
   "source": [
    "<br>"
   ]
  },
  {
   "cell_type": "markdown",
   "id": "50d5b9cd",
   "metadata": {},
   "source": [
    "#### 03-3 데이터셋(POO) Augmentation\n",
    "<br>"
   ]
  },
  {
   "cell_type": "code",
   "execution_count": 89,
   "id": "5d51197e",
   "metadata": {},
   "outputs": [],
   "source": [
    "augmented_data = []\n",
    "for item in filtered_data:\n",
    "    augmented_data.append(item)\n",
    "    prompt = item['prompt']\n",
    "\n",
    "    # 'prompt' 증강\n",
    "    for new_prompt in augment_sentence(prompt):\n",
    "        new_data = item.copy()\n",
    "        new_data['prompt'] = new_prompt\n",
    "        augmented_data.append(new_data)\n",
    "\n",
    "    if len(augmented_data) >= 15000:\n",
    "        break"
   ]
  },
  {
   "cell_type": "code",
   "execution_count": 90,
   "id": "6231f2e4",
   "metadata": {},
   "outputs": [
    {
     "name": "stdout",
     "output_type": "stream",
     "text": [
      "Augmented data size: 15000\n"
     ]
    }
   ],
   "source": [
    "print(f\"Augmented data size: {len(augmented_data)}\")"
   ]
  },
  {
   "cell_type": "markdown",
   "id": "c2ab9095",
   "metadata": {},
   "source": [
    "<br>"
   ]
  },
  {
   "cell_type": "markdown",
   "id": "8ae7bf98",
   "metadata": {},
   "source": [
    "#### 03-4 변경 파일(전처리+증강) 저장\n",
    "<br>"
   ]
  },
  {
   "cell_type": "code",
   "execution_count": 91,
   "id": "df15b662",
   "metadata": {},
   "outputs": [],
   "source": [
    "# 지정된 경로 및 파일명\n",
    "file_path = '/aiffel/aiffel/AIFFEL/09_GD_NLP/Quest_09/data_kogpt_trinity/kogpt_trinity_3_PPO.jsonl'"
   ]
  },
  {
   "cell_type": "code",
   "execution_count": 92,
   "id": "d0d16bdc",
   "metadata": {},
   "outputs": [],
   "source": [
    "# 파일 쓰기 모드로 파일 열기\n",
    "with open(file_path, 'w') as f:\n",
    "    for item in augmented_data:\n",
    "        f.write(json.dumps(item) + '\\n')"
   ]
  },
  {
   "cell_type": "markdown",
   "id": "3f8f2805",
   "metadata": {},
   "source": [
    "<br><br>"
   ]
  },
  {
   "cell_type": "markdown",
   "id": "53b5622b",
   "metadata": {},
   "source": [
    "### Supervised Fine-Tuning (SFT)\n",
    "<br>"
   ]
  },
  {
   "cell_type": "markdown",
   "id": "dbf87cf2",
   "metadata": {},
   "source": [
    "#### 필요 라이브러리 불러오기\n",
    "<br>"
   ]
  },
  {
   "cell_type": "code",
   "execution_count": 93,
   "id": "7ef03aef",
   "metadata": {},
   "outputs": [],
   "source": [
    "import os\n",
    "os.environ[\"CUDA_VISIBLE_DEVICES\"] = \"0\"\n",
    "import torch\n",
    "import torch.nn as nn\n",
    "from torch.utils.data import Dataset\n",
    "from torch.optim import Adam\n",
    "from datasets import load_dataset\n",
    "import transformers\n",
    "from transformers import AutoTokenizer, AutoModelForCausalLM, pipeline\n",
    "from transformers import Trainer, TrainingArguments\n",
    "from copy import deepcopy\n",
    "import copy\n",
    "import logging\n",
    "import json\n",
    "from dataclasses import dataclass"
   ]
  },
  {
   "cell_type": "markdown",
   "id": "cf197e37",
   "metadata": {},
   "source": [
    "<br>"
   ]
  },
  {
   "cell_type": "markdown",
   "id": "9a8e6b4b",
   "metadata": {},
   "source": [
    "#### 모델과 토크나이저 불러오기\n",
    "<br>"
   ]
  },
  {
   "cell_type": "code",
   "execution_count": 94,
   "id": "faea91af",
   "metadata": {},
   "outputs": [],
   "source": [
    "model = AutoModelForCausalLM.from_pretrained('skt/ko-gpt-trinity-1.2B-v0.5')"
   ]
  },
  {
   "cell_type": "code",
   "execution_count": 95,
   "id": "04ddf3ce",
   "metadata": {},
   "outputs": [],
   "source": [
    "tokenizer = AutoTokenizer.from_pretrained(\n",
    "    'skt/ko-gpt-trinity-1.2B-v0.5', bos_token='</s>', eos_token='</s>', unk_token='</s>', pad_token='</s>',\n",
    "    padding_side=\"right\",\n",
    "    model_max_length=512,\n",
    ")"
   ]
  },
  {
   "cell_type": "code",
   "execution_count": 96,
   "id": "6055b3cc",
   "metadata": {},
   "outputs": [
    {
     "name": "stdout",
     "output_type": "stream",
     "text": [
      "GPT2TokenizerFast(name_or_path='skt/ko-gpt-trinity-1.2B-v0.5', vocab_size=51200, model_max_length=512, is_fast=True, padding_side='right', truncation_side='right', special_tokens={'bos_token': '</s>', 'eos_token': '</s>', 'unk_token': '</s>', 'pad_token': '</s>', 'mask_token': '<mask>'}, clean_up_tokenization_spaces=True)\n"
     ]
    }
   ],
   "source": [
    "print(tokenizer)"
   ]
  },
  {
   "cell_type": "markdown",
   "id": "a6345ea8",
   "metadata": {},
   "source": [
    "<br>"
   ]
  },
  {
   "cell_type": "markdown",
   "id": "c805e9f0",
   "metadata": {},
   "source": [
    "#### prompt 딕셔너리 템플릿과 SFT 데이터셋 클래스 정의 (모델 인퍼런스 단계에서 사용)\n",
    "<br>"
   ]
  },
  {
   "cell_type": "code",
   "execution_count": 97,
   "id": "ec5ce2cf",
   "metadata": {},
   "outputs": [],
   "source": [
    "from typing import Optional, Dict, Sequence\n",
    "\n",
    "class SFT_dataset(Dataset):\n",
    "\n",
    "    def __init__(self, data_path_1_SFT: str, tokenizer: transformers.PreTrainedTokenizer, verbose=False):\n",
    "        super(SFT_dataset, self).__init__()\n",
    "        logging.warning(\"Loading data...\")\n",
    "\n",
    "        pattern_instruction = 'prompt'  # instruction\n",
    "        pattern_output = 'completion'  # response\n",
    "\n",
    "        data_path_1_SFT = '/aiffel/aiffel/AIFFEL/09_GD_NLP/Quest_09/data_kogpt_trinity/kogpt_trinity_1_SFT.jsonl'\n",
    "        list_data_dict = []\n",
    "        with open(data_path_1_SFT, \"r\", encoding='utf-8-sig') as json_file:\n",
    "            for line in json_file:\n",
    "                list_data_dict.append(json.loads(line))\n",
    "\n",
    "        PROMPT_DICT = {\n",
    "            \"prompt_input\": (\n",
    "                \"### Instruction(명령어):\\n{prompt}\\n\\n### Response(응답):\"\n",
    "            )\n",
    "        }\n",
    "\n",
    "        prompt_input = PROMPT_DICT[\"prompt_input\"]\n",
    "\n",
    "        sources = []\n",
    "        for example in list_data_dict:\n",
    "            tmp = prompt_input.format_map(example)\n",
    "            sources.append(tmp)\n",
    "\n",
    "        targets = []\n",
    "        for example in list_data_dict:\n",
    "            targets.append(f\"{example[pattern_output]}{tokenizer.eos_token}\")\n",
    "        examples = [s + t for s, t in zip(sources, targets)]\n",
    "\n",
    "        sources_tokenized = self._tokenize_fn(sources, tokenizer)  # source\n",
    "        examples_tokenized = self._tokenize_fn(examples, tokenizer)  # source + target\n",
    "\n",
    "        input_ids = examples_tokenized[\"input_ids\"]\n",
    "        labels = copy.deepcopy(input_ids)\n",
    "        for label, source_len in zip(labels, sources_tokenized[\"input_ids_lens\"]):\n",
    "            label[:source_len] = -100\n",
    "\n",
    "        data_dict = dict(input_ids=input_ids, labels=labels)\n",
    "\n",
    "        self.input_ids = data_dict[\"input_ids\"]\n",
    "        self.labels = data_dict[\"labels\"]\n",
    "        logging.warning(\"Loading data done!!: %d\"%(len(self.labels)))\n",
    "\n",
    "\n",
    "    def _tokenize_fn(self, strings: Sequence[str], tokenizer: transformers.PreTrainedTokenizer) -> Dict:\n",
    "        tokenized_list = [\n",
    "            tokenizer(\n",
    "                text,\n",
    "                return_tensors=\"pt\",\n",
    "                padding=\"longest\",\n",
    "                max_length=tokenizer.model_max_length,\n",
    "                truncation=True,\n",
    "            )\n",
    "            for text in strings\n",
    "        ]\n",
    "        input_ids = labels = [tokenized.input_ids[0] for tokenized in tokenized_list]\n",
    "        input_ids_lens = labels_lens = [\n",
    "            tokenized.input_ids.ne(tokenizer.pad_token_id).sum().item() for tokenized in tokenized_list\n",
    "        ]\n",
    "        return dict(\n",
    "            input_ids=input_ids,\n",
    "            labels=labels,\n",
    "            input_ids_lens=input_ids_lens,\n",
    "            labels_lens=labels_lens,\n",
    "        )\n",
    "\n",
    "\n",
    "    def __len__(self):\n",
    "        return len(self.input_ids)\n",
    "\n",
    "\n",
    "    def __getitem__(self, i) -> Dict[str, torch.Tensor]:\n",
    "        return dict(input_ids=self.input_ids[i], labels=self.labels[i])"
   ]
  },
  {
   "cell_type": "code",
   "execution_count": 98,
   "id": "177c9d1e",
   "metadata": {},
   "outputs": [],
   "source": [
    "@dataclass\n",
    "class DataCollatorForSupervisedDataset(object): \n",
    "\n",
    "    tokenizer: transformers.PreTrainedTokenizer\n",
    "\n",
    "    def __call__(self, instances: Sequence[Dict]) -> Dict[str, torch.Tensor]:\n",
    "        input_ids, labels = tuple([instance[key] for instance in instances] for key in (\"input_ids\", \"labels\"))\n",
    "        input_ids = torch.nn.utils.rnn.pad_sequence(\n",
    "            input_ids, batch_first=True, padding_value=self.tokenizer.pad_token_id\n",
    "        )\n",
    "        labels = torch.nn.utils.rnn.pad_sequence(labels, batch_first=True, padding_value= -100)\n",
    "        return dict(\n",
    "            input_ids=input_ids,\n",
    "            labels=labels,\n",
    "            attention_mask=input_ids.ne(self.tokenizer.pad_token_id),\n",
    "        )"
   ]
  },
  {
   "cell_type": "markdown",
   "id": "e43f54c1",
   "metadata": {},
   "source": [
    "<br>"
   ]
  },
  {
   "cell_type": "code",
   "execution_count": 99,
   "id": "4dec0810",
   "metadata": {},
   "outputs": [
    {
     "name": "stderr",
     "output_type": "stream",
     "text": [
      "WARNING:root:Loading data...\n",
      "WARNING:root:Loading data done!!: 15004\n"
     ]
    }
   ],
   "source": [
    "train_dataset = SFT_dataset(data_path_1_SFT='/aiffel/aiffel/AIFFEL/09_GD_NLP/Quest_09/data_kogpt_trinity/kogpt_trinity_1_SFT.jsonl', tokenizer=tokenizer)\n",
    "data_collator = DataCollatorForSupervisedDataset(tokenizer=tokenizer)"
   ]
  },
  {
   "cell_type": "code",
   "execution_count": 100,
   "id": "389e578b",
   "metadata": {},
   "outputs": [
    {
     "name": "stdout",
     "output_type": "stream",
     "text": [
      "input : tensor([30132, 42872, 33313, 30679, 40479, 39911,   384, 22509, 21921, 25372,\n",
      "          385, 31245, 23280, 34957, 25617, 36539, 29991, 25624, 25400, 31167,\n",
      "          376, 42872,   379, 46803,   456, 30303, 35353,   384, 25785, 20573,\n",
      "        37780,   383, 46900, 43226,   565, 27071, 23151, 31555, 41690, 35071,\n",
      "        25400, 31269, 32677, 30765, 31810, 36229, 30326, 33889, 30093, 34957,\n",
      "        25617, 30021, 30434, 29991, 39687, 34036, 19016, 31997, 49906, 19352,\n",
      "        30011, 30904, 36731, 43502, 30228, 31214, 30326, 29991, 31621, 33314,\n",
      "        34347, 30843, 50342, 33512, 31370, 34243, 29991, 35144, 32586, 32622,\n",
      "        44680, 30110, 21844, 39826, 34803, 31356, 39075, 30242, 36966, 29985,\n",
      "        34179, 36513, 30718, 35557, 32361, 31018, 29404, 35942, 19352, 41049,\n",
      "            1])\n",
      "output: tensor([ -100,  -100,  -100,  -100,  -100,  -100,  -100,  -100,  -100,  -100,\n",
      "         -100,  -100,  -100,  -100,  -100,  -100,  -100,  -100,  -100,  -100,\n",
      "         -100,  -100,  -100,  -100,  -100,  -100,  -100,  -100,  -100,  -100,\n",
      "         -100,   383, 46900, 43226,   565, 27071, 23151, 31555, 41690, 35071,\n",
      "        25400, 31269, 32677, 30765, 31810, 36229, 30326, 33889, 30093, 34957,\n",
      "        25617, 30021, 30434, 29991, 39687, 34036, 19016, 31997, 49906, 19352,\n",
      "        30011, 30904, 36731, 43502, 30228, 31214, 30326, 29991, 31621, 33314,\n",
      "        34347, 30843, 50342, 33512, 31370, 34243, 29991, 35144, 32586, 32622,\n",
      "        44680, 30110, 21844, 39826, 34803, 31356, 39075, 30242, 36966, 29985,\n",
      "        34179, 36513, 30718, 35557, 32361, 31018, 29404, 35942, 19352, 41049,\n",
      "            1])\n"
     ]
    }
   ],
   "source": [
    "print('input : %s'%train_dataset.input_ids[0])\n",
    "print('output: %s'%train_dataset.labels[0])"
   ]
  },
  {
   "cell_type": "markdown",
   "id": "19519b48",
   "metadata": {},
   "source": [
    "<br>"
   ]
  },
  {
   "cell_type": "markdown",
   "id": "91110456",
   "metadata": {},
   "source": [
    "#### 디코딩 확인\n",
    "<br>"
   ]
  },
  {
   "cell_type": "code",
   "execution_count": 224,
   "id": "0cf98734",
   "metadata": {},
   "outputs": [],
   "source": [
    "# 디코딩 함수 작성"
   ]
  },
  {
   "cell_type": "code",
   "execution_count": 101,
   "id": "ea5c1cc7",
   "metadata": {},
   "outputs": [],
   "source": [
    "def decode_token_ids(token_ids, tokenizer):\n",
    "    # token_ids를 Python 리스트로 변환\n",
    "    if isinstance(token_ids, torch.Tensor):\n",
    "        token_ids = token_ids.tolist()\n",
    "    \n",
    "    # token_ids 값을 디코딩\n",
    "    decoded_text = \"\"\n",
    "    for single_token_id in token_ids:\n",
    "        # -100 값은 무시\n",
    "        if single_token_id == -100:\n",
    "            continue\n",
    "        try:\n",
    "            decoded_text += tokenizer.decode([single_token_id], skip_special_tokens=True)\n",
    "        except OverflowError:\n",
    "            print(f\"Problematic token ID: {single_token_id}\")\n",
    "            raise\n",
    "    \n",
    "    return decoded_text"
   ]
  },
  {
   "cell_type": "markdown",
   "id": "15f28bde",
   "metadata": {},
   "source": [
    "<br>"
   ]
  },
  {
   "cell_type": "code",
   "execution_count": 226,
   "id": "f9f4e898",
   "metadata": {},
   "outputs": [],
   "source": [
    "# 주어진 input_ids와 labels를 디코딩하여 출력"
   ]
  },
  {
   "cell_type": "code",
   "execution_count": 102,
   "id": "15142c1f",
   "metadata": {},
   "outputs": [
    {
     "name": "stdout",
     "output_type": "stream",
     "text": [
      "Decoded input: ###Instruction(명령어):\n",
      "불고기용고기한우에요?\n",
      "\n",
      "###Response(응답):'저는인공지능챗봇이며,직접적으로식품에관한정보를가지고있지않습니다.하지만일반적으로불고기용고기는한우,쇠고기,돼지고기등다양한종류의고기를사용합니다.하지만한우는대표적인고급육류로알려져있기때문에,한우를사용하는경우도많습니다.알러지나개별건강상태에따라다를수있으니충분한정보수집후에선택해주시기바랍니다.\n",
      "Decoded output: '저는인공지능챗봇이며,직접적으로식품에관한정보를가지고있지않습니다.하지만일반적으로불고기용고기는한우,쇠고기,돼지고기등다양한종류의고기를사용합니다.하지만한우는대표적인고급육류로알려져있기때문에,한우를사용하는경우도많습니다.알러지나개별건강상태에따라다를수있으니충분한정보수집후에선택해주시기바랍니다.\n"
     ]
    }
   ],
   "source": [
    "input_text = decode_token_ids(train_dataset.input_ids[0], tokenizer)\n",
    "label_text = decode_token_ids(train_dataset.labels[0], tokenizer)\n",
    "\n",
    "print('Decoded input:', input_text)\n",
    "print('Decoded output:', label_text)"
   ]
  },
  {
   "cell_type": "markdown",
   "id": "72914741",
   "metadata": {},
   "source": [
    "<br>"
   ]
  },
  {
   "cell_type": "markdown",
   "id": "7c059a50",
   "metadata": {},
   "source": [
    "#### Training arguments를 사용해 trainer 클래스 정의\n",
    "<br>"
   ]
  },
  {
   "cell_type": "code",
   "execution_count": 108,
   "id": "3527f58e",
   "metadata": {},
   "outputs": [],
   "source": [
    "training_args = TrainingArguments(\n",
    "    output_dir=\"/aiffel/aiffel/AIFFEL/09_GD_NLP/Quest_09/test_trinity\",\n",
    "    overwrite_output_dir=True,\n",
    "    num_train_epochs=1,\n",
    "    per_device_train_batch_size=2,  # 배치 크기를 줄임\n",
    "    per_device_eval_batch_size=2,   # 배치 크기를 줄임\n",
    "    gradient_accumulation_steps=4,  # 그래디언트 축적 사용\n",
    "    warmup_steps=5,\n",
    "    prediction_loss_only=True,\n",
    "    fp16=True\n",
    ")"
   ]
  },
  {
   "cell_type": "code",
   "execution_count": 109,
   "id": "69e2f6ee",
   "metadata": {},
   "outputs": [],
   "source": [
    "trainer = Trainer(\n",
    "    model=model,\n",
    "    args=training_args,\n",
    "    data_collator=data_collator,\n",
    "    train_dataset=train_dataset\n",
    ")"
   ]
  },
  {
   "cell_type": "code",
   "execution_count": 112,
   "id": "ec1782bc",
   "metadata": {},
   "outputs": [],
   "source": [
    "# 3. 모델 및 토크나이저를 GPU에서 삭제 후 다시 로드\n",
    "# del model\n",
    "# torch.cuda.empty_cache()\n",
    "\n",
    "# model = AutoModelForCausalLM.from_pretrained(model_name).to(device)"
   ]
  },
  {
   "cell_type": "code",
   "execution_count": 113,
   "id": "19439849",
   "metadata": {},
   "outputs": [],
   "source": [
    "# 4. 기타 메모리 최적화 기법\n",
    "torch.backends.cudnn.benchmark = False"
   ]
  },
  {
   "cell_type": "markdown",
   "id": "b18e2f50",
   "metadata": {},
   "source": [
    "<br>"
   ]
  },
  {
   "cell_type": "markdown",
   "id": "3ab2a759",
   "metadata": {},
   "source": [
    "#### SFT 훈련\n",
    "<br>"
   ]
  },
  {
   "cell_type": "code",
   "execution_count": 114,
   "id": "b84735ec",
   "metadata": {},
   "outputs": [
    {
     "data": {
      "text/html": [
       "<pre style=\"white-space:pre;overflow-x:auto;line-height:normal;font-family:Menlo,'DejaVu Sans Mono',consolas,'Courier New',monospace\"><span style=\"color: #800000; text-decoration-color: #800000\">╭─────────────────────────────── </span><span style=\"color: #800000; text-decoration-color: #800000; font-weight: bold\">Traceback </span><span style=\"color: #bf7f7f; text-decoration-color: #bf7f7f; font-weight: bold\">(most recent call last)</span><span style=\"color: #800000; text-decoration-color: #800000\"> ────────────────────────────────╮</span>\n",
       "<span style=\"color: #800000; text-decoration-color: #800000\">│</span> in <span style=\"color: #00ff00; text-decoration-color: #00ff00\">&lt;module&gt;</span>:<span style=\"color: #0000ff; text-decoration-color: #0000ff\">1</span>                                                                                    <span style=\"color: #800000; text-decoration-color: #800000\">│</span>\n",
       "<span style=\"color: #800000; text-decoration-color: #800000\">│</span>                                                                                                  <span style=\"color: #800000; text-decoration-color: #800000\">│</span>\n",
       "<span style=\"color: #800000; text-decoration-color: #800000\">│</span> <span style=\"color: #800000; text-decoration-color: #800000\">❱ </span>1 trainer.train()                                                                              <span style=\"color: #800000; text-decoration-color: #800000\">│</span>\n",
       "<span style=\"color: #800000; text-decoration-color: #800000\">│</span>   <span style=\"color: #7f7f7f; text-decoration-color: #7f7f7f\">2 </span>model.save_pretrained(<span style=\"color: #808000; text-decoration-color: #808000\">'/aiffel/aiffel/AIFFEL/09_GD_NLP/Quest_09/test_trinity/output_1_SF</span>     <span style=\"color: #800000; text-decoration-color: #800000\">│</span>\n",
       "<span style=\"color: #800000; text-decoration-color: #800000\">│</span>   <span style=\"color: #7f7f7f; text-decoration-color: #7f7f7f\">3 </span>                                                                                             <span style=\"color: #800000; text-decoration-color: #800000\">│</span>\n",
       "<span style=\"color: #800000; text-decoration-color: #800000\">│</span>                                                                                                  <span style=\"color: #800000; text-decoration-color: #800000\">│</span>\n",
       "<span style=\"color: #800000; text-decoration-color: #800000\">│</span> <span style=\"color: #bfbf7f; text-decoration-color: #bfbf7f\">/opt/conda/lib/python3.9/site-packages/transformers/</span><span style=\"color: #808000; text-decoration-color: #808000; font-weight: bold\">trainer.py</span>:<span style=\"color: #0000ff; text-decoration-color: #0000ff\">1662</span> in <span style=\"color: #00ff00; text-decoration-color: #00ff00\">train</span>                     <span style=\"color: #800000; text-decoration-color: #800000\">│</span>\n",
       "<span style=\"color: #800000; text-decoration-color: #800000\">│</span>                                                                                                  <span style=\"color: #800000; text-decoration-color: #800000\">│</span>\n",
       "<span style=\"color: #800000; text-decoration-color: #800000\">│</span>   <span style=\"color: #7f7f7f; text-decoration-color: #7f7f7f\">1659 </span><span style=\"color: #7f7f7f; text-decoration-color: #7f7f7f\">│   │   </span>inner_training_loop = find_executable_batch_size(                                 <span style=\"color: #800000; text-decoration-color: #800000\">│</span>\n",
       "<span style=\"color: #800000; text-decoration-color: #800000\">│</span>   <span style=\"color: #7f7f7f; text-decoration-color: #7f7f7f\">1660 </span><span style=\"color: #7f7f7f; text-decoration-color: #7f7f7f\">│   │   │   </span><span style=\"color: #00ffff; text-decoration-color: #00ffff\">self</span>._inner_training_loop, <span style=\"color: #00ffff; text-decoration-color: #00ffff\">self</span>._train_batch_size, args.auto_find_batch_size  <span style=\"color: #800000; text-decoration-color: #800000\">│</span>\n",
       "<span style=\"color: #800000; text-decoration-color: #800000\">│</span>   <span style=\"color: #7f7f7f; text-decoration-color: #7f7f7f\">1661 </span><span style=\"color: #7f7f7f; text-decoration-color: #7f7f7f\">│   │   </span>)                                                                                 <span style=\"color: #800000; text-decoration-color: #800000\">│</span>\n",
       "<span style=\"color: #800000; text-decoration-color: #800000\">│</span> <span style=\"color: #800000; text-decoration-color: #800000\">❱ </span>1662 <span style=\"color: #7f7f7f; text-decoration-color: #7f7f7f\">│   │   </span><span style=\"color: #0000ff; text-decoration-color: #0000ff\">return</span> inner_training_loop(                                                       <span style=\"color: #800000; text-decoration-color: #800000\">│</span>\n",
       "<span style=\"color: #800000; text-decoration-color: #800000\">│</span>   <span style=\"color: #7f7f7f; text-decoration-color: #7f7f7f\">1663 </span><span style=\"color: #7f7f7f; text-decoration-color: #7f7f7f\">│   │   │   </span>args=args,                                                                    <span style=\"color: #800000; text-decoration-color: #800000\">│</span>\n",
       "<span style=\"color: #800000; text-decoration-color: #800000\">│</span>   <span style=\"color: #7f7f7f; text-decoration-color: #7f7f7f\">1664 </span><span style=\"color: #7f7f7f; text-decoration-color: #7f7f7f\">│   │   │   </span>resume_from_checkpoint=resume_from_checkpoint,                                <span style=\"color: #800000; text-decoration-color: #800000\">│</span>\n",
       "<span style=\"color: #800000; text-decoration-color: #800000\">│</span>   <span style=\"color: #7f7f7f; text-decoration-color: #7f7f7f\">1665 </span><span style=\"color: #7f7f7f; text-decoration-color: #7f7f7f\">│   │   │   </span>trial=trial,                                                                  <span style=\"color: #800000; text-decoration-color: #800000\">│</span>\n",
       "<span style=\"color: #800000; text-decoration-color: #800000\">│</span>                                                                                                  <span style=\"color: #800000; text-decoration-color: #800000\">│</span>\n",
       "<span style=\"color: #800000; text-decoration-color: #800000\">│</span> <span style=\"color: #bfbf7f; text-decoration-color: #bfbf7f\">/opt/conda/lib/python3.9/site-packages/transformers/</span><span style=\"color: #808000; text-decoration-color: #808000; font-weight: bold\">trainer.py</span>:<span style=\"color: #0000ff; text-decoration-color: #0000ff\">1929</span> in <span style=\"color: #00ff00; text-decoration-color: #00ff00\">_inner_training_loop</span>      <span style=\"color: #800000; text-decoration-color: #800000\">│</span>\n",
       "<span style=\"color: #800000; text-decoration-color: #800000\">│</span>                                                                                                  <span style=\"color: #800000; text-decoration-color: #800000\">│</span>\n",
       "<span style=\"color: #800000; text-decoration-color: #800000\">│</span>   <span style=\"color: #7f7f7f; text-decoration-color: #7f7f7f\">1926 </span><span style=\"color: #7f7f7f; text-decoration-color: #7f7f7f\">│   │   │   │   │   </span><span style=\"color: #0000ff; text-decoration-color: #0000ff\">with</span> model.no_sync():                                                 <span style=\"color: #800000; text-decoration-color: #800000\">│</span>\n",
       "<span style=\"color: #800000; text-decoration-color: #800000\">│</span>   <span style=\"color: #7f7f7f; text-decoration-color: #7f7f7f\">1927 </span><span style=\"color: #7f7f7f; text-decoration-color: #7f7f7f\">│   │   │   │   │   │   </span>tr_loss_step = <span style=\"color: #00ffff; text-decoration-color: #00ffff\">self</span>.training_step(model, inputs)                  <span style=\"color: #800000; text-decoration-color: #800000\">│</span>\n",
       "<span style=\"color: #800000; text-decoration-color: #800000\">│</span>   <span style=\"color: #7f7f7f; text-decoration-color: #7f7f7f\">1928 </span><span style=\"color: #7f7f7f; text-decoration-color: #7f7f7f\">│   │   │   │   </span><span style=\"color: #0000ff; text-decoration-color: #0000ff\">else</span>:                                                                     <span style=\"color: #800000; text-decoration-color: #800000\">│</span>\n",
       "<span style=\"color: #800000; text-decoration-color: #800000\">│</span> <span style=\"color: #800000; text-decoration-color: #800000\">❱ </span>1929 <span style=\"color: #7f7f7f; text-decoration-color: #7f7f7f\">│   │   │   │   │   </span>tr_loss_step = <span style=\"color: #00ffff; text-decoration-color: #00ffff\">self</span>.training_step(model, inputs)                      <span style=\"color: #800000; text-decoration-color: #800000\">│</span>\n",
       "<span style=\"color: #800000; text-decoration-color: #800000\">│</span>   <span style=\"color: #7f7f7f; text-decoration-color: #7f7f7f\">1930 </span><span style=\"color: #7f7f7f; text-decoration-color: #7f7f7f\">│   │   │   │   </span>                                                                          <span style=\"color: #800000; text-decoration-color: #800000\">│</span>\n",
       "<span style=\"color: #800000; text-decoration-color: #800000\">│</span>   <span style=\"color: #7f7f7f; text-decoration-color: #7f7f7f\">1931 </span><span style=\"color: #7f7f7f; text-decoration-color: #7f7f7f\">│   │   │   │   </span><span style=\"color: #0000ff; text-decoration-color: #0000ff\">if</span> (                                                                      <span style=\"color: #800000; text-decoration-color: #800000\">│</span>\n",
       "<span style=\"color: #800000; text-decoration-color: #800000\">│</span>   <span style=\"color: #7f7f7f; text-decoration-color: #7f7f7f\">1932 </span><span style=\"color: #7f7f7f; text-decoration-color: #7f7f7f\">│   │   │   │   │   </span>args.logging_nan_inf_filter                                           <span style=\"color: #800000; text-decoration-color: #800000\">│</span>\n",
       "<span style=\"color: #800000; text-decoration-color: #800000\">│</span>                                                                                                  <span style=\"color: #800000; text-decoration-color: #800000\">│</span>\n",
       "<span style=\"color: #800000; text-decoration-color: #800000\">│</span> <span style=\"color: #bfbf7f; text-decoration-color: #bfbf7f\">/opt/conda/lib/python3.9/site-packages/transformers/</span><span style=\"color: #808000; text-decoration-color: #808000; font-weight: bold\">trainer.py</span>:<span style=\"color: #0000ff; text-decoration-color: #0000ff\">2699</span> in <span style=\"color: #00ff00; text-decoration-color: #00ff00\">training_step</span>             <span style=\"color: #800000; text-decoration-color: #800000\">│</span>\n",
       "<span style=\"color: #800000; text-decoration-color: #800000\">│</span>                                                                                                  <span style=\"color: #800000; text-decoration-color: #800000\">│</span>\n",
       "<span style=\"color: #800000; text-decoration-color: #800000\">│</span>   <span style=\"color: #7f7f7f; text-decoration-color: #7f7f7f\">2696 </span><span style=\"color: #7f7f7f; text-decoration-color: #7f7f7f\">│   │   │   </span><span style=\"color: #0000ff; text-decoration-color: #0000ff\">return</span> loss_mb.reduce_mean().detach().to(<span style=\"color: #00ffff; text-decoration-color: #00ffff\">self</span>.args.device)                    <span style=\"color: #800000; text-decoration-color: #800000\">│</span>\n",
       "<span style=\"color: #800000; text-decoration-color: #800000\">│</span>   <span style=\"color: #7f7f7f; text-decoration-color: #7f7f7f\">2697 </span><span style=\"color: #7f7f7f; text-decoration-color: #7f7f7f\">│   │   </span>                                                                                  <span style=\"color: #800000; text-decoration-color: #800000\">│</span>\n",
       "<span style=\"color: #800000; text-decoration-color: #800000\">│</span>   <span style=\"color: #7f7f7f; text-decoration-color: #7f7f7f\">2698 </span><span style=\"color: #7f7f7f; text-decoration-color: #7f7f7f\">│   │   </span><span style=\"color: #0000ff; text-decoration-color: #0000ff\">with</span> <span style=\"color: #00ffff; text-decoration-color: #00ffff\">self</span>.compute_loss_context_manager():                                         <span style=\"color: #800000; text-decoration-color: #800000\">│</span>\n",
       "<span style=\"color: #800000; text-decoration-color: #800000\">│</span> <span style=\"color: #800000; text-decoration-color: #800000\">❱ </span>2699 <span style=\"color: #7f7f7f; text-decoration-color: #7f7f7f\">│   │   │   </span>loss = <span style=\"color: #00ffff; text-decoration-color: #00ffff\">self</span>.compute_loss(model, inputs)                                       <span style=\"color: #800000; text-decoration-color: #800000\">│</span>\n",
       "<span style=\"color: #800000; text-decoration-color: #800000\">│</span>   <span style=\"color: #7f7f7f; text-decoration-color: #7f7f7f\">2700 </span><span style=\"color: #7f7f7f; text-decoration-color: #7f7f7f\">│   │   </span>                                                                                  <span style=\"color: #800000; text-decoration-color: #800000\">│</span>\n",
       "<span style=\"color: #800000; text-decoration-color: #800000\">│</span>   <span style=\"color: #7f7f7f; text-decoration-color: #7f7f7f\">2701 </span><span style=\"color: #7f7f7f; text-decoration-color: #7f7f7f\">│   │   </span><span style=\"color: #0000ff; text-decoration-color: #0000ff\">if</span> <span style=\"color: #00ffff; text-decoration-color: #00ffff\">self</span>.args.n_gpu &gt; <span style=\"color: #0000ff; text-decoration-color: #0000ff\">1</span>:                                                           <span style=\"color: #800000; text-decoration-color: #800000\">│</span>\n",
       "<span style=\"color: #800000; text-decoration-color: #800000\">│</span>   <span style=\"color: #7f7f7f; text-decoration-color: #7f7f7f\">2702 </span><span style=\"color: #7f7f7f; text-decoration-color: #7f7f7f\">│   │   │   </span>loss = loss.mean()  <span style=\"color: #7f7f7f; text-decoration-color: #7f7f7f\"># mean() to average on multi-gpu parallel training</span>        <span style=\"color: #800000; text-decoration-color: #800000\">│</span>\n",
       "<span style=\"color: #800000; text-decoration-color: #800000\">│</span>                                                                                                  <span style=\"color: #800000; text-decoration-color: #800000\">│</span>\n",
       "<span style=\"color: #800000; text-decoration-color: #800000\">│</span> <span style=\"color: #bfbf7f; text-decoration-color: #bfbf7f\">/opt/conda/lib/python3.9/site-packages/transformers/</span><span style=\"color: #808000; text-decoration-color: #808000; font-weight: bold\">trainer.py</span>:<span style=\"color: #0000ff; text-decoration-color: #0000ff\">2731</span> in <span style=\"color: #00ff00; text-decoration-color: #00ff00\">compute_loss</span>              <span style=\"color: #800000; text-decoration-color: #800000\">│</span>\n",
       "<span style=\"color: #800000; text-decoration-color: #800000\">│</span>                                                                                                  <span style=\"color: #800000; text-decoration-color: #800000\">│</span>\n",
       "<span style=\"color: #800000; text-decoration-color: #800000\">│</span>   <span style=\"color: #7f7f7f; text-decoration-color: #7f7f7f\">2728 </span><span style=\"color: #7f7f7f; text-decoration-color: #7f7f7f\">│   │   │   </span>labels = inputs.pop(<span style=\"color: #808000; text-decoration-color: #808000\">\"labels\"</span>)                                                 <span style=\"color: #800000; text-decoration-color: #800000\">│</span>\n",
       "<span style=\"color: #800000; text-decoration-color: #800000\">│</span>   <span style=\"color: #7f7f7f; text-decoration-color: #7f7f7f\">2729 </span><span style=\"color: #7f7f7f; text-decoration-color: #7f7f7f\">│   │   </span><span style=\"color: #0000ff; text-decoration-color: #0000ff\">else</span>:                                                                             <span style=\"color: #800000; text-decoration-color: #800000\">│</span>\n",
       "<span style=\"color: #800000; text-decoration-color: #800000\">│</span>   <span style=\"color: #7f7f7f; text-decoration-color: #7f7f7f\">2730 </span><span style=\"color: #7f7f7f; text-decoration-color: #7f7f7f\">│   │   │   </span>labels = <span style=\"color: #0000ff; text-decoration-color: #0000ff\">None</span>                                                                 <span style=\"color: #800000; text-decoration-color: #800000\">│</span>\n",
       "<span style=\"color: #800000; text-decoration-color: #800000\">│</span> <span style=\"color: #800000; text-decoration-color: #800000\">❱ </span>2731 <span style=\"color: #7f7f7f; text-decoration-color: #7f7f7f\">│   │   </span>outputs = model(**inputs)                                                         <span style=\"color: #800000; text-decoration-color: #800000\">│</span>\n",
       "<span style=\"color: #800000; text-decoration-color: #800000\">│</span>   <span style=\"color: #7f7f7f; text-decoration-color: #7f7f7f\">2732 </span><span style=\"color: #7f7f7f; text-decoration-color: #7f7f7f\">│   │   </span><span style=\"color: #7f7f7f; text-decoration-color: #7f7f7f\"># Save past state if it exists</span>                                                    <span style=\"color: #800000; text-decoration-color: #800000\">│</span>\n",
       "<span style=\"color: #800000; text-decoration-color: #800000\">│</span>   <span style=\"color: #7f7f7f; text-decoration-color: #7f7f7f\">2733 </span><span style=\"color: #7f7f7f; text-decoration-color: #7f7f7f\">│   │   </span><span style=\"color: #7f7f7f; text-decoration-color: #7f7f7f\"># TODO: this needs to be fixed and made cleaner later.</span>                            <span style=\"color: #800000; text-decoration-color: #800000\">│</span>\n",
       "<span style=\"color: #800000; text-decoration-color: #800000\">│</span>   <span style=\"color: #7f7f7f; text-decoration-color: #7f7f7f\">2734 </span><span style=\"color: #7f7f7f; text-decoration-color: #7f7f7f\">│   │   </span><span style=\"color: #0000ff; text-decoration-color: #0000ff\">if</span> <span style=\"color: #00ffff; text-decoration-color: #00ffff\">self</span>.args.past_index &gt;= <span style=\"color: #0000ff; text-decoration-color: #0000ff\">0</span>:                                                     <span style=\"color: #800000; text-decoration-color: #800000\">│</span>\n",
       "<span style=\"color: #800000; text-decoration-color: #800000\">│</span>                                                                                                  <span style=\"color: #800000; text-decoration-color: #800000\">│</span>\n",
       "<span style=\"color: #800000; text-decoration-color: #800000\">│</span> <span style=\"color: #bfbf7f; text-decoration-color: #bfbf7f\">/opt/conda/lib/python3.9/site-packages/torch/nn/modules/</span><span style=\"color: #808000; text-decoration-color: #808000; font-weight: bold\">module.py</span>:<span style=\"color: #0000ff; text-decoration-color: #0000ff\">1130</span> in <span style=\"color: #00ff00; text-decoration-color: #00ff00\">_call_impl</span>             <span style=\"color: #800000; text-decoration-color: #800000\">│</span>\n",
       "<span style=\"color: #800000; text-decoration-color: #800000\">│</span>                                                                                                  <span style=\"color: #800000; text-decoration-color: #800000\">│</span>\n",
       "<span style=\"color: #800000; text-decoration-color: #800000\">│</span>   <span style=\"color: #7f7f7f; text-decoration-color: #7f7f7f\">1127 </span><span style=\"color: #7f7f7f; text-decoration-color: #7f7f7f\">│   │   </span><span style=\"color: #7f7f7f; text-decoration-color: #7f7f7f\"># this function, and just call forward.</span>                                           <span style=\"color: #800000; text-decoration-color: #800000\">│</span>\n",
       "<span style=\"color: #800000; text-decoration-color: #800000\">│</span>   <span style=\"color: #7f7f7f; text-decoration-color: #7f7f7f\">1128 </span><span style=\"color: #7f7f7f; text-decoration-color: #7f7f7f\">│   │   </span><span style=\"color: #0000ff; text-decoration-color: #0000ff\">if</span> <span style=\"color: #ff00ff; text-decoration-color: #ff00ff\">not</span> (<span style=\"color: #00ffff; text-decoration-color: #00ffff\">self</span>._backward_hooks <span style=\"color: #ff00ff; text-decoration-color: #ff00ff\">or</span> <span style=\"color: #00ffff; text-decoration-color: #00ffff\">self</span>._forward_hooks <span style=\"color: #ff00ff; text-decoration-color: #ff00ff\">or</span> <span style=\"color: #00ffff; text-decoration-color: #00ffff\">self</span>._forward_pre_hooks <span style=\"color: #ff00ff; text-decoration-color: #ff00ff\">o</span>  <span style=\"color: #800000; text-decoration-color: #800000\">│</span>\n",
       "<span style=\"color: #800000; text-decoration-color: #800000\">│</span>   <span style=\"color: #7f7f7f; text-decoration-color: #7f7f7f\">1129 </span><span style=\"color: #7f7f7f; text-decoration-color: #7f7f7f\">│   │   │   │   </span><span style=\"color: #ff00ff; text-decoration-color: #ff00ff\">or</span> _global_forward_hooks <span style=\"color: #ff00ff; text-decoration-color: #ff00ff\">or</span> _global_forward_pre_hooks):                   <span style=\"color: #800000; text-decoration-color: #800000\">│</span>\n",
       "<span style=\"color: #800000; text-decoration-color: #800000\">│</span> <span style=\"color: #800000; text-decoration-color: #800000\">❱ </span>1130 <span style=\"color: #7f7f7f; text-decoration-color: #7f7f7f\">│   │   │   </span><span style=\"color: #0000ff; text-decoration-color: #0000ff\">return</span> forward_call(*<span style=\"color: #00ffff; text-decoration-color: #00ffff\">input</span>, **kwargs)                                         <span style=\"color: #800000; text-decoration-color: #800000\">│</span>\n",
       "<span style=\"color: #800000; text-decoration-color: #800000\">│</span>   <span style=\"color: #7f7f7f; text-decoration-color: #7f7f7f\">1131 </span><span style=\"color: #7f7f7f; text-decoration-color: #7f7f7f\">│   │   </span><span style=\"color: #7f7f7f; text-decoration-color: #7f7f7f\"># Do not call functions when jit is used</span>                                          <span style=\"color: #800000; text-decoration-color: #800000\">│</span>\n",
       "<span style=\"color: #800000; text-decoration-color: #800000\">│</span>   <span style=\"color: #7f7f7f; text-decoration-color: #7f7f7f\">1132 </span><span style=\"color: #7f7f7f; text-decoration-color: #7f7f7f\">│   │   </span>full_backward_hooks, non_full_backward_hooks = [], []                             <span style=\"color: #800000; text-decoration-color: #800000\">│</span>\n",
       "<span style=\"color: #800000; text-decoration-color: #800000\">│</span>   <span style=\"color: #7f7f7f; text-decoration-color: #7f7f7f\">1133 </span><span style=\"color: #7f7f7f; text-decoration-color: #7f7f7f\">│   │   </span><span style=\"color: #0000ff; text-decoration-color: #0000ff\">if</span> <span style=\"color: #00ffff; text-decoration-color: #00ffff\">self</span>._backward_hooks <span style=\"color: #ff00ff; text-decoration-color: #ff00ff\">or</span> _global_backward_hooks:                                <span style=\"color: #800000; text-decoration-color: #800000\">│</span>\n",
       "<span style=\"color: #800000; text-decoration-color: #800000\">│</span>                                                                                                  <span style=\"color: #800000; text-decoration-color: #800000\">│</span>\n",
       "<span style=\"color: #800000; text-decoration-color: #800000\">│</span> <span style=\"color: #bfbf7f; text-decoration-color: #bfbf7f\">/opt/conda/lib/python3.9/site-packages/transformers/models/gpt2/</span><span style=\"color: #808000; text-decoration-color: #808000; font-weight: bold\">modeling_gpt2.py</span>:<span style=\"color: #0000ff; text-decoration-color: #0000ff\">1075</span> in <span style=\"color: #00ff00; text-decoration-color: #00ff00\">forward</span> <span style=\"color: #800000; text-decoration-color: #800000\">│</span>\n",
       "<span style=\"color: #800000; text-decoration-color: #800000\">│</span>                                                                                                  <span style=\"color: #800000; text-decoration-color: #800000\">│</span>\n",
       "<span style=\"color: #800000; text-decoration-color: #800000\">│</span>   <span style=\"color: #7f7f7f; text-decoration-color: #7f7f7f\">1072 </span><span style=\"color: #bfbf7f; text-decoration-color: #bfbf7f\">│   │   </span><span style=\"color: #808000; text-decoration-color: #808000\">\"\"\"</span>                                                                               <span style=\"color: #800000; text-decoration-color: #800000\">│</span>\n",
       "<span style=\"color: #800000; text-decoration-color: #800000\">│</span>   <span style=\"color: #7f7f7f; text-decoration-color: #7f7f7f\">1073 </span><span style=\"color: #7f7f7f; text-decoration-color: #7f7f7f\">│   │   </span>return_dict = return_dict <span style=\"color: #0000ff; text-decoration-color: #0000ff\">if</span> return_dict <span style=\"color: #ff00ff; text-decoration-color: #ff00ff\">is</span> <span style=\"color: #ff00ff; text-decoration-color: #ff00ff\">not</span> <span style=\"color: #0000ff; text-decoration-color: #0000ff\">None</span> <span style=\"color: #0000ff; text-decoration-color: #0000ff\">else</span> <span style=\"color: #00ffff; text-decoration-color: #00ffff\">self</span>.config.use_return  <span style=\"color: #800000; text-decoration-color: #800000\">│</span>\n",
       "<span style=\"color: #800000; text-decoration-color: #800000\">│</span>   <span style=\"color: #7f7f7f; text-decoration-color: #7f7f7f\">1074 </span><span style=\"color: #7f7f7f; text-decoration-color: #7f7f7f\">│   │   </span>                                                                                  <span style=\"color: #800000; text-decoration-color: #800000\">│</span>\n",
       "<span style=\"color: #800000; text-decoration-color: #800000\">│</span> <span style=\"color: #800000; text-decoration-color: #800000\">❱ </span>1075 <span style=\"color: #7f7f7f; text-decoration-color: #7f7f7f\">│   │   </span>transformer_outputs = <span style=\"color: #00ffff; text-decoration-color: #00ffff\">self</span>.transformer(                                           <span style=\"color: #800000; text-decoration-color: #800000\">│</span>\n",
       "<span style=\"color: #800000; text-decoration-color: #800000\">│</span>   <span style=\"color: #7f7f7f; text-decoration-color: #7f7f7f\">1076 </span><span style=\"color: #7f7f7f; text-decoration-color: #7f7f7f\">│   │   │   </span>input_ids,                                                                    <span style=\"color: #800000; text-decoration-color: #800000\">│</span>\n",
       "<span style=\"color: #800000; text-decoration-color: #800000\">│</span>   <span style=\"color: #7f7f7f; text-decoration-color: #7f7f7f\">1077 </span><span style=\"color: #7f7f7f; text-decoration-color: #7f7f7f\">│   │   │   </span>past_key_values=past_key_values,                                              <span style=\"color: #800000; text-decoration-color: #800000\">│</span>\n",
       "<span style=\"color: #800000; text-decoration-color: #800000\">│</span>   <span style=\"color: #7f7f7f; text-decoration-color: #7f7f7f\">1078 </span><span style=\"color: #7f7f7f; text-decoration-color: #7f7f7f\">│   │   │   </span>attention_mask=attention_mask,                                                <span style=\"color: #800000; text-decoration-color: #800000\">│</span>\n",
       "<span style=\"color: #800000; text-decoration-color: #800000\">│</span>                                                                                                  <span style=\"color: #800000; text-decoration-color: #800000\">│</span>\n",
       "<span style=\"color: #800000; text-decoration-color: #800000\">│</span> <span style=\"color: #bfbf7f; text-decoration-color: #bfbf7f\">/opt/conda/lib/python3.9/site-packages/torch/nn/modules/</span><span style=\"color: #808000; text-decoration-color: #808000; font-weight: bold\">module.py</span>:<span style=\"color: #0000ff; text-decoration-color: #0000ff\">1130</span> in <span style=\"color: #00ff00; text-decoration-color: #00ff00\">_call_impl</span>             <span style=\"color: #800000; text-decoration-color: #800000\">│</span>\n",
       "<span style=\"color: #800000; text-decoration-color: #800000\">│</span>                                                                                                  <span style=\"color: #800000; text-decoration-color: #800000\">│</span>\n",
       "<span style=\"color: #800000; text-decoration-color: #800000\">│</span>   <span style=\"color: #7f7f7f; text-decoration-color: #7f7f7f\">1127 </span><span style=\"color: #7f7f7f; text-decoration-color: #7f7f7f\">│   │   </span><span style=\"color: #7f7f7f; text-decoration-color: #7f7f7f\"># this function, and just call forward.</span>                                           <span style=\"color: #800000; text-decoration-color: #800000\">│</span>\n",
       "<span style=\"color: #800000; text-decoration-color: #800000\">│</span>   <span style=\"color: #7f7f7f; text-decoration-color: #7f7f7f\">1128 </span><span style=\"color: #7f7f7f; text-decoration-color: #7f7f7f\">│   │   </span><span style=\"color: #0000ff; text-decoration-color: #0000ff\">if</span> <span style=\"color: #ff00ff; text-decoration-color: #ff00ff\">not</span> (<span style=\"color: #00ffff; text-decoration-color: #00ffff\">self</span>._backward_hooks <span style=\"color: #ff00ff; text-decoration-color: #ff00ff\">or</span> <span style=\"color: #00ffff; text-decoration-color: #00ffff\">self</span>._forward_hooks <span style=\"color: #ff00ff; text-decoration-color: #ff00ff\">or</span> <span style=\"color: #00ffff; text-decoration-color: #00ffff\">self</span>._forward_pre_hooks <span style=\"color: #ff00ff; text-decoration-color: #ff00ff\">o</span>  <span style=\"color: #800000; text-decoration-color: #800000\">│</span>\n",
       "<span style=\"color: #800000; text-decoration-color: #800000\">│</span>   <span style=\"color: #7f7f7f; text-decoration-color: #7f7f7f\">1129 </span><span style=\"color: #7f7f7f; text-decoration-color: #7f7f7f\">│   │   │   │   </span><span style=\"color: #ff00ff; text-decoration-color: #ff00ff\">or</span> _global_forward_hooks <span style=\"color: #ff00ff; text-decoration-color: #ff00ff\">or</span> _global_forward_pre_hooks):                   <span style=\"color: #800000; text-decoration-color: #800000\">│</span>\n",
       "<span style=\"color: #800000; text-decoration-color: #800000\">│</span> <span style=\"color: #800000; text-decoration-color: #800000\">❱ </span>1130 <span style=\"color: #7f7f7f; text-decoration-color: #7f7f7f\">│   │   │   </span><span style=\"color: #0000ff; text-decoration-color: #0000ff\">return</span> forward_call(*<span style=\"color: #00ffff; text-decoration-color: #00ffff\">input</span>, **kwargs)                                         <span style=\"color: #800000; text-decoration-color: #800000\">│</span>\n",
       "<span style=\"color: #800000; text-decoration-color: #800000\">│</span>   <span style=\"color: #7f7f7f; text-decoration-color: #7f7f7f\">1131 </span><span style=\"color: #7f7f7f; text-decoration-color: #7f7f7f\">│   │   </span><span style=\"color: #7f7f7f; text-decoration-color: #7f7f7f\"># Do not call functions when jit is used</span>                                          <span style=\"color: #800000; text-decoration-color: #800000\">│</span>\n",
       "<span style=\"color: #800000; text-decoration-color: #800000\">│</span>   <span style=\"color: #7f7f7f; text-decoration-color: #7f7f7f\">1132 </span><span style=\"color: #7f7f7f; text-decoration-color: #7f7f7f\">│   │   </span>full_backward_hooks, non_full_backward_hooks = [], []                             <span style=\"color: #800000; text-decoration-color: #800000\">│</span>\n",
       "<span style=\"color: #800000; text-decoration-color: #800000\">│</span>   <span style=\"color: #7f7f7f; text-decoration-color: #7f7f7f\">1133 </span><span style=\"color: #7f7f7f; text-decoration-color: #7f7f7f\">│   │   </span><span style=\"color: #0000ff; text-decoration-color: #0000ff\">if</span> <span style=\"color: #00ffff; text-decoration-color: #00ffff\">self</span>._backward_hooks <span style=\"color: #ff00ff; text-decoration-color: #ff00ff\">or</span> _global_backward_hooks:                                <span style=\"color: #800000; text-decoration-color: #800000\">│</span>\n",
       "<span style=\"color: #800000; text-decoration-color: #800000\">│</span>                                                                                                  <span style=\"color: #800000; text-decoration-color: #800000\">│</span>\n",
       "<span style=\"color: #800000; text-decoration-color: #800000\">│</span> <span style=\"color: #bfbf7f; text-decoration-color: #bfbf7f\">/opt/conda/lib/python3.9/site-packages/transformers/models/gpt2/</span><span style=\"color: #808000; text-decoration-color: #808000; font-weight: bold\">modeling_gpt2.py</span>:<span style=\"color: #0000ff; text-decoration-color: #0000ff\">899</span> in <span style=\"color: #00ff00; text-decoration-color: #00ff00\">forward</span>  <span style=\"color: #800000; text-decoration-color: #800000\">│</span>\n",
       "<span style=\"color: #800000; text-decoration-color: #800000\">│</span>                                                                                                  <span style=\"color: #800000; text-decoration-color: #800000\">│</span>\n",
       "<span style=\"color: #800000; text-decoration-color: #800000\">│</span>   <span style=\"color: #7f7f7f; text-decoration-color: #7f7f7f\"> 896 </span><span style=\"color: #7f7f7f; text-decoration-color: #7f7f7f\">│   │   │   │   │   </span>encoder_attention_mask,                                               <span style=\"color: #800000; text-decoration-color: #800000\">│</span>\n",
       "<span style=\"color: #800000; text-decoration-color: #800000\">│</span>   <span style=\"color: #7f7f7f; text-decoration-color: #7f7f7f\"> 897 </span><span style=\"color: #7f7f7f; text-decoration-color: #7f7f7f\">│   │   │   │   </span>)                                                                         <span style=\"color: #800000; text-decoration-color: #800000\">│</span>\n",
       "<span style=\"color: #800000; text-decoration-color: #800000\">│</span>   <span style=\"color: #7f7f7f; text-decoration-color: #7f7f7f\"> 898 </span><span style=\"color: #7f7f7f; text-decoration-color: #7f7f7f\">│   │   │   </span><span style=\"color: #0000ff; text-decoration-color: #0000ff\">else</span>:                                                                         <span style=\"color: #800000; text-decoration-color: #800000\">│</span>\n",
       "<span style=\"color: #800000; text-decoration-color: #800000\">│</span> <span style=\"color: #800000; text-decoration-color: #800000\">❱ </span> 899 <span style=\"color: #7f7f7f; text-decoration-color: #7f7f7f\">│   │   │   │   </span>outputs = block(                                                          <span style=\"color: #800000; text-decoration-color: #800000\">│</span>\n",
       "<span style=\"color: #800000; text-decoration-color: #800000\">│</span>   <span style=\"color: #7f7f7f; text-decoration-color: #7f7f7f\"> 900 </span><span style=\"color: #7f7f7f; text-decoration-color: #7f7f7f\">│   │   │   │   │   </span>hidden_states,                                                        <span style=\"color: #800000; text-decoration-color: #800000\">│</span>\n",
       "<span style=\"color: #800000; text-decoration-color: #800000\">│</span>   <span style=\"color: #7f7f7f; text-decoration-color: #7f7f7f\"> 901 </span><span style=\"color: #7f7f7f; text-decoration-color: #7f7f7f\">│   │   │   │   │   </span>layer_past=layer_past,                                                <span style=\"color: #800000; text-decoration-color: #800000\">│</span>\n",
       "<span style=\"color: #800000; text-decoration-color: #800000\">│</span>   <span style=\"color: #7f7f7f; text-decoration-color: #7f7f7f\"> 902 </span><span style=\"color: #7f7f7f; text-decoration-color: #7f7f7f\">│   │   │   │   │   </span>attention_mask=attention_mask,                                        <span style=\"color: #800000; text-decoration-color: #800000\">│</span>\n",
       "<span style=\"color: #800000; text-decoration-color: #800000\">│</span>                                                                                                  <span style=\"color: #800000; text-decoration-color: #800000\">│</span>\n",
       "<span style=\"color: #800000; text-decoration-color: #800000\">│</span> <span style=\"color: #bfbf7f; text-decoration-color: #bfbf7f\">/opt/conda/lib/python3.9/site-packages/torch/nn/modules/</span><span style=\"color: #808000; text-decoration-color: #808000; font-weight: bold\">module.py</span>:<span style=\"color: #0000ff; text-decoration-color: #0000ff\">1130</span> in <span style=\"color: #00ff00; text-decoration-color: #00ff00\">_call_impl</span>             <span style=\"color: #800000; text-decoration-color: #800000\">│</span>\n",
       "<span style=\"color: #800000; text-decoration-color: #800000\">│</span>                                                                                                  <span style=\"color: #800000; text-decoration-color: #800000\">│</span>\n",
       "<span style=\"color: #800000; text-decoration-color: #800000\">│</span>   <span style=\"color: #7f7f7f; text-decoration-color: #7f7f7f\">1127 </span><span style=\"color: #7f7f7f; text-decoration-color: #7f7f7f\">│   │   </span><span style=\"color: #7f7f7f; text-decoration-color: #7f7f7f\"># this function, and just call forward.</span>                                           <span style=\"color: #800000; text-decoration-color: #800000\">│</span>\n",
       "<span style=\"color: #800000; text-decoration-color: #800000\">│</span>   <span style=\"color: #7f7f7f; text-decoration-color: #7f7f7f\">1128 </span><span style=\"color: #7f7f7f; text-decoration-color: #7f7f7f\">│   │   </span><span style=\"color: #0000ff; text-decoration-color: #0000ff\">if</span> <span style=\"color: #ff00ff; text-decoration-color: #ff00ff\">not</span> (<span style=\"color: #00ffff; text-decoration-color: #00ffff\">self</span>._backward_hooks <span style=\"color: #ff00ff; text-decoration-color: #ff00ff\">or</span> <span style=\"color: #00ffff; text-decoration-color: #00ffff\">self</span>._forward_hooks <span style=\"color: #ff00ff; text-decoration-color: #ff00ff\">or</span> <span style=\"color: #00ffff; text-decoration-color: #00ffff\">self</span>._forward_pre_hooks <span style=\"color: #ff00ff; text-decoration-color: #ff00ff\">o</span>  <span style=\"color: #800000; text-decoration-color: #800000\">│</span>\n",
       "<span style=\"color: #800000; text-decoration-color: #800000\">│</span>   <span style=\"color: #7f7f7f; text-decoration-color: #7f7f7f\">1129 </span><span style=\"color: #7f7f7f; text-decoration-color: #7f7f7f\">│   │   │   │   </span><span style=\"color: #ff00ff; text-decoration-color: #ff00ff\">or</span> _global_forward_hooks <span style=\"color: #ff00ff; text-decoration-color: #ff00ff\">or</span> _global_forward_pre_hooks):                   <span style=\"color: #800000; text-decoration-color: #800000\">│</span>\n",
       "<span style=\"color: #800000; text-decoration-color: #800000\">│</span> <span style=\"color: #800000; text-decoration-color: #800000\">❱ </span>1130 <span style=\"color: #7f7f7f; text-decoration-color: #7f7f7f\">│   │   │   </span><span style=\"color: #0000ff; text-decoration-color: #0000ff\">return</span> forward_call(*<span style=\"color: #00ffff; text-decoration-color: #00ffff\">input</span>, **kwargs)                                         <span style=\"color: #800000; text-decoration-color: #800000\">│</span>\n",
       "<span style=\"color: #800000; text-decoration-color: #800000\">│</span>   <span style=\"color: #7f7f7f; text-decoration-color: #7f7f7f\">1131 </span><span style=\"color: #7f7f7f; text-decoration-color: #7f7f7f\">│   │   </span><span style=\"color: #7f7f7f; text-decoration-color: #7f7f7f\"># Do not call functions when jit is used</span>                                          <span style=\"color: #800000; text-decoration-color: #800000\">│</span>\n",
       "<span style=\"color: #800000; text-decoration-color: #800000\">│</span>   <span style=\"color: #7f7f7f; text-decoration-color: #7f7f7f\">1132 </span><span style=\"color: #7f7f7f; text-decoration-color: #7f7f7f\">│   │   </span>full_backward_hooks, non_full_backward_hooks = [], []                             <span style=\"color: #800000; text-decoration-color: #800000\">│</span>\n",
       "<span style=\"color: #800000; text-decoration-color: #800000\">│</span>   <span style=\"color: #7f7f7f; text-decoration-color: #7f7f7f\">1133 </span><span style=\"color: #7f7f7f; text-decoration-color: #7f7f7f\">│   │   </span><span style=\"color: #0000ff; text-decoration-color: #0000ff\">if</span> <span style=\"color: #00ffff; text-decoration-color: #00ffff\">self</span>._backward_hooks <span style=\"color: #ff00ff; text-decoration-color: #ff00ff\">or</span> _global_backward_hooks:                                <span style=\"color: #800000; text-decoration-color: #800000\">│</span>\n",
       "<span style=\"color: #800000; text-decoration-color: #800000\">│</span>                                                                                                  <span style=\"color: #800000; text-decoration-color: #800000\">│</span>\n",
       "<span style=\"color: #800000; text-decoration-color: #800000\">│</span> <span style=\"color: #bfbf7f; text-decoration-color: #bfbf7f\">/opt/conda/lib/python3.9/site-packages/transformers/models/gpt2/</span><span style=\"color: #808000; text-decoration-color: #808000; font-weight: bold\">modeling_gpt2.py</span>:<span style=\"color: #0000ff; text-decoration-color: #0000ff\">389</span> in <span style=\"color: #00ff00; text-decoration-color: #00ff00\">forward</span>  <span style=\"color: #800000; text-decoration-color: #800000\">│</span>\n",
       "<span style=\"color: #800000; text-decoration-color: #800000\">│</span>                                                                                                  <span style=\"color: #800000; text-decoration-color: #800000\">│</span>\n",
       "<span style=\"color: #800000; text-decoration-color: #800000\">│</span>   <span style=\"color: #7f7f7f; text-decoration-color: #7f7f7f\"> 386 </span><span style=\"color: #7f7f7f; text-decoration-color: #7f7f7f\">│   </span>) -&gt; Union[Tuple[torch.Tensor], Optional[Tuple[torch.Tensor, Tuple[torch.FloatTensor  <span style=\"color: #800000; text-decoration-color: #800000\">│</span>\n",
       "<span style=\"color: #800000; text-decoration-color: #800000\">│</span>   <span style=\"color: #7f7f7f; text-decoration-color: #7f7f7f\"> 387 </span><span style=\"color: #7f7f7f; text-decoration-color: #7f7f7f\">│   │   </span>residual = hidden_states                                                          <span style=\"color: #800000; text-decoration-color: #800000\">│</span>\n",
       "<span style=\"color: #800000; text-decoration-color: #800000\">│</span>   <span style=\"color: #7f7f7f; text-decoration-color: #7f7f7f\"> 388 </span><span style=\"color: #7f7f7f; text-decoration-color: #7f7f7f\">│   │   </span>hidden_states = <span style=\"color: #00ffff; text-decoration-color: #00ffff\">self</span>.ln_1(hidden_states)                                          <span style=\"color: #800000; text-decoration-color: #800000\">│</span>\n",
       "<span style=\"color: #800000; text-decoration-color: #800000\">│</span> <span style=\"color: #800000; text-decoration-color: #800000\">❱ </span> 389 <span style=\"color: #7f7f7f; text-decoration-color: #7f7f7f\">│   │   </span>attn_outputs = <span style=\"color: #00ffff; text-decoration-color: #00ffff\">self</span>.attn(                                                         <span style=\"color: #800000; text-decoration-color: #800000\">│</span>\n",
       "<span style=\"color: #800000; text-decoration-color: #800000\">│</span>   <span style=\"color: #7f7f7f; text-decoration-color: #7f7f7f\"> 390 </span><span style=\"color: #7f7f7f; text-decoration-color: #7f7f7f\">│   │   │   </span>hidden_states,                                                                <span style=\"color: #800000; text-decoration-color: #800000\">│</span>\n",
       "<span style=\"color: #800000; text-decoration-color: #800000\">│</span>   <span style=\"color: #7f7f7f; text-decoration-color: #7f7f7f\"> 391 </span><span style=\"color: #7f7f7f; text-decoration-color: #7f7f7f\">│   │   │   </span>layer_past=layer_past,                                                        <span style=\"color: #800000; text-decoration-color: #800000\">│</span>\n",
       "<span style=\"color: #800000; text-decoration-color: #800000\">│</span>   <span style=\"color: #7f7f7f; text-decoration-color: #7f7f7f\"> 392 </span><span style=\"color: #7f7f7f; text-decoration-color: #7f7f7f\">│   │   │   </span>attention_mask=attention_mask,                                                <span style=\"color: #800000; text-decoration-color: #800000\">│</span>\n",
       "<span style=\"color: #800000; text-decoration-color: #800000\">│</span>                                                                                                  <span style=\"color: #800000; text-decoration-color: #800000\">│</span>\n",
       "<span style=\"color: #800000; text-decoration-color: #800000\">│</span> <span style=\"color: #bfbf7f; text-decoration-color: #bfbf7f\">/opt/conda/lib/python3.9/site-packages/torch/nn/modules/</span><span style=\"color: #808000; text-decoration-color: #808000; font-weight: bold\">module.py</span>:<span style=\"color: #0000ff; text-decoration-color: #0000ff\">1130</span> in <span style=\"color: #00ff00; text-decoration-color: #00ff00\">_call_impl</span>             <span style=\"color: #800000; text-decoration-color: #800000\">│</span>\n",
       "<span style=\"color: #800000; text-decoration-color: #800000\">│</span>                                                                                                  <span style=\"color: #800000; text-decoration-color: #800000\">│</span>\n",
       "<span style=\"color: #800000; text-decoration-color: #800000\">│</span>   <span style=\"color: #7f7f7f; text-decoration-color: #7f7f7f\">1127 </span><span style=\"color: #7f7f7f; text-decoration-color: #7f7f7f\">│   │   </span><span style=\"color: #7f7f7f; text-decoration-color: #7f7f7f\"># this function, and just call forward.</span>                                           <span style=\"color: #800000; text-decoration-color: #800000\">│</span>\n",
       "<span style=\"color: #800000; text-decoration-color: #800000\">│</span>   <span style=\"color: #7f7f7f; text-decoration-color: #7f7f7f\">1128 </span><span style=\"color: #7f7f7f; text-decoration-color: #7f7f7f\">│   │   </span><span style=\"color: #0000ff; text-decoration-color: #0000ff\">if</span> <span style=\"color: #ff00ff; text-decoration-color: #ff00ff\">not</span> (<span style=\"color: #00ffff; text-decoration-color: #00ffff\">self</span>._backward_hooks <span style=\"color: #ff00ff; text-decoration-color: #ff00ff\">or</span> <span style=\"color: #00ffff; text-decoration-color: #00ffff\">self</span>._forward_hooks <span style=\"color: #ff00ff; text-decoration-color: #ff00ff\">or</span> <span style=\"color: #00ffff; text-decoration-color: #00ffff\">self</span>._forward_pre_hooks <span style=\"color: #ff00ff; text-decoration-color: #ff00ff\">o</span>  <span style=\"color: #800000; text-decoration-color: #800000\">│</span>\n",
       "<span style=\"color: #800000; text-decoration-color: #800000\">│</span>   <span style=\"color: #7f7f7f; text-decoration-color: #7f7f7f\">1129 </span><span style=\"color: #7f7f7f; text-decoration-color: #7f7f7f\">│   │   │   │   </span><span style=\"color: #ff00ff; text-decoration-color: #ff00ff\">or</span> _global_forward_hooks <span style=\"color: #ff00ff; text-decoration-color: #ff00ff\">or</span> _global_forward_pre_hooks):                   <span style=\"color: #800000; text-decoration-color: #800000\">│</span>\n",
       "<span style=\"color: #800000; text-decoration-color: #800000\">│</span> <span style=\"color: #800000; text-decoration-color: #800000\">❱ </span>1130 <span style=\"color: #7f7f7f; text-decoration-color: #7f7f7f\">│   │   │   </span><span style=\"color: #0000ff; text-decoration-color: #0000ff\">return</span> forward_call(*<span style=\"color: #00ffff; text-decoration-color: #00ffff\">input</span>, **kwargs)                                         <span style=\"color: #800000; text-decoration-color: #800000\">│</span>\n",
       "<span style=\"color: #800000; text-decoration-color: #800000\">│</span>   <span style=\"color: #7f7f7f; text-decoration-color: #7f7f7f\">1131 </span><span style=\"color: #7f7f7f; text-decoration-color: #7f7f7f\">│   │   </span><span style=\"color: #7f7f7f; text-decoration-color: #7f7f7f\"># Do not call functions when jit is used</span>                                          <span style=\"color: #800000; text-decoration-color: #800000\">│</span>\n",
       "<span style=\"color: #800000; text-decoration-color: #800000\">│</span>   <span style=\"color: #7f7f7f; text-decoration-color: #7f7f7f\">1132 </span><span style=\"color: #7f7f7f; text-decoration-color: #7f7f7f\">│   │   </span>full_backward_hooks, non_full_backward_hooks = [], []                             <span style=\"color: #800000; text-decoration-color: #800000\">│</span>\n",
       "<span style=\"color: #800000; text-decoration-color: #800000\">│</span>   <span style=\"color: #7f7f7f; text-decoration-color: #7f7f7f\">1133 </span><span style=\"color: #7f7f7f; text-decoration-color: #7f7f7f\">│   │   </span><span style=\"color: #0000ff; text-decoration-color: #0000ff\">if</span> <span style=\"color: #00ffff; text-decoration-color: #00ffff\">self</span>._backward_hooks <span style=\"color: #ff00ff; text-decoration-color: #ff00ff\">or</span> _global_backward_hooks:                                <span style=\"color: #800000; text-decoration-color: #800000\">│</span>\n",
       "<span style=\"color: #800000; text-decoration-color: #800000\">│</span>                                                                                                  <span style=\"color: #800000; text-decoration-color: #800000\">│</span>\n",
       "<span style=\"color: #800000; text-decoration-color: #800000\">│</span> <span style=\"color: #bfbf7f; text-decoration-color: #bfbf7f\">/opt/conda/lib/python3.9/site-packages/transformers/models/gpt2/</span><span style=\"color: #808000; text-decoration-color: #808000; font-weight: bold\">modeling_gpt2.py</span>:<span style=\"color: #0000ff; text-decoration-color: #0000ff\">311</span> in <span style=\"color: #00ff00; text-decoration-color: #00ff00\">forward</span>  <span style=\"color: #800000; text-decoration-color: #800000\">│</span>\n",
       "<span style=\"color: #800000; text-decoration-color: #800000\">│</span>                                                                                                  <span style=\"color: #800000; text-decoration-color: #800000\">│</span>\n",
       "<span style=\"color: #800000; text-decoration-color: #800000\">│</span>   <span style=\"color: #7f7f7f; text-decoration-color: #7f7f7f\"> 308 </span><span style=\"color: #7f7f7f; text-decoration-color: #7f7f7f\">│   │   │   </span>key, value = <span style=\"color: #00ffff; text-decoration-color: #00ffff\">self</span>.c_attn(encoder_hidden_states).split(<span style=\"color: #00ffff; text-decoration-color: #00ffff\">self</span>.split_size, dim=<span style=\"color: #0000ff; text-decoration-color: #0000ff\">2</span>  <span style=\"color: #800000; text-decoration-color: #800000\">│</span>\n",
       "<span style=\"color: #800000; text-decoration-color: #800000\">│</span>   <span style=\"color: #7f7f7f; text-decoration-color: #7f7f7f\"> 309 </span><span style=\"color: #7f7f7f; text-decoration-color: #7f7f7f\">│   │   │   </span>attention_mask = encoder_attention_mask                                       <span style=\"color: #800000; text-decoration-color: #800000\">│</span>\n",
       "<span style=\"color: #800000; text-decoration-color: #800000\">│</span>   <span style=\"color: #7f7f7f; text-decoration-color: #7f7f7f\"> 310 </span><span style=\"color: #7f7f7f; text-decoration-color: #7f7f7f\">│   │   </span><span style=\"color: #0000ff; text-decoration-color: #0000ff\">else</span>:                                                                             <span style=\"color: #800000; text-decoration-color: #800000\">│</span>\n",
       "<span style=\"color: #800000; text-decoration-color: #800000\">│</span> <span style=\"color: #800000; text-decoration-color: #800000\">❱ </span> 311 <span style=\"color: #7f7f7f; text-decoration-color: #7f7f7f\">│   │   │   </span>query, key, value = <span style=\"color: #00ffff; text-decoration-color: #00ffff\">self</span>.c_attn(hidden_states).split(<span style=\"color: #00ffff; text-decoration-color: #00ffff\">self</span>.split_size, dim=<span style=\"color: #0000ff; text-decoration-color: #0000ff\">2</span>)  <span style=\"color: #800000; text-decoration-color: #800000\">│</span>\n",
       "<span style=\"color: #800000; text-decoration-color: #800000\">│</span>   <span style=\"color: #7f7f7f; text-decoration-color: #7f7f7f\"> 312 </span><span style=\"color: #7f7f7f; text-decoration-color: #7f7f7f\">│   │   </span>                                                                                  <span style=\"color: #800000; text-decoration-color: #800000\">│</span>\n",
       "<span style=\"color: #800000; text-decoration-color: #800000\">│</span>   <span style=\"color: #7f7f7f; text-decoration-color: #7f7f7f\"> 313 </span><span style=\"color: #7f7f7f; text-decoration-color: #7f7f7f\">│   │   </span>query = <span style=\"color: #00ffff; text-decoration-color: #00ffff\">self</span>._split_heads(query, <span style=\"color: #00ffff; text-decoration-color: #00ffff\">self</span>.num_heads, <span style=\"color: #00ffff; text-decoration-color: #00ffff\">self</span>.head_dim)                   <span style=\"color: #800000; text-decoration-color: #800000\">│</span>\n",
       "<span style=\"color: #800000; text-decoration-color: #800000\">│</span>   <span style=\"color: #7f7f7f; text-decoration-color: #7f7f7f\"> 314 </span><span style=\"color: #7f7f7f; text-decoration-color: #7f7f7f\">│   │   </span>key = <span style=\"color: #00ffff; text-decoration-color: #00ffff\">self</span>._split_heads(key, <span style=\"color: #00ffff; text-decoration-color: #00ffff\">self</span>.num_heads, <span style=\"color: #00ffff; text-decoration-color: #00ffff\">self</span>.head_dim)                       <span style=\"color: #800000; text-decoration-color: #800000\">│</span>\n",
       "<span style=\"color: #800000; text-decoration-color: #800000\">│</span>                                                                                                  <span style=\"color: #800000; text-decoration-color: #800000\">│</span>\n",
       "<span style=\"color: #800000; text-decoration-color: #800000\">│</span> <span style=\"color: #bfbf7f; text-decoration-color: #bfbf7f\">/opt/conda/lib/python3.9/site-packages/torch/nn/modules/</span><span style=\"color: #808000; text-decoration-color: #808000; font-weight: bold\">module.py</span>:<span style=\"color: #0000ff; text-decoration-color: #0000ff\">1130</span> in <span style=\"color: #00ff00; text-decoration-color: #00ff00\">_call_impl</span>             <span style=\"color: #800000; text-decoration-color: #800000\">│</span>\n",
       "<span style=\"color: #800000; text-decoration-color: #800000\">│</span>                                                                                                  <span style=\"color: #800000; text-decoration-color: #800000\">│</span>\n",
       "<span style=\"color: #800000; text-decoration-color: #800000\">│</span>   <span style=\"color: #7f7f7f; text-decoration-color: #7f7f7f\">1127 </span><span style=\"color: #7f7f7f; text-decoration-color: #7f7f7f\">│   │   </span><span style=\"color: #7f7f7f; text-decoration-color: #7f7f7f\"># this function, and just call forward.</span>                                           <span style=\"color: #800000; text-decoration-color: #800000\">│</span>\n",
       "<span style=\"color: #800000; text-decoration-color: #800000\">│</span>   <span style=\"color: #7f7f7f; text-decoration-color: #7f7f7f\">1128 </span><span style=\"color: #7f7f7f; text-decoration-color: #7f7f7f\">│   │   </span><span style=\"color: #0000ff; text-decoration-color: #0000ff\">if</span> <span style=\"color: #ff00ff; text-decoration-color: #ff00ff\">not</span> (<span style=\"color: #00ffff; text-decoration-color: #00ffff\">self</span>._backward_hooks <span style=\"color: #ff00ff; text-decoration-color: #ff00ff\">or</span> <span style=\"color: #00ffff; text-decoration-color: #00ffff\">self</span>._forward_hooks <span style=\"color: #ff00ff; text-decoration-color: #ff00ff\">or</span> <span style=\"color: #00ffff; text-decoration-color: #00ffff\">self</span>._forward_pre_hooks <span style=\"color: #ff00ff; text-decoration-color: #ff00ff\">o</span>  <span style=\"color: #800000; text-decoration-color: #800000\">│</span>\n",
       "<span style=\"color: #800000; text-decoration-color: #800000\">│</span>   <span style=\"color: #7f7f7f; text-decoration-color: #7f7f7f\">1129 </span><span style=\"color: #7f7f7f; text-decoration-color: #7f7f7f\">│   │   │   │   </span><span style=\"color: #ff00ff; text-decoration-color: #ff00ff\">or</span> _global_forward_hooks <span style=\"color: #ff00ff; text-decoration-color: #ff00ff\">or</span> _global_forward_pre_hooks):                   <span style=\"color: #800000; text-decoration-color: #800000\">│</span>\n",
       "<span style=\"color: #800000; text-decoration-color: #800000\">│</span> <span style=\"color: #800000; text-decoration-color: #800000\">❱ </span>1130 <span style=\"color: #7f7f7f; text-decoration-color: #7f7f7f\">│   │   │   </span><span style=\"color: #0000ff; text-decoration-color: #0000ff\">return</span> forward_call(*<span style=\"color: #00ffff; text-decoration-color: #00ffff\">input</span>, **kwargs)                                         <span style=\"color: #800000; text-decoration-color: #800000\">│</span>\n",
       "<span style=\"color: #800000; text-decoration-color: #800000\">│</span>   <span style=\"color: #7f7f7f; text-decoration-color: #7f7f7f\">1131 </span><span style=\"color: #7f7f7f; text-decoration-color: #7f7f7f\">│   │   </span><span style=\"color: #7f7f7f; text-decoration-color: #7f7f7f\"># Do not call functions when jit is used</span>                                          <span style=\"color: #800000; text-decoration-color: #800000\">│</span>\n",
       "<span style=\"color: #800000; text-decoration-color: #800000\">│</span>   <span style=\"color: #7f7f7f; text-decoration-color: #7f7f7f\">1132 </span><span style=\"color: #7f7f7f; text-decoration-color: #7f7f7f\">│   │   </span>full_backward_hooks, non_full_backward_hooks = [], []                             <span style=\"color: #800000; text-decoration-color: #800000\">│</span>\n",
       "<span style=\"color: #800000; text-decoration-color: #800000\">│</span>   <span style=\"color: #7f7f7f; text-decoration-color: #7f7f7f\">1133 </span><span style=\"color: #7f7f7f; text-decoration-color: #7f7f7f\">│   │   </span><span style=\"color: #0000ff; text-decoration-color: #0000ff\">if</span> <span style=\"color: #00ffff; text-decoration-color: #00ffff\">self</span>._backward_hooks <span style=\"color: #ff00ff; text-decoration-color: #ff00ff\">or</span> _global_backward_hooks:                                <span style=\"color: #800000; text-decoration-color: #800000\">│</span>\n",
       "<span style=\"color: #800000; text-decoration-color: #800000\">│</span>                                                                                                  <span style=\"color: #800000; text-decoration-color: #800000\">│</span>\n",
       "<span style=\"color: #800000; text-decoration-color: #800000\">│</span> <span style=\"color: #bfbf7f; text-decoration-color: #bfbf7f\">/opt/conda/lib/python3.9/site-packages/transformers/</span><span style=\"color: #808000; text-decoration-color: #808000; font-weight: bold\">pytorch_utils.py</span>:<span style=\"color: #0000ff; text-decoration-color: #0000ff\">102</span> in <span style=\"color: #00ff00; text-decoration-color: #00ff00\">forward</span>              <span style=\"color: #800000; text-decoration-color: #800000\">│</span>\n",
       "<span style=\"color: #800000; text-decoration-color: #800000\">│</span>                                                                                                  <span style=\"color: #800000; text-decoration-color: #800000\">│</span>\n",
       "<span style=\"color: #800000; text-decoration-color: #800000\">│</span>   <span style=\"color: #7f7f7f; text-decoration-color: #7f7f7f\"> 99 </span><span style=\"color: #7f7f7f; text-decoration-color: #7f7f7f\">│   </span>                                                                                       <span style=\"color: #800000; text-decoration-color: #800000\">│</span>\n",
       "<span style=\"color: #800000; text-decoration-color: #800000\">│</span>   <span style=\"color: #7f7f7f; text-decoration-color: #7f7f7f\">100 </span><span style=\"color: #7f7f7f; text-decoration-color: #7f7f7f\">│   </span><span style=\"color: #0000ff; text-decoration-color: #0000ff\">def</span> <span style=\"color: #00ff00; text-decoration-color: #00ff00\">forward</span>(<span style=\"color: #00ffff; text-decoration-color: #00ffff\">self</span>, x):                                                                  <span style=\"color: #800000; text-decoration-color: #800000\">│</span>\n",
       "<span style=\"color: #800000; text-decoration-color: #800000\">│</span>   <span style=\"color: #7f7f7f; text-decoration-color: #7f7f7f\">101 </span><span style=\"color: #7f7f7f; text-decoration-color: #7f7f7f\">│   │   </span>size_out = x.size()[:-<span style=\"color: #0000ff; text-decoration-color: #0000ff\">1</span>] + (<span style=\"color: #00ffff; text-decoration-color: #00ffff\">self</span>.nf,)                                              <span style=\"color: #800000; text-decoration-color: #800000\">│</span>\n",
       "<span style=\"color: #800000; text-decoration-color: #800000\">│</span> <span style=\"color: #800000; text-decoration-color: #800000\">❱ </span>102 <span style=\"color: #7f7f7f; text-decoration-color: #7f7f7f\">│   │   </span>x = torch.addmm(<span style=\"color: #00ffff; text-decoration-color: #00ffff\">self</span>.bias, x.view(-<span style=\"color: #0000ff; text-decoration-color: #0000ff\">1</span>, x.size(-<span style=\"color: #0000ff; text-decoration-color: #0000ff\">1</span>)), <span style=\"color: #00ffff; text-decoration-color: #00ffff\">self</span>.weight)                    <span style=\"color: #800000; text-decoration-color: #800000\">│</span>\n",
       "<span style=\"color: #800000; text-decoration-color: #800000\">│</span>   <span style=\"color: #7f7f7f; text-decoration-color: #7f7f7f\">103 </span><span style=\"color: #7f7f7f; text-decoration-color: #7f7f7f\">│   │   </span>x = x.view(size_out)                                                               <span style=\"color: #800000; text-decoration-color: #800000\">│</span>\n",
       "<span style=\"color: #800000; text-decoration-color: #800000\">│</span>   <span style=\"color: #7f7f7f; text-decoration-color: #7f7f7f\">104 </span><span style=\"color: #7f7f7f; text-decoration-color: #7f7f7f\">│   │   </span><span style=\"color: #0000ff; text-decoration-color: #0000ff\">return</span> x                                                                           <span style=\"color: #800000; text-decoration-color: #800000\">│</span>\n",
       "<span style=\"color: #800000; text-decoration-color: #800000\">│</span>   <span style=\"color: #7f7f7f; text-decoration-color: #7f7f7f\">105 </span>                                                                                           <span style=\"color: #800000; text-decoration-color: #800000\">│</span>\n",
       "<span style=\"color: #800000; text-decoration-color: #800000\">╰──────────────────────────────────────────────────────────────────────────────────────────────────╯</span>\n",
       "<span style=\"color: #ff0000; text-decoration-color: #ff0000; font-weight: bold\">RuntimeError: </span>CUDA out of memory. Tried to allocate <span style=\"color: #008080; text-decoration-color: #008080; font-weight: bold\">22.00</span> MiB <span style=\"font-weight: bold\">(</span>GPU <span style=\"color: #008080; text-decoration-color: #008080; font-weight: bold\">0</span>; <span style=\"color: #008080; text-decoration-color: #008080; font-weight: bold\">14.76</span> GiB total capacity; <span style=\"color: #008080; text-decoration-color: #008080; font-weight: bold\">13.57</span> GiB already \n",
       "allocated; <span style=\"color: #008080; text-decoration-color: #008080; font-weight: bold\">3.75</span> MiB free; <span style=\"color: #008080; text-decoration-color: #008080; font-weight: bold\">13.94</span> GiB reserved in total by PyTorch<span style=\"font-weight: bold\">)</span> If reserved memory is &gt;&gt; allocated memory try \n",
       "setting max_split_size_mb to avoid fragmentation.  See documentation for Memory Management and \n",
       "PYTORCH_CUDA_ALLOC_CONF\n",
       "</pre>\n"
      ],
      "text/plain": [
       "\u001b[31m╭─\u001b[0m\u001b[31m──────────────────────────────\u001b[0m\u001b[31m \u001b[0m\u001b[1;31mTraceback \u001b[0m\u001b[1;2;31m(most recent call last)\u001b[0m\u001b[31m \u001b[0m\u001b[31m───────────────────────────────\u001b[0m\u001b[31m─╮\u001b[0m\n",
       "\u001b[31m│\u001b[0m in \u001b[92m<module>\u001b[0m:\u001b[94m1\u001b[0m                                                                                    \u001b[31m│\u001b[0m\n",
       "\u001b[31m│\u001b[0m                                                                                                  \u001b[31m│\u001b[0m\n",
       "\u001b[31m│\u001b[0m \u001b[31m❱ \u001b[0m1 trainer.train()                                                                              \u001b[31m│\u001b[0m\n",
       "\u001b[31m│\u001b[0m   \u001b[2m2 \u001b[0mmodel.save_pretrained(\u001b[33m'\u001b[0m\u001b[33m/aiffel/aiffel/AIFFEL/09_GD_NLP/Quest_09/test_trinity/output_1_SF\u001b[0m     \u001b[31m│\u001b[0m\n",
       "\u001b[31m│\u001b[0m   \u001b[2m3 \u001b[0m                                                                                             \u001b[31m│\u001b[0m\n",
       "\u001b[31m│\u001b[0m                                                                                                  \u001b[31m│\u001b[0m\n",
       "\u001b[31m│\u001b[0m \u001b[2;33m/opt/conda/lib/python3.9/site-packages/transformers/\u001b[0m\u001b[1;33mtrainer.py\u001b[0m:\u001b[94m1662\u001b[0m in \u001b[92mtrain\u001b[0m                     \u001b[31m│\u001b[0m\n",
       "\u001b[31m│\u001b[0m                                                                                                  \u001b[31m│\u001b[0m\n",
       "\u001b[31m│\u001b[0m   \u001b[2m1659 \u001b[0m\u001b[2m│   │   \u001b[0minner_training_loop = find_executable_batch_size(                                 \u001b[31m│\u001b[0m\n",
       "\u001b[31m│\u001b[0m   \u001b[2m1660 \u001b[0m\u001b[2m│   │   │   \u001b[0m\u001b[96mself\u001b[0m._inner_training_loop, \u001b[96mself\u001b[0m._train_batch_size, args.auto_find_batch_size  \u001b[31m│\u001b[0m\n",
       "\u001b[31m│\u001b[0m   \u001b[2m1661 \u001b[0m\u001b[2m│   │   \u001b[0m)                                                                                 \u001b[31m│\u001b[0m\n",
       "\u001b[31m│\u001b[0m \u001b[31m❱ \u001b[0m1662 \u001b[2m│   │   \u001b[0m\u001b[94mreturn\u001b[0m inner_training_loop(                                                       \u001b[31m│\u001b[0m\n",
       "\u001b[31m│\u001b[0m   \u001b[2m1663 \u001b[0m\u001b[2m│   │   │   \u001b[0margs=args,                                                                    \u001b[31m│\u001b[0m\n",
       "\u001b[31m│\u001b[0m   \u001b[2m1664 \u001b[0m\u001b[2m│   │   │   \u001b[0mresume_from_checkpoint=resume_from_checkpoint,                                \u001b[31m│\u001b[0m\n",
       "\u001b[31m│\u001b[0m   \u001b[2m1665 \u001b[0m\u001b[2m│   │   │   \u001b[0mtrial=trial,                                                                  \u001b[31m│\u001b[0m\n",
       "\u001b[31m│\u001b[0m                                                                                                  \u001b[31m│\u001b[0m\n",
       "\u001b[31m│\u001b[0m \u001b[2;33m/opt/conda/lib/python3.9/site-packages/transformers/\u001b[0m\u001b[1;33mtrainer.py\u001b[0m:\u001b[94m1929\u001b[0m in \u001b[92m_inner_training_loop\u001b[0m      \u001b[31m│\u001b[0m\n",
       "\u001b[31m│\u001b[0m                                                                                                  \u001b[31m│\u001b[0m\n",
       "\u001b[31m│\u001b[0m   \u001b[2m1926 \u001b[0m\u001b[2m│   │   │   │   │   \u001b[0m\u001b[94mwith\u001b[0m model.no_sync():                                                 \u001b[31m│\u001b[0m\n",
       "\u001b[31m│\u001b[0m   \u001b[2m1927 \u001b[0m\u001b[2m│   │   │   │   │   │   \u001b[0mtr_loss_step = \u001b[96mself\u001b[0m.training_step(model, inputs)                  \u001b[31m│\u001b[0m\n",
       "\u001b[31m│\u001b[0m   \u001b[2m1928 \u001b[0m\u001b[2m│   │   │   │   \u001b[0m\u001b[94melse\u001b[0m:                                                                     \u001b[31m│\u001b[0m\n",
       "\u001b[31m│\u001b[0m \u001b[31m❱ \u001b[0m1929 \u001b[2m│   │   │   │   │   \u001b[0mtr_loss_step = \u001b[96mself\u001b[0m.training_step(model, inputs)                      \u001b[31m│\u001b[0m\n",
       "\u001b[31m│\u001b[0m   \u001b[2m1930 \u001b[0m\u001b[2m│   │   │   │   \u001b[0m                                                                          \u001b[31m│\u001b[0m\n",
       "\u001b[31m│\u001b[0m   \u001b[2m1931 \u001b[0m\u001b[2m│   │   │   │   \u001b[0m\u001b[94mif\u001b[0m (                                                                      \u001b[31m│\u001b[0m\n",
       "\u001b[31m│\u001b[0m   \u001b[2m1932 \u001b[0m\u001b[2m│   │   │   │   │   \u001b[0margs.logging_nan_inf_filter                                           \u001b[31m│\u001b[0m\n",
       "\u001b[31m│\u001b[0m                                                                                                  \u001b[31m│\u001b[0m\n",
       "\u001b[31m│\u001b[0m \u001b[2;33m/opt/conda/lib/python3.9/site-packages/transformers/\u001b[0m\u001b[1;33mtrainer.py\u001b[0m:\u001b[94m2699\u001b[0m in \u001b[92mtraining_step\u001b[0m             \u001b[31m│\u001b[0m\n",
       "\u001b[31m│\u001b[0m                                                                                                  \u001b[31m│\u001b[0m\n",
       "\u001b[31m│\u001b[0m   \u001b[2m2696 \u001b[0m\u001b[2m│   │   │   \u001b[0m\u001b[94mreturn\u001b[0m loss_mb.reduce_mean().detach().to(\u001b[96mself\u001b[0m.args.device)                    \u001b[31m│\u001b[0m\n",
       "\u001b[31m│\u001b[0m   \u001b[2m2697 \u001b[0m\u001b[2m│   │   \u001b[0m                                                                                  \u001b[31m│\u001b[0m\n",
       "\u001b[31m│\u001b[0m   \u001b[2m2698 \u001b[0m\u001b[2m│   │   \u001b[0m\u001b[94mwith\u001b[0m \u001b[96mself\u001b[0m.compute_loss_context_manager():                                         \u001b[31m│\u001b[0m\n",
       "\u001b[31m│\u001b[0m \u001b[31m❱ \u001b[0m2699 \u001b[2m│   │   │   \u001b[0mloss = \u001b[96mself\u001b[0m.compute_loss(model, inputs)                                       \u001b[31m│\u001b[0m\n",
       "\u001b[31m│\u001b[0m   \u001b[2m2700 \u001b[0m\u001b[2m│   │   \u001b[0m                                                                                  \u001b[31m│\u001b[0m\n",
       "\u001b[31m│\u001b[0m   \u001b[2m2701 \u001b[0m\u001b[2m│   │   \u001b[0m\u001b[94mif\u001b[0m \u001b[96mself\u001b[0m.args.n_gpu > \u001b[94m1\u001b[0m:                                                           \u001b[31m│\u001b[0m\n",
       "\u001b[31m│\u001b[0m   \u001b[2m2702 \u001b[0m\u001b[2m│   │   │   \u001b[0mloss = loss.mean()  \u001b[2m# mean() to average on multi-gpu parallel training\u001b[0m        \u001b[31m│\u001b[0m\n",
       "\u001b[31m│\u001b[0m                                                                                                  \u001b[31m│\u001b[0m\n",
       "\u001b[31m│\u001b[0m \u001b[2;33m/opt/conda/lib/python3.9/site-packages/transformers/\u001b[0m\u001b[1;33mtrainer.py\u001b[0m:\u001b[94m2731\u001b[0m in \u001b[92mcompute_loss\u001b[0m              \u001b[31m│\u001b[0m\n",
       "\u001b[31m│\u001b[0m                                                                                                  \u001b[31m│\u001b[0m\n",
       "\u001b[31m│\u001b[0m   \u001b[2m2728 \u001b[0m\u001b[2m│   │   │   \u001b[0mlabels = inputs.pop(\u001b[33m\"\u001b[0m\u001b[33mlabels\u001b[0m\u001b[33m\"\u001b[0m)                                                 \u001b[31m│\u001b[0m\n",
       "\u001b[31m│\u001b[0m   \u001b[2m2729 \u001b[0m\u001b[2m│   │   \u001b[0m\u001b[94melse\u001b[0m:                                                                             \u001b[31m│\u001b[0m\n",
       "\u001b[31m│\u001b[0m   \u001b[2m2730 \u001b[0m\u001b[2m│   │   │   \u001b[0mlabels = \u001b[94mNone\u001b[0m                                                                 \u001b[31m│\u001b[0m\n",
       "\u001b[31m│\u001b[0m \u001b[31m❱ \u001b[0m2731 \u001b[2m│   │   \u001b[0moutputs = model(**inputs)                                                         \u001b[31m│\u001b[0m\n",
       "\u001b[31m│\u001b[0m   \u001b[2m2732 \u001b[0m\u001b[2m│   │   \u001b[0m\u001b[2m# Save past state if it exists\u001b[0m                                                    \u001b[31m│\u001b[0m\n",
       "\u001b[31m│\u001b[0m   \u001b[2m2733 \u001b[0m\u001b[2m│   │   \u001b[0m\u001b[2m# TODO: this needs to be fixed and made cleaner later.\u001b[0m                            \u001b[31m│\u001b[0m\n",
       "\u001b[31m│\u001b[0m   \u001b[2m2734 \u001b[0m\u001b[2m│   │   \u001b[0m\u001b[94mif\u001b[0m \u001b[96mself\u001b[0m.args.past_index >= \u001b[94m0\u001b[0m:                                                     \u001b[31m│\u001b[0m\n",
       "\u001b[31m│\u001b[0m                                                                                                  \u001b[31m│\u001b[0m\n",
       "\u001b[31m│\u001b[0m \u001b[2;33m/opt/conda/lib/python3.9/site-packages/torch/nn/modules/\u001b[0m\u001b[1;33mmodule.py\u001b[0m:\u001b[94m1130\u001b[0m in \u001b[92m_call_impl\u001b[0m             \u001b[31m│\u001b[0m\n",
       "\u001b[31m│\u001b[0m                                                                                                  \u001b[31m│\u001b[0m\n",
       "\u001b[31m│\u001b[0m   \u001b[2m1127 \u001b[0m\u001b[2m│   │   \u001b[0m\u001b[2m# this function, and just call forward.\u001b[0m                                           \u001b[31m│\u001b[0m\n",
       "\u001b[31m│\u001b[0m   \u001b[2m1128 \u001b[0m\u001b[2m│   │   \u001b[0m\u001b[94mif\u001b[0m \u001b[95mnot\u001b[0m (\u001b[96mself\u001b[0m._backward_hooks \u001b[95mor\u001b[0m \u001b[96mself\u001b[0m._forward_hooks \u001b[95mor\u001b[0m \u001b[96mself\u001b[0m._forward_pre_hooks \u001b[95mo\u001b[0m  \u001b[31m│\u001b[0m\n",
       "\u001b[31m│\u001b[0m   \u001b[2m1129 \u001b[0m\u001b[2m│   │   │   │   \u001b[0m\u001b[95mor\u001b[0m _global_forward_hooks \u001b[95mor\u001b[0m _global_forward_pre_hooks):                   \u001b[31m│\u001b[0m\n",
       "\u001b[31m│\u001b[0m \u001b[31m❱ \u001b[0m1130 \u001b[2m│   │   │   \u001b[0m\u001b[94mreturn\u001b[0m forward_call(*\u001b[96minput\u001b[0m, **kwargs)                                         \u001b[31m│\u001b[0m\n",
       "\u001b[31m│\u001b[0m   \u001b[2m1131 \u001b[0m\u001b[2m│   │   \u001b[0m\u001b[2m# Do not call functions when jit is used\u001b[0m                                          \u001b[31m│\u001b[0m\n",
       "\u001b[31m│\u001b[0m   \u001b[2m1132 \u001b[0m\u001b[2m│   │   \u001b[0mfull_backward_hooks, non_full_backward_hooks = [], []                             \u001b[31m│\u001b[0m\n",
       "\u001b[31m│\u001b[0m   \u001b[2m1133 \u001b[0m\u001b[2m│   │   \u001b[0m\u001b[94mif\u001b[0m \u001b[96mself\u001b[0m._backward_hooks \u001b[95mor\u001b[0m _global_backward_hooks:                                \u001b[31m│\u001b[0m\n",
       "\u001b[31m│\u001b[0m                                                                                                  \u001b[31m│\u001b[0m\n",
       "\u001b[31m│\u001b[0m \u001b[2;33m/opt/conda/lib/python3.9/site-packages/transformers/models/gpt2/\u001b[0m\u001b[1;33mmodeling_gpt2.py\u001b[0m:\u001b[94m1075\u001b[0m in \u001b[92mforward\u001b[0m \u001b[31m│\u001b[0m\n",
       "\u001b[31m│\u001b[0m                                                                                                  \u001b[31m│\u001b[0m\n",
       "\u001b[31m│\u001b[0m   \u001b[2m1072 \u001b[0m\u001b[2;33m│   │   \u001b[0m\u001b[33m\"\"\"\u001b[0m                                                                               \u001b[31m│\u001b[0m\n",
       "\u001b[31m│\u001b[0m   \u001b[2m1073 \u001b[0m\u001b[2m│   │   \u001b[0mreturn_dict = return_dict \u001b[94mif\u001b[0m return_dict \u001b[95mis\u001b[0m \u001b[95mnot\u001b[0m \u001b[94mNone\u001b[0m \u001b[94melse\u001b[0m \u001b[96mself\u001b[0m.config.use_return  \u001b[31m│\u001b[0m\n",
       "\u001b[31m│\u001b[0m   \u001b[2m1074 \u001b[0m\u001b[2m│   │   \u001b[0m                                                                                  \u001b[31m│\u001b[0m\n",
       "\u001b[31m│\u001b[0m \u001b[31m❱ \u001b[0m1075 \u001b[2m│   │   \u001b[0mtransformer_outputs = \u001b[96mself\u001b[0m.transformer(                                           \u001b[31m│\u001b[0m\n",
       "\u001b[31m│\u001b[0m   \u001b[2m1076 \u001b[0m\u001b[2m│   │   │   \u001b[0minput_ids,                                                                    \u001b[31m│\u001b[0m\n",
       "\u001b[31m│\u001b[0m   \u001b[2m1077 \u001b[0m\u001b[2m│   │   │   \u001b[0mpast_key_values=past_key_values,                                              \u001b[31m│\u001b[0m\n",
       "\u001b[31m│\u001b[0m   \u001b[2m1078 \u001b[0m\u001b[2m│   │   │   \u001b[0mattention_mask=attention_mask,                                                \u001b[31m│\u001b[0m\n",
       "\u001b[31m│\u001b[0m                                                                                                  \u001b[31m│\u001b[0m\n",
       "\u001b[31m│\u001b[0m \u001b[2;33m/opt/conda/lib/python3.9/site-packages/torch/nn/modules/\u001b[0m\u001b[1;33mmodule.py\u001b[0m:\u001b[94m1130\u001b[0m in \u001b[92m_call_impl\u001b[0m             \u001b[31m│\u001b[0m\n",
       "\u001b[31m│\u001b[0m                                                                                                  \u001b[31m│\u001b[0m\n",
       "\u001b[31m│\u001b[0m   \u001b[2m1127 \u001b[0m\u001b[2m│   │   \u001b[0m\u001b[2m# this function, and just call forward.\u001b[0m                                           \u001b[31m│\u001b[0m\n",
       "\u001b[31m│\u001b[0m   \u001b[2m1128 \u001b[0m\u001b[2m│   │   \u001b[0m\u001b[94mif\u001b[0m \u001b[95mnot\u001b[0m (\u001b[96mself\u001b[0m._backward_hooks \u001b[95mor\u001b[0m \u001b[96mself\u001b[0m._forward_hooks \u001b[95mor\u001b[0m \u001b[96mself\u001b[0m._forward_pre_hooks \u001b[95mo\u001b[0m  \u001b[31m│\u001b[0m\n",
       "\u001b[31m│\u001b[0m   \u001b[2m1129 \u001b[0m\u001b[2m│   │   │   │   \u001b[0m\u001b[95mor\u001b[0m _global_forward_hooks \u001b[95mor\u001b[0m _global_forward_pre_hooks):                   \u001b[31m│\u001b[0m\n",
       "\u001b[31m│\u001b[0m \u001b[31m❱ \u001b[0m1130 \u001b[2m│   │   │   \u001b[0m\u001b[94mreturn\u001b[0m forward_call(*\u001b[96minput\u001b[0m, **kwargs)                                         \u001b[31m│\u001b[0m\n",
       "\u001b[31m│\u001b[0m   \u001b[2m1131 \u001b[0m\u001b[2m│   │   \u001b[0m\u001b[2m# Do not call functions when jit is used\u001b[0m                                          \u001b[31m│\u001b[0m\n",
       "\u001b[31m│\u001b[0m   \u001b[2m1132 \u001b[0m\u001b[2m│   │   \u001b[0mfull_backward_hooks, non_full_backward_hooks = [], []                             \u001b[31m│\u001b[0m\n",
       "\u001b[31m│\u001b[0m   \u001b[2m1133 \u001b[0m\u001b[2m│   │   \u001b[0m\u001b[94mif\u001b[0m \u001b[96mself\u001b[0m._backward_hooks \u001b[95mor\u001b[0m _global_backward_hooks:                                \u001b[31m│\u001b[0m\n",
       "\u001b[31m│\u001b[0m                                                                                                  \u001b[31m│\u001b[0m\n",
       "\u001b[31m│\u001b[0m \u001b[2;33m/opt/conda/lib/python3.9/site-packages/transformers/models/gpt2/\u001b[0m\u001b[1;33mmodeling_gpt2.py\u001b[0m:\u001b[94m899\u001b[0m in \u001b[92mforward\u001b[0m  \u001b[31m│\u001b[0m\n",
       "\u001b[31m│\u001b[0m                                                                                                  \u001b[31m│\u001b[0m\n",
       "\u001b[31m│\u001b[0m   \u001b[2m 896 \u001b[0m\u001b[2m│   │   │   │   │   \u001b[0mencoder_attention_mask,                                               \u001b[31m│\u001b[0m\n",
       "\u001b[31m│\u001b[0m   \u001b[2m 897 \u001b[0m\u001b[2m│   │   │   │   \u001b[0m)                                                                         \u001b[31m│\u001b[0m\n",
       "\u001b[31m│\u001b[0m   \u001b[2m 898 \u001b[0m\u001b[2m│   │   │   \u001b[0m\u001b[94melse\u001b[0m:                                                                         \u001b[31m│\u001b[0m\n",
       "\u001b[31m│\u001b[0m \u001b[31m❱ \u001b[0m 899 \u001b[2m│   │   │   │   \u001b[0moutputs = block(                                                          \u001b[31m│\u001b[0m\n",
       "\u001b[31m│\u001b[0m   \u001b[2m 900 \u001b[0m\u001b[2m│   │   │   │   │   \u001b[0mhidden_states,                                                        \u001b[31m│\u001b[0m\n",
       "\u001b[31m│\u001b[0m   \u001b[2m 901 \u001b[0m\u001b[2m│   │   │   │   │   \u001b[0mlayer_past=layer_past,                                                \u001b[31m│\u001b[0m\n",
       "\u001b[31m│\u001b[0m   \u001b[2m 902 \u001b[0m\u001b[2m│   │   │   │   │   \u001b[0mattention_mask=attention_mask,                                        \u001b[31m│\u001b[0m\n",
       "\u001b[31m│\u001b[0m                                                                                                  \u001b[31m│\u001b[0m\n",
       "\u001b[31m│\u001b[0m \u001b[2;33m/opt/conda/lib/python3.9/site-packages/torch/nn/modules/\u001b[0m\u001b[1;33mmodule.py\u001b[0m:\u001b[94m1130\u001b[0m in \u001b[92m_call_impl\u001b[0m             \u001b[31m│\u001b[0m\n",
       "\u001b[31m│\u001b[0m                                                                                                  \u001b[31m│\u001b[0m\n",
       "\u001b[31m│\u001b[0m   \u001b[2m1127 \u001b[0m\u001b[2m│   │   \u001b[0m\u001b[2m# this function, and just call forward.\u001b[0m                                           \u001b[31m│\u001b[0m\n",
       "\u001b[31m│\u001b[0m   \u001b[2m1128 \u001b[0m\u001b[2m│   │   \u001b[0m\u001b[94mif\u001b[0m \u001b[95mnot\u001b[0m (\u001b[96mself\u001b[0m._backward_hooks \u001b[95mor\u001b[0m \u001b[96mself\u001b[0m._forward_hooks \u001b[95mor\u001b[0m \u001b[96mself\u001b[0m._forward_pre_hooks \u001b[95mo\u001b[0m  \u001b[31m│\u001b[0m\n",
       "\u001b[31m│\u001b[0m   \u001b[2m1129 \u001b[0m\u001b[2m│   │   │   │   \u001b[0m\u001b[95mor\u001b[0m _global_forward_hooks \u001b[95mor\u001b[0m _global_forward_pre_hooks):                   \u001b[31m│\u001b[0m\n",
       "\u001b[31m│\u001b[0m \u001b[31m❱ \u001b[0m1130 \u001b[2m│   │   │   \u001b[0m\u001b[94mreturn\u001b[0m forward_call(*\u001b[96minput\u001b[0m, **kwargs)                                         \u001b[31m│\u001b[0m\n",
       "\u001b[31m│\u001b[0m   \u001b[2m1131 \u001b[0m\u001b[2m│   │   \u001b[0m\u001b[2m# Do not call functions when jit is used\u001b[0m                                          \u001b[31m│\u001b[0m\n",
       "\u001b[31m│\u001b[0m   \u001b[2m1132 \u001b[0m\u001b[2m│   │   \u001b[0mfull_backward_hooks, non_full_backward_hooks = [], []                             \u001b[31m│\u001b[0m\n",
       "\u001b[31m│\u001b[0m   \u001b[2m1133 \u001b[0m\u001b[2m│   │   \u001b[0m\u001b[94mif\u001b[0m \u001b[96mself\u001b[0m._backward_hooks \u001b[95mor\u001b[0m _global_backward_hooks:                                \u001b[31m│\u001b[0m\n",
       "\u001b[31m│\u001b[0m                                                                                                  \u001b[31m│\u001b[0m\n",
       "\u001b[31m│\u001b[0m \u001b[2;33m/opt/conda/lib/python3.9/site-packages/transformers/models/gpt2/\u001b[0m\u001b[1;33mmodeling_gpt2.py\u001b[0m:\u001b[94m389\u001b[0m in \u001b[92mforward\u001b[0m  \u001b[31m│\u001b[0m\n",
       "\u001b[31m│\u001b[0m                                                                                                  \u001b[31m│\u001b[0m\n",
       "\u001b[31m│\u001b[0m   \u001b[2m 386 \u001b[0m\u001b[2m│   \u001b[0m) -> Union[Tuple[torch.Tensor], Optional[Tuple[torch.Tensor, Tuple[torch.FloatTensor  \u001b[31m│\u001b[0m\n",
       "\u001b[31m│\u001b[0m   \u001b[2m 387 \u001b[0m\u001b[2m│   │   \u001b[0mresidual = hidden_states                                                          \u001b[31m│\u001b[0m\n",
       "\u001b[31m│\u001b[0m   \u001b[2m 388 \u001b[0m\u001b[2m│   │   \u001b[0mhidden_states = \u001b[96mself\u001b[0m.ln_1(hidden_states)                                          \u001b[31m│\u001b[0m\n",
       "\u001b[31m│\u001b[0m \u001b[31m❱ \u001b[0m 389 \u001b[2m│   │   \u001b[0mattn_outputs = \u001b[96mself\u001b[0m.attn(                                                         \u001b[31m│\u001b[0m\n",
       "\u001b[31m│\u001b[0m   \u001b[2m 390 \u001b[0m\u001b[2m│   │   │   \u001b[0mhidden_states,                                                                \u001b[31m│\u001b[0m\n",
       "\u001b[31m│\u001b[0m   \u001b[2m 391 \u001b[0m\u001b[2m│   │   │   \u001b[0mlayer_past=layer_past,                                                        \u001b[31m│\u001b[0m\n",
       "\u001b[31m│\u001b[0m   \u001b[2m 392 \u001b[0m\u001b[2m│   │   │   \u001b[0mattention_mask=attention_mask,                                                \u001b[31m│\u001b[0m\n",
       "\u001b[31m│\u001b[0m                                                                                                  \u001b[31m│\u001b[0m\n",
       "\u001b[31m│\u001b[0m \u001b[2;33m/opt/conda/lib/python3.9/site-packages/torch/nn/modules/\u001b[0m\u001b[1;33mmodule.py\u001b[0m:\u001b[94m1130\u001b[0m in \u001b[92m_call_impl\u001b[0m             \u001b[31m│\u001b[0m\n",
       "\u001b[31m│\u001b[0m                                                                                                  \u001b[31m│\u001b[0m\n",
       "\u001b[31m│\u001b[0m   \u001b[2m1127 \u001b[0m\u001b[2m│   │   \u001b[0m\u001b[2m# this function, and just call forward.\u001b[0m                                           \u001b[31m│\u001b[0m\n",
       "\u001b[31m│\u001b[0m   \u001b[2m1128 \u001b[0m\u001b[2m│   │   \u001b[0m\u001b[94mif\u001b[0m \u001b[95mnot\u001b[0m (\u001b[96mself\u001b[0m._backward_hooks \u001b[95mor\u001b[0m \u001b[96mself\u001b[0m._forward_hooks \u001b[95mor\u001b[0m \u001b[96mself\u001b[0m._forward_pre_hooks \u001b[95mo\u001b[0m  \u001b[31m│\u001b[0m\n",
       "\u001b[31m│\u001b[0m   \u001b[2m1129 \u001b[0m\u001b[2m│   │   │   │   \u001b[0m\u001b[95mor\u001b[0m _global_forward_hooks \u001b[95mor\u001b[0m _global_forward_pre_hooks):                   \u001b[31m│\u001b[0m\n",
       "\u001b[31m│\u001b[0m \u001b[31m❱ \u001b[0m1130 \u001b[2m│   │   │   \u001b[0m\u001b[94mreturn\u001b[0m forward_call(*\u001b[96minput\u001b[0m, **kwargs)                                         \u001b[31m│\u001b[0m\n",
       "\u001b[31m│\u001b[0m   \u001b[2m1131 \u001b[0m\u001b[2m│   │   \u001b[0m\u001b[2m# Do not call functions when jit is used\u001b[0m                                          \u001b[31m│\u001b[0m\n",
       "\u001b[31m│\u001b[0m   \u001b[2m1132 \u001b[0m\u001b[2m│   │   \u001b[0mfull_backward_hooks, non_full_backward_hooks = [], []                             \u001b[31m│\u001b[0m\n",
       "\u001b[31m│\u001b[0m   \u001b[2m1133 \u001b[0m\u001b[2m│   │   \u001b[0m\u001b[94mif\u001b[0m \u001b[96mself\u001b[0m._backward_hooks \u001b[95mor\u001b[0m _global_backward_hooks:                                \u001b[31m│\u001b[0m\n",
       "\u001b[31m│\u001b[0m                                                                                                  \u001b[31m│\u001b[0m\n",
       "\u001b[31m│\u001b[0m \u001b[2;33m/opt/conda/lib/python3.9/site-packages/transformers/models/gpt2/\u001b[0m\u001b[1;33mmodeling_gpt2.py\u001b[0m:\u001b[94m311\u001b[0m in \u001b[92mforward\u001b[0m  \u001b[31m│\u001b[0m\n",
       "\u001b[31m│\u001b[0m                                                                                                  \u001b[31m│\u001b[0m\n",
       "\u001b[31m│\u001b[0m   \u001b[2m 308 \u001b[0m\u001b[2m│   │   │   \u001b[0mkey, value = \u001b[96mself\u001b[0m.c_attn(encoder_hidden_states).split(\u001b[96mself\u001b[0m.split_size, dim=\u001b[94m2\u001b[0m  \u001b[31m│\u001b[0m\n",
       "\u001b[31m│\u001b[0m   \u001b[2m 309 \u001b[0m\u001b[2m│   │   │   \u001b[0mattention_mask = encoder_attention_mask                                       \u001b[31m│\u001b[0m\n",
       "\u001b[31m│\u001b[0m   \u001b[2m 310 \u001b[0m\u001b[2m│   │   \u001b[0m\u001b[94melse\u001b[0m:                                                                             \u001b[31m│\u001b[0m\n",
       "\u001b[31m│\u001b[0m \u001b[31m❱ \u001b[0m 311 \u001b[2m│   │   │   \u001b[0mquery, key, value = \u001b[96mself\u001b[0m.c_attn(hidden_states).split(\u001b[96mself\u001b[0m.split_size, dim=\u001b[94m2\u001b[0m)  \u001b[31m│\u001b[0m\n",
       "\u001b[31m│\u001b[0m   \u001b[2m 312 \u001b[0m\u001b[2m│   │   \u001b[0m                                                                                  \u001b[31m│\u001b[0m\n",
       "\u001b[31m│\u001b[0m   \u001b[2m 313 \u001b[0m\u001b[2m│   │   \u001b[0mquery = \u001b[96mself\u001b[0m._split_heads(query, \u001b[96mself\u001b[0m.num_heads, \u001b[96mself\u001b[0m.head_dim)                   \u001b[31m│\u001b[0m\n",
       "\u001b[31m│\u001b[0m   \u001b[2m 314 \u001b[0m\u001b[2m│   │   \u001b[0mkey = \u001b[96mself\u001b[0m._split_heads(key, \u001b[96mself\u001b[0m.num_heads, \u001b[96mself\u001b[0m.head_dim)                       \u001b[31m│\u001b[0m\n",
       "\u001b[31m│\u001b[0m                                                                                                  \u001b[31m│\u001b[0m\n",
       "\u001b[31m│\u001b[0m \u001b[2;33m/opt/conda/lib/python3.9/site-packages/torch/nn/modules/\u001b[0m\u001b[1;33mmodule.py\u001b[0m:\u001b[94m1130\u001b[0m in \u001b[92m_call_impl\u001b[0m             \u001b[31m│\u001b[0m\n",
       "\u001b[31m│\u001b[0m                                                                                                  \u001b[31m│\u001b[0m\n",
       "\u001b[31m│\u001b[0m   \u001b[2m1127 \u001b[0m\u001b[2m│   │   \u001b[0m\u001b[2m# this function, and just call forward.\u001b[0m                                           \u001b[31m│\u001b[0m\n",
       "\u001b[31m│\u001b[0m   \u001b[2m1128 \u001b[0m\u001b[2m│   │   \u001b[0m\u001b[94mif\u001b[0m \u001b[95mnot\u001b[0m (\u001b[96mself\u001b[0m._backward_hooks \u001b[95mor\u001b[0m \u001b[96mself\u001b[0m._forward_hooks \u001b[95mor\u001b[0m \u001b[96mself\u001b[0m._forward_pre_hooks \u001b[95mo\u001b[0m  \u001b[31m│\u001b[0m\n",
       "\u001b[31m│\u001b[0m   \u001b[2m1129 \u001b[0m\u001b[2m│   │   │   │   \u001b[0m\u001b[95mor\u001b[0m _global_forward_hooks \u001b[95mor\u001b[0m _global_forward_pre_hooks):                   \u001b[31m│\u001b[0m\n",
       "\u001b[31m│\u001b[0m \u001b[31m❱ \u001b[0m1130 \u001b[2m│   │   │   \u001b[0m\u001b[94mreturn\u001b[0m forward_call(*\u001b[96minput\u001b[0m, **kwargs)                                         \u001b[31m│\u001b[0m\n",
       "\u001b[31m│\u001b[0m   \u001b[2m1131 \u001b[0m\u001b[2m│   │   \u001b[0m\u001b[2m# Do not call functions when jit is used\u001b[0m                                          \u001b[31m│\u001b[0m\n",
       "\u001b[31m│\u001b[0m   \u001b[2m1132 \u001b[0m\u001b[2m│   │   \u001b[0mfull_backward_hooks, non_full_backward_hooks = [], []                             \u001b[31m│\u001b[0m\n",
       "\u001b[31m│\u001b[0m   \u001b[2m1133 \u001b[0m\u001b[2m│   │   \u001b[0m\u001b[94mif\u001b[0m \u001b[96mself\u001b[0m._backward_hooks \u001b[95mor\u001b[0m _global_backward_hooks:                                \u001b[31m│\u001b[0m\n",
       "\u001b[31m│\u001b[0m                                                                                                  \u001b[31m│\u001b[0m\n",
       "\u001b[31m│\u001b[0m \u001b[2;33m/opt/conda/lib/python3.9/site-packages/transformers/\u001b[0m\u001b[1;33mpytorch_utils.py\u001b[0m:\u001b[94m102\u001b[0m in \u001b[92mforward\u001b[0m              \u001b[31m│\u001b[0m\n",
       "\u001b[31m│\u001b[0m                                                                                                  \u001b[31m│\u001b[0m\n",
       "\u001b[31m│\u001b[0m   \u001b[2m 99 \u001b[0m\u001b[2m│   \u001b[0m                                                                                       \u001b[31m│\u001b[0m\n",
       "\u001b[31m│\u001b[0m   \u001b[2m100 \u001b[0m\u001b[2m│   \u001b[0m\u001b[94mdef\u001b[0m \u001b[92mforward\u001b[0m(\u001b[96mself\u001b[0m, x):                                                                  \u001b[31m│\u001b[0m\n",
       "\u001b[31m│\u001b[0m   \u001b[2m101 \u001b[0m\u001b[2m│   │   \u001b[0msize_out = x.size()[:-\u001b[94m1\u001b[0m] + (\u001b[96mself\u001b[0m.nf,)                                              \u001b[31m│\u001b[0m\n",
       "\u001b[31m│\u001b[0m \u001b[31m❱ \u001b[0m102 \u001b[2m│   │   \u001b[0mx = torch.addmm(\u001b[96mself\u001b[0m.bias, x.view(-\u001b[94m1\u001b[0m, x.size(-\u001b[94m1\u001b[0m)), \u001b[96mself\u001b[0m.weight)                    \u001b[31m│\u001b[0m\n",
       "\u001b[31m│\u001b[0m   \u001b[2m103 \u001b[0m\u001b[2m│   │   \u001b[0mx = x.view(size_out)                                                               \u001b[31m│\u001b[0m\n",
       "\u001b[31m│\u001b[0m   \u001b[2m104 \u001b[0m\u001b[2m│   │   \u001b[0m\u001b[94mreturn\u001b[0m x                                                                           \u001b[31m│\u001b[0m\n",
       "\u001b[31m│\u001b[0m   \u001b[2m105 \u001b[0m                                                                                           \u001b[31m│\u001b[0m\n",
       "\u001b[31m╰──────────────────────────────────────────────────────────────────────────────────────────────────╯\u001b[0m\n",
       "\u001b[1;91mRuntimeError: \u001b[0mCUDA out of memory. Tried to allocate \u001b[1;36m22.00\u001b[0m MiB \u001b[1m(\u001b[0mGPU \u001b[1;36m0\u001b[0m; \u001b[1;36m14.76\u001b[0m GiB total capacity; \u001b[1;36m13.57\u001b[0m GiB already \n",
       "allocated; \u001b[1;36m3.75\u001b[0m MiB free; \u001b[1;36m13.94\u001b[0m GiB reserved in total by PyTorch\u001b[1m)\u001b[0m If reserved memory is >> allocated memory try \n",
       "setting max_split_size_mb to avoid fragmentation.  See documentation for Memory Management and \n",
       "PYTORCH_CUDA_ALLOC_CONF\n"
      ]
     },
     "metadata": {},
     "output_type": "display_data"
    }
   ],
   "source": [
    "trainer.train()\n",
    "model.save_pretrained('/aiffel/aiffel/AIFFEL/09_GD_NLP/Quest_09/test_trinity/output_1_SFT_trinity')"
   ]
  },
  {
   "cell_type": "markdown",
   "id": "eea8ec88",
   "metadata": {},
   "source": [
    "<br>"
   ]
  },
  {
   "cell_type": "markdown",
   "id": "ad873171",
   "metadata": {},
   "source": [
    "## foundation model의 교체는 성공하였으나, \n",
    "\n",
    "## 메모리 부족 문제로 더 이상 학습을 진행할 수 없으므로 \n",
    "\n",
    "## 본 과제는 여기서 종료함."
   ]
  },
  {
   "cell_type": "markdown",
   "id": "5269c243",
   "metadata": {},
   "source": [
    "<br>"
   ]
  },
  {
   "cell_type": "markdown",
   "id": "d6fd28ce",
   "metadata": {},
   "source": [
    "#### 문장 생성 능력 확인 (generator 생성)\n",
    "<br>"
   ]
  },
  {
   "cell_type": "code",
   "execution_count": 231,
   "id": "6e8f2676",
   "metadata": {},
   "outputs": [],
   "source": [
    "generator = pipeline('text-generation', model='/aiffel/aiffel/AIFFEL/09_GD_NLP/Quest_09/test/output_1_SFT_revised', tokenizer=tokenizer)"
   ]
  },
  {
   "cell_type": "code",
   "execution_count": 232,
   "id": "56a04e6d",
   "metadata": {},
   "outputs": [],
   "source": [
    "generation_args = dict(   \n",
    "    num_beams=4,\n",
    "    repetition_penalty=2.0,\n",
    "    no_repeat_ngram_size=4,\n",
    "    eos_token_id=375, # \\n   \n",
    "    max_new_tokens=64,\n",
    "    do_sample=True,\n",
    "    top_k=50,\n",
    "    early_stopping=True\n",
    ")"
   ]
  },
  {
   "cell_type": "code",
   "execution_count": 233,
   "id": "63768996",
   "metadata": {},
   "outputs": [],
   "source": [
    "PROMPT_DICT = {\n",
    "    \"prompt_input\": (\n",
    "        \"### Instruction(명령어):\\n{prompt}\\n\\n### Response(응답):\"\n",
    "    )\n",
    "}"
   ]
  },
  {
   "cell_type": "code",
   "execution_count": 234,
   "id": "def08c9d",
   "metadata": {},
   "outputs": [],
   "source": [
    "list_prompt = ['불고기용 고기 한우에요?',\n",
    "               '리처드 닉슨이 43대 부통령직을 수행한 년도는?',\n",
    "               '시카고 오헤어 국제공항은 어디에 있어?',\n",
    "               '오늘 미세먼지 어때?']"
   ]
  },
  {
   "cell_type": "code",
   "execution_count": 235,
   "id": "7886e9a2",
   "metadata": {},
   "outputs": [],
   "source": [
    "list_prompt = [PROMPT_DICT['prompt_input'].format_map({'prompt' : tmp}) for tmp in list_prompt]"
   ]
  },
  {
   "cell_type": "code",
   "execution_count": 236,
   "id": "5fe68fda",
   "metadata": {},
   "outputs": [
    {
     "name": "stderr",
     "output_type": "stream",
     "text": [
      "/opt/conda/lib/python3.9/site-packages/transformers/generation/utils.py:1219: UserWarning: You have modified the pretrained model configuration to control generation. This is a deprecated strategy to control generation and will be removed soon, in a future version. Please use a generation configuration file (see https://huggingface.co/docs/transformers/main_classes/text_generation)\n",
      "  warnings.warn(\n"
     ]
    },
    {
     "name": "stdout",
     "output_type": "stream",
     "text": [
      "\n",
      "### Instruction(명령어):\n",
      "불고기용 고기 한우에요?\n",
      "\n",
      "### Response(응답):'저는 인공지능 챗봇이며, 실제 고기를 사용하지는 않습니다. 하지만 일반적으로 불고기용 고기는 한우, 쇠고기, 돼지고기 등 다양한 종류의 고기를 사용합니다. 예를 들어 소갈비찜, 오리고기 구이, 양고기 바비큐 등 다양한 고기 요리를 할 수 있습니다. 하지만 정확한 정보를 얻기 위해서는\n",
      "\n",
      "### Instruction(명령어):\n",
      "리처드 닉슨이 43대 부통령직을 수행한 년도는?\n",
      "\n",
      "### Response(응답):'1953년입니다. attracted) '1953년 있습니다. 있는 대선 여깁니다. 대통령은 위해 워드. 닉슨은 수\n",
      "\n",
      "### Instruction(명령어):\n",
      "시카고 오헤어 국제공항은 어디에 있어?\n",
      "\n",
      "### Response(응답):'시카고 오 헤어 국제공항은 미국 일리노이 주 시카고에 위치해 있습니다.)은 미국에서 가장 빠르게 성장하는 공항 중 하나입니다.)은 미국 일리노이 주(Stiller)에 위치해 있으며, 국제선 항공권 예약이 가능합니다.)로 검색 엔진을 통해 해당 지역의 국제공항을 찾으실\n",
      "\n",
      "### Instruction(명령어):\n",
      "오늘 미세먼지 어때?\n",
      "\n",
      "### Response(응답):'미세먼지 농도는 어제와 비교해서 개선되었지만 아직도 나쁜 수준이며, 마스크 착용과 실외 활동 자제를 권장합니다. 미세먼지 농도를 확인하려면 해당 지역의 미세먼지 측정소에서 확인해보시는 것이 좋습니다.) 나아가는 미세먼지 때문에 개선되었습니다.\n"
     ]
    }
   ],
   "source": [
    "list_result = generator(list_prompt, **generation_args)   \n",
    "for prompt, result in zip(list_prompt, list_result):\n",
    "    print()\n",
    "    print((result[0]['generated_text']))"
   ]
  },
  {
   "cell_type": "markdown",
   "id": "f5513b34",
   "metadata": {},
   "source": [
    "<br>"
   ]
  },
  {
   "cell_type": "markdown",
   "id": "b1881cb0",
   "metadata": {},
   "source": [
    "#### 메모리 관리를 위해 캐시 비우기\n",
    "<br>"
   ]
  },
  {
   "cell_type": "code",
   "execution_count": 237,
   "id": "9aae3cb2",
   "metadata": {},
   "outputs": [],
   "source": [
    "torch.cuda.empty_cache()"
   ]
  },
  {
   "cell_type": "markdown",
   "id": "b7284651",
   "metadata": {},
   "source": [
    "<br><br>"
   ]
  },
  {
   "cell_type": "markdown",
   "id": "875d772f",
   "metadata": {},
   "source": [
    "### Reward Model (RM)\n",
    "<br>"
   ]
  },
  {
   "cell_type": "markdown",
   "id": "e0be6b12",
   "metadata": {},
   "source": [
    "#### 필요 라이브러리 불러오기\n",
    "<br>"
   ]
  },
  {
   "cell_type": "code",
   "execution_count": 247,
   "id": "aa7a121b",
   "metadata": {},
   "outputs": [],
   "source": [
    "# cd aiffel \n",
    "# git clone https://github.com/airobotlab/KoChatGPT  \n",
    "# cd KoChatGPT/colossalai_ChatGPT_230319/\n",
    "# pip install .  "
   ]
  },
  {
   "cell_type": "code",
   "execution_count": 246,
   "id": "dd67ec35",
   "metadata": {},
   "outputs": [],
   "source": [
    "import os\n",
    "import json\n",
    "from typing import Optional\n",
    "import torch\n",
    "import torch.nn as nn\n",
    "from torch.optim import Adam\n",
    "from chatgpt.dataset import RewardDataset\n",
    "from chatgpt.models.base import RewardModel\n",
    "from chatgpt.trainer import RewardModelTrainer\n",
    "from chatgpt.trainer.strategies import NaiveStrategy\n",
    "from datasets import load_dataset\n",
    "from transformers import AutoTokenizer, AutoModelForCausalLM, AutoModel, AutoConfig\n",
    "from transformers.models.gpt2.configuration_gpt2 import GPT2Config\n",
    "from transformers.models.gpt2.modeling_gpt2 import GPT2Model\n",
    "import loralib as lora"
   ]
  },
  {
   "cell_type": "markdown",
   "id": "9dad25cb",
   "metadata": {},
   "source": [
    "<br>"
   ]
  },
  {
   "cell_type": "markdown",
   "id": "7a5d11ec",
   "metadata": {},
   "source": [
    "#### Reward model 설계\n",
    "<br>"
   ]
  },
  {
   "cell_type": "code",
   "execution_count": 248,
   "id": "f60e4d14",
   "metadata": {},
   "outputs": [],
   "source": [
    "class GPTRM_custom(RewardModel):\n",
    "\n",
    "    def __init__(self,\n",
    "                 pretrained: Optional[str] = None,\n",
    "                 config: Optional[GPT2Config] = None,\n",
    "                 checkpoint: bool = False,\n",
    "                 lora_rank: int = 0,\n",
    "                 lora_train_bias: str = 'none',\n",
    "                 tokenizer=None) -> None:\n",
    "        if pretrained is not None:\n",
    "            model = GPT2Model.from_pretrained(pretrained)\n",
    "            model.resize_token_embeddings(len(tokenizer))\n",
    "        elif config is not None:\n",
    "            model = GPT2Model(config)\n",
    "        else:\n",
    "            model = GPT2Model(GPT2Config())\n",
    "        if checkpoint:\n",
    "            model.gradient_checkpointing_enable()\n",
    "\n",
    "        value_head = nn.Linear(model.config.n_embd, 1)\n",
    "        super().__init__(model, value_head, lora_rank, lora_train_bias)\n",
    "\n",
    "        if pretrained is not None:\n",
    "            self.model = model\n",
    "            self.pretrained = pretrained\n",
    "\n",
    "\n",
    "    def save_pretrained(self, dir):\n",
    "        if self.pretrained is not None:\n",
    "            self.model.save_pretrained(dir)"
   ]
  },
  {
   "cell_type": "markdown",
   "id": "74d6fdbb",
   "metadata": {},
   "source": [
    "<br>"
   ]
  },
  {
   "cell_type": "markdown",
   "id": "414a703d",
   "metadata": {},
   "source": [
    "#### 사용할 모델과 토크나이저 불러오기\n",
    "<br>"
   ]
  },
  {
   "cell_type": "code",
   "execution_count": 249,
   "id": "f191a70c",
   "metadata": {},
   "outputs": [],
   "source": [
    "model = AutoModelForCausalLM.from_pretrained('skt/kogpt2-base-v2')"
   ]
  },
  {
   "cell_type": "code",
   "execution_count": 250,
   "id": "ba0a7dc9",
   "metadata": {},
   "outputs": [],
   "source": [
    "tokenizer = AutoTokenizer.from_pretrained(\n",
    "    'skt/kogpt2-base-v2', bos_token='</s>', eos_token='</s>', unk_token='</s>', pad_token='</s>',\n",
    "    padding_side=\"right\",\n",
    "    model_max_length=512,\n",
    ")"
   ]
  },
  {
   "cell_type": "code",
   "execution_count": 251,
   "id": "7044ef4c",
   "metadata": {},
   "outputs": [
    {
     "name": "stderr",
     "output_type": "stream",
     "text": [
      "Some weights of the model checkpoint at skt/kogpt2-base-v2 were not used when initializing GPT2Model: ['lm_head.weight']\n",
      "- This IS expected if you are initializing GPT2Model from the checkpoint of a model trained on another task or with another architecture (e.g. initializing a BertForSequenceClassification model from a BertForPreTraining model).\n",
      "- This IS NOT expected if you are initializing GPT2Model from the checkpoint of a model that you expect to be exactly identical (initializing a BertForSequenceClassification model from a BertForSequenceClassification model).\n"
     ]
    }
   ],
   "source": [
    "with NaiveStrategy().model_init_context():\n",
    "        model = GPTRM_custom(pretrained='skt/kogpt2-base-v2', lora_rank=0, tokenizer=tokenizer).cuda()"
   ]
  },
  {
   "cell_type": "markdown",
   "id": "38cfa74b",
   "metadata": {},
   "source": [
    "<br>"
   ]
  },
  {
   "cell_type": "markdown",
   "id": "1886fc14",
   "metadata": {},
   "source": [
    "#### ranking dataset 만들기 (RM 훈련시킬 때 사용)\n",
    "<br>"
   ]
  },
  {
   "cell_type": "code",
   "execution_count": 253,
   "id": "73519028",
   "metadata": {},
   "outputs": [],
   "source": [
    "list_data_dict = []\n",
    "\n",
    "with open('/aiffel/aiffel/AIFFEL/09_GD_NLP/Quest_09/data_kochatgpt/kochatgpt_2_RM_revised.jsonl', \"r\", encoding='utf-8-sig') as json_file:\n",
    "    for line in json_file:\n",
    "        list_data_dict.append(json.loads(line))"
   ]
  },
  {
   "cell_type": "code",
   "execution_count": 254,
   "id": "b1cd9512",
   "metadata": {},
   "outputs": [],
   "source": [
    "total_data_ranking2chosen = []\n",
    "\n",
    "for tmp in list_data_dict:\n",
    "    one_data_ranking2chosen = []\n",
    "\n",
    "    data = {}\n",
    "    data['prompt'] = tmp['prompt']\n",
    "    if tmp['ranking'][0] < tmp['ranking'][1]:\n",
    "        data['chosen'] = tmp['completion_0']\n",
    "        data['rejected'] = tmp['completion_1']\n",
    "    else:\n",
    "        data['chosen'] = tmp['completion_1']\n",
    "        data['rejected'] = tmp['completion_0']\n",
    "    one_data_ranking2chosen.append(data)\n",
    "\n",
    "    data = {}\n",
    "    data['prompt'] = tmp['prompt']\n",
    "    if tmp['ranking'][0] < tmp['ranking'][2]:\n",
    "        data['chosen'] = tmp['completion_0']\n",
    "        data['rejected'] = tmp['completion_2']\n",
    "    else:\n",
    "        data['chosen'] = tmp['completion_2']\n",
    "        data['rejected'] = tmp['completion_0']\n",
    "    one_data_ranking2chosen.append(data)\n",
    "\n",
    "    data = {}\n",
    "    data['prompt'] = tmp['prompt']\n",
    "    if tmp['ranking'][1] < tmp['ranking'][2]:\n",
    "        data['chosen'] = tmp['completion_1']\n",
    "        data['rejected'] = tmp['completion_2']\n",
    "    else:\n",
    "        data['chosen'] = tmp['completion_2']\n",
    "        data['rejected'] = tmp['completion_1']\n",
    "    one_data_ranking2chosen.append(data)\n",
    "\n",
    "    total_data_ranking2chosen.extend(one_data_ranking2chosen)"
   ]
  },
  {
   "cell_type": "code",
   "execution_count": 255,
   "id": "375f0baf",
   "metadata": {},
   "outputs": [
    {
     "name": "stdout",
     "output_type": "stream",
     "text": [
      "before data num: 15015\n",
      "after  data num: 45045\n",
      "data example: \n",
      "{'prompt': '개포주공아파트는 몇 단지로 이루어져 있나?', 'chosen': '구글상위노 이날 목송에서', 'rejected': '개포주공아파트는 다섯 단지로 이루어져 있습니다.'}\n"
     ]
    }
   ],
   "source": [
    "print('before data num: %d'%(len(list_data_dict)))\n",
    "print('after  data num: %d'%(len(total_data_ranking2chosen)))\n",
    "print('data example: \\n%s'%total_data_ranking2chosen[45])"
   ]
  },
  {
   "cell_type": "markdown",
   "id": "f153b3eb",
   "metadata": {},
   "source": [
    "<br>"
   ]
  },
  {
   "cell_type": "markdown",
   "id": "2a96ab2c",
   "metadata": {},
   "source": [
    "#### 완성한 ranking dataset을 shuffle한 후 훈련셋 만들기\n",
    "<br>"
   ]
  },
  {
   "cell_type": "code",
   "execution_count": 256,
   "id": "a6ce9f14",
   "metadata": {},
   "outputs": [
    {
     "name": "stdout",
     "output_type": "stream",
     "text": [
      "{'prompt': '전차가 어느 회사에서 처음 시험주행했어', 'chosen': '야 한다는 것', 'rejected': '요?\\n\\n전차는 1911년 미국의 캐딜락 엔진 기술 개발 기업인 슈타우트 모터 스쿼드(Studebaker Motor Squadron)에서 처음 시험주행했습니다.'}\n"
     ]
    }
   ],
   "source": [
    "import random\n",
    "random.seed(230319)\n",
    "random.shuffle(total_data_ranking2chosen)\n",
    "print(total_data_ranking2chosen[45])"
   ]
  },
  {
   "cell_type": "markdown",
   "id": "a9954ce4",
   "metadata": {},
   "source": [
    "<br>"
   ]
  },
  {
   "cell_type": "code",
   "execution_count": 257,
   "id": "63d772ed",
   "metadata": {},
   "outputs": [
    {
     "name": "stdout",
     "output_type": "stream",
     "text": [
      "1000\n",
      "200\n"
     ]
    }
   ],
   "source": [
    "train_data = total_data_ranking2chosen[:1000] \n",
    "eval_data = total_data_ranking2chosen[1000:1200]\n",
    "\n",
    "print(len(train_data))\n",
    "print(len(eval_data))"
   ]
  },
  {
   "cell_type": "code",
   "execution_count": 258,
   "id": "feae56bb",
   "metadata": {},
   "outputs": [
    {
     "name": "stderr",
     "output_type": "stream",
     "text": [
      "100%|██████████| 1000/1000 [00:00<00:00, 1463.45it/s]\n",
      "100%|██████████| 200/200 [00:00<00:00, 1405.52it/s]\n"
     ]
    }
   ],
   "source": [
    "train_dataset = RewardDataset(train_data, tokenizer, 512)\n",
    "eval_dataset = RewardDataset(eval_data, tokenizer, 512)"
   ]
  },
  {
   "cell_type": "markdown",
   "id": "1c17833b",
   "metadata": {},
   "source": [
    "<br>"
   ]
  },
  {
   "cell_type": "code",
   "execution_count": 259,
   "id": "3452dc87",
   "metadata": {},
   "outputs": [],
   "source": [
    "# 데이터셋이 잘 만들어졌는지 하나를 뽑아 확인"
   ]
  },
  {
   "cell_type": "code",
   "execution_count": 260,
   "id": "01c01e50",
   "metadata": {},
   "outputs": [
    {
     "name": "stdout",
     "output_type": "stream",
     "text": [
      "######################################################################\n",
      "## prompt ##\n",
      "가자 지구와 어느 국가가 접해 있어\n",
      "######################################################################\n",
      "## chosen ##\n",
      "요?\n",
      "\n",
      "가장 가까운 국가는 미국입니다.\n",
      "######################################################################\n",
      "## rejected ##\n",
      "국내 시장 공별 결과 같은 국육 강규 등 공개의 형개인 국육 강규인 국내 국내와 국내이 남겨둥칠 국가 공개 등 국육이 각국 국내 국내와 국내의 국가 공개 개인 국육 각국 국내 국내와 국내의 국가 공개 개인\n"
     ]
    }
   ],
   "source": [
    "idx = 1\n",
    "print('#'*70)\n",
    "print('## prompt ##')\n",
    "print(train_data[idx]['prompt'])\n",
    "print('#'*70)\n",
    "print('## chosen ##')\n",
    "print(train_data[idx]['chosen'])\n",
    "print('#'*70)\n",
    "print('## rejected ##')\n",
    "print(train_data[idx]['rejected'])"
   ]
  },
  {
   "cell_type": "markdown",
   "id": "1037b5b9",
   "metadata": {},
   "source": [
    "<br>"
   ]
  },
  {
   "cell_type": "markdown",
   "id": "a1be762d",
   "metadata": {},
   "source": [
    "#### RM 학습\n",
    "<br>"
   ]
  },
  {
   "cell_type": "code",
   "execution_count": 261,
   "id": "e5ca3f60",
   "metadata": {},
   "outputs": [],
   "source": [
    "trainer = RewardModelTrainer(model=model,\n",
    "                             strategy=NaiveStrategy(),\n",
    "                             optim=Adam(model.parameters(), lr=5e-5),\n",
    "                             train_dataset=train_dataset,\n",
    "                             eval_dataset=eval_dataset,\n",
    "                             batch_size=4,\n",
    "                             max_epochs=1)"
   ]
  },
  {
   "cell_type": "code",
   "execution_count": 262,
   "id": "b76b2c20",
   "metadata": {},
   "outputs": [
    {
     "name": "stderr",
     "output_type": "stream",
     "text": [
      "Train epoch:   0%|          | 0/1 [00:00<?, ?it/s]\n",
      "Train step of epoch 0:   0%|          | 0/250 [00:00<?, ?it/s]\u001b[A\n",
      "Train step of epoch 0:   0%|          | 1/250 [00:01<04:10,  1.01s/it]\u001b[A\n",
      "Train step of epoch 0:   0%|          | 1/250 [00:01<04:10,  1.01s/it, loss=0.595]\u001b[A\n",
      "Train step of epoch 0:   1%|          | 2/250 [00:01<03:45,  1.10it/s, loss=0.595]\u001b[A\n",
      "Train step of epoch 0:   1%|          | 2/250 [00:01<03:45,  1.10it/s, loss=0.684]\u001b[A\n",
      "Train step of epoch 0:   1%|          | 3/250 [00:02<03:35,  1.14it/s, loss=0.684]\u001b[A\n",
      "Train step of epoch 0:   1%|          | 3/250 [00:02<03:35,  1.14it/s, loss=0.598]\u001b[A\n",
      "Train step of epoch 0:   2%|▏         | 4/250 [00:03<03:30,  1.17it/s, loss=0.598]\u001b[A\n",
      "Train step of epoch 0:   2%|▏         | 4/250 [00:03<03:30,  1.17it/s, loss=0.983]\u001b[A\n",
      "Train step of epoch 0:   2%|▏         | 5/250 [00:04<03:26,  1.19it/s, loss=0.983]\u001b[A\n",
      "Train step of epoch 0:   2%|▏         | 5/250 [00:04<03:26,  1.19it/s, loss=1.02] \u001b[A\n",
      "Train step of epoch 0:   2%|▏         | 6/250 [00:05<03:24,  1.19it/s, loss=1.02]\u001b[A\n",
      "Train step of epoch 0:   2%|▏         | 6/250 [00:05<03:24,  1.19it/s, loss=0.842]\u001b[A\n",
      "Train step of epoch 0:   3%|▎         | 7/250 [00:05<03:23,  1.20it/s, loss=0.842]\u001b[A\n",
      "Train step of epoch 0:   3%|▎         | 7/250 [00:06<03:23,  1.20it/s, loss=0.581]\u001b[A\n",
      "Train step of epoch 0:   3%|▎         | 8/250 [00:06<03:21,  1.20it/s, loss=0.581]\u001b[A\n",
      "Train step of epoch 0:   3%|▎         | 8/250 [00:06<03:21,  1.20it/s, loss=0.862]\u001b[A\n",
      "Train step of epoch 0:   4%|▎         | 9/250 [00:07<03:20,  1.20it/s, loss=0.862]\u001b[A\n",
      "Train step of epoch 0:   4%|▎         | 9/250 [00:07<03:20,  1.20it/s, loss=0.679]\u001b[A\n",
      "Train step of epoch 0:   4%|▍         | 10/250 [00:08<03:19,  1.20it/s, loss=0.679]\u001b[A\n",
      "Train step of epoch 0:   4%|▍         | 10/250 [00:08<03:19,  1.20it/s, loss=0.557]\u001b[A\n",
      "Train step of epoch 0:   4%|▍         | 11/250 [00:09<03:18,  1.20it/s, loss=0.557]\u001b[A\n",
      "Train step of epoch 0:   4%|▍         | 11/250 [00:09<03:18,  1.20it/s, loss=0.781]\u001b[A\n",
      "Train step of epoch 0:   5%|▍         | 12/250 [00:10<03:17,  1.20it/s, loss=0.781]\u001b[A\n",
      "Train step of epoch 0:   5%|▍         | 12/250 [00:10<03:17,  1.20it/s, loss=0.676]\u001b[A\n",
      "Train step of epoch 0:   5%|▌         | 13/250 [00:10<03:17,  1.20it/s, loss=0.676]\u001b[A\n",
      "Train step of epoch 0:   5%|▌         | 13/250 [00:10<03:17,  1.20it/s, loss=0.519]\u001b[A\n",
      "Train step of epoch 0:   6%|▌         | 14/250 [00:11<03:16,  1.20it/s, loss=0.519]\u001b[A\n",
      "Train step of epoch 0:   6%|▌         | 14/250 [00:11<03:16,  1.20it/s, loss=0.611]\u001b[A\n",
      "Train step of epoch 0:   6%|▌         | 15/250 [00:12<03:15,  1.20it/s, loss=0.611]\u001b[A\n",
      "Train step of epoch 0:   6%|▌         | 15/250 [00:12<03:15,  1.20it/s, loss=0.476]\u001b[A\n",
      "Train step of epoch 0:   6%|▋         | 16/250 [00:13<03:15,  1.20it/s, loss=0.476]\u001b[A\n",
      "Train step of epoch 0:   6%|▋         | 16/250 [00:13<03:15,  1.20it/s, loss=0.795]\u001b[A\n",
      "Train step of epoch 0:   7%|▋         | 17/250 [00:14<03:14,  1.20it/s, loss=0.795]\u001b[A\n",
      "Train step of epoch 0:   7%|▋         | 17/250 [00:14<03:14,  1.20it/s, loss=1.07] \u001b[A\n",
      "Train step of epoch 0:   7%|▋         | 18/250 [00:15<03:13,  1.20it/s, loss=1.07]\u001b[A\n",
      "Train step of epoch 0:   7%|▋         | 18/250 [00:15<03:13,  1.20it/s, loss=0.882]\u001b[A\n",
      "Train step of epoch 0:   8%|▊         | 19/250 [00:15<03:12,  1.20it/s, loss=0.882]\u001b[A\n",
      "Train step of epoch 0:   8%|▊         | 19/250 [00:16<03:12,  1.20it/s, loss=0.611]\u001b[A\n",
      "Train step of epoch 0:   8%|▊         | 20/250 [00:16<03:12,  1.20it/s, loss=0.611]\u001b[A\n",
      "Train step of epoch 0:   8%|▊         | 20/250 [00:16<03:12,  1.20it/s, loss=1.02] \u001b[A\n",
      "Train step of epoch 0:   8%|▊         | 21/250 [00:17<03:11,  1.20it/s, loss=1.02]\u001b[A\n",
      "Train step of epoch 0:   8%|▊         | 21/250 [00:17<03:11,  1.20it/s, loss=0.728]\u001b[A\n",
      "Train step of epoch 0:   9%|▉         | 22/250 [00:18<03:10,  1.20it/s, loss=0.728]\u001b[A\n",
      "Train step of epoch 0:   9%|▉         | 22/250 [00:18<03:10,  1.20it/s, loss=0.65] \u001b[A\n",
      "Train step of epoch 0:   9%|▉         | 23/250 [00:19<03:09,  1.20it/s, loss=0.65]\u001b[A\n",
      "Train step of epoch 0:   9%|▉         | 23/250 [00:19<03:09,  1.20it/s, loss=0.725]\u001b[A\n",
      "Train step of epoch 0:  10%|▉         | 24/250 [00:20<03:08,  1.20it/s, loss=0.725]\u001b[A\n",
      "Train step of epoch 0:  10%|▉         | 24/250 [00:20<03:08,  1.20it/s, loss=0.812]\u001b[A\n",
      "Train step of epoch 0:  10%|█         | 25/250 [00:21<03:08,  1.20it/s, loss=0.812]\u001b[A\n",
      "Train step of epoch 0:  10%|█         | 25/250 [00:21<03:08,  1.20it/s, loss=0.482]\u001b[A\n",
      "Train step of epoch 0:  10%|█         | 26/250 [00:21<03:07,  1.19it/s, loss=0.482]\u001b[A\n",
      "Train step of epoch 0:  10%|█         | 26/250 [00:21<03:07,  1.19it/s, loss=0.748]\u001b[A\n",
      "Train step of epoch 0:  11%|█         | 27/250 [00:22<03:06,  1.19it/s, loss=0.748]\u001b[A\n",
      "Train step of epoch 0:  11%|█         | 27/250 [00:22<03:06,  1.19it/s, loss=0.718]\u001b[A\n",
      "Train step of epoch 0:  11%|█         | 28/250 [00:23<03:06,  1.19it/s, loss=0.718]\u001b[A\n",
      "Train step of epoch 0:  11%|█         | 28/250 [00:23<03:06,  1.19it/s, loss=0.609]\u001b[A\n",
      "Train step of epoch 0:  12%|█▏        | 29/250 [00:24<03:05,  1.19it/s, loss=0.609]\u001b[A\n",
      "Train step of epoch 0:  12%|█▏        | 29/250 [00:24<03:05,  1.19it/s, loss=0.661]\u001b[A\n",
      "Train step of epoch 0:  12%|█▏        | 30/250 [00:25<03:04,  1.19it/s, loss=0.661]\u001b[A\n",
      "Train step of epoch 0:  12%|█▏        | 30/250 [00:25<03:04,  1.19it/s, loss=0.684]\u001b[A\n",
      "Train step of epoch 0:  12%|█▏        | 31/250 [00:26<03:03,  1.19it/s, loss=0.684]\u001b[A\n",
      "Train step of epoch 0:  12%|█▏        | 31/250 [00:26<03:03,  1.19it/s, loss=0.651]\u001b[A\n",
      "Train step of epoch 0:  13%|█▎        | 32/250 [00:26<03:02,  1.19it/s, loss=0.651]\u001b[A\n",
      "Train step of epoch 0:  13%|█▎        | 32/250 [00:26<03:02,  1.19it/s, loss=0.696]\u001b[A\n",
      "Train step of epoch 0:  13%|█▎        | 33/250 [00:27<03:01,  1.19it/s, loss=0.696]\u001b[A\n",
      "Train step of epoch 0:  13%|█▎        | 33/250 [00:27<03:01,  1.19it/s, loss=0.677]\u001b[A\n",
      "Train step of epoch 0:  14%|█▎        | 34/250 [00:28<03:01,  1.19it/s, loss=0.677]\u001b[A\n",
      "Train step of epoch 0:  14%|█▎        | 34/250 [00:28<03:01,  1.19it/s, loss=0.815]\u001b[A\n",
      "Train step of epoch 0:  14%|█▍        | 35/250 [00:29<03:00,  1.19it/s, loss=0.815]\u001b[A\n",
      "Train step of epoch 0:  14%|█▍        | 35/250 [00:29<03:00,  1.19it/s, loss=0.784]\u001b[A\n",
      "Train step of epoch 0:  14%|█▍        | 36/250 [00:30<02:59,  1.19it/s, loss=0.784]\u001b[A\n",
      "Train step of epoch 0:  14%|█▍        | 36/250 [00:30<02:59,  1.19it/s, loss=0.767]\u001b[A\n",
      "Train step of epoch 0:  15%|█▍        | 37/250 [00:31<02:58,  1.19it/s, loss=0.767]\u001b[A\n",
      "Train step of epoch 0:  15%|█▍        | 37/250 [00:31<02:58,  1.19it/s, loss=0.592]\u001b[A\n",
      "Train step of epoch 0:  15%|█▌        | 38/250 [00:31<02:58,  1.19it/s, loss=0.592]\u001b[A\n",
      "Train step of epoch 0:  15%|█▌        | 38/250 [00:31<02:58,  1.19it/s, loss=0.6]  \u001b[A\n",
      "Train step of epoch 0:  16%|█▌        | 39/250 [00:32<02:57,  1.19it/s, loss=0.6]\u001b[A\n",
      "Train step of epoch 0:  16%|█▌        | 39/250 [00:32<02:57,  1.19it/s, loss=0.666]\u001b[A\n",
      "Train step of epoch 0:  16%|█▌        | 40/250 [00:33<02:56,  1.19it/s, loss=0.666]\u001b[A\n",
      "Train step of epoch 0:  16%|█▌        | 40/250 [00:33<02:56,  1.19it/s, loss=0.647]\u001b[A\n",
      "Train step of epoch 0:  16%|█▋        | 41/250 [00:34<02:55,  1.19it/s, loss=0.647]\u001b[A\n",
      "Train step of epoch 0:  16%|█▋        | 41/250 [00:34<02:55,  1.19it/s, loss=0.608]\u001b[A\n",
      "Train step of epoch 0:  17%|█▋        | 42/250 [00:35<02:54,  1.19it/s, loss=0.608]\u001b[A\n",
      "Train step of epoch 0:  17%|█▋        | 42/250 [00:35<02:54,  1.19it/s, loss=0.686]\u001b[A\n",
      "Train step of epoch 0:  17%|█▋        | 43/250 [00:36<02:54,  1.19it/s, loss=0.686]\u001b[A\n",
      "Train step of epoch 0:  17%|█▋        | 43/250 [00:36<02:54,  1.19it/s, loss=0.626]\u001b[A\n",
      "Train step of epoch 0:  18%|█▊        | 44/250 [00:36<02:53,  1.19it/s, loss=0.626]\u001b[A\n",
      "Train step of epoch 0:  18%|█▊        | 44/250 [00:36<02:53,  1.19it/s, loss=0.517]\u001b[A\n",
      "Train step of epoch 0:  18%|█▊        | 45/250 [00:37<02:52,  1.19it/s, loss=0.517]\u001b[A\n",
      "Train step of epoch 0:  18%|█▊        | 45/250 [00:37<02:52,  1.19it/s, loss=0.748]\u001b[A\n",
      "Train step of epoch 0:  18%|█▊        | 46/250 [00:38<02:52,  1.18it/s, loss=0.748]\u001b[A\n",
      "Train step of epoch 0:  18%|█▊        | 46/250 [00:38<02:52,  1.18it/s, loss=0.62] \u001b[A\n",
      "Train step of epoch 0:  19%|█▉        | 47/250 [00:39<02:51,  1.18it/s, loss=0.62]\u001b[A\n",
      "Train step of epoch 0:  19%|█▉        | 47/250 [00:39<02:51,  1.18it/s, loss=0.881]\u001b[A\n",
      "Train step of epoch 0:  19%|█▉        | 48/250 [00:40<02:50,  1.18it/s, loss=0.881]\u001b[A\n",
      "Train step of epoch 0:  19%|█▉        | 48/250 [00:40<02:50,  1.18it/s, loss=0.503]\u001b[A\n",
      "Train step of epoch 0:  20%|█▉        | 49/250 [00:41<02:49,  1.18it/s, loss=0.503]\u001b[A\n",
      "Train step of epoch 0:  20%|█▉        | 49/250 [00:41<02:49,  1.18it/s, loss=0.995]\u001b[A\n",
      "Train step of epoch 0:  20%|██        | 50/250 [00:42<02:48,  1.18it/s, loss=0.995]\u001b[A\n",
      "Train step of epoch 0:  20%|██        | 50/250 [00:42<02:48,  1.18it/s, loss=0.649]\u001b[A\n",
      "Train step of epoch 0:  20%|██        | 51/250 [00:42<02:47,  1.19it/s, loss=0.649]\u001b[A\n",
      "Train step of epoch 0:  20%|██        | 51/250 [00:42<02:47,  1.19it/s, loss=0.449]\u001b[A\n",
      "Train step of epoch 0:  21%|██        | 52/250 [00:43<02:47,  1.18it/s, loss=0.449]\u001b[A\n",
      "Train step of epoch 0:  21%|██        | 52/250 [00:43<02:47,  1.18it/s, loss=0.569]\u001b[A\n",
      "Train step of epoch 0:  21%|██        | 53/250 [00:44<02:46,  1.18it/s, loss=0.569]\u001b[A\n",
      "Train step of epoch 0:  21%|██        | 53/250 [00:44<02:46,  1.18it/s, loss=0.486]\u001b[A\n",
      "Train step of epoch 0:  22%|██▏       | 54/250 [00:45<02:45,  1.18it/s, loss=0.486]\u001b[A\n",
      "Train step of epoch 0:  22%|██▏       | 54/250 [00:45<02:45,  1.18it/s, loss=0.32] \u001b[A\n",
      "Train step of epoch 0:  22%|██▏       | 55/250 [00:46<02:44,  1.18it/s, loss=0.32]\u001b[A\n",
      "Train step of epoch 0:  22%|██▏       | 55/250 [00:46<02:44,  1.18it/s, loss=0.686]\u001b[A\n",
      "Train step of epoch 0:  22%|██▏       | 56/250 [00:47<02:44,  1.18it/s, loss=0.686]\u001b[A\n",
      "Train step of epoch 0:  22%|██▏       | 56/250 [00:47<02:44,  1.18it/s, loss=0.257]\u001b[A\n",
      "Train step of epoch 0:  23%|██▎       | 57/250 [00:47<02:43,  1.18it/s, loss=0.257]\u001b[A\n",
      "Train step of epoch 0:  23%|██▎       | 57/250 [00:47<02:43,  1.18it/s, loss=0.465]\u001b[A\n",
      "Train step of epoch 0:  23%|██▎       | 58/250 [00:48<02:42,  1.18it/s, loss=0.465]\u001b[A\n",
      "Train step of epoch 0:  23%|██▎       | 58/250 [00:48<02:42,  1.18it/s, loss=0.546]\u001b[A\n",
      "Train step of epoch 0:  24%|██▎       | 59/250 [00:49<02:42,  1.18it/s, loss=0.546]\u001b[A\n",
      "Train step of epoch 0:  24%|██▎       | 59/250 [00:49<02:42,  1.18it/s, loss=0.356]\u001b[A\n",
      "Train step of epoch 0:  24%|██▍       | 60/250 [00:50<02:41,  1.18it/s, loss=0.356]\u001b[A\n",
      "Train step of epoch 0:  24%|██▍       | 60/250 [00:50<02:41,  1.18it/s, loss=0.984]\u001b[A\n",
      "Train step of epoch 0:  24%|██▍       | 61/250 [00:51<02:40,  1.18it/s, loss=0.984]\u001b[A\n",
      "Train step of epoch 0:  24%|██▍       | 61/250 [00:51<02:40,  1.18it/s, loss=0.242]\u001b[A\n",
      "Train step of epoch 0:  25%|██▍       | 62/250 [00:52<02:39,  1.18it/s, loss=0.242]\u001b[A\n",
      "Train step of epoch 0:  25%|██▍       | 62/250 [00:52<02:39,  1.18it/s, loss=0.252]\u001b[A\n",
      "Train step of epoch 0:  25%|██▌       | 63/250 [00:53<02:38,  1.18it/s, loss=0.252]\u001b[A\n",
      "Train step of epoch 0:  25%|██▌       | 63/250 [00:53<02:38,  1.18it/s, loss=0.324]\u001b[A\n",
      "Train step of epoch 0:  26%|██▌       | 64/250 [00:53<02:38,  1.18it/s, loss=0.324]\u001b[A\n",
      "Train step of epoch 0:  26%|██▌       | 64/250 [00:53<02:38,  1.18it/s, loss=0.44] \u001b[A\n",
      "Train step of epoch 0:  26%|██▌       | 65/250 [00:54<02:37,  1.18it/s, loss=0.44]\u001b[A\n",
      "Train step of epoch 0:  26%|██▌       | 65/250 [00:54<02:37,  1.18it/s, loss=0.187]\u001b[A\n",
      "Train step of epoch 0:  26%|██▋       | 66/250 [00:55<02:36,  1.17it/s, loss=0.187]\u001b[A\n",
      "Train step of epoch 0:  26%|██▋       | 66/250 [00:55<02:36,  1.17it/s, loss=0.833]\u001b[A\n",
      "Train step of epoch 0:  27%|██▋       | 67/250 [00:56<02:35,  1.17it/s, loss=0.833]\u001b[A\n",
      "Train step of epoch 0:  27%|██▋       | 67/250 [00:56<02:35,  1.17it/s, loss=0.206]\u001b[A\n",
      "Train step of epoch 0:  27%|██▋       | 68/250 [00:57<02:34,  1.17it/s, loss=0.206]\u001b[A\n",
      "Train step of epoch 0:  27%|██▋       | 68/250 [00:57<02:34,  1.17it/s, loss=0.142]\u001b[A\n",
      "Train step of epoch 0:  28%|██▊       | 69/250 [00:58<02:33,  1.18it/s, loss=0.142]\u001b[A\n",
      "Train step of epoch 0:  28%|██▊       | 69/250 [00:58<02:33,  1.18it/s, loss=0.318]\u001b[A\n",
      "Train step of epoch 0:  28%|██▊       | 70/250 [00:59<02:33,  1.17it/s, loss=0.318]\u001b[A\n",
      "Train step of epoch 0:  28%|██▊       | 70/250 [00:59<02:33,  1.17it/s, loss=0.148]\u001b[A\n",
      "Train step of epoch 0:  28%|██▊       | 71/250 [00:59<02:32,  1.17it/s, loss=0.148]\u001b[A\n",
      "Train step of epoch 0:  28%|██▊       | 71/250 [00:59<02:32,  1.17it/s, loss=0.759]\u001b[A\n",
      "Train step of epoch 0:  29%|██▉       | 72/250 [01:00<02:31,  1.17it/s, loss=0.759]\u001b[A\n",
      "Train step of epoch 0:  29%|██▉       | 72/250 [01:00<02:31,  1.17it/s, loss=0.0267]\u001b[A\n",
      "Train step of epoch 0:  29%|██▉       | 73/250 [01:01<02:30,  1.17it/s, loss=0.0267]\u001b[A\n",
      "Train step of epoch 0:  29%|██▉       | 73/250 [01:01<02:30,  1.17it/s, loss=0.439] \u001b[A\n",
      "Train step of epoch 0:  30%|██▉       | 74/250 [01:02<02:30,  1.17it/s, loss=0.439]\u001b[A\n",
      "Train step of epoch 0:  30%|██▉       | 74/250 [01:02<02:30,  1.17it/s, loss=1.5]  \u001b[A\n",
      "Train step of epoch 0:  30%|███       | 75/250 [01:03<02:29,  1.17it/s, loss=1.5]\u001b[A\n",
      "Train step of epoch 0:  30%|███       | 75/250 [01:03<02:29,  1.17it/s, loss=0.745]\u001b[A\n",
      "Train step of epoch 0:  30%|███       | 76/250 [01:04<02:28,  1.17it/s, loss=0.745]\u001b[A\n",
      "Train step of epoch 0:  30%|███       | 76/250 [01:04<02:28,  1.17it/s, loss=0.528]\u001b[A\n",
      "Train step of epoch 0:  31%|███       | 77/250 [01:04<02:27,  1.17it/s, loss=0.528]\u001b[A\n",
      "Train step of epoch 0:  31%|███       | 77/250 [01:05<02:27,  1.17it/s, loss=0.863]\u001b[A\n",
      "Train step of epoch 0:  31%|███       | 78/250 [01:05<02:26,  1.17it/s, loss=0.863]\u001b[A\n",
      "Train step of epoch 0:  31%|███       | 78/250 [01:05<02:26,  1.17it/s, loss=0.489]\u001b[A\n",
      "Train step of epoch 0:  32%|███▏      | 79/250 [01:06<02:26,  1.17it/s, loss=0.489]\u001b[A\n",
      "Train step of epoch 0:  32%|███▏      | 79/250 [01:06<02:26,  1.17it/s, loss=0.609]\u001b[A\n",
      "Train step of epoch 0:  32%|███▏      | 80/250 [01:07<02:25,  1.17it/s, loss=0.609]\u001b[A\n",
      "Train step of epoch 0:  32%|███▏      | 80/250 [01:07<02:25,  1.17it/s, loss=0.577]\u001b[A\n",
      "Train step of epoch 0:  32%|███▏      | 81/250 [01:08<02:24,  1.17it/s, loss=0.577]\u001b[A\n",
      "Train step of epoch 0:  32%|███▏      | 81/250 [01:08<02:24,  1.17it/s, loss=0.592]\u001b[A\n",
      "Train step of epoch 0:  33%|███▎      | 82/250 [01:09<02:23,  1.17it/s, loss=0.592]\u001b[A\n",
      "Train step of epoch 0:  33%|███▎      | 82/250 [01:09<02:23,  1.17it/s, loss=0.704]\u001b[A\n",
      "Train step of epoch 0:  33%|███▎      | 83/250 [01:10<02:22,  1.17it/s, loss=0.704]\u001b[A\n",
      "Train step of epoch 0:  33%|███▎      | 83/250 [01:10<02:22,  1.17it/s, loss=0.643]\u001b[A\n",
      "Train step of epoch 0:  34%|███▎      | 84/250 [01:10<02:21,  1.17it/s, loss=0.643]\u001b[A\n",
      "Train step of epoch 0:  34%|███▎      | 84/250 [01:10<02:21,  1.17it/s, loss=0.762]\u001b[A\n",
      "Train step of epoch 0:  34%|███▍      | 85/250 [01:11<02:21,  1.17it/s, loss=0.762]\u001b[A\n",
      "Train step of epoch 0:  34%|███▍      | 85/250 [01:11<02:21,  1.17it/s, loss=0.623]\u001b[A\n",
      "Train step of epoch 0:  34%|███▍      | 86/250 [01:12<02:20,  1.17it/s, loss=0.623]\u001b[A\n",
      "Train step of epoch 0:  34%|███▍      | 86/250 [01:12<02:20,  1.17it/s, loss=0.514]\u001b[A\n",
      "Train step of epoch 0:  35%|███▍      | 87/250 [01:13<02:19,  1.17it/s, loss=0.514]\u001b[A\n",
      "Train step of epoch 0:  35%|███▍      | 87/250 [01:13<02:19,  1.17it/s, loss=0.464]\u001b[A\n",
      "Train step of epoch 0:  35%|███▌      | 88/250 [01:14<02:18,  1.17it/s, loss=0.464]\u001b[A\n",
      "Train step of epoch 0:  35%|███▌      | 88/250 [01:14<02:18,  1.17it/s, loss=0.487]\u001b[A\n",
      "Train step of epoch 0:  36%|███▌      | 89/250 [01:15<02:17,  1.17it/s, loss=0.487]\u001b[A\n",
      "Train step of epoch 0:  36%|███▌      | 89/250 [01:15<02:17,  1.17it/s, loss=0.528]\u001b[A\n",
      "Train step of epoch 0:  36%|███▌      | 90/250 [01:16<02:16,  1.17it/s, loss=0.528]\u001b[A\n",
      "Train step of epoch 0:  36%|███▌      | 90/250 [01:16<02:16,  1.17it/s, loss=1.15] \u001b[A\n",
      "Train step of epoch 0:  36%|███▋      | 91/250 [01:16<02:16,  1.17it/s, loss=1.15]\u001b[A\n",
      "Train step of epoch 0:  36%|███▋      | 91/250 [01:16<02:16,  1.17it/s, loss=0.563]\u001b[A\n",
      "Train step of epoch 0:  37%|███▋      | 92/250 [01:17<02:15,  1.17it/s, loss=0.563]\u001b[A\n",
      "Train step of epoch 0:  37%|███▋      | 92/250 [01:17<02:15,  1.17it/s, loss=0.401]\u001b[A\n",
      "Train step of epoch 0:  37%|███▋      | 93/250 [01:18<02:14,  1.17it/s, loss=0.401]\u001b[A\n",
      "Train step of epoch 0:  37%|███▋      | 93/250 [01:18<02:14,  1.17it/s, loss=0.703]\u001b[A\n",
      "Train step of epoch 0:  38%|███▊      | 94/250 [01:19<02:13,  1.17it/s, loss=0.703]\u001b[A\n",
      "Train step of epoch 0:  38%|███▊      | 94/250 [01:19<02:13,  1.17it/s, loss=0.458]\u001b[A\n",
      "Train step of epoch 0:  38%|███▊      | 95/250 [01:20<02:12,  1.17it/s, loss=0.458]\u001b[A\n",
      "Train step of epoch 0:  38%|███▊      | 95/250 [01:20<02:12,  1.17it/s, loss=0.963]\u001b[A\n",
      "Train step of epoch 0:  38%|███▊      | 96/250 [01:21<02:12,  1.17it/s, loss=0.963]\u001b[A\n",
      "Train step of epoch 0:  38%|███▊      | 96/250 [01:21<02:12,  1.17it/s, loss=0.515]\u001b[A\n",
      "Train step of epoch 0:  39%|███▉      | 97/250 [01:22<02:11,  1.16it/s, loss=0.515]\u001b[A\n",
      "Train step of epoch 0:  39%|███▉      | 97/250 [01:22<02:11,  1.16it/s, loss=0.526]\u001b[A\n",
      "Train step of epoch 0:  39%|███▉      | 98/250 [01:22<02:10,  1.16it/s, loss=0.526]\u001b[A\n",
      "Train step of epoch 0:  39%|███▉      | 98/250 [01:23<02:10,  1.16it/s, loss=0.874]\u001b[A\n",
      "Train step of epoch 0:  40%|███▉      | 99/250 [01:23<02:09,  1.16it/s, loss=0.874]\u001b[A\n",
      "Train step of epoch 0:  40%|███▉      | 99/250 [01:23<02:09,  1.16it/s, loss=0.54] \u001b[A\n",
      "Train step of epoch 0:  40%|████      | 100/250 [01:24<02:08,  1.16it/s, loss=0.54]\u001b[A\n",
      "Train step of epoch 0:  40%|████      | 100/250 [01:24<02:08,  1.16it/s, loss=0.579]\u001b[A\n",
      "Train step of epoch 0:  40%|████      | 101/250 [01:25<02:07,  1.17it/s, loss=0.579]\u001b[A\n",
      "Train step of epoch 0:  40%|████      | 101/250 [01:25<02:07,  1.17it/s, loss=1.03] \u001b[A\n",
      "Train step of epoch 0:  41%|████      | 102/250 [01:26<02:06,  1.17it/s, loss=1.03]\u001b[A\n",
      "Train step of epoch 0:  41%|████      | 102/250 [01:26<02:06,  1.17it/s, loss=0.692]\u001b[A\n",
      "Train step of epoch 0:  41%|████      | 103/250 [01:27<02:06,  1.17it/s, loss=0.692]\u001b[A\n",
      "Train step of epoch 0:  41%|████      | 103/250 [01:27<02:06,  1.17it/s, loss=0.486]\u001b[A\n",
      "Train step of epoch 0:  42%|████▏     | 104/250 [01:28<02:05,  1.17it/s, loss=0.486]\u001b[A\n",
      "Train step of epoch 0:  42%|████▏     | 104/250 [01:28<02:05,  1.17it/s, loss=0.418]\u001b[A\n",
      "Train step of epoch 0:  42%|████▏     | 105/250 [01:28<02:04,  1.16it/s, loss=0.418]\u001b[A\n",
      "Train step of epoch 0:  42%|████▏     | 105/250 [01:29<02:04,  1.16it/s, loss=0.601]\u001b[A\n",
      "Train step of epoch 0:  42%|████▏     | 106/250 [01:29<02:03,  1.17it/s, loss=0.601]\u001b[A\n",
      "Train step of epoch 0:  42%|████▏     | 106/250 [01:29<02:03,  1.17it/s, loss=0.644]\u001b[A\n",
      "Train step of epoch 0:  43%|████▎     | 107/250 [01:30<02:02,  1.16it/s, loss=0.644]\u001b[A\n",
      "Train step of epoch 0:  43%|████▎     | 107/250 [01:30<02:02,  1.16it/s, loss=0.627]\u001b[A\n",
      "Train step of epoch 0:  43%|████▎     | 108/250 [01:31<02:01,  1.17it/s, loss=0.627]\u001b[A\n",
      "Train step of epoch 0:  43%|████▎     | 108/250 [01:31<02:01,  1.17it/s, loss=0.828]\u001b[A\n",
      "Train step of epoch 0:  44%|████▎     | 109/250 [01:32<02:01,  1.16it/s, loss=0.828]\u001b[A\n",
      "Train step of epoch 0:  44%|████▎     | 109/250 [01:32<02:01,  1.16it/s, loss=0.594]\u001b[A\n",
      "Train step of epoch 0:  44%|████▍     | 110/250 [01:33<02:00,  1.16it/s, loss=0.594]\u001b[A\n",
      "Train step of epoch 0:  44%|████▍     | 110/250 [01:33<02:00,  1.16it/s, loss=0.672]\u001b[A\n",
      "Train step of epoch 0:  44%|████▍     | 111/250 [01:34<01:59,  1.16it/s, loss=0.672]\u001b[A\n",
      "Train step of epoch 0:  44%|████▍     | 111/250 [01:34<01:59,  1.16it/s, loss=0.59] \u001b[A\n",
      "Train step of epoch 0:  45%|████▍     | 112/250 [01:35<01:58,  1.16it/s, loss=0.59]\u001b[A\n",
      "Train step of epoch 0:  45%|████▍     | 112/250 [01:35<01:58,  1.16it/s, loss=0.781]\u001b[A\n",
      "Train step of epoch 0:  45%|████▌     | 113/250 [01:35<01:57,  1.16it/s, loss=0.781]\u001b[A\n",
      "Train step of epoch 0:  45%|████▌     | 113/250 [01:35<01:57,  1.16it/s, loss=0.539]\u001b[A\n",
      "Train step of epoch 0:  46%|████▌     | 114/250 [01:36<01:56,  1.16it/s, loss=0.539]\u001b[A\n",
      "Train step of epoch 0:  46%|████▌     | 114/250 [01:36<01:56,  1.16it/s, loss=0.45] \u001b[A\n",
      "Train step of epoch 0:  46%|████▌     | 115/250 [01:37<01:56,  1.16it/s, loss=0.45]\u001b[A\n",
      "Train step of epoch 0:  46%|████▌     | 115/250 [01:37<01:56,  1.16it/s, loss=0.615]\u001b[A\n",
      "Train step of epoch 0:  46%|████▋     | 116/250 [01:38<01:55,  1.16it/s, loss=0.615]\u001b[A\n",
      "Train step of epoch 0:  46%|████▋     | 116/250 [01:38<01:55,  1.16it/s, loss=0.615]\u001b[A\n",
      "Train step of epoch 0:  47%|████▋     | 117/250 [01:39<01:54,  1.16it/s, loss=0.615]\u001b[A\n",
      "Train step of epoch 0:  47%|████▋     | 117/250 [01:39<01:54,  1.16it/s, loss=0.559]\u001b[A\n",
      "Train step of epoch 0:  47%|████▋     | 118/250 [01:40<01:53,  1.16it/s, loss=0.559]\u001b[A\n",
      "Train step of epoch 0:  47%|████▋     | 118/250 [01:40<01:53,  1.16it/s, loss=1.01] \u001b[A\n",
      "Train step of epoch 0:  48%|████▊     | 119/250 [01:41<01:52,  1.16it/s, loss=1.01]\u001b[A\n",
      "Train step of epoch 0:  48%|████▊     | 119/250 [01:41<01:52,  1.16it/s, loss=0.401]\u001b[A\n",
      "Train step of epoch 0:  48%|████▊     | 120/250 [01:41<01:52,  1.16it/s, loss=0.401]\u001b[A\n",
      "Train step of epoch 0:  48%|████▊     | 120/250 [01:41<01:52,  1.16it/s, loss=0.433]\u001b[A\n",
      "Train step of epoch 0:  48%|████▊     | 121/250 [01:42<01:51,  1.16it/s, loss=0.433]\u001b[A\n",
      "Train step of epoch 0:  48%|████▊     | 121/250 [01:42<01:51,  1.16it/s, loss=0.648]\u001b[A\n",
      "Train step of epoch 0:  49%|████▉     | 122/250 [01:43<01:50,  1.16it/s, loss=0.648]\u001b[A\n",
      "Train step of epoch 0:  49%|████▉     | 122/250 [01:43<01:50,  1.16it/s, loss=0.671]\u001b[A\n",
      "Train step of epoch 0:  49%|████▉     | 123/250 [01:44<01:49,  1.16it/s, loss=0.671]\u001b[A\n",
      "Train step of epoch 0:  49%|████▉     | 123/250 [01:44<01:49,  1.16it/s, loss=0.385]\u001b[A\n",
      "Train step of epoch 0:  50%|████▉     | 124/250 [01:45<01:48,  1.16it/s, loss=0.385]\u001b[A\n",
      "Train step of epoch 0:  50%|████▉     | 124/250 [01:45<01:48,  1.16it/s, loss=0.328]\u001b[A\n",
      "Train step of epoch 0:  50%|█████     | 125/250 [01:46<01:47,  1.16it/s, loss=0.328]\u001b[A\n",
      "Train step of epoch 0:  50%|█████     | 125/250 [01:46<01:47,  1.16it/s, loss=0.63] \u001b[A\n",
      "Train step of epoch 0:  50%|█████     | 126/250 [01:47<01:47,  1.16it/s, loss=0.63]\u001b[A\n",
      "Train step of epoch 0:  50%|█████     | 126/250 [01:47<01:47,  1.16it/s, loss=0.504]\u001b[A\n",
      "Train step of epoch 0:  51%|█████     | 127/250 [01:47<01:46,  1.16it/s, loss=0.504]\u001b[A\n",
      "Train step of epoch 0:  51%|█████     | 127/250 [01:47<01:46,  1.16it/s, loss=0.928]\u001b[A\n",
      "Train step of epoch 0:  51%|█████     | 128/250 [01:48<01:45,  1.16it/s, loss=0.928]\u001b[A\n",
      "Train step of epoch 0:  51%|█████     | 128/250 [01:48<01:45,  1.16it/s, loss=1.01] \u001b[A\n",
      "Train step of epoch 0:  52%|█████▏    | 129/250 [01:49<01:44,  1.16it/s, loss=1.01]\u001b[A\n",
      "Train step of epoch 0:  52%|█████▏    | 129/250 [01:49<01:44,  1.16it/s, loss=1.37]\u001b[A\n",
      "Train step of epoch 0:  52%|█████▏    | 130/250 [01:50<01:43,  1.15it/s, loss=1.37]\u001b[A\n",
      "Train step of epoch 0:  52%|█████▏    | 130/250 [01:50<01:43,  1.15it/s, loss=0.606]\u001b[A\n",
      "Train step of epoch 0:  52%|█████▏    | 131/250 [01:51<01:42,  1.16it/s, loss=0.606]\u001b[A\n",
      "Train step of epoch 0:  52%|█████▏    | 131/250 [01:51<01:42,  1.16it/s, loss=0.564]\u001b[A\n",
      "Train step of epoch 0:  53%|█████▎    | 132/250 [01:52<01:41,  1.16it/s, loss=0.564]\u001b[A\n",
      "Train step of epoch 0:  53%|█████▎    | 132/250 [01:52<01:41,  1.16it/s, loss=0.644]\u001b[A\n",
      "Train step of epoch 0:  53%|█████▎    | 133/250 [01:53<01:41,  1.16it/s, loss=0.644]\u001b[A\n",
      "Train step of epoch 0:  53%|█████▎    | 133/250 [01:53<01:41,  1.16it/s, loss=0.433]\u001b[A\n",
      "Train step of epoch 0:  54%|█████▎    | 134/250 [01:54<01:40,  1.16it/s, loss=0.433]\u001b[A\n",
      "Train step of epoch 0:  54%|█████▎    | 134/250 [01:54<01:40,  1.16it/s, loss=0.565]\u001b[A\n",
      "Train step of epoch 0:  54%|█████▍    | 135/250 [01:54<01:39,  1.16it/s, loss=0.565]\u001b[A\n",
      "Train step of epoch 0:  54%|█████▍    | 135/250 [01:54<01:39,  1.16it/s, loss=0.659]\u001b[A\n",
      "Train step of epoch 0:  54%|█████▍    | 136/250 [01:55<01:38,  1.15it/s, loss=0.659]\u001b[A\n",
      "Train step of epoch 0:  54%|█████▍    | 136/250 [01:55<01:38,  1.15it/s, loss=0.587]\u001b[A\n",
      "Train step of epoch 0:  55%|█████▍    | 137/250 [01:56<01:37,  1.15it/s, loss=0.587]\u001b[A\n",
      "Train step of epoch 0:  55%|█████▍    | 137/250 [01:56<01:37,  1.15it/s, loss=0.416]\u001b[A\n",
      "Train step of epoch 0:  55%|█████▌    | 138/250 [01:57<01:37,  1.15it/s, loss=0.416]\u001b[A\n",
      "Train step of epoch 0:  55%|█████▌    | 138/250 [01:57<01:37,  1.15it/s, loss=0.856]\u001b[A\n",
      "Train step of epoch 0:  56%|█████▌    | 139/250 [01:58<01:36,  1.15it/s, loss=0.856]\u001b[A\n",
      "Train step of epoch 0:  56%|█████▌    | 139/250 [01:58<01:36,  1.15it/s, loss=0.777]\u001b[A\n",
      "Train step of epoch 0:  56%|█████▌    | 140/250 [01:59<01:35,  1.15it/s, loss=0.777]\u001b[A\n",
      "Train step of epoch 0:  56%|█████▌    | 140/250 [01:59<01:35,  1.15it/s, loss=0.676]\u001b[A\n",
      "Train step of epoch 0:  56%|█████▋    | 141/250 [02:00<01:34,  1.15it/s, loss=0.676]\u001b[A\n",
      "Train step of epoch 0:  56%|█████▋    | 141/250 [02:00<01:34,  1.15it/s, loss=0.541]\u001b[A\n",
      "Train step of epoch 0:  57%|█████▋    | 142/250 [02:00<01:33,  1.15it/s, loss=0.541]\u001b[A\n",
      "Train step of epoch 0:  57%|█████▋    | 142/250 [02:00<01:33,  1.15it/s, loss=0.447]\u001b[A\n",
      "Train step of epoch 0:  57%|█████▋    | 143/250 [02:01<01:32,  1.15it/s, loss=0.447]\u001b[A\n",
      "Train step of epoch 0:  57%|█████▋    | 143/250 [02:01<01:32,  1.15it/s, loss=0.53] \u001b[A\n",
      "Train step of epoch 0:  58%|█████▊    | 144/250 [02:02<01:31,  1.15it/s, loss=0.53]\u001b[A\n",
      "Train step of epoch 0:  58%|█████▊    | 144/250 [02:02<01:31,  1.15it/s, loss=0.421]\u001b[A\n",
      "Train step of epoch 0:  58%|█████▊    | 145/250 [02:03<01:31,  1.15it/s, loss=0.421]\u001b[A\n",
      "Train step of epoch 0:  58%|█████▊    | 145/250 [02:03<01:31,  1.15it/s, loss=0.539]\u001b[A\n",
      "Train step of epoch 0:  58%|█████▊    | 146/250 [02:04<01:30,  1.15it/s, loss=0.539]\u001b[A\n",
      "Train step of epoch 0:  58%|█████▊    | 146/250 [02:04<01:30,  1.15it/s, loss=0.397]\u001b[A\n",
      "Train step of epoch 0:  59%|█████▉    | 147/250 [02:05<01:29,  1.15it/s, loss=0.397]\u001b[A\n",
      "Train step of epoch 0:  59%|█████▉    | 147/250 [02:05<01:29,  1.15it/s, loss=0.647]\u001b[A\n",
      "Train step of epoch 0:  59%|█████▉    | 148/250 [02:06<01:28,  1.15it/s, loss=0.647]\u001b[A\n",
      "Train step of epoch 0:  59%|█████▉    | 148/250 [02:06<01:28,  1.15it/s, loss=1.22] \u001b[A\n",
      "Train step of epoch 0:  60%|█████▉    | 149/250 [02:07<01:27,  1.15it/s, loss=1.22]\u001b[A\n",
      "Train step of epoch 0:  60%|█████▉    | 149/250 [02:07<01:27,  1.15it/s, loss=0.511]\u001b[A\n",
      "Train step of epoch 0:  60%|██████    | 150/250 [02:07<01:26,  1.15it/s, loss=0.511]\u001b[A\n",
      "Train step of epoch 0:  60%|██████    | 150/250 [02:07<01:26,  1.15it/s, loss=1.4]  \u001b[A\n",
      "Train step of epoch 0:  60%|██████    | 151/250 [02:08<01:26,  1.15it/s, loss=1.4]\u001b[A\n",
      "Train step of epoch 0:  60%|██████    | 151/250 [02:08<01:26,  1.15it/s, loss=0.493]\u001b[A\n",
      "Train step of epoch 0:  61%|██████    | 152/250 [02:09<01:25,  1.15it/s, loss=0.493]\u001b[A\n",
      "Train step of epoch 0:  61%|██████    | 152/250 [02:09<01:25,  1.15it/s, loss=0.453]\u001b[A\n",
      "Train step of epoch 0:  61%|██████    | 153/250 [02:10<01:24,  1.15it/s, loss=0.453]\u001b[A\n",
      "Train step of epoch 0:  61%|██████    | 153/250 [02:10<01:24,  1.15it/s, loss=0.316]\u001b[A\n",
      "Train step of epoch 0:  62%|██████▏   | 154/250 [02:11<01:23,  1.15it/s, loss=0.316]\u001b[A\n",
      "Train step of epoch 0:  62%|██████▏   | 154/250 [02:11<01:23,  1.15it/s, loss=0.72] \u001b[A\n",
      "Train step of epoch 0:  62%|██████▏   | 155/250 [02:12<01:22,  1.15it/s, loss=0.72]\u001b[A\n",
      "Train step of epoch 0:  62%|██████▏   | 155/250 [02:12<01:22,  1.15it/s, loss=0.43]\u001b[A\n",
      "Train step of epoch 0:  62%|██████▏   | 156/250 [02:13<01:21,  1.15it/s, loss=0.43]\u001b[A\n",
      "Train step of epoch 0:  62%|██████▏   | 156/250 [02:13<01:21,  1.15it/s, loss=0.35]\u001b[A\n",
      "Train step of epoch 0:  63%|██████▎   | 157/250 [02:13<01:20,  1.15it/s, loss=0.35]\u001b[A\n",
      "Train step of epoch 0:  63%|██████▎   | 157/250 [02:14<01:20,  1.15it/s, loss=0.808]\u001b[A\n",
      "Train step of epoch 0:  63%|██████▎   | 158/250 [02:14<01:20,  1.15it/s, loss=0.808]\u001b[A\n",
      "Train step of epoch 0:  63%|██████▎   | 158/250 [02:14<01:20,  1.15it/s, loss=0.47] \u001b[A\n",
      "Train step of epoch 0:  64%|██████▎   | 159/250 [02:15<01:19,  1.15it/s, loss=0.47]\u001b[A\n",
      "Train step of epoch 0:  64%|██████▎   | 159/250 [02:15<01:19,  1.15it/s, loss=0.402]\u001b[A\n",
      "Train step of epoch 0:  64%|██████▍   | 160/250 [02:16<01:18,  1.15it/s, loss=0.402]\u001b[A\n",
      "Train step of epoch 0:  64%|██████▍   | 160/250 [02:16<01:18,  1.15it/s, loss=0.568]\u001b[A\n",
      "Train step of epoch 0:  64%|██████▍   | 161/250 [02:17<01:17,  1.15it/s, loss=0.568]\u001b[A\n",
      "Train step of epoch 0:  64%|██████▍   | 161/250 [02:17<01:17,  1.15it/s, loss=0.625]\u001b[A\n",
      "Train step of epoch 0:  65%|██████▍   | 162/250 [02:18<01:16,  1.15it/s, loss=0.625]\u001b[A\n",
      "Train step of epoch 0:  65%|██████▍   | 162/250 [02:18<01:16,  1.15it/s, loss=0.615]\u001b[A\n",
      "Train step of epoch 0:  65%|██████▌   | 163/250 [02:19<01:15,  1.15it/s, loss=0.615]\u001b[A\n",
      "Train step of epoch 0:  65%|██████▌   | 163/250 [02:19<01:15,  1.15it/s, loss=0.392]\u001b[A\n",
      "Train step of epoch 0:  66%|██████▌   | 164/250 [02:20<01:14,  1.15it/s, loss=0.392]\u001b[A\n",
      "Train step of epoch 0:  66%|██████▌   | 164/250 [02:20<01:14,  1.15it/s, loss=0.886]\u001b[A\n",
      "Train step of epoch 0:  66%|██████▌   | 165/250 [02:20<01:13,  1.15it/s, loss=0.886]\u001b[A\n",
      "Train step of epoch 0:  66%|██████▌   | 165/250 [02:20<01:13,  1.15it/s, loss=0.847]\u001b[A\n",
      "Train step of epoch 0:  66%|██████▋   | 166/250 [02:21<01:13,  1.15it/s, loss=0.847]\u001b[A\n",
      "Train step of epoch 0:  66%|██████▋   | 166/250 [02:21<01:13,  1.15it/s, loss=0.541]\u001b[A\n",
      "Train step of epoch 0:  67%|██████▋   | 167/250 [02:22<01:12,  1.15it/s, loss=0.541]\u001b[A\n",
      "Train step of epoch 0:  67%|██████▋   | 167/250 [02:22<01:12,  1.15it/s, loss=0.607]\u001b[A\n",
      "Train step of epoch 0:  67%|██████▋   | 168/250 [02:23<01:11,  1.15it/s, loss=0.607]\u001b[A\n",
      "Train step of epoch 0:  67%|██████▋   | 168/250 [02:23<01:11,  1.15it/s, loss=0.468]\u001b[A\n",
      "Train step of epoch 0:  68%|██████▊   | 169/250 [02:24<01:10,  1.15it/s, loss=0.468]\u001b[A\n",
      "Train step of epoch 0:  68%|██████▊   | 169/250 [02:24<01:10,  1.15it/s, loss=0.871]\u001b[A\n",
      "Train step of epoch 0:  68%|██████▊   | 170/250 [02:25<01:09,  1.15it/s, loss=0.871]\u001b[A\n",
      "Train step of epoch 0:  68%|██████▊   | 170/250 [02:25<01:09,  1.15it/s, loss=0.744]\u001b[A\n",
      "Train step of epoch 0:  68%|██████▊   | 171/250 [02:26<01:08,  1.15it/s, loss=0.744]\u001b[A\n",
      "Train step of epoch 0:  68%|██████▊   | 171/250 [02:26<01:08,  1.15it/s, loss=0.64] \u001b[A\n",
      "Train step of epoch 0:  69%|██████▉   | 172/250 [02:27<01:07,  1.15it/s, loss=0.64]\u001b[A\n",
      "Train step of epoch 0:  69%|██████▉   | 172/250 [02:27<01:07,  1.15it/s, loss=0.287]\u001b[A\n",
      "Train step of epoch 0:  69%|██████▉   | 173/250 [02:27<01:07,  1.15it/s, loss=0.287]\u001b[A\n",
      "Train step of epoch 0:  69%|██████▉   | 173/250 [02:27<01:07,  1.15it/s, loss=0.843]\u001b[A\n",
      "Train step of epoch 0:  70%|██████▉   | 174/250 [02:28<01:06,  1.15it/s, loss=0.843]\u001b[A\n",
      "Train step of epoch 0:  70%|██████▉   | 174/250 [02:28<01:06,  1.15it/s, loss=0.511]\u001b[A\n",
      "Train step of epoch 0:  70%|███████   | 175/250 [02:29<01:05,  1.15it/s, loss=0.511]\u001b[A\n",
      "Train step of epoch 0:  70%|███████   | 175/250 [02:29<01:05,  1.15it/s, loss=0.443]\u001b[A\n",
      "Train step of epoch 0:  70%|███████   | 176/250 [02:30<01:04,  1.15it/s, loss=0.443]\u001b[A\n",
      "Train step of epoch 0:  70%|███████   | 176/250 [02:30<01:04,  1.15it/s, loss=0.835]\u001b[A\n",
      "Train step of epoch 0:  71%|███████   | 177/250 [02:31<01:03,  1.15it/s, loss=0.835]\u001b[A\n",
      "Train step of epoch 0:  71%|███████   | 177/250 [02:31<01:03,  1.15it/s, loss=0.808]\u001b[A\n",
      "Train step of epoch 0:  71%|███████   | 178/250 [02:32<01:02,  1.15it/s, loss=0.808]\u001b[A\n",
      "Train step of epoch 0:  71%|███████   | 178/250 [02:32<01:02,  1.15it/s, loss=0.715]\u001b[A\n",
      "Train step of epoch 0:  72%|███████▏  | 179/250 [02:33<01:01,  1.15it/s, loss=0.715]\u001b[A\n",
      "Train step of epoch 0:  72%|███████▏  | 179/250 [02:33<01:01,  1.15it/s, loss=0.911]\u001b[A\n",
      "Train step of epoch 0:  72%|███████▏  | 180/250 [02:34<01:01,  1.14it/s, loss=0.911]\u001b[A\n",
      "Train step of epoch 0:  72%|███████▏  | 180/250 [02:34<01:01,  1.14it/s, loss=0.792]\u001b[A\n",
      "Train step of epoch 0:  72%|███████▏  | 181/250 [02:34<01:00,  1.15it/s, loss=0.792]\u001b[A\n",
      "Train step of epoch 0:  72%|███████▏  | 181/250 [02:34<01:00,  1.15it/s, loss=0.549]\u001b[A\n",
      "Train step of epoch 0:  73%|███████▎  | 182/250 [02:35<00:59,  1.15it/s, loss=0.549]\u001b[A\n",
      "Train step of epoch 0:  73%|███████▎  | 182/250 [02:35<00:59,  1.15it/s, loss=0.576]\u001b[A\n",
      "Train step of epoch 0:  73%|███████▎  | 183/250 [02:36<00:58,  1.15it/s, loss=0.576]\u001b[A\n",
      "Train step of epoch 0:  73%|███████▎  | 183/250 [02:36<00:58,  1.15it/s, loss=0.779]\u001b[A\n",
      "Train step of epoch 0:  74%|███████▎  | 184/250 [02:37<00:57,  1.15it/s, loss=0.779]\u001b[A\n",
      "Train step of epoch 0:  74%|███████▎  | 184/250 [02:37<00:57,  1.15it/s, loss=0.696]\u001b[A\n",
      "Train step of epoch 0:  74%|███████▍  | 185/250 [02:38<00:56,  1.15it/s, loss=0.696]\u001b[A\n",
      "Train step of epoch 0:  74%|███████▍  | 185/250 [02:38<00:56,  1.15it/s, loss=0.677]\u001b[A\n",
      "Train step of epoch 0:  74%|███████▍  | 186/250 [02:39<00:55,  1.15it/s, loss=0.677]\u001b[A\n",
      "Train step of epoch 0:  74%|███████▍  | 186/250 [02:39<00:55,  1.15it/s, loss=0.975]\u001b[A\n",
      "Train step of epoch 0:  75%|███████▍  | 187/250 [02:40<00:54,  1.15it/s, loss=0.975]\u001b[A\n",
      "Train step of epoch 0:  75%|███████▍  | 187/250 [02:40<00:54,  1.15it/s, loss=0.478]\u001b[A\n",
      "Train step of epoch 0:  75%|███████▌  | 188/250 [02:41<00:54,  1.15it/s, loss=0.478]\u001b[A\n",
      "Train step of epoch 0:  75%|███████▌  | 188/250 [02:41<00:54,  1.15it/s, loss=0.743]\u001b[A\n",
      "Train step of epoch 0:  76%|███████▌  | 189/250 [02:41<00:53,  1.14it/s, loss=0.743]\u001b[A\n",
      "Train step of epoch 0:  76%|███████▌  | 189/250 [02:41<00:53,  1.14it/s, loss=0.552]\u001b[A\n",
      "Train step of epoch 0:  76%|███████▌  | 190/250 [02:42<00:52,  1.14it/s, loss=0.552]\u001b[A\n",
      "Train step of epoch 0:  76%|███████▌  | 190/250 [02:42<00:52,  1.14it/s, loss=0.637]\u001b[A\n",
      "Train step of epoch 0:  76%|███████▋  | 191/250 [02:43<00:51,  1.14it/s, loss=0.637]\u001b[A\n",
      "Train step of epoch 0:  76%|███████▋  | 191/250 [02:43<00:51,  1.14it/s, loss=0.484]\u001b[A\n",
      "Train step of epoch 0:  77%|███████▋  | 192/250 [02:44<00:50,  1.14it/s, loss=0.484]\u001b[A\n",
      "Train step of epoch 0:  77%|███████▋  | 192/250 [02:44<00:50,  1.14it/s, loss=0.661]\u001b[A\n",
      "Train step of epoch 0:  77%|███████▋  | 193/250 [02:45<00:49,  1.14it/s, loss=0.661]\u001b[A\n",
      "Train step of epoch 0:  77%|███████▋  | 193/250 [02:45<00:49,  1.14it/s, loss=0.564]\u001b[A\n",
      "Train step of epoch 0:  78%|███████▊  | 194/250 [02:46<00:49,  1.14it/s, loss=0.564]\u001b[A\n",
      "Train step of epoch 0:  78%|███████▊  | 194/250 [02:46<00:49,  1.14it/s, loss=0.698]\u001b[A\n",
      "Train step of epoch 0:  78%|███████▊  | 195/250 [02:47<00:48,  1.14it/s, loss=0.698]\u001b[A\n",
      "Train step of epoch 0:  78%|███████▊  | 195/250 [02:47<00:48,  1.14it/s, loss=0.618]\u001b[A\n",
      "Train step of epoch 0:  78%|███████▊  | 196/250 [02:48<00:47,  1.14it/s, loss=0.618]\u001b[A\n",
      "Train step of epoch 0:  78%|███████▊  | 196/250 [02:48<00:47,  1.14it/s, loss=0.737]\u001b[A\n",
      "Train step of epoch 0:  79%|███████▉  | 197/250 [02:48<00:46,  1.14it/s, loss=0.737]\u001b[A\n",
      "Train step of epoch 0:  79%|███████▉  | 197/250 [02:48<00:46,  1.14it/s, loss=0.591]\u001b[A\n",
      "Train step of epoch 0:  79%|███████▉  | 198/250 [02:49<00:45,  1.14it/s, loss=0.591]\u001b[A\n",
      "Train step of epoch 0:  79%|███████▉  | 198/250 [02:49<00:45,  1.14it/s, loss=0.737]\u001b[A\n",
      "Train step of epoch 0:  80%|███████▉  | 199/250 [02:50<00:44,  1.14it/s, loss=0.737]\u001b[A\n",
      "Train step of epoch 0:  80%|███████▉  | 199/250 [02:50<00:44,  1.14it/s, loss=0.809]\u001b[A\n",
      "Train step of epoch 0:  80%|████████  | 200/250 [02:51<00:43,  1.14it/s, loss=0.809]\u001b[A\n",
      "Train step of epoch 0:  80%|████████  | 200/250 [02:51<00:43,  1.14it/s, loss=0.656]\u001b[A\n",
      "Train step of epoch 0:  80%|████████  | 201/250 [02:52<00:42,  1.14it/s, loss=0.656]\u001b[A\n",
      "Train step of epoch 0:  80%|████████  | 201/250 [02:52<00:42,  1.14it/s, loss=0.792]\u001b[A\n",
      "Train step of epoch 0:  81%|████████  | 202/250 [02:53<00:42,  1.14it/s, loss=0.792]\u001b[A\n",
      "Train step of epoch 0:  81%|████████  | 202/250 [02:53<00:42,  1.14it/s, loss=0.564]\u001b[A\n",
      "Train step of epoch 0:  81%|████████  | 203/250 [02:54<00:41,  1.14it/s, loss=0.564]\u001b[A\n",
      "Train step of epoch 0:  81%|████████  | 203/250 [02:54<00:41,  1.14it/s, loss=0.603]\u001b[A\n",
      "Train step of epoch 0:  82%|████████▏ | 204/250 [02:55<00:40,  1.14it/s, loss=0.603]\u001b[A\n",
      "Train step of epoch 0:  82%|████████▏ | 204/250 [02:55<00:40,  1.14it/s, loss=0.675]\u001b[A\n",
      "Train step of epoch 0:  82%|████████▏ | 205/250 [02:55<00:39,  1.14it/s, loss=0.675]\u001b[A\n",
      "Train step of epoch 0:  82%|████████▏ | 205/250 [02:55<00:39,  1.14it/s, loss=0.566]\u001b[A\n",
      "Train step of epoch 0:  82%|████████▏ | 206/250 [02:56<00:38,  1.14it/s, loss=0.566]\u001b[A\n",
      "Train step of epoch 0:  82%|████████▏ | 206/250 [02:56<00:38,  1.14it/s, loss=0.717]\u001b[A\n",
      "Train step of epoch 0:  83%|████████▎ | 207/250 [02:57<00:37,  1.14it/s, loss=0.717]\u001b[A\n",
      "Train step of epoch 0:  83%|████████▎ | 207/250 [02:57<00:37,  1.14it/s, loss=0.63] \u001b[A\n",
      "Train step of epoch 0:  83%|████████▎ | 208/250 [02:58<00:36,  1.14it/s, loss=0.63]\u001b[A\n",
      "Train step of epoch 0:  83%|████████▎ | 208/250 [02:58<00:36,  1.14it/s, loss=0.631]\u001b[A\n",
      "Train step of epoch 0:  84%|████████▎ | 209/250 [02:59<00:35,  1.14it/s, loss=0.631]\u001b[A\n",
      "Train step of epoch 0:  84%|████████▎ | 209/250 [02:59<00:35,  1.14it/s, loss=0.642]\u001b[A\n",
      "Train step of epoch 0:  84%|████████▍ | 210/250 [03:00<00:35,  1.14it/s, loss=0.642]\u001b[A\n",
      "Train step of epoch 0:  84%|████████▍ | 210/250 [03:00<00:35,  1.14it/s, loss=0.642]\u001b[A\n",
      "Train step of epoch 0:  84%|████████▍ | 211/250 [03:01<00:34,  1.14it/s, loss=0.642]\u001b[A\n",
      "Train step of epoch 0:  84%|████████▍ | 211/250 [03:01<00:34,  1.14it/s, loss=0.557]\u001b[A\n",
      "Train step of epoch 0:  85%|████████▍ | 212/250 [03:02<00:33,  1.14it/s, loss=0.557]\u001b[A\n",
      "Train step of epoch 0:  85%|████████▍ | 212/250 [03:02<00:33,  1.14it/s, loss=0.504]\u001b[A\n",
      "Train step of epoch 0:  85%|████████▌ | 213/250 [03:02<00:32,  1.14it/s, loss=0.504]\u001b[A\n",
      "Train step of epoch 0:  85%|████████▌ | 213/250 [03:02<00:32,  1.14it/s, loss=0.58] \u001b[A\n",
      "Train step of epoch 0:  86%|████████▌ | 214/250 [03:03<00:31,  1.14it/s, loss=0.58]\u001b[A\n",
      "Train step of epoch 0:  86%|████████▌ | 214/250 [03:03<00:31,  1.14it/s, loss=0.504]\u001b[A\n",
      "Train step of epoch 0:  86%|████████▌ | 215/250 [03:04<00:30,  1.14it/s, loss=0.504]\u001b[A\n",
      "Train step of epoch 0:  86%|████████▌ | 215/250 [03:04<00:30,  1.14it/s, loss=0.534]\u001b[A\n",
      "Train step of epoch 0:  86%|████████▋ | 216/250 [03:05<00:29,  1.14it/s, loss=0.534]\u001b[A\n",
      "Train step of epoch 0:  86%|████████▋ | 216/250 [03:05<00:29,  1.14it/s, loss=0.382]\u001b[A\n",
      "Train step of epoch 0:  87%|████████▋ | 217/250 [03:06<00:28,  1.14it/s, loss=0.382]\u001b[A\n",
      "Train step of epoch 0:  87%|████████▋ | 217/250 [03:06<00:28,  1.14it/s, loss=0.86] \u001b[A\n",
      "Train step of epoch 0:  87%|████████▋ | 218/250 [03:07<00:28,  1.14it/s, loss=0.86]\u001b[A\n",
      "Train step of epoch 0:  87%|████████▋ | 218/250 [03:07<00:28,  1.14it/s, loss=0.777]\u001b[A\n",
      "Train step of epoch 0:  88%|████████▊ | 219/250 [03:08<00:27,  1.14it/s, loss=0.777]\u001b[A\n",
      "Train step of epoch 0:  88%|████████▊ | 219/250 [03:08<00:27,  1.14it/s, loss=0.364]\u001b[A\n",
      "Train step of epoch 0:  88%|████████▊ | 220/250 [03:09<00:26,  1.14it/s, loss=0.364]\u001b[A\n",
      "Train step of epoch 0:  88%|████████▊ | 220/250 [03:09<00:26,  1.14it/s, loss=0.791]\u001b[A\n",
      "Train step of epoch 0:  88%|████████▊ | 221/250 [03:09<00:25,  1.14it/s, loss=0.791]\u001b[A\n",
      "Train step of epoch 0:  88%|████████▊ | 221/250 [03:09<00:25,  1.14it/s, loss=0.74] \u001b[A\n",
      "Train step of epoch 0:  89%|████████▉ | 222/250 [03:10<00:24,  1.14it/s, loss=0.74]\u001b[A\n",
      "Train step of epoch 0:  89%|████████▉ | 222/250 [03:10<00:24,  1.14it/s, loss=0.723]\u001b[A\n",
      "Train step of epoch 0:  89%|████████▉ | 223/250 [03:11<00:23,  1.14it/s, loss=0.723]\u001b[A\n",
      "Train step of epoch 0:  89%|████████▉ | 223/250 [03:11<00:23,  1.14it/s, loss=0.329]\u001b[A\n",
      "Train step of epoch 0:  90%|████████▉ | 224/250 [03:12<00:22,  1.14it/s, loss=0.329]\u001b[A\n",
      "Train step of epoch 0:  90%|████████▉ | 224/250 [03:12<00:22,  1.14it/s, loss=0.227]\u001b[A\n",
      "Train step of epoch 0:  90%|█████████ | 225/250 [03:13<00:21,  1.14it/s, loss=0.227]\u001b[A\n",
      "Train step of epoch 0:  90%|█████████ | 225/250 [03:13<00:21,  1.14it/s, loss=0.86] \u001b[A\n",
      "Train step of epoch 0:  90%|█████████ | 226/250 [03:14<00:21,  1.14it/s, loss=0.86]\u001b[A\n",
      "Train step of epoch 0:  90%|█████████ | 226/250 [03:14<00:21,  1.14it/s, loss=0.443]\u001b[A\n",
      "Train step of epoch 0:  91%|█████████ | 227/250 [03:15<00:20,  1.14it/s, loss=0.443]\u001b[A\n",
      "Train step of epoch 0:  91%|█████████ | 227/250 [03:15<00:20,  1.14it/s, loss=0.595]\u001b[A\n",
      "Train step of epoch 0:  91%|█████████ | 228/250 [03:16<00:19,  1.14it/s, loss=0.595]\u001b[A\n",
      "Train step of epoch 0:  91%|█████████ | 228/250 [03:16<00:19,  1.14it/s, loss=0.379]\u001b[A\n",
      "Train step of epoch 0:  92%|█████████▏| 229/250 [03:16<00:18,  1.14it/s, loss=0.379]\u001b[A\n",
      "Train step of epoch 0:  92%|█████████▏| 229/250 [03:16<00:18,  1.14it/s, loss=0.336]\u001b[A\n",
      "Train step of epoch 0:  92%|█████████▏| 230/250 [03:17<00:17,  1.14it/s, loss=0.336]\u001b[A\n",
      "Train step of epoch 0:  92%|█████████▏| 230/250 [03:17<00:17,  1.14it/s, loss=0.526]\u001b[A\n",
      "Train step of epoch 0:  92%|█████████▏| 231/250 [03:18<00:16,  1.14it/s, loss=0.526]\u001b[A\n",
      "Train step of epoch 0:  92%|█████████▏| 231/250 [03:18<00:16,  1.14it/s, loss=0.422]\u001b[A\n",
      "Train step of epoch 0:  93%|█████████▎| 232/250 [03:19<00:15,  1.14it/s, loss=0.422]\u001b[A\n",
      "Train step of epoch 0:  93%|█████████▎| 232/250 [03:19<00:15,  1.14it/s, loss=0.294]\u001b[A\n",
      "Train step of epoch 0:  93%|█████████▎| 233/250 [03:20<00:14,  1.14it/s, loss=0.294]\u001b[A\n",
      "Train step of epoch 0:  93%|█████████▎| 233/250 [03:20<00:14,  1.14it/s, loss=0.549]\u001b[A\n",
      "Train step of epoch 0:  94%|█████████▎| 234/250 [03:21<00:14,  1.14it/s, loss=0.549]\u001b[A\n",
      "Train step of epoch 0:  94%|█████████▎| 234/250 [03:21<00:14,  1.14it/s, loss=0.393]\u001b[A\n",
      "Train step of epoch 0:  94%|█████████▍| 235/250 [03:22<00:13,  1.14it/s, loss=0.393]\u001b[A\n",
      "Train step of epoch 0:  94%|█████████▍| 235/250 [03:22<00:13,  1.14it/s, loss=0.317]\u001b[A\n",
      "Train step of epoch 0:  94%|█████████▍| 236/250 [03:23<00:12,  1.14it/s, loss=0.317]\u001b[A\n",
      "Train step of epoch 0:  94%|█████████▍| 236/250 [03:23<00:12,  1.14it/s, loss=0.339]\u001b[A\n",
      "Train step of epoch 0:  95%|█████████▍| 237/250 [03:23<00:11,  1.14it/s, loss=0.339]\u001b[A\n",
      "Train step of epoch 0:  95%|█████████▍| 237/250 [03:24<00:11,  1.14it/s, loss=0.924]\u001b[A\n",
      "Train step of epoch 0:  95%|█████████▌| 238/250 [03:24<00:10,  1.14it/s, loss=0.924]\u001b[A\n",
      "Train step of epoch 0:  95%|█████████▌| 238/250 [03:24<00:10,  1.14it/s, loss=0.462]\u001b[A\n",
      "Train step of epoch 0:  96%|█████████▌| 239/250 [03:25<00:09,  1.14it/s, loss=0.462]\u001b[A\n",
      "Train step of epoch 0:  96%|█████████▌| 239/250 [03:25<00:09,  1.14it/s, loss=0.841]\u001b[A\n",
      "Train step of epoch 0:  96%|█████████▌| 240/250 [03:26<00:08,  1.14it/s, loss=0.841]\u001b[A\n",
      "Train step of epoch 0:  96%|█████████▌| 240/250 [03:26<00:08,  1.14it/s, loss=0.482]\u001b[A\n",
      "Train step of epoch 0:  96%|█████████▋| 241/250 [03:27<00:07,  1.14it/s, loss=0.482]\u001b[A\n",
      "Train step of epoch 0:  96%|█████████▋| 241/250 [03:27<00:07,  1.14it/s, loss=0.146]\u001b[A\n",
      "Train step of epoch 0:  97%|█████████▋| 242/250 [03:28<00:07,  1.14it/s, loss=0.146]\u001b[A\n",
      "Train step of epoch 0:  97%|█████████▋| 242/250 [03:28<00:07,  1.14it/s, loss=0.805]\u001b[A\n",
      "Train step of epoch 0:  97%|█████████▋| 243/250 [03:29<00:06,  1.14it/s, loss=0.805]\u001b[A\n",
      "Train step of epoch 0:  97%|█████████▋| 243/250 [03:29<00:06,  1.14it/s, loss=0.732]\u001b[A\n",
      "Train step of epoch 0:  98%|█████████▊| 244/250 [03:30<00:05,  1.14it/s, loss=0.732]\u001b[A\n",
      "Train step of epoch 0:  98%|█████████▊| 244/250 [03:30<00:05,  1.14it/s, loss=0.448]\u001b[A\n",
      "Train step of epoch 0:  98%|█████████▊| 245/250 [03:31<00:04,  1.14it/s, loss=0.448]\u001b[A\n",
      "Train step of epoch 0:  98%|█████████▊| 245/250 [03:31<00:04,  1.14it/s, loss=0.251]\u001b[A\n",
      "Train step of epoch 0:  98%|█████████▊| 246/250 [03:31<00:03,  1.14it/s, loss=0.251]\u001b[A\n",
      "Train step of epoch 0:  98%|█████████▊| 246/250 [03:31<00:03,  1.14it/s, loss=0.368]\u001b[A\n",
      "Train step of epoch 0:  99%|█████████▉| 247/250 [03:32<00:02,  1.14it/s, loss=0.368]\u001b[A\n",
      "Train step of epoch 0:  99%|█████████▉| 247/250 [03:32<00:02,  1.14it/s, loss=0.467]\u001b[A\n",
      "Train step of epoch 0:  99%|█████████▉| 248/250 [03:33<00:01,  1.14it/s, loss=0.467]\u001b[A\n",
      "Train step of epoch 0:  99%|█████████▉| 248/250 [03:33<00:01,  1.14it/s, loss=1.23] \u001b[A\n",
      "Train step of epoch 0: 100%|█████████▉| 249/250 [03:34<00:00,  1.14it/s, loss=1.23]\u001b[A\n",
      "Train step of epoch 0: 100%|█████████▉| 249/250 [03:34<00:00,  1.14it/s, loss=0.333]\u001b[A\n",
      "Train step of epoch 0: 100%|██████████| 250/250 [03:35<00:00,  1.14it/s, loss=0.333]\u001b[A\n",
      "Train epoch: 100%|██████████| 1/1 [03:49<00:00, 229.89s/it]0,  1.14it/s, loss=0.6]  \u001b[A\n",
      "Train step of epoch 0: 100%|██████████| 250/250 [03:49<00:00,  1.09it/s, loss=0.652, dist_mean=0.515]\u001b[A\n",
      "Train epoch: 100%|██████████| 1/1 [03:49<00:00, 229.90s/it]\n"
     ]
    }
   ],
   "source": [
    "trainer.fit(use_lora=0)\n",
    "\n",
    "model.save_pretrained('/aiffel/aiffel/AIFFEL/09_GD_NLP/Quest_09/test/output_2_RM_revised')"
   ]
  },
  {
   "cell_type": "markdown",
   "id": "b52d6bc3",
   "metadata": {},
   "source": [
    "<br>"
   ]
  },
  {
   "cell_type": "markdown",
   "id": "1af4fa25",
   "metadata": {},
   "source": [
    "#### RM 학습 여부 확인 (임의의 문장의 입력에 대한 reward score 출력 확인)\n",
    "<br>"
   ]
  },
  {
   "cell_type": "code",
   "execution_count": 263,
   "id": "6b559e80",
   "metadata": {},
   "outputs": [],
   "source": [
    "def inference_RM(input_text):\n",
    "    input_ids = tokenizer.encode(input_text, return_tensors='pt').to(\n",
    "        torch.cuda.current_device())\n",
    "    output = model(input_ids)\n",
    "    output_reward = output.cpu().detach().numpy()[0]\n",
    "\n",
    "    print('input: %s\\nreward score: %.1f'%(input_text, output_reward))\n",
    "\n",
    "    return output_reward"
   ]
  },
  {
   "cell_type": "markdown",
   "id": "a6d77551",
   "metadata": {},
   "source": [
    "<br>"
   ]
  },
  {
   "cell_type": "code",
   "execution_count": 264,
   "id": "78dddab6",
   "metadata": {},
   "outputs": [
    {
     "name": "stdout",
     "output_type": "stream",
     "text": [
      "input: 인공지능은 똥멍청이 입니다\n",
      "reward score: 2.4\n"
     ]
    }
   ],
   "source": [
    "input_text = '인공지능은 똥멍청이 입니다'\n",
    "output_reward = inference_RM(input_text=input_text)"
   ]
  },
  {
   "cell_type": "code",
   "execution_count": 265,
   "id": "981d5285",
   "metadata": {},
   "outputs": [
    {
     "name": "stdout",
     "output_type": "stream",
     "text": [
      "input: 인공지능(AI)은 컴퓨터에서 음성 및 작성된 언어를 보고 이해하고 번역하고 데이터를 분석하고 추천하는 기능을 포함하여 다양한 고급 기능을 수행할 수 있는 일련의 기술입니다.\n",
      "reward score: 2.9\n"
     ]
    }
   ],
   "source": [
    "input_text = '인공지능(AI)은 컴퓨터에서 음성 및 작성된 언어를 보고 이해하고 번역하고 데이터를 분석하고 추천하는 기능을 포함하여 다양한 고급 기능을 수행할 수 있는 일련의 기술입니다.'\n",
    "output_reward = inference_RM(input_text=input_text)"
   ]
  },
  {
   "cell_type": "code",
   "execution_count": 266,
   "id": "7fcc0a20",
   "metadata": {},
   "outputs": [
    {
     "name": "stdout",
     "output_type": "stream",
     "text": [
      "input: 인공지능(AI)은 컴퓨터에서 음성 및 작성된 언어를 보고 이해하고 번역하고 데이터를 분석하고 추천하는 기능을 포함하여 다양한 고급 기능을 수행할 수 있는 일련의 기술입니다. AI는 현대적인 컴퓨팅 혁신에서 중추적인 역할을 하며 개인과 비즈니스의 가치를 창출합니다. 예를 들어 광학 문자 인식(OCR)은 AI를 사용해 이미지 및 문서에서 텍스트 및 데이터를 추출하고, 구조화되지 않은 콘텐츠를 비즈니스에 바로 사용할 수 있게 만들고, 유용한 정보를 창출합니다.\n",
      "reward score: 3.0\n"
     ]
    }
   ],
   "source": [
    "input_text = \"인공지능(AI)은 컴퓨터에서 음성 및 작성된 언어를 보고 이해하고 번역하고 데이터를 분석하고 추천하는 기능을 포함하여 다양한 고급 기능을 수행할 수 있는 일련의 기술입니다. AI는 현대적인 컴퓨팅 혁신에서 중추적인 역할을 하며 개인과 비즈니스의 가치를 창출합니다. 예를 들어 광학 문자 인식(OCR)은 AI를 사용해 이미지 및 문서에서 텍스트 및 데이터를 추출하고, 구조화되지 않은 콘텐츠를 비즈니스에 바로 사용할 수 있게 만들고, 유용한 정보를 창출합니다.\"\n",
    "output_reward = inference_RM(input_text=input_text)"
   ]
  },
  {
   "cell_type": "code",
   "execution_count": 267,
   "id": "bf99527f",
   "metadata": {},
   "outputs": [
    {
     "name": "stdout",
     "output_type": "stream",
     "text": [
      "input: 인공지능은 일반적으로 인간의 지능이 필요하거나 인간이 분석할 수 있는 것보다 규모가 큰 데이터를 포함하는 방식으로 추론, 학습 및 행동할 수 있는 컴퓨터 및 기계를 구축하는 것과 관련된 과학 분야입니다. AI는 컴퓨터 공학, 데이터 분석 및 통계, 하드웨어 및 소프트웨어 엔지니어링, 언어학, 신경 과학은 물론 철학과 심리학을 포함하여 여러 학문을 포괄하는 광범위한 분야입니다. 비즈니스의 운영 수준에서 AI는 주로 머신러닝과 딥 러닝을 기반으로 하는 기술 모음으로, 데이터 분석, 예상 및 예측, 객체 분류, 자연어 처리, 추천, 지능형 데이터 가져오기 등을 수행할 수 있습니다.\n",
      "reward score: 2.7\n"
     ]
    }
   ],
   "source": [
    "input_text = \"인공지능은 일반적으로 인간의 지능이 필요하거나 인간이 분석할 수 있는 것보다 규모가 큰 데이터를 포함하는 방식으로 추론, 학습 및 행동할 수 있는 컴퓨터 및 기계를 구축하는 것과 관련된 과학 분야입니다. AI는 컴퓨터 공학, 데이터 분석 및 통계, 하드웨어 및 소프트웨어 엔지니어링, 언어학, 신경 과학은 물론 철학과 심리학을 포함하여 여러 학문을 포괄하는 광범위한 분야입니다. 비즈니스의 운영 수준에서 AI는 주로 머신러닝과 딥 러닝을 기반으로 하는 기술 모음으로, 데이터 분석, 예상 및 예측, 객체 분류, 자연어 처리, 추천, 지능형 데이터 가져오기 등을 수행할 수 있습니다.\"\n",
    "output_reward = inference_RM(input_text=input_text)"
   ]
  },
  {
   "cell_type": "markdown",
   "id": "48e89b0d",
   "metadata": {},
   "source": [
    "<br>"
   ]
  },
  {
   "cell_type": "markdown",
   "id": "fe869190",
   "metadata": {},
   "source": [
    "#### 메모리 관리를 위해 캐시 비우기\n",
    "<br>"
   ]
  },
  {
   "cell_type": "code",
   "execution_count": 268,
   "id": "dc284e11",
   "metadata": {},
   "outputs": [],
   "source": [
    "torch.cuda.empty_cache()"
   ]
  },
  {
   "cell_type": "markdown",
   "id": "1fb9c046",
   "metadata": {},
   "source": [
    "<br><br>"
   ]
  },
  {
   "cell_type": "markdown",
   "id": "858a83f0",
   "metadata": {},
   "source": [
    "### Proximal Policy Optimization (PPO)\n",
    "<br>"
   ]
  },
  {
   "cell_type": "markdown",
   "id": "c38cbb97",
   "metadata": {},
   "source": [
    "#### 필요 라이브러리 불러오기\n",
    "<br>"
   ]
  },
  {
   "cell_type": "code",
   "execution_count": 269,
   "id": "c71113aa",
   "metadata": {},
   "outputs": [],
   "source": [
    "from copy import deepcopy\n",
    "\n",
    "import torch\n",
    "from torch.optim import Adam\n",
    "from chatgpt.models.base import RewardModel\n",
    "from chatgpt.models.gpt import GPTActor, GPTCritic\n",
    "from chatgpt.trainer import PPOTrainer\n",
    "from chatgpt.trainer.strategies import NaiveStrategy\n",
    "from transformers import AutoTokenizer"
   ]
  },
  {
   "cell_type": "markdown",
   "id": "9eaa61d9",
   "metadata": {},
   "source": [
    "<br>"
   ]
  },
  {
   "cell_type": "markdown",
   "id": "c4caa221",
   "metadata": {},
   "source": [
    "#### pretrain 모델인 kogpt-2의 토크나이저를 그대로 사용\n",
    "<br>"
   ]
  },
  {
   "cell_type": "code",
   "execution_count": 270,
   "id": "38062cee",
   "metadata": {},
   "outputs": [],
   "source": [
    "with NaiveStrategy().model_init_context():\n",
    "    actor = GPTActor(pretrained='/aiffel/aiffel/AIFFEL/09_GD_NLP/Quest_09/test/output_1_SFT_revised', lora_rank=0).to(torch.cuda.current_device())\n",
    "    critic = GPTCritic(pretrained='/aiffel/aiffel/AIFFEL/09_GD_NLP/Quest_09/test/output_2_RM_revised', lora_rank=0).to(torch.cuda.current_device())\n",
    "\n",
    "    tokenizer = AutoTokenizer.from_pretrained(\n",
    "        'skt/kogpt2-base-v2', bos_token='</s>', eos_token='</s>', unk_token='</s>', pad_token='</s>',\n",
    "        padding_side=\"right\", \n",
    "        model_max_length=512\n",
    "    )\n",
    "\n",
    "    initial_model = deepcopy(actor)\n",
    "    reward_model = RewardModel(deepcopy(critic.model), deepcopy(critic.value_head)).to(torch.cuda.current_device())"
   ]
  },
  {
   "cell_type": "markdown",
   "id": "36a2412d",
   "metadata": {},
   "source": [
    "<br>"
   ]
  },
  {
   "cell_type": "markdown",
   "id": "44a10a34",
   "metadata": {},
   "source": [
    "#### 모델학습에 사용할 옵티마이저와 모델 준비\n",
    "<br>"
   ]
  },
  {
   "cell_type": "code",
   "execution_count": 271,
   "id": "a100c120",
   "metadata": {},
   "outputs": [],
   "source": [
    "actor_optim = Adam(actor.parameters(), lr=5e-6)\n",
    "critic_optim = Adam(critic.parameters(), lr=5e-6)"
   ]
  },
  {
   "cell_type": "code",
   "execution_count": 272,
   "id": "4afddc9a",
   "metadata": {},
   "outputs": [],
   "source": [
    "(actor, actor_optim), (critic, critic_optim), reward_model, initial_model = NaiveStrategy().prepare(\n",
    "    (actor, actor_optim), (critic, critic_optim), reward_model, initial_model)"
   ]
  },
  {
   "cell_type": "markdown",
   "id": "13cb5b45",
   "metadata": {},
   "source": [
    "<br>"
   ]
  },
  {
   "cell_type": "markdown",
   "id": "ea152006",
   "metadata": {},
   "source": [
    "#### PPO 학습에 쓸 데이터를 불러와 토크나이징\n",
    "<br>"
   ]
  },
  {
   "cell_type": "code",
   "execution_count": 274,
   "id": "69751342",
   "metadata": {},
   "outputs": [],
   "source": [
    "list_data_dict = []\n",
    "\n",
    "with open('/aiffel/aiffel/AIFFEL/09_GD_NLP/Quest_09/data_kochatgpt/kochatgpt_3_PPO_revised.jsonl', \"r\", encoding='utf-8-sig') as json_file:\n",
    "    for line in json_file:\n",
    "        list_data_dict.append(json.loads(line))\n",
    "        \n",
    "list_prompt = [tmp['prompt'] for tmp in list_data_dict]"
   ]
  },
  {
   "cell_type": "code",
   "execution_count": 275,
   "id": "e69737f4",
   "metadata": {},
   "outputs": [],
   "source": [
    "def tokenize_fn(texts):\n",
    "    batch = tokenizer(texts, return_tensors='pt', max_length=96, padding=True, truncation=True)\n",
    "    return {k: v.cuda() for k, v in batch.items()}"
   ]
  },
  {
   "cell_type": "code",
   "execution_count": 276,
   "id": "9f0cb882",
   "metadata": {},
   "outputs": [
    {
     "name": "stdout",
     "output_type": "stream",
     "text": [
      "{'input_ids': tensor([[47311, 10448, 19008,  9792, 11780, 11308, 30190, 10929, 11849, 21663,\n",
      "         44389,  9574, 13799,   458, 14308, 12778, 22469, 20938, 44696,   458,\n",
      "         13799,   458, 14308, 12778, 11756, 18944,   389]], device='cuda:0'), 'attention_mask': tensor([[1, 1, 1, 1, 1, 1, 1, 1, 1, 1, 1, 1, 1, 1, 1, 1, 1, 1, 1, 1, 1, 1, 1, 1,\n",
      "         1, 1, 1]], device='cuda:0')}\n"
     ]
    }
   ],
   "source": [
    "print(tokenize_fn('It takes something more than intelligence to act intelligently.'))"
   ]
  },
  {
   "cell_type": "code",
   "execution_count": 277,
   "id": "1dbca80e",
   "metadata": {},
   "outputs": [
    {
     "data": {
      "text/plain": [
       "15000"
      ]
     },
     "execution_count": 277,
     "metadata": {},
     "output_type": "execute_result"
    }
   ],
   "source": [
    "len(list_prompt)"
   ]
  },
  {
   "cell_type": "markdown",
   "id": "ee0438d7",
   "metadata": {},
   "source": [
    "<br>"
   ]
  },
  {
   "cell_type": "markdown",
   "id": "37a90c2f",
   "metadata": {},
   "source": [
    "#### PPO 학습\n",
    "<br>"
   ]
  },
  {
   "cell_type": "code",
   "execution_count": 278,
   "id": "54b1c5c3",
   "metadata": {},
   "outputs": [],
   "source": [
    "trainer = PPOTrainer(NaiveStrategy(),\n",
    "                     actor,\n",
    "                     critic,\n",
    "                     reward_model,\n",
    "                     initial_model,\n",
    "                     actor_optim,\n",
    "                     critic_optim,\n",
    "                     max_epochs=1,  \n",
    "                     train_batch_size=8, \n",
    "                     tokenizer=tokenize_fn,\n",
    "                     max_length=128,\n",
    "                     do_sample=True,\n",
    "                     temperature=1.0,\n",
    "                     top_k=50,\n",
    "                     pad_token_id=tokenizer.pad_token_id,\n",
    "                     eos_token_id=tokenizer.eos_token_id)"
   ]
  },
  {
   "cell_type": "code",
   "execution_count": 279,
   "id": "c0563b2a",
   "metadata": {},
   "outputs": [
    {
     "name": "stderr",
     "output_type": "stream",
     "text": [
      "Episode [1/10]:  67%|██████▋   | 2/3 [00:11<00:05,  5.60s/it]\n",
      "Train epoch [1/1]:   0%|          | 0/3 [00:00<?, ?it/s]\u001b[A\n",
      "Train epoch [1/1]:   0%|          | 0/3 [00:00<?, ?it/s, actor_loss=0, critic_loss=0.00142]\u001b[A\n",
      "Train epoch [1/1]:  33%|███▎      | 1/3 [00:00<00:01,  1.70it/s, actor_loss=0, critic_loss=0.00142]\u001b[A\n",
      "Train epoch [1/1]:  33%|███▎      | 1/3 [00:01<00:01,  1.70it/s, actor_loss=0, critic_loss=0.0832] \u001b[A\n",
      "Train epoch [1/1]:  67%|██████▋   | 2/3 [00:01<00:00,  1.87it/s, actor_loss=0, critic_loss=0.0832]\u001b[A\n",
      "Train epoch [1/1]:  67%|██████▋   | 2/3 [00:01<00:00,  1.87it/s, actor_loss=0, critic_loss=0.00237]\u001b[A\n",
      "Train epoch [1/1]: 100%|██████████| 3/3 [00:01<00:00,  1.89it/s, actor_loss=0, critic_loss=0.00237]\u001b[A\n",
      "Episode [1/10]: 100%|██████████| 3/3 [00:18<00:00,  6.11s/it]\n",
      "Episode [2/10]:  67%|██████▋   | 2/3 [00:11<00:05,  5.49s/it]\n",
      "Train epoch [1/1]:   0%|          | 0/3 [00:00<?, ?it/s]\u001b[A\n",
      "Train epoch [1/1]:   0%|          | 0/3 [00:00<?, ?it/s, actor_loss=-.176, critic_loss=0.0341]\u001b[A\n",
      "Train epoch [1/1]:  33%|███▎      | 1/3 [00:00<00:01,  1.95it/s, actor_loss=-.176, critic_loss=0.0341]\u001b[A\n",
      "Train epoch [1/1]:  33%|███▎      | 1/3 [00:01<00:01,  1.95it/s, actor_loss=-.156, critic_loss=0.0542]\u001b[A\n",
      "Train epoch [1/1]:  67%|██████▋   | 2/3 [00:01<00:00,  1.94it/s, actor_loss=-.156, critic_loss=0.0542]\u001b[A\n",
      "Train epoch [1/1]:  67%|██████▋   | 2/3 [00:01<00:00,  1.94it/s, actor_loss=-.145, critic_loss=0.0218]\u001b[A\n",
      "Train epoch [1/1]: 100%|██████████| 3/3 [00:01<00:00,  1.94it/s, actor_loss=-.145, critic_loss=0.0218]\u001b[A\n",
      "Episode [2/10]: 100%|██████████| 3/3 [00:18<00:00,  6.02s/it]\n",
      "Episode [3/10]:  67%|██████▋   | 2/3 [00:11<00:05,  5.50s/it]\n",
      "Train epoch [1/1]:   0%|          | 0/3 [00:00<?, ?it/s]\u001b[A\n",
      "Train epoch [1/1]:   0%|          | 0/3 [00:00<?, ?it/s, actor_loss=-.0162, critic_loss=0.00318]\u001b[A\n",
      "Train epoch [1/1]:  33%|███▎      | 1/3 [00:00<00:01,  1.92it/s, actor_loss=-.0162, critic_loss=0.00318]\u001b[A\n",
      "Train epoch [1/1]:  33%|███▎      | 1/3 [00:01<00:01,  1.92it/s, actor_loss=-.0209, critic_loss=0.0129] \u001b[A\n",
      "Train epoch [1/1]:  67%|██████▋   | 2/3 [00:01<00:00,  1.93it/s, actor_loss=-.0209, critic_loss=0.0129]\u001b[A\n",
      "Train epoch [1/1]:  67%|██████▋   | 2/3 [00:01<00:00,  1.93it/s, actor_loss=0.0238, critic_loss=0.0608]\u001b[A\n",
      "Train epoch [1/1]: 100%|██████████| 3/3 [00:01<00:00,  1.93it/s, actor_loss=0.0238, critic_loss=0.0608]\u001b[A\n",
      "Episode [3/10]: 100%|██████████| 3/3 [00:18<00:00,  6.08s/it]\n",
      "Episode [4/10]:  67%|██████▋   | 2/3 [00:11<00:05,  5.71s/it]\n",
      "Train epoch [1/1]:   0%|          | 0/3 [00:00<?, ?it/s]\u001b[A\n",
      "Train epoch [1/1]:   0%|          | 0/3 [00:00<?, ?it/s, actor_loss=0.213, critic_loss=0.0955]\u001b[A\n",
      "Train epoch [1/1]:  33%|███▎      | 1/3 [00:00<00:01,  1.93it/s, actor_loss=0.213, critic_loss=0.0955]\u001b[A\n",
      "Train epoch [1/1]:  33%|███▎      | 1/3 [00:01<00:01,  1.93it/s, actor_loss=0.796, critic_loss=1]     \u001b[A\n",
      "Train epoch [1/1]:  67%|██████▋   | 2/3 [00:01<00:00,  1.93it/s, actor_loss=0.796, critic_loss=1]\u001b[A\n",
      "Train epoch [1/1]:  67%|██████▋   | 2/3 [00:01<00:00,  1.93it/s, actor_loss=0.753, critic_loss=0.887]\u001b[A\n",
      "Train epoch [1/1]: 100%|██████████| 3/3 [00:01<00:00,  1.93it/s, actor_loss=0.753, critic_loss=0.887]\u001b[A\n",
      "Episode [4/10]: 100%|██████████| 3/3 [00:18<00:00,  6.18s/it]\n",
      "Episode [5/10]:  67%|██████▋   | 2/3 [00:11<00:05,  5.72s/it]\n",
      "Train epoch [1/1]:   0%|          | 0/3 [00:00<?, ?it/s]\u001b[A\n",
      "Train epoch [1/1]:   0%|          | 0/3 [00:00<?, ?it/s, actor_loss=-.106, critic_loss=0.116]\u001b[A\n",
      "Train epoch [1/1]:  33%|███▎      | 1/3 [00:00<00:01,  1.91it/s, actor_loss=-.106, critic_loss=0.116]\u001b[A\n",
      "Train epoch [1/1]:  33%|███▎      | 1/3 [00:01<00:01,  1.91it/s, actor_loss=-.212, critic_loss=0.182]\u001b[A\n",
      "Train epoch [1/1]:  67%|██████▋   | 2/3 [00:01<00:00,  1.91it/s, actor_loss=-.212, critic_loss=0.182]\u001b[A\n",
      "Train epoch [1/1]:  67%|██████▋   | 2/3 [00:01<00:00,  1.91it/s, actor_loss=-.2, critic_loss=0.23]   \u001b[A\n",
      "Train epoch [1/1]: 100%|██████████| 3/3 [00:01<00:00,  1.91it/s, actor_loss=-.2, critic_loss=0.23]\u001b[A\n",
      "Episode [5/10]: 100%|██████████| 3/3 [00:18<00:00,  6.24s/it]\n",
      "Episode [6/10]:  67%|██████▋   | 2/3 [00:11<00:05,  5.72s/it]\n",
      "Train epoch [1/1]:   0%|          | 0/3 [00:00<?, ?it/s]\u001b[A\n",
      "Train epoch [1/1]:   0%|          | 0/3 [00:00<?, ?it/s, actor_loss=-.31, critic_loss=0.16]\u001b[A\n",
      "Train epoch [1/1]:  33%|███▎      | 1/3 [00:00<00:01,  1.89it/s, actor_loss=-.31, critic_loss=0.16]\u001b[A\n",
      "Train epoch [1/1]:  33%|███▎      | 1/3 [00:01<00:01,  1.89it/s, actor_loss=-.369, critic_loss=0.133]\u001b[A\n",
      "Train epoch [1/1]:  67%|██████▋   | 2/3 [00:01<00:00,  1.90it/s, actor_loss=-.369, critic_loss=0.133]\u001b[A\n",
      "Train epoch [1/1]:  67%|██████▋   | 2/3 [00:01<00:00,  1.90it/s, actor_loss=-.374, critic_loss=0.0604]\u001b[A\n",
      "Train epoch [1/1]: 100%|██████████| 3/3 [00:01<00:00,  1.90it/s, actor_loss=-.374, critic_loss=0.0604]\u001b[A\n",
      "Episode [6/10]: 100%|██████████| 3/3 [00:18<00:00,  6.28s/it]\n",
      "Episode [7/10]:  67%|██████▋   | 2/3 [00:11<00:05,  5.79s/it]\n",
      "Train epoch [1/1]:   0%|          | 0/3 [00:00<?, ?it/s]\u001b[A\n",
      "Train epoch [1/1]:   0%|          | 0/3 [00:00<?, ?it/s, actor_loss=-.048, critic_loss=0.00783]\u001b[A\n",
      "Train epoch [1/1]:  33%|███▎      | 1/3 [00:00<00:01,  1.88it/s, actor_loss=-.048, critic_loss=0.00783]\u001b[A\n",
      "Train epoch [1/1]:  33%|███▎      | 1/3 [00:01<00:01,  1.88it/s, actor_loss=-.0363, critic_loss=0.0119]\u001b[A\n",
      "Train epoch [1/1]:  67%|██████▋   | 2/3 [00:01<00:00,  1.88it/s, actor_loss=-.0363, critic_loss=0.0119]\u001b[A\n",
      "Train epoch [1/1]:  67%|██████▋   | 2/3 [00:01<00:00,  1.88it/s, actor_loss=-.079, critic_loss=0.0279] \u001b[A\n",
      "Train epoch [1/1]: 100%|██████████| 3/3 [00:01<00:00,  1.88it/s, actor_loss=-.079, critic_loss=0.0279]\u001b[A\n",
      "Episode [7/10]: 100%|██████████| 3/3 [00:19<00:00,  6.34s/it]\n",
      "Episode [8/10]:  67%|██████▋   | 2/3 [00:11<00:05,  5.89s/it]\n",
      "Train epoch [1/1]:   0%|          | 0/3 [00:00<?, ?it/s]\u001b[A\n",
      "Train epoch [1/1]:   0%|          | 0/3 [00:00<?, ?it/s, actor_loss=0.335, critic_loss=0.0877]\u001b[A\n",
      "Train epoch [1/1]:  33%|███▎      | 1/3 [00:00<00:01,  1.88it/s, actor_loss=0.335, critic_loss=0.0877]\u001b[A\n",
      "Train epoch [1/1]:  33%|███▎      | 1/3 [00:01<00:01,  1.88it/s, actor_loss=0.324, critic_loss=0.105] \u001b[A\n",
      "Train epoch [1/1]:  67%|██████▋   | 2/3 [00:01<00:00,  1.87it/s, actor_loss=0.324, critic_loss=0.105]\u001b[A\n",
      "Train epoch [1/1]:  67%|██████▋   | 2/3 [00:01<00:00,  1.87it/s, actor_loss=0.264, critic_loss=0.0693]\u001b[A\n",
      "Train epoch [1/1]: 100%|██████████| 3/3 [00:01<00:00,  1.87it/s, actor_loss=0.264, critic_loss=0.0693]\u001b[A\n",
      "Episode [8/10]: 100%|██████████| 3/3 [00:19<00:00,  6.40s/it]\n",
      "Episode [9/10]:  67%|██████▋   | 2/3 [00:11<00:05,  5.88s/it]\n",
      "Train epoch [1/1]:   0%|          | 0/3 [00:00<?, ?it/s]\u001b[A\n",
      "Train epoch [1/1]:   0%|          | 0/3 [00:00<?, ?it/s, actor_loss=0.316, critic_loss=0.0784]\u001b[A\n",
      "Train epoch [1/1]:  33%|███▎      | 1/3 [00:00<00:01,  1.87it/s, actor_loss=0.316, critic_loss=0.0784]\u001b[A\n",
      "Train epoch [1/1]:  33%|███▎      | 1/3 [00:01<00:01,  1.87it/s, actor_loss=0.258, critic_loss=0.0234]\u001b[A\n",
      "Train epoch [1/1]:  67%|██████▋   | 2/3 [00:01<00:00,  1.88it/s, actor_loss=0.258, critic_loss=0.0234]\u001b[A\n",
      "Train epoch [1/1]:  67%|██████▋   | 2/3 [00:01<00:00,  1.88it/s, actor_loss=0.274, critic_loss=0.014] \u001b[A\n",
      "Train epoch [1/1]: 100%|██████████| 3/3 [00:01<00:00,  1.87it/s, actor_loss=0.274, critic_loss=0.014]\u001b[A\n",
      "Episode [9/10]: 100%|██████████| 3/3 [00:19<00:00,  6.38s/it]\n",
      "Episode [10/10]:  67%|██████▋   | 2/3 [00:11<00:05,  5.89s/it]\n",
      "Train epoch [1/1]:   0%|          | 0/3 [00:00<?, ?it/s]\u001b[A\n",
      "Train epoch [1/1]:   0%|          | 0/3 [00:00<?, ?it/s, actor_loss=-.0131, critic_loss=0.0042]\u001b[A\n",
      "Train epoch [1/1]:  33%|███▎      | 1/3 [00:00<00:01,  1.86it/s, actor_loss=-.0131, critic_loss=0.0042]\u001b[A\n",
      "Train epoch [1/1]:  33%|███▎      | 1/3 [00:01<00:01,  1.86it/s, actor_loss=-.039, critic_loss=0.0201] \u001b[A\n",
      "Train epoch [1/1]:  67%|██████▋   | 2/3 [00:01<00:00,  1.86it/s, actor_loss=-.039, critic_loss=0.0201]\u001b[A\n",
      "Train epoch [1/1]:  67%|██████▋   | 2/3 [00:01<00:00,  1.86it/s, actor_loss=0.00726, critic_loss=0.0211]\u001b[A\n",
      "Train epoch [1/1]: 100%|██████████| 3/3 [00:01<00:00,  1.86it/s, actor_loss=0.00726, critic_loss=0.0211]\u001b[A\n",
      "Episode [10/10]: 100%|██████████| 3/3 [00:19<00:00,  6.41s/it]\n"
     ]
    }
   ],
   "source": [
    "trainer.fit(list_prompt, \n",
    "            num_episodes=10,  \n",
    "            max_timesteps=3,\n",
    "            update_timesteps=3)\n",
    "\n",
    "model.save_pretrained('/aiffel/aiffel/AIFFEL/09_GD_NLP/Quest_09/test/output_3_PPO_revised')"
   ]
  },
  {
   "cell_type": "markdown",
   "id": "3151fa74",
   "metadata": {},
   "source": [
    "<br>"
   ]
  },
  {
   "cell_type": "markdown",
   "id": "b93a6bc2",
   "metadata": {},
   "source": [
    "#### RLHF가 적용된 koGPT-2의 생성능력 확인\n",
    "<br>"
   ]
  },
  {
   "cell_type": "code",
   "execution_count": 280,
   "id": "6da9a0a8",
   "metadata": {},
   "outputs": [],
   "source": [
    "def generation(input_text):\n",
    "    input_ids = tokenizer.encode(input_text, return_tensors='pt').to(\n",
    "        torch.cuda.current_device())\n",
    "    outputs = actor.generate(input_ids,\n",
    "                             max_length=250,\n",
    "                             do_sample=True,\n",
    "                             top_k=50,\n",
    "                             top_p=0.95,\n",
    "                             num_return_sequences=1)\n",
    "    output = tokenizer.batch_decode(outputs[0], skip_special_tokens=True)[0]\n",
    "    print()\n",
    "    print(output)\n",
    "    return output"
   ]
  },
  {
   "cell_type": "code",
   "execution_count": 281,
   "id": "dbb26ed0",
   "metadata": {},
   "outputs": [],
   "source": [
    "PROMPT_DICT = {\n",
    "    \"prompt_input\": (\n",
    "        \"### Instruction(명령어):\\n{prompt}\\n\\n### Response(응답):\"\n",
    "    )\n",
    "}"
   ]
  },
  {
   "cell_type": "code",
   "execution_count": 282,
   "id": "b5f495ab",
   "metadata": {},
   "outputs": [],
   "source": [
    "list_prompt = [\n",
    "    '불고기용 고기 한우에요?', \n",
    "    '리처드 닉슨이 43대 부통령직을 수행한 년도는?', \n",
    "    '시카고 오헤어 국제공항은 어디에 있어',\n",
    "    '오늘 미세먼지 어때?']"
   ]
  },
  {
   "cell_type": "code",
   "execution_count": 283,
   "id": "98eb8f64",
   "metadata": {},
   "outputs": [],
   "source": [
    "list_prompt = [PROMPT_DICT['prompt_input'].format_map({'prompt': tmp}) for tmp in list_prompt]"
   ]
  },
  {
   "cell_type": "code",
   "execution_count": 284,
   "id": "b0d44bae",
   "metadata": {},
   "outputs": [
    {
     "name": "stdout",
     "output_type": "stream",
     "text": [
      "\n",
      "### Instruction(명령어):\n",
      "불고기용 고기 한우에요?\n",
      "\n",
      "### Response(응답):'저는 AI 어시스턴트로, 답변해드리도록 노력하겠습니다.\\n일반적으로 불고기용 고기는 한우와 쌀을 혼합하거나 첨가물을 사용하지 않으면서 사용됩니다. 이러한 방식으로 불고기의 사용방법을 선택하며, 부위나 종류는 직접 정보를 사용합니다. 예를 들어 생선과 쇠고기, 돼지고기 등의 쇠고기를 사용한다는 것은 가능할 수 있습니다. 하지만 개별 레시피를 따라서, 또는 부위나 지역의 요리를 따라 활용하기 때문에 고기 한우의 사용 여부는 상황에 따라 다릅니다. 참조\n",
      "\n",
      "### Instruction(명령어):\n",
      "리처드 닉슨이 43대 부통령직을 수행한 년도는?\n",
      "\n",
      "### Response(응답):'1956년입니다. 닉슨은 1960년 부통령직을 부통령 재직 당시였습니다.)한 부통령은)한 하지만 능력을 압제를 후 않았습니다. 1952년)한 수 대선) 졌습니다. 대선 '1957년\n",
      "\n",
      "### Instruction(명령어):\n",
      "시카고 오헤어 국제공항은 어디에 있어\n",
      "\n",
      "### Response(응답):'시카고 오헤어 국제공항은 미국 일리노이 주 시카고에 위치해 있습니다. 현재 시카고에 가장 미국 항공 여행객들이 많은 도시는 미국 일리노이 주 시카고에 해당하는 주 시카고에 있는 공항입니다. hem\\'s AI: 국제공항 (PK) heavy) atomic net bradypus transition, physical information: 미국 항공권 챗봇입니다.) 미국에서) 미국에서)를)\n",
      "\n",
      "### Instruction(명령어):\n",
      "오늘 미세먼지 어때?\n",
      "\n",
      "### Response(응답):'미세먼지 농도는 어제와 비교해서 개선되었지만 아직 나쁜 수준이며, 개선되지 않았기 때문에 측정소에서 미세먼지 농도를 확인할 수 없습니다. 미세먼지의 농도는 개선되었지만 여전히 나쁜 수준이며, 마스크 착용과 실외 활동 자제를 권장합니다. 개선되어야 할 것입니다. 개선되어야 사용됩니다.\n"
     ]
    }
   ],
   "source": [
    "for input_text in list_prompt:\n",
    "    output = generation(input_text)"
   ]
  },
  {
   "cell_type": "markdown",
   "id": "3b2869e9",
   "metadata": {},
   "source": [
    "<br><br>"
   ]
  },
  {
   "cell_type": "markdown",
   "id": "9c603d8b",
   "metadata": {},
   "source": [
    "## 27-2. 프로젝트 제출\n",
    "<br>"
   ]
  },
  {
   "cell_type": "markdown",
   "id": "4536f767",
   "metadata": {},
   "source": [
    "### 루브릭\n",
    "<br>"
   ]
  },
  {
   "cell_type": "markdown",
   "id": "c507db20",
   "metadata": {},
   "source": [
    "|<big>평가문항</big>|<big>상세기준</big>|\n",
    "|:--|:--|\n",
    "|<br>**1. 기존 데이터셋을 추가 정제하고, generation 성능을 끌어올리기 위한 기법들을 실험해 모델 perfomance를 향상시켜보았는가?**<br><br> | <br>기존 데이터셋의 문제점을 분석하고 전처리 전략을 수립해 추가 정제를 진행했다. Beam search, Top-k(p) sampling 등 최선의 디코딩 전략을 수립해 향상된 모델 추론 결과를 제시했다. BLEU, ROUGE 등 생성된 텍스트를 평가하기 위한 메트릭을 적용한 정량적인 평가 결과와 주관적인 평가를 비교분석하였다.<br><br> |\n",
    "|<br>**2. 새로운 데이터를 수집해 전처리를 수행하여 모델을 재학습시켜보았는가?**<br><br> | <br>모두의 말뭉치, AI hub 등에 공개된 데이터를 사용해 추가 데이터셋을 구축하기 위한 기준과 근거를 수립했다. ChatGPT API나 다양한 한국어 benchmark 데이터셋을 활용해 Human Feedback 을 대체할 수 있는 아이디어를 구현했다. 위를 바탕으로 SFT, RM, PPO 세 단계에 필요한 각 데이터셋을 적절히 구축하여, 모델 추론 결과와 수립한 가설을 비교해보았다.<br><br> |\n",
    "|<br>**3. 학습 전략 또는 foundation model을 변경해 모델을 재학습시켜보았는가?**<br><br> | <br>더 적절한 Instruction Tuning 기법을 적용해 SFT를 해보거나, Reward Model의 ranking algorithm을 개선해보았다. KoGPT-2가 아닌 다른 모델을 initial model로 사용하여 모델 학습을 성공시켰다. 허깅페이스의 accelerate, bitsandbytes 라이브러리 등을 사용하여 더 큰 스케일의 모델로 ChatGPT를 re-building해 모델 성능을 향상시켰다.<br><br> |"
   ]
  }
 ],
 "metadata": {
  "kernelspec": {
   "display_name": "Python 3 (ipykernel)",
   "language": "python",
   "name": "python3"
  },
  "language_info": {
   "codemirror_mode": {
    "name": "ipython",
    "version": 3
   },
   "file_extension": ".py",
   "mimetype": "text/x-python",
   "name": "python",
   "nbconvert_exporter": "python",
   "pygments_lexer": "ipython3",
   "version": "3.9.7"
  }
 },
 "nbformat": 4,
 "nbformat_minor": 5
}
