{
 "cells": [
  {
   "cell_type": "markdown",
   "id": "4d5638e8",
   "metadata": {},
   "source": [
    "# 12. Seq2seq으로 번역기 만들기 [프로젝트]\n",
    "<br>"
   ]
  },
  {
   "cell_type": "markdown",
   "id": "2d95da1d",
   "metadata": {},
   "source": [
    "#### 라이브러리 import 및 버전 확인\n",
    "<br>"
   ]
  },
  {
   "cell_type": "code",
   "execution_count": 1,
   "id": "694d9ea1",
   "metadata": {},
   "outputs": [
    {
     "name": "stdout",
     "output_type": "stream",
     "text": [
      "1.3.3\n",
      "2.6.0\n",
      "3.4.3\n"
     ]
    }
   ],
   "source": [
    "import pandas\n",
    "import tensorflow\n",
    "import matplotlib\n",
    "\n",
    "print(pandas.__version__)\n",
    "print(tensorflow.__version__)\n",
    "print(matplotlib.__version__)"
   ]
  },
  {
   "cell_type": "markdown",
   "id": "39c0bf37",
   "metadata": {},
   "source": [
    "<br>"
   ]
  },
  {
   "cell_type": "markdown",
   "id": "5d497f22",
   "metadata": {},
   "source": [
    "## Step 1. 데이터 가져오기\n",
    "<br>"
   ]
  },
  {
   "cell_type": "code",
   "execution_count": 2,
   "id": "01f324ee",
   "metadata": {},
   "outputs": [],
   "source": [
    "# 데이터 저장 위치 확인"
   ]
  },
  {
   "cell_type": "code",
   "execution_count": 3,
   "id": "82ae3493",
   "metadata": {},
   "outputs": [
    {
     "name": "stdout",
     "output_type": "stream",
     "text": [
      "/aiffel/aiffel/s2s_translation\n"
     ]
    }
   ],
   "source": [
    "import os\n",
    "\n",
    "file_path = os.getenv('HOME')+'/aiffel/s2s_translation'\n",
    "print(file_path)"
   ]
  },
  {
   "cell_type": "code",
   "execution_count": 4,
   "id": "5b7e13fa",
   "metadata": {},
   "outputs": [],
   "source": [
    "# 주어진 경로에 있는 파일 및 폴더 목록 가져오기\n",
    "file_list = os.listdir(file_path)"
   ]
  },
  {
   "cell_type": "code",
   "execution_count": 5,
   "id": "67f4e0f5",
   "metadata": {},
   "outputs": [
    {
     "name": "stdout",
     "output_type": "stream",
     "text": [
      "korean-english-park.train.en\n",
      "korean-english-park.train.ko\n",
      "korean-english-park.train.tar.gz\n",
      ".ipynb_checkpoints\n"
     ]
    }
   ],
   "source": [
    "# 파일 및 폴더 목록 출력\n",
    "for file in file_list:\n",
    "    print(file)"
   ]
  },
  {
   "cell_type": "markdown",
   "id": "8b4489dc",
   "metadata": {},
   "source": [
    "<br>"
   ]
  },
  {
   "cell_type": "code",
   "execution_count": 6,
   "id": "c37a5c02",
   "metadata": {},
   "outputs": [],
   "source": [
    "# 압축 해제할 파일의 경로\n",
    "tar_gz_path = os.path.join(file_path, 'korean-english-park.train.tar.gz')"
   ]
  },
  {
   "cell_type": "code",
   "execution_count": 7,
   "id": "280a74aa",
   "metadata": {},
   "outputs": [],
   "source": [
    "# 압축 해제\n",
    "import tarfile\n",
    "\n",
    "with tarfile.open(tar_gz_path, 'r:gz') as tar:\n",
    "    tar.extractall(path=file_path)"
   ]
  },
  {
   "cell_type": "markdown",
   "id": "e15c91fa",
   "metadata": {},
   "source": [
    "<br>"
   ]
  },
  {
   "cell_type": "code",
   "execution_count": 8,
   "id": "5a40653c",
   "metadata": {},
   "outputs": [],
   "source": [
    "file_list = os.listdir(file_path)"
   ]
  },
  {
   "cell_type": "code",
   "execution_count": 9,
   "id": "84f1bd6d",
   "metadata": {},
   "outputs": [
    {
     "name": "stdout",
     "output_type": "stream",
     "text": [
      "korean-english-park.train.en\n",
      "korean-english-park.train.ko\n",
      "korean-english-park.train.tar.gz\n",
      ".ipynb_checkpoints\n"
     ]
    }
   ],
   "source": [
    "for file in file_list:\n",
    "    print(file)"
   ]
  },
  {
   "cell_type": "markdown",
   "id": "6f879d9c",
   "metadata": {},
   "source": [
    "<br>"
   ]
  },
  {
   "cell_type": "code",
   "execution_count": 10,
   "id": "5826b7ce",
   "metadata": {},
   "outputs": [],
   "source": [
    "# 데이터 가져오기"
   ]
  },
  {
   "cell_type": "code",
   "execution_count": 11,
   "id": "fa3db4aa",
   "metadata": {},
   "outputs": [],
   "source": [
    "def load_file(file_path, file_name):\n",
    "    # 파일 경로\n",
    "    load_file_path = os.path.join(file_path, file_name)\n",
    "\n",
    "    # 파일 로드\n",
    "    with open(load_file_path, 'r', encoding='utf-8') as f:\n",
    "        raw = f.read().splitlines()\n",
    "        \n",
    "    print(\"Data Size:\", len(raw))\n",
    "    print(\"Example:\")\n",
    "    \n",
    "    for sen in raw[0:100][::20]: \n",
    "        print(\">>\", sen)\n",
    "    \n",
    "    return raw"
   ]
  },
  {
   "cell_type": "code",
   "execution_count": 12,
   "id": "55cfdd12",
   "metadata": {},
   "outputs": [
    {
     "name": "stdout",
     "output_type": "stream",
     "text": [
      "Data Size: 94123\n",
      "Example:\n",
      ">> 개인용 컴퓨터 사용의 상당 부분은 \"이것보다 뛰어날 수 있느냐?\"\n",
      ">> 북한의 핵무기 계획을 포기하도록 하려는 압력이 거세지고 있는 가운데, 일본과 북한의 외교관들이 외교 관계를 정상화하려는 회담을 재개했다.\n",
      ">> \"경호 로보트가 침입자나 화재를 탐지하기 위해서 개인적으로, 그리고 전문적으로 사용되고 있습니다.\"\n",
      ">> 수자원부 당국은 논란이 되고 있고, 막대한 비용이 드는 이 사업에 대해 내년에 건설을 시작할 계획이다.\n",
      ">> 또한 근력 운동은 활발하게 걷는 것이나 최소한 20분 동안 뛰는 것과 같은 유산소 활동에서 얻는 운동 효과를 심장과 폐에 주지 않기 때문에, 연구학자들은 근력 운동이 심장에 큰 영향을 미치는지 여부에 대해 논쟁을 해왔다.\n"
     ]
    }
   ],
   "source": [
    "raw_kor = load_file(file_path, 'korean-english-park.train.ko')"
   ]
  },
  {
   "cell_type": "code",
   "execution_count": 13,
   "id": "4dd57a73",
   "metadata": {},
   "outputs": [
    {
     "name": "stdout",
     "output_type": "stream",
     "text": [
      "Data Size: 94123\n",
      "Example:\n",
      ">> Much of personal computing is about \"can you top this?\"\n",
      ">> Amid mounting pressure on North Korea to abandon its nuclear weapons program Japanese and North Korean diplomats have resumed talks on normalizing diplomatic relations.\n",
      ">> “Guard robots are used privately and professionally to detect intruders or fire,” Karlsson said.\n",
      ">> Authorities from the Water Resources Ministry plan to begin construction next year on the controversial and hugely expensive project.\n",
      ">> Researchers also have debated whether weight-training has a big impact on the heart, since it does not give the heart and lungs the kind of workout they get from aerobic activities such as brisk walking or running for at least 20 minutes.\n"
     ]
    }
   ],
   "source": [
    "raw_en= load_file(file_path, 'korean-english-park.train.en')"
   ]
  },
  {
   "cell_type": "markdown",
   "id": "e79cf2f7",
   "metadata": {},
   "source": [
    "<br><br>"
   ]
  },
  {
   "cell_type": "markdown",
   "id": "5279b84f",
   "metadata": {},
   "source": [
    "## Step 2. 데이터 정제하기\n",
    "<br>"
   ]
  },
  {
   "cell_type": "markdown",
   "id": "6fae9a80",
   "metadata": {},
   "source": [
    "#### 1. 중복 데이터 제거\n",
    "\n",
    "+ set 데이터형 활용\n",
    "+ 데이터의 병렬 쌍 유지\n",
    "+ 중복을 제거한 데이터를 cleaned_corpus 에 저장"
   ]
  },
  {
   "cell_type": "code",
   "execution_count": 14,
   "id": "5c078a8d",
   "metadata": {},
   "outputs": [],
   "source": [
    "# 두 데이터 셋의 병렬 쌍을 유지하며 중복 제거하기"
   ]
  },
  {
   "cell_type": "code",
   "execution_count": 15,
   "id": "18f68c84",
   "metadata": {},
   "outputs": [],
   "source": [
    "unique_data = set()\n",
    "filtered_kor = []\n",
    "filtered_en = []\n",
    "\n",
    "for kor_sentence, en_sentence in zip(raw_kor, raw_en):\n",
    "    if (kor_sentence, en_sentence) not in unique_data:\n",
    "        filtered_kor.append(kor_sentence)\n",
    "        filtered_en.append(en_sentence)\n",
    "        unique_data.add((kor_sentence, en_sentence))"
   ]
  },
  {
   "cell_type": "code",
   "execution_count": 16,
   "id": "1f4a0561",
   "metadata": {},
   "outputs": [
    {
     "name": "stdout",
     "output_type": "stream",
     "text": [
      "Original Korean data size: 94123\n",
      "Filtered Korean data size: 78968\n",
      "Original English data size: 94123\n",
      "Filtered English data size: 78968\n"
     ]
    }
   ],
   "source": [
    "print(f\"Original Korean data size: {len(raw_kor)}\")\n",
    "print(f\"Filtered Korean data size: {len(filtered_kor)}\")\n",
    "print(f\"Original English data size: {len(raw_en)}\")\n",
    "print(f\"Filtered English data size: {len(filtered_en)}\")"
   ]
  },
  {
   "cell_type": "code",
   "execution_count": 17,
   "id": "a102cd9a",
   "metadata": {},
   "outputs": [],
   "source": [
    "cleaned_corpus_kor = filtered_kor\n",
    "cleaned_corpus_en = filtered_en"
   ]
  },
  {
   "cell_type": "code",
   "execution_count": 18,
   "id": "ca172502",
   "metadata": {},
   "outputs": [
    {
     "name": "stdout",
     "output_type": "stream",
     "text": [
      "78968\n",
      "78968\n"
     ]
    }
   ],
   "source": [
    "print(len(cleaned_corpus_kor))\n",
    "print(len(cleaned_corpus_en))"
   ]
  },
  {
   "cell_type": "code",
   "execution_count": 19,
   "id": "783b188a",
   "metadata": {},
   "outputs": [
    {
     "data": {
      "text/plain": [
       "'약 200600밀리그램의, 비슷한 분량의 카페인은 또한 육체적 지구력을 강화시키는 데 효과적인 것 같으며, 특히 고도가 높은 곳에서 약해진 육체적 지구력을 일부 회복시켜주는 데 유용하다는 것이 이번 연구에서 밝혀졌다.'"
      ]
     },
     "execution_count": 19,
     "metadata": {},
     "output_type": "execute_result"
    }
   ],
   "source": [
    "cleaned_corpus_kor[10]"
   ]
  },
  {
   "cell_type": "code",
   "execution_count": 20,
   "id": "24095fdc",
   "metadata": {},
   "outputs": [
    {
     "data": {
      "text/plain": [
       "'/ But these days / that rationale is being questioned.'"
      ]
     },
     "execution_count": 20,
     "metadata": {},
     "output_type": "execute_result"
    }
   ],
   "source": [
    "cleaned_corpus_en[1000]"
   ]
  },
  {
   "cell_type": "markdown",
   "id": "baa5ec90",
   "metadata": {},
   "source": [
    "<br>"
   ]
  },
  {
   "cell_type": "markdown",
   "id": "d86f3c53",
   "metadata": {},
   "source": [
    "#### 2. 특수문자 제거 및 시작/종료 토큰 추가\n",
    "<br>"
   ]
  },
  {
   "cell_type": "code",
   "execution_count": 21,
   "id": "b8a6273d",
   "metadata": {},
   "outputs": [],
   "source": [
    "def preprocess_sentence(sentence, s_token=False, e_token=False):\n",
    "    sentence = sentence.lower().strip()\n",
    "    \n",
    "    # 특수문자 양쪽에 공백을 추가하지 않고, 특수문자 앞에만 공백을 추가\n",
    "    sentence = re.sub(r\"([?.!,])\", r\"\\1 \", sentence)\n",
    "    # 두 개 이상의 공백을 하나의 공백으로 변경\n",
    "    sentence = re.sub(r'[\" \"]+', \" \", sentence)\n",
    "    # a-zA-Z?.! 와 한글을 제외한 모든 문자를 공백으로 변경\n",
    "    sentence = re.sub(r\"[^a-zA-Z?.!ㄱ-ㅎㅏ-ㅣ가-힣]+\", \" \", sentence)\n",
    "    \n",
    "    sentence = sentence.strip()\n",
    "    \n",
    "    if s_token:\n",
    "        sentence = '<start> ' + sentence\n",
    "    if e_token:\n",
    "        sentence += ' <end>'\n",
    "    \n",
    "    return sentence"
   ]
  },
  {
   "cell_type": "code",
   "execution_count": 22,
   "id": "9b55a6f7",
   "metadata": {},
   "outputs": [],
   "source": [
    "import re\n",
    "\n",
    "enc_corpus = []\n",
    "dec_corpus = []\n",
    "\n",
    "for kor, en in zip(cleaned_corpus_kor, cleaned_corpus_en):    \n",
    "    enc_corpus.append(preprocess_sentence(kor))\n",
    "    dec_corpus.append(preprocess_sentence(en, s_token=True, e_token=True))"
   ]
  },
  {
   "cell_type": "code",
   "execution_count": 23,
   "id": "8c440128",
   "metadata": {},
   "outputs": [
    {
     "name": "stdout",
     "output_type": "stream",
     "text": [
      "korean data size: 78968\n",
      "english data size: 78968\n",
      "Korean: 그러나 요즈음에 그러한 이론적 해석이 의문시되고 있다.\n",
      "English: <start> but these days that rationale is being questioned. <end>\n"
     ]
    }
   ],
   "source": [
    "print('korean data size:', len(enc_corpus))\n",
    "print('english data size:', len(dec_corpus))\n",
    "print(\"Korean:\", enc_corpus[1000])   \n",
    "print(\"English:\", dec_corpus[1000])  "
   ]
  },
  {
   "cell_type": "markdown",
   "id": "07597303",
   "metadata": {},
   "source": [
    "<br>"
   ]
  },
  {
   "cell_type": "markdown",
   "id": "ba1a46ac",
   "metadata": {},
   "source": [
    "#### 3. 데이터 토큰화\n",
    "+ split() 함수를 이용\n",
    "+ 한글 토큰화는 KoNLPy의 mecab 클래스를 사용\n",
    "+ 토큰의 길이가 40 이하인 데이터를 선별해 eng_corpus와 kor_corpus를 구함."
   ]
  },
  {
   "cell_type": "code",
   "execution_count": 24,
   "id": "b429971c",
   "metadata": {},
   "outputs": [],
   "source": [
    "from konlpy.tag import Mecab\n",
    "\n",
    "mecab = Mecab()\n",
    "\n",
    "kor_corpus = []\n",
    "eng_corpus = []\n",
    "\n",
    "for pair in zip(enc_corpus, dec_corpus):\n",
    "    kor, en = pair\n",
    "\n",
    "    # 토큰화를 통해 문장 내 토큰의 개수를 확인합니다.\n",
    "    if len(mecab.morphs(kor)) <= 40 and len(en.split()) <= 40:\n",
    "        kor_corpus.append(kor)\n",
    "        eng_corpus.append(en)"
   ]
  },
  {
   "cell_type": "code",
   "execution_count": 25,
   "id": "4dbb348b",
   "metadata": {},
   "outputs": [
    {
     "name": "stdout",
     "output_type": "stream",
     "text": [
      "65009\n",
      "65009\n"
     ]
    }
   ],
   "source": [
    "print(len(kor_corpus))\n",
    "print(len(eng_corpus))"
   ]
  },
  {
   "cell_type": "code",
   "execution_count": 26,
   "id": "7062f5b9",
   "metadata": {},
   "outputs": [
    {
     "name": "stdout",
     "output_type": "stream",
     "text": [
      "한글: 자신과 상대방의 감정을 인지하고 이를 통제하는 것과 같은 핵심적인 사업 기술을 터득하기란 어려운 과정이다.\n",
      "영어: <start> acquiring key business skills such as perceiving and controlling emotions in oneself and others is a subtle process. <end>\n"
     ]
    }
   ],
   "source": [
    "print(\"한글:\", kor_corpus[1000])   \n",
    "print(\"영어:\", eng_corpus[1000])  "
   ]
  },
  {
   "cell_type": "markdown",
   "id": "52a41d77",
   "metadata": {},
   "source": [
    "<br><br>"
   ]
  },
  {
   "cell_type": "markdown",
   "id": "7de14b77",
   "metadata": {},
   "source": [
    "## Step 3. 데이터 토큰화\n",
    "<br>"
   ]
  },
  {
   "cell_type": "code",
   "execution_count": 27,
   "id": "3548e728",
   "metadata": {},
   "outputs": [],
   "source": [
    "from tensorflow.keras.preprocessing.text import Tokenizer\n",
    "from tensorflow.keras.preprocessing.sequence import pad_sequences\n",
    "\n",
    "num_words = 40000\n",
    "def tokenize(corpus, lang=\"kor\"):\n",
    "    if lang == \"kor\":\n",
    "        mecab = Mecab()\n",
    "        corpus = [\" \".join(mecab.morphs(sentence)) for sentence in corpus]\n",
    "    \n",
    "    tokenizer = Tokenizer(filters='', oov_token='<OOV>', num_words=num_words)\n",
    "    tokenizer.fit_on_texts(corpus)\n",
    "    tensor = tokenizer.texts_to_sequences(corpus)\n",
    "    tensor = pad_sequences(tensor, padding='post')\n",
    "    \n",
    "    return tensor, tokenizer"
   ]
  },
  {
   "cell_type": "code",
   "execution_count": 28,
   "id": "6d0bf951",
   "metadata": {},
   "outputs": [],
   "source": [
    "enc_tensor, enc_tokenizer = tokenize(kor_corpus, lang=\"kor\")\n",
    "dec_tensor, dec_tokenizer = tokenize(eng_corpus, lang=\"en\")"
   ]
  },
  {
   "cell_type": "code",
   "execution_count": 29,
   "id": "0ee9d63d",
   "metadata": {},
   "outputs": [
    {
     "name": "stdout",
     "output_type": "stream",
     "text": [
      "65009\n",
      "65009\n",
      "<keras_preprocessing.text.Tokenizer object at 0x7fbe84cfbf40>\n",
      "<keras_preprocessing.text.Tokenizer object at 0x7fbf1c7a3b20>\n"
     ]
    }
   ],
   "source": [
    "print(len(enc_tensor))\n",
    "print(len(dec_tensor))\n",
    "print(enc_tokenizer)\n",
    "print(dec_tokenizer)"
   ]
  },
  {
   "cell_type": "markdown",
   "id": "79bcacf8",
   "metadata": {},
   "source": [
    "<br>"
   ]
  },
  {
   "cell_type": "code",
   "execution_count": 30,
   "id": "2c284eb1",
   "metadata": {},
   "outputs": [],
   "source": [
    "# train_test_split을 활용해서 훈련 데이터와 검증 데이터로 분리하기"
   ]
  },
  {
   "cell_type": "code",
   "execution_count": 31,
   "id": "cce3c5d2",
   "metadata": {},
   "outputs": [],
   "source": [
    "from sklearn.model_selection import train_test_split\n",
    "\n",
    "enc_train, enc_val, dec_train, dec_val = train_test_split(enc_tensor, dec_tensor, test_size=0.2)"
   ]
  },
  {
   "cell_type": "code",
   "execution_count": 32,
   "id": "6a353f8f",
   "metadata": {},
   "outputs": [
    {
     "name": "stdout",
     "output_type": "stream",
     "text": [
      "Korean Train: (52007, 40)\n",
      "Korean Validation: (13002, 40)\n",
      "English Train: (52007, 40)\n",
      "English Validation: (13002, 40)\n"
     ]
    }
   ],
   "source": [
    "print(\"Korean Train:\", enc_train.shape)\n",
    "print(\"Korean Validation:\", enc_val.shape)\n",
    "print(\"English Train:\", dec_train.shape)\n",
    "print(\"English Validation:\", dec_val.shape)"
   ]
  },
  {
   "cell_type": "markdown",
   "id": "20ec2df9",
   "metadata": {},
   "source": [
    "<br><br>"
   ]
  },
  {
   "cell_type": "markdown",
   "id": "0e67b570",
   "metadata": {},
   "source": [
    "## Step 4. 모델 설계\n",
    "<br>"
   ]
  },
  {
   "cell_type": "code",
   "execution_count": 33,
   "id": "5de23bb1",
   "metadata": {},
   "outputs": [],
   "source": [
    "# 각각 1개의 GRU을 갖는 Encoder-Decoder 구조 설계"
   ]
  },
  {
   "cell_type": "code",
   "execution_count": 34,
   "id": "0c67ef22",
   "metadata": {},
   "outputs": [],
   "source": [
    "import tensorflow as tf\n",
    "\n",
    "class BahdanauAttention(tf.keras.layers.Layer):\n",
    "    def __init__(self, units):\n",
    "        super(BahdanauAttention, self).__init__()\n",
    "        self.w_dec = tf.keras.layers.Dense(units)\n",
    "        self.w_enc = tf.keras.layers.Dense(units)\n",
    "        self.w_com = tf.keras.layers.Dense(1)\n",
    "    \n",
    "    def call(self, h_enc, h_dec):\n",
    "\n",
    "        h_enc = self.w_enc(h_enc)\n",
    "        h_dec = tf.expand_dims(h_dec, 1)\n",
    "        h_dec = self.w_dec(h_dec)\n",
    "\n",
    "        score = self.w_com(tf.nn.tanh(h_dec + h_enc))\n",
    "        \n",
    "        attn = tf.nn.softmax(score, axis=1)\n",
    "\n",
    "        context_vec = attn * h_enc\n",
    "        context_vec = tf.reduce_sum(context_vec, axis=1)\n",
    "\n",
    "        return context_vec, attn"
   ]
  },
  {
   "cell_type": "code",
   "execution_count": 35,
   "id": "8f5c3fd3",
   "metadata": {},
   "outputs": [],
   "source": [
    "# Encoder 클래스 설계"
   ]
  },
  {
   "cell_type": "code",
   "execution_count": 36,
   "id": "299c163f",
   "metadata": {},
   "outputs": [],
   "source": [
    "class Encoder(tf.keras.Model):\n",
    "    def __init__(self, vocab_size, embedding_dim, enc_units):\n",
    "        super(Encoder, self).__init__()\n",
    "\n",
    "        self.enc_units = enc_units\n",
    "        self.embedding = tf.keras.layers.Embedding(vocab_size, embedding_dim)\n",
    "        self.gru = tf.keras.layers.GRU(enc_units,\n",
    "                                       return_sequences=True, \n",
    "                                       dropout=0.5)  # Dropout 추가\n",
    "\n",
    "    def call(self, x):\n",
    "        out = self.embedding(x)\n",
    "        out = self.gru(out)\n",
    "\n",
    "        return out"
   ]
  },
  {
   "cell_type": "code",
   "execution_count": 37,
   "id": "33207539",
   "metadata": {},
   "outputs": [],
   "source": [
    "# Decoder 클래스를 설계"
   ]
  },
  {
   "cell_type": "code",
   "execution_count": 38,
   "id": "47d3e479",
   "metadata": {},
   "outputs": [],
   "source": [
    "class Decoder(tf.keras.Model):\n",
    "    def __init__(self, vocab_size, embedding_dim, dec_units):\n",
    "        super(Decoder, self).__init__()\n",
    "        self.dec_units = dec_units\n",
    "        self.embedding = tf.keras.layers.Embedding(vocab_size, embedding_dim)\n",
    "        self.gru = tf.keras.layers.GRU(dec_units,\n",
    "                                       return_sequences=True,\n",
    "                                       return_state=True)\n",
    "        self.fc = tf.keras.layers.Dense(vocab_size)\n",
    "\n",
    "        self.attention = BahdanauAttention(self.dec_units)\n",
    "\n",
    "    def call(self, x, h_dec, enc_out):\n",
    "        context_vec, attn = self.attention(enc_out, h_dec)\n",
    "\n",
    "        out = self.embedding(x)\n",
    "        out = tf.concat([tf.expand_dims(context_vec, 1), out], axis=-1)\n",
    "\n",
    "        out, h_dec = self.gru(out)\n",
    "        out = tf.reshape(out, (-1, out.shape[2]))\n",
    "        out = self.fc(out)\n",
    "\n",
    "        return out, h_dec, attn"
   ]
  },
  {
   "cell_type": "code",
   "execution_count": 39,
   "id": "9b2a413d",
   "metadata": {},
   "outputs": [
    {
     "data": {
      "text/plain": [
       "44908"
      ]
     },
     "execution_count": 39,
     "metadata": {},
     "output_type": "execute_result"
    }
   ],
   "source": [
    "len(enc_tokenizer.index_word)"
   ]
  },
  {
   "cell_type": "code",
   "execution_count": 40,
   "id": "98197d17",
   "metadata": {},
   "outputs": [
    {
     "data": {
      "text/plain": [
       "49310"
      ]
     },
     "execution_count": 40,
     "metadata": {},
     "output_type": "execute_result"
    }
   ],
   "source": [
    "len(dec_tokenizer.index_word)"
   ]
  },
  {
   "cell_type": "markdown",
   "id": "8c88d0b7",
   "metadata": {},
   "source": [
    "<br>"
   ]
  },
  {
   "cell_type": "code",
   "execution_count": 41,
   "id": "7c1837b4",
   "metadata": {},
   "outputs": [
    {
     "name": "stdout",
     "output_type": "stream",
     "text": [
      "Encoder Output: (64, 40, 1024)\n",
      "Decoder Output: (64, 49311)\n",
      "Decoder Hidden State: (64, 1024)\n",
      "Attention: (64, 40, 1)\n"
     ]
    }
   ],
   "source": [
    "# 코드를 실행하세요.\n",
    "\n",
    "BATCH_SIZE     = 64\n",
    "SRC_VOCAB_SIZE = len(enc_tokenizer.index_word) + 1 # 예: len(enc_tokenizer.index_word) + 1\n",
    "TGT_VOCAB_SIZE = len(dec_tokenizer.index_word) + 1 # 예: len(dec_tokenizer.index_word) + 1\n",
    "\n",
    "units         = 1024\n",
    "embedding_dim = 512\n",
    "\n",
    "encoder = Encoder(SRC_VOCAB_SIZE, embedding_dim, units)\n",
    "decoder = Decoder(TGT_VOCAB_SIZE, embedding_dim, units)\n",
    "\n",
    "# sample input\n",
    "sequence_len = 40\n",
    "\n",
    "sample_enc = tf.random.uniform((BATCH_SIZE, sequence_len))\n",
    "sample_output = encoder(sample_enc)\n",
    "\n",
    "print ('Encoder Output:', sample_output.shape)\n",
    "\n",
    "sample_state = tf.random.uniform((BATCH_SIZE, units))\n",
    "\n",
    "sample_logits, h_dec, attn = decoder(tf.random.uniform((BATCH_SIZE, 1)),\n",
    "                                     sample_state, sample_output)\n",
    "\n",
    "print ('Decoder Output:', sample_logits.shape)\n",
    "print ('Decoder Hidden State:', h_dec.shape)\n",
    "print ('Attention:', attn.shape)"
   ]
  },
  {
   "cell_type": "markdown",
   "id": "eb9109c3",
   "metadata": {},
   "source": [
    "<br><br>"
   ]
  },
  {
   "cell_type": "markdown",
   "id": "9e5b2544",
   "metadata": {},
   "source": [
    "## Step 5. 훈련하기\n",
    "<br>"
   ]
  },
  {
   "cell_type": "markdown",
   "id": "5755b7bc",
   "metadata": {},
   "source": [
    "#### Optimizer & Loss"
   ]
  },
  {
   "cell_type": "code",
   "execution_count": 42,
   "id": "52d98ae0",
   "metadata": {},
   "outputs": [],
   "source": [
    "optimizer = tf.keras.optimizers.Adam(learning_rate=0.001)"
   ]
  },
  {
   "cell_type": "code",
   "execution_count": 43,
   "id": "03a7e881",
   "metadata": {},
   "outputs": [],
   "source": [
    "loss_object = tf.keras.losses.SparseCategoricalCrossentropy(\n",
    "    from_logits=True, reduction='none')"
   ]
  },
  {
   "cell_type": "code",
   "execution_count": 44,
   "id": "d7745da0",
   "metadata": {},
   "outputs": [],
   "source": [
    "def loss_function(real, pred):\n",
    "    mask = tf.math.logical_not(tf.math.equal(real, 0))\n",
    "    loss = loss_object(real, pred)\n",
    "    \n",
    "    mask = tf.cast(mask, dtype=loss.dtype)\n",
    "    loss *= mask\n",
    "    \n",
    "    return tf.reduce_mean(loss)"
   ]
  },
  {
   "cell_type": "markdown",
   "id": "bda4d398",
   "metadata": {},
   "source": [
    "<br>"
   ]
  },
  {
   "cell_type": "markdown",
   "id": "db5b5255",
   "metadata": {},
   "source": [
    "#### train_step"
   ]
  },
  {
   "cell_type": "code",
   "execution_count": 45,
   "id": "7d045e2c",
   "metadata": {},
   "outputs": [],
   "source": [
    "@tf.function\n",
    "def train_step(src, tgt, encoder, decoder, optimizer, dec_tok):\n",
    "    bsz = src.shape[0]\n",
    "    loss = 0\n",
    "\n",
    "    with tf.GradientTape() as tape:\n",
    "        # 1. Encoder에 소스 문장을 전달해 컨텍스트 벡터인 enc_out 을 생성\n",
    "        enc_out = encoder(src)\n",
    "        # 2. t=0일 때, Decoder의 Hidden State는 Encoder의 Final State로 정의\n",
    "        h_dec = enc_out[:, -1]\n",
    "        \n",
    "        # 3. Decoder에 입력으로 전달할 <start> 토큰 문장 생성\n",
    "        dec_src = tf.expand_dims([dec_tok.word_index['<start>']] * bsz, 1)\n",
    "\n",
    "        for t in range(1, tgt.shape[1]):\n",
    "            # 4. <start> 문장과 enc_out, Hidden State를 기반으로 다음 단어(t=1)를 예측. pred\n",
    "            pred, h_dec, _ = decoder(dec_src, h_dec, enc_out)\n",
    "            \n",
    "            # 5. 예측된 단어와 정답 간의 Loss를 구한 후, t=1의 정답 단어를 다음 입력으로 사용 (예측 단어 X)\n",
    "            loss += loss_function(tgt[:, t], pred)\n",
    "            dec_src = tf.expand_dims(tgt[:, t], 1)\n",
    "        \n",
    "    batch_loss = (loss / int(tgt.shape[1]))\n",
    "\n",
    "    variables = encoder.trainable_variables + decoder.trainable_variables\n",
    "    gradients = tape.gradient(loss, variables)\n",
    "    \n",
    "    # Gradient Clipping\n",
    "    clipped_gradients, _ = tf.clip_by_global_norm(gradients, 5)\n",
    "    \n",
    "    optimizer.apply_gradients(zip(gradients, variables))\n",
    "    \n",
    "    return batch_loss"
   ]
  },
  {
   "cell_type": "markdown",
   "id": "eba7dba8",
   "metadata": {},
   "source": [
    "<br>"
   ]
  },
  {
   "cell_type": "code",
   "execution_count": 46,
   "id": "0eca4cb1",
   "metadata": {},
   "outputs": [],
   "source": [
    "# eval_step() 정의하기"
   ]
  },
  {
   "cell_type": "code",
   "execution_count": 47,
   "id": "3f2df39a",
   "metadata": {},
   "outputs": [],
   "source": [
    "@tf.function\n",
    "def eval_step(src, tgt, encoder, decoder, dec_tok):\n",
    "    bsz = src.shape[0]\n",
    "    loss = 0\n",
    "\n",
    "    enc_out = encoder(src)\n",
    "\n",
    "    h_dec = enc_out[:, -1]\n",
    "    \n",
    "    dec_src = tf.expand_dims([dec_tok.word_index['<start>']] * bsz, 1)\n",
    "\n",
    "    for t in range(1, tgt.shape[1]):\n",
    "        pred, h_dec, _ = decoder(dec_src, h_dec, enc_out)\n",
    "\n",
    "        loss += loss_function(tgt[:, t], pred)\n",
    "        dec_src = tf.expand_dims(tgt[:, t], 1)\n",
    "        \n",
    "    batch_loss = (loss / int(tgt.shape[1]))\n",
    "    \n",
    "    return batch_loss"
   ]
  },
  {
   "cell_type": "markdown",
   "id": "59a31cf1",
   "metadata": {},
   "source": [
    "<br>"
   ]
  },
  {
   "cell_type": "code",
   "execution_count": 48,
   "id": "91f62515",
   "metadata": {},
   "outputs": [],
   "source": [
    "# 모델 학습 + 모델 평가"
   ]
  },
  {
   "cell_type": "code",
   "execution_count": 49,
   "id": "2f5cc52a",
   "metadata": {},
   "outputs": [],
   "source": [
    "# train_step() 이후 eval_step() 진행하도록 소스 수정하기"
   ]
  },
  {
   "cell_type": "code",
   "execution_count": 50,
   "id": "e7d087d1",
   "metadata": {},
   "outputs": [
    {
     "name": "stderr",
     "output_type": "stream",
     "text": [
      "Epoch  1: 100%|██████████| 813/813 [10:44<00:00,  1.26it/s, Loss 3.6904]\n",
      "Test Epoch  1: 100%|██████████| 204/204 [01:09<00:00,  2.93it/s, Test Loss 3.2467]\n",
      "Epoch  2: 100%|██████████| 813/813 [09:54<00:00,  1.37it/s, Loss 3.0550]\n",
      "Test Epoch  2: 100%|██████████| 204/204 [00:46<00:00,  4.38it/s, Test Loss 2.9768]\n",
      "Epoch  3: 100%|██████████| 813/813 [09:56<00:00,  1.36it/s, Loss 2.7188]\n",
      "Test Epoch  3: 100%|██████████| 204/204 [00:46<00:00,  4.36it/s, Test Loss 2.8019]\n",
      "Epoch  4: 100%|██████████| 813/813 [09:57<00:00,  1.36it/s, Loss 2.4248]\n",
      "Test Epoch  4: 100%|██████████| 204/204 [00:46<00:00,  4.37it/s, Test Loss 2.7153]\n",
      "Epoch  5: 100%|██████████| 813/813 [09:57<00:00,  1.36it/s, Loss 2.1514]\n",
      "Test Epoch  5: 100%|██████████| 204/204 [00:46<00:00,  4.37it/s, Test Loss 2.6858]\n",
      "Epoch  6: 100%|██████████| 813/813 [09:57<00:00,  1.36it/s, Loss 1.8934]\n",
      "Test Epoch  6: 100%|██████████| 204/204 [00:46<00:00,  4.36it/s, Test Loss 2.7071]\n",
      "Epoch  7: 100%|██████████| 813/813 [09:58<00:00,  1.36it/s, Loss 1.6569]\n",
      "Test Epoch  7: 100%|██████████| 204/204 [00:46<00:00,  4.36it/s, Test Loss 2.7473]\n",
      "Epoch  8: 100%|██████████| 813/813 [09:58<00:00,  1.36it/s, Loss 1.4518]\n",
      "Test Epoch  8: 100%|██████████| 204/204 [00:46<00:00,  4.36it/s, Test Loss 2.8102]\n",
      "Epoch  9: 100%|██████████| 813/813 [09:57<00:00,  1.36it/s, Loss 1.2773]\n",
      "Test Epoch  9: 100%|██████████| 204/204 [00:46<00:00,  4.37it/s, Test Loss 2.8757]\n",
      "Epoch 10: 100%|██████████| 813/813 [09:57<00:00,  1.36it/s, Loss 1.1286]\n",
      "Test Epoch 10: 100%|██████████| 204/204 [00:46<00:00,  4.37it/s, Test Loss 2.9443]\n"
     ]
    }
   ],
   "source": [
    "import random\n",
    "from tqdm import tqdm\n",
    "\n",
    "EPOCHS = 10\n",
    "\n",
    "for epoch in range(EPOCHS):\n",
    "    total_loss = 0\n",
    "    \n",
    "    idx_list = list(range(0, enc_train.shape[0], BATCH_SIZE))\n",
    "    random.shuffle(idx_list)\n",
    "    t = tqdm(idx_list)\n",
    "\n",
    "    for (batch, idx) in enumerate(t):\n",
    "        batch_loss = train_step(enc_train[idx:idx+BATCH_SIZE],\n",
    "                                dec_train[idx:idx+BATCH_SIZE],\n",
    "                                encoder,\n",
    "                                decoder,\n",
    "                                optimizer,\n",
    "                                dec_tokenizer)\n",
    "    \n",
    "        total_loss += batch_loss\n",
    "        \n",
    "        t.set_description_str('Epoch %2d' % (epoch + 1))\n",
    "        t.set_postfix_str('Loss %.4f' % (total_loss.numpy() / (batch + 1)))\n",
    "    \n",
    "    test_loss = 0\n",
    "    \n",
    "    idx_list = list(range(0, enc_val.shape[0], BATCH_SIZE))\n",
    "    random.shuffle(idx_list)\n",
    "    t = tqdm(idx_list)\n",
    "\n",
    "    for (test_batch, idx) in enumerate(t):\n",
    "        test_batch_loss = eval_step(enc_val[idx:idx+BATCH_SIZE],\n",
    "                                    dec_val[idx:idx+BATCH_SIZE],\n",
    "                                    encoder,\n",
    "                                    decoder,\n",
    "                                    dec_tokenizer)\n",
    "    \n",
    "        test_loss += test_batch_loss\n",
    "\n",
    "        t.set_description_str('Test Epoch %2d' % (epoch + 1))\n",
    "        t.set_postfix_str('Test Loss %.4f' % (test_loss.numpy() / (test_batch + 1)))"
   ]
  },
  {
   "cell_type": "markdown",
   "id": "a81e76e4",
   "metadata": {},
   "source": [
    "<br>"
   ]
  },
  {
   "cell_type": "markdown",
   "id": "13272182",
   "metadata": {},
   "source": [
    "## 성능 평가하기\n",
    "<br>"
   ]
  },
  {
   "cell_type": "code",
   "execution_count": 3,
   "id": "2e0b5d99",
   "metadata": {},
   "outputs": [],
   "source": [
    "# 번역 성능 평가"
   ]
  },
  {
   "cell_type": "code",
   "execution_count": 113,
   "id": "3dcc69a0",
   "metadata": {},
   "outputs": [],
   "source": [
    "import numpy as np\n",
    "\n",
    "def evaluate(sentence, encoder, decoder):\n",
    "    attention = np.zeros((dec_train.shape[-1], enc_train.shape[-1]))\n",
    "    \n",
    "    sentence = preprocess_sentence(sentence)\n",
    "    inputs = enc_tokenizer.texts_to_sequences([sentence.split()])\n",
    "    inputs = tf.keras.preprocessing.sequence.pad_sequences(inputs,\n",
    "                                                           maxlen=enc_train.shape[-1],\n",
    "                                                           padding='post')\n",
    "\n",
    "    result = ''\n",
    "\n",
    "    enc_out = encoder(inputs)\n",
    "\n",
    "    dec_hidden = enc_out[:, -1]\n",
    "    dec_input = tf.expand_dims([dec_tokenizer.word_index['<start>']], 0)\n",
    "\n",
    "    for t in range(dec_train.shape[-1]):\n",
    "        predictions, dec_hidden, attention_weights = decoder(dec_input,\n",
    "                                                             dec_hidden,\n",
    "                                                             enc_out)\n",
    "\n",
    "        attention_weights = tf.reshape(attention_weights, (-1, ))\n",
    "        attention[t] = attention_weights.numpy()\n",
    "\n",
    "        predicted_id = \\\n",
    "        tf.argmax(tf.math.softmax(predictions, axis=-1)[0]).numpy()\n",
    "\n",
    "        result += dec_tokenizer.index_word[predicted_id] + ' '\n",
    "\n",
    "        if dec_tokenizer.index_word[predicted_id] == '<end>':\n",
    "            return result, sentence, attention\n",
    "\n",
    "        dec_input = tf.expand_dims([predicted_id], 0)\n",
    "\n",
    "    return result, sentence, attention"
   ]
  },
  {
   "cell_type": "code",
   "execution_count": 100,
   "id": "570f4789",
   "metadata": {},
   "outputs": [],
   "source": [
    "result, sentence, attention = evaluate(\"나는 요즘 고민이 많아\", encoder, decoder)"
   ]
  },
  {
   "cell_type": "code",
   "execution_count": 101,
   "id": "94661218",
   "metadata": {},
   "outputs": [
    {
     "name": "stdout",
     "output_type": "stream",
     "text": [
      "입력 문장: 나는 요즘 고민이 많아\n",
      "예측된 번역: we re election <end> \n"
     ]
    }
   ],
   "source": [
    "print('입력 문장: %s' % (sentence))\n",
    "print('예측된 번역: {}'.format(result))"
   ]
  },
  {
   "cell_type": "markdown",
   "id": "c7148e1a",
   "metadata": {},
   "source": [
    "<br>"
   ]
  },
  {
   "cell_type": "code",
   "execution_count": 102,
   "id": "1964ac79",
   "metadata": {},
   "outputs": [],
   "source": [
    "# Attention Map 시각화"
   ]
  },
  {
   "cell_type": "code",
   "execution_count": 103,
   "id": "5f1231b7",
   "metadata": {},
   "outputs": [],
   "source": [
    "import matplotlib.font_manager as fm\n",
    "\n",
    "path = '/usr/share/fonts/truetype/nanum/NanumBarunGothic.ttf'\n",
    "font_name = fm.FontProperties(fname=path, size=10).get_name()\n",
    "plt.rc('font', family=font_name)"
   ]
  },
  {
   "cell_type": "code",
   "execution_count": 104,
   "id": "e15c618f",
   "metadata": {},
   "outputs": [],
   "source": [
    "import matplotlib.pyplot as plt\n",
    "import matplotlib.ticker as ticker\n",
    "\n",
    "def plot_attention(attention, sentence, predicted_sentence):\n",
    "    fig = plt.figure(figsize=(10,10))\n",
    "    ax = fig.add_subplot(1, 1, 1)\n",
    "    ax.matshow(attention, cmap='viridis')\n",
    "\n",
    "    fontdict = {'fontsize': 14}\n",
    "\n",
    "    ax.set_xticklabels([''] + sentence, fontdict=fontdict, rotation=90)\n",
    "    ax.set_yticklabels([''] + predicted_sentence, fontdict=fontdict)\n",
    "\n",
    "    ax.xaxis.set_major_locator(ticker.MultipleLocator(1))\n",
    "    ax.yaxis.set_major_locator(ticker.MultipleLocator(1))\n",
    "\n",
    "    plt.show()"
   ]
  },
  {
   "cell_type": "code",
   "execution_count": 105,
   "id": "4ada727e",
   "metadata": {},
   "outputs": [
    {
     "name": "stderr",
     "output_type": "stream",
     "text": [
      "/tmp/ipykernel_47/1137553069.py:11: UserWarning: FixedFormatter should only be used together with FixedLocator\n",
      "  ax.set_xticklabels([''] + sentence, fontdict=fontdict, rotation=90)\n",
      "/tmp/ipykernel_47/1137553069.py:12: UserWarning: FixedFormatter should only be used together with FixedLocator\n",
      "  ax.set_yticklabels([''] + predicted_sentence, fontdict=fontdict)\n"
     ]
    },
    {
     "data": {
      "image/png": "[encoded data removed]",
      "text/plain": [
       "<Figure size 720x720 with 1 Axes>"
      ]
     },
     "metadata": {
      "needs_background": "light"
     },
     "output_type": "display_data"
    }
   ],
   "source": [
    "attention = attention[:len(result.split()), :len(sentence.split())]\n",
    "plot_attention(attention, sentence.split(), result.split(' '))"
   ]
  },
  {
   "cell_type": "markdown",
   "id": "a4c9a4b7",
   "metadata": {},
   "source": [
    "<br>"
   ]
  },
  {
   "cell_type": "code",
   "execution_count": 106,
   "id": "8331aba9",
   "metadata": {},
   "outputs": [],
   "source": [
    "result, sentence, attention = evaluate(\"그는 대통령 선거에 당선되었어.\", encoder, decoder)"
   ]
  },
  {
   "cell_type": "code",
   "execution_count": 107,
   "id": "c46eee43",
   "metadata": {},
   "outputs": [
    {
     "name": "stdout",
     "output_type": "stream",
     "text": [
      "입력 문장: 그는 대통령 선거에 당선되었어.\n",
      "예측된 번역: president roh moo hyun s president <end> \n"
     ]
    }
   ],
   "source": [
    "print('입력 문장: %s' % (sentence))\n",
    "print('예측된 번역: {}'.format(result))"
   ]
  },
  {
   "cell_type": "code",
   "execution_count": 108,
   "id": "3d2c3c3d",
   "metadata": {},
   "outputs": [
    {
     "name": "stderr",
     "output_type": "stream",
     "text": [
      "/tmp/ipykernel_47/1137553069.py:11: UserWarning: FixedFormatter should only be used together with FixedLocator\n",
      "  ax.set_xticklabels([''] + sentence, fontdict=fontdict, rotation=90)\n",
      "/tmp/ipykernel_47/1137553069.py:12: UserWarning: FixedFormatter should only be used together with FixedLocator\n",
      "  ax.set_yticklabels([''] + predicted_sentence, fontdict=fontdict)\n"
     ]
    },
    {
     "data": {
      "image/png": "[encoded data removed]",
      "text/plain": [
       "<Figure size 720x720 with 1 Axes>"
      ]
     },
     "metadata": {
      "needs_background": "light"
     },
     "output_type": "display_data"
    }
   ],
   "source": [
    "attention = attention[:len(result.split()), :len(sentence.split())]\n",
    "plot_attention(attention, sentence.split(), result.split(' '))"
   ]
  },
  {
   "cell_type": "markdown",
   "id": "1f4849fc",
   "metadata": {},
   "source": [
    "<br>"
   ]
  },
  {
   "cell_type": "code",
   "execution_count": 122,
   "id": "177260da",
   "metadata": {},
   "outputs": [],
   "source": [
    "result, sentence, attention = evaluate('특히 고도가 높은 곳에서 약해진 육체적 지구력을 일부 회복시켜주는 데 유용하다는 것이', encoder, decoder)"
   ]
  },
  {
   "cell_type": "code",
   "execution_count": 123,
   "id": "5c436d62",
   "metadata": {},
   "outputs": [
    {
     "name": "stdout",
     "output_type": "stream",
     "text": [
      "입력 문장: 특히 고도가 높은 곳에서 약해진 육체적 지구력을 일부 회복시켜주는 데 유용하다는 것이\n",
      "예측된 번역: the korea times reports korea s consumer confidence has seen concerns about the korean peninsula. <end> \n"
     ]
    }
   ],
   "source": [
    "print('입력 문장: %s' % (sentence))\n",
    "print('예측된 번역: {}'.format(result))"
   ]
  },
  {
   "cell_type": "code",
   "execution_count": 124,
   "id": "42a5454b",
   "metadata": {},
   "outputs": [
    {
     "name": "stderr",
     "output_type": "stream",
     "text": [
      "/tmp/ipykernel_47/1137553069.py:11: UserWarning: FixedFormatter should only be used together with FixedLocator\n",
      "  ax.set_xticklabels([''] + sentence, fontdict=fontdict, rotation=90)\n",
      "/tmp/ipykernel_47/1137553069.py:12: UserWarning: FixedFormatter should only be used together with FixedLocator\n",
      "  ax.set_yticklabels([''] + predicted_sentence, fontdict=fontdict)\n"
     ]
    },
    {
     "data": {
      "image/png": "[encoded data removed]",
      "text/plain": [
       "<Figure size 720x720 with 1 Axes>"
      ]
     },
     "metadata": {
      "needs_background": "light"
     },
     "output_type": "display_data"
    }
   ],
   "source": [
    "attention = attention[:len(result.split()), :len(sentence.split())]\n",
    "plot_attention(attention, sentence.split(), result.split(' '))"
   ]
  },
  {
   "cell_type": "markdown",
   "id": "f3cd22b1",
   "metadata": {},
   "source": [
    "<br>"
   ]
  },
  {
   "cell_type": "code",
   "execution_count": 125,
   "id": "84631b68",
   "metadata": {},
   "outputs": [],
   "source": [
    "result, sentence, attention = evaluate('한반도의 평화를 위해 북한의 핵무장을 반대한다.', encoder, decoder)"
   ]
  },
  {
   "cell_type": "code",
   "execution_count": 126,
   "id": "1d97ed50",
   "metadata": {},
   "outputs": [
    {
     "name": "stdout",
     "output_type": "stream",
     "text": [
      "입력 문장: 한반도의 평화를 위해 북한의 핵무장을 반대한다.\n",
      "예측된 번역: he adds to the korean peninsula. <end> \n"
     ]
    }
   ],
   "source": [
    "print('입력 문장: %s' % (sentence))\n",
    "print('예측된 번역: {}'.format(result))"
   ]
  },
  {
   "cell_type": "code",
   "execution_count": 127,
   "id": "4c6904aa",
   "metadata": {},
   "outputs": [
    {
     "name": "stderr",
     "output_type": "stream",
     "text": [
      "/tmp/ipykernel_47/1137553069.py:11: UserWarning: FixedFormatter should only be used together with FixedLocator\n",
      "  ax.set_xticklabels([''] + sentence, fontdict=fontdict, rotation=90)\n",
      "/tmp/ipykernel_47/1137553069.py:12: UserWarning: FixedFormatter should only be used together with FixedLocator\n",
      "  ax.set_yticklabels([''] + predicted_sentence, fontdict=fontdict)\n"
     ]
    },
    {
     "data": {
      "image/png": "[encoded data removed]",
      "text/plain": [
       "<Figure size 720x720 with 1 Axes>"
      ]
     },
     "metadata": {
      "needs_background": "light"
     },
     "output_type": "display_data"
    }
   ],
   "source": [
    "attention = attention[:len(result.split()), :len(sentence.split())]\n",
    "plot_attention(attention, sentence.split(), result.split(' '))"
   ]
  },
  {
   "cell_type": "markdown",
   "id": "b5791406",
   "metadata": {},
   "source": [
    "<br><br>"
   ]
  },
  {
   "cell_type": "markdown",
   "id": "f4a4e3b8",
   "metadata": {},
   "source": [
    "## 12-2. 프로젝트 제출\n",
    "<br>"
   ]
  },
  {
   "cell_type": "markdown",
   "id": "8b00ef34",
   "metadata": {},
   "source": [
    "### 루브릭\n",
    "<br>"
   ]
  },
  {
   "cell_type": "markdown",
   "id": "7462684c",
   "metadata": {},
   "source": [
    "#### 평가문항 및 상세기준\n",
    "<br>"
   ]
  },
  {
   "cell_type": "markdown",
   "id": "87dc82e6",
   "metadata": {},
   "source": [
    "##### 1. 번역기 모델 학습에 필요한 텍스트 데이터 전처리가 한국어 포함하여 잘 이루어졌다.\n",
    "\n",
    "구두점, 대소문자, 띄어쓰기, 한글 형태소분석 등 번역기 모델에 요구되는 전처리가 정상적으로 진행되었다.\n",
    "\n",
    "<br>"
   ]
  },
  {
   "cell_type": "markdown",
   "id": "b2b302aa",
   "metadata": {},
   "source": [
    "##### 2. Attentional Seq2seq 모델이 정상적으로 구동된다.\n",
    "\n",
    "seq2seq 모델 훈련 과정에서 training loss가 안정적으로 떨어지면서 학습이 진행됨이 확인되었다.\n",
    "\n",
    "<br>"
   ]
  },
  {
   "cell_type": "markdown",
   "id": "7ad090a4",
   "metadata": {},
   "source": [
    "##### 3. 테스트 결과 의미가 통하는 수준의 번역문이 생성되었다.\n",
    "\n",
    "테스트용 디코더 모델이 정상적으로 만들어져서, 정답과 어느 정도 유사한 영어 번역이 진행됨을 확인하였다."
   ]
  },
  {
   "cell_type": "code",
   "execution_count": null,
   "id": "7cdb629a",
   "metadata": {},
   "outputs": [],
   "source": []
  }
 ],
 "metadata": {
  "kernelspec": {
   "display_name": "Python 3 (ipykernel)",
   "language": "python",
   "name": "python3"
  },
  "language_info": {
   "codemirror_mode": {
    "name": "ipython",
    "version": 3
   },
   "file_extension": ".py",
   "mimetype": "text/x-python",
   "name": "python",
   "nbconvert_exporter": "python",
   "pygments_lexer": "ipython3",
   "version": "3.9.7"
  }
 },
 "nbformat": 4,
 "nbformat_minor": 5
}
