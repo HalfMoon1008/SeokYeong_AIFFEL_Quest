{
  "nbformat": 4,
  "nbformat_minor": 0,
  "metadata": {
    "colab": {
      "provenance": [],
      "machine_shape": "hm",
      "gpuType": "A100"
    },
    "kernelspec": {
      "name": "python3",
      "display_name": "Python 3"
    },
    "language_info": {
      "name": "python"
    },
    "accelerator": "GPU",
    "widgets": {
      "application/vnd.jupyter.widget-state+json": {
        "47c20989d0df447c9d958446650abe6b": {
          "model_module": "@jupyter-widgets/controls",
          "model_name": "HBoxModel",
          "model_module_version": "1.5.0",
          "state": {
            "_dom_classes": [],
            "_model_module": "@jupyter-widgets/controls",
            "_model_module_version": "1.5.0",
            "_model_name": "HBoxModel",
            "_view_count": null,
            "_view_module": "@jupyter-widgets/controls",
            "_view_module_version": "1.5.0",
            "_view_name": "HBoxView",
            "box_style": "",
            "children": [
              "IPY_MODEL_752646fbbc34405b8588adf7de0337f5",
              "IPY_MODEL_e199ef507f5941feb5af14b36880e0ab",
              "IPY_MODEL_98955b81dde84e7d8422c9fdfadad633"
            ],
            "layout": "IPY_MODEL_b96d411ed10e4200be0fa75f6e71fb79"
          }
        },
        "752646fbbc34405b8588adf7de0337f5": {
          "model_module": "@jupyter-widgets/controls",
          "model_name": "HTMLModel",
          "model_module_version": "1.5.0",
          "state": {
            "_dom_classes": [],
            "_model_module": "@jupyter-widgets/controls",
            "_model_module_version": "1.5.0",
            "_model_name": "HTMLModel",
            "_view_count": null,
            "_view_module": "@jupyter-widgets/controls",
            "_view_module_version": "1.5.0",
            "_view_name": "HTMLView",
            "description": "",
            "description_tooltip": null,
            "layout": "IPY_MODEL_b9801c9482884551b936205e758255ca",
            "placeholder": "​",
            "style": "IPY_MODEL_4b17ef520c46437bb6c977f05e00822f",
            "value": "  0%"
          }
        },
        "e199ef507f5941feb5af14b36880e0ab": {
          "model_module": "@jupyter-widgets/controls",
          "model_name": "FloatProgressModel",
          "model_module_version": "1.5.0",
          "state": {
            "_dom_classes": [],
            "_model_module": "@jupyter-widgets/controls",
            "_model_module_version": "1.5.0",
            "_model_name": "FloatProgressModel",
            "_view_count": null,
            "_view_module": "@jupyter-widgets/controls",
            "_view_module_version": "1.5.0",
            "_view_name": "ProgressView",
            "bar_style": "danger",
            "description": "",
            "description_tooltip": null,
            "layout": "IPY_MODEL_ce343a548ee14aa9a5658edca24fde88",
            "max": 3957761,
            "min": 0,
            "orientation": "horizontal",
            "style": "IPY_MODEL_66935cbd4c9a4233bb738e282e96d638",
            "value": 105
          }
        },
        "98955b81dde84e7d8422c9fdfadad633": {
          "model_module": "@jupyter-widgets/controls",
          "model_name": "HTMLModel",
          "model_module_version": "1.5.0",
          "state": {
            "_dom_classes": [],
            "_model_module": "@jupyter-widgets/controls",
            "_model_module_version": "1.5.0",
            "_model_name": "HTMLModel",
            "_view_count": null,
            "_view_module": "@jupyter-widgets/controls",
            "_view_module_version": "1.5.0",
            "_view_name": "HTMLView",
            "description": "",
            "description_tooltip": null,
            "layout": "IPY_MODEL_677921f0b7b243639c01080042a9b59d",
            "placeholder": "​",
            "style": "IPY_MODEL_6240c2eeebef4c44a7ed2bbce13660a0",
            "value": " 105/3957761 [00:00&lt;23:16, 2833.44it/s]"
          }
        },
        "b96d411ed10e4200be0fa75f6e71fb79": {
          "model_module": "@jupyter-widgets/base",
          "model_name": "LayoutModel",
          "model_module_version": "1.2.0",
          "state": {
            "_model_module": "@jupyter-widgets/base",
            "_model_module_version": "1.2.0",
            "_model_name": "LayoutModel",
            "_view_count": null,
            "_view_module": "@jupyter-widgets/base",
            "_view_module_version": "1.2.0",
            "_view_name": "LayoutView",
            "align_content": null,
            "align_items": null,
            "align_self": null,
            "border": null,
            "bottom": null,
            "display": null,
            "flex": null,
            "flex_flow": null,
            "grid_area": null,
            "grid_auto_columns": null,
            "grid_auto_flow": null,
            "grid_auto_rows": null,
            "grid_column": null,
            "grid_gap": null,
            "grid_row": null,
            "grid_template_areas": null,
            "grid_template_columns": null,
            "grid_template_rows": null,
            "height": null,
            "justify_content": null,
            "justify_items": null,
            "left": null,
            "margin": null,
            "max_height": null,
            "max_width": null,
            "min_height": null,
            "min_width": null,
            "object_fit": null,
            "object_position": null,
            "order": null,
            "overflow": null,
            "overflow_x": null,
            "overflow_y": null,
            "padding": null,
            "right": null,
            "top": null,
            "visibility": null,
            "width": null
          }
        },
        "b9801c9482884551b936205e758255ca": {
          "model_module": "@jupyter-widgets/base",
          "model_name": "LayoutModel",
          "model_module_version": "1.2.0",
          "state": {
            "_model_module": "@jupyter-widgets/base",
            "_model_module_version": "1.2.0",
            "_model_name": "LayoutModel",
            "_view_count": null,
            "_view_module": "@jupyter-widgets/base",
            "_view_module_version": "1.2.0",
            "_view_name": "LayoutView",
            "align_content": null,
            "align_items": null,
            "align_self": null,
            "border": null,
            "bottom": null,
            "display": null,
            "flex": null,
            "flex_flow": null,
            "grid_area": null,
            "grid_auto_columns": null,
            "grid_auto_flow": null,
            "grid_auto_rows": null,
            "grid_column": null,
            "grid_gap": null,
            "grid_row": null,
            "grid_template_areas": null,
            "grid_template_columns": null,
            "grid_template_rows": null,
            "height": null,
            "justify_content": null,
            "justify_items": null,
            "left": null,
            "margin": null,
            "max_height": null,
            "max_width": null,
            "min_height": null,
            "min_width": null,
            "object_fit": null,
            "object_position": null,
            "order": null,
            "overflow": null,
            "overflow_x": null,
            "overflow_y": null,
            "padding": null,
            "right": null,
            "top": null,
            "visibility": null,
            "width": null
          }
        },
        "4b17ef520c46437bb6c977f05e00822f": {
          "model_module": "@jupyter-widgets/controls",
          "model_name": "DescriptionStyleModel",
          "model_module_version": "1.5.0",
          "state": {
            "_model_module": "@jupyter-widgets/controls",
            "_model_module_version": "1.5.0",
            "_model_name": "DescriptionStyleModel",
            "_view_count": null,
            "_view_module": "@jupyter-widgets/base",
            "_view_module_version": "1.2.0",
            "_view_name": "StyleView",
            "description_width": ""
          }
        },
        "ce343a548ee14aa9a5658edca24fde88": {
          "model_module": "@jupyter-widgets/base",
          "model_name": "LayoutModel",
          "model_module_version": "1.2.0",
          "state": {
            "_model_module": "@jupyter-widgets/base",
            "_model_module_version": "1.2.0",
            "_model_name": "LayoutModel",
            "_view_count": null,
            "_view_module": "@jupyter-widgets/base",
            "_view_module_version": "1.2.0",
            "_view_name": "LayoutView",
            "align_content": null,
            "align_items": null,
            "align_self": null,
            "border": null,
            "bottom": null,
            "display": null,
            "flex": null,
            "flex_flow": null,
            "grid_area": null,
            "grid_auto_columns": null,
            "grid_auto_flow": null,
            "grid_auto_rows": null,
            "grid_column": null,
            "grid_gap": null,
            "grid_row": null,
            "grid_template_areas": null,
            "grid_template_columns": null,
            "grid_template_rows": null,
            "height": null,
            "justify_content": null,
            "justify_items": null,
            "left": null,
            "margin": null,
            "max_height": null,
            "max_width": null,
            "min_height": null,
            "min_width": null,
            "object_fit": null,
            "object_position": null,
            "order": null,
            "overflow": null,
            "overflow_x": null,
            "overflow_y": null,
            "padding": null,
            "right": null,
            "top": null,
            "visibility": null,
            "width": null
          }
        },
        "66935cbd4c9a4233bb738e282e96d638": {
          "model_module": "@jupyter-widgets/controls",
          "model_name": "ProgressStyleModel",
          "model_module_version": "1.5.0",
          "state": {
            "_model_module": "@jupyter-widgets/controls",
            "_model_module_version": "1.5.0",
            "_model_name": "ProgressStyleModel",
            "_view_count": null,
            "_view_module": "@jupyter-widgets/base",
            "_view_module_version": "1.2.0",
            "_view_name": "StyleView",
            "bar_color": null,
            "description_width": ""
          }
        },
        "677921f0b7b243639c01080042a9b59d": {
          "model_module": "@jupyter-widgets/base",
          "model_name": "LayoutModel",
          "model_module_version": "1.2.0",
          "state": {
            "_model_module": "@jupyter-widgets/base",
            "_model_module_version": "1.2.0",
            "_model_name": "LayoutModel",
            "_view_count": null,
            "_view_module": "@jupyter-widgets/base",
            "_view_module_version": "1.2.0",
            "_view_name": "LayoutView",
            "align_content": null,
            "align_items": null,
            "align_self": null,
            "border": null,
            "bottom": null,
            "display": null,
            "flex": null,
            "flex_flow": null,
            "grid_area": null,
            "grid_auto_columns": null,
            "grid_auto_flow": null,
            "grid_auto_rows": null,
            "grid_column": null,
            "grid_gap": null,
            "grid_row": null,
            "grid_template_areas": null,
            "grid_template_columns": null,
            "grid_template_rows": null,
            "height": null,
            "justify_content": null,
            "justify_items": null,
            "left": null,
            "margin": null,
            "max_height": null,
            "max_width": null,
            "min_height": null,
            "min_width": null,
            "object_fit": null,
            "object_position": null,
            "order": null,
            "overflow": null,
            "overflow_x": null,
            "overflow_y": null,
            "padding": null,
            "right": null,
            "top": null,
            "visibility": null,
            "width": null
          }
        },
        "6240c2eeebef4c44a7ed2bbce13660a0": {
          "model_module": "@jupyter-widgets/controls",
          "model_name": "DescriptionStyleModel",
          "model_module_version": "1.5.0",
          "state": {
            "_model_module": "@jupyter-widgets/controls",
            "_model_module_version": "1.5.0",
            "_model_name": "DescriptionStyleModel",
            "_view_count": null,
            "_view_module": "@jupyter-widgets/base",
            "_view_module_version": "1.2.0",
            "_view_name": "StyleView",
            "description_width": ""
          }
        },
        "5876dcfda47c498693724d31efc8f36c": {
          "model_module": "@jupyter-widgets/controls",
          "model_name": "HBoxModel",
          "model_module_version": "1.5.0",
          "state": {
            "_dom_classes": [],
            "_model_module": "@jupyter-widgets/controls",
            "_model_module_version": "1.5.0",
            "_model_name": "HBoxModel",
            "_view_count": null,
            "_view_module": "@jupyter-widgets/controls",
            "_view_module_version": "1.5.0",
            "_view_name": "HBoxView",
            "box_style": "",
            "children": [
              "IPY_MODEL_ab00d92f87ef4684b777ed56e2fd213f",
              "IPY_MODEL_b7e1bf340cad4b75ae368c22266380bd",
              "IPY_MODEL_d9ee2ab131a145adbfaced6be3facfed"
            ],
            "layout": "IPY_MODEL_3fa3f8e4dee04c4c9fe2f083dea7de63"
          }
        },
        "ab00d92f87ef4684b777ed56e2fd213f": {
          "model_module": "@jupyter-widgets/controls",
          "model_name": "HTMLModel",
          "model_module_version": "1.5.0",
          "state": {
            "_dom_classes": [],
            "_model_module": "@jupyter-widgets/controls",
            "_model_module_version": "1.5.0",
            "_model_name": "HTMLModel",
            "_view_count": null,
            "_view_module": "@jupyter-widgets/controls",
            "_view_module_version": "1.5.0",
            "_view_name": "HTMLView",
            "description": "",
            "description_tooltip": null,
            "layout": "IPY_MODEL_be25c7ca62144d9dbaf09ecf9ad8be51",
            "placeholder": "​",
            "style": "IPY_MODEL_e60830fed160410babb4fc9c4ce08a38",
            "value": "  0%"
          }
        },
        "b7e1bf340cad4b75ae368c22266380bd": {
          "model_module": "@jupyter-widgets/controls",
          "model_name": "FloatProgressModel",
          "model_module_version": "1.5.0",
          "state": {
            "_dom_classes": [],
            "_model_module": "@jupyter-widgets/controls",
            "_model_module_version": "1.5.0",
            "_model_name": "FloatProgressModel",
            "_view_count": null,
            "_view_module": "@jupyter-widgets/controls",
            "_view_module_version": "1.5.0",
            "_view_name": "ProgressView",
            "bar_style": "danger",
            "description": "",
            "description_tooltip": null,
            "layout": "IPY_MODEL_47abd9ab5eff47e8bf27ac94c690d175",
            "max": 3957761,
            "min": 0,
            "orientation": "horizontal",
            "style": "IPY_MODEL_bc38a0b5728844a09a85a59db5017cdd",
            "value": 105
          }
        },
        "d9ee2ab131a145adbfaced6be3facfed": {
          "model_module": "@jupyter-widgets/controls",
          "model_name": "HTMLModel",
          "model_module_version": "1.5.0",
          "state": {
            "_dom_classes": [],
            "_model_module": "@jupyter-widgets/controls",
            "_model_module_version": "1.5.0",
            "_model_name": "HTMLModel",
            "_view_count": null,
            "_view_module": "@jupyter-widgets/controls",
            "_view_module_version": "1.5.0",
            "_view_name": "HTMLView",
            "description": "",
            "description_tooltip": null,
            "layout": "IPY_MODEL_978d52f71e22473ab80a5859ccc862be",
            "placeholder": "​",
            "style": "IPY_MODEL_fac055f0345a463cb3091e146eadf29f",
            "value": " 105/3957761 [00:00&lt;18:50, 3500.14it/s]"
          }
        },
        "3fa3f8e4dee04c4c9fe2f083dea7de63": {
          "model_module": "@jupyter-widgets/base",
          "model_name": "LayoutModel",
          "model_module_version": "1.2.0",
          "state": {
            "_model_module": "@jupyter-widgets/base",
            "_model_module_version": "1.2.0",
            "_model_name": "LayoutModel",
            "_view_count": null,
            "_view_module": "@jupyter-widgets/base",
            "_view_module_version": "1.2.0",
            "_view_name": "LayoutView",
            "align_content": null,
            "align_items": null,
            "align_self": null,
            "border": null,
            "bottom": null,
            "display": null,
            "flex": null,
            "flex_flow": null,
            "grid_area": null,
            "grid_auto_columns": null,
            "grid_auto_flow": null,
            "grid_auto_rows": null,
            "grid_column": null,
            "grid_gap": null,
            "grid_row": null,
            "grid_template_areas": null,
            "grid_template_columns": null,
            "grid_template_rows": null,
            "height": null,
            "justify_content": null,
            "justify_items": null,
            "left": null,
            "margin": null,
            "max_height": null,
            "max_width": null,
            "min_height": null,
            "min_width": null,
            "object_fit": null,
            "object_position": null,
            "order": null,
            "overflow": null,
            "overflow_x": null,
            "overflow_y": null,
            "padding": null,
            "right": null,
            "top": null,
            "visibility": null,
            "width": null
          }
        },
        "be25c7ca62144d9dbaf09ecf9ad8be51": {
          "model_module": "@jupyter-widgets/base",
          "model_name": "LayoutModel",
          "model_module_version": "1.2.0",
          "state": {
            "_model_module": "@jupyter-widgets/base",
            "_model_module_version": "1.2.0",
            "_model_name": "LayoutModel",
            "_view_count": null,
            "_view_module": "@jupyter-widgets/base",
            "_view_module_version": "1.2.0",
            "_view_name": "LayoutView",
            "align_content": null,
            "align_items": null,
            "align_self": null,
            "border": null,
            "bottom": null,
            "display": null,
            "flex": null,
            "flex_flow": null,
            "grid_area": null,
            "grid_auto_columns": null,
            "grid_auto_flow": null,
            "grid_auto_rows": null,
            "grid_column": null,
            "grid_gap": null,
            "grid_row": null,
            "grid_template_areas": null,
            "grid_template_columns": null,
            "grid_template_rows": null,
            "height": null,
            "justify_content": null,
            "justify_items": null,
            "left": null,
            "margin": null,
            "max_height": null,
            "max_width": null,
            "min_height": null,
            "min_width": null,
            "object_fit": null,
            "object_position": null,
            "order": null,
            "overflow": null,
            "overflow_x": null,
            "overflow_y": null,
            "padding": null,
            "right": null,
            "top": null,
            "visibility": null,
            "width": null
          }
        },
        "e60830fed160410babb4fc9c4ce08a38": {
          "model_module": "@jupyter-widgets/controls",
          "model_name": "DescriptionStyleModel",
          "model_module_version": "1.5.0",
          "state": {
            "_model_module": "@jupyter-widgets/controls",
            "_model_module_version": "1.5.0",
            "_model_name": "DescriptionStyleModel",
            "_view_count": null,
            "_view_module": "@jupyter-widgets/base",
            "_view_module_version": "1.2.0",
            "_view_name": "StyleView",
            "description_width": ""
          }
        },
        "47abd9ab5eff47e8bf27ac94c690d175": {
          "model_module": "@jupyter-widgets/base",
          "model_name": "LayoutModel",
          "model_module_version": "1.2.0",
          "state": {
            "_model_module": "@jupyter-widgets/base",
            "_model_module_version": "1.2.0",
            "_model_name": "LayoutModel",
            "_view_count": null,
            "_view_module": "@jupyter-widgets/base",
            "_view_module_version": "1.2.0",
            "_view_name": "LayoutView",
            "align_content": null,
            "align_items": null,
            "align_self": null,
            "border": null,
            "bottom": null,
            "display": null,
            "flex": null,
            "flex_flow": null,
            "grid_area": null,
            "grid_auto_columns": null,
            "grid_auto_flow": null,
            "grid_auto_rows": null,
            "grid_column": null,
            "grid_gap": null,
            "grid_row": null,
            "grid_template_areas": null,
            "grid_template_columns": null,
            "grid_template_rows": null,
            "height": null,
            "justify_content": null,
            "justify_items": null,
            "left": null,
            "margin": null,
            "max_height": null,
            "max_width": null,
            "min_height": null,
            "min_width": null,
            "object_fit": null,
            "object_position": null,
            "order": null,
            "overflow": null,
            "overflow_x": null,
            "overflow_y": null,
            "padding": null,
            "right": null,
            "top": null,
            "visibility": null,
            "width": null
          }
        },
        "bc38a0b5728844a09a85a59db5017cdd": {
          "model_module": "@jupyter-widgets/controls",
          "model_name": "ProgressStyleModel",
          "model_module_version": "1.5.0",
          "state": {
            "_model_module": "@jupyter-widgets/controls",
            "_model_module_version": "1.5.0",
            "_model_name": "ProgressStyleModel",
            "_view_count": null,
            "_view_module": "@jupyter-widgets/base",
            "_view_module_version": "1.2.0",
            "_view_name": "StyleView",
            "bar_color": null,
            "description_width": ""
          }
        },
        "978d52f71e22473ab80a5859ccc862be": {
          "model_module": "@jupyter-widgets/base",
          "model_name": "LayoutModel",
          "model_module_version": "1.2.0",
          "state": {
            "_model_module": "@jupyter-widgets/base",
            "_model_module_version": "1.2.0",
            "_model_name": "LayoutModel",
            "_view_count": null,
            "_view_module": "@jupyter-widgets/base",
            "_view_module_version": "1.2.0",
            "_view_name": "LayoutView",
            "align_content": null,
            "align_items": null,
            "align_self": null,
            "border": null,
            "bottom": null,
            "display": null,
            "flex": null,
            "flex_flow": null,
            "grid_area": null,
            "grid_auto_columns": null,
            "grid_auto_flow": null,
            "grid_auto_rows": null,
            "grid_column": null,
            "grid_gap": null,
            "grid_row": null,
            "grid_template_areas": null,
            "grid_template_columns": null,
            "grid_template_rows": null,
            "height": null,
            "justify_content": null,
            "justify_items": null,
            "left": null,
            "margin": null,
            "max_height": null,
            "max_width": null,
            "min_height": null,
            "min_width": null,
            "object_fit": null,
            "object_position": null,
            "order": null,
            "overflow": null,
            "overflow_x": null,
            "overflow_y": null,
            "padding": null,
            "right": null,
            "top": null,
            "visibility": null,
            "width": null
          }
        },
        "fac055f0345a463cb3091e146eadf29f": {
          "model_module": "@jupyter-widgets/controls",
          "model_name": "DescriptionStyleModel",
          "model_module_version": "1.5.0",
          "state": {
            "_model_module": "@jupyter-widgets/controls",
            "_model_module_version": "1.5.0",
            "_model_name": "DescriptionStyleModel",
            "_view_count": null,
            "_view_module": "@jupyter-widgets/base",
            "_view_module_version": "1.2.0",
            "_view_name": "StyleView",
            "description_width": ""
          }
        },
        "e4d41375859b424e8cfeea79ea84f28b": {
          "model_module": "@jupyter-widgets/controls",
          "model_name": "HBoxModel",
          "model_module_version": "1.5.0",
          "state": {
            "_dom_classes": [],
            "_model_module": "@jupyter-widgets/controls",
            "_model_module_version": "1.5.0",
            "_model_name": "HBoxModel",
            "_view_count": null,
            "_view_module": "@jupyter-widgets/controls",
            "_view_module_version": "1.5.0",
            "_view_name": "HBoxView",
            "box_style": "",
            "children": [
              "IPY_MODEL_4ee1d4efa72a47ffb18eaa7e0bb9027e",
              "IPY_MODEL_26414d55e43e4fa5999a5c4b493dfd61",
              "IPY_MODEL_0b1a8046934742a5ae95066ff429a0fa"
            ],
            "layout": "IPY_MODEL_9a4f18dd05124bc3bb1bdbfeb3145c78"
          }
        },
        "4ee1d4efa72a47ffb18eaa7e0bb9027e": {
          "model_module": "@jupyter-widgets/controls",
          "model_name": "HTMLModel",
          "model_module_version": "1.5.0",
          "state": {
            "_dom_classes": [],
            "_model_module": "@jupyter-widgets/controls",
            "_model_module_version": "1.5.0",
            "_model_name": "HTMLModel",
            "_view_count": null,
            "_view_module": "@jupyter-widgets/controls",
            "_view_module_version": "1.5.0",
            "_view_name": "HTMLView",
            "description": "",
            "description_tooltip": null,
            "layout": "IPY_MODEL_0ed289fedf8d4bf3b9c892e33df49af0",
            "placeholder": "​",
            "style": "IPY_MODEL_1dfba070dc464caf9942a612bfa4cc26",
            "value": "100%"
          }
        },
        "26414d55e43e4fa5999a5c4b493dfd61": {
          "model_module": "@jupyter-widgets/controls",
          "model_name": "FloatProgressModel",
          "model_module_version": "1.5.0",
          "state": {
            "_dom_classes": [],
            "_model_module": "@jupyter-widgets/controls",
            "_model_module_version": "1.5.0",
            "_model_name": "FloatProgressModel",
            "_view_count": null,
            "_view_module": "@jupyter-widgets/controls",
            "_view_module_version": "1.5.0",
            "_view_name": "ProgressView",
            "bar_style": "success",
            "description": "",
            "description_tooltip": null,
            "layout": "IPY_MODEL_95daa599ec7e4795b9bd6f411312aa88",
            "max": 3957761,
            "min": 0,
            "orientation": "horizontal",
            "style": "IPY_MODEL_c0e304699cd64a0f85927f22056ecd4b",
            "value": 3957761
          }
        },
        "0b1a8046934742a5ae95066ff429a0fa": {
          "model_module": "@jupyter-widgets/controls",
          "model_name": "HTMLModel",
          "model_module_version": "1.5.0",
          "state": {
            "_dom_classes": [],
            "_model_module": "@jupyter-widgets/controls",
            "_model_module_version": "1.5.0",
            "_model_name": "HTMLModel",
            "_view_count": null,
            "_view_module": "@jupyter-widgets/controls",
            "_view_module_version": "1.5.0",
            "_view_name": "HTMLView",
            "description": "",
            "description_tooltip": null,
            "layout": "IPY_MODEL_01d5d6b8787841c09491cf70daa00f47",
            "placeholder": "​",
            "style": "IPY_MODEL_f50dd158ddc84f7cbdfabccc2829c2f6",
            "value": " 3957761/3957761 [07:11&lt;00:00, 11669.33it/s]"
          }
        },
        "9a4f18dd05124bc3bb1bdbfeb3145c78": {
          "model_module": "@jupyter-widgets/base",
          "model_name": "LayoutModel",
          "model_module_version": "1.2.0",
          "state": {
            "_model_module": "@jupyter-widgets/base",
            "_model_module_version": "1.2.0",
            "_model_name": "LayoutModel",
            "_view_count": null,
            "_view_module": "@jupyter-widgets/base",
            "_view_module_version": "1.2.0",
            "_view_name": "LayoutView",
            "align_content": null,
            "align_items": null,
            "align_self": null,
            "border": null,
            "bottom": null,
            "display": null,
            "flex": null,
            "flex_flow": null,
            "grid_area": null,
            "grid_auto_columns": null,
            "grid_auto_flow": null,
            "grid_auto_rows": null,
            "grid_column": null,
            "grid_gap": null,
            "grid_row": null,
            "grid_template_areas": null,
            "grid_template_columns": null,
            "grid_template_rows": null,
            "height": null,
            "justify_content": null,
            "justify_items": null,
            "left": null,
            "margin": null,
            "max_height": null,
            "max_width": null,
            "min_height": null,
            "min_width": null,
            "object_fit": null,
            "object_position": null,
            "order": null,
            "overflow": null,
            "overflow_x": null,
            "overflow_y": null,
            "padding": null,
            "right": null,
            "top": null,
            "visibility": null,
            "width": null
          }
        },
        "0ed289fedf8d4bf3b9c892e33df49af0": {
          "model_module": "@jupyter-widgets/base",
          "model_name": "LayoutModel",
          "model_module_version": "1.2.0",
          "state": {
            "_model_module": "@jupyter-widgets/base",
            "_model_module_version": "1.2.0",
            "_model_name": "LayoutModel",
            "_view_count": null,
            "_view_module": "@jupyter-widgets/base",
            "_view_module_version": "1.2.0",
            "_view_name": "LayoutView",
            "align_content": null,
            "align_items": null,
            "align_self": null,
            "border": null,
            "bottom": null,
            "display": null,
            "flex": null,
            "flex_flow": null,
            "grid_area": null,
            "grid_auto_columns": null,
            "grid_auto_flow": null,
            "grid_auto_rows": null,
            "grid_column": null,
            "grid_gap": null,
            "grid_row": null,
            "grid_template_areas": null,
            "grid_template_columns": null,
            "grid_template_rows": null,
            "height": null,
            "justify_content": null,
            "justify_items": null,
            "left": null,
            "margin": null,
            "max_height": null,
            "max_width": null,
            "min_height": null,
            "min_width": null,
            "object_fit": null,
            "object_position": null,
            "order": null,
            "overflow": null,
            "overflow_x": null,
            "overflow_y": null,
            "padding": null,
            "right": null,
            "top": null,
            "visibility": null,
            "width": null
          }
        },
        "1dfba070dc464caf9942a612bfa4cc26": {
          "model_module": "@jupyter-widgets/controls",
          "model_name": "DescriptionStyleModel",
          "model_module_version": "1.5.0",
          "state": {
            "_model_module": "@jupyter-widgets/controls",
            "_model_module_version": "1.5.0",
            "_model_name": "DescriptionStyleModel",
            "_view_count": null,
            "_view_module": "@jupyter-widgets/base",
            "_view_module_version": "1.2.0",
            "_view_name": "StyleView",
            "description_width": ""
          }
        },
        "95daa599ec7e4795b9bd6f411312aa88": {
          "model_module": "@jupyter-widgets/base",
          "model_name": "LayoutModel",
          "model_module_version": "1.2.0",
          "state": {
            "_model_module": "@jupyter-widgets/base",
            "_model_module_version": "1.2.0",
            "_model_name": "LayoutModel",
            "_view_count": null,
            "_view_module": "@jupyter-widgets/base",
            "_view_module_version": "1.2.0",
            "_view_name": "LayoutView",
            "align_content": null,
            "align_items": null,
            "align_self": null,
            "border": null,
            "bottom": null,
            "display": null,
            "flex": null,
            "flex_flow": null,
            "grid_area": null,
            "grid_auto_columns": null,
            "grid_auto_flow": null,
            "grid_auto_rows": null,
            "grid_column": null,
            "grid_gap": null,
            "grid_row": null,
            "grid_template_areas": null,
            "grid_template_columns": null,
            "grid_template_rows": null,
            "height": null,
            "justify_content": null,
            "justify_items": null,
            "left": null,
            "margin": null,
            "max_height": null,
            "max_width": null,
            "min_height": null,
            "min_width": null,
            "object_fit": null,
            "object_position": null,
            "order": null,
            "overflow": null,
            "overflow_x": null,
            "overflow_y": null,
            "padding": null,
            "right": null,
            "top": null,
            "visibility": null,
            "width": null
          }
        },
        "c0e304699cd64a0f85927f22056ecd4b": {
          "model_module": "@jupyter-widgets/controls",
          "model_name": "ProgressStyleModel",
          "model_module_version": "1.5.0",
          "state": {
            "_model_module": "@jupyter-widgets/controls",
            "_model_module_version": "1.5.0",
            "_model_name": "ProgressStyleModel",
            "_view_count": null,
            "_view_module": "@jupyter-widgets/base",
            "_view_module_version": "1.2.0",
            "_view_name": "StyleView",
            "bar_color": null,
            "description_width": ""
          }
        },
        "01d5d6b8787841c09491cf70daa00f47": {
          "model_module": "@jupyter-widgets/base",
          "model_name": "LayoutModel",
          "model_module_version": "1.2.0",
          "state": {
            "_model_module": "@jupyter-widgets/base",
            "_model_module_version": "1.2.0",
            "_model_name": "LayoutModel",
            "_view_count": null,
            "_view_module": "@jupyter-widgets/base",
            "_view_module_version": "1.2.0",
            "_view_name": "LayoutView",
            "align_content": null,
            "align_items": null,
            "align_self": null,
            "border": null,
            "bottom": null,
            "display": null,
            "flex": null,
            "flex_flow": null,
            "grid_area": null,
            "grid_auto_columns": null,
            "grid_auto_flow": null,
            "grid_auto_rows": null,
            "grid_column": null,
            "grid_gap": null,
            "grid_row": null,
            "grid_template_areas": null,
            "grid_template_columns": null,
            "grid_template_rows": null,
            "height": null,
            "justify_content": null,
            "justify_items": null,
            "left": null,
            "margin": null,
            "max_height": null,
            "max_width": null,
            "min_height": null,
            "min_width": null,
            "object_fit": null,
            "object_position": null,
            "order": null,
            "overflow": null,
            "overflow_x": null,
            "overflow_y": null,
            "padding": null,
            "right": null,
            "top": null,
            "visibility": null,
            "width": null
          }
        },
        "f50dd158ddc84f7cbdfabccc2829c2f6": {
          "model_module": "@jupyter-widgets/controls",
          "model_name": "DescriptionStyleModel",
          "model_module_version": "1.5.0",
          "state": {
            "_model_module": "@jupyter-widgets/controls",
            "_model_module_version": "1.5.0",
            "_model_name": "DescriptionStyleModel",
            "_view_count": null,
            "_view_module": "@jupyter-widgets/base",
            "_view_module_version": "1.2.0",
            "_view_name": "StyleView",
            "description_width": ""
          }
        },
        "996c21c74d0f4bdbac5462062c9b9e06": {
          "model_module": "@jupyter-widgets/controls",
          "model_name": "HBoxModel",
          "model_module_version": "1.5.0",
          "state": {
            "_dom_classes": [],
            "_model_module": "@jupyter-widgets/controls",
            "_model_module_version": "1.5.0",
            "_model_name": "HBoxModel",
            "_view_count": null,
            "_view_module": "@jupyter-widgets/controls",
            "_view_module_version": "1.5.0",
            "_view_name": "HBoxView",
            "box_style": "",
            "children": [
              "IPY_MODEL_ca64b40b1c7d4c89afb34f9eb6ccdd0d",
              "IPY_MODEL_04dc6471c6904ebeb7062e30f74fc089",
              "IPY_MODEL_3c43fd85847a465f9eb650e5878b1fa9"
            ],
            "layout": "IPY_MODEL_92dc8b253d2348b9b8478ee02e4ce567"
          }
        },
        "ca64b40b1c7d4c89afb34f9eb6ccdd0d": {
          "model_module": "@jupyter-widgets/controls",
          "model_name": "HTMLModel",
          "model_module_version": "1.5.0",
          "state": {
            "_dom_classes": [],
            "_model_module": "@jupyter-widgets/controls",
            "_model_module_version": "1.5.0",
            "_model_name": "HTMLModel",
            "_view_count": null,
            "_view_module": "@jupyter-widgets/controls",
            "_view_module_version": "1.5.0",
            "_view_name": "HTMLView",
            "description": "",
            "description_tooltip": null,
            "layout": "IPY_MODEL_8277c90f12d444ca82be61d59230c3ae",
            "placeholder": "​",
            "style": "IPY_MODEL_a4943a83ef554ae8b09883c252ec8e46",
            "value": "  0%"
          }
        },
        "04dc6471c6904ebeb7062e30f74fc089": {
          "model_module": "@jupyter-widgets/controls",
          "model_name": "FloatProgressModel",
          "model_module_version": "1.5.0",
          "state": {
            "_dom_classes": [],
            "_model_module": "@jupyter-widgets/controls",
            "_model_module_version": "1.5.0",
            "_model_name": "FloatProgressModel",
            "_view_count": null,
            "_view_module": "@jupyter-widgets/controls",
            "_view_module_version": "1.5.0",
            "_view_name": "ProgressView",
            "bar_style": "danger",
            "description": "",
            "description_tooltip": null,
            "layout": "IPY_MODEL_526f968197c343eba158cb54b7c9e13b",
            "max": 918173,
            "min": 0,
            "orientation": "horizontal",
            "style": "IPY_MODEL_022015f8fae8404a80ee74b236c8faf7",
            "value": 6
          }
        },
        "3c43fd85847a465f9eb650e5878b1fa9": {
          "model_module": "@jupyter-widgets/controls",
          "model_name": "HTMLModel",
          "model_module_version": "1.5.0",
          "state": {
            "_dom_classes": [],
            "_model_module": "@jupyter-widgets/controls",
            "_model_module_version": "1.5.0",
            "_model_name": "HTMLModel",
            "_view_count": null,
            "_view_module": "@jupyter-widgets/controls",
            "_view_module_version": "1.5.0",
            "_view_name": "HTMLView",
            "description": "",
            "description_tooltip": null,
            "layout": "IPY_MODEL_0d908e77434e4e209e84250b3f048007",
            "placeholder": "​",
            "style": "IPY_MODEL_83d3cc3cfdf84ba19c021aaac7ab6854",
            "value": " 6/918173 [00:00&lt;1:16:05, 201.09it/s]"
          }
        },
        "92dc8b253d2348b9b8478ee02e4ce567": {
          "model_module": "@jupyter-widgets/base",
          "model_name": "LayoutModel",
          "model_module_version": "1.2.0",
          "state": {
            "_model_module": "@jupyter-widgets/base",
            "_model_module_version": "1.2.0",
            "_model_name": "LayoutModel",
            "_view_count": null,
            "_view_module": "@jupyter-widgets/base",
            "_view_module_version": "1.2.0",
            "_view_name": "LayoutView",
            "align_content": null,
            "align_items": null,
            "align_self": null,
            "border": null,
            "bottom": null,
            "display": null,
            "flex": null,
            "flex_flow": null,
            "grid_area": null,
            "grid_auto_columns": null,
            "grid_auto_flow": null,
            "grid_auto_rows": null,
            "grid_column": null,
            "grid_gap": null,
            "grid_row": null,
            "grid_template_areas": null,
            "grid_template_columns": null,
            "grid_template_rows": null,
            "height": null,
            "justify_content": null,
            "justify_items": null,
            "left": null,
            "margin": null,
            "max_height": null,
            "max_width": null,
            "min_height": null,
            "min_width": null,
            "object_fit": null,
            "object_position": null,
            "order": null,
            "overflow": null,
            "overflow_x": null,
            "overflow_y": null,
            "padding": null,
            "right": null,
            "top": null,
            "visibility": null,
            "width": null
          }
        },
        "8277c90f12d444ca82be61d59230c3ae": {
          "model_module": "@jupyter-widgets/base",
          "model_name": "LayoutModel",
          "model_module_version": "1.2.0",
          "state": {
            "_model_module": "@jupyter-widgets/base",
            "_model_module_version": "1.2.0",
            "_model_name": "LayoutModel",
            "_view_count": null,
            "_view_module": "@jupyter-widgets/base",
            "_view_module_version": "1.2.0",
            "_view_name": "LayoutView",
            "align_content": null,
            "align_items": null,
            "align_self": null,
            "border": null,
            "bottom": null,
            "display": null,
            "flex": null,
            "flex_flow": null,
            "grid_area": null,
            "grid_auto_columns": null,
            "grid_auto_flow": null,
            "grid_auto_rows": null,
            "grid_column": null,
            "grid_gap": null,
            "grid_row": null,
            "grid_template_areas": null,
            "grid_template_columns": null,
            "grid_template_rows": null,
            "height": null,
            "justify_content": null,
            "justify_items": null,
            "left": null,
            "margin": null,
            "max_height": null,
            "max_width": null,
            "min_height": null,
            "min_width": null,
            "object_fit": null,
            "object_position": null,
            "order": null,
            "overflow": null,
            "overflow_x": null,
            "overflow_y": null,
            "padding": null,
            "right": null,
            "top": null,
            "visibility": null,
            "width": null
          }
        },
        "a4943a83ef554ae8b09883c252ec8e46": {
          "model_module": "@jupyter-widgets/controls",
          "model_name": "DescriptionStyleModel",
          "model_module_version": "1.5.0",
          "state": {
            "_model_module": "@jupyter-widgets/controls",
            "_model_module_version": "1.5.0",
            "_model_name": "DescriptionStyleModel",
            "_view_count": null,
            "_view_module": "@jupyter-widgets/base",
            "_view_module_version": "1.2.0",
            "_view_name": "StyleView",
            "description_width": ""
          }
        },
        "526f968197c343eba158cb54b7c9e13b": {
          "model_module": "@jupyter-widgets/base",
          "model_name": "LayoutModel",
          "model_module_version": "1.2.0",
          "state": {
            "_model_module": "@jupyter-widgets/base",
            "_model_module_version": "1.2.0",
            "_model_name": "LayoutModel",
            "_view_count": null,
            "_view_module": "@jupyter-widgets/base",
            "_view_module_version": "1.2.0",
            "_view_name": "LayoutView",
            "align_content": null,
            "align_items": null,
            "align_self": null,
            "border": null,
            "bottom": null,
            "display": null,
            "flex": null,
            "flex_flow": null,
            "grid_area": null,
            "grid_auto_columns": null,
            "grid_auto_flow": null,
            "grid_auto_rows": null,
            "grid_column": null,
            "grid_gap": null,
            "grid_row": null,
            "grid_template_areas": null,
            "grid_template_columns": null,
            "grid_template_rows": null,
            "height": null,
            "justify_content": null,
            "justify_items": null,
            "left": null,
            "margin": null,
            "max_height": null,
            "max_width": null,
            "min_height": null,
            "min_width": null,
            "object_fit": null,
            "object_position": null,
            "order": null,
            "overflow": null,
            "overflow_x": null,
            "overflow_y": null,
            "padding": null,
            "right": null,
            "top": null,
            "visibility": null,
            "width": null
          }
        },
        "022015f8fae8404a80ee74b236c8faf7": {
          "model_module": "@jupyter-widgets/controls",
          "model_name": "ProgressStyleModel",
          "model_module_version": "1.5.0",
          "state": {
            "_model_module": "@jupyter-widgets/controls",
            "_model_module_version": "1.5.0",
            "_model_name": "ProgressStyleModel",
            "_view_count": null,
            "_view_module": "@jupyter-widgets/base",
            "_view_module_version": "1.2.0",
            "_view_name": "StyleView",
            "bar_color": null,
            "description_width": ""
          }
        },
        "0d908e77434e4e209e84250b3f048007": {
          "model_module": "@jupyter-widgets/base",
          "model_name": "LayoutModel",
          "model_module_version": "1.2.0",
          "state": {
            "_model_module": "@jupyter-widgets/base",
            "_model_module_version": "1.2.0",
            "_model_name": "LayoutModel",
            "_view_count": null,
            "_view_module": "@jupyter-widgets/base",
            "_view_module_version": "1.2.0",
            "_view_name": "LayoutView",
            "align_content": null,
            "align_items": null,
            "align_self": null,
            "border": null,
            "bottom": null,
            "display": null,
            "flex": null,
            "flex_flow": null,
            "grid_area": null,
            "grid_auto_columns": null,
            "grid_auto_flow": null,
            "grid_auto_rows": null,
            "grid_column": null,
            "grid_gap": null,
            "grid_row": null,
            "grid_template_areas": null,
            "grid_template_columns": null,
            "grid_template_rows": null,
            "height": null,
            "justify_content": null,
            "justify_items": null,
            "left": null,
            "margin": null,
            "max_height": null,
            "max_width": null,
            "min_height": null,
            "min_width": null,
            "object_fit": null,
            "object_position": null,
            "order": null,
            "overflow": null,
            "overflow_x": null,
            "overflow_y": null,
            "padding": null,
            "right": null,
            "top": null,
            "visibility": null,
            "width": null
          }
        },
        "83d3cc3cfdf84ba19c021aaac7ab6854": {
          "model_module": "@jupyter-widgets/controls",
          "model_name": "DescriptionStyleModel",
          "model_module_version": "1.5.0",
          "state": {
            "_model_module": "@jupyter-widgets/controls",
            "_model_module_version": "1.5.0",
            "_model_name": "DescriptionStyleModel",
            "_view_count": null,
            "_view_module": "@jupyter-widgets/base",
            "_view_module_version": "1.2.0",
            "_view_name": "StyleView",
            "description_width": ""
          }
        },
        "65f1b4a714424b35aeb8b44a0ab8376f": {
          "model_module": "@jupyter-widgets/controls",
          "model_name": "HBoxModel",
          "model_module_version": "1.5.0",
          "state": {
            "_dom_classes": [],
            "_model_module": "@jupyter-widgets/controls",
            "_model_module_version": "1.5.0",
            "_model_name": "HBoxModel",
            "_view_count": null,
            "_view_module": "@jupyter-widgets/controls",
            "_view_module_version": "1.5.0",
            "_view_name": "HBoxView",
            "box_style": "",
            "children": [
              "IPY_MODEL_61773e180fae494cb60d8f48b4c68c29",
              "IPY_MODEL_5e9e9961cf024077a0d75be9774628cc",
              "IPY_MODEL_9881ef28e55b4f9b8990de42bef8a5fb"
            ],
            "layout": "IPY_MODEL_635bc677c5d14aa0971e8b9d1784c9a9"
          }
        },
        "61773e180fae494cb60d8f48b4c68c29": {
          "model_module": "@jupyter-widgets/controls",
          "model_name": "HTMLModel",
          "model_module_version": "1.5.0",
          "state": {
            "_dom_classes": [],
            "_model_module": "@jupyter-widgets/controls",
            "_model_module_version": "1.5.0",
            "_model_name": "HTMLModel",
            "_view_count": null,
            "_view_module": "@jupyter-widgets/controls",
            "_view_module_version": "1.5.0",
            "_view_name": "HTMLView",
            "description": "",
            "description_tooltip": null,
            "layout": "IPY_MODEL_985ec72ebb8742b3a9b43f0633b8b056",
            "placeholder": "​",
            "style": "IPY_MODEL_bc5472f55d9b4db0a374455482f5fc76",
            "value": "100%"
          }
        },
        "5e9e9961cf024077a0d75be9774628cc": {
          "model_module": "@jupyter-widgets/controls",
          "model_name": "FloatProgressModel",
          "model_module_version": "1.5.0",
          "state": {
            "_dom_classes": [],
            "_model_module": "@jupyter-widgets/controls",
            "_model_module_version": "1.5.0",
            "_model_name": "FloatProgressModel",
            "_view_count": null,
            "_view_module": "@jupyter-widgets/controls",
            "_view_module_version": "1.5.0",
            "_view_name": "ProgressView",
            "bar_style": "danger",
            "description": "",
            "description_tooltip": null,
            "layout": "IPY_MODEL_46b16a80276e4c66951f199bc8982084",
            "max": 128000,
            "min": 0,
            "orientation": "horizontal",
            "style": "IPY_MODEL_88c6f18ad700474392453e9e92528084",
            "value": 128000
          }
        },
        "9881ef28e55b4f9b8990de42bef8a5fb": {
          "model_module": "@jupyter-widgets/controls",
          "model_name": "HTMLModel",
          "model_module_version": "1.5.0",
          "state": {
            "_dom_classes": [],
            "_model_module": "@jupyter-widgets/controls",
            "_model_module_version": "1.5.0",
            "_model_name": "HTMLModel",
            "_view_count": null,
            "_view_module": "@jupyter-widgets/controls",
            "_view_module_version": "1.5.0",
            "_view_name": "HTMLView",
            "description": "",
            "description_tooltip": null,
            "layout": "IPY_MODEL_be99558635f6498c83e8934734622b72",
            "placeholder": "​",
            "style": "IPY_MODEL_a5d63347b2e946d09327da357e89d943",
            "value": " 128000/128000 [00:25&lt;00:00, 4810.98it/s]"
          }
        },
        "635bc677c5d14aa0971e8b9d1784c9a9": {
          "model_module": "@jupyter-widgets/base",
          "model_name": "LayoutModel",
          "model_module_version": "1.2.0",
          "state": {
            "_model_module": "@jupyter-widgets/base",
            "_model_module_version": "1.2.0",
            "_model_name": "LayoutModel",
            "_view_count": null,
            "_view_module": "@jupyter-widgets/base",
            "_view_module_version": "1.2.0",
            "_view_name": "LayoutView",
            "align_content": null,
            "align_items": null,
            "align_self": null,
            "border": null,
            "bottom": null,
            "display": null,
            "flex": null,
            "flex_flow": null,
            "grid_area": null,
            "grid_auto_columns": null,
            "grid_auto_flow": null,
            "grid_auto_rows": null,
            "grid_column": null,
            "grid_gap": null,
            "grid_row": null,
            "grid_template_areas": null,
            "grid_template_columns": null,
            "grid_template_rows": null,
            "height": null,
            "justify_content": null,
            "justify_items": null,
            "left": null,
            "margin": null,
            "max_height": null,
            "max_width": null,
            "min_height": null,
            "min_width": null,
            "object_fit": null,
            "object_position": null,
            "order": null,
            "overflow": null,
            "overflow_x": null,
            "overflow_y": null,
            "padding": null,
            "right": null,
            "top": null,
            "visibility": null,
            "width": null
          }
        },
        "985ec72ebb8742b3a9b43f0633b8b056": {
          "model_module": "@jupyter-widgets/base",
          "model_name": "LayoutModel",
          "model_module_version": "1.2.0",
          "state": {
            "_model_module": "@jupyter-widgets/base",
            "_model_module_version": "1.2.0",
            "_model_name": "LayoutModel",
            "_view_count": null,
            "_view_module": "@jupyter-widgets/base",
            "_view_module_version": "1.2.0",
            "_view_name": "LayoutView",
            "align_content": null,
            "align_items": null,
            "align_self": null,
            "border": null,
            "bottom": null,
            "display": null,
            "flex": null,
            "flex_flow": null,
            "grid_area": null,
            "grid_auto_columns": null,
            "grid_auto_flow": null,
            "grid_auto_rows": null,
            "grid_column": null,
            "grid_gap": null,
            "grid_row": null,
            "grid_template_areas": null,
            "grid_template_columns": null,
            "grid_template_rows": null,
            "height": null,
            "justify_content": null,
            "justify_items": null,
            "left": null,
            "margin": null,
            "max_height": null,
            "max_width": null,
            "min_height": null,
            "min_width": null,
            "object_fit": null,
            "object_position": null,
            "order": null,
            "overflow": null,
            "overflow_x": null,
            "overflow_y": null,
            "padding": null,
            "right": null,
            "top": null,
            "visibility": null,
            "width": null
          }
        },
        "bc5472f55d9b4db0a374455482f5fc76": {
          "model_module": "@jupyter-widgets/controls",
          "model_name": "DescriptionStyleModel",
          "model_module_version": "1.5.0",
          "state": {
            "_model_module": "@jupyter-widgets/controls",
            "_model_module_version": "1.5.0",
            "_model_name": "DescriptionStyleModel",
            "_view_count": null,
            "_view_module": "@jupyter-widgets/base",
            "_view_module_version": "1.2.0",
            "_view_name": "StyleView",
            "description_width": ""
          }
        },
        "46b16a80276e4c66951f199bc8982084": {
          "model_module": "@jupyter-widgets/base",
          "model_name": "LayoutModel",
          "model_module_version": "1.2.0",
          "state": {
            "_model_module": "@jupyter-widgets/base",
            "_model_module_version": "1.2.0",
            "_model_name": "LayoutModel",
            "_view_count": null,
            "_view_module": "@jupyter-widgets/base",
            "_view_module_version": "1.2.0",
            "_view_name": "LayoutView",
            "align_content": null,
            "align_items": null,
            "align_self": null,
            "border": null,
            "bottom": null,
            "display": null,
            "flex": null,
            "flex_flow": null,
            "grid_area": null,
            "grid_auto_columns": null,
            "grid_auto_flow": null,
            "grid_auto_rows": null,
            "grid_column": null,
            "grid_gap": null,
            "grid_row": null,
            "grid_template_areas": null,
            "grid_template_columns": null,
            "grid_template_rows": null,
            "height": null,
            "justify_content": null,
            "justify_items": null,
            "left": null,
            "margin": null,
            "max_height": null,
            "max_width": null,
            "min_height": null,
            "min_width": null,
            "object_fit": null,
            "object_position": null,
            "order": null,
            "overflow": null,
            "overflow_x": null,
            "overflow_y": null,
            "padding": null,
            "right": null,
            "top": null,
            "visibility": null,
            "width": null
          }
        },
        "88c6f18ad700474392453e9e92528084": {
          "model_module": "@jupyter-widgets/controls",
          "model_name": "ProgressStyleModel",
          "model_module_version": "1.5.0",
          "state": {
            "_model_module": "@jupyter-widgets/controls",
            "_model_module_version": "1.5.0",
            "_model_name": "ProgressStyleModel",
            "_view_count": null,
            "_view_module": "@jupyter-widgets/base",
            "_view_module_version": "1.2.0",
            "_view_name": "StyleView",
            "bar_color": null,
            "description_width": ""
          }
        },
        "be99558635f6498c83e8934734622b72": {
          "model_module": "@jupyter-widgets/base",
          "model_name": "LayoutModel",
          "model_module_version": "1.2.0",
          "state": {
            "_model_module": "@jupyter-widgets/base",
            "_model_module_version": "1.2.0",
            "_model_name": "LayoutModel",
            "_view_count": null,
            "_view_module": "@jupyter-widgets/base",
            "_view_module_version": "1.2.0",
            "_view_name": "LayoutView",
            "align_content": null,
            "align_items": null,
            "align_self": null,
            "border": null,
            "bottom": null,
            "display": null,
            "flex": null,
            "flex_flow": null,
            "grid_area": null,
            "grid_auto_columns": null,
            "grid_auto_flow": null,
            "grid_auto_rows": null,
            "grid_column": null,
            "grid_gap": null,
            "grid_row": null,
            "grid_template_areas": null,
            "grid_template_columns": null,
            "grid_template_rows": null,
            "height": null,
            "justify_content": null,
            "justify_items": null,
            "left": null,
            "margin": null,
            "max_height": null,
            "max_width": null,
            "min_height": null,
            "min_width": null,
            "object_fit": null,
            "object_position": null,
            "order": null,
            "overflow": null,
            "overflow_x": null,
            "overflow_y": null,
            "padding": null,
            "right": null,
            "top": null,
            "visibility": null,
            "width": null
          }
        },
        "a5d63347b2e946d09327da357e89d943": {
          "model_module": "@jupyter-widgets/controls",
          "model_name": "DescriptionStyleModel",
          "model_module_version": "1.5.0",
          "state": {
            "_model_module": "@jupyter-widgets/controls",
            "_model_module_version": "1.5.0",
            "_model_name": "DescriptionStyleModel",
            "_view_count": null,
            "_view_module": "@jupyter-widgets/base",
            "_view_module_version": "1.2.0",
            "_view_name": "StyleView",
            "description_width": ""
          }
        }
      }
    }
  },
  "cells": [
    {
      "cell_type": "markdown",
      "source": [
        "# **21. BERT pretrained model 제작 [프로젝트]**\n",
        "<br>"
      ],
      "metadata": {
        "id": "o2gMPOdc2CCW"
      }
    },
    {
      "cell_type": "markdown",
      "source": [
        "# **21-1. 프로젝트 : mini BERT 만들기**\n",
        "<br>"
      ],
      "metadata": {
        "id": "-9accbqa2F4l"
      }
    },
    {
      "cell_type": "markdown",
      "source": [
        "### **라이브러리 버전 확인**\n",
        "<br>"
      ],
      "metadata": {
        "id": "vnxBNrhL2F8t"
      }
    },
    {
      "cell_type": "code",
      "execution_count": null,
      "metadata": {
        "id": "_fGUsWNA2BnT"
      },
      "outputs": [],
      "source": [
        "import tensorflow as tf\n",
        "import numpy as np\n",
        "import pandas as pd\n",
        "import matplotlib\n",
        "import json\n",
        "import re"
      ]
    },
    {
      "cell_type": "code",
      "source": [
        "print(tf.__version__)\n",
        "print(np.__version__)\n",
        "print(pd.__version__)\n",
        "print(matplotlib.__version__)\n",
        "print(json.__version__)\n",
        "print(re.__version__)"
      ],
      "metadata": {
        "colab": {
          "base_uri": "https://localhost:8080/"
        },
        "id": "e7YZHxaY24jN",
        "outputId": "e6bb8910-7696-43b0-f33e-ddb7e2d2103d"
      },
      "execution_count": null,
      "outputs": [
        {
          "output_type": "stream",
          "name": "stdout",
          "text": [
            "2.13.0\n",
            "1.23.5\n",
            "1.5.3\n",
            "3.7.1\n",
            "2.0.9\n",
            "2.2.1\n"
          ]
        }
      ]
    },
    {
      "cell_type": "markdown",
      "source": [
        "<br><br>"
      ],
      "metadata": {
        "id": "NbpuOVkg3Ees"
      }
    },
    {
      "cell_type": "markdown",
      "source": [
        "### **1. Tokenizer 준비**\n",
        "<br>"
      ],
      "metadata": {
        "id": "_RmRN_a93Egz"
      }
    },
    {
      "cell_type": "markdown",
      "source": [
        "SentencePiece 모델을 이용해 BERT의 MLM 학습용 데이터를 만드세요.\n",
        "\n",
        "이를 위해 한글 나무 위키 코퍼스로부터 8000의 vocab_size를 갖는 sentencepiece 모델을 만들어 보세요.\n",
        "\n",
        "BERT에 사용되는 주요 특수문자가 vocab에 포함되어야 합니다.\n",
        "\n",
        "<br>"
      ],
      "metadata": {
        "id": "g0wyCmUD3EjM"
      }
    },
    {
      "cell_type": "code",
      "source": [
        "# 토크나이저 생성"
      ],
      "metadata": {
        "id": "nhV1bTCn6d80"
      },
      "execution_count": null,
      "outputs": []
    },
    {
      "cell_type": "code",
      "source": [
        "from google.colab import drive\n",
        "drive.mount('/content/drive')"
      ],
      "metadata": {
        "colab": {
          "base_uri": "https://localhost:8080/"
        },
        "id": "w-sDlJK53h3N",
        "outputId": "fd81265e-cb35-4f59-e25f-a769649dead3"
      },
      "execution_count": null,
      "outputs": [
        {
          "output_type": "stream",
          "name": "stdout",
          "text": [
            "Mounted at /content/drive\n"
          ]
        }
      ]
    },
    {
      "cell_type": "code",
      "source": [
        "!ls /content/drive/MyDrive/Colab/05_Colab_AIFFEL_2023/09_GOINGDEEPER/01_GD_NLP/Quest_07/bert_pretrained/data"
      ],
      "metadata": {
        "colab": {
          "base_uri": "https://localhost:8080/"
        },
        "id": "JoT_FyXS3mLd",
        "outputId": "6bf0a07b-ed2f-428e-c600-a38e3b4eb9a9"
      },
      "execution_count": null,
      "outputs": [
        {
          "output_type": "stream",
          "name": "stdout",
          "text": [
            "bert_pre_train.json  kowiki.txt\n"
          ]
        }
      ]
    },
    {
      "cell_type": "code",
      "source": [
        "!pip install sentencepiece"
      ],
      "metadata": {
        "colab": {
          "base_uri": "https://localhost:8080/"
        },
        "id": "69DC3Lzy3_UX",
        "outputId": "c25af59d-08e9-4bf6-8680-06241a81c3db"
      },
      "execution_count": null,
      "outputs": [
        {
          "output_type": "stream",
          "name": "stdout",
          "text": [
            "Collecting sentencepiece\n",
            "  Downloading sentencepiece-0.1.99-cp310-cp310-manylinux_2_17_x86_64.manylinux2014_x86_64.whl (1.3 MB)\n",
            "\u001b[?25l     \u001b[90m━━━━━━━━━━━━━━━━━━━━━━━━━━━━━━━━━━━━━━━━\u001b[0m \u001b[32m0.0/1.3 MB\u001b[0m \u001b[31m?\u001b[0m eta \u001b[36m-:--:--\u001b[0m\r\u001b[2K     \u001b[91m━━\u001b[0m\u001b[91m╸\u001b[0m\u001b[90m━━━━━━━━━━━━━━━━━━━━━━━━━━━━━━━━━━━━━\u001b[0m \u001b[32m0.1/1.3 MB\u001b[0m \u001b[31m2.8 MB/s\u001b[0m eta \u001b[36m0:00:01\u001b[0m\r\u001b[2K     \u001b[91m━━━━━━━━━━━━━━━━━━━━━━━━━━━━━━━━━━━━━━━\u001b[0m\u001b[91m╸\u001b[0m \u001b[32m1.3/1.3 MB\u001b[0m \u001b[31m21.8 MB/s\u001b[0m eta \u001b[36m0:00:01\u001b[0m\r\u001b[2K     \u001b[90m━━━━━━━━━━━━━━━━━━━━━━━━━━━━━━━━━━━━━━━━\u001b[0m \u001b[32m1.3/1.3 MB\u001b[0m \u001b[31m18.2 MB/s\u001b[0m eta \u001b[36m0:00:00\u001b[0m\n",
            "\u001b[?25hInstalling collected packages: sentencepiece\n",
            "Successfully installed sentencepiece-0.1.99\n"
          ]
        }
      ]
    },
    {
      "cell_type": "code",
      "source": [
        "import sentencepiece as spm\n",
        "import os\n",
        "corpus_file = '/content/drive/MyDrive/Colab/05_Colab_AIFFEL_2023/09_GOINGDEEPER/01_GD_NLP/Quest_07/bert_pretrained/data/kowiki.txt'\n",
        "prefix = 'ko_8000'\n",
        "vocab_size = 8000\n",
        "\n",
        "spm.SentencePieceTrainer.train(\n",
        "    f\"--input={corpus_file} --model_prefix={prefix} --vocab_size={vocab_size + 7}\" +\n",
        "    \" --model_type=bpe\" +\n",
        "    \" --max_sentence_length=999999\" +  # 문장 최대 길이\n",
        "    \" --pad_id=0 --pad_piece=[PAD]\" +  # pad (0)\n",
        "    \" --unk_id=1 --unk_piece=[UNK]\" +  # unknown (1)\n",
        "    \" --bos_id=2 --bos_piece=[BOS]\" +  # begin of sequence (2)\n",
        "    \" --eos_id=3 --eos_piece=[EOS]\" +  # end of sequence (3)\n",
        "    \" --user_defined_symbols=[SEP],[CLS],[MASK]\")  # 사용자 정의 토큰"
      ],
      "metadata": {
        "id": "R-mLo3Sf3Cl0"
      },
      "execution_count": null,
      "outputs": []
    },
    {
      "cell_type": "markdown",
      "source": [
        "<br>"
      ],
      "metadata": {
        "id": "vK77KDRE4xp8"
      }
    },
    {
      "cell_type": "code",
      "source": [
        "# 토크나이저 저장/이동"
      ],
      "metadata": {
        "id": "dt3vjGa96hzr"
      },
      "execution_count": null,
      "outputs": []
    },
    {
      "cell_type": "code",
      "source": [
        "import shutil\n",
        "\n",
        "# 복사할 파일의 경로\n",
        "src1 = \"/content/ko_8000.model\"\n",
        "src2 = \"/content/ko_8000.vocab\"\n",
        "\n",
        "# 목적지 경로\n",
        "dest1 = \"/content/drive/MyDrive/Colab/05_Colab_AIFFEL_2023/09_GOINGDEEPER/01_GD_NLP/Quest_07/bert_pretrained/models/ko_8000.model\"\n",
        "dest2 = \"/content/drive/MyDrive/Colab/05_Colab_AIFFEL_2023/09_GOINGDEEPER/01_GD_NLP/Quest_07/bert_pretrained/models/ko_8000.vocab\"\n",
        "\n",
        "# 파일 복사\n",
        "shutil.copy(src1, dest1)\n",
        "shutil.copy(src2, dest2)"
      ],
      "metadata": {
        "colab": {
          "base_uri": "https://localhost:8080/",
          "height": 54
        },
        "id": "DRf3TCKp5dTc",
        "outputId": "12899f3b-bdb1-4e51-b597-6266617e9082"
      },
      "execution_count": null,
      "outputs": [
        {
          "output_type": "execute_result",
          "data": {
            "text/plain": [
              "'/content/drive/MyDrive/Colab/05_Colab_AIFFEL_2023/09_GOINGDEEPER/01_GD_NLP/Quest_07/bert_pretrained/models/ko_8000.vocab'"
            ],
            "application/vnd.google.colaboratory.intrinsic+json": {
              "type": "string"
            }
          },
          "metadata": {},
          "execution_count": 14
        }
      ]
    },
    {
      "cell_type": "code",
      "source": [
        "!ls /content/drive/MyDrive/Colab/05_Colab_AIFFEL_2023/09_GOINGDEEPER/01_GD_NLP/Quest_07/bert_pretrained/models"
      ],
      "metadata": {
        "colab": {
          "base_uri": "https://localhost:8080/"
        },
        "id": "luCnVWu04yFM",
        "outputId": "69ec084a-aa03-48f8-d285-e1675e296fd1"
      },
      "execution_count": null,
      "outputs": [
        {
          "output_type": "stream",
          "name": "stdout",
          "text": [
            "bert_pre_train.hdf5  ko_32000.vocab  ko_8000.vocab\n",
            "ko_32000.model\t     ko_8000.model\n"
          ]
        }
      ]
    },
    {
      "cell_type": "markdown",
      "source": [
        "<br>"
      ],
      "metadata": {
        "id": "7MzRubx06GkE"
      }
    },
    {
      "cell_type": "code",
      "source": [
        "# vocab loading"
      ],
      "metadata": {
        "id": "FTieZhBi6K6U"
      },
      "execution_count": null,
      "outputs": []
    },
    {
      "cell_type": "code",
      "source": [
        "model_dir ='/content/drive/MyDrive/Colab/05_Colab_AIFFEL_2023/09_GOINGDEEPER/01_GD_NLP/Quest_07/bert_pretrained/models'"
      ],
      "metadata": {
        "id": "5fvIsrok437j"
      },
      "execution_count": null,
      "outputs": []
    },
    {
      "cell_type": "code",
      "source": [
        "vocab = spm.SentencePieceProcessor()\n",
        "vocab.load(f\"{model_dir}/ko_8000.model\")"
      ],
      "metadata": {
        "colab": {
          "base_uri": "https://localhost:8080/"
        },
        "id": "KhaxNXbX6Qxj",
        "outputId": "d903d6f1-cb97-4417-8e87-fd5d2c8cfca1"
      },
      "execution_count": null,
      "outputs": [
        {
          "output_type": "execute_result",
          "data": {
            "text/plain": [
              "True"
            ]
          },
          "metadata": {},
          "execution_count": 18
        }
      ]
    },
    {
      "cell_type": "markdown",
      "source": [
        "<br>"
      ],
      "metadata": {
        "id": "5SibKnvb6n-E"
      }
    },
    {
      "cell_type": "code",
      "source": [
        "# 토크나이저 테스트:  특수 token 7개를 제외한 나머지 tokens 출력"
      ],
      "metadata": {
        "id": "bA2Xu6Lk6oKE"
      },
      "execution_count": null,
      "outputs": []
    },
    {
      "cell_type": "code",
      "source": [
        "vocab_list = []\n",
        "for id in range(7, len(vocab)):\n",
        "        if not vocab.is_unknown(id):\n",
        "            token = vocab.id_to_piece(id)  # 토큰 ID를 해당하는 텍스트(토큰)으로 변환\n",
        "            vocab_list.append(token)"
      ],
      "metadata": {
        "id": "zUy43Gru6oQb"
      },
      "execution_count": null,
      "outputs": []
    },
    {
      "cell_type": "code",
      "source": [
        "print(vocab_list)"
      ],
      "metadata": {
        "colab": {
          "base_uri": "https://localhost:8080/"
        },
        "id": "NbsSqgEo60fL",
        "outputId": "82334111-0f19-479f-bc7e-8113ea40ec04"
      },
      "execution_count": null,
      "outputs": [
        {
          "output_type": "stream",
          "name": "stdout",
          "text": [
            "['▁1', '▁이', '으로', '에서', '▁있', '▁2', '▁그', '▁대', '▁사', '이다', '었다', '▁지', '▁수', '▁19', '▁가', '▁시', '▁20', '▁기', '▁전', '▁아', '▁하', '▁있다', '▁다', '▁제', '했다', '하였', '▁일', '▁한', '▁중', '▁정', '▁주', '하는', '▁것', '▁자', '▁공', '▁인', '되었다', '▁경', '▁위', '▁유', '▁보', '하고', '▁3', '▁등', '▁부', '하였다', '▁조', '하여', '▁미', '▁동', '▁선', '▁나', '으며', '▁모', '▁연', '▁영', '▁의', '▁오', '▁마', '에는', '▁발', '▁소', '한다', '▁고', '▁개', '▁201', '▁구', '▁세', '▁도', '▁상', '▁비', '▁스', '▁국', '▁서', '▁후', '▁여', '▁200', '▁때', '▁4', '▁성', '▁해', '▁관', '▁있는', '▁신', '▁프', '▁대한', '부터', '▁5', '00', '▁방', '▁또', '지만', '▁(', '▁역', '되어', '▁않', '▁만', '▁\"', '▁장', '▁바', '까지', '▁무', '▁남', '▁통', '▁현', '▁교', '▁같', '에게', '▁내', '학교', '▁문', '▁출', '▁거', '▁포', '▁결', '된다', '▁《', '적인', '이라', '▁6', '▁우', '적으로', '▁불', '▁원', '▁최', '▁진', '▁생', '▁작', '▁어', '▁당', '국의', '▁노', '▁강', '▁알', '▁반', '▁7', '▁8', '▁계', '▁따', '▁파', '▁분', '▁없', '▁받', '▁말', '면서', '들이', 'or', '되었', '▁사용', \"▁'\", '▁두', '▁실', '에서는', '▁10', '▁리', '들은', '▁명', '▁함', '▁단', '▁이후', '하기', '▁예', '년에', '),', '▁한다', '▁안', '하게', '▁재', '▁9', '▁일본', '▁차', '▁설', '▁배', '▁에', 'er', '▁199', '▁다음', '았다', '▁특', '▁요', '였다', '▁18', '▁데', '▁종', '으나', '▁초', '▁군', '▁로', '▁독', '▁12', '()', 'la', '▁추', '▁김', '▁많', '▁그는', '▁~', '▁대한민', '▁되었다', '리아', '▁카', '▁활', '▁감', '▁라', '이며', '는데', '▁입', 'on', '▁건', '스트', '▁타', '▁다른', '▁형', '▁더', '▁지역', '▁S', '▁참', '▁운', '▁매', '▁같은', '▁태', '▁및', '▁그리', '▁양', '▁위해', '▁평', '▁음', '▁11', 'in', '▁행', '▁산', '주의', '▁적', '▁본', '▁)', '들어', '▁미국', '▁열', '▁과', '▁왕', '들의', '▁올', '▁승', '▁때문', '▁북', '▁크', '▁시작', '▁번', '기도', 'an', '▁프로', '▁코', '들을', '▁피', '▁호', '▁총', '레이', '▁C', '라는', '▁목', '되는', '▁화', '▁그러', '▁회', '▁베', '▁따라', '▁임', '▁각', '▁198', '▁또한', '하며', '▁변', '▁사람', '▁함께', '▁A', '▁표', '▁외', '▁속', '▁처', '▁f', '라고', '▁경우', '▁물', '▁달', '▁M', '이나', '▁위치', '▁현재', '▁약', '시아', '▁자신', '▁민', '▁직', '▁이름', 'mu', '하지', '▁새', '▁간', '▁학', '▁선수', '▁그의', '▁게', '▁F', '19', '▁드', '하다', '▁집', '▁기록', '▁영화', '▁당시', '되고', '▁한국', '▁for', '에도', '▁저', '▁항', '▁가장', '▁하나', '▁세계', '▁때문에', 'en', '▁사이', '기에', '▁그러나', 'mula', '▁존', '기를', '▁메', '▁점', '▁체', 'ar', '▁박', '▁뒤', '▁것을', '▁확', '▁15', '▁또는', '▁formula', '▁했다', '▁조선', '▁있으며', '스의', '▁것으로', '▁197', '▁된다', '▁국가', '▁있었다', '이라고', '▁의해', '▁T', '▁것이', '▁레', '▁16', '▁복', '▁청', '▁축', '▁토', '▁못', '▁투', '▁천', '▁광', '리는', '▁필', '지는', '▁그리고', '▁브', '일에', '▁통해', '▁활동', '졌다', '▁법', '▁합', '▁프랑', '▁철', '▁17', '▁야', 'al', '▁판', '등학교', '▁196', '▁근', '▁창', '▁증', '▁편', '▁삼', '했고', '▁디', '▁금', '▁B', '▁치', '▁살', 'ti', '▁많은', '▁것이다', '▁언', '리를', '▁들어', '▁첫', '이라는', '▁돌', '▁버', '▁심', '▁높', '▁대한민국', '▁아니', '▁다음과', '▁‘', '하였고', '▁쓰', '(,', '▁D', '랜드', '▁하는', '▁뜻', '하면서', '▁경기', '스는', '20', '▁충', '▁다시', '▁황', 'es', '▁플', '는다', '▁서울', '▁포함', '▁대해', '▁있었', '▁가지', '▁할', '이었다', '▁194', '▁I', '▁P', '▁여러', '▁애', '▁완', '▁네', '▁트', '▁K', '▁대한민국의', '대로', '▁14', '▁되', '사를', '▁병', '▁페', '로서', 'km', '▁백', '▁독일', '이고', '▁큰', '상을', '▁죽', '개의', '이는', '▁하였다', '되었고', '▁모두', '▁루', '▁패', '▁용', '▁연구', '보다', '▁순', '▁팀', '▁도시', '▁클', '▁권', '▁13', '▁사회', '▁195', '장을', '▁채', '위를', '▁은', '▁모든', '▁L', '▁히', '▁취', '▁처음', '▁알려', '성을', '니아', 'he', '지를', '▁규', '▁이루', '▁친', '▁시즌', '▁일부', '▁중국', '이었', '▁인구', '▁등이', '▁제작', '라이', '▁대표', '▁전쟁', '▁등의', '대의', '▁이용', 'ic', '회의', '▁감독', '▁정부', '▁식', '000', '▁축구', '▁손', '리에', '자가', 'is', '▁아이', '▁위한', '▁존재', '년부터', '▁끝', '▁구성', '▁있어', '도의', '▁R', '부분', '했으며', '▁허', '▁정치', '▁즉', '▁이상', '도로', '▁영국', '▁G', '▁프랑스', '나라', '▁-', '력을', '▁이어', '▁테', '거나', '▁것은', '▁중심', '이자', '년에는', '▁일반', '▁문제', '▁자신의', '▁길', '▁같다', '▁맡', '▁나타', '시에', '▁월', '▁러', '▁가능', '▁온', '▁작품', '▁앞', '▁논', '▁뉴', '▁환', '▁N', '▁게임', '기의', '▁개발', '▁걸', '▁맞', '▁리그', '▁곳', '▁이러', '▁동안', '▁갖', '▁193', '▁발견', '▁이러한', '▁기준', '▁캐', '▁접', '▁준', '리스', '▁H', '▁별', '▁새로', '▁하지만', '▁U', '▁주장', '▁30', '▁등을', '▁이는', 'at', '년대', '▁면', '▁위치한', '▁발표', '▁향', '▁E', '▁밀', '통령', '하면', '▁국제', 'le', '▁되어', '되었으며', '▁〈', '▁방송', '도록', '로부터', '▁농', '들과', '위원', '났다', '▁협', '(1', '▁지방', '시키', '▁볼', '로는', '▁잘', 're', '자의', '▁검', '▁의미', '기는', '▁2010', '▁섬', '▁이를', '▁대부분', '서는', '군의', 'it', '▁사건', '▁전투', 'ou', '리가', '기가', '다는', '▁공격', '에서도', '▁하고', '▁번째', '란드', '▁밝', '▁담', '월에', '▁폭', '사가', '▁육', '▁귀', '▁대회', '리카', '하였으며', '▁문화', '다고', '▁홍', '▁음악', '▁영향', '▁대학', '▁대통령', '▁막', '어진', '정을', '▁얻', '이트', '리그', '세기', '했던', '▁W', '년까지', '스를', '▁최초', '명의', '쪽으로', '▁참여', '▁미국의', '▁프로그', '▁석', '▁키', '▁극', '성이', '들에게', '▁설립', '▁날', '▁우승', '▁진행', '자를', '▁설치', '인의', '▁줄', '▁결과', '▁이에', '자는', '▁효', '▁특히', '▁앨', '와의', '도를', '▁발생', '10', '▁관계', '▁관련', '▁역사', '▁<', '▁일어', 'el', '▁곡', '▁배우', '▁된', '림픽', '▁2008', '▁책', '▁그녀', '디오', '▁절', '▁“', '▁봉', '▁25', '▁유럽', '▁사망', '▁발매', '리의', '▁만들어', '▁다양', '자로', '대를', '렸다', '가지', '▁암', '▁같이', '▁러시아', '▁이전', '▁생각', '이스', '▁독립', '▁형태', '▁부분', '(19', '▁갈', '므로', '요한', '▁태어', '▁시간', 'om', '▁사실', '▁폐', '▁글', '▁인해', '▁교육', '스터', '▁블', '▁헤', 'st', '▁주로', 'ol', '▁새로운', '▁소속', '▁질', '▁자유', '▁이것', '▁받아', '▁경제', '▁측', '▁2007', '▁좋', '▁수도', '▁지원', '▁2011', '▁받았다', '▁이탈', '▁있고', '스가', '▁2009', '르는', '▁기술', '▁올림픽', '라마', '▁2012', '▁중앙', '식을', '▁와', '▁계속', '과의', '▁침', '▁출신', '화국', '▁프로그램', '▁엔', '▁머', '▁t', '▁등장', '▁송', '번째', '▁지정', '▁잡', '▁로마', '▁커', '▁상태', '▁참가', '▁범', '▁구조', '▁있던', '도는', '▁누', '-1', 'ch', '▁192', '▁데뷔', '▁탄', '▁벌', '▁골', '학자', '▁2014', '▁결정', '▁매우', '▁성공', '다가', '사의', '▁선거', '▁탈', '부의', '▁운영', '▁난', '리즈', '인이', '이지', '대학교', 'am', '▁않았다', '프트', '▁아버', '▁혼', '으로서', '▁넘', '▁아들', '이션', '▁가지고', '르크', '▁J', '▁이탈리아', '▁2013', '전을', '▁21', ',000', '▁니', '▁타이', '드는', '▁몇', '비아', '▁일본의', '▁고려', '▁윤', '기로', '▁돌아', '▁없다', '명을', '▁급', '▁아니라', '▁슈', '하기도', '▁O', '▁들', '▁찾', '대에', '처럼', 'tion', '▁터', '에서의', 'ing', '▁차지', '해서', '▁결국', '▁만들', '장이', '도가', '했지만', '▁24', '▁생산', '▁없는', '왔다', '▁한편', '되지', '▁운동', '▁악', '▁싱', '▁2015', 'us', 'et', '▁해당', '▁최고', '▁행정', '▁떨', '▁0', '▁조직', 'il', '▁2006', '▁출연', '남도', 'ro', '▁않고', '우스', '하자', '운데', '▁아래', '▁22', '▁23', 'FA', '▁케', '사는', '▁앨범', '▁전체', '▁계획', '권을', '▁업', '▁좌', '▁많이', '간의', '▁이유', '▁내용', '▁2016', '▁2018', '부에', '▁쿠', '원을', '냈다', '▁가리', '명이', '▁라이', '▁폴', '화를', '▁음반', '스타', '▁여성', '▁둘', '▁유명', '▁따르', '군은', '수를', '▁방법', '선의', '일부터', '수의', '▁힘', '\")', '▁가운데', '▁주요', '스크', '스템', '초등학교', '으로써', '원의', '▁떠', '▁하여', '▁후보', '▁빠', 'of', '▁팔', '▁대학교', '▁역할', '▁제공', '▁데이', '▁남아', 'as', '▁국민', '음을', '▁스타', '장으로', '어로', '장은', '▁2017', '▁다양한', '▁묘', '▁월드', '▁28', '진다', '▁몸', '▁26', '사로', '지의', '나는', '▁이루어', '▁않는다', '▁거의', '▁콘', '였던', '▁표현', '대학', '▁각각', '▁컴', '자인', '▁드라마', '하던', '▁인터', '▁잠', '리고', '민주', '▁27', '▁모습', '했으나', '▁헌', '이의', '인민', '인다', '지가', '▁스페', '운동', '▁수상', '(\"', '전에', '스와', '수가', '▁연결', '▁칼', '머니', 'ra', 'BS', '▁졸', '하려', '▁100', '▁붙', 'de', '▁191', '▁마지', '됐다', '▁이름을', '▁이미', '으로는', '▁V', '▁격', '▁공식', '▁190', '_1', '▁경상', '▁,', '문화', '▁출전', '원이', '▁알려져', '▁얼', '▁임명', '▁필요', '▁2005', '▁시리즈', '스로', '성의', '▁따라서', '▁열린', '가는', '▁높은', '으로부터', '대표', '위원회', '점을', '▁작은', '▁마이', '▁몰', '력이', '▁마지막', '▁지구', '▁영향을', '▁시스템', '▁뛰', '제로', '▁인정', '▁공개', '▁직접', '▁과정', '▁정보', '▁능', '시켰', '지에', '▁2000', '대한', '▁빌', '▁따르면', '▁of', '었고', ').', '어를', '▁대신', '▁기원', '▁이야', '시의', '상의', '200', '▁보고', '이가', '▁2004', '▁개최', '지고', '▁진출', '▁추가', '▁대전', '▁기능', '북도', '▁항공', '▁센', '▁자연', '▁활약', '있다', '제를', '▁않은', '해야', '▁엘', '▁풍', '▁그리스', '▁평가', '》(', '군이', '▁c', '▁민주', '▁시대', '▁되는', '▁쇼', '▁29', '▁그룹', '▁정도', '▁있는데', '▁상황', '▁홈', '▁정의', '▁오스트', '▁녹', '▁생활', '▁유지', '▁브라', '▁눈', '▁바이', '▁그가', '갔다', '▁건물', '▁졸업', '▁말한다', '이드', '선을', '사에', '▁후에', 'ed', '▁변경', '▁비롯', '▁먹', '▁인도', '▁인구는', '▁철도', '▁서로', '▁노래', '▁역시', '수로', '▁발전', '▁크게', '▁퍼', '▁보여', '▁핵', '위에', '▁아르', '▁관한', '▁제국', '▁지금', '▁않았', '▁프리', '▁압', '▁중요한', 'ac', '르트', '▁여자', '▁레이', '▁응', '인을', '▁결혼', '..', '전에서', '들에', '▁건설', '적은', '▁뿐', '▁인물', '▁거쳐', '▁울', '▁그것', '세의', '지로', '▁학교', '▁뜻은', '인은', '▁사업', '▁하였', 'ri', '▁부산', '부를', '일까지', '▁분류', '▁m', '원은', '▁낮', '계를', '▁[', '▁FC', '▁관리', '니다', '치는', '▁나라', '▁2019', '어는', '50', '식으로', '▁경기도', '▁상대', '▁혹', '▁이론', '특별', '▁일으', '▁공동', '킨다', '▁반대', '▁플레이', '▁요구', '▁가진', '▁형성', '▁희', '▁딸', '문을', '전히', '▁티', '광역', '임을', '▁밴', '▁만든', '▁원래', '▁연합', '원으로', '치를', '▁놓', '트로', '부는', '▁모델', '▁기업', '되면서', '▁31', '▁중화', '▁시절', '▁2002', '▁않는', '레스', '수는', '른다', '▁동시에', '▁색', '▁군사', '제가', '▁이르', '▁사이에', '▁느', '리오', '▁실시', '▁시작했다', '▁지하', '▁기본', '▁워', '운드', '군을', '하였으나', '▁겸', '장의', '인민공', 'ent', '▁싱글', '▁2003', '대는', '▁어떤', '상이', '▁지역의', '▁비판', '▁승강', '▁아닌', '이었던', '▁제외', '▁노동', '▁:', '역이다', '대가', '프리카', '회를', '▁계약', '▁긴', '▁잉', '제의', '▁역할을', '▁운행', '정한', '▁현대', '▁학생', '하는데', '상으로', '▁자동', '▁50', '▁싸', '▁민족', '▁명칭', '▁지도', '▁소련', '▁야구', '이기도', '▁189', '▁전통', '▁처음으로', '▁여기', '주는', '▁최초의', 'and', '장에', '▁전라', '체의', '명은', '▁콜', '▁판매', '나다', '▁보통', '▁공간', '▁휴', '▁영화이다', '스탄', '▁이동', '▁이때', '▁망', '되며', '린다', '있는', '▁특징', '▁수행', '▁의한', '▁있을', '▁나오', '12', '▁「', '▁기준으로', '이를', '18', '▁기반', '▁기간', '▁넓', '▁도입', '▁달리', '▁되고', '단의', '▁그래', '▁초기', '▁특별', '자와', '▁견', '▁교황', '호로', '▁비슷', '▁전문', '▁옮', '▁도쿄', '소를', 'un', '키는', '▁서비', '▁푸', '▁개인', '카이', '▁있다고', '▁인간', '과는', '▁하며', '▁마을', '▁위하여', '적을', '▁기존', '▁종교', 'ig', '연구', 'BC', '.5', '격을', '서를', '성은', '▁다이', '▁퇴', '관은', '▁웨', '시마', '▁바로', '장에서', '▁개의', '▁혹은', ')·', '▁엄', 'ur', '▁지나', '▁혁', '호를', '체를', '15', '▁역임', '독교', '▁궁', '▁월드컵', '중에', '▁애니', '▁슬', '▁벨', '▁탑', '가와', '물을', '▁과학', '▁모양', '▁훈', '▁빈', '시간', '▁s', '▁출시', 'os', '▁1990', '▁목록', '▁기타', 'um', '▁정책', '▁어머니', '▁사랑', '▁유일', '▁태양', '고등학교', '혔다', '동안', '▁지배', '무를', '트를', '.\"', '명이다', '퓨터', '▁이끌', '▁아버지', '▁국내', '30', '▁일반적으로', '드로', '했는데', '드의', '▁전국', '▁될', '텔레', '▁경기에서', '하지만', '▁연방', '▁경찰', '▁기관', '광역시', '▁과거', 'od', '리로', '▁언어', '▁소설', '▁지휘', '▁주변', '16', '▁공연', '▁맥', '리와', 'ation', '도에', '화가', '▁동일', '▁기원전', '기관', 'ot', '▁샤', '▁p', '▁중심으로', '트의', '▁부르', '마다', '피언', '학과', '방송', '▁이적', '쪽에', '시켰다', '▁40', '▁산업', 'ad', '▁2001', '드를', '▁이것은', '▁보내', '▁그를', '▁받은', '스코', '▁적용', '▁탐', '▁가수', '▁비교', '▁FI', '의를', '▁흔', '구의', '▁먼', '군에', '▁1,', '▁곧', '호는', '▁획', '▁뮤', '메이션', '▁풀', '위로', '▁속하는', '경기', '▁받았', '▁추정', '▁밖', '▁작업', '▁지정되었다', '▁있다는', '▁확인', '▁분야', '▁클럽', '11', '▁충청', '▁가까', '쳤다', '▁담당', '▁떨어', 'id', 'ter', '▁선정', '▁받고', '▁방영', '▁the', '▁찾아', '▁건축', '류의', '▁컴퓨터', '▁없이', '동에', '▁되었고', '체가', '리지', 've', '▁노선', '▁숙', '▁착', '▁국가대표', '▁옥', '당의', '▁방향', '▁챔', '▁때문이다', '▁기독교', '년의', '▁규모', '▁열차', '▁작곡', '▁피해', '어가', '▁자기', '트는', '▁통합', '▁득', '사와', '▁환경', '-2', '▁지지', '비전', '▁낙', '▁염', '▁차량', '▁증가', '▁배우이다', '정에', '단을', '세는', '야마', '▁어느', '▁두고', '▁실패', '스에', 'ow', '▁설명', '하거나', 'op', '▁가족', '▁대부분의', '▁그녀는', '글랜드', '어의', '60', '조의', '크로', '▁우주', '▁멤', '인으로', '▁개념', '▁넣', '르게', '▁너', '▁기념', '▁늘', '▁올라', '▁활동을', '14', '종의', '▁태어났다', '▁갑', '▁뉴욕', '▁이런', '▁윌', '▁상당', '▁챔피언', '▁오늘', '부가', '▁최대', '▁자신이', '▁이와', '중학교', '나무', '▁수록', '▁이상의', '▁보호', '제는', 'ec', '.2', '회는', '▁캐나다', '인이다', '동을', '▁있지만', '시켜', '▁애니메이션', '▁걸쳐', '학적', '이로', '▁이름은', '▁서울특별', '▁TV', '트남', '▁1980', '▁FIFA', '일에는', '▁데이터', '▁사상', '면에', '▁사고', '▁(19', '▁하나이다', '▁어린', '원에', '▁대체', '교육', '▁다음을', '계의', '▁없었다', '▁1999', '관을', '▁있어서', '렇게', '움을', '▁수는', '▁등에', '으면', '▁대하여', '적이', 'cm', '▁멤버', '▁·', 'em', '세가', '▁스페인', '겼다', '▁1998', '식의', '▁최초로', '▁예정', '▁최근', '스카', '이란', '▁등으로', '구에', '▁있었던', '치가', '▁하다', '13', '▁뛰어', '메리카', '▁흐', '▁나가', '▁획득', '▁위원', '했다고', '성과', '일을', '기와', '▁땅', 'ag', '▁선출', '▁자료', '17', '80', '심을', '자들은', 'ir', '▁더욱', '▁불가', '▁공화국', '드리', '.)', '▁잉글랜드', '식은', '▁윈', '▁텔레', '▁개봉', '▁선택', '▁최종', '▁내려', '단은', '▁구간', '_2', '식이', '성에', '했을', '▁지역에', '세를', '지역', '▁베이', '▁인천', 'oc', '▁맺', '어서', '▁부족', '▁흑', '▁솔', '▁잔', 'ia', '▁조사', '▁조건', '인민공화국', '▁보인다', '▁시민', '널리', '▁평균', '▁d', '▁정당', '▁선언', '학을', '40', '트리', '▁물리', '▁변화', '▁앤', '▁b', '▁런', '▁조지', '시키는', '되었으나', '.0', '▁연주', '▁자리', '▁명령', 'th', '▁대구', '▁선발', '프로', '▁어려', '▁흥', '▁1997', '한다는', '▁공산', '덜란드', 'ver', '개월', '》,', '시대', '▁동물', '▁연속', '▁에너', '▁도로', '▁서울특별시', '난다', '렀다', '▁결승', '▁가리킨다', '▁점령', '▁칭', '정부', '▁있게', '함으로써', '▁이름으로', '소가', '▁불구', '▁효과', '라도', '만을', '▁작가', '▁1995', '▁반응', '▁전기', '호선', '▁표준', '명으로', '▁Y', '▁움', '▁이들은', '▁옛', '▁관할', '포츠', '▁잃', '년간', '▁거주', '▁좋은', '▁국립', '▁X', '자들이', '하도록', '▁예를', '▁헌법', '내는', '만이', '▁언급', '▁몽', '▁교통', '상에', '이지만', 'ce', '▁이유로', '▁1996', '회에서', '▁팬', '▁이해', '▁아시아', '▁선수이다', '▁컨', '구를', '▁현재는', '이에', '▁고대', '▁유사', '▁후반', '▁덕', '▁마르', '▁덴', '쪽으로는', '▁국가대표팀', '▁그들의', ']]', '▁승리', '상은', '▁전에', '▁징', '▁네덜란드', '웠다', '▁익', '비를', '▁액', '▁소유', '▁주의', '역을', '▁출판', '▁베트남', '▁왜', '인데', '▁전자', '▁조약', '▁단체', '▁목표', '▁메이', '▁정규', '▁폴란드', '스턴', '▁사무', '레일', '▁겨', '▁km', '▁북한', '었으며', 'mm', '진을', '▁것이라고', 'nd', '▁휘', '학의', '모토', '▁면적은', '▁예술', '으므로', '▁공립', '일랜드', '▁명의', '▁세포', '▁지속', '▁이곳', '▁입단', '▁하나의', '▁맡았다', '▁주민', '주에', '▁188', '과에', '▁현재의', '▁1994', '랐다', '▁시설', '▁구분', '라의', '▁모습을', '월에는', '▁쌍', '▁깊', '▁밤', '▁이듬', '▁밝혔다', '▁국회의', '▁하지', '▁버전', '▁정신', '▁영국의', '정이', '▁하나로', '▁1970', '민주주의', '▁정확', '▁드러', '▁우리', '▁불구하고', '▁돈', '▁사용하는', '▁대중', '▁아직', '베이', '되기', '▁지상', '▁말했다', '▁끌', '▁실험', '▁소프트', '▁실제', '▁오늘날', '▁소비', 'ay', '▁강화', '지지', '▁그런', '▁1992', '▁분리', '▁쓴', '70', '계에', '▁씨', '라스', '지방', '자리', '▁포르', '▁제한', '▁유래', '사카', '▁[[', '▁그림', '원에서', '▁세워', '▁거두', '▁이듬해', '▁육군', '▁사이의', '나이', '▁믿', '단에', '▁크리스', '스키', '관이', '치고', '주시', '▁핀', '직을', '지와', '▁페르', '금을', '▁가문', '▁웹', '메달', '소의', '버스', '▁알려진', '단이', '▁은퇴', '▁불리', '▁언론', '시코', '▁고등학교', '회에', '▁통과', '부르크', '거리', '월부터', '스테', '▁비해', '▁찬', 'The', '▁분석', '가의', '골을', '▁위에', '▁널리', 'im', '▁남자', '▁포함한', '회가', '형을', '▁그들은', '▁의미한다', '들로', '▁제품', '▁물질', '톨릭', '▁방문', '베르', '▁나온', '▁발달', '▁헬', '▁칸', '▁펼', '▁움직', '▁회사', '▁등과', '장과', '정의', '▁중에', 'ul', '바이', \")'\", '▁경험', '로의', '▁1991', '철도', '▁차례', '▁이사', '▁결합', '스티', '▁못했다', '▁완전히', '▁제조', '체는', '▁홀', '법을', '▁비행', '▁설계', '▁크로', '▁바탕', '불어', '하의', '▁자치', '▁친구', '▁프로젝', '르고', '▁것에', '드가', '루스', '이어', '▁여겨', '▁1993', '-0', '▁전해', '▁꽃', '▁괴', '▁사람이', '▁연기', '▁요청', '▁갖고', '▁부여', 'te', '▁배치', '▁더불어', '들도', '아의', '▁통일', '▁멸', '▁자주', '▁때까지', '▁소재', '당은', '▁1960', '▁마음', '▁스웨', '러스', '선에', '▁정도로', '점이', '▁알렉', '▁독일의', '사업', '▁수준', '▁프랑스의', '▁비롯한', '▁주연', '일본', '▁빛', '시는', '▁런던', 'EFA', '▁브라질', '산을', '▁맨', '▁멀', '▁깨', '소는', '▁제안', '▁나머', '▁오른', '▁중요', '▁그대로', '찬가지', 'TV', '▁영토', '▁목적으로', '▁마찬가지', '▁1988', '▁초등학교', '▁오래', '▁파괴', '▁요시', '로를', '▁쉽', '▁바뀌', '릭터', '▁유전', '트가', '▁아프리카', '▁감독의', '▁스스로', '▁이로', '위가', '부로', '▁주인', '경을', '▁텔레비전', '스토', '▁않아', '웨어', '▁인터넷', '▁만나', '▁유명한', '▁60', '위는', '▁확장', '지에서', '기술', '우는', '▁있도록', '▁외국', '▁패배', '관으로', '》()', '▁성장', '.3', '▁이들', '▁식민', '인과', '정은', '▁추진', '▁밝혀', '선거', '가를', '▁오스트리아', '었던', '▁의하여', '▁많다', '▁치료', '\",', 'ap', '▁스웨덴', '문에', '위의', '▁존재한다', '▁사라', '선이', '▁달러', '▁UEFA', '▁하이', '물의', '▁지난', '▁우승을', '▁아마', '주를', '▁남부', '▁기여', '▁사람들이', '▁칠', '▁가르', '받았다', '▁복귀', '되기도', '일의', '지게', '감을', '르의', '▁불교', '아가', '▁경우가', '▁경쟁', '▁1989', '종이다', '▁혈', '없이', '▁스포츠', '영화', '▁과정에서', '신을', '▁강력', '▁근처', '▁법률', '▁습', '▁몬', '▁짧', '▁되었', '▁먼저', '▁일어나', '▁하계', '▁캐릭터', '▁공항', '▁해석', '▁왕국', '회사', '▁있으나', '▁이외', '▁초대', '라인', '멕시코', 'NA', '▁주도', '▁것이었다', '많은', '▁영어', '▁접근', '48', '▁수용', '▁가톨릭', '▁광주', '규모', '▁폐지', '력은', '▁집합', '▁일제', '▁밴드', '▁서식', '▁들어가', '▁관측', '▁불리는', '▁품', '▁선수로', '이기', '카와', '하라', '스에서', '레일리아', '▁KBS', '▁가능하다', '▁단순', '군과', '도와', '▁알고', '조는', '▁그녀의', '▁잇', '▁작용', '▁제작된', '▁개혁', '▁특정', '▁촉', 'li', '구는', '행을', '▁스위', '정보', '▁않다', '25', '오는', '▁가져', '디어', '▁구성되어', '▁기초', '형의', '▁필리', '화국의', '▁이야기', '▁도착', '▁십', '▁인민', '▁노르', '▁때는', '▁결성', '하다가', '▁여기서', '과학', '▁교수', '하이', '▁제국의', '소년', '▁비슷한', '자이다', 'og', '▁70', '주로', '▁여객', '▁성립', '▁술', '▁St', '졌고', '▁/', '▁강원', '▁자동차', '▁조각', '량이', '간다', '▁186', '▁해결', '▁궤', '▁조선민주주의', '▁선수권', '▁수많은', '수한', '전의', '▁거부', '▁록', '▁떨어진', '▁스테', '하였는데', '▁아카', '크의', '▁해안', '▁경영', '_3', '▁앙', '웨이', '▁사용한다', '▁디자인', '▁파견', '▁기록했다', '▁상대로', '▁삼성', '▁반란', '속도로', '고를', '▁아무', '시를', '▁지역에서', '▁라디오', '▁바꾸', '▁지냈다', '했다는', '▁행동', '선은', '▁상호', '▁생성', '▁의하면', '▁보다', 'ab', '▁동맹', '▁『', '▁다르', '▁발행', '▁겪', '▁중간', '▁아시', '▁히로', '▁여름', '▁미국에서', '▁북쪽', '▁그린', '▁이루어진', '▁살아', '▁놀', '전이', '▁외교', '어나', '▁187', '▁의원', '▁대표적인', '▁을', '▁남쪽', '▁황제', '▁프레', '90', '▁제시', '▁부정', '▁당선', '센터', '구가', '하기로', '▁나무', '▁대해서', '▁승강장', '▁훈련', '▁슈퍼', '▁지하철', '함을', '▁공작', '▁임시', '▁분포', '자에', '▁타이틀', '▁다만', '▁시행', '▁만에', '▁2020', '촬영', '▁논란', '량을', '▁것과', '▁마찬가지로', '▁오스트레일리아', '▁1945', '(200', '▁형태로', '▁이렇게', '▁투표', '▁근거', '▁위해서', '▁엔진', '미터', '▁in', '부에서', '▁방어', '▁이주', '▁상징', '▁처리', '트워', '관의', 'ard', '▁흡', '▁캠', '▁중에서', '▁빅', '와는', '인트', '▁번역', '▁위험', '아시아', '▁계열', '▁대응', '▁시작하였다', '낸다', '▁교회', '▁일을', '▁1950', '▁끝에', '(20', '▁윌리', '만의', '▁스트', '전은', '왕의', '▁1986', '나가', '▁출생', '▁등록', '▁유니', '았고', '▁부른다', '▁멕시코', '▁1987', '▁디지', '▁년', '지션', '▁표시', '▁벽', '▁개통', '▁야마', '였고', '한다고', '▁시도', '▁n', '▁재판', '업을', '▁제주', '교회', '면을', '시즌', '으면서', '▁붕', '▁꾸', '▁체포', '성으로', '▁준비', '▁사용된다', '▁값', '평양', '▁곳에', '▁즉위', '▁몇몇', '▁있었고', '▁뇌', '▁통치', '조선', '▁있기', '크라', '▁규정', '▁?', '▁삶', '화된', '.4', '사에서', '▁한국의', '▁아일랜드', '사회', '▁이름이', '.1', '▁숨', '▁적이', '21', '▁사용할', '▁곤', '점으로', '▁좋아', '▁시험', '조를', '년을', '요일', '▁회의', '어졌다', '23', '▁활용', '▁쌓', '▁체결', '▁동생', '▁바다', '▁보유', '리에서', '문화재', '▁중단', '24', '▁따른', '▁캘', '디아', '▁제기', '▁대해서는', '▁벤', '화의', '오카', '.6', '86', 'ut', '▁그렇', '학생', 'ie', '▁있지', '▁낳', '대와', '▁본래', '▁1984', '▁보존', '▁다카', '▁미사', '▁안정', '▁다루', '▁종합', '▁나타나', '인들이', '▁조성', '▁가정', '▁직후', '▁귀족', '▁80', '▁유로', '▁경상북도', '▁윈도', '나의', '연합', '▁카를', '▁관련된', '▁종류', '▁밑', '물이', '▁나머지', '부와', '국이', '당이', '해졌다', '▁얼마', '▁시기', '▁지적', '량은', '▁표기', '▁경상남도', '▁계승', '수이다', 'ine', '가이다', '도시', '▁살해', '▁주인공', '▁촬영', 'ht', '▁것도', '▁오브', '▁못하고', '35', '▁완성', '.7', '▁보수', '▁센터', '가로', '습니다', '▁하루', '▁1985', '▁팀의', '▁문학', '▁엘리', '▁서비스', '▁and', '▁못한', '▁떠나', '▁혁명', '였으며', '▁옮겨', '▁사진', '▁내각', '리포', '로가', '니는', '▁동쪽', '▁오후', 'ion', '▁수비', '력의', '나라의', '트에서', '러운', '▁대사', '▁둔', '▁강한', '되자', 'ess', '하에', '▁천황', '▁가능한', '▁금지', '▁대륙', '▁혐', '역으로', '▁유일한', '▁이루어져', '▁위치하고', '▁싶', '인지', '시키고', '전한', '권의', '선에서', '롭게', '▁홍콩', '자들의', '소에', '내고', '▁묘사', '시킨', '▁이스', '▁취임', '안을', '소로', '주교', '▁윌리엄', '▁안에', '▁류', '▁달성', '▁왼', '체로', '려고', '▁유대', 'nt', '서로', '▁비디오', '99', '▁젊', '▁디지털', '▁바르', '국은', '▁해외', '▁스코', '▁의견', '계가', '▁종료', '▁포르투', '티아', '學校', '▁충돌', '▁정부는', '▁르', '▁베르', '▁물론', '▁이용하여', '력으로', '▁벗', '▁스튜', '▁친일', '▁각종', '▁일어난', '▁소개', '▁인근', '▁중의', '▁경우에는', '▁이집', '▁지명', 'br', 'ak', '민족', '치의', '피아', '▁전달', '▁근무', '▁사이에서', '▁필요한', '▁간의', '▁아내', '▁35', '▁위치해', '▁승격', '▁문제가', '▁오사카', '세에', '▁주목', '▁관광', '92', '헝가', '▁억', '▁2,', '▁경기를', '로로', '▁가까운', '당을', '▁발사', '▁지역을', '월까지', '▁빨', '치로', '▁낮은', '▁읽', '▁참여하였다', '▁말을', '▁도시로', '▁32', '▁제거', '임스', '▁베네', 'ity', ')\"', '▁죄', '▁아니다', '▁나누', '▁파이', '▁관계를', '▁위의', '▁전환', '▁듣', '▁이슬', '분을', '적으로는', '조가', '▁1982', '45', '▁합류', '분에', '▁만들었다', '▁남북', '▁둘러', '▁가입', '▁뒤에', '▁알렉산', '▁문제를', '량의', '▁만들어진', '▁폰', '▁썼', '단으로', '▁굴', '작용', '▁중국의', '▁미술', '▁해군', '▁서쪽', '기업', '▁빼', '▁이래', '승을', '워드', '▁명예', '고로', '▁만화', '라우', '▁에이', '▁되었으며', '▁평화', '▁후쿠', 'ph', '▁제도', '▁수가', '.8', '▁꼬', '▁출신의', '▁주는', '준다', '니스', '▁불린다', '▁건너', '▁구조를', '▁즐', '▁Ch', \"',\", '▁북부', '.(', '▁갖추', '물관', '그룹', '▁뮤직', '라고도', '▁1983', '▁바탕으로', '▁네트워', '▁미래', '▁정식', '지도', '▁그려', '▁반면', '▁계산', '▁실제로', '석을', '▁옆', '론을', '▁실행', '▁멜', '▁신라', '▁전반', '상과', '▁전시', '▁전략', '되었던', '▁펜', '▁종목', '종이', '▁최고의', '▁너무', '▁마련', '▁정치적', '▁기존의', '▁제목', '인들은', '▁만약', '만에', '일은', '문학', '▁전라남도', '메이', '▁w', '▁부문', '계는', '▁주었다', '신의', '▁오르', '▁In', '권이', '▁사실을', '▁납', '프는', '▁재직', '▁MBC', '▁그해', '▁비밀', 'ist', '시가', '▁기록을', '▁저항', '산으로', '버트', '▁스토', '▁집중', '▁신문', '▁강조', '이던', 'ge', '▁The', '▁통하여', '▁사람은', '▁가는', '▁인식', '산의', '▁부모', '22', '▁넘어', '리어', '미널', '▁맹', '▁배경', '▁생물', '▁연장', 'ber', '▁기후', '산업', '\"(', '즈의', '사이', '먼트', '상에서', '▁작성', '-3', 'ne', '생활', '관리', '▁아키', '메달을', '▁상업', '▁던', '89', '▁사령', '이라고도', '▁정착', '▁마이크로', '점에서', '▁불러', '▁성격', '비가', '크는', '했기', '▁무렵', '▁II', '▁인한', '로스', '년대에', 'CA', '차를', '▁적극', '▁기능을', '▁끼', '▁제외한', '▁하기', '라노', '▁보여주', '▁영역', '질을', '세포', 'est', '▁허용', '▁혜', '▁객', '단체', '▁공급', '보다는', '▁아우', '졌으며', '해를', '▁올랐다', '은행', '교의', '55', '공항', '두고', '시대의', '장이다', '로운', '▁로스', '▁내부', '▁확대', '▁셀', '▁뿐만', '에게는', '▁유형', '▁왔다', '법원', '▁대회에서', '47', '파의', '▁이후에', '전쟁', '▁최소', '▁입학', '▁사용하여', '▁사회주의', 'all', '▁일반적인', '▁나중에', '▁일이', 'ran', '▁의사', '▁오스', '▁사람을', '가가', '밖에', ')》', '계에서', '▁항상', '▁헨', '프가', '▁포지션', '▁받아들', '▁정부의', '▁생활을', '▁이슬람', '▁1979', '리포니아', '▁여전히', '▁지진', '▁뒷', '▁족', '▁터키', '▁만드는', '▁부근', '적이고', '물로', '▁1981', '▁국방', '▁보면', '▁인디', '▁관찰', '▁전투에서', '르타', '▁이번', '▁제정', '▁케이', '▁그래서', '래프트', '되었는데', 'qu', '▁시대의', '▁판단', '세이', '▁출발', '▁보도', '▁동료', '▁동부', '▁연극', '▁1972', '년과', '▁원자', '▁확보', '▁핀란드', '호가', '과를', '▁위협', '▁있었지만', '개발', '기고', '▁편집', '85', '▁채널', '▁매년', '원과', '주가', '▁사용되는', '한국', 'ers', '▁a', '▁덴마', '▁보이', '▁붕괴', '▁선의', '▁가리키는', 'ub', '▁바람', '▁쉽게', '▁포르투갈', '▁국왕', '▁뒤를', '면의', '▁등은', '시오', '27', '다이', '▁경우도', '▁정리', '사령', '▁de', '까지의', '▁채택', '로도', '서관', '▁마리아', '았으며', '26', '▁문서', '끄는', '▁젊은', '력에', '▁충분', '▁90', '▁동계', '▁교체', '▁전개', '36', '▁마사', '동차', '▁흰', '▁높이', '실을', '▁이승', '경제', '▁방식', '▁시의', '시로', '▁범죄', '▁시작되었다', '▁1973', '▁합병', '▁500', '▁세운', '▁유리', '▁남동', '대전', 'tic', '▁승리를', '▁끊', '▁모스크', '▁일종이다', 'ST', '▁남편', '▁외에도', '▁말이다', '▁공격을', '▁겨울', '▁다섯', '▁감소', 'art', '▁하자', '▁점차', '37', '▁아나', '▁장기', '46', 'ell', '▁척', '세기에', '▁시기에', '구려', '▁없어', '▁득점', '모리', '화에', '▁떨어져', 'FC', '98', '라운드', '▁계약을', '▁자리를', '▁밖에', '력과', '비는', '▁탑재', '▁측정', '트라', '▁귀국', '당에', '드와', '95', '▁강력한', '로서의', '▁옹', '배우', '▁등에서', '▁전사', '▁의해서', '▁중학교', '▁사람들은', '▁울산', '리기', '▁사용한', '▁서부', '▁블랙', '▁k', '음악', '▁구축', '▁그곳', '의로', '▁녹음', '▁잠시', '하려는', '▁강원도', '▁민간', '▁수학', '대에서', '테인', '▁본관은', '▁얼굴', '▁수립', '▁관심을', '▁냉', '데미', '▁갖춘', '▁하게', '▁성우', '▁책임', '까지는', '▁세르', '▁설립된', '▁에드', '자치', '87', '▁하면서', '계로', '▁당시의', '▁헝가', '문이', '▁캘리포니아', '▁안전', '▁정보를', '▁통신', '▁충청남도', '▁해체', '▁필리핀', '당한', '▁구역', '▁주장했다', '▁변호', '협회', '▁시청', '▁흘', '▁인수', '▁평양', '▁g', '▁파일', '▁증거', '설을', '▁춘', '▁마쓰', '▁신경', '▁1974', '라엘', '일보', '붉은', '▁알아', '▁불과', '▁자체', '▁화학', '▁침공', '▁해방', '▁균', '구로', '▁만족', 'uc', '스케', '▁왔', '해의', '▁집단', '정으로', '▁구단', '▁잎', '받아', '트에', '▁레코', '되었지만', '면에서', '▁v', '▁주연으로', '▁길이', '▁예선', '▁간주', '▁종종', '틀랜드', '▁사후', '▁발표했다', '▁나뉘', '▁게이', '▁소프트웨어', '다운', '▁경향', '▁요리', '▁라이브', '네시아', '▁건강', '▁델', '일러', '▁여행', '▁시내', '▁대립', '▁쇠', '용으로', '▁나폴', '우리', '▁샌', '▁기획', '민국', '개를', '사키', '▁좀', '무원', '티브', '▁이끄는', 'ice', '▁텍', '▁쪽', '▁이란', '▁개봉한', '▁쓰인다', '▁인간의', '하나', '하다고', '▁임명되었다', '약을', '▁45', '레이션', '리스트', '▁에스', '▁무역', '▁편입', '▁죽은', '▁음력', '같은', '▁1976', '▁봄', '▁찰', '▁회원', '▁태평양', '었는데', '▁정상', '▁힘을', '류를', '▁컬', '▁나오는', '티나', '▁자신을', '학년', '▁짓', '▁폭발', '▁태어난', '▁때에는', '▁제임스', '▁받는', '▁방식으로', '88', 'our', '▁엑', '▁인사', '자들을', '▁1978', '▁회복', '자에게', '▁개편', '▁비교적', '▁대형', '▁인기를', '▁수입', '▁한다는', 'se', '▁장애', '명한', '▁대상', '후의', '▁설치되어', '▁속에', '▁뛰어난', '▁연맹', '하고자', '키아', '▁기계', '▁라틴', '리학', '▁사례', '▁둥', '▁공공', '▁조정', '박쥐', '▁자본', '▁수정', '▁국회의원', '적이다', '▁아름', '점에', '었으나', '▁1920', '▁조선민주주의인민공화국', '▁&', '▁특수', '▁1971', '▁신설', '▁남성', '▁노력', '▁후손', '▁어떻', '다른', '▁했지만', '▁블루', '...', '라비아', '▁메이저', '신이', '▁루이', '▁에피', '초등학교는', '음이의', '▁숲', '족의', '32', '▁고양', '▁전차', \"'(\", '데스', '▁이것이', '▁저장', 'ip', '▁보이는', '▁형식', '▁위치한다', '종은', '▁사람의', '▁대규모', '화는', '▁고구려', '▁1968', '▁1963', '▁1975', '▁몽골', '▁180', '▁초등학교이다', '▁함수', '▁불가능', '▁카메', '▁피아', '▁복잡', '니어', '포르', '▁네트워크', '▁프로듀', '▁발견된다', '▁농업', 'av', '룬다', '▁이스라엘', '어져', '▁내에서', '형이', '▁e', '▁않을', '▁36', '로나', '여자', '▁부터', '75', '▁1930', '정책', '▁파리', '▁털', '96', '동의', '▁한다고', '▁원칙', '▁문화재', '▁사실상', '료로', '▁우선', '▁초반', '▁흔히', '▁고전', '리트', '▁내용을', '▁시대에', '▁편성', '▁홈런', '▁식물', '▁본격', '소에서', '▁1940', '▁감염', '▁링', '이었고', '▁아르헨', '76', '유럽', '43', '차례', '▁꿈', '싱턴', '▁있었으며', '▁콩', '▁발매되었다', '군으로', '▁과정을', '▁조금', '▁부인', '종으로', '▁1969', '▁스튜디오', '▁외에', '국을', '▁쉬', '▁기억', '▁구성된', '▁인하여', '▁근대', 'ik', '오프', '▁나카', '▁북서', '▁트리', '▁300', '▁지역은', '구역', '▁속에서', '터테인', '▁팀은', '▁나서', '▁전혀', '셔널', '▁이전에', '▁어떻게', '미디', '▁모스크바', '제에', '▁원작', '시와', '▁참석', '료를', '품을', '▁아주', '▁도움을', '▁형태의', '▁유명하다', '▁통한', '▁윈도우', '▁있었으나', '예술', '▁열대', '▁구체', '▁아랍', '▁오리', '▁행사', '크라이나', '려는', '▁죽음', '▁잭', '지기', '분의', '44', '▁대상으로', '아버', '▁잘못', '▁증명', 'for', '▁세이', '▁암살', '▁중화인민공화국', '▁설정', '▁사회적', '▁섭', '▁물러', '▁때에', '▁하는데', '▁사용되었다', '전으로', '지면서', '▁탄생', '▁본선', '▁확정', '▁플로', '드에서', '라크', '▁사는', '대회', '었지만', '▁1948', '▁Z', '▁정도의', '97', '▁비난', '법의', '56', '서에', '▁캄', '▁숫', '94', '▁카운', '세계', '공업', '인들의', '▁등장하는', '어와', '▁공부', '▁했고', '▁시장', '▁창설', '년이', '▁짧은', '93', '동음이의', '권에', '▁되면서', '어도', '▁개선', '2,', '▁박사', '▁현실', '▁철도역이다', '▁보급', '받은', '▁묻', '▁하였고', '▁기사', '▁한때', '▁', '이', '다', '.', '에', '의', '는', '로', ',', '하', '1', '을', '가', '고', '지', '서', '한', '은', '기', '0', ')', '(', '으', '2', '사', '대', '리', '시', '를', '년', '스', '도', '인', '일', '아', '자', '9', '어', '있', '라', '수', '나', '부', '그', '전', '되', '정', '국', '과', '해', '주', '었', '제', '들', '성', '장', '3', '구', '여', '상', 'e', '적', '동', '했', '5', '8', '월', '위', 'a', '와', '4', '원', '선', '게', '공', '였', '보', '6', '마', '만', '조', '트', '중', '며', 'o', '드', '7', '화', '경', '학', '미', '교', '소', '우', '유', 'r', '세', 'i', '비', '신', '오', '문', '치', '르', 'n', '명', '개', '면', '계', '역', '후', '연', '관', '등', '회', '된', '것', '진', '터', '영', '모', '용', '\"', 't', '발', '프', '군', 'l', '당', '무', '산', '러', '작', '재', '방', '민', '타', '니', '음', 'm', '데', '단', '거', 's', '레', '통', '간', '카', '분', '반', '생', '바', '안', '체', '포', '차', '행', '크', '내', '호', '현', '식', '운', '본', '노', 'u', \"'\", '남', '할', '종', '파', '물', '양', '요', '때', '출', '속', '임', '실', '야', '두', 'S', '-', '함', '형', '던', 'C', '결', '토', '강', '설', '루', '려', '표', 'A', 'c', '히', '키', '코', '각', '법', '초', '승', '독', '태', '업', '직', '건', '까', '디', '불', 'h', '래', '입', 'd', '배', '버', '력', '합', '록', '또', '점', '최', '예', '않', '번', '받', '매', '피', '같', '았', '약', '천', '른', '권', '왕', '말', '베', '메', '티', '《', '》', 'M', 'T', '심', '판', '격', '립', '알', '브', '청', '더', '금', '목', '감', 'B', '투', '추', '처', '북', '없', '항', 'f', '란', '달', '~', '평', '활', 'F', 'I', '외', '네', '열', '따', '린', '특', '저', '·', 'g', '집', '언', '편', 'P', '석', '준', '복', 'D', '테', '향', '즈', '병', '광', '류', '변', 'p', 'k', '질', '름', '령', '난', 'y', '족', '근', 'E', '랑', '급', '총', '람', '황', '송', '김', '존', '페', '축', '많', '올', '쪽', '능', '박', '술', '참', '철', '울', '론', '별', '살', 'L', '환', 'R', 'N', '온', '창', '악', '증', '품', '절', '및', 'O', '육', '료', '곡', '쿠', '백', ':', '새', '쓰', 'K', '플', '져', 'G', '순', '돌', '졌', '량', '필', '께', 'b', '확', '애', '망', '든', '머', '규', '림', '글', '패', '케', '색', '워', '팀', '범', '탈', '날', '견', '극', 'H', '쟁', '클', '련', '삼', '탄', '너', '친', '충', 'V', '랜', '째', '손', '봉', '막', '_', '책', '접', 'v', '뒤', '못', '완', '협', '퍼', '션', 'U', '/', '담', '런', '밀', '채', '츠', '길', '녀', '습', '골', '측', '블', '혼', '곳', '취', 'W', '럽', '엔', '험', '칭', '귀', '누', '겨', '암', '벌', '찰', '슬', '갈', '커', '씨', '’', '앙', '높', '웨', '슈', '‘', '첫', '뜻', '쳐', '침', '허', '즌', 'w', '죽', '효', '획', '볼', '널', '뉴', '응', '센', '났', '착', '큰', '락', '잡', '헌', '례', '희', '렸', '검', '폭', '득', '징', '움', '논', 'J', '%', '농', '섬', '걸', '캐', '홍', '럼', '틀', '풍', '느', '좌', '퇴', '택', '왔', '끝', '폴', '즉', '엘', '폐', '층', '될', '압', '줄', '픽', '헤', '덕', '윤', '싱', '맞', '먼', '념', '앞', '>', '찬', '맡', '긴', '<', '혁', '늘', '갖', '킨', '율', '써', '익', '〈', '〉', '턴', ']', '[', '릭', '잘', '램', '묘', '빈', '슨', '염', '링', '냈', '얼', '벨', '흥', '균', '억', '델', '닌', '앨', '객', '궁', '콘', '밝', '몇', '엄', '맹', '빌', '휘', '훈', '팔', '옥', '얻', '숙', '컵', '렌', '칸', '갔', '쇼', '“', '”', '텔', '칼', '됐', '므', '괴', '넘', '콜', '맥', '푸', '뷔', '좋', 'X', '몰', '붙', '덴', '핵', '찾', '혹', '낸', '흐', '둘', '빠', '떠', '켰', '템', 'x', '액', '혀', '샤', '컴', '릴', '몬', '뿐', '놓', '룹', '률', '쥐', 'z', '탑', '굴', '욕', '십', '끌', '떨', '힘', '잠', '롯', '싸', '죄', '칙', '갑', '핀', '벽', '척', '졸', '략', '춘', '풀', '몸', '먹', '눈', '맨', '켜', '잉', '끼', 'Y', '촌', '휴', '쳤', '잔', '컬', '홈', '벤', '칠', '렉', '밖', '大', '틴', '녹', '렇', '뛰', '몽', '뮤', '곤', '탁', '!', '륙', '폰', '털', '꾸', '혜', '멸', '탕', '둥', '겼', '밴', '웠', '솔', '겸', '혈', '돈', '딸', '톤', '렀', '혔', '셀', '쿄', '팅', '?', '낮', '넷', '컨', '홀', '앤', '님', '둔', '퓨', '냐', '」', '「', '윈', '텐', '랐', '겠', '욱', '롤', '톨', '탐', '떤', '헨', '꽃', '낙', '넓', '촉', '킬', '읍', '왜', '金', '셔', '콩', '렬', '붕', '山', '펜', '뇌', '랙', '옹', '덜', '슷', '흔', '융', '李', '옮', '섭', '=', '듬', '넣', '멘', '빛', '깨', '놀', '곧', '땅', '學', '킹', '닝', '룬', '헬', '팬', '딩', '쌍', '흑', '겐', '힌', '답', '켓', '챔', '롭', '룡', '값', '튜', '멤', '짓', '젤', '큐', '즘', '윌', '쉬', '쇄', '밤', '릉', '렵', '뢰', '웅', '닉', '흡', '튼', '젠', '씩', '납', '듀', '옛', '맺', '닥', '궤', '쉽', '짜', '랭', '숭', '듯', '+', '랫', '中', '文', '잃', '州', '숨', 'Z', '섯', 'j', '젝', '깊', '웃', '&', '롱', '빙', '꼬', '멜', '國', '멀', '쓴', '王', '캠', '펠', '웹', '핑', '큼', '잇', '즐', '끄', '텍', '믿', '뜨', '찍', '잎', '셰', '덤', ';', 'Q', '』', '『', '밍', '펼', '뷰', '짐', '틱', '빅', '돼', '뀌', '멕', '빨', '엽', '틸', '쇠', '짧', '삭', '곱', '子', '롬', '|', '校', '城', '첨', '폼', '東', '힐', '촬', '럴', '럭', '릿', '혐', '三', '道', 'q', '켈', '캘', '썼', '겪', '安', '곽', '낭', '랍', '딘', '옆', '밑', '켄', '氏', '쌓', '삶', '콤', '高', '흘', '人', '南', '벗', '뉘', '싶', '헝', '첩', '낳', '컷', '젊', '닐', '꿈', '냥', '빼', '옷', '랄', '天', '왼', '듣', '됨', '公', '얀', '읽', '닛', '톱', '냉', '셜', '°', '믹', '룩', '平', '寺', '엑', '픈', '事', '法', '벡', '낼', '섰', '숲', '퀴', '봄', '뒷', '엇', '띠', '書', '흰', '宗', '軍', '묵', '벼', '셋', '뤄', '튀', '븐', '붉', '잭', '쿨', '캄', '川', '元', '좀', '앗', '괄', '샌', '뿌', '義', '正', '끊', '뱅', '슴', '맛', '덮', '一', '씬', '넬', '팽', '녕', '륜', '찌', '–', '떻', '숫', '댄', '뱀', '府', '늬', '묻', '院', '長', '첼', '팩', '∼', '・', '짝', '둑', '웰', '石', '춤', 'é', '늄', '成', '쾌', '렴', '톰', '明', '쓸', '海', '셈', '탱', '뤼', '앵', '캔', '엠', '꼽', '깔', '陽', '뽑', '샘', '늦', '렐', '훨', '꺼', '밥', '닫', '西', '쫓', '光', '옌', '횡', '꼭', '君', '上', '太', '앉', '使', '郡', '팝', '德', '會', '原', '뼈', '륨', '地', '덩', '흉', '좁', '끈', '北', '겔', '武', '世', '끔', '家', '行', '部', '新', '봇', '렘', '本', '훗', '主', '꾼', '룸', 'ᆞ', '等', '깃', '룰', '뚜', '日', '都', '멍', '田', '윗', '神', '水', '韓', '덧', '춰', '펙', '랩', '門', '仁', '햄', '갤', '縣', '홋', '政', '퀘', '펴', '듭', '딕', '딜', '삽', '쿼', '꺾', '*', '龍', '生', '묶', '싼', '궐', '官', '륭', '經', '司', '탠', '퀸', '뮌', '윙', '無', '쌀', '꼴', '섞', '朴', '뉜', '겹', '里', '빗', '킴', '興', '눌', '훌', '띄', '趙', '×', '林', '긍', '첸', '슐', '펄', '洞', '忠', '녁', '밭', '셉', '깥', '돔', '相', '넌', 'а', '敎', '녔', '넥', '漢', '夫', '툰', '렛', '白', '民', '所', '永', '江', '聖', '낌', '五', '鄭', '펑', '臣', '和', '慶', '理', '빵', '돕', '馬', '깝', '史', '뿔', '張', '엉', '늑', '섹', '곰', '펀', '똑', '닷', '틈', '훼', '→', '全', 'の', '랴', '딱', '넨', '皇', '善', '컫', '前', '昌', '記', 'о', '흙', '힙', '朝', '굳', '將', '島', '帝', '툴', '갱', '定', '性', '핸', '心', '羅', '팡', '知', '尹', '化', '킥', '셸', '콰', '堂', '빚', 'и', '킷', '톡', '有', '겁', '껍', '之', '士', '풋', '小', '面', '맷', '닭', '벳', '崔', '十', '方', '겉', '京', '河', '松', '社', '쏘', '同', '뮬', '룽', '佛', '下', '時', '不', '淸', '굽', '멈', '古', '콥', '콕', '宮', '옵', '콧', 'α', '뇨', '봐', '푼', '通', '뻗', '代', '밸', '핫', '턱', '四', '信', '師', '딴', '럿', '年', '二', '떼', '꿀', '굿', '像', '렷', '탓', '퉁', '쯤', '論', '華', '죠', '後', '守', '닮', '劉', '樂', '쑤', '홉', '禮', '月', '祖', '八', '왈', '孝', '샹', '尙', '캡', '女', '굉', '줬', '權', '릎', '눅', '릇', '重', '圖', '쁜', '市', '붓', '뚫', '木', '字', 'е', 'н', '툼', '洪', '基', '칩', '黃', '싫', '낱', '物', '샬', '孫', '댐', '雲', '셨', '內', '陵', '놈', '立', '엣', '名', '業', '띤', '닿', '걷', '寧', '侯', '鎭', '듈', '吉', '낀', '合', '自', '科', '、', '廣', '驛', '헐', 'р', '삿', '判', '兵', '集', '갓', '흠', '派', '젖', '功', '殿', '柳', '順', '分', '봤', '監', '냄', '쩌', '衛', '宋', '承', '體', 'ー', '靑', '솟', '六', '春', '펌', '잊', '谷', '웬', '걱', '九', '周', '建', '議', '퐁', '景', '쉐', '※', '曹', '덟', '앱', '直', '옴', '솜', '•', '制', '돋', '곁', '美', '흩', '쥬', '쿤', '度', '톈', '둠', '슘', '者', '얄', '얇', '郞', '源', '굵', '英', '路', '륵', '긋', '쏟', '村', '얘', '福', 'á', '휩', '껴', '館', '멋', '짙', '宣', '見', '身', '左', '章', '萬', '팜', '탤', '花', '星', '貞', '꾀', '觀', '號', '렁', '#', '맵', '眞', '的', '$', '初', '節', 'с', '쯔', '밟', '濟', '꿔', '動', '治', '野', '훔', '덱', '泰', '뭉', '侍', '康', '副', '컸', '傳', '造', '챌', '캉', '왓', '뚝', '開', '根', '뤘', '外', '典', '音', '国', '壽', '떡', '令', '臺', 'к', '式', '쁘', '옐', '寶', '玉', '끓', '別', '應', '憲', '利', '햇', '{', '吳', '族', '奉', '思', '휠', 'い', '鮮', 'в', '뀐', '텀', '핍', '댓', 'ü', '后', '實', '命', '戰', '`', '씀', '語', '짱', '良', '御', 'ン', '唐', '弘', '修', '꽤', '保', '申', '촨', '잦', '맘', '횟', '智', '슭', '說', '浦', '親', 'л', '在', '作', '賢', '空', '錄', '阿', '픔', '形', '줌', '펫', '來', '塔', '省', '梁', '썬', '빔', '進', '位', '괘', '土', '敬', '앓', 'т', '老', '詩', '싯', '歌', '뒀', '벅', '밋', '工', '色', '界', '津', 'ا', '徐', '붐', '右', '엿', 'ο', '線', '參', '井', '秀', '碑', '갇', '얹', '땄', '눠', '七', '流', '延', '溪', '齋', '言', '風', '陳', '多', '깎', '딪', '護', '運', '멧', '샨', '間', '헥', '땃', '줘', '用', '팟', '如', '數', '藤', 'ö', '맑', '맏', 'ó', '常', 'ā', '藏', '口', '찐', 'μ', '슛', '벵', '玄', '任', '達', '꼈', '反', '텝', '楊', '몫', '許', '닦', '찔', '密', '甲', '場', '걀', '先', '鳳', '車', '옳', '對', '志', '깐', 'í', '亭', '뭇', '곶', '씌', '錫', '沈', '끗', '靈', '낫', '朱', '郎', '頭', '윅', '統', '쟈', '≪', '印', '≫', '夏', '禪', '얽', '佐', '랏', '熙', '麗', '烈', '姜', '팍', '出', '츄', '務', '뻔', '察', '團', '伯', '園', 'ν', '愛', '百', '識', '쭉', '榮', '器', '草', '關', '캅', '豊', '}', 'ι', '湖', '員', 'ς', '嘉', '現', '鄕', '튬', '儀', '귄', '諸', '뚱', '勝', '橋', '從', '意', '植', '晉', '商', '解', '墓', '■', '낚', '氣', '볍', '앰', '遠', 'ä', '祭', '鐵', '뜬', '○', '益', '千', '뱃', '容', '管', '뻐', '헛', '加', '竹', '伊', '起', '領', '坐', '챙', '쾰', '궈', '沙', '遺', '第', '팰', '찮', '調', '엮', '귤', '魏', '엥', '쩔', '恩', '秦', '處', '想', '機', '싹', '욘', '力', '非', 'ρ', '居', '雄', '―', 'し', '뾰', '報', '異', '畵', '핏', '렝', '뫼', '꿨', '泉', '惠', '次', 'ん', '캣', '柱', '鍾', '샐', '術', '黨', '火', 'β', '始', '我', 'τ', '支', '훙', '岩', '。', '崇', '뭄', '丁', '탬', '紀', '室', '쉴', '秋', '俊', '受', '得', '宇', '盧', '섀', 'か', '샀', '品', '웍', '廳', '昭', 'な', '資', '池', '깜', '類', '삐', '푹', 'う', '交', '얕', '낄', '넛', '果', '랬', '쿡', '싣', '舍', '뮈', '嚴', '營', '咸', '目', '育', '提', '돗', '꽂', '姓', '챈', 'ل', '曲', '늙', '系', '뜸', '局', '試', '總', 'ε', '믈', 'λ', '仲', '렙', '妃', '齊', '香', '@', '彦', '富', '卿', '圓', '尉', '少', 'ス', '顯', '能', '手', '波', '男', '表', '魚', '致', '꽝', '껏', '發', '댈', 'м', '群', '瑞', '냅', '慧', 'д', '吏', '숀', '戶', '防', '極', '角', '눔', '갚', '象', '農', '셴', 'た', '共', '母', '큘', '恭', '츰', '産', '情', '首', '쾨', '故', '署', '늪', '薩', '»', '촛', '짖', '邑', '즙', 'σ', 'と', '因', '췄', '蘇', '샵', '썩', '훤', '博', '☆', '짚', '尊', '樞', '탭', '虎', '覺', '陸', '찢', '△', '庵', '仙', 'й', '町', '結', '峰', '牧', '電', '갯', '듐', '쪼', '入', '房', '릅', 'イ', '몹', 'ル', '딧', '陰', '區', 'у', '半', '펭', '뿜', '獻', '蓮', '췌', '協', '倉', '屬', '淑', '閣', '녜', '빽', '完', '뜰', 'è', '域', '蔡', '뇽', '巖', '贊', '딥', '룻', '板', '겟', '範', '쁨', '슌', '괌', '굶', '溫', '翼', '菩', 'り', '普', '呂', '씻', '靖', '숍', '變', '～', '펩', '勳', '可', '쩐', '깁', '父', '넉', '乙', '連', '−', '쿰', 'る', '鶴', '맬', '哲', '엎', '銀', '丹', '퀄', '퀼', '샷', '邊', '僧', '死', '督', '뮐', '엡', '律', '燕', '핼', '学', '貴', '壇', '«', '船', '越', '祠', '台', '友', '淵', '뭐', '珍', '復', 'κ', '衆', '彌', '淳', '職', '載', '輔', '久', '벙', '—', '斗', '탔', '볶', '舊', '港', '롄', '\\\\', '藝', '近', '郭', '샴', '슝', 'ラ', '젯', '喜', '境', '莊', '쵸', '隆', '種', '赤', '奇', '잼', '껑', '벚', 'に', '具', '똥', '꿰', '뜯', '足', '윽', '允', '精', '臨', '썰', '衣', '땀', '澤', '純', '舞', '層', '特', '禹', '잣', '튠', '毛', '禁', '座', 'ま', '煥', '퓌', '球', '둡', '촘', '爲', '둬', '亞', '惡', '旨', '龜', '′', '素', '訓', '均', '맴', 'ら', '住', '낡', '뵈', '뽀', '촐', '陀', '雨', '奎', '쥘', '址', '廟', '洋', '멩', '쑨', 'リ', '儒', '꼼', '洙', '養', '劇', '條', '誠', '期', '轉', '텅', 'ト', '깅', '盛', '蘭', '閔', '魯', 'き', '備', '射', '隨', '괜', '멱', '浩', '私', '욤', '댕', '慈', '낯', '퓰', 'π', '聲', '丘', '内', '執', '€', '牛', '警', '좡', '今', '隊', '刑', '葉', '藩', '要', '念', '隱', '醫', '켐', '那', '放', '젓', '쥔', '以', '麻', '緣', '取', '킵', '列', '岳', '弼', '兼', 'γ', '淨', '뎀', '됩', '綱', '츨', '獨', '팎', '胡', '布', '質', '兒', '岡', '戦', '至', '桂', '聯', '팻', '±', '愼', '持', '謙', '훅', '檢', '改', '穆', '雙', 'は', '祿', '肅', '靜', '量', '캇', '觸', '羽', '製', '嶺', '希', '然', '若', '밧', '冠', 'ッ', '딤', 'く', '狀', '茂', '밈', '亂', 'ن', '封', '譜', '웜', '쉰', '圭', '洛', '由', 'お', '캥', '戒', '苦', '몄', '離', '띈', '釋', '쏠', '比', '錦', '約', '計', '랠', '聞', '助', '惱', '望', '賀', '썸', '퀀', '夢', '補', '銅', '于', '汝', 'я', 'ي', 'ク', '亨', '孔', '件', '飛', '珠', '뇰', '單', '甫', 'さ', '팥', 'δ', '帶', '卷', '欲', '兩', '委', '裵', '쑹', '칫', '剛', '末', '鏡', '뱌', 'ア', '摠', '考', '藥', '엌', '‧', '^', '왁', '客', '寅', '餘', '孟', '敏', '辛', '問', '屋', '樹', '杜', '易', '清', '짠', '尾', '恒', '鳥', '型', '留', 'à', '眼', '準', 'ī', 'て', '向', '誌', '쏜', '챠', '慕', '헴', 'η', '夷', '廷', '樓', '쐐', 'ç', '宰', '麟', '뭔', '퍽', '克', '役', '祥', '端', '윔', '쿵', '꽁', '威', '紅', '格', '滿', '環', '갸', '폈', '丞', '求', '黑', '솥', '技', '影', '会', '梅', '好', '晋', '葛', '釜', '鉉', 'г', '烏', '宅', '僉', '翰', 'あ', '究', '細', 'ь', '食', '쨌', 'ر', 'م', '厚', '己', 'و', '演', '叔', '辰', '摩', '넴', '乘', '講', '丙', '諫', '먀', '秉', '酒', '덥', '衡', '잖', '回', '啓', '選', '題', '騎', '깡', '뺏', '指', '曺', '證', '財', '乾', 'ち', '則', '쩍', '徳', '筆', '돛', '煩', '遊', 'É', 'â', 'タ', '增', '斷', '邱', '簡', '茶', '滅', '妙', '祐', '骨', '服', '話', '炳', '假', '籍', '敦', '未', '雅', '욜', '懿', '桓', '略', '젬', '句', '댁', 'こ', 'だ', '散', '宜', '条', '點', '콴', '昇', 'С', '邪', '늠', '雜', '裕', '딛', 'み', '軒', '銘', '얌', '扶', '輪', 'ы', '눕', '央', 'ú', '遼', '巨', '續', '革', '歸', 'シ', '뛴', '設', '刺', '襄', '鎬', '툭', '坊', '旗', '雪', '季', '擧', '硏', '策', '登', '盟', '뎅', '賜', '찻', 'つ', '休', '振', '曆', '丸', '征', '倭', '庶', '難', '칵', '震', 'ド', '庭', '繼', '固', '寬', '殷', '핌', '積', '廉', 'ч', '依', '契', '庫', '翁', '쑥', '貪', '卞', '勞', '病', '뮴', 'θ', 'が', '健', '놉', '앳', 'ί', 'ᄀ', 'を', '罪', '送', '읊', '簿', '峴', '最', '紙', '웁', '́', '俗', '旌', '感', '願', 'ω', '株', '欽', '版', '超', 'п', '洲', '옅', '姬', '贈', '際', '뺨', '힉', '刻', '坡', '寫', '皮', '⁄', '注', '童', '땐', '볕', '캬', 'も', '夜', '消', '燮', '뛸', 'υ', '詞', '賓', '邦', '★', '紫', 'ά', '翊', '쉘', '爾', '琴', '뺀', '懷', '漏', '僕', '再', '勢', '逸', 'す', '梵', '룀', 'カ', '晩', 'マ', '旅', '組', 'ᄋ', '区', '匡', '潤', '蒙', '諦', '횃', 'ό', '徒', '盤', '鑑', 'Δ', '←', '程', '蓋', '追', '介', '팸', 'れ', '深', '鼎', 'б', '序', 'え', '甘', '速', '過', '陶', 'よ', '歷', '썹', '쭈', '切', '鐘', '∙', '才', '県', '亮', '惟', '納', '엷', '磨', '巡', '站', '뀔', '봅', '料', '뽕', '凉', '止', '症', '퀵', 'د', '譯', '掌', '殺', '浮', '옙', '構', '팁', 'ジ', 'ロ', '配', '落', '壤', '芳', '샛', '推', '楚', '웸', 'š', 'з', '存', '毅', '刊', '熊', '꼰', '斯', '磁', '勇', 'ñ', '習', '背', 'ł', '꿇', '텃', '畿', '碩', '編', '置', '蘊', '갠', '숄', '尼', '虛', '於', '灣', '露', '땡', '춧', '泳', 'х', 'レ', '宿', '戸', '넵', '施', '頼', 'ê', '也', '而', '袁', '奴', '疏', '染', '維', '述', '活', '織', '씹', 'キ', '텡', '嬪', '街', '깬', '쉼', 'け', '項', 'フ', '率', '鹿', '失', '岐', '켤', 'ب', '祚', '迦', '냇', '뎌', '評', '깼', '奏', '當', '짤', '튿', '勒', '将', '崎', '뻘', '壁', '峯', '稅', '鳴', 'К', '輝', '差', '帥', '熱', '真', '〜', '專', '弟', '與', '告', '墳', '鬼', 'ß', '긁', '何', '干', '幸', '揚', '導', '米', '坪', '潭', '睦', 'ニ', '倫', '規', '墨', '爭', '步', 'コ', '堅', '模', '階', '刀', '援', '꽉', '찼', '휼', 'オ', '標', '닙', '뱉', '펨', 'ᄂ', 'っ', '冬', '舜', 'А', '移', '貢', '徽', '血', '賊', '蹟', '쇤', '撰', '獄', '紋', '綠', '引', '壬', '燈', '耶', '댑', '享', '決', '錢', '텟', '폄', '幕', '渡', '謝', '꺽', '눗', 'ᄅ', '案', '兪', '眠', '視', '貫', '깍', 'じ', '害', '蔚', '랗', '윳', '홑', '吾', '耳', '賞', '鼓', '其', '嗣', '葬', 'ô', '午', '奈', '弓', '愚', '照', '邉', 'ᄃ', '勤', '般', '輸', '撫', '青', '줍', '紹', '裝', '▲', '阮', '段', '솝', 'で', '秘', '胤', '辭', '힝', 'ᄆ', '豆', '솅', 'æ', 'ı', '候', '坂', '讀', '限', '얏', '戱', '浪', '伽', '庚', '歲', '쏴', '伏', '됭', '젼', '函', '操', '教', 'ナ', '栗', 'ū', 'φ', 'М', '豫', '査', '降', '웡', '喪', '魔', '算', '쌈', '쭤', '附', '뢴', '劍', '篇', '鴻', 'ə', 'や', '堤', '微', '忍', '授', '쎄', 'わ', '兄', '喆', '齡', '챕', 'ᅳ', '帖', '芝', '薛', '쫒', '諡', '£', 'П', '関', '頂', '符', '륀', 'ウ', '뎃', '創', '禧', '뜩', '傅', '壯', '材', '庄', '稷', '破', '鬪', '춥', '曾', '顔', '唱', '塚', '睿', '瞋', '障', '빴', '是', '班', '韻', '뎬', '幀', '級', '惑', '映', '蜀', '衍', '哀', '肉', '号', '廢', '彩', '接', '赫', '寒', 'س', '優', '閭', '뵤', '쩡', 'テ', '收', '脈', 'ø', 'ć', '伐', '脫', '舌', '還', '驪', '놨', '森', '檀', '須', 'В', 'ノ', 'ミ', '淮', '董', '郵', 'ш', '─', '冊', '꿩', '텁', 'バ', '箕', '萊', '談', '⟫', 'ャ', '徵', '油', '땜', '숱', '佑', '攝', '経', '묀', '찹', '岸', '救', '牙', '鍊', '̊', '包', '桃', '菴', '巴', '癡', '碧', '展', '請', '맙', '헵', '⟪', '味', '尺', '孤', '幹', '敵', '꿉', '튕', '給', '齒', '씽', '宝', '漁', '稱', '終', '讓', '退', '匠', '卯', '舟', '蔵', '黎', '놔', 'エ', 'チ', '融', '랸', 'ã', '去', '婦', '疑', '댜', '륄', '젱', '찜', 'サ', '逆', '떴', '卓', '潘', '볜', '헹', 'ع', '梨', '뤽', '뽐', '亥', '絶', '跋', '넋', '좇', 'έ', '寂', '잿', '橫', '番', '雍', '例', '崖', '換', '駐', '鷄', 'ひ', '唯', '実', '必', '陣', '빡', '쌌', '審', '蕭', 'ت', '羊', '숯', '컹', '仕', '湯', 'モ', '屯', '默', '县', '強', '腹', '썽', 'ュ', '價', '示', '옻', '잰', '햐', 'ᅵ', '柴', '旭', '覆', '賦', '鹽', '셍', '巫', '彭', '酉', '〕', '輿', '얗', '了', '婆', '戊', '毘', '菊', '著', '귈', '묄', '便', '培', '愍', '胎', '꿋', 'ィ', '慢', '爵', '뻣', '숏', '他', '낵', '潮', '탸', 'ē', '俱', '祀', '껌', 'ō', '〔', '댔', '볏', '앎', '흄', '貨', '푀', 'め', '築', '航', 'Б', 'י', 'グ', '妻', '朔', '澄', '禎', '遂', '酸', '丈', 'χ', 'ц', '巳', '濬', 'Р', '砲', '쌔', '広', '뷸', '녘', '括', '泥', '牟', '굼', '밌', '븀', '핥', 'Đ', '□', '停', '打', '折', '癸', '蔣', '覽', 'ư', 'ば', '牌', '탯', 'ょ', '輕', 'ズ', 'ム', '片', '헷', '底', '及', '듦', '줏', 'ه', '仇', '複', '軌', '툇', '占', '幡', '莫', '衙', '쳇', '万', '稿', 'ハ', '楽', 'プ', '祝', 'ή', '拳', '沃', '着', '蟲', '鎌', '炎', '탉', '戴', '整', '泗', 'ガ', '裁', '똘', 'メ', '肖', '駿', '챗', '券', '尚', '짊', '\\xad', 'ブ', '拓', '殊', 'ă', 'ˈ', 'ᄉ', '升', '召', '嫡', '庸', '槐', '沢', '突', '筵', '討', '乳', '擊', '菜', '휜', '佳', '尋', '店', '桐', '놋', '彰', '杉', '梧', '短', '쨩', '禍', '范', '鼻', '測', '曉', '朗', '枝', '鎮', '除', '덫', '坤', '就', '敍', 'Α', 'ろ', '係', '抗', '遷', '갬', 'ë', 'ː', '災', 'ᄇ', 'ゃ', '傑', '勅', '奭', '彈', '戌', '淡', '炯', '訴', 'И', '宙', '彫', '訪', '註', '냑', 'ύ', '凡', 'Н', '丑', '競', '賈', '辨', '溝', '藍', '幢', '態', '早', '갭', 'า', '胞', '荷', '被', '悲', '抄', '暴', '漆', '虞', 'ح', '壺', '槃', '汗', '耆', '額', '●', '穴', '雷', 'デ', '昊', '渾', '笠', 'Π', '乱', '昧', '苑', '荊', '待', '氷', '豪', '履', '甁', '遍', '郷', '魂', 'č', '乃', '禦', '綜', '綾', '艦', '閑', '隋', '괭', '눙', '욧', '仰', '幽', '探', '核', '穀', '卜', '各', '婚', '鈴', '塘', '毒', '炭', '粉', '鉢', '췬', 'Г', '∞', '垂', '扈', '賴', '껀', '젭', 'Σ', '犯', '遞', '拜', '눴', '沖', '珪', '采', '귓', '亡', '側', '呼', '権', '沼', '砂', '賣', '넙', 'ş', '█', '悟', '捨', '涅', '租', '頌', '앴', '첵', 'ふ', '濃', '荒', '費', '遇', '닳', 'ו', '儉', '迎', '뉠', '쁠', '쿱', '悅', '熟', '蕃', '궂', '쭝', 'å', '云', '企', '浚', '薰', '넜', 'Á', 'ж', '་', '投', '来', '耕', 'Т', '為', '総', '肥', '陜', '뺄', 'ゆ', '伴', '供', '宴', '按', '絲', '謹', '走', '긱', 'ぶ', '応', '卽', '庾', '效', '曰', '跡', 'そ', '卒', '哈', '浜', '鏞', '튤', '懸', '矢', '認', '뷜', 'ダ', '余', '卑', '寛', '床', '排', '擇', '晴', '璋', '網', 'ビ', '低', '急', '暗', '更', '盡', '黄', '넝', '숴', 'ق', '姫', '屠', '뵐', 'ی', '幼', '杖', '樣', '驗', '늉', '뚤', '콸', '億', '謀', '軸', '陟', '깟', '伝', '僞', '筑', '縛', '諱', '쥰', 'パ', '席', '攻', '晶', '섣', 'Д', 'ה', 'ف', 'せ', 'ど', 'ワ', '倍', '宏', '息', '窟', '鎔', '兆', '堯', '菌', '諭', 'ᄌ', '勿', '灘', '鄧', '헉', '冷', '彬', '獸', '舒', '馮', '喬', '忘', '眉', '緖', '豐', '飯', '쳅', '팹', '免', '含', '播', '洗', '燦', '瓦', '꾹', '垣', '奮', '招', '瀬', '謨', '겜', '†', 'ず', '圈', '烽', '迪', 'Л', 'ة', '銃', '쟝', '짬', 'ᄒ', '又', '戎', '緯', '훠', 'ᄏ', '塾', '駕', '鷹', '뎠', '솽', '펍', '【', '】', '束', '答', '買', '頓', '髮', '돤', 'ר', '壓', '奥', '蔭', '衝', '뭘', 'ج', 'ツ', '呪', '課', '頃', 'Κ', '党', '冥', '慰', '負', '껄', '벰', 'Ö', '↔', '憂', '昆', '텨', 'О', '浙', '蒲', '詳', '윕', '东', '充', '損', '뀜', '몐', '셤', '왠', 'ョ', '忽', '扇', '蜜', '劑', '强', '架', '索', '聚', '黒', '涉', '混', 'ร', '体', '渠', '犬', '篆', '險', '뗀', 'ð', 'ơ', 'ェ', '荀', '阪', '寄', '悌', '掛', '湘', '爐', '辦', 'ŋ', 'ほ', 'セ', '押', '詔', '괵', '듄', '셧', '숟', 'Φ', '沿', '綏', '韋', '뗏', '쬐', '팠', 'ï', 'ケ', '偏', '寇', '往', '揮', '樑', '訥', '阜', '샥', '텼', '⋅', 'び', '迷', '雀', '믐', '뷴', '쫄', 'î', 'ý', '瞻', '鑄', '빤', '푈', '伸', '嶽', '潛', '灌', '疾', '筒', '羲', '겅', '떳', '偉', '対', '戚', '拉', '糖', '訟', '顧', '맣', '왑', '此', '澈', '箭', '켠', 'ò', 'ệ', '付', '忌', '桑', '絃', '챘', '堀', '帽', '悼', '沒', '甄', '笑', '鉄', '镇', '雕', '닻', '씰', 'む', '傷', '屛', '幾', '溟', '練', '襲', '왐', '参', '綿', '諺', '適', '只', '姚', '晦', '満', '쏙', '챤', '≤', 'ね', '乞', '柔', '栢', '樊', '蒼', '観', '鑛', '끽', '숑', 'ś', 'א', '々', '꼿', 'ヶ', '갉', '뎁', '似', '广', '捕', '橘', '覇', '鵬', 'Ε', 'أ', 'ボ', '堡', '蘆', '蛇', '쪄', '刹', '郁', 'ž', '廊', '浅', '繫', '耽', '샅', '햅', '吹', '渓', '僖', '娘', '巾', '斤', '燧', '畫', '療', '线', '貝', '遮', '隣', '霞', 'э', 'ю', 'น', '冀', '脚', '誤', '꿍', '쥴', '톳', 'Å', 'ァ', '塵', '已', '看', '祉', '綬', '訣', '違', '넹', '뺑', '뻑', 'ᅡ', '旦', '游', '纂', '芸', '짼', '쳄', '휨', 'Š', 'ա', 'げ', '慮', '琉', '翔', 'ネ', '値', '劃', '斥', '暦', '瑜', '膺', 'ù', '借', '勸', '吐', '峻', '曜', '減', '燁', '皆', '窯', '膜', '零', '従', '循', '晟', '狄', '猛', '璿', '禄', '互', '圃', '幻', '燒', '獅', '瓊', '盜', '萱', '讚', '뭍', '債', '婢', '裏', '譚', '貿', '鳩', 'ế', '円', '屈', '歐', '漫', '皐', '趣', '鐸', '岑', '旋', '갛', 'ش', 'ヤ', '勉', '婁', '杏', '杓', '汀', '煙', '礙', '稽', '竿', '賤', '遣', '馨', '割', '卵', '塞', '変', '寵', '怪', '斬', '横', '狂', '珉', '避', '땔', '묽', '짰', '칡', 'ベ', '揆', '敞', '榜', '琳', '盆', '翠', '闕', '넸', '्', '恪', '挺', '擬', '旺', '棋', '睡', '翟', '裴', 'へ', 'ゅ', '亀', '抱', '湛', '粹', '솁', '쉔', '힛', 'ì', 'ń', '伎', '弐', '衿', '껫', '톄', 'ψ', 'ك', 'र', 'ソ', '姑', '弁', '怡', '昔', '杞', '畢', '確', '礪', '祈', '肇', '趾', '週', '預', 'ğ', 'Λ', 'ё', '誘', '閤', '륌', '폿', '徹', '殉', '遵', '邵', '閉', '飾', '빳', '쩨', '쳉', 'Ω', 'َ', '凝', '媛', '恐', '斎', '票', '辯', '閻', '켁', '斜', '熹', '画', '畜', '縱', '藻', '遜', '냘', '횔', 'ф', '個', '倒', '寿', '廻', '析', '沛', '炫', '窩', '腦', '説', '龐', '냔', 'ě', '♪', '串', '廬', '恵', '涼', '濱', '繁', '纏', '邸', '욥', '잽', '튈', 'ز', 'ᄎ', 'ᅩ', 'ḥ', '叢', '妄', '帳', '湜', '盈', '祗', '羌', '聰', '肩', '駒', '뒬', 'Μ', 'ξ', '„', '竺', '腸', '託', '録', '®', 'У', 'ב', '卦', '壞', '拔', '杭', '渭', '糧', '脂', '謁', '퉈', 'ạ', 'ピ', '奧', '峽', '快', '柏', '漸', '隸', '顕', '섐', '탰', 'ᄑ', '妓', '朋', '札', '棟', '檜', '渤', '珥', '畠', '秩', '詠', '鴨', '빻', 'Ü', 'і', '‚', 'ヒ', '凰', '峙', '灰', '猿', '瑩', '繡', '脩', '詮', '謠', '铁', 'ぎ', '圍', '崗', '敷', '溶', '脣', '苻', '醴', '隅', '좨', '쭐', 'מ', '场', '幣', '弥', '捷', '皓', '績', '誓', '陝', '녓', '씁', '윷', '죤', 'Γ', 'ご', '否', '彼', '悔', '滉', '狗', '窮', '褒', '輯', '鈞', '鎖', '뢸', 'ा', '什', '叉', '棺', '牒', '猶', '逢', '鄒', '銓', '閱', '▶', 'ぬ', '倂', '冶', '凶', '患', '液', '瀛', '疇', '筋', '薄', '裂', '阳', '냠', '찧', 'ζ', 'ṭ', 'ễ', '夕', '尤', '拘', '柄', '璽', '需', '響', '뗄', '∎', '勃', '戀', '楷', '歡', '溥', '軾', '鎰', '駅', '윰', '予', '伺', '採', '紗', '詹', '針', '飮', '黔', '깰', '멎', '틋', 'ܐ', '寸', '崙', '拾', '獲', '祇', '禿', '蠶', '遲', '鋼', '飡', '亦', '滋', '疫', '硬', '꽈', '뵙', '셩', '웩', '츤', 'ל', 'ა', 'ザ', 'ポ', '吸', '巢', '恨', '據', '暉', '楞', '电', '畏', '誕', 'ʼ', 'ก', 'ᄐ', '僚', '嵌', '椒', '爆', '瓚', '研', '篤', '胄', '螺', 'ʿ', 'ъ', '倻', '償', '哉', '爀', '狼', '窓', 'ง', '与', '你', '凌', '危', '坦', '塑', '弗', '弱', '械', '棲', '澗', '誼', '뜀', '솀', 'ɪ', 'Ο', 'อ', '♭', 'ぐ', '滄', '苗', '趺', '밉', '뺐', '‰', 'ゴ', '冕', '団', '旻', '瑛', '穡', '辺', '잴', '쫑', 'ώ', 'ᅮ', '偶', '厭', '当', '殘', '滑', '瓜', '竟', '臧', '醉', '隴', '믄', '웽', '쿈', '훑', 'Β', '図', '幅', '恋', '愧', '暎', '槍', '粒', '縮', '臥', '虹', '衰', '醮', '霖', '퍄', '§', 'Č', 'đ', 'ʻ', 'Ф', 'ი', 'ṣ', 'ギ', '凱', '叱', '幷', '批', '晃', '栄', '每', '気', '琦', '禾', '諍', '辟', '鞍', '韶', '驅', '쐈', '쾡', '홰', 'Θ', 'ม', 'ホ', '兎', '峨', '曼', '沆', '瀑', '燃', '罰', '聽', '腫', '腺', '莞', '鱗', '뷧', 'ط', '丕', '兢', '到', '媒', '悳', '掾', '旬', '曇', '汚', '涵', '牡', '猫', '璧', '郊', '髻', '鬱', '龙', 'З', 'べ', 'ヴ', '墩', '拍', '敗', '旣', '椿', '沔', '点', '籠', '継', '耀', '豹', '貸', '閩', '鞠', '쇳', '쟌', '刷', '哥', '懺', '昕', '楓', '痛', '矣', '礎', '竇', '虜', '鄴', '겊', '꽌', '垈', '尸', '慚', '楠', '絹']\n"
          ]
        }
      ]
    },
    {
      "cell_type": "markdown",
      "source": [
        "<br>"
      ],
      "metadata": {
        "id": "qZP2tSU065J6"
      }
    },
    {
      "cell_type": "code",
      "source": [
        "# [CLS], tokens a, [SEP], tokens b, [SEP] 형태의 token 생성"
      ],
      "metadata": {
        "id": "RcESkBYt66zK"
      },
      "execution_count": null,
      "outputs": []
    },
    {
      "cell_type": "code",
      "source": [
        "string_a = \"추적추적 비가 내리는 날이었어 그날은 왠지 손님이 많아 첫 번에 삼십 전 둘째번 오십 전 오랜만에 받아보는 십 전짜리 백통화 서푼에\"\n",
        "string_b = \"손바닥 위엔 기쁨의 눈물이 흘러 컬컬한 목에 모주 한잔을 적셔 몇 달 포 전부터 콜록거리는 아내 생각에 그토록 먹고 싶다던\""
      ],
      "metadata": {
        "id": "lwx_qZzb674T"
      },
      "execution_count": null,
      "outputs": []
    },
    {
      "cell_type": "code",
      "source": [
        "tokens_org = [\"[CLS]\"] + vocab.encode_as_pieces(string_a) + [\"[SEP]\"] + vocab.encode_as_pieces(string_b) + [\"[SEP]\"]"
      ],
      "metadata": {
        "id": "OyIW2rzP7AbD"
      },
      "execution_count": null,
      "outputs": []
    },
    {
      "cell_type": "code",
      "source": [
        "print(tokens_org)"
      ],
      "metadata": {
        "colab": {
          "base_uri": "https://localhost:8080/"
        },
        "id": "LcYlmgwQ7Adb",
        "outputId": "57cbf7b8-fb23-4a44-d088-ed4607ec2c21"
      },
      "execution_count": null,
      "outputs": [
        {
          "output_type": "stream",
          "name": "stdout",
          "text": [
            "['[CLS]', '▁추', '적', '추', '적', '▁비', '가', '▁내', '리는', '▁날', '이었', '어', '▁그', '날', '은', '▁', '왠', '지', '▁손', '님', '이', '▁많', '아', '▁첫', '▁번', '에', '▁삼', '십', '▁전', '▁둘', '째', '번', '▁오', '십', '▁전', '▁오', '랜', '만에', '▁받아', '보', '는', '▁십', '▁전', '짜', '리', '▁백', '통', '화', '▁서', '푼', '에', '[SEP]', '▁손', '바', '닥', '▁위', '엔', '▁기', '쁨', '의', '▁눈', '물이', '▁흘', '러', '▁컬', '컬', '한', '▁목', '에', '▁모', '주', '▁한', '잔', '을', '▁적', '셔', '▁몇', '▁달', '▁포', '▁전', '부터', '▁콜', '록', '거', '리는', '▁아내', '▁생각', '에', '▁그', '토', '록', '▁먹', '고', '▁싶', '다', '던', '[SEP]']\n"
          ]
        }
      ]
    },
    {
      "cell_type": "markdown",
      "source": [
        "<br><br>"
      ],
      "metadata": {
        "id": "4umFSGt44Yzk"
      }
    },
    {
      "cell_type": "markdown",
      "source": [
        "### **2. 데이터 전처리 (1) MASK 생성**\n",
        "<br>"
      ],
      "metadata": {
        "id": "xvnAPVnL4Y3U"
      }
    },
    {
      "cell_type": "markdown",
      "source": [
        "BERT의 MLM에 필요한 빈칸(mask)을 학습 데이터 전체 토큰의 15% 정도로 만들어 주세요.\n",
        "\n",
        "그 중 80%는 [MASK] 토큰, 10%는 랜덤한 토큰, 나머지 10%는 원래의 토큰을 그대로 사용하세요.\n",
        "\n",
        "<br>"
      ],
      "metadata": {
        "id": "Y8SXtvE24bdM"
      }
    },
    {
      "cell_type": "code",
      "source": [
        "# 전체 token의 15% mask"
      ],
      "metadata": {
        "id": "9XuZPENy4Gdk"
      },
      "execution_count": null,
      "outputs": []
    },
    {
      "cell_type": "code",
      "source": [
        "mask_cnt = int((len(tokens_org) - 3) * 0.15)\n",
        "mask_cnt"
      ],
      "metadata": {
        "colab": {
          "base_uri": "https://localhost:8080/"
        },
        "id": "X-0WlVsU7dDe",
        "outputId": "74fc23d9-f6e9-41b0-e90a-c221075dd442"
      },
      "execution_count": null,
      "outputs": [
        {
          "output_type": "execute_result",
          "data": {
            "text/plain": [
              "14"
            ]
          },
          "metadata": {},
          "execution_count": 29
        }
      ]
    },
    {
      "cell_type": "markdown",
      "source": [
        "<br>"
      ],
      "metadata": {
        "id": "iAxzh9Qi70kb"
      }
    },
    {
      "cell_type": "code",
      "source": [
        "# Masked LM을 위한 코퍼스 생성 메소드 생성"
      ],
      "metadata": {
        "id": "zwMTnCs27eLa"
      },
      "execution_count": null,
      "outputs": []
    },
    {
      "cell_type": "code",
      "source": [
        "import random\n",
        "\n",
        "def create_pretrain_mask(tokens, mask_cnt, vocab_list):\n",
        "    \"\"\"\n",
        "    마스크 생성\n",
        "    - param tokens: tokens\n",
        "    - param mask_cnt: mask 개수 (전체 tokens의 15%)\n",
        "    - param vocab_list: vocab list (random token 용)\n",
        "    - return tokens: mask된 tokens\n",
        "    - return mask_idx: mask된 token의 index\n",
        "    - return mask_label: mask된 token의 원래 값\n",
        "    \"\"\"\n",
        "    # 단어 단위로 mask 하기 위해서 index 분할 (띄어쓰기)\n",
        "    cand_idx = []  # word 단위의 index array\n",
        "    for (i, token) in enumerate(tokens):\n",
        "        if token == \"[CLS]\" or token == \"[SEP]\":\n",
        "            continue\n",
        "        if 0 < len(cand_idx) and not token.startswith(u\"\\u2581\"):\n",
        "            cand_idx[-1].append(i)\n",
        "        else:\n",
        "            cand_idx.append([i])\n",
        "\n",
        "    # random mask를 위해서 순서를 섞음 (shuffle)\n",
        "    random.shuffle(cand_idx)\n",
        "\n",
        "    mask_lms = []  # mask 된 값\n",
        "    for index_set in cand_idx:\n",
        "        if len(mask_lms) >= mask_cnt:\n",
        "            break\n",
        "        if len(mask_lms) + len(index_set) > mask_cnt:\n",
        "            continue\n",
        "        dice = random.random()\n",
        "\n",
        "        for index in index_set:\n",
        "            masked_token = None\n",
        "            if dice < 0.8:  # 80% replace with [MASK]\n",
        "                masked_token = \"[MASK]\"\n",
        "            elif dice < 0.9:  # 10% keep original\n",
        "                masked_token = tokens[index]\n",
        "            else:  # 10% random word\n",
        "                masked_token = random.choice(vocab_list)\n",
        "            mask_lms.append({\"index\": index, \"label\": tokens[index]})\n",
        "            tokens[index] = masked_token\n",
        "\n",
        "    # mask_lms 정렬 후 mask_idx, mask_label 추출 (sorted 사용)\n",
        "    mask_lms = sorted(mask_lms, key=lambda x: x[\"index\"])\n",
        "    mask_idx = [p[\"index\"] for p in mask_lms]\n",
        "    mask_label = [p[\"label\"] for p in mask_lms]\n",
        "\n",
        "    return tokens, mask_idx, mask_label"
      ],
      "metadata": {
        "id": "3tTp2AMr75an"
      },
      "execution_count": null,
      "outputs": []
    },
    {
      "cell_type": "markdown",
      "source": [
        "<br>"
      ],
      "metadata": {
        "id": "BDTy4dDZ84ba"
      }
    },
    {
      "cell_type": "code",
      "source": [
        "# create_pretrain_mask() 수행 결과 확인"
      ],
      "metadata": {
        "id": "edJM8Jue8bzB"
      },
      "execution_count": null,
      "outputs": []
    },
    {
      "cell_type": "code",
      "source": [
        "print(\"tokens_org\")\n",
        "print(tokens_org)"
      ],
      "metadata": {
        "colab": {
          "base_uri": "https://localhost:8080/"
        },
        "id": "WTpDKLh_89JY",
        "outputId": "ae1346a9-8411-4ee7-d2dc-19702c313dc6"
      },
      "execution_count": null,
      "outputs": [
        {
          "output_type": "stream",
          "name": "stdout",
          "text": [
            "tokens_org\n",
            "['[CLS]', '▁추', '적', '추', '적', '▁비', '가', '▁내', '리는', '▁날', '이었', '어', '▁그', '날', '은', '▁', '왠', '지', '▁손', '님', '이', '▁많', '아', '▁첫', '▁번', '에', '▁삼', '십', '▁전', '▁둘', '째', '번', '▁오', '십', '▁전', '▁오', '랜', '만에', '▁받아', '보', '는', '▁십', '▁전', '짜', '리', '▁백', '통', '화', '▁서', '푼', '에', '[SEP]', '▁손', '바', '닥', '▁위', '엔', '▁기', '쁨', '의', '▁눈', '물이', '▁흘', '러', '▁컬', '컬', '한', '▁목', '에', '▁모', '주', '▁한', '잔', '을', '▁적', '셔', '▁몇', '▁달', '▁포', '▁전', '부터', '▁콜', '록', '거', '리는', '▁아내', '▁생각', '에', '▁그', '토', '록', '▁먹', '고', '▁싶', '다', '던', '[SEP]']\n"
          ]
        }
      ]
    },
    {
      "cell_type": "code",
      "source": [
        "import copy\n",
        "tokens = copy.deepcopy(tokens_org)  # tokens가 mask되므로 재실행을 위해서 넣어줌 (테스트용)"
      ],
      "metadata": {
        "id": "VM7Cq61B98_C"
      },
      "execution_count": null,
      "outputs": []
    },
    {
      "cell_type": "code",
      "source": [
        "tokens, mask_idx, mask_label = create_pretrain_mask(tokens, mask_cnt, vocab_list)"
      ],
      "metadata": {
        "id": "s2Uyoh2Q8-VR"
      },
      "execution_count": null,
      "outputs": []
    },
    {
      "cell_type": "code",
      "source": [
        "print(\"tokens\")\n",
        "print(tokens)"
      ],
      "metadata": {
        "colab": {
          "base_uri": "https://localhost:8080/"
        },
        "id": "uH2e9fjW9Rh4",
        "outputId": "1899d771-4ec5-4825-94b1-ffe405f6f8ed"
      },
      "execution_count": null,
      "outputs": [
        {
          "output_type": "stream",
          "name": "stdout",
          "text": [
            "tokens\n",
            "['[CLS]', '▁추', '적', '추', '적', '▁비', '가', '▁내', '리는', '▁날', '이었', '어', '▁그', '날', '은', '▁', '왠', '지', '▁손', '님', '이', '▁많', '아', '▁첫', '[MASK]', '[MASK]', '▁삼', '십', '▁전', '▁둘', '째', '번', '▁오', '십', '▁전', '[MASK]', '[MASK]', '[MASK]', '▁받아', '보', '는', '▁십', '▁전', '짜', '리', '[MASK]', '[MASK]', '[MASK]', '▁서', '푼', '에', '[SEP]', '▁손', '바', '닥', '▁위', '엔', '▁기', '쁨', '의', '▁눈', '물이', '▁흘', '러', '▁컬', '컬', '한', '▁목', '에', '▁모', '주', '▁한', '잔', '을', '▁적', '셔', '▁몇', '▁달', '▁포', '[MASK]', '[MASK]', '▁콜', '록', '거', '리는', '▁아내', '▁생각', '에', '▁그', '토', '록', '▁먹', '고', 'ine', '댁', '_3', '[SEP]']\n"
          ]
        }
      ]
    },
    {
      "cell_type": "code",
      "source": [
        "print(\"mask_idx   :\", mask_idx)\n",
        "print(\"mask_label :\", mask_label)"
      ],
      "metadata": {
        "colab": {
          "base_uri": "https://localhost:8080/"
        },
        "id": "TOsTallK-wbw",
        "outputId": "3b98eeca-2917-489f-c840-d8025483d81c"
      },
      "execution_count": null,
      "outputs": [
        {
          "output_type": "stream",
          "name": "stdout",
          "text": [
            "mask_idx   : [24, 25, 34, 35, 36, 37, 45, 46, 47, 79, 80, 93, 94, 95]\n",
            "mask_label : ['▁번', '에', '▁전', '▁오', '랜', '만에', '▁백', '통', '화', '▁전', '부터', '▁싶', '다', '던']\n"
          ]
        }
      ]
    },
    {
      "cell_type": "markdown",
      "source": [
        "<br><br>"
      ],
      "metadata": {
        "id": "pjQefzHl_ES9"
      }
    },
    {
      "cell_type": "markdown",
      "source": [
        "### **3. 데이터 전처리 (2) NSP pair 생성**\n",
        "<br>"
      ],
      "metadata": {
        "id": "-aq1xwtx_EYh"
      }
    },
    {
      "cell_type": "markdown",
      "source": [
        "BERT의 pretrain task인 NSP는 두 문장이 연속하는지 확인하는 것입니다.\n",
        "\n",
        "이를 위해 2개의 문장을 짝지어 50%의 확률로 TRUE와 FALSE를 지정해 주세요.\n",
        "\n",
        "두 문장 사이에 segment 처리를 해주세요.\n",
        "\n",
        "첫 번째 문장의 segment는 0, 두 번째 문장은 1로 채워준 후 둘 사이에 구분자인 [SEP] 등을 넣어주세요.\n",
        "\n",
        "MLM과 NSP는 동시에 학습된다는 것을 염두에 두고 학습 데이터를 구성해 보세요.\n",
        "\n",
        "<br>"
      ],
      "metadata": {
        "id": "hBiva2o7_Eop"
      }
    },
    {
      "cell_type": "code",
      "source": [
        "# Next Sentence Prediction을 위한 코퍼스 생성 메소드"
      ],
      "metadata": {
        "id": "fpnnUyh-_PyE"
      },
      "execution_count": null,
      "outputs": []
    },
    {
      "cell_type": "code",
      "source": [
        "def create_pretrain_instances(vocab, doc, n_seq, mask_prob, vocab_list):\n",
        "    \"\"\"\n",
        "    doc별 pretrain 데이터 생성\n",
        "    \"\"\"\n",
        "    # for CLS], [SEP], [SEP]\n",
        "    max_seq = n_seq - 3\n",
        "\n",
        "    instances = []\n",
        "    current_chunk = []\n",
        "    current_length = 0\n",
        "\n",
        "    # Token Trim 함수\n",
        "    for i in range(len(doc)):\n",
        "        # [[YOUR CODE]]\n",
        "        current_chunk.append(doc[i])\n",
        "        current_length += len(doc[i])\n",
        "        if 1 < len(current_chunk) and (i == len(doc) - 1 or current_length >= max_seq):\n",
        "            # token a\n",
        "            a_end = 1\n",
        "            if 1 < len(current_chunk):\n",
        "                a_end = random.randrange(1, len(current_chunk))\n",
        "            tokens_a = []\n",
        "            for j in range(a_end):\n",
        "                tokens_a.extend(current_chunk[j])\n",
        "            # token b\n",
        "            tokens_b = []\n",
        "            for j in range(a_end, len(current_chunk)):\n",
        "                tokens_b.extend(current_chunk[j])\n",
        "\n",
        "            if random.random() < 0.5:  # 50% 확률로 swap\n",
        "                is_next = 0    # False\n",
        "                tokens_t = tokens_a\n",
        "                tokens_a = tokens_b\n",
        "                tokens_b = tokens_t\n",
        "            else:\n",
        "                is_next = 1   # True\n",
        "\n",
        "            # max_seq 보다 큰 경우 길이 조절\n",
        "            while True:\n",
        "                total_length = len(tokens_a) + len(tokens_b)\n",
        "                if total_length <= max_seq:\n",
        "                    break\n",
        "                if len(tokens_a) > len(tokens_b):\n",
        "                    del tokens_a[0]\n",
        "                else:\n",
        "                    tokens_b.pop()\n",
        "\n",
        "            # tokens & segment 생성\n",
        "            tokens = [\"[CLS]\"] + tokens_a + [\"[SEP]\"] + tokens_b + [\"[SEP]\"]\n",
        "            segment = [0] * (len(tokens_a) + 2) + [1] * (len(tokens_b) + 1)\n",
        "\n",
        "            # mask\n",
        "            tokens, mask_idx, mask_label = create_pretrain_mask(tokens, int((len(tokens) - 3) * mask_prob), vocab_list)\n",
        "\n",
        "            instance = {\n",
        "                \"tokens\": tokens,\n",
        "                \"segment\": segment,\n",
        "                \"is_next\": is_next,\n",
        "                \"mask_idx\": mask_idx,\n",
        "                \"mask_label\": mask_label\n",
        "            }\n",
        "            instances.append(instance)\n",
        "\n",
        "            current_chunk = []\n",
        "            current_length = 0\n",
        "\n",
        "    return instances"
      ],
      "metadata": {
        "id": "6f1a0bjL_r_g"
      },
      "execution_count": null,
      "outputs": []
    },
    {
      "cell_type": "markdown",
      "source": [
        "<br>"
      ],
      "metadata": {
        "id": "2UBuWLuRAxjQ"
      }
    },
    {
      "cell_type": "code",
      "source": [
        "# create_pretrain_instances() 수행 결과 확인"
      ],
      "metadata": {
        "id": "Z4qd9xUgAhXz"
      },
      "execution_count": null,
      "outputs": []
    },
    {
      "cell_type": "code",
      "source": [
        "# 예시 문장\n",
        "string = \"\"\"추적추적 비가 내리는 날이었어\n",
        "그날은 왠지 손님이 많아\n",
        "첫 번에 삼십 전 둘째 번 오십 전\n",
        "오랜만에 받아보는 십 전짜리 백통화 서푼에\n",
        "손바닥 위엔 기쁨의 눈물이 흘러\n",
        "컬컬한 목에 모주 한잔을 적셔\n",
        "몇 달 포 전부터 콜록거리는 아내\n",
        "생각에 그토록 먹고 싶다던\n",
        "설렁탕 한 그릇을 이제는 살 수 있어\n",
        "집으로 돌아가는 길 난 문득 떠올라\n",
        "아내의 목소리가 거칠어만 가는 희박한 숨소리가\n",
        "오늘은 왠지 나가지 말라던 내 옆에 있어 달라던\n",
        "그리도 나가고 싶으면 일찍이라도 들어와 달라던\n",
        "아내의 간절한 목소리가 들려와\n",
        "나를 원망하듯 비는 점점 거세져\n",
        "싸늘히 식어가는 아내가 떠올라 걱정은 더해져\n",
        "난 몰라 오늘은 운수 좋은 날\n",
        "난 맨날 이렇게 살 수 있으면 얼마나 좋을까\"\"\""
      ],
      "metadata": {
        "id": "q88CDSrYAz8R"
      },
      "execution_count": null,
      "outputs": []
    },
    {
      "cell_type": "code",
      "source": [
        "# 줄 단위로 tokenize\n",
        "doc = [vocab.encode_as_pieces(line) for line in string.split(\"\\n\")]\n",
        "doc[:3]"
      ],
      "metadata": {
        "colab": {
          "base_uri": "https://localhost:8080/"
        },
        "id": "rD9kCOUlA4dr",
        "outputId": "8bdce6f5-0148-4f1f-cbfc-8f3b3479ab62"
      },
      "execution_count": null,
      "outputs": [
        {
          "output_type": "execute_result",
          "data": {
            "text/plain": [
              "[['▁추', '적', '추', '적', '▁비', '가', '▁내', '리는', '▁날', '이었', '어'],\n",
              " ['▁그', '날', '은', '▁', '왠', '지', '▁손', '님', '이', '▁많', '아'],\n",
              " ['▁첫', '▁번', '에', '▁삼', '십', '▁전', '▁둘', '째', '▁번', '▁오', '십', '▁전']]"
            ]
          },
          "metadata": {},
          "execution_count": 59
        }
      ]
    },
    {
      "cell_type": "code",
      "source": [
        "n_test_seq = 64  # 최대 길이\n",
        "instances = create_pretrain_instances(vocab, doc, n_test_seq, 0.15, vocab_list)"
      ],
      "metadata": {
        "id": "X8OvVG8HA5Uu"
      },
      "execution_count": null,
      "outputs": []
    },
    {
      "cell_type": "markdown",
      "source": [
        "<br>"
      ],
      "metadata": {
        "id": "Z8iI5A6EBgJg"
      }
    },
    {
      "cell_type": "code",
      "source": [
        "# 최종 데이터셋 결과 확인"
      ],
      "metadata": {
        "id": "LFEv0MzvBHci"
      },
      "execution_count": null,
      "outputs": []
    },
    {
      "cell_type": "code",
      "source": [
        "for instance in instances:\n",
        "    print(instance)"
      ],
      "metadata": {
        "colab": {
          "base_uri": "https://localhost:8080/"
        },
        "id": "l8nwieclBip_",
        "outputId": "15064ba8-92e4-45f8-f2dc-45107b0ccd7b"
      },
      "execution_count": null,
      "outputs": [
        {
          "output_type": "stream",
          "name": "stdout",
          "text": [
            "{'tokens': ['[CLS]', '적', '추', '적', '▁비', '가', '[MASK]', '[MASK]', '▁날', '이었', '어', '▁그', '날', '은', '▁', '왠', '지', '▁손', '님', '이', '▁많', '아', '▁첫', '▁번', '에', '[MASK]', '[MASK]', '[MASK]', '▁둘', '째', '▁번', '▁오', '십', '▁전', '[SEP]', '▁오', '랜', '만에', '▁받아', '보', '는', '[MASK]', '▁전', '짜', '리', '▁백', '통', '화', '▁서', '푼', '에', '▁손', '바', '닥', '▁위', '엔', '[MASK]', '[MASK]', '[MASK]', '▁눈', '물이', '▁흘', '러', '[SEP]'], 'segment': [0, 0, 0, 0, 0, 0, 0, 0, 0, 0, 0, 0, 0, 0, 0, 0, 0, 0, 0, 0, 0, 0, 0, 0, 0, 0, 0, 0, 0, 0, 0, 0, 0, 0, 0, 1, 1, 1, 1, 1, 1, 1, 1, 1, 1, 1, 1, 1, 1, 1, 1, 1, 1, 1, 1, 1, 1, 1, 1, 1, 1, 1, 1, 1], 'is_next': 1, 'mask_idx': [6, 7, 25, 26, 27, 41, 56, 57, 58], 'mask_label': ['▁내', '리는', '▁삼', '십', '▁전', '▁십', '▁기', '쁨', '의']}\n",
            "{'tokens': ['[CLS]', '▁컬', '컬', '한', '▁목', '에', '[MASK]', '[MASK]', '[MASK]', '[MASK]', '[MASK]', '▁적', '셔', '[SEP]', '▁몇', '▁달', '▁포', '▁전', '부터', '▁콜', '록', '거', '리는', '▁아내', '▁생각', '에', '▁그', '토', '록', '▁먹', '고', '▁싶', '다', '던', '▁설', '렁', '탕', '▁한', '▁그', '릇', '을', '▁이', '제는', '▁살', '▁수', '▁있어', '[MASK]', '[MASK]', '▁돌아', '가는', '[MASK]', '[MASK]', '▁문', '득', '▁떠', '올', '라', '▁아내', '의', '▁목', '소', '리가', '▁거', '[SEP]'], 'segment': [0, 0, 0, 0, 0, 0, 0, 0, 0, 0, 0, 0, 0, 0, 1, 1, 1, 1, 1, 1, 1, 1, 1, 1, 1, 1, 1, 1, 1, 1, 1, 1, 1, 1, 1, 1, 1, 1, 1, 1, 1, 1, 1, 1, 1, 1, 1, 1, 1, 1, 1, 1, 1, 1, 1, 1, 1, 1, 1, 1, 1, 1, 1, 1], 'is_next': 1, 'mask_idx': [6, 7, 8, 9, 10, 46, 47, 50, 51], 'mask_label': ['▁모', '주', '▁한', '잔', '을', '▁집', '으로', '▁길', '▁난']}\n",
            "{'tokens': ['[CLS]', '에', '▁있어', '▁달', '라', '던', '▁그리', '도', '▁나가', '고', '▁싶', '으면', '▁일', '찍', '이라', '도', '[MASK]', '[MASK]', '▁달', '라', '던', '▁아내', '의', '▁간', '절', '한', '[MASK]', '[MASK]', '[MASK]', '▁들', '려', '와', '[SEP]', '[MASK]', '[MASK]', '▁원', '망', '하', '듯', '▁비', '는', '[MASK]', '[MASK]', '▁거', '세', '져', '▁싸', '늘', '히', '▁식', '어', '가는', '▁아내', '가', '▁떠', '올', '라', '▁', '걱', '정은', '▁더', '해', '져', '[SEP]'], 'segment': [0, 0, 0, 0, 0, 0, 0, 0, 0, 0, 0, 0, 0, 0, 0, 0, 0, 0, 0, 0, 0, 0, 0, 0, 0, 0, 0, 0, 0, 0, 0, 0, 0, 1, 1, 1, 1, 1, 1, 1, 1, 1, 1, 1, 1, 1, 1, 1, 1, 1, 1, 1, 1, 1, 1, 1, 1, 1, 1, 1, 1, 1, 1, 1], 'is_next': 1, 'mask_idx': [16, 17, 26, 27, 28, 33, 34, 41, 42], 'mask_label': ['▁들어', '와', '▁목', '소', '리가', '▁나', '를', '▁점', '점']}\n",
            "{'tokens': ['[CLS]', '▁난', '▁맨', '날', '▁이렇게', '▁살', '▁수', '▁있', '으면', '▁얼마', '나', '▁좋', '을', '까', '[SEP]', '▁난', '▁몰', '라', '▁오늘', '은', '▁운', '수', '▁좋은', '[MASK]', '[SEP]'], 'segment': [0, 0, 0, 0, 0, 0, 0, 0, 0, 0, 0, 0, 0, 0, 0, 1, 1, 1, 1, 1, 1, 1, 1, 1, 1], 'is_next': 0, 'mask_idx': [9, 10, 23], 'mask_label': ['▁얼마', '나', '▁날']}\n"
          ]
        }
      ]
    },
    {
      "cell_type": "markdown",
      "source": [
        "<br><br>"
      ],
      "metadata": {
        "id": "m6Pwu0i-Bt93"
      }
    },
    {
      "cell_type": "markdown",
      "source": [
        "### **4. 데이터 전처리 (3) 데이터셋 완성**\n",
        "<br>"
      ],
      "metadata": {
        "id": "yEd_1WktBuAw"
      }
    },
    {
      "cell_type": "markdown",
      "source": [
        "BERT pretrain 데이터셋을 생성해, json 포맷으로 저장하세요.\n",
        "\n",
        "데이터셋의 사이즈가 크므로np.memmap을 사용해 메모리 사용량을 최소화해 보세요.\n",
        "\n",
        "<br>"
      ],
      "metadata": {
        "id": "5R_xysC-B1XQ"
      }
    },
    {
      "cell_type": "code",
      "source": [
        "# 데이터셋(kowiki.txt) 확인"
      ],
      "metadata": {
        "id": "Fo5H8WiHBjWi"
      },
      "execution_count": null,
      "outputs": []
    },
    {
      "cell_type": "code",
      "source": [
        "corpus_file = '/content/drive/MyDrive/Colab/05_Colab_AIFFEL_2023/09_GOINGDEEPER/01_GD_NLP/Quest_07/bert_pretrained/data/kowiki.txt'"
      ],
      "metadata": {
        "id": "JugG7ZdECCWU"
      },
      "execution_count": null,
      "outputs": []
    },
    {
      "cell_type": "code",
      "source": [
        "# line count 확인\n",
        "total = 0\n",
        "with open(corpus_file, 'r') as in_f:\n",
        "    for line in in_f:\n",
        "        total += 1"
      ],
      "metadata": {
        "id": "22JD6f9nCHVm"
      },
      "execution_count": null,
      "outputs": []
    },
    {
      "cell_type": "code",
      "source": [
        "total"
      ],
      "metadata": {
        "colab": {
          "base_uri": "https://localhost:8080/"
        },
        "id": "kp26miewCJm2",
        "outputId": "ba25b67e-8519-45d6-a72b-f3aa33d05dfc"
      },
      "execution_count": null,
      "outputs": [
        {
          "output_type": "execute_result",
          "data": {
            "text/plain": [
              "3957761"
            ]
          },
          "metadata": {},
          "execution_count": 67
        }
      ]
    },
    {
      "cell_type": "code",
      "source": [
        "# 전체 라인 수가 거의 400만 개에 육박하는 수치입니다."
      ],
      "metadata": {
        "id": "kaRXrVMUCK6-"
      },
      "execution_count": null,
      "outputs": []
    },
    {
      "cell_type": "markdown",
      "source": [
        "<br>"
      ],
      "metadata": {
        "id": "9GKOnFZCCU-X"
      }
    },
    {
      "cell_type": "code",
      "source": [
        "# 위키가 주제별로 잘 나눠지는지 여부 확인"
      ],
      "metadata": {
        "id": "5QEJlCBvCQiP"
      },
      "execution_count": null,
      "outputs": []
    },
    {
      "cell_type": "code",
      "source": [
        "from tqdm.notebook import tqdm\n",
        "\n",
        "count = 5\n",
        "\n",
        "with open(corpus_file, 'r') as in_f:\n",
        "    doc = []  # 단락 단위로 문서 저장\n",
        "    for line in tqdm(in_f, total=total):\n",
        "        line = line.strip()\n",
        "        if line == \"\":  # line이 빈줄 일 경우 (새로운 단락)\n",
        "            if 0 < len(doc):\n",
        "                if 0 < count:\n",
        "                    count -= 1\n",
        "                    print(len(doc), \"lines :\", doc[0])\n",
        "                    print(doc[1])\n",
        "                    print(doc[-1])\n",
        "                    print()\n",
        "                else:\n",
        "                    break\n",
        "                doc = []\n",
        "        else:  # 빈 줄이 아니면 doc에 저장\n",
        "            pieces = vocab.encode_as_pieces(line)\n",
        "            if 0 < len(pieces):\n",
        "                doc.append(pieces)\n",
        "    if 0 < len(doc):  # 마지막에 처리되지 않은 doc가 있는 경우\n",
        "        print(doc[0])\n",
        "        print(doc[1])\n",
        "        print(doc[-1])\n",
        "        doc = []"
      ],
      "metadata": {
        "colab": {
          "base_uri": "https://localhost:8080/",
          "height": 491,
          "referenced_widgets": [
            "47c20989d0df447c9d958446650abe6b",
            "752646fbbc34405b8588adf7de0337f5",
            "e199ef507f5941feb5af14b36880e0ab",
            "98955b81dde84e7d8422c9fdfadad633",
            "b96d411ed10e4200be0fa75f6e71fb79",
            "b9801c9482884551b936205e758255ca",
            "4b17ef520c46437bb6c977f05e00822f",
            "ce343a548ee14aa9a5658edca24fde88",
            "66935cbd4c9a4233bb738e282e96d638",
            "677921f0b7b243639c01080042a9b59d",
            "6240c2eeebef4c44a7ed2bbce13660a0"
          ]
        },
        "id": "X-bHjVsdCW8v",
        "outputId": "7d72ce4e-aa79-4c1e-84a6-4dfd2d8558e2"
      },
      "execution_count": null,
      "outputs": [
        {
          "output_type": "display_data",
          "data": {
            "text/plain": [
              "  0%|          | 0/3957761 [00:00<?, ?it/s]"
            ],
            "application/vnd.jupyter.widget-view+json": {
              "version_major": 2,
              "version_minor": 0,
              "model_id": "47c20989d0df447c9d958446650abe6b"
            }
          },
          "metadata": {}
        },
        {
          "output_type": "stream",
          "name": "stdout",
          "text": [
            "21 lines : ['▁지', '미', '▁카', '터']\n",
            "['▁제임스', '▁얼', '▁\"', '지', '미', '\"', '▁카', '터', '▁주', '니어', '(,', '▁192', '4', '년', '▁10', '월', '▁1', '일', '▁~', '▁)', '는', '▁민주', '당', '▁출신', '▁미국', '▁3', '9', '번째', '▁대통령', '▁(19', '7', '7', '년', '▁~', '▁1981', '년', ')', '이다', '.']\n",
            "['▁그는', '▁2002', '년', '▁말', '▁인', '권', '과', '▁중', '재', '▁역할', '에', '▁대한', '▁공', '로를', '▁인정', '받아', '▁노', '벨', '▁평화', '상을', '▁받', '게', '▁되었다', '.']\n",
            "\n",
            "14 lines : ['▁수학']\n",
            "['▁수학', '(', '數', '學', ',', '▁)', '은', '▁양', ',', '▁구조', ',', '▁공간', ',', '▁변화', ',', '▁미', '적', '분', '▁등의', '▁개념', '을', '▁다루', '는', '▁학', '문', '이다', '.', '▁현대', '▁수학', '은', '▁형식', '▁논', '리를', '▁이용', '해서', '▁공', '리로', '▁구성된', '▁추', '상', '적', '▁구조를', '▁연구', '하는', '▁학', '문', '으로', '▁여겨', '지', '기도', '▁한다', '.', '▁수학', '은', '▁그', '▁구조', '와', '▁발전', '▁과정', '에서는', '▁자연', '과학', '에', '▁속하는', '▁물리', '학을', '▁비롯한', '▁다른', '▁학', '문', '들과', '▁깊', '은', '▁연', '관을', '▁맺', '고', '▁있다', '.', '▁하지만', ',', '▁어느', '▁과학', '의', '▁분야', '들과', '는', '▁달리', ',', '▁자연', '계에서', '▁관측', '되지', '▁않는', '▁개념', '들에', '▁대해서', '까지', '▁이론', '을', '▁일반', '화', '▁및', '▁추', '상', '화', '시', '킬', '▁수', '▁있다는', '▁차', '이가', '▁있다고', '▁한다', '.', '▁수', '학자', '들은', '▁그러', '한', '▁개념', '들에', '▁대해서', '▁추', '측', '을', '▁하고', ',', '▁적', '절', '하게', '▁선택', '된', '▁정의', '와', '▁공', '리', '로부터', '의', '▁엄', '밀', '한', '▁연', '역을', '▁통해', '서', '▁추', '측', '들의', '▁진', '위를', '▁파', '악', '한다', '.']\n",
            "['▁수', '학의', '▁기초', '를', '▁확', '실', '히', '▁세', '우', '기', '▁위해', ',', '▁수', '리', '논', '리', '학과', '▁집합', '론', '이', '▁발전', '하였고', ',', '▁이와', '▁더불어', '▁범', '주', '론', '이', '▁최근', '에도', '▁발전', '되고', '▁있다', '.', '▁“', '근', '본', '▁위', '기', '”', '라는', '▁말', '은', '▁대', '략', '▁19', '00', '년', '에서', '▁1930', '년', '▁사이에', '▁일어난', ',', '▁수', '학의', '▁엄', '밀', '한', '▁기초', '에', '▁대한', '▁탐', '구를', '▁상징', '적으로', '▁보여', '주는', '▁말이다', '.', '▁수', '학의', '▁엄', '밀', '한', '▁기초', '에', '▁대한', '▁몇', '▁가지', '▁의견', '▁불', '일', '치는', '▁오늘날', '에도', '▁계속', '되고', '▁있다', '.', '▁수', '학의', '▁기초', '에', '▁대한', '▁위', '기는', '▁그', '▁당시', '▁수많은', '▁논', '쟁', '에', '▁의해', '▁촉', '발', '되었으며', ',', '▁그', '▁논', '쟁', '에는', '▁칸', '토', '어의', '▁집합', '론', '과', '▁브라', '우', '어', '-', '힐', '베', '르트', '▁논', '쟁', '이', '▁포함', '되었다', '.']\n",
            "\n",
            "4 lines : ['▁수학', '▁상', '수']\n",
            "['▁수학', '에서', '▁상', '수', '란', '▁그', '▁값', '이', '▁변', '하지', '▁않는', '▁불', '변', '량', '으로', ',', '▁변', '수의', '▁반대', '말', '이다', '.', '▁물리', '▁상', '수', '와는', '▁달리', ',', '▁수학', '▁상', '수는', '▁물리', '적', '▁측정', '과는', '▁상', '관', '없이', '▁정의', '된다', '.']\n",
            "['▁특정', '▁수학', '▁상', '수', ',', '▁예를', '▁들', '면', '▁골', '롬', '-', '딕', '맨', '▁상', '수', ',', '▁프랑', '세', '즈', '-', '로', '빈', '슨', '▁상', '수', ',', '▁formula', '_1', ',', '▁레', '비', '▁상', '수', '같은', '▁상', '수는', '▁다른', '▁수학', '상', '수', '▁또는', '▁함수', '와', '▁약', '한', '▁상', '관', '관', '계', '▁또는', '▁강한', '▁상', '관', '관', '계를', '▁갖', '는다', '.']\n",
            "\n",
            "10 lines : ['▁문학']\n",
            "['▁문학', '(', '文', '學', ')', '은', '▁언', '어를', '▁예술', '적', '▁표현', '의', '▁제', '재', '로', '▁삼', '아', '▁새로운', '▁의미', '를', '▁창', '출', '하여', ',', '▁인간', '과', '▁사회', '를', '▁진', '실', '되', '게', '▁묘사', '하는', '▁예술', '의', '▁하', '위', '분', '야', '이다', '.', '▁간', '단', '하게', '▁설명', '하면', ',', '▁언', '어를', '▁통해', '▁인간의', '▁삶', '을', '▁미', '적', '(', '美', '的', ')', '으로', '▁형', '상', '화', '한', '▁것이라고', '▁볼', '▁수', '▁있다', '.', '▁문학', '은', '▁원래', '▁문', '예', '(', '文', '藝', ')', '라고', '▁부', '르는', '▁것이', '▁', '옳', '으며', ',', '▁문', '학을', '▁학', '문', '의', '▁대상', '으로서', '▁탐', '구', '하는', '▁학', '문', '의', '▁명칭', '▁역시', '▁문', '예', '학', '이다', '.', '▁문', '예', '학', '은', '▁음악', '사', '학', ',', '▁미술', '사', '학', '▁등과', '▁함께', '▁예술', '학의', '▁핵', '심', '분', '야', '로서', '▁인', '문', '학의', '▁하', '위', '범', '주에', '▁포함', '된다', '.']\n",
            "['▁반', '영', '론', '적', '▁관', '점에', '▁의한', '▁감', '상은', '▁작품', '을', '▁창', '작', '된', '▁당시', '▁시대', '▁정', '황', '과', '▁연결', '시켜', '▁감', '상', '하는', '▁입', '장', '이고', ',', '▁내', '재', '적', '▁관', '점', '의', '▁감', '상은', '▁작품', '의', '▁형식', ',', '▁내용', '에', '▁국', '한', '하여', '▁감', '상', '하는', '▁것이다', '.', '▁표현', '론', '적', '▁관', '점', '의', '▁감', '상은', '▁작가', '의', '▁전기', '적', '▁사실', '과', '▁작품', '을', '▁연결', '시켜', '▁감', '상', '하는', '▁것이', '고', ',', '▁수용', '론', '적', '▁관', '점', '의', '▁감', '상은', '▁독', '자와', '▁작품', '을', '▁연결', '시켜', '▁감', '상', '하는', '▁것을', '▁말한다', '.']\n",
            "\n",
            "10 lines : ['▁나라', '▁목록']\n",
            "['▁이', '▁문', '서는', '▁나라', '▁목록', '이며', ',', '▁전', '▁세계', '▁20', '6', '개', '▁나라', '의', '▁각', '▁현', '황', '과', '▁주', '권', '▁승', '인', '▁정보를', '▁개', '요', '▁형태로', '▁나', '열', '하고', '▁있다', '.']\n",
            "['▁위', '▁목록', '에', '▁포함', '되지', '▁않은', '▁다음', '▁국가', '는', '▁몬', '테', '비', '데', '오', '▁협', '약', '의', '▁모든', '▁조건', '을', '▁만족', '하지', '▁못', '하거나', ',', '▁자주', '적이고', '▁독립', '적', '임을', '▁주장', '하지', '▁않는', '▁국가', '이다', '.']\n",
            "\n",
            "['▁화학']\n",
            "['▁화학', '(', '化', '學', ',', '▁)', '은', '▁물질', '의', '▁성', '질', ',', '▁조성', ',', '▁구조', ',', '▁변화', '▁및', '▁그', '에', '▁수', '반', '하는', '▁에너', '지의', '▁변', '화를', '▁연구', '하는', '▁자연', '과', '학의', '▁한', '▁분야', '이다', '.', '▁물리', '학', '도', '▁역시', '▁물질', '을', '▁다루', '는', '▁학', '문', '이지만', ',', '▁물리', '학', '이', '▁원', '소', '와', '▁화', '합', '물을', '▁모두', '▁포함한', '▁물', '체의', '▁운동', '과', '▁에너', '지', ',', '▁열', '적', '·', '전', '기', '적', '·', '광', '학적', '·', '기', '계', '적', '▁속', '성을', '▁다루', '고', '▁이러한', '▁현', '상', '으로부터', '▁통일', '된', '▁이론', '을', '▁구축', '하려는', '▁것', '과는', '▁달리', '▁화학', '에서는', '▁물질', '▁자', '체를', '▁연구', '▁대상으로', '▁한다', '.', '▁화학', '은', '▁이미', '▁존재', '하는', '▁물질', '을', '▁이용하여', '▁특', '정한', '▁목', '적', '에', '▁맞', '는', '▁새로운', '▁물질', '을', '▁합', '성', '하는', '▁길', '을', '▁제공', '하며', ',', '▁이는', '▁농', '작', '물의', '▁증', '산', ',', '▁질', '병', '의', '▁치료', '▁및', '▁예', '방', ',', '▁에너', '지', '▁효', '율', '▁증', '대', ',', '▁환경', '오', '염', '▁감소', '▁등', '▁여러', '▁가지', '▁이', '점을', '▁제공', '한다', '.']\n",
            "['▁유', '기', '화', '학', '은', '▁탄', '소로', '▁이루어진', '▁화', '합', '물을', '▁연구', '하는', '▁분', '과', '이다', '.', '▁원래', '▁유', '기', '▁화', '합', '물', '은', '▁식물', '이나', '▁동물', '로부터', '▁추', '출', '해', '낸', '▁화', '합', '물을', '▁뜻', '하였으나', '▁지금', '은', '▁유', '기', '▁화', '합', '물의', '▁범', '위가', '▁크게', '▁넓', '어져', '▁탄', '소', '▁사', '슬', '▁또는', '▁탄', '소', '▁고', '리를', '▁가진', '▁모든', '▁화', '합', '물을', '▁뜻', '한다', '.', '▁유', '기', '화', '학의', '▁오', '랜', '▁관', '심', '사는', '▁유', '기', '▁화', '합', '물의', '▁합', '성', '▁메', '커', '니', '즘', '이다', '.', '▁현', '대에', '▁들어', '서', '▁핵', '자', '기', '▁공', '명', '법', '과', '▁X', '선', '▁결정', '학', '▁등이', '▁개발', '되어', '▁유', '기', '▁화', '합', '물', '▁분석', '에', '▁있어서', '▁매우', '▁중요한', '▁방법', '으로', '▁자리', '잡', '았다', '.', '▁플', '라스', '틱', ',', '▁합', '성', '섬', '유', '등', '의', '▁고', '분', '자', '물', '질', '▁등', '도', '▁유', '기', '화', '학', '에서', '▁다루', '어진', '다', '.']\n"
          ]
        }
      ]
    },
    {
      "cell_type": "markdown",
      "source": [
        "<br>"
      ],
      "metadata": {
        "id": "K5z4UvtVCjiY"
      }
    },
    {
      "cell_type": "code",
      "source": [
        "# 이전 스텝에서 완성했던 create_pretrain_instances()를 코퍼스에 적용할 수 있는지 몇 라인에 대해서만 확인해보기"
      ],
      "metadata": {
        "id": "eM93jmooCYcC"
      },
      "execution_count": null,
      "outputs": []
    },
    {
      "cell_type": "code",
      "source": [
        "count = 5\n",
        "\n",
        "with open(corpus_file, 'r') as in_f:\n",
        "    doc = []  # 단락 단위로 문서 저장\n",
        "    for line in tqdm(in_f, total=total):\n",
        "        line = line.strip()\n",
        "        if line == \"\":  # line이 빈줄 일 경우 (새로운 단락)\n",
        "            if 0 < len(doc):\n",
        "                instances = create_pretrain_instances(vocab, doc, n_test_seq, 0.15, vocab_list)\n",
        "                # save\n",
        "                print(\"doc:\", len(doc), \"instances:\", len(instances))\n",
        "                print(instances[0])\n",
        "                print(instances[-1])\n",
        "                print()\n",
        "                doc = []\n",
        "                if 0 < count:  # 테스트를 위해서 부분 처리함\n",
        "                    count -= 1\n",
        "                else:\n",
        "                    break\n",
        "        else:  # doc에 저장\n",
        "            if 0 < len(pieces):\n",
        "                doc.append(pieces)\n",
        "    if 0 < len(doc):  # 마지막에 처리되지 않은 doc가 있는 경우\n",
        "        instances = create_pretrain_instances(doc, 128)\n",
        "        # save\n",
        "        print(\"doc:\", len(doc), \"instances:\", len(instances))\n",
        "        print(instances[0])\n",
        "        print(instances[-1])\n",
        "        print()\n",
        "        doc = []"
      ],
      "metadata": {
        "colab": {
          "base_uri": "https://localhost:8080/",
          "height": 510,
          "referenced_widgets": [
            "5876dcfda47c498693724d31efc8f36c",
            "ab00d92f87ef4684b777ed56e2fd213f",
            "b7e1bf340cad4b75ae368c22266380bd",
            "d9ee2ab131a145adbfaced6be3facfed",
            "3fa3f8e4dee04c4c9fe2f083dea7de63",
            "be25c7ca62144d9dbaf09ecf9ad8be51",
            "e60830fed160410babb4fc9c4ce08a38",
            "47abd9ab5eff47e8bf27ac94c690d175",
            "bc38a0b5728844a09a85a59db5017cdd",
            "978d52f71e22473ab80a5859ccc862be",
            "fac055f0345a463cb3091e146eadf29f"
          ]
        },
        "id": "jazHlboNCn8A",
        "outputId": "7f052e38-7edc-424f-ab49-166088cf5704"
      },
      "execution_count": null,
      "outputs": [
        {
          "output_type": "display_data",
          "data": {
            "text/plain": [
              "  0%|          | 0/3957761 [00:00<?, ?it/s]"
            ],
            "application/vnd.jupyter.widget-view+json": {
              "version_major": 2,
              "version_minor": 0,
              "model_id": "5876dcfda47c498693724d31efc8f36c"
            }
          },
          "metadata": {}
        },
        {
          "output_type": "stream",
          "name": "stdout",
          "text": [
            "doc: 21 instances: 10\n",
            "{'tokens': ['[CLS]', '으로', '▁자리', '잡', '았다', '.', '▁플', '라스', '틱', ',', '▁합', '성', '섬', '유', '등', '의', '▁고', '분', '자', '물', '질', '[MASK]', '[MASK]', '▁유', '기', '화', '학', '에서', '▁다루', '어진', '다', '.', '[SEP]', '▁유', '기', '화', '학', '은', '[MASK]', '[MASK]', '▁이루어진', '[MASK]', '[MASK]', '[MASK]', '▁연구', '하는', '▁분', '과', '이다', '.', '▁원래', '▁유', '기', '▁화', '합', '물', '은', '▁식물', '이나', '▁동물', '로부터', '▁추', '출', '[SEP]'], 'segment': [0, 0, 0, 0, 0, 0, 0, 0, 0, 0, 0, 0, 0, 0, 0, 0, 0, 0, 0, 0, 0, 0, 0, 0, 0, 0, 0, 0, 0, 0, 0, 0, 0, 1, 1, 1, 1, 1, 1, 1, 1, 1, 1, 1, 1, 1, 1, 1, 1, 1, 1, 1, 1, 1, 1, 1, 1, 1, 1, 1, 1, 1, 1, 1], 'is_next': 1, 'mask_idx': [21, 22, 38, 39, 41, 42, 43, 57, 58], 'mask_label': ['▁등', '도', '▁탄', '소로', '▁화', '합', '물을', '▁식물', '이나']}\n",
            "{'tokens': ['[CLS]', '으로', '▁자리', '잡', '았다', '.', '[MASK]', '[MASK]', '[MASK]', '[MASK]', '▁합', '성', '섬', '유', '등', '의', '▁고', '분', '자', '물', '질', '▁등', '도', '▁유', '기', '화', '학', '에서', '▁다루', '어진', '다', '.', '[SEP]', '▁유', '기', '화', '학', '은', '▁탄', '소로', '[MASK]', '▁화', '합', '물을', '[MASK]', '[MASK]', '▁분', '과', '이다', '.', '▁원래', '[MASK]', '[MASK]', '▁화', '합', '물', '은', '▁식물', '이나', '▁동물', '로부터', '▁추', '출', '[SEP]'], 'segment': [0, 0, 0, 0, 0, 0, 0, 0, 0, 0, 0, 0, 0, 0, 0, 0, 0, 0, 0, 0, 0, 0, 0, 0, 0, 0, 0, 0, 0, 0, 0, 0, 0, 1, 1, 1, 1, 1, 1, 1, 1, 1, 1, 1, 1, 1, 1, 1, 1, 1, 1, 1, 1, 1, 1, 1, 1, 1, 1, 1, 1, 1, 1, 1], 'is_next': 0, 'mask_idx': [6, 7, 8, 9, 40, 44, 45, 51, 52], 'mask_label': ['▁플', '라스', '틱', ',', '▁이루어진', '▁연구', '하는', '▁유', '기']}\n",
            "\n",
            "doc: 14 instances: 7\n",
            "{'tokens': ['[CLS]', '[MASK]', '▁자리', '잡', '았다', '.', '▁플', '라스', '틱', ',', '▁합', '성', '섬', '유', '등', '의', '▁고', '분', '자', '물', '질', '▁등', '도', '▁유', '기', '화', '학', '에서', '▁다루', '어진', '다', '.', '[SEP]', '▁유', '기', '화', '학', '은', '[MASK]', '[MASK]', '▁이루어진', '▁화', '합', '물을', '▁연구', '하는', '▁분', '과', '이다', '.', '▁원래', '▁유', '기', '[MASK]', '[MASK]', '[MASK]', '[MASK]', '[MASK]', '[MASK]', '▁동물', '로부터', '▁추', '출', '[SEP]'], 'segment': [0, 0, 0, 0, 0, 0, 0, 0, 0, 0, 0, 0, 0, 0, 0, 0, 0, 0, 0, 0, 0, 0, 0, 0, 0, 0, 0, 0, 0, 0, 0, 0, 0, 1, 1, 1, 1, 1, 1, 1, 1, 1, 1, 1, 1, 1, 1, 1, 1, 1, 1, 1, 1, 1, 1, 1, 1, 1, 1, 1, 1, 1, 1, 1], 'is_next': 1, 'mask_idx': [1, 38, 39, 53, 54, 55, 56, 57, 58], 'mask_label': ['으로', '▁탄', '소로', '▁화', '합', '물', '은', '▁식물', '이나']}\n",
            "{'tokens': ['[CLS]', '으로', '[MASK]', '[MASK]', '[MASK]', '[MASK]', '▁플', '라스', '틱', ',', '▁합', '성', '섬', '유', '등', '의', '[MASK]', '[MASK]', '[MASK]', '[MASK]', '[MASK]', '▁등', '도', '▁유', '기', '화', '학', '에서', '▁다루', '어진', '다', '.', '[SEP]', '▁유', '기', '화', '학', '은', '▁탄', '소로', '▁이루어진', '▁화', '합', '물을', '▁연구', '하는', '▁분', '과', '이다', '.', '▁원래', '▁유', '기', '▁화', '합', '물', '은', '▁식물', '이나', '▁동물', '로부터', '▁추', '출', '[SEP]'], 'segment': [0, 0, 0, 0, 0, 0, 0, 0, 0, 0, 0, 0, 0, 0, 0, 0, 0, 0, 0, 0, 0, 0, 0, 0, 0, 0, 0, 0, 0, 0, 0, 0, 0, 1, 1, 1, 1, 1, 1, 1, 1, 1, 1, 1, 1, 1, 1, 1, 1, 1, 1, 1, 1, 1, 1, 1, 1, 1, 1, 1, 1, 1, 1, 1], 'is_next': 0, 'mask_idx': [2, 3, 4, 5, 16, 17, 18, 19, 20], 'mask_label': ['▁자리', '잡', '았다', '.', '▁고', '분', '자', '물', '질']}\n",
            "\n",
            "doc: 4 instances: 2\n",
            "{'tokens': ['[CLS]', '[MASK]', '▁자리', '잡', '았다', '.', '▁플', '라스', '틱', ',', '▁합', '성', '섬', '유', '등', '의', '▁고', '분', '자', '물', '질', '▁등', '도', '▁유', '기', '화', '학', '에서', '▁다루', '어진', '다', '.', '[SEP]', '▁유', '기', '화', '학', '은', '▁탄', '소로', '▁이루어진', '▁화', '합', '물을', '▁연구', '하는', '▁분', '과', '이다', '.', '[MASK]', '▁유', '기', '▁화', '합', '물', '은', '▁식물', '이나', '[MASK]', '[MASK]', '▁추', '출', '[SEP]'], 'segment': [0, 0, 0, 0, 0, 0, 0, 0, 0, 0, 0, 0, 0, 0, 0, 0, 0, 0, 0, 0, 0, 0, 0, 0, 0, 0, 0, 0, 0, 0, 0, 0, 0, 1, 1, 1, 1, 1, 1, 1, 1, 1, 1, 1, 1, 1, 1, 1, 1, 1, 1, 1, 1, 1, 1, 1, 1, 1, 1, 1, 1, 1, 1, 1], 'is_next': 0, 'mask_idx': [1, 16, 17, 18, 19, 20, 50, 59, 60], 'mask_label': ['으로', '▁고', '분', '자', '물', '질', '▁원래', '▁동물', '로부터']}\n",
            "{'tokens': ['[CLS]', '으로', '▁자리', '잡', '았다', '.', '▁플', '라스', '틱', ',', '▁합', '성', '섬', '유', '등', '의', '▁고', '분', '자', '물', '질', '▁등', '도', '▁유', '기', '화', '학', '에서', '[MASK]', '[MASK]', '[MASK]', '[MASK]', '[SEP]', '▁유', '기', '화', '학', '은', '▁탄', '소로', '▁이루어진', '▁화', '합', '물을', '▁연구', '하는', '▁분', '과', '이다', '.', '▁원래', '▁유', '기', '[MASK]', '[MASK]', '[MASK]', '[MASK]', '▁식물', '이나', '▁동물', '로부터', '▁추', '출', '[SEP]'], 'segment': [0, 0, 0, 0, 0, 0, 0, 0, 0, 0, 0, 0, 0, 0, 0, 0, 0, 0, 0, 0, 0, 0, 0, 0, 0, 0, 0, 0, 0, 0, 0, 0, 0, 1, 1, 1, 1, 1, 1, 1, 1, 1, 1, 1, 1, 1, 1, 1, 1, 1, 1, 1, 1, 1, 1, 1, 1, 1, 1, 1, 1, 1, 1, 1], 'is_next': 0, 'mask_idx': [28, 29, 30, 31, 40, 53, 54, 55, 56], 'mask_label': ['▁다루', '어진', '다', '.', '▁이루어진', '▁화', '합', '물', '은']}\n",
            "\n",
            "doc: 10 instances: 5\n",
            "{'tokens': ['[CLS]', '▁이미', '▁자리', '잡', '았다', '.', '▁플', '라스', '틱', ',', '[MASK]', '[MASK]', '[MASK]', '[MASK]', '[MASK]', '[MASK]', '▁고', '분', '자', '물', '질', '▁등', '도', '▁유', '기', '화', '학', '에서', '▁다루', '어진', '다', '.', '[SEP]', '▁유', '기', '화', '학', '은', '[MASK]', '[MASK]', '▁이루어진', '▁화', '합', '물을', '▁연구', '하는', '▁분', '과', '이다', '.', '▁원래', '▁유', '기', '▁화', '합', '물', '은', '▁식물', '이나', '▁동물', '로부터', '▁추', '출', '[SEP]'], 'segment': [0, 0, 0, 0, 0, 0, 0, 0, 0, 0, 0, 0, 0, 0, 0, 0, 0, 0, 0, 0, 0, 0, 0, 0, 0, 0, 0, 0, 0, 0, 0, 0, 0, 1, 1, 1, 1, 1, 1, 1, 1, 1, 1, 1, 1, 1, 1, 1, 1, 1, 1, 1, 1, 1, 1, 1, 1, 1, 1, 1, 1, 1, 1, 1], 'is_next': 1, 'mask_idx': [1, 10, 11, 12, 13, 14, 15, 38, 39], 'mask_label': ['으로', '▁합', '성', '섬', '유', '등', '의', '▁탄', '소로']}\n",
            "{'tokens': ['[CLS]', '으로', '▁자리', '잡', '았다', '.', '▁플', '라스', '틱', ',', '[MASK]', '[MASK]', '[MASK]', '[MASK]', '[MASK]', '[MASK]', '▁고', '분', '자', '물', '질', '▁등', '도', '▁유', '기', '화', '학', '에서', '▁다루', '어진', '다', '.', '[SEP]', '▁유', '기', '화', '학', '은', '[MASK]', '[MASK]', '▁이루어진', '▁화', '합', '물을', '▁연구', '하는', '▁분', '과', '이다', '.', '[MASK]', '▁유', '기', '▁화', '합', '물', '은', '▁식물', '이나', '▁동물', '로부터', '▁추', '출', '[SEP]'], 'segment': [0, 0, 0, 0, 0, 0, 0, 0, 0, 0, 0, 0, 0, 0, 0, 0, 0, 0, 0, 0, 0, 0, 0, 0, 0, 0, 0, 0, 0, 0, 0, 0, 0, 1, 1, 1, 1, 1, 1, 1, 1, 1, 1, 1, 1, 1, 1, 1, 1, 1, 1, 1, 1, 1, 1, 1, 1, 1, 1, 1, 1, 1, 1, 1], 'is_next': 1, 'mask_idx': [10, 11, 12, 13, 14, 15, 38, 39, 50], 'mask_label': ['▁합', '성', '섬', '유', '등', '의', '▁탄', '소로', '▁원래']}\n",
            "\n",
            "doc: 10 instances: 5\n",
            "{'tokens': ['[CLS]', '으로', '▁자리', '잡', '았다', '.', '▁플', '라스', '틱', ',', '▁합', '성', '섬', '유', '등', '의', '▁고', '분', '자', '물', '질', '▁등', '도', '▁유', '기', '화', '학', '에서', '▁다루', '어진', '다', '.', '[SEP]', '[MASK]', '[MASK]', '[MASK]', '[MASK]', '[MASK]', '렛', '壤', '[MASK]', '▁화', '합', '물을', '▁연구', '하는', '▁분', '과', '이다', '.', '[MASK]', '▁유', '기', '▁화', '합', '물', '은', '▁식물', '이나', '▁동물', '로부터', '▁추', '출', '[SEP]'], 'segment': [0, 0, 0, 0, 0, 0, 0, 0, 0, 0, 0, 0, 0, 0, 0, 0, 0, 0, 0, 0, 0, 0, 0, 0, 0, 0, 0, 0, 0, 0, 0, 0, 0, 1, 1, 1, 1, 1, 1, 1, 1, 1, 1, 1, 1, 1, 1, 1, 1, 1, 1, 1, 1, 1, 1, 1, 1, 1, 1, 1, 1, 1, 1, 1], 'is_next': 1, 'mask_idx': [33, 34, 35, 36, 37, 38, 39, 40, 50], 'mask_label': ['▁유', '기', '화', '학', '은', '▁탄', '소로', '▁이루어진', '▁원래']}\n",
            "{'tokens': ['[CLS]', '▁U', '▁자리', '잡', '았다', '.', '▁플', '라스', '틱', ',', '▁합', '성', '섬', '유', '등', '의', '[MASK]', '[MASK]', '[MASK]', '[MASK]', '[MASK]', '▁등', '도', '▁유', '기', '화', '학', '에서', '▁다루', '어진', '다', '.', '[SEP]', '▁유', '기', '화', '학', '은', '▁탄', '소로', '[MASK]', '▁화', '합', '물을', '▁연구', '하는', '▁분', '과', '이다', '.', '▁원래', '▁유', '기', '▁화', '합', '물', '은', '▁식물', '이나', '▁동물', '로부터', '[MASK]', '[MASK]', '[SEP]'], 'segment': [0, 0, 0, 0, 0, 0, 0, 0, 0, 0, 0, 0, 0, 0, 0, 0, 0, 0, 0, 0, 0, 0, 0, 0, 0, 0, 0, 0, 0, 0, 0, 0, 0, 1, 1, 1, 1, 1, 1, 1, 1, 1, 1, 1, 1, 1, 1, 1, 1, 1, 1, 1, 1, 1, 1, 1, 1, 1, 1, 1, 1, 1, 1, 1], 'is_next': 0, 'mask_idx': [1, 16, 17, 18, 19, 20, 40, 61, 62], 'mask_label': ['으로', '▁고', '분', '자', '물', '질', '▁이루어진', '▁추', '출']}\n",
            "\n",
            "doc: 31 instances: 15\n",
            "{'tokens': ['[CLS]', '으로', '▁자리', '잡', '았다', '.', '▁플', '라스', '틱', ',', '▁합', '성', '섬', '유', '등', '의', '▁고', '분', '자', '물', '질', '▁등', '도', '[MASK]', '[MASK]', '[MASK]', '[MASK]', '[MASK]', '▁다루', '어진', '다', '.', '[SEP]', '▁유', '기', '화', '학', '은', '[MASK]', '[MASK]', '▁이루어진', '▁화', '합', '물을', '▁연구', '하는', '▁분', '과', '이다', '.', '▁원래', '▁유', '기', '▁화', '합', '물', '은', '▁식물', '이나', '[MASK]', '[MASK]', '▁추', '출', '[SEP]'], 'segment': [0, 0, 0, 0, 0, 0, 0, 0, 0, 0, 0, 0, 0, 0, 0, 0, 0, 0, 0, 0, 0, 0, 0, 0, 0, 0, 0, 0, 0, 0, 0, 0, 0, 1, 1, 1, 1, 1, 1, 1, 1, 1, 1, 1, 1, 1, 1, 1, 1, 1, 1, 1, 1, 1, 1, 1, 1, 1, 1, 1, 1, 1, 1, 1], 'is_next': 0, 'mask_idx': [23, 24, 25, 26, 27, 38, 39, 59, 60], 'mask_label': ['▁유', '기', '화', '학', '에서', '▁탄', '소로', '▁동물', '로부터']}\n",
            "{'tokens': ['[CLS]', '으로', '▁자리', '잡', '았다', '.', '▁플', '라스', '틱', ',', '▁합', '성', '섬', '유', '등', '의', '▁고', '분', '자', '물', '질', '急', 'ت', '▁유', '기', '화', '학', '에서', '▁다루', '어진', '다', '.', '[SEP]', '▁유', '기', '화', '학', '은', '▁탄', '소로', '▁이루어진', '[MASK]', '[MASK]', '[MASK]', '▁연구', '하는', '▁분', '과', '이다', '.', '▁원래', '▁유', '기', '▁화', '합', '물', '은', '▁식물', '이나', '▁동물', '로부터', '▁추', '출', '[SEP]'], 'segment': [0, 0, 0, 0, 0, 0, 0, 0, 0, 0, 0, 0, 0, 0, 0, 0, 0, 0, 0, 0, 0, 0, 0, 0, 0, 0, 0, 0, 0, 0, 0, 0, 0, 1, 1, 1, 1, 1, 1, 1, 1, 1, 1, 1, 1, 1, 1, 1, 1, 1, 1, 1, 1, 1, 1, 1, 1, 1, 1, 1, 1, 1, 1, 1], 'is_next': 1, 'mask_idx': [21, 22, 28, 29, 30, 31, 41, 42, 43], 'mask_label': ['▁등', '도', '▁다루', '어진', '다', '.', '▁화', '합', '물을']}\n",
            "\n"
          ]
        }
      ]
    },
    {
      "cell_type": "markdown",
      "source": [
        "<br>"
      ],
      "metadata": {
        "id": "6Usyt0PACwzQ"
      }
    },
    {
      "cell_type": "code",
      "source": [
        "# BERT pretrain 데이터셋 생성 메소드"
      ],
      "metadata": {
        "id": "ipAgrGrRCrKy"
      },
      "execution_count": null,
      "outputs": []
    },
    {
      "cell_type": "code",
      "source": [
        "def make_pretrain_data(vocab, in_file, out_file, n_seq, mask_prob=0.15):\n",
        "    \"\"\" pretrain 데이터 생성 \"\"\"\n",
        "    def save_pretrain_instances(out_f, doc):\n",
        "        instances = create_pretrain_instances(vocab, doc, n_seq, mask_prob, vocab_list)\n",
        "        for instance in instances:\n",
        "            out_f.write(json.dumps(instance, ensure_ascii=False))\n",
        "            out_f.write(\"\\n\")\n",
        "\n",
        "    # 특수문자 7개를 제외한 vocab_list 생성\n",
        "    vocab_list = []\n",
        "    for id in range(7, len(vocab)):\n",
        "        if not vocab.is_unknown(id):        # 생성되는 단어 목록이 unknown인 경우는 제거합니다.\n",
        "            vocab_list.append(vocab.id_to_piece(id))\n",
        "\n",
        "    # line count 확인\n",
        "    line_cnt = 0\n",
        "    with open(in_file, \"r\") as in_f:\n",
        "        for line in in_f:\n",
        "            line_cnt += 1\n",
        "\n",
        "    with open(in_file, \"r\") as in_f:\n",
        "        with open(out_file, \"w\") as out_f:\n",
        "            doc = []\n",
        "            for line in tqdm(in_f, total=line_cnt):\n",
        "                line = line.strip()\n",
        "                if line == \"\":  # line이 빈줄 일 경우 (새로운 단락)\n",
        "                    if 0 < len(doc):\n",
        "                        save_pretrain_instances(out_f, doc)\n",
        "                        doc = []  # Resetting doc for the next paragraph\n",
        "                else:  # line이 빈줄이 아닐 경우 tokenize 해서 doc에 저장\n",
        "                    pieces = vocab.encode_as_pieces(line)\n",
        "                    if 0 < len(pieces):\n",
        "                        doc.append(pieces)\n",
        "            if 0 < len(doc):  # 마지막에 처리되지 않은 doc가 있는 경우\n",
        "                doc = []  # Clear the doc"
      ],
      "metadata": {
        "id": "eeyLOdlAC_NZ"
      },
      "execution_count": null,
      "outputs": []
    },
    {
      "cell_type": "markdown",
      "source": [
        "<br>"
      ],
      "metadata": {
        "id": "RAAfjX7XDJGg"
      }
    },
    {
      "cell_type": "code",
      "source": [
        "# 전체 코퍼스(약 400만 라인)에 대해 make_pretrain_data()를 구동하기\n",
        "# 최종적으로 생성된 데이터셋은 json 포맷으로 저장"
      ],
      "metadata": {
        "id": "1PU8EXsJDEX-"
      },
      "execution_count": null,
      "outputs": []
    },
    {
      "cell_type": "code",
      "source": [
        "pretrain_json_path = '/content/drive/MyDrive/Colab/05_Colab_AIFFEL_2023/09_GOINGDEEPER/01_GD_NLP/Quest_07/bert_pretrained/data/bert_pre_train_8000.json'"
      ],
      "metadata": {
        "id": "igIn8i1BDPba"
      },
      "execution_count": null,
      "outputs": []
    },
    {
      "cell_type": "code",
      "source": [
        "make_pretrain_data(vocab, corpus_file, pretrain_json_path, 128)"
      ],
      "metadata": {
        "colab": {
          "base_uri": "https://localhost:8080/",
          "height": 49,
          "referenced_widgets": [
            "e4d41375859b424e8cfeea79ea84f28b",
            "4ee1d4efa72a47ffb18eaa7e0bb9027e",
            "26414d55e43e4fa5999a5c4b493dfd61",
            "0b1a8046934742a5ae95066ff429a0fa",
            "9a4f18dd05124bc3bb1bdbfeb3145c78",
            "0ed289fedf8d4bf3b9c892e33df49af0",
            "1dfba070dc464caf9942a612bfa4cc26",
            "95daa599ec7e4795b9bd6f411312aa88",
            "c0e304699cd64a0f85927f22056ecd4b",
            "01d5d6b8787841c09491cf70daa00f47",
            "f50dd158ddc84f7cbdfabccc2829c2f6"
          ]
        },
        "id": "R9AlnncZDWe4",
        "outputId": "5b508d72-3a25-4b74-b8f7-50b8a0f079e0"
      },
      "execution_count": null,
      "outputs": [
        {
          "output_type": "display_data",
          "data": {
            "text/plain": [
              "  0%|          | 0/3957761 [00:00<?, ?it/s]"
            ],
            "application/vnd.jupyter.widget-view+json": {
              "version_major": 2,
              "version_minor": 0,
              "model_id": "e4d41375859b424e8cfeea79ea84f28b"
            }
          },
          "metadata": {}
        }
      ]
    },
    {
      "cell_type": "markdown",
      "source": [
        "<br>"
      ],
      "metadata": {
        "id": "jIBDsABEDkoH"
      }
    },
    {
      "cell_type": "code",
      "source": [
        "# 라인수"
      ],
      "metadata": {
        "id": "CCUH2gexDijW"
      },
      "execution_count": null,
      "outputs": []
    },
    {
      "cell_type": "code",
      "source": [
        "total = 0\n",
        "with open(pretrain_json_path, \"r\") as f:\n",
        "    for line in f:\n",
        "        total += 1"
      ],
      "metadata": {
        "id": "jgTbpsAfDm4N"
      },
      "execution_count": null,
      "outputs": []
    },
    {
      "cell_type": "code",
      "source": [
        "total"
      ],
      "metadata": {
        "colab": {
          "base_uri": "https://localhost:8080/"
        },
        "id": "2sEgSYeoDn7e",
        "outputId": "782e375b-bced-4a54-f1b8-fc3cf850c1b4"
      },
      "execution_count": null,
      "outputs": [
        {
          "output_type": "execute_result",
          "data": {
            "text/plain": [
              "918173"
            ]
          },
          "metadata": {},
          "execution_count": 82
        }
      ]
    },
    {
      "cell_type": "markdown",
      "source": [
        "<br>"
      ],
      "metadata": {
        "id": "a64EILtQDt2n"
      }
    },
    {
      "cell_type": "code",
      "source": [
        "# np.memmap을 사용해 메모리 사용량 최소화하기"
      ],
      "metadata": {
        "id": "YYnlqRJBDpB6"
      },
      "execution_count": null,
      "outputs": []
    },
    {
      "cell_type": "code",
      "source": [
        "n_seq = 128\n",
        "max_seq = n_seq - 3\n",
        "\n",
        "# np.memmap을 사용하면 메모리를 적은 메모리에서도 대용량 데이터 처리가 가능 함\n",
        "enc_tokens = np.memmap(filename='enc_tokens.memmap', mode='w+', dtype=np.int32, shape=(total, n_seq))\n",
        "segments = np.memmap(filename='segments.memmap', mode='w+', dtype=np.int32, shape=(total, n_seq))\n",
        "labels_nsp = np.memmap(filename='labels_nsp.memmap', mode='w+', dtype=np.int32, shape=(total,))\n",
        "labels_mlm = np.memmap(filename='labels_mlm.memmap', mode='w+', dtype=np.int32, shape=(total, n_seq))\n",
        "\n",
        "enc_tokens[0], enc_tokens[-1], segments[0], segments[-1], labels_nsp[0], labels_nsp[-1], labels_mlm[0], labels_mlm[-1]"
      ],
      "metadata": {
        "colab": {
          "base_uri": "https://localhost:8080/"
        },
        "id": "Ma0Tue4LD0ml",
        "outputId": "4f56bb5f-a318-4c1b-ee84-3160a2539d82"
      },
      "execution_count": null,
      "outputs": [
        {
          "output_type": "execute_result",
          "data": {
            "text/plain": [
              "(memmap([0, 0, 0, 0, 0, 0, 0, 0, 0, 0, 0, 0, 0, 0, 0, 0, 0, 0, 0, 0, 0, 0,\n",
              "         0, 0, 0, 0, 0, 0, 0, 0, 0, 0, 0, 0, 0, 0, 0, 0, 0, 0, 0, 0, 0, 0,\n",
              "         0, 0, 0, 0, 0, 0, 0, 0, 0, 0, 0, 0, 0, 0, 0, 0, 0, 0, 0, 0, 0, 0,\n",
              "         0, 0, 0, 0, 0, 0, 0, 0, 0, 0, 0, 0, 0, 0, 0, 0, 0, 0, 0, 0, 0, 0,\n",
              "         0, 0, 0, 0, 0, 0, 0, 0, 0, 0, 0, 0, 0, 0, 0, 0, 0, 0, 0, 0, 0, 0,\n",
              "         0, 0, 0, 0, 0, 0, 0, 0, 0, 0, 0, 0, 0, 0, 0, 0, 0, 0], dtype=int32),\n",
              " memmap([0, 0, 0, 0, 0, 0, 0, 0, 0, 0, 0, 0, 0, 0, 0, 0, 0, 0, 0, 0, 0, 0,\n",
              "         0, 0, 0, 0, 0, 0, 0, 0, 0, 0, 0, 0, 0, 0, 0, 0, 0, 0, 0, 0, 0, 0,\n",
              "         0, 0, 0, 0, 0, 0, 0, 0, 0, 0, 0, 0, 0, 0, 0, 0, 0, 0, 0, 0, 0, 0,\n",
              "         0, 0, 0, 0, 0, 0, 0, 0, 0, 0, 0, 0, 0, 0, 0, 0, 0, 0, 0, 0, 0, 0,\n",
              "         0, 0, 0, 0, 0, 0, 0, 0, 0, 0, 0, 0, 0, 0, 0, 0, 0, 0, 0, 0, 0, 0,\n",
              "         0, 0, 0, 0, 0, 0, 0, 0, 0, 0, 0, 0, 0, 0, 0, 0, 0, 0], dtype=int32),\n",
              " memmap([0, 0, 0, 0, 0, 0, 0, 0, 0, 0, 0, 0, 0, 0, 0, 0, 0, 0, 0, 0, 0, 0,\n",
              "         0, 0, 0, 0, 0, 0, 0, 0, 0, 0, 0, 0, 0, 0, 0, 0, 0, 0, 0, 0, 0, 0,\n",
              "         0, 0, 0, 0, 0, 0, 0, 0, 0, 0, 0, 0, 0, 0, 0, 0, 0, 0, 0, 0, 0, 0,\n",
              "         0, 0, 0, 0, 0, 0, 0, 0, 0, 0, 0, 0, 0, 0, 0, 0, 0, 0, 0, 0, 0, 0,\n",
              "         0, 0, 0, 0, 0, 0, 0, 0, 0, 0, 0, 0, 0, 0, 0, 0, 0, 0, 0, 0, 0, 0,\n",
              "         0, 0, 0, 0, 0, 0, 0, 0, 0, 0, 0, 0, 0, 0, 0, 0, 0, 0], dtype=int32),\n",
              " memmap([0, 0, 0, 0, 0, 0, 0, 0, 0, 0, 0, 0, 0, 0, 0, 0, 0, 0, 0, 0, 0, 0,\n",
              "         0, 0, 0, 0, 0, 0, 0, 0, 0, 0, 0, 0, 0, 0, 0, 0, 0, 0, 0, 0, 0, 0,\n",
              "         0, 0, 0, 0, 0, 0, 0, 0, 0, 0, 0, 0, 0, 0, 0, 0, 0, 0, 0, 0, 0, 0,\n",
              "         0, 0, 0, 0, 0, 0, 0, 0, 0, 0, 0, 0, 0, 0, 0, 0, 0, 0, 0, 0, 0, 0,\n",
              "         0, 0, 0, 0, 0, 0, 0, 0, 0, 0, 0, 0, 0, 0, 0, 0, 0, 0, 0, 0, 0, 0,\n",
              "         0, 0, 0, 0, 0, 0, 0, 0, 0, 0, 0, 0, 0, 0, 0, 0, 0, 0], dtype=int32),\n",
              " 0,\n",
              " 0,\n",
              " memmap([0, 0, 0, 0, 0, 0, 0, 0, 0, 0, 0, 0, 0, 0, 0, 0, 0, 0, 0, 0, 0, 0,\n",
              "         0, 0, 0, 0, 0, 0, 0, 0, 0, 0, 0, 0, 0, 0, 0, 0, 0, 0, 0, 0, 0, 0,\n",
              "         0, 0, 0, 0, 0, 0, 0, 0, 0, 0, 0, 0, 0, 0, 0, 0, 0, 0, 0, 0, 0, 0,\n",
              "         0, 0, 0, 0, 0, 0, 0, 0, 0, 0, 0, 0, 0, 0, 0, 0, 0, 0, 0, 0, 0, 0,\n",
              "         0, 0, 0, 0, 0, 0, 0, 0, 0, 0, 0, 0, 0, 0, 0, 0, 0, 0, 0, 0, 0, 0,\n",
              "         0, 0, 0, 0, 0, 0, 0, 0, 0, 0, 0, 0, 0, 0, 0, 0, 0, 0], dtype=int32),\n",
              " memmap([0, 0, 0, 0, 0, 0, 0, 0, 0, 0, 0, 0, 0, 0, 0, 0, 0, 0, 0, 0, 0, 0,\n",
              "         0, 0, 0, 0, 0, 0, 0, 0, 0, 0, 0, 0, 0, 0, 0, 0, 0, 0, 0, 0, 0, 0,\n",
              "         0, 0, 0, 0, 0, 0, 0, 0, 0, 0, 0, 0, 0, 0, 0, 0, 0, 0, 0, 0, 0, 0,\n",
              "         0, 0, 0, 0, 0, 0, 0, 0, 0, 0, 0, 0, 0, 0, 0, 0, 0, 0, 0, 0, 0, 0,\n",
              "         0, 0, 0, 0, 0, 0, 0, 0, 0, 0, 0, 0, 0, 0, 0, 0, 0, 0, 0, 0, 0, 0,\n",
              "         0, 0, 0, 0, 0, 0, 0, 0, 0, 0, 0, 0, 0, 0, 0, 0, 0, 0], dtype=int32))"
            ]
          },
          "metadata": {},
          "execution_count": 86
        }
      ]
    },
    {
      "cell_type": "code",
      "source": [
        "# 만들어진 json 파일을 라인 단위로 읽어 들여 np.memmap에 로딩해보기"
      ],
      "metadata": {
        "id": "W6BGzZDlEfRg"
      },
      "execution_count": null,
      "outputs": []
    },
    {
      "cell_type": "code",
      "source": [
        "# 라인 단위로 처리\n",
        "with open(pretrain_json_path, \"r\") as f:\n",
        "    for i, line in enumerate(tqdm(f, total=total)):\n",
        "        if 5 < i:  # 테스트를 위해서 5개만 확인\n",
        "            break\n",
        "        data = json.loads(line)\n",
        "        # encoder token\n",
        "        enc_token = [vocab.piece_to_id(p) for p in data[\"tokens\"]]\n",
        "        enc_token += [0] * (n_seq - len(enc_token))\n",
        "        # segment\n",
        "        segment = data[\"segment\"]\n",
        "        segment += [0] * (n_seq - len(segment))\n",
        "        # nsp label\n",
        "        label_nsp = data[\"is_next\"]\n",
        "        # mlm label\n",
        "        mask_idx = np.array(data[\"mask_idx\"], dtype=np.int)\n",
        "        mask_label = np.array([vocab.piece_to_id(p) for p in data[\"mask_label\"]], dtype=np.int)\n",
        "        label_mlm = np.full(n_seq, dtype=np.int, fill_value=0)\n",
        "        label_mlm[mask_idx] = mask_label\n",
        "\n",
        "        print(data)\n",
        "        print(\"enc_token:\", enc_token)\n",
        "        print(\"segment:\", segment)\n",
        "        print(\"label_nsp:\", label_nsp)\n",
        "        print(\"label_mlm:\", label_mlm)\n",
        "        print()\n",
        "\n",
        "        assert len(enc_token) == len(segment) == len(label_mlm) == n_seq\n",
        "\n",
        "        enc_tokens[i] = enc_token\n",
        "        segments[i] = segment\n",
        "        labels_nsp[i] = label_nsp\n",
        "        labels_mlm[i] = label_mlm"
      ],
      "metadata": {
        "colab": {
          "base_uri": "https://localhost:8080/",
          "height": 1000,
          "referenced_widgets": [
            "996c21c74d0f4bdbac5462062c9b9e06",
            "ca64b40b1c7d4c89afb34f9eb6ccdd0d",
            "04dc6471c6904ebeb7062e30f74fc089",
            "3c43fd85847a465f9eb650e5878b1fa9",
            "92dc8b253d2348b9b8478ee02e4ce567",
            "8277c90f12d444ca82be61d59230c3ae",
            "a4943a83ef554ae8b09883c252ec8e46",
            "526f968197c343eba158cb54b7c9e13b",
            "022015f8fae8404a80ee74b236c8faf7",
            "0d908e77434e4e209e84250b3f048007",
            "83d3cc3cfdf84ba19c021aaac7ab6854"
          ]
        },
        "id": "kSkGqDisEfVW",
        "outputId": "443bcabb-df1c-45a4-a13f-6dacbbebfdb6"
      },
      "execution_count": null,
      "outputs": [
        {
          "output_type": "display_data",
          "data": {
            "text/plain": [
              "  0%|          | 0/918173 [00:00<?, ?it/s]"
            ],
            "application/vnd.jupyter.widget-view+json": {
              "version_major": 2,
              "version_minor": 0,
              "model_id": "996c21c74d0f4bdbac5462062c9b9e06"
            }
          },
          "metadata": {}
        },
        {
          "output_type": "stream",
          "name": "stdout",
          "text": [
            "{'tokens': ['[CLS]', '▁지', '미', '[MASK]', '[MASK]', '▁제임스', '▁얼', '▁\"', '지', '미', '\"', '▁카', '터', '▁주', '니어', '(,', '[MASK]', '[MASK]', '[MASK]', '▁10', '월', '[MASK]', '[MASK]', 'ī', '▁)', '는', '▁민주', '당', '▁출신', '▁미국', '▁3', '9', '번째', '[MASK]', '▁(19', '7', '7', '년', '▁~', '▁1981', '년', ')', '이다', '.', '[SEP]', '▁지', '미', '▁카', '터', '는', '▁조지', '아', '주', '▁섬', '터', '▁카운', '티', '▁플', '레', '인', '스', '▁마을', '에서', '▁태어났다', '.', '▁조지', '아', '[MASK]', '[MASK]', '[MASK]', '[MASK]', '▁졸업', '하였다', '.', '▁그', '▁후', '▁해', '군에', '▁들어가', '▁전', '함', '·', '원', '자', '력', '·', '잠', '수', '함', '의', '▁승', '무', '원으로', '▁일', '하였다', '.', '▁195', '3', '년', '▁미국', '▁해군', '▁대', '위로', '▁예', '편', '하였고', '▁이후', '▁땅', '콩', '·', '면', '화', '▁등을', '▁가', '꿔', '▁많은', '▁돈', '을', '▁벌', '었다', '.', '▁그의', '▁별', '명이', '▁\"', '땅', '콩', '[SEP]'], 'segment': [0, 0, 0, 0, 0, 0, 0, 0, 0, 0, 0, 0, 0, 0, 0, 0, 0, 0, 0, 0, 0, 0, 0, 0, 0, 0, 0, 0, 0, 0, 0, 0, 0, 0, 0, 0, 0, 0, 0, 0, 0, 0, 0, 0, 0, 1, 1, 1, 1, 1, 1, 1, 1, 1, 1, 1, 1, 1, 1, 1, 1, 1, 1, 1, 1, 1, 1, 1, 1, 1, 1, 1, 1, 1, 1, 1, 1, 1, 1, 1, 1, 1, 1, 1, 1, 1, 1, 1, 1, 1, 1, 1, 1, 1, 1, 1, 1, 1, 1, 1, 1, 1, 1, 1, 1, 1, 1, 1, 1, 1, 1, 1, 1, 1, 1, 1, 1, 1, 1, 1, 1, 1, 1, 1, 1, 1, 1, 1], 'is_next': 1, 'mask_idx': [3, 4, 16, 17, 18, 21, 22, 23, 33, 67, 68, 69, 70, 107, 108, 109, 110, 111], 'mask_label': ['▁카', '터', '▁192', '4', '년', '▁1', '일', '▁~', '▁대통령', '▁공', '과', '대학교', '를', '▁땅', '콩', '·', '면', '화']}\n",
            "enc_token: [5, 18, 3686, 6, 6, 3324, 1042, 104, 3610, 3686, 3718, 207, 3714, 37, 3417, 416, 6, 6, 6, 160, 3662, 6, 6, 5880, 241, 3602, 1114, 3724, 788, 243, 49, 3632, 796, 6, 1648, 3682, 3682, 3625, 203, 3009, 3625, 3616, 16, 3599, 4, 18, 3686, 207, 3714, 3602, 1756, 3630, 3646, 630, 3714, 3568, 3835, 429, 3740, 3628, 3626, 1370, 10, 1607, 3599, 1756, 3630, 6, 6, 6, 6, 1135, 52, 3599, 13, 81, 87, 1502, 2247, 25, 3779, 3873, 3667, 3631, 3813, 3873, 4196, 3636, 3779, 3601, 249, 3725, 1233, 33, 52, 3599, 479, 3652, 3625, 243, 2780, 14, 1510, 168, 3877, 414, 166, 1697, 4290, 3873, 3703, 3683, 593, 21, 5007, 399, 1928, 3607, 813, 17, 3599, 307, 587, 930, 104, 4313, 4290, 4]\n",
            "segment: [0, 0, 0, 0, 0, 0, 0, 0, 0, 0, 0, 0, 0, 0, 0, 0, 0, 0, 0, 0, 0, 0, 0, 0, 0, 0, 0, 0, 0, 0, 0, 0, 0, 0, 0, 0, 0, 0, 0, 0, 0, 0, 0, 0, 0, 1, 1, 1, 1, 1, 1, 1, 1, 1, 1, 1, 1, 1, 1, 1, 1, 1, 1, 1, 1, 1, 1, 1, 1, 1, 1, 1, 1, 1, 1, 1, 1, 1, 1, 1, 1, 1, 1, 1, 1, 1, 1, 1, 1, 1, 1, 1, 1, 1, 1, 1, 1, 1, 1, 1, 1, 1, 1, 1, 1, 1, 1, 1, 1, 1, 1, 1, 1, 1, 1, 1, 1, 1, 1, 1, 1, 1, 1, 1, 1, 1, 1, 1]\n",
            "label_nsp: 1\n",
            "label_mlm: [   0    0    0  207 3714    0    0    0    0    0    0    0    0    0\n",
            "    0    0  810 3666 3625    0    0    7 3629  203    0    0    0    0\n",
            "    0    0    0    0    0  663    0    0    0    0    0    0    0    0\n",
            "    0    0    0    0    0    0    0    0    0    0    0    0    0    0\n",
            "    0    0    0    0    0    0    0    0    0    0    0   41 3644  830\n",
            " 3624    0    0    0    0    0    0    0    0    0    0    0    0    0\n",
            "    0    0    0    0    0    0    0    0    0    0    0    0    0    0\n",
            "    0    0    0    0    0    0    0    0    0 1697 4290 3873 3703 3683\n",
            "    0    0    0    0    0    0    0    0    0    0    0    0    0    0\n",
            "    0    0]\n",
            "\n",
            "{'tokens': ['[CLS]', '아', '[MASK]', '▁상', '원', '▁의원', '[MASK]', '[MASK]', '▁낙', '선', '하나', '杭', '▁선거', '가', '▁부정', '선거', '▁', '였', '음을', '▁입', '증', '하게', '▁되어', '▁당선', '되고', ',', '[MASK]', '[MASK]', '[MASK]', '▁조지', '아', '▁주', '▁지', '사', '▁선거', '에', '▁낙', '선', '하지만', '▁1970', '년', '兩', '24', '▁주', '▁지', '사를', '▁역임', '했다', '.', '▁대통령', '이', '▁되', '기', '[MASK]', '▁조지', '아', '주', '▁상', '원의', '원을', '▁두', '번', '▁연', '임', '했으며', ',', '단체', 'Λ', '▁1975', '년까지', '▁조지', '아', '▁지', '사로', '▁근무', '했다', '.', '▁조지', '아', '▁주', '지', '사로', '▁지', '내', '면서', ',', '▁미국', '에', '▁사는', '▁흑', '인', '▁등', '용', '법을', '▁내', '세', '웠다', '.', '[SEP]', '▁1976', '년', '[MASK]', '▁선거', '에', '▁민주', '당', '▁후보', '로', '▁출', '마', '하여', '▁도', '덕', '주의', '[MASK]', '[MASK]', '▁내', '세', '워', ',', '▁포', '드를', '▁누', '르고', '[MASK]', '[MASK]', '[MASK]', '[SEP]'], 'segment': [0, 0, 0, 0, 0, 0, 0, 0, 0, 0, 0, 0, 0, 0, 0, 0, 0, 0, 0, 0, 0, 0, 0, 0, 0, 0, 0, 0, 0, 0, 0, 0, 0, 0, 0, 0, 0, 0, 0, 0, 0, 0, 0, 0, 0, 0, 0, 0, 0, 0, 0, 0, 0, 0, 0, 0, 0, 0, 0, 0, 0, 0, 0, 0, 0, 0, 0, 0, 0, 0, 0, 0, 0, 0, 0, 0, 0, 0, 0, 0, 0, 0, 0, 0, 0, 0, 0, 0, 0, 0, 0, 0, 0, 0, 0, 0, 0, 0, 0, 1, 1, 1, 1, 1, 1, 1, 1, 1, 1, 1, 1, 1, 1, 1, 1, 1, 1, 1, 1, 1, 1, 1, 1, 1, 1, 1, 1, 1], 'is_next': 1, 'mask_idx': [2, 6, 7, 11, 26, 27, 28, 41, 42, 53, 66, 67, 101, 114, 115, 124, 125, 126], 'mask_label': ['▁주', '▁선거', '에서', '▁그', '▁196', '6', '년', '▁조지', '아', '▁전', '▁1971', '년부터', '▁대통령', '▁정책', '으로', '▁당선', '되었다', '.']}\n",
            "enc_token: [5, 3630, 6, 76, 3667, 2378, 6, 6, 1569, 3668, 3293, 7653, 822, 3608, 2386, 2163, 3596, 3671, 968, 213, 3929, 173, 607, 2387, 317, 3604, 6, 6, 6, 1756, 3630, 37, 18, 3620, 822, 3600, 1569, 3668, 1448, 1922, 3625, 5842, 2532, 37, 18, 451, 1399, 31, 3599, 663, 3597, 450, 3614, 6, 1756, 3630, 3646, 76, 954, 927, 157, 3821, 61, 3773, 531, 3604, 2945, 7565, 3408, 673, 1756, 3630, 18, 981, 2711, 31, 3599, 1756, 3630, 37, 3610, 981, 18, 3754, 151, 3604, 243, 3600, 3554, 1734, 3628, 50, 3717, 2046, 115, 3692, 1854, 3599, 4, 3306, 3625, 6, 822, 3600, 1114, 3724, 957, 3603, 118, 3674, 54, 75, 4089, 238, 6, 6, 115, 3692, 3964, 3604, 120, 1487, 807, 2056, 6, 6, 6, 4]\n",
            "segment: [0, 0, 0, 0, 0, 0, 0, 0, 0, 0, 0, 0, 0, 0, 0, 0, 0, 0, 0, 0, 0, 0, 0, 0, 0, 0, 0, 0, 0, 0, 0, 0, 0, 0, 0, 0, 0, 0, 0, 0, 0, 0, 0, 0, 0, 0, 0, 0, 0, 0, 0, 0, 0, 0, 0, 0, 0, 0, 0, 0, 0, 0, 0, 0, 0, 0, 0, 0, 0, 0, 0, 0, 0, 0, 0, 0, 0, 0, 0, 0, 0, 0, 0, 0, 0, 0, 0, 0, 0, 0, 0, 0, 0, 0, 0, 0, 0, 0, 0, 1, 1, 1, 1, 1, 1, 1, 1, 1, 1, 1, 1, 1, 1, 1, 1, 1, 1, 1, 1, 1, 1, 1, 1, 1, 1, 1, 1, 1]\n",
            "label_nsp: 1\n",
            "label_mlm: [   0    0   37    0    0    0  822   10    0    0    0   13    0    0\n",
            "    0    0    0    0    0    0    0    0    0    0    0    0  386 3673\n",
            " 3625    0    0    0    0    0    0    0    0    0    0    0    0 1756\n",
            " 3630    0    0    0    0    0    0    0    0    0    0   25    0    0\n",
            "    0    0    0    0    0    0    0    0    0    0 3371  524    0    0\n",
            "    0    0    0    0    0    0    0    0    0    0    0    0    0    0\n",
            "    0    0    0    0    0    0    0    0    0    0    0    0    0    0\n",
            "    0    0    0  663    0    0    0    0    0    0    0    0    0    0\n",
            "    0    0 1422    9    0    0    0    0    0    0    0    0 2387   43\n",
            " 3599    0]\n",
            "\n",
            "{'tokens': ['[CLS]', '▁카', '터', '▁대통령', '은', '▁에너', '지', '▁개발', '을', '▁촉', '구', '했으나', '▁공', '화', '당의', '▁반', '대로', '▁무', '산', '되었다', '.', '[SEP]', '▁카', '터', '는', '▁이집', '트', '와', '▁이스라엘', '을', '▁조정', '하여', ',', '▁캠', '프', '▁데이', '비', '드에서', '▁안', '와', '르', '▁사', '다', '트', '[MASK]', '[MASK]', '▁메', '나', '헴', '▁베', '긴', '▁수상', '과', '▁함께', '[MASK]', '[MASK]', '▁평', '화를', '[MASK]', '▁캠', '프', '데', '이', '비', '드', '[MASK]', '[MASK]', '▁체결', '했다', '.', '▁그러나', '[MASK]', '▁공', '화', '당', '과', '▁미국의', '▁유대', '인', '▁단', '체의', '▁반', '발', '을', '▁일으', '켰', '다', '.', '▁1979', '년', '▁백', '악', '관', '에서', '▁양', '국', '▁간의', '▁평화', '조', '약', '으로', '▁이끌', '어졌다', '.', '[MASK]', '[MASK]', '[MASK]', '▁제', '2', '차', '▁전략', '▁무', '기', '▁제한', '▁협', '상에', '▁조', '인', '했다', '.', '[MASK]', '[MASK]', '[MASK]', '▁1970', '년대', '▁후반', '[MASK]', '[SEP]'], 'segment': [0, 0, 0, 0, 0, 0, 0, 0, 0, 0, 0, 0, 0, 0, 0, 0, 0, 0, 0, 0, 0, 0, 1, 1, 1, 1, 1, 1, 1, 1, 1, 1, 1, 1, 1, 1, 1, 1, 1, 1, 1, 1, 1, 1, 1, 1, 1, 1, 1, 1, 1, 1, 1, 1, 1, 1, 1, 1, 1, 1, 1, 1, 1, 1, 1, 1, 1, 1, 1, 1, 1, 1, 1, 1, 1, 1, 1, 1, 1, 1, 1, 1, 1, 1, 1, 1, 1, 1, 1, 1, 1, 1, 1, 1, 1, 1, 1, 1, 1, 1, 1, 1, 1, 1, 1, 1, 1, 1, 1, 1, 1, 1, 1, 1, 1, 1, 1, 1, 1, 1, 1, 1, 1, 1, 1, 1, 1, 1], 'is_next': 1, 'mask_idx': [44, 45, 54, 55, 58, 65, 66, 71, 104, 105, 106, 113, 114, 115, 120, 121, 122, 126], 'mask_label': ['▁대통령', '과', '▁중', '동', '▁위한', '▁협', '정을', '▁이것은', '▁또한', '▁소련', '과', '▁제한', '▁협', '상에', '▁카', '터', '는', '▁당시']}\n",
            "enc_token: [5, 207, 3714, 663, 3613, 1779, 3610, 570, 3607, 2270, 3653, 1002, 41, 3683, 1549, 141, 448, 108, 3726, 43, 3599, 4, 207, 3714, 3602, 2703, 3677, 3665, 3425, 3607, 3358, 54, 3604, 2432, 3721, 964, 3694, 3552, 172, 3665, 3699, 15, 3598, 3677, 6, 6, 334, 3637, 5887, 271, 4099, 1010, 3644, 280, 6, 6, 232, 933, 6, 2432, 3721, 3736, 3597, 3694, 3681, 6, 6, 2525, 31, 3599, 330, 6, 41, 3683, 3724, 3644, 679, 2670, 3628, 165, 1315, 141, 3720, 3607, 1214, 4174, 3598, 3599, 2998, 3625, 456, 3928, 3708, 10, 230, 3643, 2714, 2793, 3676, 3827, 9, 1436, 2521, 3599, 6, 6, 6, 30, 3619, 3751, 2836, 108, 3614, 1956, 617, 1825, 53, 3628, 31, 3599, 6, 6, 6, 1922, 596, 1841, 6, 4]\n",
            "segment: [0, 0, 0, 0, 0, 0, 0, 0, 0, 0, 0, 0, 0, 0, 0, 0, 0, 0, 0, 0, 0, 0, 1, 1, 1, 1, 1, 1, 1, 1, 1, 1, 1, 1, 1, 1, 1, 1, 1, 1, 1, 1, 1, 1, 1, 1, 1, 1, 1, 1, 1, 1, 1, 1, 1, 1, 1, 1, 1, 1, 1, 1, 1, 1, 1, 1, 1, 1, 1, 1, 1, 1, 1, 1, 1, 1, 1, 1, 1, 1, 1, 1, 1, 1, 1, 1, 1, 1, 1, 1, 1, 1, 1, 1, 1, 1, 1, 1, 1, 1, 1, 1, 1, 1, 1, 1, 1, 1, 1, 1, 1, 1, 1, 1, 1, 1, 1, 1, 1, 1, 1, 1, 1, 1, 1, 1, 1, 1]\n",
            "label_nsp: 1\n",
            "label_mlm: [   0    0    0    0    0    0    0    0    0    0    0    0    0    0\n",
            "    0    0    0    0    0    0    0    0    0    0    0    0    0    0\n",
            "    0    0    0    0    0    0    0    0    0    0    0    0    0    0\n",
            "    0    0  663 3644    0    0    0    0    0    0    0    0   35 3658\n",
            "    0    0  522    0    0    0    0    0    0  617  666    0    0    0\n",
            "    0 1488    0    0    0    0    0    0    0    0    0    0    0    0\n",
            "    0    0    0    0    0    0    0    0    0    0    0    0    0    0\n",
            "    0    0    0    0    0    0  276 1303 3644    0    0    0    0    0\n",
            "    0 1956  617 1825    0    0    0    0  207 3714 3602    0    0    0\n",
            "  316    0]\n",
            "\n",
            "{'tokens': ['[CLS]', '질', '▁구', '출', '▁실패', '를', '▁이유로', '▁1980', '년', '▁대통령', '▁선거', '에서', '▁공', '화', '당의', '▁로', '널', '드', '▁레이', '건', '▁후보', '에게', '▁', '져', '▁결국', '▁재', '선에', '▁실패', '했다', '.', '▁또한', '▁임', '기', '▁말', '기에', '▁터', '진', '▁소련', '의', '▁아', '프가', '니', '스탄', '▁침공', '▁사건', '으로', '▁인해', '▁1980', '년', '▁하계', '▁올림픽', '에', '▁반', '공', '국', '가', '들의', '▁보이', '콧', '을', '[MASK]', '[MASK]', '[MASK]', '[MASK]', '[SEP]', '▁지', '미', '▁카', '터', '는', '▁대한민국', '과의', '▁관계', '에서도', '▁중요한', '▁영향을', '[MASK]', '[MASK]', '[MASK]', '▁대통령', '[MASK]', '▁하나', '다', '.', '▁인', '권', '▁문제', '와', '[MASK]', '[MASK]', '[MASK]', '[MASK]', '▁철', '수', '▁문제', '로', '▁한때', '▁한', '미', '▁관계', '가', '▁불', '편', '하기도', '▁했다', '.', '[MASK]', '[MASK]', '▁대한민국', '에', '▁대한', '▁북한', '의', '▁위협', '에', '[MASK]', '[MASK]', '[MASK]', '▁한', '미', '연합', '사를', '▁창설', '하면서', ',', '▁1982', '년까지', '[SEP]'], 'segment': [0, 0, 0, 0, 0, 0, 0, 0, 0, 0, 0, 0, 0, 0, 0, 0, 0, 0, 0, 0, 0, 0, 0, 0, 0, 0, 0, 0, 0, 0, 0, 0, 0, 0, 0, 0, 0, 0, 0, 0, 0, 0, 0, 0, 0, 0, 0, 0, 0, 0, 0, 0, 0, 0, 0, 0, 0, 0, 0, 0, 0, 0, 0, 0, 0, 1, 1, 1, 1, 1, 1, 1, 1, 1, 1, 1, 1, 1, 1, 1, 1, 1, 1, 1, 1, 1, 1, 1, 1, 1, 1, 1, 1, 1, 1, 1, 1, 1, 1, 1, 1, 1, 1, 1, 1, 1, 1, 1, 1, 1, 1, 1, 1, 1, 1, 1, 1, 1, 1, 1, 1, 1, 1, 1, 1, 1, 1, 1], 'is_next': 1, 'mask_idx': [9, 60, 61, 62, 63, 76, 77, 78, 80, 88, 89, 90, 91, 106, 107, 115, 116, 117], 'mask_label': ['▁대통령', '▁내', '세', '웠다', '.', '▁미', '쳤', '던', '▁중', '▁주', '한', '미', '군', '▁1978', '년', '▁대', '비', '해']}\n",
            "enc_token: [5, 3892, 73, 3771, 1580, 3624, 1828, 1641, 3625, 663, 822, 10, 41, 3683, 1549, 194, 4044, 3681, 1169, 3803, 957, 114, 3596, 3944, 875, 174, 2087, 1580, 31, 3599, 276, 273, 3614, 150, 329, 870, 3713, 1303, 3601, 26, 2992, 3733, 1324, 3232, 636, 9, 751, 1641, 3625, 2219, 779, 3600, 141, 3670, 3643, 3608, 247, 3053, 4805, 3607, 6, 6, 6, 6, 4, 18, 3686, 207, 3714, 3602, 410, 786, 704, 643, 1165, 1063, 6, 6, 6, 663, 6, 324, 3598, 3599, 42, 3830, 551, 3665, 6, 6, 6, 6, 380, 3636, 551, 3603, 3595, 34, 3686, 704, 3608, 129, 3877, 863, 345, 3599, 6, 6, 410, 3600, 92, 1877, 3601, 3038, 3600, 6, 6, 6, 34, 3686, 2569, 451, 3577, 421, 3604, 2760, 673, 4]\n",
            "segment: [0, 0, 0, 0, 0, 0, 0, 0, 0, 0, 0, 0, 0, 0, 0, 0, 0, 0, 0, 0, 0, 0, 0, 0, 0, 0, 0, 0, 0, 0, 0, 0, 0, 0, 0, 0, 0, 0, 0, 0, 0, 0, 0, 0, 0, 0, 0, 0, 0, 0, 0, 0, 0, 0, 0, 0, 0, 0, 0, 0, 0, 0, 0, 0, 0, 1, 1, 1, 1, 1, 1, 1, 1, 1, 1, 1, 1, 1, 1, 1, 1, 1, 1, 1, 1, 1, 1, 1, 1, 1, 1, 1, 1, 1, 1, 1, 1, 1, 1, 1, 1, 1, 1, 1, 1, 1, 1, 1, 1, 1, 1, 1, 1, 1, 1, 1, 1, 1, 1, 1, 1, 1, 1, 1, 1, 1, 1, 1]\n",
            "label_nsp: 1\n",
            "label_mlm: [   0    0    0    0    0    0    0    0    0  663    0    0    0    0\n",
            "    0    0    0    0    0    0    0    0    0    0    0    0    0    0\n",
            "    0    0    0    0    0    0    0    0    0    0    0    0    0    0\n",
            "    0    0    0    0    0    0    0    0    0    0    0    0    0    0\n",
            "    0    0    0    0  115 3692 1854 3599    0    0    0    0    0    0\n",
            "    0    0    0    0    0    0   55 4219 3781    0   35    0    0    0\n",
            "    0    0    0    0   37 3612 3686 3722    0    0    0    0    0    0\n",
            "    0    0    0    0    0    0    0    0 3332 3625    0    0    0    0\n",
            "    0    0    0   14 3694 3645    0    0    0    0    0    0    0    0\n",
            "    0    0]\n",
            "\n",
            "{'tokens': ['[CLS]', '한', '▁뒤', '▁민주', '주의', '▁실', '현', '을', '▁위해', '▁제', '▁3', '세', '계의', '▁선거', '[MASK]', '[MASK]', '[MASK]', '▁및', '▁기', '니', '▁벌', '레', '에', '▁의한', '▁드', '라', '쿤', '쿠', '르', '스', '▁질', '병', '▁방', '재', '를', '▁위해', '▁힘', '썼', '다', '.', '▁미국의', '▁빈', '곤', '층', '▁지원', '▁활동', ',', '[MASK]', '[MASK]', '▁집', '짓', '기', '▁운동', ',', '▁국제', '▁분', '쟁', '▁중', '재', '▁등의', '▁활동', '도', '▁했다', '.', '[SEP]', '▁1979', '년', '▁~', '[MASK]', '[MASK]', '▁대한민국의', '▁정치적', '▁격', '변', '기', '▁당시의', '▁대통령', '이었던', '▁그는', '▁이에', '▁대해', '▁애', '매', '한', '▁태', '도를', '▁보', '였고', ',', '▁이는', '▁후에', '▁대한민국', '▁내에서', '[MASK]', '[MASK]', '[MASK]', '▁반', '미', '▁운동', '의', '▁한', '▁원', '인이', '▁', '됐다', '.', '▁10', '월', '▁26', '일', ',', '▁박', '정', '희', '▁대통령', '이', '▁김', '재', '규', '[MASK]', '[MASK]', '[MASK]', '[MASK]', '▁의해', '▁살해', '된', '▁것에', '[SEP]'], 'segment': [0, 0, 0, 0, 0, 0, 0, 0, 0, 0, 0, 0, 0, 0, 0, 0, 0, 0, 0, 0, 0, 0, 0, 0, 0, 0, 0, 0, 0, 0, 0, 0, 0, 0, 0, 0, 0, 0, 0, 0, 0, 0, 0, 0, 0, 0, 0, 0, 0, 0, 0, 0, 0, 0, 0, 0, 0, 0, 0, 0, 0, 0, 0, 0, 0, 1, 1, 1, 1, 1, 1, 1, 1, 1, 1, 1, 1, 1, 1, 1, 1, 1, 1, 1, 1, 1, 1, 1, 1, 1, 1, 1, 1, 1, 1, 1, 1, 1, 1, 1, 1, 1, 1, 1, 1, 1, 1, 1, 1, 1, 1, 1, 1, 1, 1, 1, 1, 1, 1, 1, 1, 1, 1, 1, 1, 1, 1, 1], 'is_next': 0, 'mask_idx': [14, 15, 16, 47, 48, 65, 66, 68, 69, 93, 94, 95, 119, 120, 121, 122, 124, 125], 'mask_label': ['▁감', '시', '▁활동', '▁사랑', '의', '▁1979', '년', '▁1980', '년', '▁고', '조', '되는', '▁중앙', '정보', '부', '장에', '▁살해', '된']}\n",
            "enc_token: [5, 3612, 339, 1114, 238, 158, 3756, 3607, 231, 30, 49, 3692, 1655, 822, 6, 6, 6, 228, 24, 3733, 813, 3740, 3600, 1333, 311, 3635, 4956, 3937, 3699, 3626, 761, 3886, 96, 3729, 3624, 231, 946, 4437, 3598, 3599, 679, 1413, 4234, 4083, 770, 375, 3604, 6, 6, 313, 4333, 3614, 886, 3604, 605, 147, 3972, 35, 3729, 507, 375, 3627, 345, 3599, 4, 2998, 3625, 203, 6, 6, 447, 2844, 1032, 3889, 3614, 3198, 663, 1278, 202, 695, 433, 442, 3823, 3612, 227, 701, 47, 2470, 3604, 594, 1140, 410, 3427, 6, 6, 6, 141, 3686, 886, 3601, 34, 130, 828, 3596, 1027, 3599, 160, 3662, 980, 3629, 3604, 338, 3642, 4055, 663, 3597, 200, 3729, 3958, 6, 6, 6, 6, 355, 2591, 3711, 2057, 4]\n",
            "segment: [0, 0, 0, 0, 0, 0, 0, 0, 0, 0, 0, 0, 0, 0, 0, 0, 0, 0, 0, 0, 0, 0, 0, 0, 0, 0, 0, 0, 0, 0, 0, 0, 0, 0, 0, 0, 0, 0, 0, 0, 0, 0, 0, 0, 0, 0, 0, 0, 0, 0, 0, 0, 0, 0, 0, 0, 0, 0, 0, 0, 0, 0, 0, 0, 0, 1, 1, 1, 1, 1, 1, 1, 1, 1, 1, 1, 1, 1, 1, 1, 1, 1, 1, 1, 1, 1, 1, 1, 1, 1, 1, 1, 1, 1, 1, 1, 1, 1, 1, 1, 1, 1, 1, 1, 1, 1, 1, 1, 1, 1, 1, 1, 1, 1, 1, 1, 1, 1, 1, 1, 1, 1, 1, 1, 1, 1, 1, 1]\n",
            "label_nsp: 0\n",
            "label_mlm: [   0    0    0    0    0    0    0    0    0    0    0    0    0    0\n",
            "  209 3623  375    0    0    0    0    0    0    0    0    0    0    0\n",
            "    0    0    0    0    0    0    0    0    0    0    0    0    0    0\n",
            "    0    0    0    0    0 1424 3601    0    0    0    0    0    0    0\n",
            "    0    0    0    0    0    0    0    0    0 2998 3625    0 1641 3625\n",
            "    0    0    0    0    0    0    0    0    0    0    0    0    0    0\n",
            "    0    0    0    0    0    0    0    0    0   70 3676  267    0    0\n",
            "    0    0    0    0    0    0    0    0    0    0    0    0    0    0\n",
            "    0    0    0    0    0    0    0  782 2275 3638 1313    0 2591 3711\n",
            "    0    0]\n",
            "\n",
            "{'tokens': ['[CLS]', '상을', '▁거부', '하면서', '▁사', '태', '의', '▁위', '기를', '▁초', '래', '한', '[MASK]', '▁및', '▁단', '체를', '▁직접', '▁만나', '[MASK]', '[MASK]', '[MASK]', '[MASK]', '[MASK]', '▁근', '본', '적으로', '[MASK]', '[MASK]', '▁위해', '▁힘', '썼', '다', '.', '▁이', '▁과정에서', '[MASK]', '▁행정', '부와', '▁갈', '등', '을', '▁보', '이기도', '▁했지만', ',', '▁전', '직', '[MASK]', '[MASK]', '▁권', '한', '과', '[MASK]', '[MASK]', '▁유명', '▁인사', '들의', '▁활약', '으로', '[MASK]', '[MASK]', '▁나', '갔다', '.', '[SEP]', '[MASK]', '[MASK]', '[MASK]', '▁카', '터', '▁행정', '부', '▁이후', '▁미국', '이', '▁북', '핵', '▁위', '기', ',', '▁코', '소', '보', '▁전쟁', ',', '▁이', '라크', '▁전쟁', '과', '▁같이', '▁미국', '이', '▁군사', '적', '▁행', '동을', '▁최', '후', '로', '▁선택', '하는', '▁전통', '적', '▁사고', '를', '▁버', '리고', '▁군사', '적', '▁행', '동을', '▁선', '행', '하는', '▁행', '위에', '▁대해', '▁깊', '은', '▁유', '감을', '▁표시', '▁하며', '▁미국의', '▁군사', '적', '▁활동', '[SEP]'], 'segment': [0, 0, 0, 0, 0, 0, 0, 0, 0, 0, 0, 0, 0, 0, 0, 0, 0, 0, 0, 0, 0, 0, 0, 0, 0, 0, 0, 0, 0, 0, 0, 0, 0, 0, 0, 0, 0, 0, 0, 0, 0, 0, 0, 0, 0, 0, 0, 0, 0, 0, 0, 0, 0, 0, 0, 0, 0, 0, 0, 0, 0, 0, 0, 0, 0, 1, 1, 1, 1, 1, 1, 1, 1, 1, 1, 1, 1, 1, 1, 1, 1, 1, 1, 1, 1, 1, 1, 1, 1, 1, 1, 1, 1, 1, 1, 1, 1, 1, 1, 1, 1, 1, 1, 1, 1, 1, 1, 1, 1, 1, 1, 1, 1, 1, 1, 1, 1, 1, 1, 1, 1, 1, 1, 1, 1, 1, 1, 1], 'is_next': 0, 'mask_idx': [12, 18, 19, 20, 21, 22, 26, 27, 35, 47, 48, 52, 53, 59, 60, 65, 66, 67], 'mask_label': ['▁인물', '▁분', '쟁', '의', '▁원', '인을', '▁해결', '하기', '▁미국', '▁대통령', '의', '▁재', '야', '▁해결', '해', '▁카', '터', '는']}\n",
            "enc_token: [5, 460, 2324, 421, 15, 3800, 3601, 45, 333, 192, 3808, 3612, 6, 228, 165, 1397, 1069, 2142, 6, 6, 6, 6, 6, 387, 3759, 128, 6, 6, 231, 946, 4437, 3598, 3599, 8, 2208, 6, 894, 2576, 742, 3709, 3607, 47, 1305, 3378, 3604, 25, 3802, 6, 6, 476, 3612, 3644, 6, 6, 938, 3330, 247, 1102, 9, 6, 6, 58, 1133, 3599, 4, 6, 6, 6, 207, 3714, 894, 3638, 166, 243, 3597, 251, 4166, 45, 3614, 3604, 258, 3688, 3672, 506, 3604, 8, 3553, 506, 3644, 733, 243, 3597, 1251, 3657, 236, 1630, 131, 3706, 3603, 1716, 38, 1307, 3657, 1647, 3624, 407, 998, 1251, 3657, 236, 1630, 57, 3752, 38, 236, 1157, 433, 1911, 3613, 46, 2196, 2466, 1369, 679, 1251, 3657, 375, 4]\n",
            "segment: [0, 0, 0, 0, 0, 0, 0, 0, 0, 0, 0, 0, 0, 0, 0, 0, 0, 0, 0, 0, 0, 0, 0, 0, 0, 0, 0, 0, 0, 0, 0, 0, 0, 0, 0, 0, 0, 0, 0, 0, 0, 0, 0, 0, 0, 0, 0, 0, 0, 0, 0, 0, 0, 0, 0, 0, 0, 0, 0, 0, 0, 0, 0, 0, 0, 1, 1, 1, 1, 1, 1, 1, 1, 1, 1, 1, 1, 1, 1, 1, 1, 1, 1, 1, 1, 1, 1, 1, 1, 1, 1, 1, 1, 1, 1, 1, 1, 1, 1, 1, 1, 1, 1, 1, 1, 1, 1, 1, 1, 1, 1, 1, 1, 1, 1, 1, 1, 1, 1, 1, 1, 1, 1, 1, 1, 1, 1, 1]\n",
            "label_nsp: 0\n",
            "label_mlm: [   0    0    0    0    0    0    0    0    0    0    0    0 1179    0\n",
            "    0    0    0    0  147 3972 3601  130 1171    0    0    0 2317  167\n",
            "    0    0    0    0    0    0    0  243    0    0    0    0    0    0\n",
            "    0    0    0    0    0  663 3601    0    0    0  174 3775    0    0\n",
            "    0    0    0 2317 3645    0    0    0    0  207 3714 3602    0    0\n",
            "    0    0    0    0    0    0    0    0    0    0    0    0    0    0\n",
            "    0    0    0    0    0    0    0    0    0    0    0    0    0    0\n",
            "    0    0    0    0    0    0    0    0    0    0    0    0    0    0\n",
            "    0    0    0    0    0    0    0    0    0    0    0    0    0    0\n",
            "    0    0]\n",
            "\n"
          ]
        },
        {
          "output_type": "stream",
          "name": "stderr",
          "text": [
            "<ipython-input-88-77e387a220b8>:16: DeprecationWarning: `np.int` is a deprecated alias for the builtin `int`. To silence this warning, use `int` by itself. Doing this will not modify any behavior and is safe. When replacing `np.int`, you may wish to use e.g. `np.int64` or `np.int32` to specify the precision. If you wish to review your current use, check the release note link for additional information.\n",
            "Deprecated in NumPy 1.20; for more details and guidance: https://numpy.org/devdocs/release/1.20.0-notes.html#deprecations\n",
            "  mask_idx = np.array(data[\"mask_idx\"], dtype=np.int)\n",
            "<ipython-input-88-77e387a220b8>:17: DeprecationWarning: `np.int` is a deprecated alias for the builtin `int`. To silence this warning, use `int` by itself. Doing this will not modify any behavior and is safe. When replacing `np.int`, you may wish to use e.g. `np.int64` or `np.int32` to specify the precision. If you wish to review your current use, check the release note link for additional information.\n",
            "Deprecated in NumPy 1.20; for more details and guidance: https://numpy.org/devdocs/release/1.20.0-notes.html#deprecations\n",
            "  mask_label = np.array([vocab.piece_to_id(p) for p in data[\"mask_label\"]], dtype=np.int)\n",
            "<ipython-input-88-77e387a220b8>:18: DeprecationWarning: `np.int` is a deprecated alias for the builtin `int`. To silence this warning, use `int` by itself. Doing this will not modify any behavior and is safe. When replacing `np.int`, you may wish to use e.g. `np.int64` or `np.int32` to specify the precision. If you wish to review your current use, check the release note link for additional information.\n",
            "Deprecated in NumPy 1.20; for more details and guidance: https://numpy.org/devdocs/release/1.20.0-notes.html#deprecations\n",
            "  label_mlm = np.full(n_seq, dtype=np.int, fill_value=0)\n"
          ]
        }
      ]
    },
    {
      "cell_type": "markdown",
      "source": [
        "<br>"
      ],
      "metadata": {
        "id": "nGNwxaSEEnf4"
      }
    },
    {
      "cell_type": "code",
      "source": [
        "# np.memmap을 사용해 메모리 효율적으로 만들어진 데이터를 로딩하는 함수"
      ],
      "metadata": {
        "id": "aBRfh3FYEkp6"
      },
      "execution_count": null,
      "outputs": []
    },
    {
      "cell_type": "code",
      "source": [
        "def load_pre_train_data(vocab, filename, n_seq, count=None):\n",
        "    \"\"\"\n",
        "    학습에 필요한 데이터를 로드\n",
        "    :param vocab: vocab\n",
        "    :param filename: 전처리된 json 파일\n",
        "    :param n_seq: 시퀀스 길이 (number of sequence)\n",
        "    :param count: 데이터 수 제한 (None이면 전체)\n",
        "    :return enc_tokens: encoder inputs\n",
        "    :return segments: segment inputs\n",
        "    :return labels_nsp: nsp labels\n",
        "    :return labels_mlm: mlm labels\n",
        "    \"\"\"\n",
        "    total = 0\n",
        "    with open(filename, \"r\") as f:\n",
        "        for line in f:\n",
        "            total += 1\n",
        "            # 데이터 수 제한\n",
        "            if count is not None and count <= total:\n",
        "                break\n",
        "\n",
        "    # np.memmap을 사용하면 메모리를 적은 메모리에서도 대용량 데이터 처리가 가능 함\n",
        "    enc_tokens = np.memmap(filename='enc_tokens.memmap', mode='w+', dtype=np.int32, shape=(total, n_seq))\n",
        "    segments = np.memmap(filename='segments.memmap', mode='w+', dtype=np.int32, shape=(total, n_seq))\n",
        "    labels_nsp = np.memmap(filename='labels_nsp.memmap', mode='w+', dtype=np.int32, shape=(total,))\n",
        "    labels_mlm = np.memmap(filename='labels_mlm.memmap', mode='w+', dtype=np.int32, shape=(total, n_seq))\n",
        "\n",
        "    with open(filename, \"r\") as f:\n",
        "        for i, line in enumerate(tqdm(f, total=total)):\n",
        "            if total <= i:\n",
        "                print(\"data load early stop\", total, i)\n",
        "                break\n",
        "            data = json.loads(line)\n",
        "            # encoder token\n",
        "            enc_token = [vocab.piece_to_id(p) for p in data[\"tokens\"]]\n",
        "            enc_token += [0] * (n_seq - len(enc_token))\n",
        "            # segment\n",
        "            segment = data[\"segment\"]\n",
        "            segment += [0] * (n_seq - len(segment))\n",
        "            # nsp label\n",
        "            label_nsp = data[\"is_next\"]\n",
        "            # mlm label\n",
        "            mask_idx = np.array(data[\"mask_idx\"], dtype=np.int)\n",
        "            mask_label = np.array([vocab.piece_to_id(p) for p in data[\"mask_label\"]], dtype=np.int)\n",
        "            label_mlm = np.full(n_seq, dtype=np.int, fill_value=0)\n",
        "            label_mlm[mask_idx] = mask_label\n",
        "\n",
        "            assert len(enc_token) == len(segment) == len(label_mlm) == n_seq\n",
        "\n",
        "            enc_tokens[i] = enc_token\n",
        "            segments[i] = segment\n",
        "            labels_nsp[i] = label_nsp\n",
        "            labels_mlm[i] = label_mlm\n",
        "\n",
        "    return (enc_tokens, segments), (labels_nsp, labels_mlm)"
      ],
      "metadata": {
        "id": "MYkCiHBhEwBO"
      },
      "execution_count": null,
      "outputs": []
    },
    {
      "cell_type": "markdown",
      "source": [
        "<br>"
      ],
      "metadata": {
        "id": "0gDXAMCbEz_3"
      }
    },
    {
      "cell_type": "code",
      "source": [
        "# 128000건만 메모리에 로딩"
      ],
      "metadata": {
        "id": "gPeqtDY7E2we"
      },
      "execution_count": null,
      "outputs": []
    },
    {
      "cell_type": "code",
      "source": [
        "pre_train_inputs, pre_train_labels = load_pre_train_data(vocab, pretrain_json_path, 128, count=128000)"
      ],
      "metadata": {
        "colab": {
          "base_uri": "https://localhost:8080/",
          "height": 253,
          "referenced_widgets": [
            "65f1b4a714424b35aeb8b44a0ab8376f",
            "61773e180fae494cb60d8f48b4c68c29",
            "5e9e9961cf024077a0d75be9774628cc",
            "9881ef28e55b4f9b8990de42bef8a5fb",
            "635bc677c5d14aa0971e8b9d1784c9a9",
            "985ec72ebb8742b3a9b43f0633b8b056",
            "bc5472f55d9b4db0a374455482f5fc76",
            "46b16a80276e4c66951f199bc8982084",
            "88c6f18ad700474392453e9e92528084",
            "be99558635f6498c83e8934734622b72",
            "a5d63347b2e946d09327da357e89d943"
          ]
        },
        "id": "aggfA3qWEyrJ",
        "outputId": "9ac5aca3-5dc4-40f5-b640-3a45897fac5f"
      },
      "execution_count": null,
      "outputs": [
        {
          "output_type": "display_data",
          "data": {
            "text/plain": [
              "  0%|          | 0/128000 [00:00<?, ?it/s]"
            ],
            "application/vnd.jupyter.widget-view+json": {
              "version_major": 2,
              "version_minor": 0,
              "model_id": "65f1b4a714424b35aeb8b44a0ab8376f"
            }
          },
          "metadata": {}
        },
        {
          "output_type": "stream",
          "name": "stderr",
          "text": [
            "<ipython-input-90-635c52fbd155>:42: DeprecationWarning: `np.int` is a deprecated alias for the builtin `int`. To silence this warning, use `int` by itself. Doing this will not modify any behavior and is safe. When replacing `np.int`, you may wish to use e.g. `np.int64` or `np.int32` to specify the precision. If you wish to review your current use, check the release note link for additional information.\n",
            "Deprecated in NumPy 1.20; for more details and guidance: https://numpy.org/devdocs/release/1.20.0-notes.html#deprecations\n",
            "  mask_idx = np.array(data[\"mask_idx\"], dtype=np.int)\n",
            "<ipython-input-90-635c52fbd155>:43: DeprecationWarning: `np.int` is a deprecated alias for the builtin `int`. To silence this warning, use `int` by itself. Doing this will not modify any behavior and is safe. When replacing `np.int`, you may wish to use e.g. `np.int64` or `np.int32` to specify the precision. If you wish to review your current use, check the release note link for additional information.\n",
            "Deprecated in NumPy 1.20; for more details and guidance: https://numpy.org/devdocs/release/1.20.0-notes.html#deprecations\n",
            "  mask_label = np.array([vocab.piece_to_id(p) for p in data[\"mask_label\"]], dtype=np.int)\n",
            "<ipython-input-90-635c52fbd155>:44: DeprecationWarning: `np.int` is a deprecated alias for the builtin `int`. To silence this warning, use `int` by itself. Doing this will not modify any behavior and is safe. When replacing `np.int`, you may wish to use e.g. `np.int64` or `np.int32` to specify the precision. If you wish to review your current use, check the release note link for additional information.\n",
            "Deprecated in NumPy 1.20; for more details and guidance: https://numpy.org/devdocs/release/1.20.0-notes.html#deprecations\n",
            "  label_mlm = np.full(n_seq, dtype=np.int, fill_value=0)\n"
          ]
        },
        {
          "output_type": "stream",
          "name": "stdout",
          "text": [
            "data load early stop 128000 128000\n"
          ]
        }
      ]
    },
    {
      "cell_type": "markdown",
      "source": [
        "<br>"
      ],
      "metadata": {
        "id": "PtdwwnVEE_JW"
      }
    },
    {
      "cell_type": "code",
      "source": [
        "# 처음과 마지막 확인"
      ],
      "metadata": {
        "id": "2fV_vjHuE5DC"
      },
      "execution_count": null,
      "outputs": []
    },
    {
      "cell_type": "code",
      "source": [
        "pre_train_inputs[0][0], pre_train_inputs[0][-1], pre_train_inputs[1][0], pre_train_inputs[1][-1], pre_train_labels[0][0], pre_train_labels[0][-1], pre_train_labels[1][0], pre_train_labels[1][-1]"
      ],
      "metadata": {
        "colab": {
          "base_uri": "https://localhost:8080/"
        },
        "id": "7HR5OXAdFCOq",
        "outputId": "76939b9a-89e1-4504-def1-458ceb311966"
      },
      "execution_count": null,
      "outputs": [
        {
          "output_type": "execute_result",
          "data": {
            "text/plain": [
              "(memmap([   5,   18, 3686,    6,    6, 3324, 1042,  104, 3610, 3686, 3718,\n",
              "          207, 3714,   37, 3417,  416,    6,    6,    6,  160, 3662,    6,\n",
              "            6, 5880,  241, 3602, 1114, 3724,  788,  243,   49, 3632,  796,\n",
              "            6, 1648, 3682, 3682, 3625,  203, 3009, 3625, 3616,   16, 3599,\n",
              "            4,   18, 3686,  207, 3714, 3602, 1756, 3630, 3646,  630, 3714,\n",
              "         3568, 3835,  429, 3740, 3628, 3626, 1370,   10, 1607, 3599, 1756,\n",
              "         3630,    6,    6,    6,    6, 1135,   52, 3599,   13,   81,   87,\n",
              "         1502, 2247,   25, 3779, 3873, 3667, 3631, 3813, 3873, 4196, 3636,\n",
              "         3779, 3601,  249, 3725, 1233,   33,   52, 3599,  479, 3652, 3625,\n",
              "          243, 2780,   14, 1510,  168, 3877,  414,  166, 1697, 4290, 3873,\n",
              "         3703, 3683,  593,   21, 5007,  399, 1928, 3607,  813,   17, 3599,\n",
              "          307,  587,  930,  104, 4313, 4290,    4], dtype=int32),\n",
              " memmap([   5, 3676,  848, 3784, 1932,   58, 3676,  416, 2316, 3619, 3625,\n",
              "         3617, 3744, 4335,   12, 3625, 3616,    6,    6,    7, 3629,  203,\n",
              "          578, 3652, 3625, 3617, 4148, 3665,  143, 3625, 3616,  160, 3662,\n",
              "          342, 3629, 3616, 3602,    6,  334,  829, 1115, 3665, 1382, 4148,\n",
              "         7091, 1634,  375,  671, 1645, 3608,  548, 3422,    6,    6,    6,\n",
              "          752, 3608, 3604, 2375, 3608, 3604,  533, 2589, 3599,    4,  307,\n",
              "          323, 2143,  321, 3611,  622,  123, 3725, 3620, 3627, 3837, 3608,\n",
              "            6,  176,  268, 4082,   94,  515, 4014, 3617, 7474, 3616, 3830,\n",
              "           66,    6,  307,  192, 1273,  158, 3788,  353, 3599,    6,  316,\n",
              "         3600,  176,   10,    6,  476, 3663, 1330,    6,    6,    6,    6,\n",
              "            6, 1940,  107, 3627,   13,  163,  490, 1128,   48,   28, 3599,\n",
              "          848, 3784, 3833,    8, 3637, 2263,    4], dtype=int32),\n",
              " memmap([0, 0, 0, 0, 0, 0, 0, 0, 0, 0, 0, 0, 0, 0, 0, 0, 0, 0, 0, 0, 0, 0,\n",
              "         0, 0, 0, 0, 0, 0, 0, 0, 0, 0, 0, 0, 0, 0, 0, 0, 0, 0, 0, 0, 0, 0,\n",
              "         0, 1, 1, 1, 1, 1, 1, 1, 1, 1, 1, 1, 1, 1, 1, 1, 1, 1, 1, 1, 1, 1,\n",
              "         1, 1, 1, 1, 1, 1, 1, 1, 1, 1, 1, 1, 1, 1, 1, 1, 1, 1, 1, 1, 1, 1,\n",
              "         1, 1, 1, 1, 1, 1, 1, 1, 1, 1, 1, 1, 1, 1, 1, 1, 1, 1, 1, 1, 1, 1,\n",
              "         1, 1, 1, 1, 1, 1, 1, 1, 1, 1, 1, 1, 1, 1, 1, 1, 1, 1], dtype=int32),\n",
              " memmap([0, 0, 0, 0, 0, 0, 0, 0, 0, 0, 0, 0, 0, 0, 0, 0, 0, 0, 0, 0, 0, 0,\n",
              "         0, 0, 0, 0, 0, 0, 0, 0, 0, 0, 0, 0, 0, 0, 0, 0, 0, 0, 0, 0, 0, 0,\n",
              "         0, 0, 0, 0, 0, 0, 0, 0, 0, 0, 0, 0, 0, 0, 0, 0, 0, 0, 0, 0, 0, 1,\n",
              "         1, 1, 1, 1, 1, 1, 1, 1, 1, 1, 1, 1, 1, 1, 1, 1, 1, 1, 1, 1, 1, 1,\n",
              "         1, 1, 1, 1, 1, 1, 1, 1, 1, 1, 1, 1, 1, 1, 1, 1, 1, 1, 1, 1, 1, 1,\n",
              "         1, 1, 1, 1, 1, 1, 1, 1, 1, 1, 1, 1, 1, 1, 1, 1, 1, 1], dtype=int32),\n",
              " 1,\n",
              " 1,\n",
              " memmap([   0,    0,    0,  207, 3714,    0,    0,    0,    0,    0,    0,\n",
              "            0,    0,    0,    0,    0,  810, 3666, 3625,    0,    0,    7,\n",
              "         3629,  203,    0,    0,    0,    0,    0,    0,    0,    0,    0,\n",
              "          663,    0,    0,    0,    0,    0,    0,    0,    0,    0,    0,\n",
              "            0,    0,    0,    0,    0,    0,    0,    0,    0,    0,    0,\n",
              "            0,    0,    0,    0,    0,    0,    0,    0,    0,    0,    0,\n",
              "            0,   41, 3644,  830, 3624,    0,    0,    0,    0,    0,    0,\n",
              "            0,    0,    0,    0,    0,    0,    0,    0,    0,    0,    0,\n",
              "            0,    0,    0,    0,    0,    0,    0,    0,    0,    0,    0,\n",
              "            0,    0,    0,    0,    0,    0,    0,    0, 1697, 4290, 3873,\n",
              "         3703, 3683,    0,    0,    0,    0,    0,    0,    0,    0,    0,\n",
              "            0,    0,    0,    0,    0,    0,    0], dtype=int32),\n",
              " memmap([   0,    0,    0,    0,    0,    0,    0,    0,    0,    0,    0,\n",
              "            0,    0,    0,    0,    0,    0,  175, 3662,    7, 3629,    0,\n",
              "            0,    0,    0,    0,    0,    0,    0,    0,    0,    0,    0,\n",
              "            0,    0,    0,    0,  176,    0,    0,    0,    0,    0,    0,\n",
              "         3453,    0,    0,    0,    0,    0,    0,    0,  765,  815, 3604,\n",
              "            0,    0,    0,    0,    0,    0,    0,    0,    0,    0,    0,\n",
              "            0,    0,    0,    0,    0,    0,    0,    0,    0,    0,    0,\n",
              "          347,    0,    0,    0,    0,    0,    0,    0,    0,    0,    0,\n",
              "            0, 3595,    0,    0,    0,    0,    0,    0,    0,  202,    0,\n",
              "            0,    0,    0,  323,    0,    0,    0,  605,  238, 3631, 2470,\n",
              "         3604,    0,    0,    0,    0,    0,    0,    0,    0,    0,    0,\n",
              "            0,    0,    0,    0,    0,    0,    0], dtype=int32))"
            ]
          },
          "metadata": {},
          "execution_count": 94
        }
      ]
    },
    {
      "cell_type": "markdown",
      "source": [
        "<br><br>"
      ],
      "metadata": {
        "id": "L2T7TkHpFGYP"
      }
    },
    {
      "cell_type": "markdown",
      "source": [
        "### **5. BERT 모델 구현**\n",
        "<br>"
      ],
      "metadata": {
        "id": "rJc1T1kfFGb5"
      }
    },
    {
      "cell_type": "markdown",
      "source": [
        "pad mask, ahead mask 함수, gelu activation 함수, parameter initializer 생성 함수,\n",
        "\n",
        "json을 config 형태로 사용하기 위한 유틸리티 함수를 먼저 만들어 두세요."
      ],
      "metadata": {
        "id": "4yNO1hkWFGgQ"
      }
    },
    {
      "cell_type": "markdown",
      "source": [
        "Embedding 레이어, Transformer encoder 레이어, BERT 레이어를 구성한 후, pretraine용 BERT 모델을 만들어 봅시다.\n",
        "\n",
        "<br>"
      ],
      "metadata": {
        "id": "NXoJuCkXFmaG"
      }
    },
    {
      "cell_type": "markdown",
      "source": [
        "##### **유틸리티 함수(들) 정의**"
      ],
      "metadata": {
        "id": "LmNnzwfOdsMg"
      }
    },
    {
      "cell_type": "code",
      "source": [
        "# Pad mask 함수 정의"
      ],
      "metadata": {
        "id": "w5c9lDlyFD3O"
      },
      "execution_count": null,
      "outputs": []
    },
    {
      "cell_type": "code",
      "source": [
        "def get_pad_mask(tokens, i_pad=0):\n",
        "    \"\"\"\n",
        "    pad mask 계산하는 함수\n",
        "    :param tokens: tokens (bs, n_seq)\n",
        "    :param i_pad: id of pad\n",
        "    :return mask: pad mask (pad: 1, other: 0)\n",
        "    \"\"\"\n",
        "    mask = tf.cast(tf.math.equal(tokens, i_pad), tf.float32)\n",
        "    mask = tf.expand_dims(mask, axis=1)\n",
        "    return mask"
      ],
      "metadata": {
        "id": "iakxflfUFzdY"
      },
      "execution_count": null,
      "outputs": []
    },
    {
      "cell_type": "markdown",
      "source": [
        "<br>"
      ],
      "metadata": {
        "id": "mqmAt-LleA-_"
      }
    },
    {
      "cell_type": "code",
      "source": [
        "# Ahead mask 함수 정의"
      ],
      "metadata": {
        "id": "JUzcI_0ZeDs-"
      },
      "execution_count": null,
      "outputs": []
    },
    {
      "cell_type": "code",
      "source": [
        "def get_ahead_mask(tokens, i_pad=0):\n",
        "    \"\"\"\n",
        "    ahead mask 계산하는 함수\n",
        "    :param tokens: tokens (bs, n_seq)\n",
        "    :param i_pad: id of pad\n",
        "    :return mask: ahead and pad mask (ahead or pad: 1, other: 0)\n",
        "    \"\"\"\n",
        "    n_seq = tf.shape(tokens)[1]\n",
        "    ahead_mask = 1 - tf.linalg.band_part(tf.ones((n_seq, n_seq)), -1, 0)\n",
        "    ahead_mask = tf.expand_dims(ahead_mask, axis=0)\n",
        "    pad_mask = get_pad_mask(tokens, i_pad)\n",
        "    mask = tf.maximum(ahead_mask, pad_mask)\n",
        "    return mask"
      ],
      "metadata": {
        "id": "8jadW4UoF2Kp"
      },
      "execution_count": null,
      "outputs": []
    },
    {
      "cell_type": "markdown",
      "source": [
        "<br>"
      ],
      "metadata": {
        "id": "ANAUzQV9eQHv"
      }
    },
    {
      "cell_type": "code",
      "source": [
        "# GELU activation 함수 정의"
      ],
      "metadata": {
        "id": "QkTPDT6EeQNZ"
      },
      "execution_count": null,
      "outputs": []
    },
    {
      "cell_type": "code",
      "source": [
        "@tf.function(experimental_relax_shapes=True)\n",
        "def gelu(x):\n",
        "    \"\"\"\n",
        "    gelu activation 함수\n",
        "    :param x: 입력 값\n",
        "    :return: gelu activation result\n",
        "    \"\"\"\n",
        "    return 0.5*x*(1+tf.tanh(np.sqrt(2/np.pi)*(x+0.044715*tf.pow(x, 3))))"
      ],
      "metadata": {
        "id": "WoY1suWpF3Hx"
      },
      "execution_count": null,
      "outputs": []
    },
    {
      "cell_type": "markdown",
      "source": [
        "<center>\n",
        "    <img src=\"https://d3s0tskafalll9.cloudfront.net/media/original_images/seukeurinsyas_2021-11-01_15-12-37.png\">\n",
        "    <figcaption>\n",
        "        [BERT의 finetuning (출처 : https://arxiv.org/pdf/1810.04805.pdf)]\n",
        "    </figcaption>\n",
        "</center>"
      ],
      "metadata": {
        "id": "tPmlgzO5kaE1"
      }
    },
    {
      "cell_type": "markdown",
      "source": [
        "<br>"
      ],
      "metadata": {
        "id": "5_oowgzqedTW"
      }
    },
    {
      "cell_type": "code",
      "source": [
        "# Parameter initializer 생성 함수 정의"
      ],
      "metadata": {
        "id": "Dws21fE5edZj"
      },
      "execution_count": null,
      "outputs": []
    },
    {
      "cell_type": "code",
      "source": [
        "def kernel_initializer(stddev=0.02):\n",
        "    \"\"\"\n",
        "    parameter initializer 생성\n",
        "    :param stddev: 생성할 랜덤 변수의 표준편차\n",
        "    \"\"\"\n",
        "    return tf.keras.initializers.TruncatedNormal(stddev=stddev)\n",
        "\n",
        "\n",
        "def bias_initializer():\n",
        "    \"\"\"\n",
        "    bias initializer 생성\n",
        "    \"\"\"\n",
        "    return tf.zeros_initializer"
      ],
      "metadata": {
        "id": "griFpp_RF6e9"
      },
      "execution_count": null,
      "outputs": []
    },
    {
      "cell_type": "markdown",
      "source": [
        "<br>"
      ],
      "metadata": {
        "id": "it0ncFknepbe"
      }
    },
    {
      "cell_type": "code",
      "source": [
        "# json을 config 형태로 사용하기 위한 유틸리티 함수"
      ],
      "metadata": {
        "id": "u097_B36epjH"
      },
      "execution_count": null,
      "outputs": []
    },
    {
      "cell_type": "code",
      "source": [
        "class Config(dict):\n",
        "    \"\"\"\n",
        "    json을 config 형태로 사용하기 위한 Class\n",
        "    :param dict: config dictionary\n",
        "    \"\"\"\n",
        "    __getattr__ = dict.__getitem__\n",
        "    __setattr__ = dict.__setitem__\n",
        "\n",
        "    @classmethod\n",
        "    def load(cls, file):\n",
        "        \"\"\"\n",
        "        file에서 Config를 생성 함\n",
        "        :param file: filename\n",
        "        \"\"\"\n",
        "        with open(file, 'r') as f:\n",
        "            config = json.loads(f.read())\n",
        "            return Config(config)"
      ],
      "metadata": {
        "id": "739o4KhHF7xp"
      },
      "execution_count": null,
      "outputs": []
    },
    {
      "cell_type": "markdown",
      "source": [
        "<br>"
      ],
      "metadata": {
        "id": "85hKjqdFGIAW"
      }
    },
    {
      "cell_type": "markdown",
      "source": [
        "##### **Embedding 레이어 쌓기**\n",
        "<br>"
      ],
      "metadata": {
        "id": "kwbsEmsteujo"
      }
    },
    {
      "cell_type": "markdown",
      "source": [
        "<center>\n",
        "    <img src=\"https://d3s0tskafalll9.cloudfront.net/media/images/GN-8-P-02.max-800x600.png\">\n",
        "</center>\n",
        "\n",
        "<br>"
      ],
      "metadata": {
        "id": "hvVrDMIOjy6g"
      }
    },
    {
      "cell_type": "code",
      "source": [
        "# Token Embedding 레이어"
      ],
      "metadata": {
        "id": "SWVVdY19GHbB"
      },
      "execution_count": null,
      "outputs": []
    },
    {
      "cell_type": "code",
      "source": [
        "class SharedEmbedding(tf.keras.layers.Layer):\n",
        "    \"\"\"\n",
        "    Weighed Shaed Embedding Class\n",
        "    \"\"\"\n",
        "    def __init__(self, config, name=\"weight_shared_embedding\"):\n",
        "        \"\"\"\n",
        "        생성자\n",
        "        :param config: Config 객체\n",
        "        :param name: layer name\n",
        "        \"\"\"\n",
        "        super().__init__(name=name)\n",
        "\n",
        "        self.n_vocab = config.n_vocab\n",
        "        self.d_model = config.d_model\n",
        "\n",
        "    def build(self, input_shape):\n",
        "        \"\"\"\n",
        "        shared weight 생성\n",
        "        :param input_shape: Tensor Shape (not used)\n",
        "        \"\"\"\n",
        "        with tf.name_scope(\"shared_embedding_weight\"):\n",
        "            self.shared_weights = self.add_weight(\n",
        "                \"weights\",\n",
        "                shape=[self.n_vocab, self.d_model],\n",
        "                initializer=kernel_initializer()\n",
        "            )\n",
        "\n",
        "    def call(self, inputs, mode=\"embedding\"):\n",
        "        \"\"\"\n",
        "        layer 실행\n",
        "        :param inputs: 입력\n",
        "        :param mode: 실행 모드\n",
        "        :return: embedding or linear 실행 결과\n",
        "        \"\"\"\n",
        "        # mode가 embedding일 경우 embedding lookup 실행\n",
        "        if mode == \"embedding\":\n",
        "            return self._embedding(inputs)\n",
        "        # mode가 linear일 경우 linear 실행\n",
        "        elif mode == \"linear\":\n",
        "            return self._linear(inputs)\n",
        "        # mode가 기타일 경우 오류 발생\n",
        "        else:\n",
        "            raise ValueError(f\"mode {mode} is not valid.\")\n",
        "\n",
        "    def _embedding(self, inputs):\n",
        "        \"\"\"\n",
        "        embedding lookup\n",
        "        :param inputs: 입력\n",
        "        \"\"\"\n",
        "        embed = tf.gather(self.shared_weights, tf.cast(inputs, tf.int32))\n",
        "        return embed\n",
        "\n",
        "    def _linear(self, inputs):  # (bs, n_seq, d_model)\n",
        "        \"\"\"\n",
        "        linear 실행\n",
        "        :param inputs: 입력\n",
        "        \"\"\"\n",
        "        n_batch = tf.shape(inputs)[0]\n",
        "        n_seq = tf.shape(inputs)[1]\n",
        "        inputs = tf.reshape(inputs, [-1, self.d_model])  # (bs * n_seq, d_model)\n",
        "        outputs = tf.matmul(inputs, self.shared_weights, transpose_b=True)\n",
        "        outputs = tf.reshape(outputs, [n_batch, n_seq, self.n_vocab])  # (bs, n_seq, n_vocab)\n",
        "        return outputs"
      ],
      "metadata": {
        "id": "WF9JBWdKGNF_"
      },
      "execution_count": null,
      "outputs": []
    },
    {
      "cell_type": "markdown",
      "source": [
        "<br>"
      ],
      "metadata": {
        "id": "Pmt2ybyHfGSd"
      }
    },
    {
      "cell_type": "markdown",
      "source": [
        "상대적으로 매우 간단한 Segment Embedding은 별도의 레이어를 구현하지 않고 BERT 클래스에 포함시겠습니다."
      ],
      "metadata": {
        "id": "67LX1rupj_fI"
      }
    },
    {
      "cell_type": "markdown",
      "source": [
        "<br>"
      ],
      "metadata": {
        "id": "d2_1MomUkAen"
      }
    },
    {
      "cell_type": "code",
      "source": [
        "# Position Embedding 레이어"
      ],
      "metadata": {
        "id": "luEGIdTNfGZU"
      },
      "execution_count": null,
      "outputs": []
    },
    {
      "cell_type": "code",
      "source": [
        "class PositionEmbedding(tf.keras.layers.Layer):\n",
        "    \"\"\"\n",
        "    Position Embedding Class\n",
        "    \"\"\"\n",
        "    def __init__(self, config, name=\"position_embedding\"):\n",
        "        \"\"\"\n",
        "        생성자\n",
        "        :param config: Config 객체\n",
        "        :param name: layer name\n",
        "        \"\"\"\n",
        "        super().__init__(name=name)\n",
        "\n",
        "        self.embedding = tf.keras.layers.Embedding(config.n_seq, config.d_model, embeddings_initializer=kernel_initializer())\n",
        "\n",
        "    def call(self, inputs):\n",
        "        \"\"\"\n",
        "        layer 실행\n",
        "        :param inputs: 입력\n",
        "        :return embed: position embedding lookup 결과\n",
        "        \"\"\"\n",
        "        position = tf.cast(tf.math.cumsum(tf.ones_like(inputs), axis=1, exclusive=True), tf.int32)\n",
        "        embed = self.embedding(position)\n",
        "        return embed"
      ],
      "metadata": {
        "id": "xI8pWK_RGP2w"
      },
      "execution_count": null,
      "outputs": []
    },
    {
      "cell_type": "markdown",
      "source": [
        "<br>"
      ],
      "metadata": {
        "id": "HIpKeayqfhd_"
      }
    },
    {
      "cell_type": "markdown",
      "source": [
        "##### **Transformer encoder 레이어 구성**"
      ],
      "metadata": {
        "id": "n1yR4d2qfhix"
      }
    },
    {
      "cell_type": "code",
      "source": [
        "# ScaleDotProductAttention"
      ],
      "metadata": {
        "id": "h5Q9nhZcfsMW"
      },
      "execution_count": null,
      "outputs": []
    },
    {
      "cell_type": "code",
      "source": [
        "class ScaleDotProductAttention(tf.keras.layers.Layer):\n",
        "    \"\"\"\n",
        "    Scale Dot Product Attention Class\n",
        "    \"\"\"\n",
        "    def __init__(self, name=\"scale_dot_product_attention\"):\n",
        "        \"\"\"\n",
        "        생성자\n",
        "        :param name: layer name\n",
        "        \"\"\"\n",
        "        super().__init__(name=name)\n",
        "\n",
        "    def call(self, Q, K, V, attn_mask):\n",
        "        \"\"\"\n",
        "        layer 실행\n",
        "        :param Q: Q value\n",
        "        :param K: K value\n",
        "        :param V: V value\n",
        "        :param attn_mask: 실행 모드\n",
        "        :return attn_out: attention 실행 결과\n",
        "        \"\"\"\n",
        "        attn_score = tf.matmul(Q, K, transpose_b=True)\n",
        "        scale = tf.math.sqrt(tf.cast(tf.shape(K)[-1], tf.float32))\n",
        "        attn_scale = tf.math.divide(attn_score, scale)\n",
        "        attn_scale -= 1.e9 * attn_mask\n",
        "        attn_prob = tf.nn.softmax(attn_scale, axis=-1)\n",
        "        attn_out = tf.matmul(attn_prob, V)\n",
        "        return attn_out"
      ],
      "metadata": {
        "id": "cKeciGG3GhDF"
      },
      "execution_count": null,
      "outputs": []
    },
    {
      "cell_type": "markdown",
      "source": [
        "<br>"
      ],
      "metadata": {
        "id": "7r24IrxIfv8P"
      }
    },
    {
      "cell_type": "code",
      "source": [
        "# MultiHeadAttention"
      ],
      "metadata": {
        "id": "MxRVkxhBfwKu"
      },
      "execution_count": null,
      "outputs": []
    },
    {
      "cell_type": "code",
      "source": [
        "class MultiHeadAttention(tf.keras.layers.Layer):\n",
        "    \"\"\"\n",
        "    Multi Head Attention Class\n",
        "    \"\"\"\n",
        "    def __init__(self, config, name=\"multi_head_attention\"):\n",
        "        \"\"\"\n",
        "        생성자\n",
        "        :param config: Config 객체\n",
        "        :param name: layer name\n",
        "        \"\"\"\n",
        "        super().__init__(name=name)\n",
        "\n",
        "        self.d_model = config.d_model\n",
        "        self.n_head = config.n_head\n",
        "        self.d_head = config.d_head\n",
        "\n",
        "        # Q, K, V input dense layer\n",
        "        self.W_Q = tf.keras.layers.Dense(config.n_head * config.d_head, kernel_initializer=kernel_initializer(), bias_initializer=bias_initializer())\n",
        "        self.W_K = tf.keras.layers.Dense(config.n_head * config.d_head, kernel_initializer=kernel_initializer(), bias_initializer=bias_initializer())\n",
        "        self.W_V = tf.keras.layers.Dense(config.n_head * config.d_head, kernel_initializer=kernel_initializer(), bias_initializer=bias_initializer())\n",
        "        # Scale Dot Product Attention class\n",
        "        self.attention = ScaleDotProductAttention(name=\"self_attention\")\n",
        "        # output dense layer\n",
        "        self.W_O = tf.keras.layers.Dense(config.d_model, kernel_initializer=kernel_initializer(), bias_initializer=bias_initializer())\n",
        "\n",
        "    def call(self, Q, K, V, attn_mask):\n",
        "        \"\"\"\n",
        "        layer 실행\n",
        "        :param Q: Q value\n",
        "        :param K: K value\n",
        "        :param V: V value\n",
        "        :param attn_mask: 실행 모드\n",
        "        :return attn_out: attention 실행 결과\n",
        "        \"\"\"\n",
        "        # reshape Q, K, V, attn_mask\n",
        "        batch_size = tf.shape(Q)[0]\n",
        "        Q_m = tf.transpose(tf.reshape(self.W_Q(Q), [batch_size, -1, self.n_head, self.d_head]), [0, 2, 1, 3])  # (bs, n_head, Q_len, d_head)\n",
        "        K_m = tf.transpose(tf.reshape(self.W_K(K), [batch_size, -1, self.n_head, self.d_head]), [0, 2, 1, 3])  # (bs, n_head, K_len, d_head)\n",
        "        V_m = tf.transpose(tf.reshape(self.W_V(V), [batch_size, -1, self.n_head, self.d_head]), [0, 2, 1, 3])  # (bs, n_head, K_len, d_head)\n",
        "        attn_mask_m = tf.expand_dims(attn_mask, axis=1)\n",
        "        # Scale Dot Product Attention with multi head Q, K, V, attn_mask\n",
        "        attn_out = self.attention(Q_m, K_m, V_m, attn_mask_m) # (bs, n_head, Q_len, d_head)\n",
        "\n",
        "        # transpose and liner\n",
        "        attn_out_m = tf.transpose(attn_out, perm=[0, 2, 1, 3])  # (bs, Q_len, n_head, d_head)\n",
        "        attn_out = tf.reshape(attn_out_m, [batch_size, -1, self.n_head * self.d_head])  # (bs, Q_len, d_model)\n",
        "        attn_out = self.W_O(attn_out)  # (bs, Q_len, d_model)\n",
        "\n",
        "        return attn_out"
      ],
      "metadata": {
        "id": "bK4iZiofGiw9"
      },
      "execution_count": null,
      "outputs": []
    },
    {
      "cell_type": "markdown",
      "source": [
        "<br>"
      ],
      "metadata": {
        "id": "EHYcTkMXf473"
      }
    },
    {
      "cell_type": "code",
      "source": [
        "# Transformer encoder 레이어 구성"
      ],
      "metadata": {
        "id": "sm-CUrLHf6L1"
      },
      "execution_count": null,
      "outputs": []
    },
    {
      "cell_type": "code",
      "source": [
        "class PositionWiseFeedForward(tf.keras.layers.Layer):\n",
        "    \"\"\"\n",
        "    Position Wise Feed Forward Class\n",
        "    \"\"\"\n",
        "    def __init__(self, config, name=\"feed_forward\"):\n",
        "        \"\"\"\n",
        "        생성자\n",
        "        :param config: Config 객체\n",
        "        :param name: layer name\n",
        "        \"\"\"\n",
        "        super().__init__(name=name)\n",
        "\n",
        "        self.W_1 = tf.keras.layers.Dense(config.d_ff, activation=gelu, kernel_initializer=kernel_initializer(), bias_initializer=bias_initializer())\n",
        "        self.W_2 = tf.keras.layers.Dense(config.d_model, kernel_initializer=kernel_initializer(), bias_initializer=bias_initializer())\n",
        "\n",
        "    def call(self, inputs):\n",
        "        \"\"\"\n",
        "        layer 실행\n",
        "        :param inputs: inputs\n",
        "        :return ff_val: feed forward 실행 결과\n",
        "        \"\"\"\n",
        "        ff_val = self.W_2(self.W_1(inputs))\n",
        "        return ff_val"
      ],
      "metadata": {
        "id": "Ay9-cCQ0Gu1N"
      },
      "execution_count": null,
      "outputs": []
    },
    {
      "cell_type": "code",
      "source": [
        "class EncoderLayer(tf.keras.layers.Layer):\n",
        "    \"\"\"\n",
        "    Encoder Layer Class\n",
        "    \"\"\"\n",
        "    def __init__(self, config, name=\"encoder_layer\"):\n",
        "        \"\"\"\n",
        "        생성자\n",
        "        :param config: Config 객체\n",
        "        :param name: layer name\n",
        "        \"\"\"\n",
        "        super().__init__(name=name)\n",
        "\n",
        "        self.self_attention = MultiHeadAttention(config)\n",
        "        self.norm1 = tf.keras.layers.LayerNormalization(epsilon=config.layernorm_epsilon)\n",
        "\n",
        "        self.ffn = PositionWiseFeedForward(config)\n",
        "        self.norm2 = tf.keras.layers.LayerNormalization(epsilon=config.layernorm_epsilon)\n",
        "\n",
        "        self.dropout = tf.keras.layers.Dropout(config.dropout)\n",
        "\n",
        "    def call(self, enc_embed, self_mask):\n",
        "        \"\"\"\n",
        "        layer 실행\n",
        "        :param enc_embed: enc_embed 또는 이전 EncoderLayer의 출력\n",
        "        :param self_mask: enc_tokens의 pad mask\n",
        "        :return enc_out: EncoderLayer 실행 결과\n",
        "        \"\"\"\n",
        "        self_attn_val = self.self_attention(enc_embed, enc_embed, enc_embed, self_mask)\n",
        "        norm1_val = self.norm1(enc_embed + self.dropout(self_attn_val))\n",
        "\n",
        "        ffn_val = self.ffn(norm1_val)\n",
        "        enc_out = self.norm2(norm1_val + self.dropout(ffn_val))\n",
        "\n",
        "        return enc_out"
      ],
      "metadata": {
        "id": "snPvoGsfGxpd"
      },
      "execution_count": null,
      "outputs": []
    },
    {
      "cell_type": "markdown",
      "source": [
        "<br>"
      ],
      "metadata": {
        "id": "LE0dDFy1gBI4"
      }
    },
    {
      "cell_type": "markdown",
      "source": [
        "##### **BERT 레이어 구성**"
      ],
      "metadata": {
        "id": "zLgQ97kMgBPY"
      }
    },
    {
      "cell_type": "code",
      "source": [
        "class BERT(tf.keras.layers.Layer):\n",
        "    \"\"\"\n",
        "    BERT Class\n",
        "    \"\"\"\n",
        "    def __init__(self, config, name=\"bert\"):\n",
        "        \"\"\"\n",
        "        생성자\n",
        "        :param config: Config 객체\n",
        "        :param name: layer name\n",
        "        \"\"\"\n",
        "        super().__init__(name=name)\n",
        "\n",
        "        self.i_pad = config.i_pad\n",
        "        self.embedding = SharedEmbedding(config)\n",
        "        self.position = PositionEmbedding(config)\n",
        "        self.segment = tf.keras.layers.Embedding(2, config.d_model, embeddings_initializer=kernel_initializer())\n",
        "        self.norm = tf.keras.layers.LayerNormalization(epsilon=config.layernorm_epsilon)\n",
        "\n",
        "        self.encoder_layers = [EncoderLayer(config, name=f\"encoder_layer_{i}\") for i in range(config.n_layer)]\n",
        "\n",
        "        self.dropout = tf.keras.layers.Dropout(config.dropout)\n",
        "\n",
        "    def call(self, inputs):\n",
        "        \"\"\"\n",
        "        layer 실행\n",
        "        :param inputs: (enc_tokens, segments)\n",
        "        :return logits: dec_tokens에 대한 다음 토큰 예측 결과 logits\n",
        "        \"\"\"\n",
        "        enc_tokens, segments = inputs\n",
        "\n",
        "        enc_self_mask = tf.keras.layers.Lambda(get_pad_mask, output_shape=(1, None), name='enc_self_mask')(enc_tokens, self.i_pad)\n",
        "\n",
        "        enc_embed = self.get_embedding(enc_tokens, segments)\n",
        "\n",
        "        enc_out = self.dropout(enc_embed)\n",
        "        for encoder_layer in self.encoder_layers:\n",
        "            enc_out = encoder_layer(enc_out, enc_self_mask)\n",
        "\n",
        "        logits_cls = enc_out[:,0]\n",
        "        logits_lm = self.embedding(enc_out, mode=\"linear\")\n",
        "        return logits_cls, logits_lm\n",
        "\n",
        "    def get_embedding(self, tokens, segments):\n",
        "        \"\"\"\n",
        "        token embedding, position embedding lookup\n",
        "        :param tokens: 입력 tokens\n",
        "        :param segments: 입력 segments\n",
        "        :return embed: embedding 결과\n",
        "        \"\"\"\n",
        "        embed = self.embedding(tokens) + self.position(tokens) + self.segment(segments)\n",
        "        embed = self.norm(embed)\n",
        "        return embed"
      ],
      "metadata": {
        "id": "PWqC_EgkGzJ9"
      },
      "execution_count": null,
      "outputs": []
    },
    {
      "cell_type": "markdown",
      "source": [
        "<br>"
      ],
      "metadata": {
        "id": "cHuZiqbnG4Fn"
      }
    },
    {
      "cell_type": "markdown",
      "source": [
        "##### **Pretraine용 BERT 모델 만들기**"
      ],
      "metadata": {
        "id": "KV4_5U3JgRrc"
      }
    },
    {
      "cell_type": "code",
      "source": [
        "# Encoder Layer class 정의\n",
        "class PooledOutput(tf.keras.layers.Layer):\n",
        "    def __init__(self, config, n_output, name=\"pooled_output\"):\n",
        "        super().__init__(name=name)\n",
        "\n",
        "        self.dense1 = tf.keras.layers.Dense(config.d_model, activation=tf.nn.tanh, kernel_initializer=kernel_initializer(), bias_initializer=bias_initializer())\n",
        "        self.dense2 = tf.keras.layers.Dense(n_output, use_bias=False, activation=tf.nn.softmax, name=\"nsp\", kernel_initializer=kernel_initializer(), bias_initializer=bias_initializer())\n",
        "\n",
        "    def call(self, inputs):\n",
        "        outputs = self.dense1(inputs)\n",
        "        outputs = self.dense2(outputs)\n",
        "        return outputs"
      ],
      "metadata": {
        "id": "xxqseIJAG16V"
      },
      "execution_count": null,
      "outputs": []
    },
    {
      "cell_type": "code",
      "source": [
        "def build_model_pre_train(config):\n",
        "    enc_tokens = tf.keras.layers.Input((None,), name=\"enc_tokens\")\n",
        "    segments = tf.keras.layers.Input((None,), name=\"segments\")\n",
        "\n",
        "    bert = BERT(config)\n",
        "    logits_cls, logits_lm = bert((enc_tokens, segments))\n",
        "\n",
        "    logits_cls = PooledOutput(config, 2, name=\"pooled_nsp\")(logits_cls)\n",
        "    outputs_nsp = tf.keras.layers.Softmax(name=\"nsp\")(logits_cls)\n",
        "\n",
        "    outputs_mlm = tf.keras.layers.Softmax(name=\"mlm\")(logits_lm)\n",
        "\n",
        "    model = tf.keras.Model(inputs=(enc_tokens, segments), outputs=(outputs_nsp, outputs_mlm))\n",
        "    return model"
      ],
      "metadata": {
        "id": "kAhXeuRXG7PY"
      },
      "execution_count": null,
      "outputs": []
    },
    {
      "cell_type": "markdown",
      "source": [
        "<br>"
      ],
      "metadata": {
        "id": "bNyUvMARHAKx"
      }
    },
    {
      "cell_type": "markdown",
      "source": [
        "##### **Pretrain용 BERT 모델(test_model) 생성 및 동작 확인**"
      ],
      "metadata": {
        "id": "Zr97lA5jHAm_"
      }
    },
    {
      "cell_type": "code",
      "source": [
        "# 모델 생성"
      ],
      "metadata": {
        "id": "aaEmLN1Mgtne"
      },
      "execution_count": null,
      "outputs": []
    },
    {
      "cell_type": "code",
      "source": [
        "config = Config({\"d_model\": 256, \"n_head\": 4, \"d_head\": 64, \"dropout\": 0.1, \"d_ff\": 1024, \"layernorm_epsilon\": 0.001, \"n_layer\": 3, \"n_seq\": 256, \"n_vocab\": 0, \"i_pad\": 0})\n",
        "config.n_vocab = len(vocab)\n",
        "config.i_pad = vocab.pad_id()\n",
        "config"
      ],
      "metadata": {
        "colab": {
          "base_uri": "https://localhost:8080/"
        },
        "id": "kLgYbnKHG8OO",
        "outputId": "e1de5bb1-b2a8-49f7-a275-af47ba11c63b"
      },
      "execution_count": null,
      "outputs": [
        {
          "output_type": "execute_result",
          "data": {
            "text/plain": [
              "{'d_model': 256,\n",
              " 'n_head': 4,\n",
              " 'd_head': 64,\n",
              " 'dropout': 0.1,\n",
              " 'd_ff': 1024,\n",
              " 'layernorm_epsilon': 0.001,\n",
              " 'n_layer': 3,\n",
              " 'n_seq': 256,\n",
              " 'n_vocab': 8007,\n",
              " 'i_pad': 0}"
            ]
          },
          "metadata": {},
          "execution_count": 150
        }
      ]
    },
    {
      "cell_type": "code",
      "source": [
        "n_seq = 10\n",
        "\n",
        "# make test inputs\n",
        "enc_tokens = np.random.randint(0, len(vocab), (10, n_seq))\n",
        "segments = np.random.randint(0, 2, (10, n_seq))\n",
        "labels_nsp = np.random.randint(0, 2, (10,))\n",
        "labels_mlm = np.random.randint(0, len(vocab), (10, n_seq))\n",
        "\n",
        "test_model = build_model_pre_train(config)"
      ],
      "metadata": {
        "id": "RDTKLRimHNgF"
      },
      "execution_count": null,
      "outputs": []
    },
    {
      "cell_type": "markdown",
      "source": [
        "<br>"
      ],
      "metadata": {
        "id": "3uH5MQ2Eg0wV"
      }
    },
    {
      "cell_type": "code",
      "source": [
        "# 모델 설정"
      ],
      "metadata": {
        "id": "va_T_kAwg1Ad"
      },
      "execution_count": null,
      "outputs": []
    },
    {
      "cell_type": "code",
      "source": [
        "test_model.compile(\n",
        "    loss=tf.keras.losses.sparse_categorical_crossentropy,\n",
        "    optimizer=tf.keras.optimizers.Adam(),\n",
        "    metrics=[\"acc\"]\n",
        ")"
      ],
      "metadata": {
        "id": "U8ECVPfRHQ-M"
      },
      "execution_count": null,
      "outputs": []
    },
    {
      "cell_type": "markdown",
      "source": [
        "<br>"
      ],
      "metadata": {
        "id": "nUbevgJ1g3xP"
      }
    },
    {
      "cell_type": "code",
      "source": [
        "# 데이터 분리 (train / validation)"
      ],
      "metadata": {
        "id": "YKD64l0Hg33f"
      },
      "execution_count": null,
      "outputs": []
    },
    {
      "cell_type": "code",
      "source": [
        "from sklearn.model_selection import train_test_split\n",
        "\n",
        "(enc_tokens_train, enc_tokens_val,\n",
        " segments_train, segments_val,\n",
        " labels_nsp_train, labels_nsp_val,\n",
        " labels_mlm_train, labels_mlm_val) = train_test_split(enc_tokens, segments, labels_nsp, labels_mlm, test_size=0.2)"
      ],
      "metadata": {
        "id": "wqVY5DhbI2c1"
      },
      "execution_count": null,
      "outputs": []
    },
    {
      "cell_type": "markdown",
      "source": [
        "<br>"
      ],
      "metadata": {
        "id": "_7AzB4lSg-ee"
      }
    },
    {
      "cell_type": "code",
      "source": [
        "# 모델 훈련"
      ],
      "metadata": {
        "id": "WqcYxcNmg-j-"
      },
      "execution_count": null,
      "outputs": []
    },
    {
      "cell_type": "code",
      "source": [
        "history = test_model.fit(\n",
        "    (enc_tokens_train, segments_train),\n",
        "    (labels_nsp_train, labels_mlm_train),\n",
        "    validation_data=((enc_tokens_val, segments_val), (labels_nsp_val, labels_mlm_val)),\n",
        "    epochs=30,\n",
        "    batch_size=5\n",
        ")"
      ],
      "metadata": {
        "colab": {
          "base_uri": "https://localhost:8080/"
        },
        "id": "e_OkZqwjHWY4",
        "outputId": "a98944e6-3f4e-401d-8ee8-9185e11c3086"
      },
      "execution_count": null,
      "outputs": [
        {
          "output_type": "stream",
          "name": "stdout",
          "text": [
            "Epoch 1/30\n",
            "2/2 [==============================] - 12s 1s/step - loss: 9.6709 - nsp_loss: 0.6525 - mlm_loss: 9.0184 - nsp_acc: 0.3750 - mlm_acc: 0.0000e+00 - val_loss: 9.8608 - val_nsp_loss: 0.7558 - val_mlm_loss: 9.1050 - val_nsp_acc: 0.5000 - val_mlm_acc: 0.0000e+00\n",
            "Epoch 2/30\n",
            "2/2 [==============================] - 0s 64ms/step - loss: 8.3467 - nsp_loss: 0.3775 - mlm_loss: 7.9691 - nsp_acc: 1.0000 - mlm_acc: 0.0000e+00 - val_loss: 9.8795 - val_nsp_loss: 0.7970 - val_mlm_loss: 9.0825 - val_nsp_acc: 0.5000 - val_mlm_acc: 0.0000e+00\n",
            "Epoch 3/30\n",
            "2/2 [==============================] - 0s 62ms/step - loss: 7.4094 - nsp_loss: 0.3321 - mlm_loss: 7.0773 - nsp_acc: 1.0000 - mlm_acc: 0.2250 - val_loss: 9.9001 - val_nsp_loss: 0.8066 - val_mlm_loss: 9.0935 - val_nsp_acc: 0.5000 - val_mlm_acc: 0.0000e+00\n",
            "Epoch 4/30\n",
            "2/2 [==============================] - 0s 62ms/step - loss: 6.5791 - nsp_loss: 0.3203 - mlm_loss: 6.2588 - nsp_acc: 1.0000 - mlm_acc: 0.7750 - val_loss: 9.9069 - val_nsp_loss: 0.8100 - val_mlm_loss: 9.0969 - val_nsp_acc: 0.5000 - val_mlm_acc: 0.0000e+00\n",
            "Epoch 5/30\n",
            "2/2 [==============================] - 0s 62ms/step - loss: 5.8503 - nsp_loss: 0.3163 - mlm_loss: 5.5340 - nsp_acc: 1.0000 - mlm_acc: 0.9125 - val_loss: 9.9195 - val_nsp_loss: 0.8116 - val_mlm_loss: 9.1080 - val_nsp_acc: 0.5000 - val_mlm_acc: 0.0000e+00\n",
            "Epoch 6/30\n",
            "2/2 [==============================] - 0s 66ms/step - loss: 5.1430 - nsp_loss: 0.3149 - mlm_loss: 4.8281 - nsp_acc: 1.0000 - mlm_acc: 0.9875 - val_loss: 9.9316 - val_nsp_loss: 0.8122 - val_mlm_loss: 9.1194 - val_nsp_acc: 0.5000 - val_mlm_acc: 0.0000e+00\n",
            "Epoch 7/30\n",
            "2/2 [==============================] - 0s 60ms/step - loss: 4.4673 - nsp_loss: 0.3143 - mlm_loss: 4.1530 - nsp_acc: 1.0000 - mlm_acc: 0.9875 - val_loss: 9.9304 - val_nsp_loss: 0.8125 - val_mlm_loss: 9.1180 - val_nsp_acc: 0.5000 - val_mlm_acc: 0.0000e+00\n",
            "Epoch 8/30\n",
            "2/2 [==============================] - 0s 62ms/step - loss: 3.8478 - nsp_loss: 0.3141 - mlm_loss: 3.5337 - nsp_acc: 1.0000 - mlm_acc: 0.9875 - val_loss: 9.9272 - val_nsp_loss: 0.8125 - val_mlm_loss: 9.1147 - val_nsp_acc: 0.5000 - val_mlm_acc: 0.0000e+00\n",
            "Epoch 9/30\n",
            "2/2 [==============================] - 0s 65ms/step - loss: 3.2699 - nsp_loss: 0.3140 - mlm_loss: 2.9559 - nsp_acc: 1.0000 - mlm_acc: 1.0000 - val_loss: 9.9294 - val_nsp_loss: 0.8128 - val_mlm_loss: 9.1167 - val_nsp_acc: 0.5000 - val_mlm_acc: 0.0000e+00\n",
            "Epoch 10/30\n",
            "2/2 [==============================] - 0s 66ms/step - loss: 2.7310 - nsp_loss: 0.3138 - mlm_loss: 2.4171 - nsp_acc: 1.0000 - mlm_acc: 1.0000 - val_loss: 9.9318 - val_nsp_loss: 0.8136 - val_mlm_loss: 9.1182 - val_nsp_acc: 0.5000 - val_mlm_acc: 0.0000e+00\n",
            "Epoch 11/30\n",
            "2/2 [==============================] - 0s 66ms/step - loss: 2.2694 - nsp_loss: 0.3138 - mlm_loss: 1.9556 - nsp_acc: 1.0000 - mlm_acc: 1.0000 - val_loss: 9.9539 - val_nsp_loss: 0.8194 - val_mlm_loss: 9.1345 - val_nsp_acc: 0.5000 - val_mlm_acc: 0.0000e+00\n",
            "Epoch 12/30\n",
            "2/2 [==============================] - 0s 65ms/step - loss: 1.8920 - nsp_loss: 0.3138 - mlm_loss: 1.5782 - nsp_acc: 1.0000 - mlm_acc: 1.0000 - val_loss: 10.0090 - val_nsp_loss: 0.8524 - val_mlm_loss: 9.1566 - val_nsp_acc: 0.5000 - val_mlm_acc: 0.0000e+00\n",
            "Epoch 13/30\n",
            "2/2 [==============================] - 0s 64ms/step - loss: 1.5838 - nsp_loss: 0.3138 - mlm_loss: 1.2701 - nsp_acc: 1.0000 - mlm_acc: 1.0000 - val_loss: 10.0660 - val_nsp_loss: 0.8857 - val_mlm_loss: 9.1803 - val_nsp_acc: 0.0000e+00 - val_mlm_acc: 0.0000e+00\n",
            "Epoch 14/30\n",
            "2/2 [==============================] - 0s 63ms/step - loss: 1.3183 - nsp_loss: 0.3137 - mlm_loss: 1.0046 - nsp_acc: 1.0000 - mlm_acc: 1.0000 - val_loss: 10.0520 - val_nsp_loss: 0.8521 - val_mlm_loss: 9.1998 - val_nsp_acc: 0.0000e+00 - val_mlm_acc: 0.0000e+00\n",
            "Epoch 15/30\n",
            "2/2 [==============================] - 0s 62ms/step - loss: 1.1191 - nsp_loss: 0.3137 - mlm_loss: 0.8054 - nsp_acc: 1.0000 - mlm_acc: 1.0000 - val_loss: 10.0611 - val_nsp_loss: 0.8419 - val_mlm_loss: 9.2192 - val_nsp_acc: 0.5000 - val_mlm_acc: 0.0000e+00\n",
            "Epoch 16/30\n",
            "2/2 [==============================] - 0s 66ms/step - loss: 0.9414 - nsp_loss: 0.3137 - mlm_loss: 0.6277 - nsp_acc: 1.0000 - mlm_acc: 1.0000 - val_loss: 10.0605 - val_nsp_loss: 0.8263 - val_mlm_loss: 9.2342 - val_nsp_acc: 0.5000 - val_mlm_acc: 0.0000e+00\n",
            "Epoch 17/30\n",
            "2/2 [==============================] - 0s 70ms/step - loss: 0.8121 - nsp_loss: 0.3136 - mlm_loss: 0.4985 - nsp_acc: 1.0000 - mlm_acc: 1.0000 - val_loss: 10.0516 - val_nsp_loss: 0.8147 - val_mlm_loss: 9.2369 - val_nsp_acc: 0.5000 - val_mlm_acc: 0.0000e+00\n",
            "Epoch 18/30\n",
            "2/2 [==============================] - 0s 65ms/step - loss: 0.7092 - nsp_loss: 0.3136 - mlm_loss: 0.3956 - nsp_acc: 1.0000 - mlm_acc: 1.0000 - val_loss: 10.0474 - val_nsp_loss: 0.8037 - val_mlm_loss: 9.2437 - val_nsp_acc: 0.5000 - val_mlm_acc: 0.0000e+00\n",
            "Epoch 19/30\n",
            "2/2 [==============================] - 0s 64ms/step - loss: 0.6352 - nsp_loss: 0.3136 - mlm_loss: 0.3217 - nsp_acc: 1.0000 - mlm_acc: 1.0000 - val_loss: 10.0580 - val_nsp_loss: 0.8046 - val_mlm_loss: 9.2534 - val_nsp_acc: 0.5000 - val_mlm_acc: 0.0000e+00\n",
            "Epoch 20/30\n",
            "2/2 [==============================] - 0s 67ms/step - loss: 0.5750 - nsp_loss: 0.3135 - mlm_loss: 0.2615 - nsp_acc: 1.0000 - mlm_acc: 1.0000 - val_loss: 10.0697 - val_nsp_loss: 0.8078 - val_mlm_loss: 9.2618 - val_nsp_acc: 0.5000 - val_mlm_acc: 0.0000e+00\n",
            "Epoch 21/30\n",
            "2/2 [==============================] - 0s 72ms/step - loss: 0.5275 - nsp_loss: 0.3135 - mlm_loss: 0.2140 - nsp_acc: 1.0000 - mlm_acc: 1.0000 - val_loss: 10.0833 - val_nsp_loss: 0.8119 - val_mlm_loss: 9.2714 - val_nsp_acc: 0.5000 - val_mlm_acc: 0.0000e+00\n",
            "Epoch 22/30\n",
            "2/2 [==============================] - 0s 68ms/step - loss: 0.4906 - nsp_loss: 0.3135 - mlm_loss: 0.1771 - nsp_acc: 1.0000 - mlm_acc: 1.0000 - val_loss: 10.0928 - val_nsp_loss: 0.8135 - val_mlm_loss: 9.2793 - val_nsp_acc: 0.5000 - val_mlm_acc: 0.0000e+00\n",
            "Epoch 23/30\n",
            "2/2 [==============================] - 0s 69ms/step - loss: 0.4636 - nsp_loss: 0.3135 - mlm_loss: 0.1501 - nsp_acc: 1.0000 - mlm_acc: 1.0000 - val_loss: 10.0981 - val_nsp_loss: 0.8146 - val_mlm_loss: 9.2836 - val_nsp_acc: 0.5000 - val_mlm_acc: 0.0000e+00\n",
            "Epoch 24/30\n",
            "2/2 [==============================] - 0s 66ms/step - loss: 0.4414 - nsp_loss: 0.3135 - mlm_loss: 0.1279 - nsp_acc: 1.0000 - mlm_acc: 1.0000 - val_loss: 10.1009 - val_nsp_loss: 0.8155 - val_mlm_loss: 9.2855 - val_nsp_acc: 0.5000 - val_mlm_acc: 0.0000e+00\n",
            "Epoch 25/30\n",
            "2/2 [==============================] - 0s 62ms/step - loss: 0.4261 - nsp_loss: 0.3135 - mlm_loss: 0.1126 - nsp_acc: 1.0000 - mlm_acc: 1.0000 - val_loss: 10.1014 - val_nsp_loss: 0.8148 - val_mlm_loss: 9.2866 - val_nsp_acc: 0.5000 - val_mlm_acc: 0.0000e+00\n",
            "Epoch 26/30\n",
            "2/2 [==============================] - 0s 61ms/step - loss: 0.4126 - nsp_loss: 0.3135 - mlm_loss: 0.0991 - nsp_acc: 1.0000 - mlm_acc: 1.0000 - val_loss: 10.1005 - val_nsp_loss: 0.8128 - val_mlm_loss: 9.2877 - val_nsp_acc: 0.5000 - val_mlm_acc: 0.0000e+00\n",
            "Epoch 27/30\n",
            "2/2 [==============================] - 0s 63ms/step - loss: 0.4006 - nsp_loss: 0.3135 - mlm_loss: 0.0871 - nsp_acc: 1.0000 - mlm_acc: 1.0000 - val_loss: 10.1013 - val_nsp_loss: 0.8114 - val_mlm_loss: 9.2898 - val_nsp_acc: 0.5000 - val_mlm_acc: 0.0000e+00\n",
            "Epoch 28/30\n",
            "2/2 [==============================] - 0s 66ms/step - loss: 0.3919 - nsp_loss: 0.3135 - mlm_loss: 0.0785 - nsp_acc: 1.0000 - mlm_acc: 1.0000 - val_loss: 10.1029 - val_nsp_loss: 0.8108 - val_mlm_loss: 9.2921 - val_nsp_acc: 0.5000 - val_mlm_acc: 0.0000e+00\n",
            "Epoch 29/30\n",
            "2/2 [==============================] - 0s 63ms/step - loss: 0.3848 - nsp_loss: 0.3134 - mlm_loss: 0.0713 - nsp_acc: 1.0000 - mlm_acc: 1.0000 - val_loss: 10.1042 - val_nsp_loss: 0.8102 - val_mlm_loss: 9.2940 - val_nsp_acc: 0.5000 - val_mlm_acc: 0.0000e+00\n",
            "Epoch 30/30\n",
            "2/2 [==============================] - 0s 62ms/step - loss: 0.3783 - nsp_loss: 0.3135 - mlm_loss: 0.0648 - nsp_acc: 1.0000 - mlm_acc: 1.0000 - val_loss: 10.1063 - val_nsp_loss: 0.8097 - val_mlm_loss: 9.2966 - val_nsp_acc: 0.5000 - val_mlm_acc: 0.0000e+00\n"
          ]
        }
      ]
    },
    {
      "cell_type": "markdown",
      "source": [
        "<br>"
      ],
      "metadata": {
        "id": "HwtsaHMphGGY"
      }
    },
    {
      "cell_type": "code",
      "source": [
        "# 훈련 결과 시각화"
      ],
      "metadata": {
        "id": "N9ApaEhgJQrt"
      },
      "execution_count": null,
      "outputs": []
    },
    {
      "cell_type": "code",
      "source": [
        "print(history.history.keys())"
      ],
      "metadata": {
        "colab": {
          "base_uri": "https://localhost:8080/"
        },
        "id": "2Cg96zISJlhN",
        "outputId": "8ee5fad4-f612-4ba6-b114-78d5604ca2de"
      },
      "execution_count": null,
      "outputs": [
        {
          "output_type": "stream",
          "name": "stdout",
          "text": [
            "dict_keys(['loss', 'nsp_loss', 'mlm_loss', 'nsp_acc', 'mlm_acc', 'val_loss', 'val_nsp_loss', 'val_mlm_loss', 'val_nsp_acc', 'val_mlm_acc'])\n"
          ]
        }
      ]
    },
    {
      "cell_type": "code",
      "source": [
        "import matplotlib.pyplot as plt\n",
        "\n",
        "plt.figure(figsize=(12, 4))\n",
        "\n",
        "plt.subplot(1, 2, 1)\n",
        "plt.plot(history.history['loss'], label='train_loss')\n",
        "plt.plot(history.history['val_loss'], label='val_loss')\n",
        "plt.legend()\n",
        "plt.title('Loss Evolution')\n",
        "\n",
        "plt.subplot(1, 2, 2)\n",
        "plt.plot(history.history['nsp_acc'], label='train_acc_nsp')  # NSP accuracy\n",
        "plt.plot(history.history['mlm_acc'], label='train_acc_mlm')  # MLM accuracy\n",
        "plt.plot(history.history['val_nsp_acc'], label='val_acc_nsp')  # Validation NSP accuracy\n",
        "plt.plot(history.history['val_mlm_acc'], label='val_acc_mlm')  # Validation MLM accuracy\n",
        "plt.legend()\n",
        "plt.title('Accuracy Evolution')\n",
        "\n",
        "plt.tight_layout()\n",
        "plt.show()"
      ],
      "metadata": {
        "colab": {
          "base_uri": "https://localhost:8080/",
          "height": 292
        },
        "id": "x3aifpDiIm7e",
        "outputId": "6a5a46d0-e761-440f-be73-f770d4defb7e"
      },
      "execution_count": null,
      "outputs": [
        {
          "output_type": "display_data",
          "data": {
            "text/plain": [
              "<Figure size 1200x400 with 2 Axes>"
            ],
            "image/png": "[encoded data removed]"
          },
          "metadata": {}
        }
      ]
    },
    {
      "cell_type": "markdown",
      "source": [
        "<br><br>"
      ],
      "metadata": {
        "id": "hrFVT02JHgqF"
      }
    },
    {
      "cell_type": "markdown",
      "source": [
        "### **6. pretrain 진행**\n",
        "<br>"
      ],
      "metadata": {
        "id": "G3BaxwJGHgvd"
      }
    },
    {
      "cell_type": "markdown",
      "source": [
        "loss, accuracy 함수를 정의하고 Learning Rate 스케쥴링을 구현한 후, 10 Epoch까지 모델 학습을 시켜보세요.\n",
        "\n",
        "학습을 진행할 때는 배치 사이즈에 유의하세요.\n",
        "\n",
        "<br>"
      ],
      "metadata": {
        "id": "LjZzbsJ9KaQ0"
      }
    },
    {
      "cell_type": "markdown",
      "source": [
        "##### **계산 함수(loss, accuracy) 정의**"
      ],
      "metadata": {
        "id": "FbJDmS8uhUaO"
      }
    },
    {
      "cell_type": "code",
      "source": [
        "def lm_loss(y_true, y_pred):\n",
        "    \"\"\"\n",
        "    loss 계산 함수\n",
        "    :param y_true: 정답 (bs, n_seq)\n",
        "    :param y_pred: 예측 값 (bs, n_seq, n_vocab)\n",
        "    \"\"\"\n",
        "    # loss 계산\n",
        "    loss = tf.keras.losses.SparseCategoricalCrossentropy(reduction=tf.keras.losses.Reduction.NONE)(y_true, y_pred)\n",
        "    # pad(0) 인 부분 mask\n",
        "    mask = tf.cast(tf.math.not_equal(y_true, 0), dtype=loss.dtype)\n",
        "    loss *= mask\n",
        "\n",
        "    return loss * 20  # mlm을 더 잘 학습하도록 20배 증가 시킴"
      ],
      "metadata": {
        "id": "slwEHKKeKZeV"
      },
      "execution_count": null,
      "outputs": []
    },
    {
      "cell_type": "code",
      "source": [
        "def lm_acc(y_true, y_pred):\n",
        "    \"\"\"\n",
        "    acc 계산 함수\n",
        "    :param y_true: 정답 (bs, n_seq)\n",
        "    :param y_pred: 예측 값 (bs, n_seq, n_vocab)\n",
        "    \"\"\"\n",
        "    # 정답 여부 확인\n",
        "    y_pred_class = tf.cast(K.argmax(y_pred, axis=-1), tf.float32)\n",
        "    matches = tf.cast(K.equal(y_true, y_pred_class), tf.float32)\n",
        "    # pad(0) 인 부분 mask\n",
        "    mask = tf.cast(tf.math.not_equal(y_true, 0), dtype=matches.dtype)\n",
        "    matches *= mask\n",
        "    # 정확도 계산\n",
        "    accuracy = K.sum(matches) / K.maximum(K.sum(mask), 1)\n",
        "\n",
        "    return accuracy"
      ],
      "metadata": {
        "id": "rmnnwmR8Hd2L"
      },
      "execution_count": null,
      "outputs": []
    },
    {
      "cell_type": "markdown",
      "source": [
        "<br>"
      ],
      "metadata": {
        "id": "kq1k9qA4hcQH"
      }
    },
    {
      "cell_type": "markdown",
      "source": [
        "##### **Learning Rate 스케줄링 구현**"
      ],
      "metadata": {
        "id": "RbG-hNP1hcUm"
      }
    },
    {
      "cell_type": "code",
      "source": [
        "class CosineSchedule(tf.keras.optimizers.schedules.LearningRateSchedule):\n",
        "    \"\"\"\n",
        "    CosineSchedule Class\n",
        "    \"\"\"\n",
        "    def __init__(self, train_steps=4000, warmup_steps=2000, max_lr=2.5e-4):\n",
        "        \"\"\"\n",
        "        생성자\n",
        "        :param train_steps: 학습 step 총 합\n",
        "        :param warmup_steps: warmup steps\n",
        "        :param max_lr: 최대 learning rate\n",
        "        \"\"\"\n",
        "        super().__init__()\n",
        "\n",
        "        assert 0 < warmup_steps < train_steps\n",
        "        self.warmup_steps = warmup_steps\n",
        "        self.train_steps = train_steps\n",
        "        self.max_lr = max_lr\n",
        "\n",
        "    def __call__(self, step_num):\n",
        "        \"\"\"\n",
        "        learning rate 계산\n",
        "        :param step_num: 현재 step number\n",
        "        :retrun: 계산된 learning rate\n",
        "        \"\"\"\n",
        "        state = tf.cast(step_num <= self.warmup_steps, tf.float32)\n",
        "        lr1 = tf.cast(step_num, tf.float32) / self.warmup_steps\n",
        "        progress = tf.cast(step_num - self.warmup_steps, tf.float32) / max(1, self.train_steps - self.warmup_steps)\n",
        "        lr2 = 0.5 * (1.0 + tf.math.cos(math.pi * progress))\n",
        "        return (state * lr1 + (1 - state) * lr2) * self.max_lr"
      ],
      "metadata": {
        "id": "FDC1pBr_K3hi"
      },
      "execution_count": null,
      "outputs": []
    },
    {
      "cell_type": "code",
      "source": [
        "# Learning rate 계산하기\n",
        "import math\n",
        "\n",
        "test_schedule = CosineSchedule(train_steps=4000, warmup_steps=500)\n",
        "lrs = []\n",
        "for step_num in range(4000):\n",
        "    lrs.append(test_schedule(float(step_num)).numpy())"
      ],
      "metadata": {
        "id": "i9V6JzHYK6gC"
      },
      "execution_count": null,
      "outputs": []
    },
    {
      "cell_type": "code",
      "source": [
        "# Learning rate 변화 그리기\n",
        "plt.plot(lrs, 'r-', label='learning_rate')\n",
        "plt.xlabel('Step')\n",
        "plt.show()"
      ],
      "metadata": {
        "colab": {
          "base_uri": "https://localhost:8080/",
          "height": 449
        },
        "id": "X6BSImR2LDI0",
        "outputId": "ec9b581c-6de3-4d29-d7e2-b858db8ea5c5"
      },
      "execution_count": null,
      "outputs": [
        {
          "output_type": "display_data",
          "data": {
            "text/plain": [
              "<Figure size 640x480 with 1 Axes>"
            ],
            "image/png": "[encoded data removed]"
          },
          "metadata": {}
        }
      ]
    },
    {
      "cell_type": "markdown",
      "source": [
        "<br>"
      ],
      "metadata": {
        "id": "5OmTZvn5LGUU"
      }
    },
    {
      "cell_type": "markdown",
      "source": [
        "이제 모델을 실제로 빌드해 봅시다.\n",
        "\n",
        "<br>"
      ],
      "metadata": {
        "id": "IA8x38vkLGXT"
      }
    },
    {
      "cell_type": "code",
      "source": [
        "# 모델 생성"
      ],
      "metadata": {
        "id": "RwLJ3fUBK86a"
      },
      "execution_count": null,
      "outputs": []
    },
    {
      "cell_type": "code",
      "source": [
        "pre_train_model = build_model_pre_train(config)"
      ],
      "metadata": {
        "id": "kqg5hmq7LJ-e"
      },
      "execution_count": null,
      "outputs": []
    },
    {
      "cell_type": "code",
      "source": [
        "pre_train_model.summary()"
      ],
      "metadata": {
        "colab": {
          "base_uri": "https://localhost:8080/"
        },
        "id": "dIVLsrI0LLG2",
        "outputId": "97943603-f681-4479-d9cf-5a06dcb54dc4"
      },
      "execution_count": null,
      "outputs": [
        {
          "output_type": "stream",
          "name": "stdout",
          "text": [
            "Model: \"model_3\"\n",
            "__________________________________________________________________________________________________\n",
            " Layer (type)                Output Shape                 Param #   Connected to                  \n",
            "==================================================================================================\n",
            " enc_tokens (InputLayer)     [(None, None)]               0         []                            \n",
            "                                                                                                  \n",
            " segments (InputLayer)       [(None, None)]               0         []                            \n",
            "                                                                                                  \n",
            " bert (BERT)                 ((None, 256),                4485632   ['enc_tokens[0][0]',          \n",
            "                              (None, None, 8007))                    'segments[0][0]']            \n",
            "                                                                                                  \n",
            " pooled_nsp (PooledOutput)   (None, 2)                    66304     ['bert[0][0]']                \n",
            "                                                                                                  \n",
            " nsp (Softmax)               (None, 2)                    0         ['pooled_nsp[0][0]']          \n",
            "                                                                                                  \n",
            " mlm (Softmax)               (None, None, 8007)           0         ['bert[0][1]']                \n",
            "                                                                                                  \n",
            "==================================================================================================\n",
            "Total params: 4551936 (17.36 MB)\n",
            "Trainable params: 4551936 (17.36 MB)\n",
            "Non-trainable params: 0 (0.00 Byte)\n",
            "__________________________________________________________________________________________________\n"
          ]
        }
      ]
    },
    {
      "cell_type": "markdown",
      "source": [
        "<br>"
      ],
      "metadata": {
        "id": "UEi13qxKLOft"
      }
    },
    {
      "cell_type": "markdown",
      "source": [
        "##### **모델 학습**"
      ],
      "metadata": {
        "id": "_wgcYpaTLQNF"
      }
    },
    {
      "cell_type": "code",
      "source": [
        "epochs = 10\n",
        "batch_size = 64"
      ],
      "metadata": {
        "id": "74P0jlGOLL_2"
      },
      "execution_count": null,
      "outputs": []
    },
    {
      "cell_type": "code",
      "source": [
        "# optimizer\n",
        "train_steps = math.ceil(len(pre_train_inputs[0]) / batch_size) * epochs\n",
        "print(\"train_steps:\", train_steps)\n",
        "learning_rate = CosineSchedule(train_steps=train_steps, warmup_steps=max(100, train_steps // 10))\n",
        "optimizer = tf.keras.optimizers.Adam(learning_rate, beta_1=0.9, beta_2=0.98, epsilon=1e-9)"
      ],
      "metadata": {
        "colab": {
          "base_uri": "https://localhost:8080/"
        },
        "id": "kZ3sVMjdLV4y",
        "outputId": "c163a0c0-dec8-4e6e-90d4-459ec0628b8d"
      },
      "execution_count": null,
      "outputs": [
        {
          "output_type": "stream",
          "name": "stdout",
          "text": [
            "train_steps: 20000\n"
          ]
        }
      ]
    },
    {
      "cell_type": "code",
      "source": [
        "# compile\n",
        "pre_train_model.compile(loss=(tf.keras.losses.sparse_categorical_crossentropy, lm_loss), optimizer=optimizer, metrics={\"nsp\": \"acc\", \"mlm\": lm_acc})"
      ],
      "metadata": {
        "id": "FMCnnteeLW86"
      },
      "execution_count": null,
      "outputs": []
    },
    {
      "cell_type": "code",
      "source": [
        "# save weights callback\n",
        "save_weights = tf.keras.callbacks.ModelCheckpoint(\n",
        "    f\"{model_dir}/bert_pre_train.hdf5\",\n",
        "    monitor=\"mlm_lm_acc\",\n",
        "    verbose=1,\n",
        "    save_best_only=True,\n",
        "    mode=\"max\",\n",
        "    save_freq=\"epoch\",\n",
        "    save_weights_only=True\n",
        ")"
      ],
      "metadata": {
        "id": "aJ-vyAGnLZI2"
      },
      "execution_count": null,
      "outputs": []
    },
    {
      "cell_type": "code",
      "source": [
        "from keras import backend as K\n",
        "\n",
        "# train\n",
        "history = pre_train_model.fit(\n",
        "    pre_train_inputs,  # input data\n",
        "    pre_train_labels,  # labels\n",
        "    epochs=epochs,\n",
        "    batch_size=batch_size,\n",
        "    callbacks=[save_weights]  # Using the save_weights callback\n",
        ")"
      ],
      "metadata": {
        "colab": {
          "base_uri": "https://localhost:8080/"
        },
        "id": "wSqT8UM1LrYX",
        "outputId": "8e60130d-81d0-4b0a-d569-f3de6b08756a"
      },
      "execution_count": null,
      "outputs": [
        {
          "output_type": "stream",
          "name": "stdout",
          "text": [
            "Epoch 1/10\n",
            "1998/2000 [============================>.] - ETA: 0s - loss: 19.5925 - nsp_loss: 0.6508 - mlm_loss: 18.9417 - nsp_acc: 0.5901 - mlm_lm_acc: 0.1085\n",
            "Epoch 1: mlm_lm_acc improved from -inf to 0.10848, saving model to /content/drive/MyDrive/Colab/05_Colab_AIFFEL_2023/09_GOINGDEEPER/01_GD_NLP/Quest_07/bert_pretrained/models/bert_pre_train.hdf5\n",
            "2000/2000 [==============================] - 58s 25ms/step - loss: 19.5911 - nsp_loss: 0.6507 - mlm_loss: 18.9404 - nsp_acc: 0.5901 - mlm_lm_acc: 0.1085\n",
            "Epoch 2/10\n",
            "1998/2000 [============================>.] - ETA: 0s - loss: 17.5359 - nsp_loss: 0.6223 - mlm_loss: 16.9136 - nsp_acc: 0.6193 - mlm_lm_acc: 0.1291\n",
            "Epoch 2: mlm_lm_acc improved from 0.10848 to 0.12913, saving model to /content/drive/MyDrive/Colab/05_Colab_AIFFEL_2023/09_GOINGDEEPER/01_GD_NLP/Quest_07/bert_pretrained/models/bert_pre_train.hdf5\n",
            "2000/2000 [==============================] - 49s 24ms/step - loss: 17.5359 - nsp_loss: 0.6223 - mlm_loss: 16.9136 - nsp_acc: 0.6193 - mlm_lm_acc: 0.1291\n",
            "Epoch 3/10\n",
            "1998/2000 [============================>.] - ETA: 0s - loss: 16.2343 - nsp_loss: 0.6148 - mlm_loss: 15.6195 - nsp_acc: 0.6268 - mlm_lm_acc: 0.1452\n",
            "Epoch 3: mlm_lm_acc improved from 0.12913 to 0.14522, saving model to /content/drive/MyDrive/Colab/05_Colab_AIFFEL_2023/09_GOINGDEEPER/01_GD_NLP/Quest_07/bert_pretrained/models/bert_pre_train.hdf5\n",
            "2000/2000 [==============================] - 49s 24ms/step - loss: 16.2324 - nsp_loss: 0.6148 - mlm_loss: 15.6176 - nsp_acc: 0.6268 - mlm_lm_acc: 0.1452\n",
            "Epoch 4/10\n",
            "1999/2000 [============================>.] - ETA: 0s - loss: 14.3608 - nsp_loss: 0.6119 - mlm_loss: 13.7489 - nsp_acc: 0.6293 - mlm_lm_acc: 0.1827\n",
            "Epoch 4: mlm_lm_acc improved from 0.14522 to 0.18270, saving model to /content/drive/MyDrive/Colab/05_Colab_AIFFEL_2023/09_GOINGDEEPER/01_GD_NLP/Quest_07/bert_pretrained/models/bert_pre_train.hdf5\n",
            "2000/2000 [==============================] - 49s 24ms/step - loss: 14.3603 - nsp_loss: 0.6119 - mlm_loss: 13.7485 - nsp_acc: 0.6293 - mlm_lm_acc: 0.1827\n",
            "Epoch 5/10\n",
            "1998/2000 [============================>.] - ETA: 0s - loss: 13.5251 - nsp_loss: 0.6079 - mlm_loss: 12.9172 - nsp_acc: 0.6384 - mlm_lm_acc: 0.2067\n",
            "Epoch 5: mlm_lm_acc improved from 0.18270 to 0.20671, saving model to /content/drive/MyDrive/Colab/05_Colab_AIFFEL_2023/09_GOINGDEEPER/01_GD_NLP/Quest_07/bert_pretrained/models/bert_pre_train.hdf5\n",
            "2000/2000 [==============================] - 49s 24ms/step - loss: 13.5252 - nsp_loss: 0.6079 - mlm_loss: 12.9173 - nsp_acc: 0.6385 - mlm_lm_acc: 0.2067\n",
            "Epoch 6/10\n",
            "2000/2000 [==============================] - ETA: 0s - loss: 13.0630 - nsp_loss: 0.6030 - mlm_loss: 12.4600 - nsp_acc: 0.6470 - mlm_lm_acc: 0.2207\n",
            "Epoch 6: mlm_lm_acc improved from 0.20671 to 0.22069, saving model to /content/drive/MyDrive/Colab/05_Colab_AIFFEL_2023/09_GOINGDEEPER/01_GD_NLP/Quest_07/bert_pretrained/models/bert_pre_train.hdf5\n",
            "2000/2000 [==============================] - 49s 24ms/step - loss: 13.0630 - nsp_loss: 0.6030 - mlm_loss: 12.4600 - nsp_acc: 0.6470 - mlm_lm_acc: 0.2207\n",
            "Epoch 7/10\n",
            "2000/2000 [==============================] - ETA: 0s - loss: 12.7565 - nsp_loss: 0.5984 - mlm_loss: 12.1581 - nsp_acc: 0.6572 - mlm_lm_acc: 0.2309\n",
            "Epoch 7: mlm_lm_acc improved from 0.22069 to 0.23090, saving model to /content/drive/MyDrive/Colab/05_Colab_AIFFEL_2023/09_GOINGDEEPER/01_GD_NLP/Quest_07/bert_pretrained/models/bert_pre_train.hdf5\n",
            "2000/2000 [==============================] - 49s 24ms/step - loss: 12.7565 - nsp_loss: 0.5984 - mlm_loss: 12.1581 - nsp_acc: 0.6572 - mlm_lm_acc: 0.2309\n",
            "Epoch 8/10\n",
            "1998/2000 [============================>.] - ETA: 0s - loss: 12.5499 - nsp_loss: 0.5933 - mlm_loss: 11.9566 - nsp_acc: 0.6669 - mlm_lm_acc: 0.2376\n",
            "Epoch 8: mlm_lm_acc improved from 0.23090 to 0.23764, saving model to /content/drive/MyDrive/Colab/05_Colab_AIFFEL_2023/09_GOINGDEEPER/01_GD_NLP/Quest_07/bert_pretrained/models/bert_pre_train.hdf5\n",
            "2000/2000 [==============================] - 49s 24ms/step - loss: 12.5507 - nsp_loss: 0.5934 - mlm_loss: 11.9573 - nsp_acc: 0.6668 - mlm_lm_acc: 0.2376\n",
            "Epoch 9/10\n",
            "1998/2000 [============================>.] - ETA: 0s - loss: 12.4247 - nsp_loss: 0.5890 - mlm_loss: 11.8357 - nsp_acc: 0.6741 - mlm_lm_acc: 0.2412\n",
            "Epoch 9: mlm_lm_acc improved from 0.23764 to 0.24122, saving model to /content/drive/MyDrive/Colab/05_Colab_AIFFEL_2023/09_GOINGDEEPER/01_GD_NLP/Quest_07/bert_pretrained/models/bert_pre_train.hdf5\n",
            "2000/2000 [==============================] - 49s 24ms/step - loss: 12.4244 - nsp_loss: 0.5890 - mlm_loss: 11.8354 - nsp_acc: 0.6741 - mlm_lm_acc: 0.2412\n",
            "Epoch 10/10\n",
            "2000/2000 [==============================] - ETA: 0s - loss: 12.3640 - nsp_loss: 0.5857 - mlm_loss: 11.7783 - nsp_acc: 0.6789 - mlm_lm_acc: 0.2437\n",
            "Epoch 10: mlm_lm_acc improved from 0.24122 to 0.24365, saving model to /content/drive/MyDrive/Colab/05_Colab_AIFFEL_2023/09_GOINGDEEPER/01_GD_NLP/Quest_07/bert_pretrained/models/bert_pre_train.hdf5\n",
            "2000/2000 [==============================] - 48s 24ms/step - loss: 12.3640 - nsp_loss: 0.5857 - mlm_loss: 11.7783 - nsp_acc: 0.6789 - mlm_lm_acc: 0.2437\n"
          ]
        }
      ]
    },
    {
      "cell_type": "markdown",
      "source": [
        "<br><br>"
      ],
      "metadata": {
        "id": "SW57-boEMaQ9"
      }
    },
    {
      "cell_type": "markdown",
      "source": [
        "### **7. 프로젝트 결과**\n",
        "<br>"
      ],
      "metadata": {
        "id": "4cua9xxdMa3E"
      }
    },
    {
      "cell_type": "markdown",
      "source": [
        "학습된 모델과 학습과정을 시각화해 보세요. NSP와 MLM의 loss가 안정적으로 수렴하나요?\n",
        "\n",
        "모델이 작기 때문에 loss가 잘 수렴하지 않을 수도 있어요.\n",
        "\n",
        "<br>"
      ],
      "metadata": {
        "id": "eaITghbCMgXV"
      }
    },
    {
      "cell_type": "code",
      "source": [
        "# 훈련 결과 시각화"
      ],
      "metadata": {
        "id": "36IHmtHFLzj6"
      },
      "execution_count": null,
      "outputs": []
    },
    {
      "cell_type": "code",
      "source": [
        "plt.figure(figsize=(12, 4))\n",
        "\n",
        "plt.subplot(1, 2, 1)\n",
        "plt.plot(history.history['nsp_loss'], 'b-', label='nsp_loss')\n",
        "plt.plot(history.history['mlm_loss'], 'r--', label='mlm_loss')\n",
        "plt.xlabel('Epoch')\n",
        "plt.legend()\n",
        "\n",
        "plt.subplot(1, 2, 2)\n",
        "plt.plot(history.history['nsp_acc'], 'g-', label='nsp_acc')\n",
        "plt.plot(history.history['mlm_lm_acc'], 'k--', label='mlm_acc')\n",
        "plt.xlabel('Epoch')\n",
        "plt.legend()\n",
        "\n",
        "plt.show()"
      ],
      "metadata": {
        "colab": {
          "base_uri": "https://localhost:8080/",
          "height": 333
        },
        "id": "_oevOPeUMmdU",
        "outputId": "3b9de86e-8add-4524-f20a-851e0a6c20de"
      },
      "execution_count": null,
      "outputs": [
        {
          "output_type": "display_data",
          "data": {
            "text/plain": [
              "<Figure size 1200x400 with 2 Axes>"
            ],
            "image/png": "[encoded data removed]"
          },
          "metadata": {}
        }
      ]
    },
    {
      "cell_type": "markdown",
      "source": [
        "<br><br>"
      ],
      "metadata": {
        "id": "qwnm_DuZMuO0"
      }
    },
    {
      "cell_type": "markdown",
      "source": [
        "# **21-2. 프로젝트 제출**\n",
        "<br>"
      ],
      "metadata": {
        "id": "BKm6bK1YMuSV"
      }
    },
    {
      "cell_type": "markdown",
      "source": [
        "### **루브릭**\n",
        "<br>"
      ],
      "metadata": {
        "id": "R0E0KUQvMuVF"
      }
    },
    {
      "cell_type": "markdown",
      "source": [
        "|<big>평가문항</big>|<big>상세기준</big>|\n",
        "|:--|:--|\n",
        "|<br>**1.  한글 코퍼스를 가공하여 BERT pretrain용 데이터셋을 잘 생성하였다.**<br><br> | <br>MLM, NSP task의 특징이 잘 반영된 pretrain용 데이터셋 생성과정이 체계적으로 진행되었다.<br><br> |\n",
        "|<br>**2. 구현한 BERT 모델의 학습이 안정적으로 진행됨을 확인하였다.**<br><br> | <br>학습진행 과정 중에 MLM, NSP loss의 안정적인 감소가 확인되었다.<br><br> |\n",
        "|<br>**3. 1M짜리 mini BERT 모델의 제작과 학습이 정상적으로 진행되었다.**<br><br> | <br>학습된 모델 및 학습과정의 시각화 내역이 제출되었다.<br><br> |\n"
      ],
      "metadata": {
        "id": "7c0PpDgdV9rr"
      }
    },
    {
      "cell_type": "markdown",
      "source": [
        "<br><br>"
      ],
      "metadata": {
        "id": "W6EfuJaziyey"
      }
    },
    {
      "cell_type": "markdown",
      "source": [
        "### **회고**\n",
        "<br>"
      ],
      "metadata": {
        "id": "zkW9iRPliyhE"
      }
    },
    {
      "cell_type": "markdown",
      "source": [
        "##### **문제상황**"
      ],
      "metadata": {
        "id": "_ojQnHeFkLii"
      }
    },
    {
      "cell_type": "markdown",
      "source": [
        "+ training loss와 validation loss의 학습 정도와 그 변화 과정을 봤을 때, 학습은 제대로 이루어짐을 알 수 있지만,\n",
        "\n",
        "+ validation loss의 감소의 변화 정도가 거의 없는 지점(Epoch 4~5)부터의 training loss와의 차이가 크게 나므로\n",
        "\n",
        "+ 이 경우, 과적합(overfitting)이 발생함을 알 수 있고,\n",
        "\n",
        "+ 따라서 모델이 새로운 데이터(검증 데이터)에는 잘 일반화되지 않음을 볼 수 있습니다."
      ],
      "metadata": {
        "id": "4gMT1or2iyjR"
      }
    },
    {
      "cell_type": "markdown",
      "source": [
        "<br>"
      ],
      "metadata": {
        "id": "FhdZu-lzkTQp"
      }
    },
    {
      "cell_type": "markdown",
      "source": [
        "##### **문제원인**"
      ],
      "metadata": {
        "id": "qkyS5YFRkTT1"
      }
    },
    {
      "cell_type": "markdown",
      "source": [
        "+ **데이터의 부족**: 모델의 복잡도(파라미터 수=4,551,936)에 비해, 최종적으로 학습에 사용된 학습 데이터의 양이 적었던 것이 주요 원인으로 판단됩니다."
      ],
      "metadata": {
        "id": "A2Ms4GoqkZbi"
      }
    },
    {
      "cell_type": "markdown",
      "source": [
        "<br>"
      ],
      "metadata": {
        "id": "sgER93CxlnKp"
      }
    },
    {
      "cell_type": "markdown",
      "source": [
        "##### **개선방법**"
      ],
      "metadata": {
        "id": "v5SvG_T3lnNQ"
      }
    },
    {
      "cell_type": "markdown",
      "source": [
        "+ 사용 가능한 최대한의 학습 데이터로 학습을 한다면 과적합(overfitting) 문제가 개선이 될 것이고,\n",
        "\n",
        "+ 그 개선 추이를 보고, 추가 데이터 확보와 확장(augmentation)을 더 시도할지\n",
        "\n",
        "+ 정규화(L2 Regulization, Dropout 등)를 사용해 모델의 복잡도를 제한할지를 결정해 진행해보겠습니다."
      ],
      "metadata": {
        "id": "E1KoDGsflnPt"
      }
    },
    {
      "cell_type": "markdown",
      "source": [
        "<br>"
      ],
      "metadata": {
        "id": "eR0g_C3Imbb6"
      }
    },
    {
      "cell_type": "markdown",
      "source": [
        "##### **아쉬운 점**"
      ],
      "metadata": {
        "id": "NLkdSeXcmbgR"
      }
    },
    {
      "cell_type": "markdown",
      "source": [
        "+ 학습 시간이 오래 걸려, 시간 내 위 분석 원인을 개선할 방법들을 재대로 시도해보지 못하는 부분이 많이 아쉽습니다."
      ],
      "metadata": {
        "id": "zJ_lN0YRmf95"
      }
    }
  ]
}