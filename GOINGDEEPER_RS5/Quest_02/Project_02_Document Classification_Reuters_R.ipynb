{
 "cells": [
  {
   "cell_type": "markdown",
   "id": "9c0b55c8",
   "metadata": {},
   "source": [
    "# 6. 뉴스 카테고리 다중분류 [프로젝트]\n",
    "<br>"
   ]
  },
  {
   "cell_type": "markdown",
   "id": "594ce36a",
   "metadata": {},
   "source": [
    "## 6-1. 프로젝트: Vocabulary Size를 변경해서 시도해보기\n",
    "<br>"
   ]
  },
  {
   "cell_type": "markdown",
   "id": "6c1e835e",
   "metadata": {},
   "source": [
    "#### 라이브러리 import 및 버전 확인\n",
    "<br>"
   ]
  },
  {
   "cell_type": "code",
   "execution_count": 24,
   "id": "76bbba06",
   "metadata": {},
   "outputs": [],
   "source": [
    "from tensorflow.keras.datasets import reuters\n",
    "import matplotlib.pyplot as plt\n",
    "import seaborn as sns\n",
    "import numpy as np\n",
    "import pandas as pd\n",
    "import tensorflow as tf\n",
    "import sklearn"
   ]
  },
  {
   "cell_type": "code",
   "execution_count": 25,
   "id": "930178ed",
   "metadata": {},
   "outputs": [
    {
     "name": "stdout",
     "output_type": "stream",
     "text": [
      "2.6.0\n",
      "3.4.3\n",
      "0.11.2\n",
      "1.21.4\n",
      "1.3.3\n",
      "1.0\n"
     ]
    }
   ],
   "source": [
    "print(tf.__version__)\n",
    "print(plt.matplotlib.__version__)\n",
    "print(sns.__version__)\n",
    "print(np.__version__)\n",
    "print(pd.__version__)\n",
    "print(sklearn.__version__)"
   ]
  },
  {
   "cell_type": "markdown",
   "id": "c4efd47e",
   "metadata": {},
   "source": [
    "<br><br>"
   ]
  },
  {
   "cell_type": "markdown",
   "id": "398baff6",
   "metadata": {},
   "source": [
    "### 1. 모든 단어 사용\n",
    "<br>"
   ]
  },
  {
   "cell_type": "markdown",
   "id": "d92dc2aa",
   "metadata": {},
   "source": [
    "#### 훈련 및 테스트 데이터(로이터 뉴스) 로드하기\n",
    "<br>"
   ]
  },
  {
   "cell_type": "code",
   "execution_count": 26,
   "id": "91386a55",
   "metadata": {},
   "outputs": [],
   "source": [
    "(x_train, y_train), (x_test, y_test) = reuters.load_data(num_words=None, test_split=0.2)"
   ]
  },
  {
   "cell_type": "code",
   "execution_count": 27,
   "id": "4025f2a8",
   "metadata": {},
   "outputs": [
    {
     "name": "stdout",
     "output_type": "stream",
     "text": [
      "훈련 샘플의 수: 8982\n",
      "테스트 샘플의 수: 2246\n"
     ]
    }
   ],
   "source": [
    "print('훈련 샘플의 수: {}'.format(len(x_train)))\n",
    "print('테스트 샘플의 수: {}'.format(len(x_test)))"
   ]
  },
  {
   "cell_type": "code",
   "execution_count": 28,
   "id": "d2b816b7",
   "metadata": {},
   "outputs": [
    {
     "name": "stdout",
     "output_type": "stream",
     "text": [
      "클래스의 수 : 46\n"
     ]
    }
   ],
   "source": [
    "num_classes = max(y_train) + 1\n",
    "print('클래스의 수 : {}'.format(num_classes))"
   ]
  },
  {
   "cell_type": "markdown",
   "id": "8cd87099",
   "metadata": {},
   "source": [
    "<br><br>"
   ]
  },
  {
   "cell_type": "markdown",
   "id": "a5bc1647",
   "metadata": {},
   "source": [
    "#### 데이터 분포 확인해보기\n",
    "<br>"
   ]
  },
  {
   "cell_type": "code",
   "execution_count": 29,
   "id": "ba8ce41c",
   "metadata": {},
   "outputs": [],
   "source": [
    "# 뉴스 데이터의 길이 분포 확인"
   ]
  },
  {
   "cell_type": "code",
   "execution_count": 30,
   "id": "0c92473b",
   "metadata": {},
   "outputs": [
    {
     "name": "stdout",
     "output_type": "stream",
     "text": [
      "훈련용 뉴스의 최대 길이 :2376\n",
      "훈련용 뉴스의 평균 길이 :145.5398574927633\n"
     ]
    }
   ],
   "source": [
    "print('훈련용 뉴스의 최대 길이 :{}'.format(max(len(l) for l in x_train)))\n",
    "print('훈련용 뉴스의 평균 길이 :{}'.format(sum(map(len, x_train))/len(x_train)))"
   ]
  },
  {
   "cell_type": "code",
   "execution_count": 31,
   "id": "de614ba7",
   "metadata": {},
   "outputs": [
    {
     "data": {
      "image/png": "[encoded data removed]",
      "text/plain": [
       "<Figure size 432x288 with 1 Axes>"
      ]
     },
     "metadata": {
      "needs_background": "light"
     },
     "output_type": "display_data"
    }
   ],
   "source": [
    "plt.hist([len(s) for s in x_train], bins=50)\n",
    "plt.xlabel('length of samples')\n",
    "plt.ylabel('number of samples')\n",
    "plt.show()"
   ]
  },
  {
   "cell_type": "markdown",
   "id": "88c8f24c",
   "metadata": {},
   "source": [
    "<br>"
   ]
  },
  {
   "cell_type": "code",
   "execution_count": 32,
   "id": "12c936f2",
   "metadata": {},
   "outputs": [],
   "source": [
    "# 클래스 분포 확인"
   ]
  },
  {
   "cell_type": "code",
   "execution_count": 33,
   "id": "2f116076",
   "metadata": {},
   "outputs": [
    {
     "data": {
      "image/png": "[encoded data removed]",
      "text/plain": [
       "<Figure size 792x360 with 1 Axes>"
      ]
     },
     "metadata": {
      "needs_background": "light"
     },
     "output_type": "display_data"
    }
   ],
   "source": [
    "fig, axe = plt.subplots(ncols=1)\n",
    "fig.set_size_inches(11,5)\n",
    "sns.countplot(x=y_train)\n",
    "plt.show()"
   ]
  },
  {
   "cell_type": "markdown",
   "id": "9ed13a06",
   "metadata": {},
   "source": [
    "<br>"
   ]
  },
  {
   "cell_type": "markdown",
   "id": "eb92fef7",
   "metadata": {},
   "source": [
    "#### 원본 뉴스 데이터로 복원\n",
    "<br>"
   ]
  },
  {
   "cell_type": "code",
   "execution_count": 34,
   "id": "66af77ed",
   "metadata": {},
   "outputs": [],
   "source": [
    "word_index = reuters.get_word_index(path=\"reuters_word_index.json\")"
   ]
  },
  {
   "cell_type": "code",
   "execution_count": 35,
   "id": "7080605b",
   "metadata": {},
   "outputs": [],
   "source": [
    "index_to_word = { index+3 : word for word, index in word_index.items() }"
   ]
  },
  {
   "cell_type": "code",
   "execution_count": 36,
   "id": "8573987e",
   "metadata": {},
   "outputs": [],
   "source": [
    "# index_to_word에 숫자 0은 <pad>, 숫자 1은 <sos>, 숫자 2는 <unk>를 넣어줌.\n",
    "for index, token in enumerate((\"<pad>\", \"<sos>\", \"<unk>\")):\n",
    "    index_to_word[index]=token"
   ]
  },
  {
   "cell_type": "markdown",
   "id": "2a7d9f0d",
   "metadata": {},
   "source": [
    "<br>"
   ]
  },
  {
   "cell_type": "code",
   "execution_count": 37,
   "id": "e74d55b0",
   "metadata": {},
   "outputs": [],
   "source": [
    "# index_to_word를 통해서 첫 번째 훈련용 뉴스 기사를 원래 텍스트로 복원해보기"
   ]
  },
  {
   "cell_type": "code",
   "execution_count": 38,
   "id": "1a12e65e",
   "metadata": {},
   "outputs": [
    {
     "name": "stdout",
     "output_type": "stream",
     "text": [
      "<sos> mcgrath rentcorp said as a result of its december acquisition of space co it expects earnings per share in 1987 of 1 15 to 1 30 dlrs per share up from 70 cts in 1986 the company said pretax net should rise to nine to 10 mln dlrs from six mln dlrs in 1986 and rental operation revenues to 19 to 22 mln dlrs from 12 5 mln dlrs it said cash flow per share this year should be 2 50 to three dlrs reuter 3\n"
     ]
    }
   ],
   "source": [
    "print(' '.join([index_to_word[index] for index in x_train[0]]))"
   ]
  },
  {
   "cell_type": "markdown",
   "id": "a6bbe535",
   "metadata": {},
   "source": [
    "<br>"
   ]
  },
  {
   "cell_type": "code",
   "execution_count": 39,
   "id": "583fe5ac",
   "metadata": {},
   "outputs": [],
   "source": [
    "# 전체 훈련용 뉴스 데이터와 전체 테스트용 뉴스 데이터를 텍스트 데이터로 변환"
   ]
  },
  {
   "cell_type": "code",
   "execution_count": 40,
   "id": "6c44bded",
   "metadata": {},
   "outputs": [],
   "source": [
    "decoded = []\n",
    "for i in range(len(x_train)):\n",
    "    t = ' '.join([index_to_word[index] for index in x_train[i]])\n",
    "    decoded.append(t)"
   ]
  },
  {
   "cell_type": "code",
   "execution_count": 41,
   "id": "0796bb45",
   "metadata": {},
   "outputs": [
    {
     "name": "stdout",
     "output_type": "stream",
     "text": [
      "8982\n"
     ]
    }
   ],
   "source": [
    "x_train = decoded  # train 데이터 변환\n",
    "print(len(x_train))"
   ]
  },
  {
   "cell_type": "code",
   "execution_count": 42,
   "id": "7fc4b823",
   "metadata": {},
   "outputs": [],
   "source": [
    "decoded = []\n",
    "for i in range(len(x_test)):\n",
    "    t = ' '.join([index_to_word[index] for index in x_test[i]])\n",
    "    decoded.append(t)"
   ]
  },
  {
   "cell_type": "code",
   "execution_count": 43,
   "id": "60f39a5f",
   "metadata": {},
   "outputs": [
    {
     "name": "stdout",
     "output_type": "stream",
     "text": [
      "2246\n"
     ]
    }
   ],
   "source": [
    "x_test = decoded  # test 데이터 변환\n",
    "print(len(x_test))"
   ]
  },
  {
   "cell_type": "markdown",
   "id": "3acf6bc8",
   "metadata": {},
   "source": [
    "<br><br>"
   ]
  },
  {
   "cell_type": "markdown",
   "id": "9dff9a09",
   "metadata": {},
   "source": [
    "#### 벡터화하기\n",
    "<br>"
   ]
  },
  {
   "cell_type": "code",
   "execution_count": 44,
   "id": "10e133e1",
   "metadata": {},
   "outputs": [],
   "source": [
    "from sklearn.feature_extraction.text import CountVectorizer\n",
    "from sklearn.feature_extraction.text import TfidfTransformer"
   ]
  },
  {
   "cell_type": "markdown",
   "id": "5d3539c9",
   "metadata": {},
   "source": [
    "##### DTM 생성"
   ]
  },
  {
   "cell_type": "code",
   "execution_count": 45,
   "id": "428b6efe",
   "metadata": {},
   "outputs": [],
   "source": [
    "dtmvector = CountVectorizer()\n",
    "x_train_dtm = dtmvector.fit_transform(x_train)"
   ]
  },
  {
   "cell_type": "code",
   "execution_count": 46,
   "id": "6a6f254f",
   "metadata": {},
   "outputs": [
    {
     "name": "stdout",
     "output_type": "stream",
     "text": [
      "(8982, 26506)\n"
     ]
    }
   ],
   "source": [
    "print(x_train_dtm.shape)"
   ]
  },
  {
   "cell_type": "markdown",
   "id": "5e7e10b7",
   "metadata": {},
   "source": [
    "##### TF-IDF 생성"
   ]
  },
  {
   "cell_type": "code",
   "execution_count": 47,
   "id": "a84f9059",
   "metadata": {},
   "outputs": [],
   "source": [
    "tfidf_transformer = TfidfTransformer()\n",
    "tfidfv = tfidf_transformer.fit_transform(x_train_dtm)"
   ]
  },
  {
   "cell_type": "code",
   "execution_count": 48,
   "id": "04d7c0ef",
   "metadata": {},
   "outputs": [
    {
     "name": "stdout",
     "output_type": "stream",
     "text": [
      "(8982, 26506)\n"
     ]
    }
   ],
   "source": [
    "print(tfidfv.shape)"
   ]
  },
  {
   "cell_type": "markdown",
   "id": "de9a156b",
   "metadata": {},
   "source": [
    "<br><br>"
   ]
  },
  {
   "cell_type": "markdown",
   "id": "470a38cf",
   "metadata": {},
   "source": [
    "#### 머신러닝 모델 학습 및 예측\n",
    "<br>"
   ]
  },
  {
   "cell_type": "code",
   "execution_count": 49,
   "id": "57f8ccbf",
   "metadata": {},
   "outputs": [],
   "source": [
    "from sklearn.naive_bayes import MultinomialNB  \n",
    "from sklearn.linear_model import LogisticRegression, SGDClassifier\n",
    "from sklearn.naive_bayes import ComplementNB\n",
    "from sklearn.tree import DecisionTreeClassifier\n",
    "from sklearn.ensemble import RandomForestClassifier\n",
    "from sklearn.ensemble import GradientBoostingClassifier\n",
    "from sklearn.ensemble import VotingClassifier\n",
    "from sklearn.svm import LinearSVC\n",
    "from sklearn.metrics import accuracy_score  "
   ]
  },
  {
   "cell_type": "code",
   "execution_count": 50,
   "id": "545f711b",
   "metadata": {},
   "outputs": [],
   "source": [
    "from sklearn.metrics import classification_report\n",
    "from sklearn.metrics import confusion_matrix\n",
    "from sklearn.metrics import f1_score"
   ]
  },
  {
   "cell_type": "markdown",
   "id": "b1e76ce3",
   "metadata": {},
   "source": [
    "<br>"
   ]
  },
  {
   "cell_type": "code",
   "execution_count": 51,
   "id": "066e3cea",
   "metadata": {},
   "outputs": [],
   "source": [
    "# 테스트 데이터에 대한 정확도를 측정하기 위해 테스트 데이터를 TF-IDF 행렬로 변환"
   ]
  },
  {
   "cell_type": "code",
   "execution_count": 52,
   "id": "d078a569",
   "metadata": {},
   "outputs": [],
   "source": [
    "x_test_dtm = dtmvector.transform(x_test)              # 테스트 데이터를 DTM으로 변환\n",
    "tfidfv_test = tfidf_transformer.transform(x_test_dtm) # DTM을 TF-IDF 행렬로 변환"
   ]
  },
  {
   "cell_type": "markdown",
   "id": "23acf0f7",
   "metadata": {},
   "source": [
    "<br>"
   ]
  },
  {
   "cell_type": "markdown",
   "id": "4606983f",
   "metadata": {},
   "source": [
    "##### 나이브 베이즈 분류기"
   ]
  },
  {
   "cell_type": "code",
   "execution_count": 53,
   "id": "6b76940e",
   "metadata": {},
   "outputs": [
    {
     "data": {
      "text/plain": [
       "MultinomialNB()"
      ]
     },
     "execution_count": 53,
     "metadata": {},
     "output_type": "execute_result"
    }
   ],
   "source": [
    "model_nb = MultinomialNB()\n",
    "model_nb.fit(tfidfv, y_train)"
   ]
  },
  {
   "cell_type": "code",
   "execution_count": 54,
   "id": "c6e96513",
   "metadata": {},
   "outputs": [],
   "source": [
    "predicted = model_nb.predict(tfidfv_test)     # 테스트 데이터에 대한 예측"
   ]
  },
  {
   "cell_type": "code",
   "execution_count": 55,
   "id": "ff67ba30",
   "metadata": {},
   "outputs": [],
   "source": [
    "accuracy = accuracy_score(y_test, predicted)  # 정확도 계산 (예측값과 실제값 비교)"
   ]
  },
  {
   "cell_type": "code",
   "execution_count": 56,
   "id": "35ac06dc",
   "metadata": {},
   "outputs": [],
   "source": [
    "from sklearn.metrics import f1_score\n",
    "f1 = f1_score(y_test, predicted, average='weighted')  # F1 스코어 계산"
   ]
  },
  {
   "cell_type": "code",
   "execution_count": 57,
   "id": "b6bad12a",
   "metadata": {},
   "outputs": [
    {
     "name": "stdout",
     "output_type": "stream",
     "text": [
      "정확도: 0.5997328584149599\n",
      "F1 스코어: 0.5045670886188423\n"
     ]
    }
   ],
   "source": [
    "print(\"정확도:\", accuracy)\n",
    "print(\"F1 스코어:\", f1)"
   ]
  },
  {
   "cell_type": "markdown",
   "id": "7cd16edd",
   "metadata": {},
   "source": [
    "##### Complement Naive Bayes Classifier(CNB)"
   ]
  },
  {
   "cell_type": "code",
   "execution_count": 58,
   "id": "32f4e125",
   "metadata": {},
   "outputs": [
    {
     "data": {
      "text/plain": [
       "ComplementNB()"
      ]
     },
     "execution_count": 58,
     "metadata": {},
     "output_type": "execute_result"
    }
   ],
   "source": [
    "model_cnb = ComplementNB()\n",
    "model_cnb.fit(tfidfv, y_train)"
   ]
  },
  {
   "cell_type": "code",
   "execution_count": 59,
   "id": "ea2b11f9",
   "metadata": {},
   "outputs": [],
   "source": [
    "predicted = model_cnb.predict(tfidfv_test)      "
   ]
  },
  {
   "cell_type": "code",
   "execution_count": 60,
   "id": "ff5677ad",
   "metadata": {},
   "outputs": [],
   "source": [
    "accuracy = accuracy_score(y_test, predicted)  "
   ]
  },
  {
   "cell_type": "code",
   "execution_count": 61,
   "id": "bbeb1a07",
   "metadata": {},
   "outputs": [],
   "source": [
    "f1 = f1_score(y_test, predicted, average='weighted')  "
   ]
  },
  {
   "cell_type": "code",
   "execution_count": 62,
   "id": "86e2f358",
   "metadata": {},
   "outputs": [
    {
     "name": "stdout",
     "output_type": "stream",
     "text": [
      "정확도: 0.7649154051647373\n",
      "F1 스코어: 0.7346534179503126\n"
     ]
    }
   ],
   "source": [
    "print(\"정확도:\", accuracy)\n",
    "print(\"F1 스코어:\", f1)"
   ]
  },
  {
   "cell_type": "markdown",
   "id": "3258f345",
   "metadata": {},
   "source": [
    "##### 로지스틱 회귀(Logistic Regression)"
   ]
  },
  {
   "cell_type": "code",
   "execution_count": 63,
   "id": "887ef683",
   "metadata": {},
   "outputs": [
    {
     "data": {
      "text/plain": [
       "LogisticRegression(C=10000, max_iter=3000)"
      ]
     },
     "execution_count": 63,
     "metadata": {},
     "output_type": "execute_result"
    }
   ],
   "source": [
    "model_lr = LogisticRegression(C=10000, penalty='l2', max_iter=3000)\n",
    "model_lr.fit(tfidfv, y_train)  # 10분 정도 소요됨."
   ]
  },
  {
   "cell_type": "code",
   "execution_count": 64,
   "id": "f7fc2e27",
   "metadata": {},
   "outputs": [],
   "source": [
    "predicted = model_lr.predict(tfidfv_test)   "
   ]
  },
  {
   "cell_type": "code",
   "execution_count": 65,
   "id": "ff58ab42",
   "metadata": {},
   "outputs": [],
   "source": [
    "accuracy = accuracy_score(y_test, predicted)  "
   ]
  },
  {
   "cell_type": "code",
   "execution_count": 66,
   "id": "70f4cca6",
   "metadata": {},
   "outputs": [],
   "source": [
    "f1 = f1_score(y_test, predicted, average='weighted')  "
   ]
  },
  {
   "cell_type": "code",
   "execution_count": 67,
   "id": "6e0da10b",
   "metadata": {},
   "outputs": [
    {
     "name": "stdout",
     "output_type": "stream",
     "text": [
      "정확도: 0.8165627782724845\n",
      "F1 스코어: 0.8114428402876209\n"
     ]
    }
   ],
   "source": [
    "print(\"정확도:\", accuracy)\n",
    "print(\"F1 스코어:\", f1)"
   ]
  },
  {
   "cell_type": "markdown",
   "id": "32d04f26",
   "metadata": {},
   "source": [
    "##### 선형 서포트 벡터 머신(LSVM)"
   ]
  },
  {
   "cell_type": "code",
   "execution_count": 68,
   "id": "e0ccfa12",
   "metadata": {},
   "outputs": [
    {
     "name": "stderr",
     "output_type": "stream",
     "text": [
      "/opt/conda/lib/python3.9/site-packages/sklearn/svm/_base.py:1199: ConvergenceWarning: Liblinear failed to converge, increase the number of iterations.\n",
      "  warnings.warn(\n"
     ]
    },
    {
     "data": {
      "text/plain": [
       "LinearSVC(C=1000, dual=False, max_iter=3000, penalty='l1')"
      ]
     },
     "execution_count": 68,
     "metadata": {},
     "output_type": "execute_result"
    }
   ],
   "source": [
    "model_lsvc = LinearSVC(C=1000, penalty='l1', max_iter=3000, dual=False)\n",
    "model_lsvc.fit(tfidfv, y_train)"
   ]
  },
  {
   "cell_type": "code",
   "execution_count": 69,
   "id": "be89c84e",
   "metadata": {},
   "outputs": [],
   "source": [
    "predicted = model_lsvc.predict(tfidfv_test)   "
   ]
  },
  {
   "cell_type": "code",
   "execution_count": 70,
   "id": "179874c0",
   "metadata": {},
   "outputs": [],
   "source": [
    "accuracy = accuracy_score(y_test, predicted)  "
   ]
  },
  {
   "cell_type": "code",
   "execution_count": 71,
   "id": "86ec91a1",
   "metadata": {},
   "outputs": [],
   "source": [
    "f1 = f1_score(y_test, predicted, average='weighted')  "
   ]
  },
  {
   "cell_type": "code",
   "execution_count": 72,
   "id": "51f292dd",
   "metadata": {},
   "outputs": [
    {
     "name": "stdout",
     "output_type": "stream",
     "text": [
      "정확도: 0.7898486197684773\n",
      "F1 스코어: 0.7857521258262028\n"
     ]
    }
   ],
   "source": [
    "print(\"정확도:\", accuracy)\n",
    "print(\"F1 스코어:\", f1)"
   ]
  },
  {
   "cell_type": "markdown",
   "id": "7f2e260d",
   "metadata": {},
   "source": [
    "##### 결정 트리(Decision Tree)"
   ]
  },
  {
   "cell_type": "code",
   "execution_count": 73,
   "id": "ef4cf4e3",
   "metadata": {},
   "outputs": [
    {
     "data": {
      "text/plain": [
       "DecisionTreeClassifier(max_depth=10, random_state=0)"
      ]
     },
     "execution_count": 73,
     "metadata": {},
     "output_type": "execute_result"
    }
   ],
   "source": [
    "model_tree = DecisionTreeClassifier(max_depth=10, random_state=0)\n",
    "model_tree.fit(tfidfv, y_train)"
   ]
  },
  {
   "cell_type": "code",
   "execution_count": 74,
   "id": "18490669",
   "metadata": {},
   "outputs": [],
   "source": [
    "predicted = model_tree.predict(tfidfv_test)  "
   ]
  },
  {
   "cell_type": "code",
   "execution_count": 75,
   "id": "9e983ef3",
   "metadata": {},
   "outputs": [],
   "source": [
    "accuracy = accuracy_score(y_test, predicted)  "
   ]
  },
  {
   "cell_type": "code",
   "execution_count": 76,
   "id": "a1bd8311",
   "metadata": {},
   "outputs": [],
   "source": [
    "f1 = f1_score(y_test, predicted, average='weighted')  "
   ]
  },
  {
   "cell_type": "code",
   "execution_count": 77,
   "id": "27366824",
   "metadata": {},
   "outputs": [
    {
     "name": "stdout",
     "output_type": "stream",
     "text": [
      "정확도: 0.6211041852181657\n",
      "F1 스코어: 0.5769283128518846\n"
     ]
    }
   ],
   "source": [
    "print(\"정확도:\", accuracy)\n",
    "print(\"F1 스코어:\", f1)"
   ]
  },
  {
   "cell_type": "markdown",
   "id": "d573fdf5",
   "metadata": {},
   "source": [
    "##### 랜덤 포레스트(Random Forest)"
   ]
  },
  {
   "cell_type": "code",
   "execution_count": 78,
   "id": "50a759e4",
   "metadata": {},
   "outputs": [
    {
     "data": {
      "text/plain": [
       "RandomForestClassifier(random_state=0)"
      ]
     },
     "execution_count": 78,
     "metadata": {},
     "output_type": "execute_result"
    }
   ],
   "source": [
    "model_forest = RandomForestClassifier(n_estimators=100, random_state=0) # 100개의 트리를 사용\n",
    "model_forest.fit(tfidfv, y_train)"
   ]
  },
  {
   "cell_type": "code",
   "execution_count": 79,
   "id": "f0927974",
   "metadata": {},
   "outputs": [],
   "source": [
    "predicted = model_forest.predict(tfidfv_test)   "
   ]
  },
  {
   "cell_type": "code",
   "execution_count": 80,
   "id": "87fe95e3",
   "metadata": {},
   "outputs": [],
   "source": [
    "accuracy = accuracy_score(y_test, predicted)  "
   ]
  },
  {
   "cell_type": "code",
   "execution_count": 81,
   "id": "eabc7573",
   "metadata": {},
   "outputs": [],
   "source": [
    "f1 = f1_score(y_test, predicted, average='weighted')  "
   ]
  },
  {
   "cell_type": "code",
   "execution_count": 82,
   "id": "8f94de6d",
   "metadata": {},
   "outputs": [
    {
     "name": "stdout",
     "output_type": "stream",
     "text": [
      "정확도: 0.7439893143365984\n",
      "F1 스코어: 0.7170778830019511\n"
     ]
    }
   ],
   "source": [
    "print(\"정확도:\", accuracy)\n",
    "print(\"F1 스코어:\", f1)"
   ]
  },
  {
   "cell_type": "markdown",
   "id": "d36fa862",
   "metadata": {},
   "source": [
    "##### 그래디언트 부스팅 트리(GradientBoostingClassifier)"
   ]
  },
  {
   "cell_type": "code",
   "execution_count": 83,
   "id": "69a9460b",
   "metadata": {},
   "outputs": [
    {
     "data": {
      "text/plain": [
       "GradientBoostingClassifier(random_state=0)"
      ]
     },
     "execution_count": 83,
     "metadata": {},
     "output_type": "execute_result"
    }
   ],
   "source": [
    "model_grbt = GradientBoostingClassifier(random_state=0)  # verbose=3\n",
    "model_grbt.fit(tfidfv, y_train)  # 15분 정도 소요됨."
   ]
  },
  {
   "cell_type": "code",
   "execution_count": 84,
   "id": "9da79d47",
   "metadata": {},
   "outputs": [],
   "source": [
    "predicted = model_grbt.predict(tfidfv_test)  "
   ]
  },
  {
   "cell_type": "code",
   "execution_count": 85,
   "id": "bc8e789f",
   "metadata": {},
   "outputs": [],
   "source": [
    "accuracy = accuracy_score(y_test, predicted)  "
   ]
  },
  {
   "cell_type": "code",
   "execution_count": 86,
   "id": "2125ea6f",
   "metadata": {},
   "outputs": [],
   "source": [
    "f1 = f1_score(y_test, predicted, average='weighted')  "
   ]
  },
  {
   "cell_type": "code",
   "execution_count": 87,
   "id": "d6f26bb0",
   "metadata": {},
   "outputs": [
    {
     "name": "stdout",
     "output_type": "stream",
     "text": [
      "정확도: 0.7702582368655387\n",
      "F1 스코어: 0.7641672650539437\n"
     ]
    }
   ],
   "source": [
    "print(\"정확도:\", accuracy)\n",
    "print(\"F1 스코어:\", f1)"
   ]
  },
  {
   "cell_type": "markdown",
   "id": "30f89bf9",
   "metadata": {},
   "source": [
    "##### 보팅(Voting)"
   ]
  },
  {
   "cell_type": "code",
   "execution_count": 88,
   "id": "750abcf1",
   "metadata": {},
   "outputs": [],
   "source": [
    "# VotingClassifier 생성 \n",
    "voting_classifier = VotingClassifier(\n",
    "    estimators=[\n",
    "        ('model_lr', LogisticRegression(penalty='l2', random_state=0)),\n",
    "        ('model_cnb', ComplementNB()),\n",
    "        ('model_grbt', GradientBoostingClassifier(random_state=0))\n",
    "    ],\n",
    "    voting='soft' \n",
    ")"
   ]
  },
  {
   "cell_type": "code",
   "execution_count": 89,
   "id": "6b7820fe",
   "metadata": {},
   "outputs": [
    {
     "name": "stderr",
     "output_type": "stream",
     "text": [
      "/opt/conda/lib/python3.9/site-packages/sklearn/linear_model/_logistic.py:814: ConvergenceWarning: lbfgs failed to converge (status=1):\n",
      "STOP: TOTAL NO. of ITERATIONS REACHED LIMIT.\n",
      "\n",
      "Increase the number of iterations (max_iter) or scale the data as shown in:\n",
      "    https://scikit-learn.org/stable/modules/preprocessing.html\n",
      "Please also refer to the documentation for alternative solver options:\n",
      "    https://scikit-learn.org/stable/modules/linear_model.html#logistic-regression\n",
      "  n_iter_i = _check_optimize_result(\n"
     ]
    },
    {
     "data": {
      "text/plain": [
       "VotingClassifier(estimators=[('model_lr', LogisticRegression(random_state=0)),\n",
       "                             ('model_cnb', ComplementNB()),\n",
       "                             ('model_grbt',\n",
       "                              GradientBoostingClassifier(random_state=0))],\n",
       "                 voting='soft')"
      ]
     },
     "execution_count": 89,
     "metadata": {},
     "output_type": "execute_result"
    }
   ],
   "source": [
    "voting_classifier.fit(tfidfv, y_train)"
   ]
  },
  {
   "cell_type": "code",
   "execution_count": 90,
   "id": "2bf8cd32",
   "metadata": {},
   "outputs": [],
   "source": [
    "predicted = voting_classifier.predict(tfidfv_test)"
   ]
  },
  {
   "cell_type": "code",
   "execution_count": 91,
   "id": "391aca11",
   "metadata": {},
   "outputs": [],
   "source": [
    "accuracy = accuracy_score(y_test, predicted)  "
   ]
  },
  {
   "cell_type": "code",
   "execution_count": 92,
   "id": "699c6662",
   "metadata": {},
   "outputs": [],
   "source": [
    "f1 = f1_score(y_test, predicted, average='weighted')  "
   ]
  },
  {
   "cell_type": "code",
   "execution_count": 93,
   "id": "3d8dc2a7",
   "metadata": {},
   "outputs": [
    {
     "name": "stdout",
     "output_type": "stream",
     "text": [
      "정확도: 0.8000890471950134\n",
      "F1 스코어: 0.7944945456027671\n"
     ]
    }
   ],
   "source": [
    "print(\"정확도:\", accuracy)\n",
    "print(\"F1 스코어:\", f1)"
   ]
  },
  {
   "cell_type": "markdown",
   "id": "6f899b2b",
   "metadata": {},
   "source": [
    "<br><br>"
   ]
  },
  {
   "cell_type": "markdown",
   "id": "b6bbfb0c",
   "metadata": {},
   "source": [
    "### 2. 빈도수 상위 5,000개의 단어만 사용\n",
    "<br>"
   ]
  },
  {
   "cell_type": "markdown",
   "id": "6d7a31ce",
   "metadata": {},
   "source": [
    "#### 훈련 및 테스트 데이터(로이터 뉴스) 로드하기\n",
    "<br>"
   ]
  },
  {
   "cell_type": "code",
   "execution_count": 71,
   "id": "88010e62",
   "metadata": {},
   "outputs": [],
   "source": [
    "(x_train_5k, y_train_5k), (x_test_5k, y_test_5k) = reuters.load_data(num_words=5000, test_split=0.2)"
   ]
  },
  {
   "cell_type": "markdown",
   "id": "f4ff9efe",
   "metadata": {},
   "source": [
    "<br>"
   ]
  },
  {
   "cell_type": "markdown",
   "id": "ebe6fe6f",
   "metadata": {},
   "source": [
    "#### 원본 뉴스 데이터로 복원\n",
    "<br>"
   ]
  },
  {
   "cell_type": "code",
   "execution_count": 72,
   "id": "09ba8570",
   "metadata": {},
   "outputs": [],
   "source": [
    "# index_to_word를 통해서 첫 번째 훈련용 뉴스 기사를 원래 텍스트로 복원해보기"
   ]
  },
  {
   "cell_type": "code",
   "execution_count": 73,
   "id": "5478f45a",
   "metadata": {},
   "outputs": [
    {
     "name": "stdout",
     "output_type": "stream",
     "text": [
      "<sos> <unk> <unk> said as a result of its december acquisition of space co it expects earnings per share in 1987 of 1 15 to 1 30 dlrs per share up from 70 cts in 1986 the company said pretax net should rise to nine to 10 mln dlrs from six mln dlrs in 1986 and rental operation revenues to 19 to 22 mln dlrs from 12 5 mln dlrs it said cash flow per share this year should be 2 50 to three dlrs reuter 3\n"
     ]
    }
   ],
   "source": [
    "print(' '.join([index_to_word[index] for index in x_train_5k[0]]))"
   ]
  },
  {
   "cell_type": "markdown",
   "id": "6f7043c4",
   "metadata": {},
   "source": [
    "<br>"
   ]
  },
  {
   "cell_type": "code",
   "execution_count": 74,
   "id": "ae5af82b",
   "metadata": {},
   "outputs": [],
   "source": [
    "decoded = []\n",
    "for i in range(len(x_train_5k)):\n",
    "    t = ' '.join([index_to_word.get(index, '<unk>') for index in x_train_5k[i]]) # get 메서드 사용하여 인덱스가 없으면 '<unk>' 반환\n",
    "    decoded.append(t)"
   ]
  },
  {
   "cell_type": "code",
   "execution_count": 75,
   "id": "62b85ef7",
   "metadata": {},
   "outputs": [
    {
     "name": "stdout",
     "output_type": "stream",
     "text": [
      "8982\n"
     ]
    }
   ],
   "source": [
    "x_train_5k = decoded\n",
    "print(len(x_train_5k))"
   ]
  },
  {
   "cell_type": "code",
   "execution_count": 76,
   "id": "f1e6e1ab",
   "metadata": {},
   "outputs": [],
   "source": [
    "decoded = []\n",
    "for i in range(len(x_test_5k)):\n",
    "    t = ' '.join([index_to_word.get(index, '<unk>') for index in x_test_5k[i]]) # get 메서드 사용하여 인덱스가 없으면 '<unk>' 반환\n",
    "    decoded.append(t)"
   ]
  },
  {
   "cell_type": "code",
   "execution_count": 77,
   "id": "924efc56",
   "metadata": {},
   "outputs": [
    {
     "name": "stdout",
     "output_type": "stream",
     "text": [
      "2246\n"
     ]
    }
   ],
   "source": [
    "x_test_5k = decoded\n",
    "print(len(x_test_5k))"
   ]
  },
  {
   "cell_type": "markdown",
   "id": "2d56f8f5",
   "metadata": {},
   "source": [
    "<br>"
   ]
  },
  {
   "cell_type": "markdown",
   "id": "af7a5644",
   "metadata": {},
   "source": [
    "#### 벡터화하기"
   ]
  },
  {
   "cell_type": "markdown",
   "id": "acd5a5c2",
   "metadata": {},
   "source": [
    "##### DTM 생성"
   ]
  },
  {
   "cell_type": "code",
   "execution_count": 78,
   "id": "898478b1",
   "metadata": {},
   "outputs": [],
   "source": [
    "dtmvector = CountVectorizer()\n",
    "x_train_dtm_5k = dtmvector.fit_transform(x_train_5k)"
   ]
  },
  {
   "cell_type": "code",
   "execution_count": 79,
   "id": "10c169ec",
   "metadata": {},
   "outputs": [
    {
     "name": "stdout",
     "output_type": "stream",
     "text": [
      "(8982, 4867)\n"
     ]
    }
   ],
   "source": [
    "print(x_train_dtm_5k.shape)"
   ]
  },
  {
   "cell_type": "markdown",
   "id": "333ee456",
   "metadata": {},
   "source": [
    "##### TF-IDF 생성"
   ]
  },
  {
   "cell_type": "code",
   "execution_count": 80,
   "id": "efe283d9",
   "metadata": {},
   "outputs": [],
   "source": [
    "tfidf_transformer = TfidfTransformer()\n",
    "tfidfv_5k = tfidf_transformer.fit_transform(x_train_dtm_5k)"
   ]
  },
  {
   "cell_type": "code",
   "execution_count": 81,
   "id": "3844f2c8",
   "metadata": {},
   "outputs": [
    {
     "name": "stdout",
     "output_type": "stream",
     "text": [
      "(8982, 4867)\n"
     ]
    }
   ],
   "source": [
    "print(tfidfv_5k.shape)"
   ]
  },
  {
   "cell_type": "markdown",
   "id": "85bad753",
   "metadata": {},
   "source": [
    "<br>"
   ]
  },
  {
   "cell_type": "markdown",
   "id": "c794cd98",
   "metadata": {},
   "source": [
    "#### 머신러닝 모델 학습\n",
    "<br>"
   ]
  },
  {
   "cell_type": "code",
   "execution_count": 82,
   "id": "8d0755df",
   "metadata": {},
   "outputs": [],
   "source": [
    "# 데이터를 TF-IDF 행렬로 변환"
   ]
  },
  {
   "cell_type": "code",
   "execution_count": 83,
   "id": "ad84f834",
   "metadata": {},
   "outputs": [],
   "source": [
    "x_test_dtm_5k = dtmvector.transform(x_test_5k)               # 테스트 데이터를 DTM으로 변환\n",
    "tfidfv_test_5k = tfidf_transformer.transform(x_test_dtm_5k)  # DTM을 TF-IDF 행렬로 변환"
   ]
  },
  {
   "cell_type": "markdown",
   "id": "12fdaf2a",
   "metadata": {},
   "source": [
    "<br>"
   ]
  },
  {
   "cell_type": "code",
   "execution_count": 84,
   "id": "53afb851",
   "metadata": {},
   "outputs": [],
   "source": [
    "# 모델별 훈련 및 예측 "
   ]
  },
  {
   "cell_type": "code",
   "execution_count": 85,
   "id": "a163119d",
   "metadata": {},
   "outputs": [],
   "source": [
    "def train_predict(tfidfv, y_train, tfidfv_test, y_test):\n",
    "    # 1) 나이브 베이즈 분류기\n",
    "    model_nb = MultinomialNB()\n",
    "    model_nb.fit(tfidfv, y_train)\n",
    "    \n",
    "    predicted = model_nb.predict(tfidfv_test)     \n",
    "    accuracy = accuracy_score(y_test, predicted)  \n",
    "    f1 = f1_score(y_test, predicted, average='weighted')  \n",
    "    print(\"정확도_나이브 베이즈 분류기:\", accuracy)\n",
    "    print(\"F1 스코어:\", f1)\n",
    "    print()\n",
    "    \n",
    "    # 2) Complement Naive Bayes Classifier(CNB)\n",
    "    model_cnb = ComplementNB()\n",
    "    model_cnb.fit(tfidfv, y_train)\n",
    "    \n",
    "    predicted = model_cnb.predict(tfidfv_test)     \n",
    "    accuracy = accuracy_score(y_test, predicted)  \n",
    "    f1 = f1_score(y_test, predicted, average='weighted') \n",
    "    print(\"정확도_CNB:\", accuracy)\n",
    "    print(\"F1 스코어:\", f1)\n",
    "    print()\n",
    "    \n",
    "    # 3) 로지스틱 회귀(Logistic Regression)\n",
    "    model_lr = LogisticRegression(C=10000, penalty='l2', max_iter=3000)\n",
    "    model_lr.fit(tfidfv, y_train) \n",
    "    \n",
    "    predicted = model_lr.predict(tfidfv_test)     \n",
    "    accuracy = accuracy_score(y_test, predicted)  \n",
    "    f1 = f1_score(y_test, predicted, average='weighted')  \n",
    "    print(\"정확도_로지스틱 회귀:\", accuracy)  \n",
    "    print(\"F1 스코어:\", f1)\n",
    "    print()\n",
    "    \n",
    "    # 4) 선형 서포트 벡터 머신(LSVM)\n",
    "    model_lsvc = LinearSVC(C=1000, penalty='l1', max_iter=3000, dual=False)\n",
    "    model_lsvc.fit(tfidfv, y_train)\n",
    "    \n",
    "    predicted = model_lsvc.predict(tfidfv_test)            \n",
    "    accuracy = accuracy_score(y_test, predicted)  \n",
    "    f1 = f1_score(y_test, predicted, average='weighted')  \n",
    "    print(\"정확도_LSVM:\", accuracy)\n",
    "    print(\"F1 스코어:\", f1)\n",
    "    print()\n",
    "    \n",
    "    # 5) 결정 트리(Decision Tree)\n",
    "    model_tree = DecisionTreeClassifier(max_depth=10, random_state=0)\n",
    "    model_tree.fit(tfidfv, y_train)\n",
    "    \n",
    "    predicted = model_tree.predict(tfidfv_test)          \n",
    "    accuracy = accuracy_score(y_test, predicted)  \n",
    "    f1 = f1_score(y_test, predicted, average='weighted')  \n",
    "    print(\"정확도_Decision Tree:\", accuracy)\n",
    "    print(\"F1 스코어:\", f1)\n",
    "    print()\n",
    "    \n",
    "    # 6) 랜덤 포레스트(Random Forest)\n",
    "    model_forest = RandomForestClassifier(n_estimators=100, random_state=0) # 100개의 트리를 사용\n",
    "    model_forest.fit(tfidfv, y_train)\n",
    "    \n",
    "    predicted = model_forest.predict(tfidfv_test)  \n",
    "    accuracy = accuracy_score(y_test, predicted)  \n",
    "    f1 = f1_score(y_test, predicted, average='weighted')  \n",
    "    print(\"정확도_Random Forest:\", accuracy)\n",
    "    print(\"F1 스코어:\", f1)\n",
    "    print()\n",
    "    \n",
    "    # 7) 그래디언트 부스팅 트리(GradientBoostingClassifier)\n",
    "    model_grbt = GradientBoostingClassifier(random_state=0)  # verbose=3\n",
    "    model_grbt.fit(tfidfv, y_train)  # 15분 정도 소요됨.\n",
    "    \n",
    "    predicted = model_grbt.predict(tfidfv_test)           \n",
    "    accuracy = accuracy_score(y_test, predicted)  \n",
    "    f1 = f1_score(y_test, predicted, average='weighted')  \n",
    "    print(\"정확도_GradientBoosting:\", accuracy_score(y_test, predicted))  \n",
    "    print(\"F1 스코어:\", f1)\n",
    "    print()\n",
    "    \n",
    "    # 8) 보팅(Voting)\n",
    "    voting_classifier = VotingClassifier(\n",
    "        estimators=[\n",
    "            ('model_lr', LogisticRegression(penalty='l2', random_state=0)),\n",
    "            ('model_cnb', ComplementNB()),\n",
    "            ('model_grbt', GradientBoostingClassifier(random_state=0))\n",
    "        ],\n",
    "        voting='soft' \n",
    "    )\n",
    "    voting_classifier.fit(tfidfv, y_train)\n",
    "    \n",
    "    predicted = voting_classifier.predict(tfidfv_test)\n",
    "    accuracy = accuracy_score(y_test, predicted)  \n",
    "    f1 = f1_score(y_test, predicted, average='weighted')  \n",
    "    print(\"정확도_Voting:\", accuracy_score(y_test, predicted))\n",
    "    print(\"F1 스코어:\", f1)\n",
    "    print()\n",
    "    \n",
    "    return model_nb, model_cnb, model_lr, model_lsvc, model_tree, model_forest, model_grbt, voting_classifier"
   ]
  },
  {
   "cell_type": "code",
   "execution_count": 86,
   "id": "a5cb5678",
   "metadata": {},
   "outputs": [
    {
     "name": "stdout",
     "output_type": "stream",
     "text": [
      "정확도_나이브 베이즈 분류기: 0.6731967943009796\n",
      "F1 스코어: 0.6012501291711391\n",
      "\n",
      "정확도_CNB: 0.7707034728406055\n",
      "F1 스코어: 0.7458990404916549\n",
      "\n",
      "정확도_로지스틱 회귀: 0.8036509349955476\n",
      "F1 스코어: 0.7985602317931111\n",
      "\n"
     ]
    },
    {
     "name": "stderr",
     "output_type": "stream",
     "text": [
      "/opt/conda/lib/python3.9/site-packages/sklearn/svm/_base.py:1199: ConvergenceWarning: Liblinear failed to converge, increase the number of iterations.\n",
      "  warnings.warn(\n"
     ]
    },
    {
     "name": "stdout",
     "output_type": "stream",
     "text": [
      "정확도_LSVM: 0.7702582368655387\n",
      "F1 스코어: 0.7664213009501786\n",
      "\n",
      "정확도_Decision Tree: 0.6179875333926982\n",
      "F1 스코어: 0.5729970881280324\n",
      "\n",
      "정확도_Random Forest: 0.7582368655387355\n",
      "F1 스코어: 0.7336825176596649\n",
      "\n",
      "정확도_GradientBoosting: 0.767586821015138\n",
      "F1 스코어: 0.7662475269931749\n",
      "\n"
     ]
    },
    {
     "name": "stderr",
     "output_type": "stream",
     "text": [
      "/opt/conda/lib/python3.9/site-packages/sklearn/linear_model/_logistic.py:814: ConvergenceWarning: lbfgs failed to converge (status=1):\n",
      "STOP: TOTAL NO. of ITERATIONS REACHED LIMIT.\n",
      "\n",
      "Increase the number of iterations (max_iter) or scale the data as shown in:\n",
      "    https://scikit-learn.org/stable/modules/preprocessing.html\n",
      "Please also refer to the documentation for alternative solver options:\n",
      "    https://scikit-learn.org/stable/modules/linear_model.html#logistic-regression\n",
      "  n_iter_i = _check_optimize_result(\n"
     ]
    },
    {
     "name": "stdout",
     "output_type": "stream",
     "text": [
      "정확도_Voting: 0.7960819234194123\n",
      "F1 스코어: 0.7931448977062081\n",
      "\n"
     ]
    }
   ],
   "source": [
    "model_nb_5k, model_cnb_5k, model_lr_5k, model_lsvc_5k, model_tree_5k, model_forest_5k, model_grbt_5k, voting_classifier_5k = train_predict(tfidfv_5k, y_train_5k, tfidfv_test_5k, y_test_5k) "
   ]
  },
  {
   "cell_type": "markdown",
   "id": "f45782c7",
   "metadata": {},
   "source": [
    "<br><br>"
   ]
  },
  {
   "cell_type": "markdown",
   "id": "471570ce",
   "metadata": {},
   "source": [
    "### 3. 직접 단어 개수를 설정해서 사용\n",
    "<br>"
   ]
  },
  {
   "cell_type": "markdown",
   "id": "bf7822c9",
   "metadata": {},
   "source": [
    "#### 1) 20000개\n",
    "<br>"
   ]
  },
  {
   "cell_type": "code",
   "execution_count": 87,
   "id": "e1210398",
   "metadata": {},
   "outputs": [],
   "source": [
    "(x_train_20k, y_train_20k), (x_test_20k, y_test_20k) = reuters.load_data(num_words=20000, test_split=0.2)"
   ]
  },
  {
   "cell_type": "markdown",
   "id": "6c5d1ce6",
   "metadata": {},
   "source": [
    "<br>"
   ]
  },
  {
   "cell_type": "code",
   "execution_count": 88,
   "id": "71ce0da3",
   "metadata": {},
   "outputs": [
    {
     "name": "stdout",
     "output_type": "stream",
     "text": [
      "<sos> <unk> <unk> said as a result of its december acquisition of space co it expects earnings per share in 1987 of 1 15 to 1 30 dlrs per share up from 70 cts in 1986 the company said pretax net should rise to nine to 10 mln dlrs from six mln dlrs in 1986 and rental operation revenues to 19 to 22 mln dlrs from 12 5 mln dlrs it said cash flow per share this year should be 2 50 to three dlrs reuter 3\n"
     ]
    }
   ],
   "source": [
    "print(' '.join([index_to_word[index] for index in x_train_20k[0]]))"
   ]
  },
  {
   "cell_type": "markdown",
   "id": "2445a358",
   "metadata": {},
   "source": [
    "<br>"
   ]
  },
  {
   "cell_type": "code",
   "execution_count": 89,
   "id": "e2209af0",
   "metadata": {},
   "outputs": [],
   "source": [
    "decoded = []\n",
    "for i in range(len(x_train_20k)):\n",
    "    t = ' '.join([index_to_word[index] for index in x_train_20k[i]])\n",
    "    decoded.append(t)"
   ]
  },
  {
   "cell_type": "code",
   "execution_count": 90,
   "id": "46dedd1f",
   "metadata": {},
   "outputs": [
    {
     "name": "stdout",
     "output_type": "stream",
     "text": [
      "8982\n"
     ]
    }
   ],
   "source": [
    "x_train_20k = decoded\n",
    "print(len(x_train_20k))"
   ]
  },
  {
   "cell_type": "code",
   "execution_count": 91,
   "id": "a0c6e906",
   "metadata": {},
   "outputs": [],
   "source": [
    "decoded = []\n",
    "for i in range(len(x_test_20k)):\n",
    "    t = ' '.join([index_to_word[index] for index in x_test_20k[i]])\n",
    "    decoded.append(t)"
   ]
  },
  {
   "cell_type": "code",
   "execution_count": 92,
   "id": "18185cb0",
   "metadata": {},
   "outputs": [
    {
     "name": "stdout",
     "output_type": "stream",
     "text": [
      "2246\n"
     ]
    }
   ],
   "source": [
    "x_test_20k = decoded\n",
    "print(len(x_test_20k))"
   ]
  },
  {
   "cell_type": "markdown",
   "id": "343ab844",
   "metadata": {},
   "source": [
    "<br>"
   ]
  },
  {
   "cell_type": "code",
   "execution_count": 93,
   "id": "fa847684",
   "metadata": {},
   "outputs": [],
   "source": [
    "dtmvector = CountVectorizer()\n",
    "x_train_dtm_20k = dtmvector.fit_transform(x_train_20k)"
   ]
  },
  {
   "cell_type": "code",
   "execution_count": 94,
   "id": "d58bb730",
   "metadata": {},
   "outputs": [
    {
     "name": "stdout",
     "output_type": "stream",
     "text": [
      "(8982, 18479)\n"
     ]
    }
   ],
   "source": [
    "print(x_train_dtm_20k.shape)"
   ]
  },
  {
   "cell_type": "code",
   "execution_count": 95,
   "id": "3479b750",
   "metadata": {},
   "outputs": [],
   "source": [
    "tfidf_transformer = TfidfTransformer()\n",
    "tfidfv_20k = tfidf_transformer.fit_transform(x_train_dtm_20k)"
   ]
  },
  {
   "cell_type": "code",
   "execution_count": 96,
   "id": "54da0093",
   "metadata": {},
   "outputs": [
    {
     "name": "stdout",
     "output_type": "stream",
     "text": [
      "(8982, 18479)\n"
     ]
    }
   ],
   "source": [
    "print(tfidfv_20k.shape)"
   ]
  },
  {
   "cell_type": "markdown",
   "id": "d2b476fb",
   "metadata": {},
   "source": [
    "<br>"
   ]
  },
  {
   "cell_type": "code",
   "execution_count": 97,
   "id": "13fa52ec",
   "metadata": {},
   "outputs": [],
   "source": [
    "x_test_dtm_20k = dtmvector.transform(x_test_20k) \n",
    "tfidfv_test_20k = tfidf_transformer.transform(x_test_dtm_20k) "
   ]
  },
  {
   "cell_type": "markdown",
   "id": "070643bc",
   "metadata": {},
   "source": [
    "<br>"
   ]
  },
  {
   "cell_type": "code",
   "execution_count": 21,
   "id": "d7bb8c8e",
   "metadata": {},
   "outputs": [],
   "source": [
    "def train_predict(tfidfv, y_train, tfidfv_test, y_test):\n",
    "    models = {\n",
    "        '나이브 베이즈 분류기': MultinomialNB(),\n",
    "        'CNB': ComplementNB(),\n",
    "        '로지스틱 회귀': LogisticRegression(C=10000, penalty='l2', max_iter=3000),\n",
    "        'LSVM': LinearSVC(C=1000, penalty='l1', max_iter=3000, dual=False),\n",
    "        'Decision Tree': DecisionTreeClassifier(max_depth=10, random_state=0),\n",
    "        'Random Forest': RandomForestClassifier(n_estimators=100, random_state=0),\n",
    "        'GradientBoosting': GradientBoostingClassifier(random_state=0),\n",
    "    }\n",
    "    \n",
    "    # Voting Classifier\n",
    "    voting_classifier = VotingClassifier(\n",
    "        estimators=[\n",
    "            ('model_lr', models['로지스틱 회귀']),\n",
    "            ('model_cnb', models['CNB']),\n",
    "            ('model_grbt', models['GradientBoosting'])\n",
    "        ],\n",
    "        voting='soft' \n",
    "    )\n",
    "    \n",
    "    # Voting Classifier를 models 딕셔너리에 추가\n",
    "    models['Voting'] = voting_classifier\n",
    "    \n",
    "    for name, model in models.items():\n",
    "        model.fit(tfidfv, y_train)\n",
    "        predicted = model.predict(tfidfv_test)\n",
    "        accuracy = accuracy_score(y_test, predicted)\n",
    "        f1 = f1_score(y_test, predicted, average='weighted')\n",
    "        print(f\"정확도_{name}:\", accuracy)\n",
    "        print(\"F1 스코어:\", f1)\n",
    "        print()\n",
    "    \n",
    "    return models"
   ]
  },
  {
   "cell_type": "code",
   "execution_count": 99,
   "id": "51648084",
   "metadata": {},
   "outputs": [
    {
     "name": "stdout",
     "output_type": "stream",
     "text": [
      "정확도_나이브 베이즈 분류기: 0.6193232413178985\n",
      "F1 스코어: 0.5315181088041159\n",
      "\n",
      "정확도_CNB: 0.7671415850400712\n",
      "F1 스코어: 0.7390612170450325\n",
      "\n",
      "정확도_로지스틱 회귀: 0.8156723063223509\n",
      "F1 스코어: 0.8104596865918853\n",
      "\n"
     ]
    },
    {
     "name": "stderr",
     "output_type": "stream",
     "text": [
      "/opt/conda/lib/python3.9/site-packages/sklearn/svm/_base.py:1199: ConvergenceWarning: Liblinear failed to converge, increase the number of iterations.\n",
      "  warnings.warn(\n"
     ]
    },
    {
     "name": "stdout",
     "output_type": "stream",
     "text": [
      "정확도_LSVM: 0.7951914514692787\n",
      "F1 스코어: 0.7914930707307288\n",
      "\n",
      "정확도_Decision Tree: 0.6211041852181657\n",
      "F1 스코어: 0.576123209915252\n",
      "\n",
      "정확도_Random Forest: 0.7457702582368655\n",
      "F1 스코어: 0.7209992521057289\n",
      "\n",
      "정확도_GradientBoosting: 0.7702582368655387\n",
      "F1 스코어: 0.7647126117421563\n",
      "\n",
      "정확도_Voting: 0.8192341941228851\n",
      "F1 스코어: 0.8159632601545135\n",
      "\n"
     ]
    }
   ],
   "source": [
    "model_nb_20k, model_cnb_20k, model_lr_20k, model_lsvc_20k, model_tree_20k, model_forest_20k, model_grbt_20k, voting_classifier_20k = train_predict(tfidfv_20k, y_train_20k, tfidfv_test_20k, y_test_20k) "
   ]
  },
  {
   "cell_type": "markdown",
   "id": "847b05f4",
   "metadata": {},
   "source": [
    "<br><br>"
   ]
  },
  {
   "cell_type": "markdown",
   "id": "1c20a5e5",
   "metadata": {},
   "source": [
    "#### 2) 10000개 사용\n",
    "<br>"
   ]
  },
  {
   "cell_type": "code",
   "execution_count": 4,
   "id": "5c1fda07",
   "metadata": {},
   "outputs": [
    {
     "name": "stdout",
     "output_type": "stream",
     "text": [
      "Downloading data from https://storage.googleapis.com/tensorflow/tf-keras-datasets/reuters.npz\n",
      "2113536/2110848 [==============================] - 0s 0us/step\n",
      "2121728/2110848 [==============================] - 0s 0us/step\n"
     ]
    }
   ],
   "source": [
    "(x_train_10k, y_train_10k), (x_test_10k, y_test_10k) = reuters.load_data(num_words=10000, test_split=0.2)"
   ]
  },
  {
   "cell_type": "markdown",
   "id": "3d314901",
   "metadata": {},
   "source": [
    "<br>"
   ]
  },
  {
   "cell_type": "code",
   "execution_count": 9,
   "id": "4066b2a2",
   "metadata": {},
   "outputs": [
    {
     "name": "stdout",
     "output_type": "stream",
     "text": [
      "<sos> <unk> <unk> said as a result of its december acquisition of space co it expects earnings per share in 1987 of 1 15 to 1 30 dlrs per share up from 70 cts in 1986 the company said pretax net should rise to nine to 10 mln dlrs from six mln dlrs in 1986 and rental operation revenues to 19 to 22 mln dlrs from 12 5 mln dlrs it said cash flow per share this year should be 2 50 to three dlrs reuter 3\n"
     ]
    }
   ],
   "source": [
    "print(' '.join([index_to_word[index] for index in x_train_10k[0]]))"
   ]
  },
  {
   "cell_type": "markdown",
   "id": "98de786f",
   "metadata": {},
   "source": [
    "<br>"
   ]
  },
  {
   "cell_type": "code",
   "execution_count": 10,
   "id": "3a38ed64",
   "metadata": {},
   "outputs": [],
   "source": [
    "def decode_data(data, index_to_word):\n",
    "    decoded = [' '.join([index_to_word[index] for index in item]) for item in data]\n",
    "    return decoded"
   ]
  },
  {
   "cell_type": "code",
   "execution_count": 11,
   "id": "902e2f64",
   "metadata": {},
   "outputs": [
    {
     "name": "stdout",
     "output_type": "stream",
     "text": [
      "8982\n"
     ]
    }
   ],
   "source": [
    "x_train_10k = decode_data(x_train_10k, index_to_word)\n",
    "print(len(x_train_10k))"
   ]
  },
  {
   "cell_type": "code",
   "execution_count": 12,
   "id": "e93a45f9",
   "metadata": {},
   "outputs": [
    {
     "name": "stdout",
     "output_type": "stream",
     "text": [
      "2246\n"
     ]
    }
   ],
   "source": [
    "x_test_10k = decode_data(x_test_10k, index_to_word)\n",
    "print(len(x_test_10k))"
   ]
  },
  {
   "cell_type": "markdown",
   "id": "05cfb1c3",
   "metadata": {},
   "source": [
    "<br>"
   ]
  },
  {
   "cell_type": "code",
   "execution_count": 17,
   "id": "f5cad4f7",
   "metadata": {},
   "outputs": [
    {
     "name": "stdout",
     "output_type": "stream",
     "text": [
      "(8982, 9670)\n"
     ]
    }
   ],
   "source": [
    "dtmvector = CountVectorizer()\n",
    "x_train_dtm_10k = dtmvector.fit_transform(x_train_10k)\n",
    "print(x_train_dtm_10k.shape)"
   ]
  },
  {
   "cell_type": "code",
   "execution_count": 18,
   "id": "6f803762",
   "metadata": {},
   "outputs": [
    {
     "name": "stdout",
     "output_type": "stream",
     "text": [
      "(8982, 9670)\n"
     ]
    }
   ],
   "source": [
    "tfidf_transformer = TfidfTransformer()\n",
    "tfidfv_10k = tfidf_transformer.fit_transform(x_train_dtm_10k)\n",
    "print(tfidfv_10k.shape)"
   ]
  },
  {
   "cell_type": "markdown",
   "id": "85006ac4",
   "metadata": {},
   "source": [
    "<br>"
   ]
  },
  {
   "cell_type": "code",
   "execution_count": 19,
   "id": "aac3e6c5",
   "metadata": {},
   "outputs": [],
   "source": [
    "x_test_dtm_10k = dtmvector.transform(x_test_10k) \n",
    "tfidfv_test_10k = tfidf_transformer.transform(x_test_dtm_10k) "
   ]
  },
  {
   "cell_type": "markdown",
   "id": "445dc515",
   "metadata": {},
   "source": [
    "<br>"
   ]
  },
  {
   "cell_type": "code",
   "execution_count": 22,
   "id": "91c73aba",
   "metadata": {},
   "outputs": [
    {
     "name": "stdout",
     "output_type": "stream",
     "text": [
      "정확도_나이브 베이즈 분류기: 0.6567230632235085\n",
      "F1 스코어: 0.5764467518778252\n",
      "\n",
      "정확도_CNB: 0.7707034728406055\n",
      "F1 스코어: 0.7456682614453047\n",
      "\n",
      "정확도_로지스틱 회귀: 0.8107747105966162\n",
      "F1 스코어: 0.8056804816074952\n",
      "\n"
     ]
    },
    {
     "name": "stderr",
     "output_type": "stream",
     "text": [
      "/opt/conda/lib/python3.9/site-packages/sklearn/svm/_base.py:1199: ConvergenceWarning: Liblinear failed to converge, increase the number of iterations.\n",
      "  warnings.warn(\n"
     ]
    },
    {
     "name": "stdout",
     "output_type": "stream",
     "text": [
      "정확도_LSVM: 0.7880676758682101\n",
      "F1 스코어: 0.7839892901900612\n",
      "\n",
      "정확도_Decision Tree: 0.6202137132680321\n",
      "F1 스코어: 0.5776398779280149\n",
      "\n",
      "정확도_Random Forest: 0.7582368655387355\n",
      "F1 스코어: 0.7343814459663163\n",
      "\n",
      "정확도_GradientBoosting: 0.7662511130899377\n",
      "F1 스코어: 0.7622247724249729\n",
      "\n",
      "정확도_Voting: 0.8165627782724845\n",
      "F1 스코어: 0.8133719894789346\n",
      "\n"
     ]
    }
   ],
   "source": [
    "model_nb_10k, model_cnb_10k, model_lr_10k, model_lsvc_10k, model_tree_10k, model_forest_10k, model_grbt_10k, voting_classifier_10k = train_predict(tfidfv_10k, y_train_10k, tfidfv_test_10k, y_test_10k) "
   ]
  },
  {
   "cell_type": "markdown",
   "id": "671af3e8",
   "metadata": {},
   "source": [
    "<br><br>"
   ]
  },
  {
   "cell_type": "markdown",
   "id": "a82e7a80",
   "metadata": {},
   "source": [
    "### 단어 개수와 분류 모델에 따른 accuracy 및 F1 Score 분석\n",
    "<br>"
   ]
  },
  {
   "cell_type": "markdown",
   "id": "612f1f4d",
   "metadata": {},
   "source": [
    "#### 1) 모든 단어 사용 시\n",
    "<br>\n",
    "\n",
    "+ Naive Bayes Classifier_정확도: 0.5997328584149599\n",
    "+ Naive Bayes Classifier_F1 스코어: 0.5045670886188423\n",
    "\n",
    "+ CNB_정확도: 0.7649154051647373\n",
    "+ CNB_F1 스코어: 0.7346534179503126\n",
    "\n",
    "+ Logistic Regression_정확도: 0.8165627782724845\n",
    "+ Logistic Regression_F1 스코어: 0.8114428402876209\n",
    "\n",
    "+ LSVM_정확도: 0.792520035618878\n",
    "+ LSVM_F1 스코어: 0.7881674006745751\n",
    "\n",
    "+ Decision Tree_정확도: 0.6211041852181657\n",
    "+ Decision Tree_F1 스코어: 0.5769283128518846\n",
    "\n",
    "+ Random Forest_정확도: 0.7439893143365984\n",
    "+ Random Forest_F1 스코어: 0.7170778830019511\n",
    "\n",
    "+ GradientBoosting_정확도: 0.7702582368655387\n",
    "+ GradientBoosting_F1 스코어: 0.7641672650539437\n",
    "\n",
    "+ Voting_정확도: 0.8000890471950134\n",
    "+ Voting_F1 스코어: 0.7944945456027671\n",
    "\n",
    "<br>"
   ]
  },
  {
   "cell_type": "markdown",
   "id": "ba45f99c",
   "metadata": {},
   "source": [
    "#### 2) 빈도수 상위 5,000개의 단어만 사용\n",
    "<br>\n",
    "\n",
    "+ Naive Bayes Classifier_정확도: 0.6731967943009796\n",
    "+ Naive Bayes Classifier_F1 스코어: 0.6012501291711391\n",
    "\n",
    "+ CNB_정확도: 0.7707034728406055\n",
    "+ CNB_F1 스코어: 0.7458990404916549\n",
    "\n",
    "+ Logistic Regression_정확도: 0.8036509349955476\n",
    "+ Logistic Regression_F1 스코어: 0.7985602317931111\n",
    "\n",
    "+ LSVM_정확도: 0.7711487088156723\n",
    "+ LSVM_F1 스코어: 0.7657729937713968\n",
    "\n",
    "+ Decision Tree_정확도: 0.6179875333926982\n",
    "+ Decision Tree_F1 스코어: 0.5729970881280324\n",
    "\n",
    "+ Random Forest_정확도: 0.7582368655387355\n",
    "+ Random Forest_F1 스코어: 0.7336825176596649\n",
    "\n",
    "+ GradientBoosting_정확도: 0.767586821015138\n",
    "+ GradientBoosting_F1 스코어: 0.7662475269931749\n",
    "\n",
    "+ Voting_정확도: 0.7960819234194123\n",
    "+ Voting_F1 스코어: 0.7931448977062081\n",
    "\n",
    "<br>"
   ]
  },
  {
   "cell_type": "markdown",
   "id": "bdf00816",
   "metadata": {},
   "source": [
    "#### 3-1) 20000개 사용 시\n",
    "<br>\n",
    "\n",
    "+ Naive Bayes Classifier_정확도: 0.6193232413178985\n",
    "+ Naive Bayes Classifier_F1 스코어: 0.5315181088041159\n",
    "\n",
    "+ CNB_정확도: 0.7671415850400712\n",
    "+ CNB_F1 스코어: 0.7390612170450325\n",
    "\n",
    "+ Logistic Regression_정확도: 0.8156723063223509\n",
    "+ Logistic Regression_F1 스코어: 0.8104596865918853\n",
    "\n",
    "+ LSVM_정확도: 0.7911843276936776\n",
    "+ LSVM_F1 스코어: 0.7868030009435951\n",
    "\n",
    "+ Decision Tree_정확도: 0.6211041852181657\n",
    "+ Decision Tree_F1 스코어: 0.576123209915252\n",
    "\n",
    "+ Random Forest_정확도: 0.7457702582368655\n",
    "+ Random Forest_F1 스코어: 0.7209992521057289\n",
    "\n",
    "+ GradientBoosting_정확도: 0.7702582368655387\n",
    "+ GradientBoosting_F1 스코어: 0.7647126117421563\n",
    "\n",
    "+ Voting_정확도: 0.8192341941228851\n",
    "+ Voting_F1 스코어: 0.8159632601545135\n",
    "\n",
    "<br>"
   ]
  },
  {
   "cell_type": "markdown",
   "id": "e8f8f6f6",
   "metadata": {},
   "source": [
    "#### 3-2) 10000개 사용 시\n",
    "<br>\n",
    "\n",
    "+ Naive Bayes Classifier_정확도: 0.6567230632235085\n",
    "+ Naive Bayes Classifier_F1 스코어: 0.5764467518778252\n",
    "\n",
    "+ CNB_정확도: 0.7707034728406055\n",
    "+ CNB_F1 스코어: 0.7456682614453047\n",
    "\n",
    "+ Logistic Regression_정확도: 0.8107747105966162\n",
    "+ Logistic Regression_F1 스코어: 0.8056804816074952\n",
    "\n",
    "+ LSVM_정확도: 0.784060552092609\n",
    "+ LSVM_F1 스코어: 0.7794624441868488\n",
    "\n",
    "+ Decision Tree_정확도: 0.6202137132680321\n",
    "+ Decision Tree_F1 스코어: 0.5776398779280149\n",
    "\n",
    "+ Random Forest_정확도: 0.7582368655387355\n",
    "+ Random Forest_F1 스코어: 0.7343814459663163\n",
    "\n",
    "+ GradientBoosting_정확도: 0.7662511130899377\n",
    "+ GradientBoosting_F1 스코어: 0.7622247724249729\n",
    "\n",
    "+ Voting_정확도: 0.8165627782724845\n",
    "+ Voting_F1 스코어: 0.8133719894789346"
   ]
  },
  {
   "cell_type": "markdown",
   "id": "ceb9d06a",
   "metadata": {},
   "source": [
    "<br><br>"
   ]
  },
  {
   "cell_type": "markdown",
   "id": "6af068ce",
   "metadata": {},
   "source": [
    "### 4. 딥러닝 모델과 비교해 보기\n",
    "<br>"
   ]
  },
  {
   "cell_type": "markdown",
   "id": "43893da9",
   "metadata": {},
   "source": [
    "#### RNN(LSTM) 모델로 학습하기\n",
    "<br>"
   ]
  },
  {
   "cell_type": "code",
   "execution_count": 158,
   "id": "3f80f35e",
   "metadata": {},
   "outputs": [],
   "source": [
    "# 20,000개의 단어 dataset 이용"
   ]
  },
  {
   "cell_type": "code",
   "execution_count": 159,
   "id": "5ceaeb84",
   "metadata": {},
   "outputs": [],
   "source": [
    "(x_train_20k, y_train_20k), (x_test_20k, y_test_20k) = reuters.load_data(num_words=20000, test_split=0.2)"
   ]
  },
  {
   "cell_type": "markdown",
   "id": "6a2dcb67",
   "metadata": {},
   "source": [
    "<br>"
   ]
  },
  {
   "cell_type": "code",
   "execution_count": 160,
   "id": "0401c42b",
   "metadata": {},
   "outputs": [],
   "source": [
    "word_index = reuters.get_word_index(path=\"reuters_word_index.json\")"
   ]
  },
  {
   "cell_type": "code",
   "execution_count": 161,
   "id": "7787b2fd",
   "metadata": {},
   "outputs": [],
   "source": [
    "index_to_word = {index + 3 : word for word, index in word_index.items()}"
   ]
  },
  {
   "cell_type": "code",
   "execution_count": 162,
   "id": "04a750b1",
   "metadata": {},
   "outputs": [],
   "source": [
    "for index, token in enumerate((\"<pad>\", \"<sos>\", \"<unk>\")):\n",
    "    index_to_word[index]=token"
   ]
  },
  {
   "cell_type": "markdown",
   "id": "9e1bc687",
   "metadata": {},
   "source": [
    "<br>"
   ]
  },
  {
   "cell_type": "code",
   "execution_count": 163,
   "id": "ee0ddecb",
   "metadata": {},
   "outputs": [
    {
     "name": "stdout",
     "output_type": "stream",
     "text": [
      "<sos> generale de banque sa lt genb br and lt heller overseas corp of chicago have each taken 50 pct stakes in factoring company sa belgo factors generale de banque said in a statement it gave no financial details of the transaction sa belgo <unk> turnover in 1986 was 17 5 billion belgian francs reuter 3\n"
     ]
    }
   ],
   "source": [
    "print(' '.join([index_to_word[index] for index in x_train_20k[1]]))"
   ]
  },
  {
   "cell_type": "markdown",
   "id": "01fc5697",
   "metadata": {},
   "source": [
    "<br>"
   ]
  },
  {
   "cell_type": "code",
   "execution_count": 164,
   "id": "71c58b23",
   "metadata": {},
   "outputs": [],
   "source": [
    "import tensorflow as tf\n",
    "from tensorflow import keras\n",
    "from tensorflow.keras.callbacks import EarlyStopping"
   ]
  },
  {
   "cell_type": "code",
   "execution_count": 167,
   "id": "06d8a486",
   "metadata": {},
   "outputs": [],
   "source": [
    "vocab_size = len(index_to_word) + 1\n",
    "word_vector_dim = 512\n",
    "maxlen = 200\n",
    "num_classes = max(y_train_20k) + 1"
   ]
  },
  {
   "cell_type": "code",
   "execution_count": 165,
   "id": "4a262542",
   "metadata": {},
   "outputs": [],
   "source": [
    "def pad_sequences(sequences, maxlen):\n",
    "    return keras.preprocessing.sequence.pad_sequences(sequences, padding='post', maxlen=maxlen)"
   ]
  },
  {
   "cell_type": "markdown",
   "id": "f2c4a1e2",
   "metadata": {},
   "source": [
    "<br>"
   ]
  },
  {
   "cell_type": "markdown",
   "id": "eb13e685",
   "metadata": {},
   "source": [
    "##### model 1\n",
    "<br>"
   ]
  },
  {
   "cell_type": "code",
   "execution_count": 166,
   "id": "2fd8d403",
   "metadata": {},
   "outputs": [],
   "source": [
    "def build_lstm_model(vocab_size, word_vector_dim, maxlen, num_classes):\n",
    "    model = keras.Sequential([\n",
    "        keras.layers.Embedding(vocab_size, word_vector_dim, input_shape=(maxlen,)),\n",
    "        keras.layers.LSTM(32, dropout=0.2, recurrent_dropout=0.2),\n",
    "        keras.layers.Dense(128, activation='relu'),\n",
    "        keras.layers.Dense(num_classes, activation='softmax')\n",
    "    ])\n",
    "    return model"
   ]
  },
  {
   "cell_type": "markdown",
   "id": "fec84332",
   "metadata": {},
   "source": [
    "<br>"
   ]
  },
  {
   "cell_type": "code",
   "execution_count": 168,
   "id": "c005f646",
   "metadata": {},
   "outputs": [],
   "source": [
    "# 시퀀스 패딩처리\n",
    "x_train_pad = pad_sequences(x_train_20k, maxlen)\n",
    "x_test_pad = pad_sequences(x_test_20k, maxlen)"
   ]
  },
  {
   "cell_type": "code",
   "execution_count": 106,
   "id": "a403762e",
   "metadata": {},
   "outputs": [
    {
     "name": "stdout",
     "output_type": "stream",
     "text": [
      "WARNING:tensorflow:Layer lstm will not use cuDNN kernels since it doesn't meet the criteria. It will use a generic GPU kernel as fallback when running on GPU.\n",
      "Model: \"sequential\"\n",
      "_________________________________________________________________\n",
      "Layer (type)                 Output Shape              Param #   \n",
      "=================================================================\n",
      "embedding (Embedding)        (None, 200, 512)          15863296  \n",
      "_________________________________________________________________\n",
      "lstm (LSTM)                  (None, 32)                69760     \n",
      "_________________________________________________________________\n",
      "dense (Dense)                (None, 128)               4224      \n",
      "_________________________________________________________________\n",
      "dense_1 (Dense)              (None, 46)                5934      \n",
      "=================================================================\n",
      "Total params: 15,943,214\n",
      "Trainable params: 15,943,214\n",
      "Non-trainable params: 0\n",
      "_________________________________________________________________\n"
     ]
    }
   ],
   "source": [
    "# 모델 구현\n",
    "model_LSTM = build_lstm_model(vocab_size, word_vector_dim, maxlen, num_classes)\n",
    "model_LSTM.summary()"
   ]
  },
  {
   "cell_type": "markdown",
   "id": "205dd009",
   "metadata": {},
   "source": [
    "<br>"
   ]
  },
  {
   "cell_type": "code",
   "execution_count": 107,
   "id": "44a9c524",
   "metadata": {},
   "outputs": [],
   "source": [
    "# 모델 컴파일\n",
    "model_LSTM.compile(optimizer='adam', loss='sparse_categorical_crossentropy', metrics=['accuracy'])"
   ]
  },
  {
   "cell_type": "code",
   "execution_count": 110,
   "id": "e1837217",
   "metadata": {},
   "outputs": [],
   "source": [
    "# Early stopping callback\n",
    "early_stopping = EarlyStopping(monitor='val_loss', patience=3, restore_best_weights=True)"
   ]
  },
  {
   "cell_type": "code",
   "execution_count": 169,
   "id": "54e110b2",
   "metadata": {},
   "outputs": [
    {
     "name": "stdout",
     "output_type": "stream",
     "text": [
      "Epoch 1/20\n",
      "57/57 [==============================] - 98s 2s/step - loss: 0.3163 - accuracy: 0.9236 - val_loss: 1.3722 - val_accuracy: 0.7086\n",
      "Epoch 2/20\n",
      "57/57 [==============================] - 97s 2s/step - loss: 0.2679 - accuracy: 0.9329 - val_loss: 1.4424 - val_accuracy: 0.7119\n",
      "Epoch 3/20\n",
      "57/57 [==============================] - 97s 2s/step - loss: 0.2389 - accuracy: 0.9395 - val_loss: 1.5472 - val_accuracy: 0.7063\n",
      "Epoch 4/20\n",
      "57/57 [==============================] - 98s 2s/step - loss: 0.2255 - accuracy: 0.9422 - val_loss: 1.6260 - val_accuracy: 0.6986\n"
     ]
    }
   ],
   "source": [
    "# 모델 훈련\n",
    "history = model_LSTM.fit(x_train_pad, y_train_20k, \n",
    "                         batch_size=128, \n",
    "                         epochs=20, \n",
    "                         validation_split=0.2,\n",
    "                         callbacks=[early_stopping])"
   ]
  },
  {
   "cell_type": "markdown",
   "id": "747ffb7a",
   "metadata": {},
   "source": [
    "<br>"
   ]
  },
  {
   "cell_type": "code",
   "execution_count": 201,
   "id": "3449f620",
   "metadata": {},
   "outputs": [],
   "source": [
    "# 훈련 결과 시각화"
   ]
  },
  {
   "cell_type": "code",
   "execution_count": 170,
   "id": "dbc63443",
   "metadata": {},
   "outputs": [],
   "source": [
    "import matplotlib.pyplot as plt"
   ]
  },
  {
   "cell_type": "code",
   "execution_count": 171,
   "id": "15d7aad3",
   "metadata": {},
   "outputs": [],
   "source": [
    "# Get training and validation loss histories\n",
    "training_loss = history.history['loss']\n",
    "validation_loss = history.history['val_loss']"
   ]
  },
  {
   "cell_type": "code",
   "execution_count": 172,
   "id": "465f60e2",
   "metadata": {},
   "outputs": [],
   "source": [
    "# Get training and validation accuracy histories\n",
    "training_accuracy = history.history['accuracy']\n",
    "validation_accuracy = history.history['val_accuracy']"
   ]
  },
  {
   "cell_type": "code",
   "execution_count": 173,
   "id": "877861de",
   "metadata": {},
   "outputs": [],
   "source": [
    "# Create count of the number of epochs\n",
    "epoch_count = range(1, len(training_loss) + 1)"
   ]
  },
  {
   "cell_type": "code",
   "execution_count": 174,
   "id": "1912c8f0",
   "metadata": {},
   "outputs": [
    {
     "data": {
      "image/png": "[encoded data removed]",
      "text/plain": [
       "<Figure size 864x432 with 2 Axes>"
      ]
     },
     "metadata": {
      "needs_background": "light"
     },
     "output_type": "display_data"
    }
   ],
   "source": [
    "# Plot training and validation loss\n",
    "plt.figure(figsize=(12, 6))\n",
    "plt.subplot(1, 2, 1)\n",
    "plt.plot(epoch_count, training_loss, 'r--')\n",
    "plt.plot(epoch_count, validation_loss, 'b-')\n",
    "plt.legend(['Training Loss', 'Validation Loss'])\n",
    "plt.xlabel('Epoch')\n",
    "plt.ylabel('Loss')\n",
    "plt.title('Training and Validation Loss')\n",
    "\n",
    "# Plot training and validation accuracy\n",
    "plt.subplot(1, 2, 2)\n",
    "plt.plot(epoch_count, training_accuracy, 'r--')\n",
    "plt.plot(epoch_count, validation_accuracy, 'b-')\n",
    "plt.legend(['Training Accuracy', 'Validation Accuracy'])\n",
    "plt.xlabel('Epoch')\n",
    "plt.ylabel('Accuracy')\n",
    "plt.title('Training and Validation Accuracy')\n",
    "\n",
    "plt.show()"
   ]
  },
  {
   "cell_type": "markdown",
   "id": "489665ed",
   "metadata": {},
   "source": [
    "<br><br>"
   ]
  },
  {
   "cell_type": "markdown",
   "id": "c601ee89",
   "metadata": {},
   "source": [
    "##### model 2\n",
    "<br>"
   ]
  },
  {
   "cell_type": "code",
   "execution_count": 175,
   "id": "07c4a047",
   "metadata": {},
   "outputs": [],
   "source": [
    "from tensorflow.keras.layers import Bidirectional, BatchNormalization, Dropout\n",
    "\n",
    "def build_lstm_model(vocab_size, word_vector_dim, maxlen, num_classes):\n",
    "    model = keras.Sequential([\n",
    "        keras.layers.Embedding(vocab_size, word_vector_dim, input_shape=(maxlen,)),\n",
    "        Bidirectional(keras.layers.LSTM(64, dropout=0.3, recurrent_dropout=0.3)), # Bidirectional LSTM with 64 cells\n",
    "        keras.layers.Dense(128, activation='relu'),\n",
    "        BatchNormalization(),\n",
    "        Dropout(0.5), # Dropout layer with 50% dropout rate\n",
    "        keras.layers.Dense(64, activation='relu'), # Additional Dense layer\n",
    "        keras.layers.Dense(num_classes, activation='softmax')\n",
    "    ])\n",
    "    return model"
   ]
  },
  {
   "cell_type": "code",
   "execution_count": 176,
   "id": "417fa469",
   "metadata": {},
   "outputs": [
    {
     "name": "stdout",
     "output_type": "stream",
     "text": [
      "WARNING:tensorflow:Layer lstm_3 will not use cuDNN kernels since it doesn't meet the criteria. It will use a generic GPU kernel as fallback when running on GPU.\n",
      "WARNING:tensorflow:Layer lstm_3 will not use cuDNN kernels since it doesn't meet the criteria. It will use a generic GPU kernel as fallback when running on GPU.\n",
      "WARNING:tensorflow:Layer lstm_3 will not use cuDNN kernels since it doesn't meet the criteria. It will use a generic GPU kernel as fallback when running on GPU.\n",
      "Model: \"sequential_3\"\n",
      "_________________________________________________________________\n",
      "Layer (type)                 Output Shape              Param #   \n",
      "=================================================================\n",
      "embedding_3 (Embedding)      (None, 200, 512)          15863296  \n",
      "_________________________________________________________________\n",
      "bidirectional_2 (Bidirection (None, 128)               295424    \n",
      "_________________________________________________________________\n",
      "dense_8 (Dense)              (None, 128)               16512     \n",
      "_________________________________________________________________\n",
      "batch_normalization_2 (Batch (None, 128)               512       \n",
      "_________________________________________________________________\n",
      "dropout_2 (Dropout)          (None, 128)               0         \n",
      "_________________________________________________________________\n",
      "dense_9 (Dense)              (None, 64)                8256      \n",
      "_________________________________________________________________\n",
      "dense_10 (Dense)             (None, 46)                2990      \n",
      "=================================================================\n",
      "Total params: 16,186,990\n",
      "Trainable params: 16,186,734\n",
      "Non-trainable params: 256\n",
      "_________________________________________________________________\n"
     ]
    }
   ],
   "source": [
    "# 모델 구현\n",
    "model_LSTM = build_lstm_model(vocab_size, word_vector_dim, maxlen, num_classes)\n",
    "model_LSTM.summary()"
   ]
  },
  {
   "cell_type": "markdown",
   "id": "a299ef51",
   "metadata": {},
   "source": [
    "<br>"
   ]
  },
  {
   "cell_type": "code",
   "execution_count": 177,
   "id": "b19dd63f",
   "metadata": {},
   "outputs": [],
   "source": [
    "# 모델 컴파일\n",
    "model_LSTM.compile(optimizer='adam', loss='sparse_categorical_crossentropy', metrics=['accuracy'])"
   ]
  },
  {
   "cell_type": "code",
   "execution_count": 178,
   "id": "d4e41a9b",
   "metadata": {},
   "outputs": [],
   "source": [
    "# Early stopping callback\n",
    "early_stopping = EarlyStopping(monitor='val_loss', patience=3, restore_best_weights=True)"
   ]
  },
  {
   "cell_type": "code",
   "execution_count": 179,
   "id": "9fd18895",
   "metadata": {},
   "outputs": [
    {
     "name": "stdout",
     "output_type": "stream",
     "text": [
      "Epoch 1/20\n",
      "57/57 [==============================] - 105s 2s/step - loss: 2.3207 - accuracy: 0.4600 - val_loss: 2.8632 - val_accuracy: 0.5364\n",
      "Epoch 2/20\n",
      "57/57 [==============================] - 99s 2s/step - loss: 1.5022 - accuracy: 0.6296 - val_loss: 2.8857 - val_accuracy: 0.5910\n",
      "Epoch 3/20\n",
      "57/57 [==============================] - 100s 2s/step - loss: 1.1863 - accuracy: 0.7047 - val_loss: 2.3389 - val_accuracy: 0.6672\n",
      "Epoch 4/20\n",
      "57/57 [==============================] - 99s 2s/step - loss: 0.9006 - accuracy: 0.7772 - val_loss: 1.8461 - val_accuracy: 0.6644\n",
      "Epoch 5/20\n",
      "57/57 [==============================] - 99s 2s/step - loss: 0.7063 - accuracy: 0.8249 - val_loss: 1.5476 - val_accuracy: 0.7134\n",
      "Epoch 6/20\n",
      "57/57 [==============================] - 99s 2s/step - loss: 0.5477 - accuracy: 0.8610 - val_loss: 1.3504 - val_accuracy: 0.7340\n",
      "Epoch 7/20\n",
      "57/57 [==============================] - 100s 2s/step - loss: 0.4311 - accuracy: 0.8946 - val_loss: 1.2177 - val_accuracy: 0.7329\n",
      "Epoch 8/20\n",
      "57/57 [==============================] - 99s 2s/step - loss: 0.3509 - accuracy: 0.9113 - val_loss: 1.2267 - val_accuracy: 0.7307\n",
      "Epoch 9/20\n",
      "57/57 [==============================] - 100s 2s/step - loss: 0.2932 - accuracy: 0.9253 - val_loss: 1.2628 - val_accuracy: 0.7295\n",
      "Epoch 10/20\n",
      "57/57 [==============================] - 99s 2s/step - loss: 0.2512 - accuracy: 0.9393 - val_loss: 1.3065 - val_accuracy: 0.7401\n"
     ]
    }
   ],
   "source": [
    "# 모델 훈련\n",
    "history = model_LSTM.fit(x_train_pad, y_train_20k, \n",
    "                         batch_size=128, \n",
    "                         epochs=20, \n",
    "                         validation_split=0.2,\n",
    "                         callbacks=[early_stopping])"
   ]
  },
  {
   "cell_type": "markdown",
   "id": "b1afd690",
   "metadata": {},
   "source": [
    "<br>"
   ]
  },
  {
   "cell_type": "code",
   "execution_count": 196,
   "id": "59f214fd",
   "metadata": {},
   "outputs": [],
   "source": [
    "# 훈련 결과 시각화"
   ]
  },
  {
   "cell_type": "code",
   "execution_count": 180,
   "id": "5701f6fc",
   "metadata": {},
   "outputs": [
    {
     "data": {
      "image/png": "[encoded data removed]",
      "text/plain": [
       "<Figure size 864x432 with 2 Axes>"
      ]
     },
     "metadata": {
      "needs_background": "light"
     },
     "output_type": "display_data"
    }
   ],
   "source": [
    "# Get training and validation loss histories\n",
    "training_loss = history.history['loss']\n",
    "validation_loss = history.history['val_loss']\n",
    "\n",
    "# Get training and validation accuracy histories\n",
    "training_accuracy = history.history['accuracy']\n",
    "validation_accuracy = history.history['val_accuracy']\n",
    "\n",
    "# Create count of the number of epochs\n",
    "epoch_count = range(1, len(training_loss) + 1)\n",
    "\n",
    "# Plot training and validation loss\n",
    "plt.figure(figsize=(12, 6))\n",
    "plt.subplot(1, 2, 1)\n",
    "plt.plot(epoch_count, training_loss, 'r--')\n",
    "plt.plot(epoch_count, validation_loss, 'b-')\n",
    "plt.legend(['Training Loss', 'Validation Loss'])\n",
    "plt.xlabel('Epoch')\n",
    "plt.ylabel('Loss')\n",
    "plt.title('Training and Validation Loss')\n",
    "\n",
    "# Plot training and validation accuracy\n",
    "plt.subplot(1, 2, 2)\n",
    "plt.plot(epoch_count, training_accuracy, 'r--')\n",
    "plt.plot(epoch_count, validation_accuracy, 'b-')\n",
    "plt.legend(['Training Accuracy', 'Validation Accuracy'])\n",
    "plt.xlabel('Epoch')\n",
    "plt.ylabel('Accuracy')\n",
    "plt.title('Training and Validation Accuracy')\n",
    "\n",
    "plt.show()"
   ]
  },
  {
   "cell_type": "markdown",
   "id": "605e6875",
   "metadata": {},
   "source": [
    "<br>"
   ]
  },
  {
   "cell_type": "code",
   "execution_count": 197,
   "id": "52f1d1f8",
   "metadata": {},
   "outputs": [],
   "source": [
    "# 모델 평가"
   ]
  },
  {
   "cell_type": "code",
   "execution_count": 181,
   "id": "76b812ac",
   "metadata": {},
   "outputs": [
    {
     "name": "stdout",
     "output_type": "stream",
     "text": [
      "71/71 [==============================] - 8s 108ms/step - loss: 1.2657 - accuracy: 0.7195\n",
      "Test Loss: 1.2657110691070557\n",
      "Test Accuracy: 0.7195013165473938\n"
     ]
    }
   ],
   "source": [
    "test_loss, test_accuracy = model_LSTM.evaluate(x_test_pad, y_test_20k)\n",
    "print(f\"Test Loss: {test_loss}\")\n",
    "print(f\"Test Accuracy: {test_accuracy}\")"
   ]
  },
  {
   "cell_type": "markdown",
   "id": "14fbc8ab",
   "metadata": {},
   "source": [
    "<br>"
   ]
  },
  {
   "cell_type": "code",
   "execution_count": 198,
   "id": "d846c289",
   "metadata": {},
   "outputs": [],
   "source": [
    "# 모델 예측"
   ]
  },
  {
   "cell_type": "code",
   "execution_count": 182,
   "id": "a6a7fafa",
   "metadata": {},
   "outputs": [
    {
     "name": "stdout",
     "output_type": "stream",
     "text": [
      "Predicted class: 4, Actual class: 3\n",
      "Predicted class: 19, Actual class: 10\n",
      "Predicted class: 24, Actual class: 1\n",
      "Predicted class: 16, Actual class: 4\n",
      "Predicted class: 13, Actual class: 4\n"
     ]
    }
   ],
   "source": [
    "# Predict the classes for the test data\n",
    "predictions = model_LSTM.predict(x_test_pad)\n",
    "\n",
    "# Select the class with the highest probability\n",
    "predicted_classes = np.argmax(predictions, axis=1)\n",
    "\n",
    "# If you want to see some examples\n",
    "for i in range(5):\n",
    "    print(f\"Predicted class: {predicted_classes[i]}, Actual class: {y_test_20k[i]}\")"
   ]
  },
  {
   "cell_type": "markdown",
   "id": "6179df04",
   "metadata": {},
   "source": [
    "<br>"
   ]
  },
  {
   "cell_type": "code",
   "execution_count": 200,
   "id": "4d19a58a",
   "metadata": {},
   "outputs": [],
   "source": [
    "# F1 Score 계산"
   ]
  },
  {
   "cell_type": "code",
   "execution_count": 183,
   "id": "00f0ed79",
   "metadata": {},
   "outputs": [
    {
     "name": "stdout",
     "output_type": "stream",
     "text": [
      "F1 Score: 0.7057660897478802\n"
     ]
    }
   ],
   "source": [
    "from sklearn.metrics import f1_score\n",
    "\n",
    "# Compute the F1 score\n",
    "f1 = f1_score(y_test_20k, predicted_classes, average='weighted')\n",
    "print(f\"F1 Score: {f1}\")"
   ]
  },
  {
   "cell_type": "code",
   "execution_count": 184,
   "id": "4508948c",
   "metadata": {},
   "outputs": [
    {
     "name": "stdout",
     "output_type": "stream",
     "text": [
      "              precision    recall  f1-score   support\n",
      "\n",
      "           0       0.80      0.33      0.47        12\n",
      "           1       0.61      0.75      0.67       105\n",
      "           2       0.31      0.40      0.35        20\n",
      "           3       0.89      0.91      0.90       813\n",
      "           4       0.81      0.84      0.82       474\n",
      "           5       0.00      0.00      0.00         5\n",
      "           6       1.00      0.71      0.83        14\n",
      "           7       0.00      0.00      0.00         3\n",
      "           8       0.66      0.55      0.60        38\n",
      "           9       0.47      0.64      0.54        25\n",
      "          10       0.69      0.67      0.68        30\n",
      "          11       0.55      0.49      0.52        83\n",
      "          12       0.29      0.15      0.20        13\n",
      "          13       0.33      0.27      0.30        37\n",
      "          14       0.00      0.00      0.00         2\n",
      "          15       1.00      0.11      0.20         9\n",
      "          16       0.53      0.71      0.60        99\n",
      "          17       0.11      0.08      0.10        12\n",
      "          18       0.55      0.55      0.55        20\n",
      "          19       0.53      0.71      0.61       133\n",
      "          20       0.53      0.43      0.47        70\n",
      "          21       0.56      0.52      0.54        27\n",
      "          22       0.00      0.00      0.00         7\n",
      "          23       0.17      0.08      0.11        12\n",
      "          24       0.19      0.26      0.22        19\n",
      "          25       0.69      0.29      0.41        31\n",
      "          26       1.00      0.25      0.40         8\n",
      "          27       0.00      0.00      0.00         4\n",
      "          28       0.12      0.30      0.17        10\n",
      "          29       0.50      0.25      0.33         4\n",
      "          30       0.43      0.50      0.46        12\n",
      "          31       0.80      0.31      0.44        13\n",
      "          32       0.67      0.20      0.31        10\n",
      "          33       0.00      0.00      0.00         5\n",
      "          34       0.50      0.57      0.53         7\n",
      "          35       0.00      0.00      0.00         6\n",
      "          36       0.33      0.45      0.38        11\n",
      "          37       0.00      0.00      0.00         2\n",
      "          38       0.00      0.00      0.00         3\n",
      "          39       0.00      0.00      0.00         5\n",
      "          40       0.00      0.00      0.00        10\n",
      "          41       0.00      0.00      0.00         8\n",
      "          42       0.00      0.00      0.00         3\n",
      "          43       0.00      0.00      0.00         6\n",
      "          44       1.00      0.80      0.89         5\n",
      "          45       0.00      0.00      0.00         1\n",
      "\n",
      "    accuracy                           0.72      2246\n",
      "   macro avg       0.38      0.31      0.32      2246\n",
      "weighted avg       0.71      0.72      0.71      2246\n",
      "\n"
     ]
    },
    {
     "name": "stderr",
     "output_type": "stream",
     "text": [
      "/opt/conda/lib/python3.9/site-packages/sklearn/metrics/_classification.py:1308: UndefinedMetricWarning: Precision and F-score are ill-defined and being set to 0.0 in labels with no predicted samples. Use `zero_division` parameter to control this behavior.\n",
      "  _warn_prf(average, modifier, msg_start, len(result))\n",
      "/opt/conda/lib/python3.9/site-packages/sklearn/metrics/_classification.py:1308: UndefinedMetricWarning: Precision and F-score are ill-defined and being set to 0.0 in labels with no predicted samples. Use `zero_division` parameter to control this behavior.\n",
      "  _warn_prf(average, modifier, msg_start, len(result))\n",
      "/opt/conda/lib/python3.9/site-packages/sklearn/metrics/_classification.py:1308: UndefinedMetricWarning: Precision and F-score are ill-defined and being set to 0.0 in labels with no predicted samples. Use `zero_division` parameter to control this behavior.\n",
      "  _warn_prf(average, modifier, msg_start, len(result))\n"
     ]
    }
   ],
   "source": [
    "from sklearn.metrics import classification_report\n",
    "\n",
    "# 모델을 사용하여 테스트 데이터에 대한 예측을 수행\n",
    "y_pred = model_LSTM.predict(x_test_pad)\n",
    "predicted_classes = np.argmax(y_pred, axis=1)\n",
    "\n",
    "# classification_report를 사용하여 결과를 출력\n",
    "report = classification_report(y_test_20k, predicted_classes)\n",
    "print(report)"
   ]
  },
  {
   "cell_type": "markdown",
   "id": "c56d8280",
   "metadata": {},
   "source": [
    "<br>"
   ]
  },
  {
   "cell_type": "code",
   "execution_count": 199,
   "id": "f8796bee",
   "metadata": {},
   "outputs": [],
   "source": [
    "# Confusion Matrix 계산 및 시각화"
   ]
  },
  {
   "cell_type": "code",
   "execution_count": 185,
   "id": "00cd66ff",
   "metadata": {},
   "outputs": [
    {
     "data": {
      "image/png": "[encoded data removed]",
      "text/plain": [
       "<Figure size 720x576 with 2 Axes>"
      ]
     },
     "metadata": {
      "needs_background": "light"
     },
     "output_type": "display_data"
    }
   ],
   "source": [
    "from sklearn.metrics import confusion_matrix\n",
    "import seaborn as sns\n",
    "import matplotlib.pyplot as plt\n",
    "\n",
    "# Compute the confusion matrix\n",
    "conf_matrix = confusion_matrix(y_test_20k, predicted_classes)\n",
    "\n",
    "# Plot the confusion matrix\n",
    "plt.figure(figsize=(10,8))\n",
    "sns.heatmap(conf_matrix, annot=True, fmt='d', cmap='Blues')\n",
    "plt.xlabel('Predicted')\n",
    "plt.ylabel('Actual')\n",
    "plt.title('Confusion Matrix')\n",
    "plt.show()"
   ]
  },
  {
   "cell_type": "markdown",
   "id": "44a824cb",
   "metadata": {},
   "source": [
    "<br><br>"
   ]
  },
  {
   "cell_type": "markdown",
   "id": "f8b4cd05",
   "metadata": {},
   "source": [
    "##### model 3\n",
    "<br>"
   ]
  },
  {
   "cell_type": "code",
   "execution_count": 186,
   "id": "501eabbb",
   "metadata": {},
   "outputs": [],
   "source": [
    "from tensorflow.keras.layers import Bidirectional, BatchNormalization, Dropout\n",
    "from tensorflow.keras.regularizers import l2\n",
    "\n",
    "def build_lstm_model(vocab_size, word_vector_dim, maxlen, num_classes):\n",
    "    model = keras.Sequential([\n",
    "        keras.layers.Embedding(vocab_size, word_vector_dim, input_shape=(maxlen,)),\n",
    "        Bidirectional(keras.layers.LSTM(128, dropout=0.3, recurrent_dropout=0.3, kernel_regularizer=l2(0.0005))), # Increased LSTM units and reduced regularization\n",
    "        keras.layers.Dense(128, activation='relu'),\n",
    "        BatchNormalization(),\n",
    "        Dropout(0.4), # Reduced Dropout rate\n",
    "        keras.layers.Dense(64, activation='relu'),\n",
    "        keras.layers.Dense(num_classes, activation='softmax')\n",
    "    ])\n",
    "    return model"
   ]
  },
  {
   "cell_type": "code",
   "execution_count": 187,
   "id": "7317b6bb",
   "metadata": {},
   "outputs": [],
   "source": [
    "# 모델 컴파일\n",
    "model_LSTM.compile(optimizer='adam', loss='sparse_categorical_crossentropy', metrics=['accuracy'])"
   ]
  },
  {
   "cell_type": "code",
   "execution_count": 188,
   "id": "7e3917c3",
   "metadata": {},
   "outputs": [],
   "source": [
    "# Early stopping callback\n",
    "early_stopping = EarlyStopping(monitor='val_loss', patience=3, restore_best_weights=True)"
   ]
  },
  {
   "cell_type": "code",
   "execution_count": 189,
   "id": "d60d5049",
   "metadata": {},
   "outputs": [
    {
     "name": "stdout",
     "output_type": "stream",
     "text": [
      "Epoch 1/20\n",
      "57/57 [==============================] - 104s 2s/step - loss: 0.3705 - accuracy: 0.9055 - val_loss: 1.1619 - val_accuracy: 0.7479\n",
      "Epoch 2/20\n",
      "57/57 [==============================] - 99s 2s/step - loss: 0.2845 - accuracy: 0.9241 - val_loss: 1.2547 - val_accuracy: 0.7474\n",
      "Epoch 3/20\n",
      "57/57 [==============================] - 98s 2s/step - loss: 0.2417 - accuracy: 0.9382 - val_loss: 1.3611 - val_accuracy: 0.7379\n",
      "Epoch 4/20\n",
      "57/57 [==============================] - 98s 2s/step - loss: 0.2279 - accuracy: 0.9389 - val_loss: 1.4928 - val_accuracy: 0.7334\n"
     ]
    }
   ],
   "source": [
    "# 모델 훈련\n",
    "history = model_LSTM.fit(x_train_pad, y_train_20k, \n",
    "                         batch_size=128, \n",
    "                         epochs=20, \n",
    "                         validation_split=0.2,\n",
    "                         callbacks=[early_stopping])"
   ]
  },
  {
   "cell_type": "markdown",
   "id": "39d84838",
   "metadata": {},
   "source": [
    "<br>"
   ]
  },
  {
   "cell_type": "code",
   "execution_count": 190,
   "id": "60314fda",
   "metadata": {},
   "outputs": [
    {
     "data": {
      "image/png": "[encoded data removed]",
      "text/plain": [
       "<Figure size 864x432 with 2 Axes>"
      ]
     },
     "metadata": {
      "needs_background": "light"
     },
     "output_type": "display_data"
    }
   ],
   "source": [
    "# Get training and validation loss histories\n",
    "training_loss = history.history['loss']\n",
    "validation_loss = history.history['val_loss']\n",
    "\n",
    "# Get training and validation accuracy histories\n",
    "training_accuracy = history.history['accuracy']\n",
    "validation_accuracy = history.history['val_accuracy']\n",
    "\n",
    "# Create count of the number of epochs\n",
    "epoch_count = range(1, len(training_loss) + 1)\n",
    "\n",
    "# Plot training and validation loss\n",
    "plt.figure(figsize=(12, 6))\n",
    "plt.subplot(1, 2, 1)\n",
    "plt.plot(epoch_count, training_loss, 'r--')\n",
    "plt.plot(epoch_count, validation_loss, 'b-')\n",
    "plt.legend(['Training Loss', 'Validation Loss'])\n",
    "plt.xlabel('Epoch')\n",
    "plt.ylabel('Loss')\n",
    "plt.title('Training and Validation Loss')\n",
    "\n",
    "# Plot training and validation accuracy\n",
    "plt.subplot(1, 2, 2)\n",
    "plt.plot(epoch_count, training_accuracy, 'r--')\n",
    "plt.plot(epoch_count, validation_accuracy, 'b-')\n",
    "plt.legend(['Training Accuracy', 'Validation Accuracy'])\n",
    "plt.xlabel('Epoch')\n",
    "plt.ylabel('Accuracy')\n",
    "plt.title('Training and Validation Accuracy')\n",
    "\n",
    "plt.show()"
   ]
  },
  {
   "cell_type": "markdown",
   "id": "a4af1f96",
   "metadata": {},
   "source": [
    "<br>"
   ]
  },
  {
   "cell_type": "code",
   "execution_count": 191,
   "id": "1b109ebd",
   "metadata": {},
   "outputs": [
    {
     "name": "stdout",
     "output_type": "stream",
     "text": [
      "71/71 [==============================] - 8s 108ms/step - loss: 1.2369 - accuracy: 0.7208\n",
      "Test Loss: 1.2369310855865479\n",
      "Test Accuracy: 0.7208370566368103\n"
     ]
    }
   ],
   "source": [
    "# Evaluate the model on the test data\n",
    "test_loss, test_accuracy = model_LSTM.evaluate(x_test_pad, y_test_20k)\n",
    "print(f\"Test Loss: {test_loss}\")\n",
    "print(f\"Test Accuracy: {test_accuracy}\")"
   ]
  },
  {
   "cell_type": "markdown",
   "id": "f722fee7",
   "metadata": {},
   "source": [
    "<br>"
   ]
  },
  {
   "cell_type": "code",
   "execution_count": 192,
   "id": "4df4e3f9",
   "metadata": {},
   "outputs": [
    {
     "name": "stdout",
     "output_type": "stream",
     "text": [
      "Predicted class: 3, Actual class: 3\n",
      "Predicted class: 19, Actual class: 10\n",
      "Predicted class: 1, Actual class: 1\n",
      "Predicted class: 16, Actual class: 4\n",
      "Predicted class: 13, Actual class: 4\n"
     ]
    }
   ],
   "source": [
    "# Predict the classes for the test data\n",
    "predictions = model_LSTM.predict(x_test_pad)\n",
    "\n",
    "# Select the class with the highest probability\n",
    "predicted_classes = np.argmax(predictions, axis=1)\n",
    "\n",
    "# If you want to see some examples\n",
    "for i in range(5):\n",
    "    print(f\"Predicted class: {predicted_classes[i]}, Actual class: {y_test_20k[i]}\")"
   ]
  },
  {
   "cell_type": "markdown",
   "id": "bb991299",
   "metadata": {},
   "source": [
    "<br>"
   ]
  },
  {
   "cell_type": "code",
   "execution_count": 193,
   "id": "ae9b4cd5",
   "metadata": {},
   "outputs": [
    {
     "name": "stdout",
     "output_type": "stream",
     "text": [
      "F1 Score: 0.7091302976316546\n"
     ]
    }
   ],
   "source": [
    "from sklearn.metrics import f1_score\n",
    "\n",
    "# Compute the F1 score\n",
    "f1 = f1_score(y_test_20k, predicted_classes, average='weighted')\n",
    "print(f\"F1 Score: {f1}\")"
   ]
  },
  {
   "cell_type": "code",
   "execution_count": 194,
   "id": "5055e92c",
   "metadata": {},
   "outputs": [
    {
     "name": "stdout",
     "output_type": "stream",
     "text": [
      "              precision    recall  f1-score   support\n",
      "\n",
      "           0       0.57      0.33      0.42        12\n",
      "           1       0.63      0.72      0.68       105\n",
      "           2       0.62      0.40      0.48        20\n",
      "           3       0.91      0.91      0.91       813\n",
      "           4       0.79      0.84      0.81       474\n",
      "           5       0.00      0.00      0.00         5\n",
      "           6       1.00      0.71      0.83        14\n",
      "           7       0.00      0.00      0.00         3\n",
      "           8       0.59      0.61      0.60        38\n",
      "           9       0.82      0.56      0.67        25\n",
      "          10       0.78      0.70      0.74        30\n",
      "          11       0.49      0.60      0.54        83\n",
      "          12       0.33      0.08      0.12        13\n",
      "          13       0.31      0.43      0.36        37\n",
      "          14       0.00      0.00      0.00         2\n",
      "          15       0.25      0.11      0.15         9\n",
      "          16       0.48      0.72      0.57        99\n",
      "          17       0.00      0.00      0.00        12\n",
      "          18       0.53      0.50      0.51        20\n",
      "          19       0.47      0.66      0.55       133\n",
      "          20       0.46      0.33      0.38        70\n",
      "          21       0.54      0.52      0.53        27\n",
      "          22       0.00      0.00      0.00         7\n",
      "          23       0.00      0.00      0.00        12\n",
      "          24       0.47      0.37      0.41        19\n",
      "          25       0.79      0.35      0.49        31\n",
      "          26       1.00      0.12      0.22         8\n",
      "          27       0.00      0.00      0.00         4\n",
      "          28       0.33      0.30      0.32        10\n",
      "          29       0.50      0.25      0.33         4\n",
      "          30       0.67      0.50      0.57        12\n",
      "          31       0.80      0.31      0.44        13\n",
      "          32       0.50      0.20      0.29        10\n",
      "          33       1.00      0.60      0.75         5\n",
      "          34       0.67      0.29      0.40         7\n",
      "          35       1.00      0.17      0.29         6\n",
      "          36       0.30      0.27      0.29        11\n",
      "          37       0.50      0.50      0.50         2\n",
      "          38       0.00      0.00      0.00         3\n",
      "          39       0.00      0.00      0.00         5\n",
      "          40       0.00      0.00      0.00        10\n",
      "          41       0.33      0.12      0.18         8\n",
      "          42       0.00      0.00      0.00         3\n",
      "          43       0.67      0.33      0.44         6\n",
      "          44       1.00      0.80      0.89         5\n",
      "          45       0.00      0.00      0.00         1\n",
      "\n",
      "    accuracy                           0.72      2246\n",
      "   macro avg       0.46      0.33      0.36      2246\n",
      "weighted avg       0.72      0.72      0.71      2246\n",
      "\n"
     ]
    },
    {
     "name": "stderr",
     "output_type": "stream",
     "text": [
      "/opt/conda/lib/python3.9/site-packages/sklearn/metrics/_classification.py:1308: UndefinedMetricWarning: Precision and F-score are ill-defined and being set to 0.0 in labels with no predicted samples. Use `zero_division` parameter to control this behavior.\n",
      "  _warn_prf(average, modifier, msg_start, len(result))\n",
      "/opt/conda/lib/python3.9/site-packages/sklearn/metrics/_classification.py:1308: UndefinedMetricWarning: Precision and F-score are ill-defined and being set to 0.0 in labels with no predicted samples. Use `zero_division` parameter to control this behavior.\n",
      "  _warn_prf(average, modifier, msg_start, len(result))\n",
      "/opt/conda/lib/python3.9/site-packages/sklearn/metrics/_classification.py:1308: UndefinedMetricWarning: Precision and F-score are ill-defined and being set to 0.0 in labels with no predicted samples. Use `zero_division` parameter to control this behavior.\n",
      "  _warn_prf(average, modifier, msg_start, len(result))\n"
     ]
    }
   ],
   "source": [
    "from sklearn.metrics import classification_report\n",
    "\n",
    "# 모델을 사용하여 테스트 데이터에 대한 예측을 수행\n",
    "y_pred = model_LSTM.predict(x_test_pad)\n",
    "predicted_classes = np.argmax(y_pred, axis=1)\n",
    "\n",
    "# classification_report를 사용하여 결과를 출력\n",
    "report = classification_report(y_test_20k, predicted_classes)\n",
    "print(report)"
   ]
  },
  {
   "cell_type": "markdown",
   "id": "9f5c04c6",
   "metadata": {},
   "source": [
    "<br>"
   ]
  },
  {
   "cell_type": "code",
   "execution_count": 195,
   "id": "d1a4ae28",
   "metadata": {},
   "outputs": [
    {
     "data": {
      "image/png": "[encoded data removed]",
      "text/plain": [
       "<Figure size 720x576 with 2 Axes>"
      ]
     },
     "metadata": {
      "needs_background": "light"
     },
     "output_type": "display_data"
    }
   ],
   "source": [
    "from sklearn.metrics import confusion_matrix\n",
    "import seaborn as sns\n",
    "import matplotlib.pyplot as plt\n",
    "\n",
    "# Compute the confusion matrix\n",
    "conf_matrix = confusion_matrix(y_test_20k, predicted_classes)\n",
    "\n",
    "# Plot the confusion matrix\n",
    "plt.figure(figsize=(10,8))\n",
    "sns.heatmap(conf_matrix, annot=True, fmt='d', cmap='Blues')\n",
    "plt.xlabel('Predicted')\n",
    "plt.ylabel('Actual')\n",
    "plt.title('Confusion Matrix')\n",
    "plt.show()"
   ]
  },
  {
   "cell_type": "markdown",
   "id": "8f50ae94",
   "metadata": {},
   "source": [
    "<br><br>"
   ]
  },
  {
   "cell_type": "markdown",
   "id": "59ca4f25",
   "metadata": {},
   "source": [
    "## 6-2. 프로젝트 제출\n",
    "<br>"
   ]
  },
  {
   "cell_type": "markdown",
   "id": "a55a99b3",
   "metadata": {},
   "source": [
    "### 루브릭\n",
    "<br>"
   ]
  },
  {
   "cell_type": "markdown",
   "id": "27851e45",
   "metadata": {},
   "source": [
    "#### 평가문항과 상세기준\n",
    "<br>"
   ]
  },
  {
   "cell_type": "markdown",
   "id": "18cc307b",
   "metadata": {},
   "source": [
    "##### 1. 분류 모델의 accuracy가 기준 이상 높게 나왔는가?\n",
    "\n",
    "3가지 단어 개수에 대해 8가지 머신러닝 기법을 적용하여 그중 최적의 솔루션을 도출\n",
    "\n",
    "<br>"
   ]
  },
  {
   "cell_type": "markdown",
   "id": "ae309bdc",
   "metadata": {},
   "source": [
    "##### 2. 분류 모델의 F1 score가 기준 이상 높게 나왔는가?\n",
    "Vocabulary size에 따른 각 머신러닝 모델의 성능변화 추이를 살피고, 해당 머신러닝 알고리즘의 특성에 근거해 원인을 분석하였다.\n",
    "\n",
    "<br>"
   ]
  },
  {
   "cell_type": "markdown",
   "id": "0925126b",
   "metadata": {},
   "source": [
    "##### 3. 딥러닝 모델을 활용해 성능이 비교 및 확인되었는가?\n",
    "동일한 데이터셋과 전처리 조건으로 딥러닝 모델의 성능과 비교하여 결과에 따른 원인을 분석하였다."
   ]
  }
 ],
 "metadata": {
  "kernelspec": {
   "display_name": "Python 3 (ipykernel)",
   "language": "python",
   "name": "python3"
  },
  "language_info": {
   "codemirror_mode": {
    "name": "ipython",
    "version": 3
   },
   "file_extension": ".py",
   "mimetype": "text/x-python",
   "name": "python",
   "nbconvert_exporter": "python",
   "pygments_lexer": "ipython3",
   "version": "3.9.7"
  }
 },
 "nbformat": 4,
 "nbformat_minor": 5
}
